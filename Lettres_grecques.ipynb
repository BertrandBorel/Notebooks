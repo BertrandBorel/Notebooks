{
 "cells": [
  {
   "cell_type": "markdown",
   "id": "fbd67004",
   "metadata": {},
   "source": [
    "# <center> Lettres grecques en mathématiques </center>"
   ]
  },
  {
   "cell_type": "markdown",
   "id": "c965c3f8",
   "metadata": {},
   "source": [
    "| Majuscule | Minuscule | Nom |\n",
    "| :----|:---:| ---:|\n",
    "| Α | α |  Alpha |\n",
    "| Β | β |  Bêta |\n",
    "| Γ | γ |  Gamma |\n",
    "| Δ | δ |  Delta |\n",
    "| Ε | ε\t| Epsilon |\n",
    "| Ζ\t| ζ\t| Dzêta |\n",
    "| Η\t| η\t| Êta |\n",
    "| Θ\t| θ\t| Thêta |\n",
    "| Ι\t| ι\t| Iota |\n",
    "| Κ\t| κ\t| Kappa |\n",
    "| Λ\t| λ\t| Lambda |\n",
    "| Μ\t| μ\t| Mu |\n",
    "| Ν\t| ν\t| Nu |\n",
    "| Ξ\t| ξ\t| Xi |\n",
    "| Ο\t| ο\t| Omicron |\n",
    "| Π\t| π\t| Pi |\n",
    "| Ρ\t| ρ\t| Rhô |\n",
    "| Σ\t| σ/ς | Sigma |\n",
    "| Τ\t| τ\t| Tau |\n",
    "| Υ\t| υ\t| Upsilon |\n",
    "| Φ\t| φ\t| Phi |\n",
    "| Χ\t| χ\t| Xi |\n",
    "| Ψ | ψ\t| Psi |\n",
    "| Ω\t| ω\t| Oméga |"
   ]
  }
 ],
 "metadata": {
  "kernelspec": {
   "display_name": "Python 3 (ipykernel)",
   "language": "python",
   "name": "python3"
  },
  "language_info": {
   "codemirror_mode": {
    "name": "ipython",
    "version": 3
   },
   "file_extension": ".py",
   "mimetype": "text/x-python",
   "name": "python",
   "nbconvert_exporter": "python",
   "pygments_lexer": "ipython3",
   "version": "3.8.3"
  }
 },
 "nbformat": 4,
 "nbformat_minor": 5
}
