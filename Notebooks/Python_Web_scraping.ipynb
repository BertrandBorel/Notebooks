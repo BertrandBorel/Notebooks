{
 "cells": [
  {
   "cell_type": "markdown",
   "id": "b0586bef",
   "metadata": {},
   "source": [
    "# <center> Web scraping avec Python </center>\n",
    "\n",
    "----\n",
    "\n",
    "\n",
    "**source :** revue Linux Références, hors-série n°8, \"Spécial Python\", article : \"Extraire automatiquement des données du web avec Pyhton\", p.44-49.\n",
    "\n",
    "----"
   ]
  },
  {
   "cell_type": "markdown",
   "id": "f3845db3",
   "metadata": {},
   "source": [
    "## Télécharger une page web"
   ]
  },
  {
   "cell_type": "code",
   "execution_count": 30,
   "id": "892c670d",
   "metadata": {},
   "outputs": [
    {
     "data": {
      "text/plain": [
       "<Response [200]>"
      ]
     },
     "execution_count": 30,
     "metadata": {},
     "output_type": "execute_result"
    }
   ],
   "source": [
    "import requests\n",
    "\n",
    "page = requests.get(\"http://dataquestio.github.io/web-scraping-pages/simple.html\")\n",
    "page"
   ]
  },
  {
   "cell_type": "markdown",
   "id": "7466904e",
   "metadata": {},
   "source": [
    "Un code 200 indique que la page a été téléchargée avec succès. "
   ]
  },
  {
   "cell_type": "markdown",
   "id": "9f1aedc5",
   "metadata": {},
   "source": [
    "## Afficher le contenu d'une page web"
   ]
  },
  {
   "cell_type": "code",
   "execution_count": 32,
   "id": "ab04135d",
   "metadata": {},
   "outputs": [
    {
     "data": {
      "text/plain": [
       "b'<!DOCTYPE html>\\n<html>\\n    <head>\\n        <title>A simple example page</title>\\n    </head>\\n    <body>\\n        <p>Here is some simple content for this page.</p>\\n    </body>\\n</html>'"
      ]
     },
     "execution_count": 32,
     "metadata": {},
     "output_type": "execute_result"
    }
   ],
   "source": [
    "page.content"
   ]
  },
  {
   "cell_type": "markdown",
   "id": "266eb5cb",
   "metadata": {},
   "source": [
    "## Analyse avec BeautifuLSoup"
   ]
  },
  {
   "cell_type": "code",
   "execution_count": 33,
   "id": "6e5a0979",
   "metadata": {},
   "outputs": [
    {
     "name": "stdout",
     "output_type": "stream",
     "text": [
      "<!DOCTYPE html>\n",
      "\n",
      "<html>\n",
      "<head>\n",
      "<title>A simple example page</title>\n",
      "</head>\n",
      "<body>\n",
      "<p>Here is some simple content for this page.</p>\n",
      "</body>\n",
      "</html>\n"
     ]
    }
   ],
   "source": [
    "from bs4 import BeautifulSoup\n",
    "\n",
    "soup = BeautifulSoup (page.content, 'html.parser')\n",
    "print(soup)"
   ]
  },
  {
   "cell_type": "markdown",
   "id": "c96803a8",
   "metadata": {},
   "source": [
    "### Affiché le contenu HTML formaté"
   ]
  },
  {
   "cell_type": "code",
   "execution_count": 34,
   "id": "98dfce26",
   "metadata": {},
   "outputs": [
    {
     "name": "stdout",
     "output_type": "stream",
     "text": [
      "<!DOCTYPE html>\n",
      "<html>\n",
      " <head>\n",
      "  <title>\n",
      "   A simple example page\n",
      "  </title>\n",
      " </head>\n",
      " <body>\n",
      "  <p>\n",
      "   Here is some simple content for this page.\n",
      "  </p>\n",
      " </body>\n",
      "</html>\n"
     ]
    }
   ],
   "source": [
    "print(soup.prettify())"
   ]
  },
  {
   "cell_type": "markdown",
   "id": "0b836ae7",
   "metadata": {},
   "source": [
    "On peut sélectionner tous les éléments au niveau supérieur de la page avec la propriété `children soup`. Comme elle renvoie un générateur de liste, il faut appler la fonction `list` :"
   ]
  },
  {
   "cell_type": "code",
   "execution_count": 35,
   "id": "24c1ba2b",
   "metadata": {},
   "outputs": [
    {
     "data": {
      "text/plain": [
       "<list_iterator at 0x249311f8910>"
      ]
     },
     "execution_count": 35,
     "metadata": {},
     "output_type": "execute_result"
    }
   ],
   "source": [
    "soup.children"
   ]
  },
  {
   "cell_type": "code",
   "execution_count": 36,
   "id": "e7fd991b",
   "metadata": {},
   "outputs": [
    {
     "data": {
      "text/plain": [
       "['html',\n",
       " '\\n',\n",
       " <html>\n",
       " <head>\n",
       " <title>A simple example page</title>\n",
       " </head>\n",
       " <body>\n",
       " <p>Here is some simple content for this page.</p>\n",
       " </body>\n",
       " </html>]"
      ]
     },
     "execution_count": 36,
     "metadata": {},
     "output_type": "execute_result"
    }
   ],
   "source": [
    "list(soup.children)"
   ]
  },
  {
   "cell_type": "markdown",
   "id": "629c94ed",
   "metadata": {},
   "source": [
    "### Type de chaque élément dans la liste : "
   ]
  },
  {
   "cell_type": "code",
   "execution_count": 37,
   "id": "b209ef38",
   "metadata": {},
   "outputs": [
    {
     "data": {
      "text/plain": [
       "[bs4.element.Doctype, bs4.element.NavigableString, bs4.element.Tag]"
      ]
     },
     "execution_count": 37,
     "metadata": {},
     "output_type": "execute_result"
    }
   ],
   "source": [
    "[type(element) for element in list(soup.children)]"
   ]
  },
  {
   "cell_type": "markdown",
   "id": "7f8b218e",
   "metadata": {},
   "source": [
    "Tous les éléments sont des objets **Beautiful Soup**.\n",
    "\n",
    "Le premier est un objet **Doctype** : il contient des informations sur le type du document.\n",
    "    \n",
    "Le deuxième est un objet de type **NavigableString**, qui représente le texte trouvé dans le document HTML.\n",
    "\n",
    "Le troisième est un objet **Tag**, qui contient d'autres balises imbriquées. C'est le type d'objet le plus important et le plus utilisé en Web scraping.\n",
    "\n",
    "L'objet **Tag** permet de naviguer dans un document HTML et d'extraire d'autres balises et du texte. On peut donc sélectionner la balise html et ses enfants (children) en choisissant ce dernier élément de la liste : "
   ]
  },
  {
   "cell_type": "code",
   "execution_count": 71,
   "id": "c8702b69",
   "metadata": {},
   "outputs": [
    {
     "data": {
      "text/plain": [
       "<html>\n",
       "<head>\n",
       "<title>A simple example page</title>\n",
       "</head>\n",
       "<body>\n",
       "<p>Here is some simple content for this page.</p>\n",
       "</body>\n",
       "</html>"
      ]
     },
     "execution_count": 71,
     "metadata": {},
     "output_type": "execute_result"
    }
   ],
   "source": [
    "html = list(soup.children)[2]\n",
    "html"
   ]
  },
  {
   "cell_type": "markdown",
   "id": "47b9110b",
   "metadata": {},
   "source": [
    "Chaque élément de la liste retourné par la propriété **children** étant un objet **BeautifulSoup**, il est possible d'appeler la méthode **children** sur le bloc **html** :"
   ]
  },
  {
   "cell_type": "code",
   "execution_count": 72,
   "id": "78ee8f48",
   "metadata": {},
   "outputs": [
    {
     "data": {
      "text/plain": [
       "['\\n',\n",
       " <head>\n",
       " <title>A simple example page</title>\n",
       " </head>,\n",
       " '\\n',\n",
       " <body>\n",
       " <p>Here is some simple content for this page.</p>\n",
       " </body>,\n",
       " '\\n']"
      ]
     },
     "execution_count": 72,
     "metadata": {},
     "output_type": "execute_result"
    }
   ],
   "source": [
    "list(html.children)"
   ]
  },
  {
   "cell_type": "markdown",
   "id": "b9d67d27",
   "metadata": {},
   "source": [
    "Il y a 2 balises : **head** et **body**. Pour extraire le texte à l'intérieur de la balise **p**, il faut utiliser le bloc **body** :"
   ]
  },
  {
   "cell_type": "code",
   "execution_count": 74,
   "id": "821e4b43",
   "metadata": {},
   "outputs": [
    {
     "data": {
      "text/plain": [
       "<body>\n",
       "<p>Here is some simple content for this page.</p>\n",
       "</body>"
      ]
     },
     "execution_count": 74,
     "metadata": {},
     "output_type": "execute_result"
    }
   ],
   "source": [
    "body = list(html.children)[3]\n",
    "body"
   ]
  },
  {
   "cell_type": "markdown",
   "id": "fb94aaa1",
   "metadata": {},
   "source": [
    "On cherche les enfants de la balise **body** :"
   ]
  },
  {
   "cell_type": "code",
   "execution_count": 75,
   "id": "6df6d667",
   "metadata": {},
   "outputs": [
    {
     "data": {
      "text/plain": [
       "['\\n', <p>Here is some simple content for this page.</p>, '\\n']"
      ]
     },
     "execution_count": 75,
     "metadata": {},
     "output_type": "execute_result"
    }
   ],
   "source": [
    "list(body.children)"
   ]
  },
  {
   "cell_type": "markdown",
   "id": "8604f34f",
   "metadata": {},
   "source": [
    "On peut maintenant isoler la balise **p**:"
   ]
  },
  {
   "cell_type": "code",
   "execution_count": 81,
   "id": "d22e758f",
   "metadata": {},
   "outputs": [
    {
     "data": {
      "text/plain": [
       "<p>Here is some simple content for this page.</p>"
      ]
     },
     "execution_count": 81,
     "metadata": {},
     "output_type": "execute_result"
    }
   ],
   "source": [
    "p = list(body.children)[1]\n",
    "p"
   ]
  },
  {
   "cell_type": "markdown",
   "id": "aca19a61",
   "metadata": {},
   "source": [
    "Une fois isolée, on utilise la méthode **get_text** pour extraire le texte à l'intérieur de la balise :"
   ]
  },
  {
   "cell_type": "code",
   "execution_count": 82,
   "id": "7c0966f7",
   "metadata": {},
   "outputs": [
    {
     "data": {
      "text/plain": [
       "'Here is some simple content for this page.'"
      ]
     },
     "execution_count": 82,
     "metadata": {},
     "output_type": "execute_result"
    }
   ],
   "source": [
    "p.get_text()"
   ]
  },
  {
   "cell_type": "markdown",
   "id": "e7bdd199",
   "metadata": {},
   "source": [
    "#### Autre méthode :"
   ]
  },
  {
   "cell_type": "code",
   "execution_count": 86,
   "id": "6948b394",
   "metadata": {},
   "outputs": [
    {
     "data": {
      "text/plain": [
       "[<head>\n",
       " <title>A simple example page</title>\n",
       " </head>,\n",
       " <title>A simple example page</title>,\n",
       " <body>\n",
       " <p>Here is some simple content for this page.</p>\n",
       " </body>,\n",
       " <p>Here is some simple content for this page.</p>]"
      ]
     },
     "execution_count": 86,
     "metadata": {},
     "output_type": "execute_result"
    }
   ],
   "source": [
    "enfants= html.findChildren()\n",
    "enfants"
   ]
  },
  {
   "cell_type": "code",
   "execution_count": 78,
   "id": "3090f6ae",
   "metadata": {},
   "outputs": [
    {
     "data": {
      "text/plain": [
       "<body>\n",
       "<p>Here is some simple content for this page.</p>\n",
       "</body>"
      ]
     },
     "execution_count": 78,
     "metadata": {},
     "output_type": "execute_result"
    }
   ],
   "source": [
    "# On sélectionne le body :\n",
    "enfants[2]"
   ]
  },
  {
   "cell_type": "code",
   "execution_count": 61,
   "id": "113f3ee7",
   "metadata": {},
   "outputs": [
    {
     "data": {
      "text/plain": [
       "<p>Here is some simple content for this page.</p>"
      ]
     },
     "execution_count": 61,
     "metadata": {},
     "output_type": "execute_result"
    }
   ],
   "source": [
    "# On sélectionne la balise 'p':\n",
    "enfants[3]"
   ]
  },
  {
   "cell_type": "code",
   "execution_count": 83,
   "id": "15566022",
   "metadata": {},
   "outputs": [
    {
     "data": {
      "text/plain": [
       "'Here is some simple content for this page.'"
      ]
     },
     "execution_count": 83,
     "metadata": {},
     "output_type": "execute_result"
    }
   ],
   "source": [
    "# on utilise get_text():\n",
    "enfants[3].get_text()"
   ]
  },
  {
   "cell_type": "markdown",
   "id": "34354301",
   "metadata": {},
   "source": [
    "## Recherche de toutes les instances d'un tag : "
   ]
  },
  {
   "cell_type": "markdown",
   "id": "25327080",
   "metadata": {},
   "source": [
    "La méthode la plus simple et la plus rapide pour extraire une seule balise est la méthode **find_all**, qui trouve toutes les instances d'une balise sur une page."
   ]
  },
  {
   "cell_type": "code",
   "execution_count": 90,
   "id": "6011ade3",
   "metadata": {},
   "outputs": [
    {
     "data": {
      "text/plain": [
       "[<p>Here is some simple content for this page.</p>]"
      ]
     },
     "execution_count": 90,
     "metadata": {},
     "output_type": "execute_result"
    }
   ],
   "source": [
    "soup = BeautifulSoup (page.content, 'html.parser')\n",
    "soup.find_all('p')"
   ]
  },
  {
   "cell_type": "markdown",
   "id": "54a1c20f",
   "metadata": {},
   "source": [
    "Comme **find_all** renvoie une liste, on peut utiliser l'indexation de liste pour extraire le texte, toujours avec la méthode **get_text()** :"
   ]
  },
  {
   "cell_type": "code",
   "execution_count": 92,
   "id": "59052c35",
   "metadata": {},
   "outputs": [
    {
     "data": {
      "text/plain": [
       "'Here is some simple content for this page.'"
      ]
     },
     "execution_count": 92,
     "metadata": {},
     "output_type": "execute_result"
    }
   ],
   "source": [
    "soup.find_all('p')[0].get_text()"
   ]
  },
  {
   "cell_type": "markdown",
   "id": "2b40267b",
   "metadata": {},
   "source": [
    "Si on veut rechercher uniquement la première instance d'une balise, il est possible d'utiliser la méthode **find**, qui renverra un seul objet **BeautifulSoup** :"
   ]
  },
  {
   "cell_type": "code",
   "execution_count": 95,
   "id": "ebc72760",
   "metadata": {},
   "outputs": [
    {
     "data": {
      "text/plain": [
       "<p>Here is some simple content for this page.</p>"
      ]
     },
     "execution_count": 95,
     "metadata": {},
     "output_type": "execute_result"
    }
   ],
   "source": [
    "soup.find('p')"
   ]
  },
  {
   "cell_type": "markdown",
   "id": "f0ac07cc",
   "metadata": {},
   "source": [
    "## Recherche de tags par classe et identifiant\n",
    "\n",
    "Les classes et les identifiants sont utilisés par CSS pour déterminer à quels éléments HTML appliquer certains styles. On peut ainsi préciser quels éléments spécifiques doivent être récupérés. "
   ]
  },
  {
   "cell_type": "code",
   "execution_count": 100,
   "id": "c9845420",
   "metadata": {},
   "outputs": [
    {
     "data": {
      "text/plain": [
       "<html>\n",
       "<head>\n",
       "<title>A simple example page</title>\n",
       "</head>\n",
       "<body>\n",
       "<div>\n",
       "<p class=\"inner-text first-item\" id=\"first\">\n",
       "                First paragraph.\n",
       "            </p>\n",
       "<p class=\"inner-text\">\n",
       "                Second paragraph.\n",
       "            </p>\n",
       "</div>\n",
       "<p class=\"outer-text first-item\" id=\"second\">\n",
       "<b>\n",
       "                First outer paragraph.\n",
       "            </b>\n",
       "</p>\n",
       "<p class=\"outer-text\">\n",
       "<b>\n",
       "                Second outer paragraph.\n",
       "            </b>\n",
       "</p>\n",
       "</body>\n",
       "</html>"
      ]
     },
     "execution_count": 100,
     "metadata": {},
     "output_type": "execute_result"
    }
   ],
   "source": [
    "page = requests.get(\"http://dataquestio.github.io/web-scraping-pages/ids_and_classes.html\")\n",
    "soup = BeautifulSoup(page.content, 'html.parser')\n",
    "soup"
   ]
  },
  {
   "cell_type": "markdown",
   "id": "c27bf69b",
   "metadata": {},
   "source": [
    "Nous pouvons utiliser la méthode **find_all** pour rechercher des éléments par classe/identifiant. Ici, nous recherchons toute balise **p** contenant la classe **outer-text**:"
   ]
  },
  {
   "cell_type": "code",
   "execution_count": 101,
   "id": "452183d4",
   "metadata": {},
   "outputs": [
    {
     "data": {
      "text/plain": [
       "[<p class=\"outer-text first-item\" id=\"second\">\n",
       " <b>\n",
       "                 First outer paragraph.\n",
       "             </b>\n",
       " </p>,\n",
       " <p class=\"outer-text\">\n",
       " <b>\n",
       "                 Second outer paragraph.\n",
       "             </b>\n",
       " </p>]"
      ]
     },
     "execution_count": 101,
     "metadata": {},
     "output_type": "execute_result"
    }
   ],
   "source": [
    "soup.find_all('p', class_='outer-text')"
   ]
  },
  {
   "cell_type": "markdown",
   "id": "71af426d",
   "metadata": {},
   "source": [
    "Nous pouvons rechercher maintenant **toute** balise contenant la classe **outer-text** :"
   ]
  },
  {
   "cell_type": "code",
   "execution_count": 103,
   "id": "749e6562",
   "metadata": {},
   "outputs": [
    {
     "data": {
      "text/plain": [
       "[<p class=\"inner-text first-item\" id=\"first\">\n",
       "                 First paragraph.\n",
       "             </p>,\n",
       " <p class=\"inner-text\">\n",
       "                 Second paragraph.\n",
       "             </p>]"
      ]
     },
     "execution_count": 103,
     "metadata": {},
     "output_type": "execute_result"
    }
   ],
   "source": [
    "soup.find_all(class_='inner-text')"
   ]
  },
  {
   "cell_type": "markdown",
   "id": "9253449b",
   "metadata": {},
   "source": [
    "On peut également rechercher des éléments par identifiants : "
   ]
  },
  {
   "cell_type": "code",
   "execution_count": 104,
   "id": "21c7bf34",
   "metadata": {},
   "outputs": [
    {
     "data": {
      "text/plain": [
       "[<p class=\"inner-text first-item\" id=\"first\">\n",
       "                 First paragraph.\n",
       "             </p>]"
      ]
     },
     "execution_count": 104,
     "metadata": {},
     "output_type": "execute_result"
    }
   ],
   "source": [
    "soup.find_all(id=\"first\")"
   ]
  },
  {
   "cell_type": "code",
   "execution_count": 105,
   "id": "4b7250fb",
   "metadata": {},
   "outputs": [
    {
     "data": {
      "text/plain": [
       "[<p class=\"outer-text first-item\" id=\"second\">\n",
       " <b>\n",
       "                 First outer paragraph.\n",
       "             </b>\n",
       " </p>]"
      ]
     },
     "execution_count": 105,
     "metadata": {},
     "output_type": "execute_result"
    }
   ],
   "source": [
    "soup.find_all(id='second')"
   ]
  },
  {
   "cell_type": "markdown",
   "id": "281cee12",
   "metadata": {},
   "source": [
    "## Utilisation des sélecteurs CSS"
   ]
  },
  {
   "cell_type": "markdown",
   "id": "053c2996",
   "metadata": {},
   "source": [
    "On peut rechercher des éléments à l'aide des sélecteurs CSS. Ces sélecteurs permettent au langage CSS de spécifier des balises HTML à styliser. \n",
    "\n",
    "- **p a** : trouve toutes les balises **a** à l'intérieur d'une balise **body**.\n",
    "\n",
    "- **body p a** : trouve toutes les balises à l'intérieur d'une balise **p** à l'intérieur d'une balise **body**.\n",
    "\n",
    "- **html body** : trouve toutes les balises **body** à l'intérieur d'une balise **html**.\n",
    "\n",
    "- **p.nom_classe** : trouve toutes les balises **p** avec une classe spécifiée.\n",
    "\n",
    "- **p # identifiant** : trouve toutes les balises **p** avec un identifiant spécifié.\n",
    "\n",
    "- **body.p.nom_class** : trouve toutes les balises **p** avec une classe spécifiée à l'intérieur d'une balise **body**."
   ]
  },
  {
   "cell_type": "markdown",
   "id": "d61324fd",
   "metadata": {},
   "source": [
    "## Téléchargement des données météo"
   ]
  },
  {
   "cell_type": "code",
   "execution_count": 121,
   "id": "db8af290",
   "metadata": {},
   "outputs": [
    {
     "name": "stdout",
     "output_type": "stream",
     "text": [
      "<div class=\"tombstone-container\">\n",
      " <p class=\"period-name\">\n",
      "  Today\n",
      "  <br/>\n",
      "  <br/>\n",
      " </p>\n",
      " <p>\n",
      "  <img alt=\"Today: Mostly cloudy, then gradually becoming sunny, with a high near 68. West wind 9 to 14 mph increasing to 16 to 21 mph in the afternoon. Winds could gust as high as 30 mph. \" class=\"forecast-icon\" src=\"newimages/medium/bkn.png\" title=\"Today: Mostly cloudy, then gradually becoming sunny, with a high near 68. West wind 9 to 14 mph increasing to 16 to 21 mph in the afternoon. Winds could gust as high as 30 mph. \"/>\n",
      " </p>\n",
      " <p class=\"short-desc\">\n",
      "  Decreasing\n",
      "  <br/>\n",
      "  Clouds\n",
      " </p>\n",
      " <p class=\"temp temp-high\">\n",
      "  High: 68 °F\n",
      " </p>\n",
      "</div>\n"
     ]
    }
   ],
   "source": [
    "page = requests.get(\"http://forecast.weather.gov/MapClick.php?lat=37.7772&lon=-122.4168\")\n",
    "soup = BeautifulSoup(page.content, 'html.parser')\n",
    "\n",
    "'''Trouvons la div avec l'id de prévision de 7 jours et attribuons la à la variable seven_day.\n",
    "A l'intérieur de seven_day nous recherchons chaque élément de prévision individuel.'''\n",
    "\n",
    "seven_day = soup.find(id=\"seven-day-forecast\")\n",
    "                                         \n",
    "previsions_items = seven_day.find_all(class_=\"tombstone-container\")\n",
    "\n",
    "tonight = previsions_items[0]\n",
    "\n",
    "print(tonight.prettify())"
   ]
  },
  {
   "cell_type": "markdown",
   "id": "2314deb7",
   "metadata": {},
   "source": [
    "## Extraire des informations"
   ]
  },
  {
   "cell_type": "code",
   "execution_count": 125,
   "id": "33888ba6",
   "metadata": {},
   "outputs": [
    {
     "name": "stdout",
     "output_type": "stream",
     "text": [
      "Today\n",
      "DecreasingClouds\n",
      "High: 68 °F\n"
     ]
    }
   ],
   "source": [
    "# période : aujourd'hui\n",
    "period = tonight.find(class_=\"period-name\").get_text()\n",
    "\n",
    "# courte description\n",
    "short_desc = tonight.find(class_=\"short-desc\").get_text()\n",
    "\n",
    "# température (en Fahrenheit)\n",
    "temp = tonight.find(class_=\"temp\").get_text()\n",
    "\n",
    "print(period)\n",
    "print(short_desc)\n",
    "print(temp)"
   ]
  },
  {
   "cell_type": "code",
   "execution_count": 126,
   "id": "307ac1c6",
   "metadata": {},
   "outputs": [
    {
     "name": "stdout",
     "output_type": "stream",
     "text": [
      "Today: Mostly cloudy, then gradually becoming sunny, with a high near 68. West wind 9 to 14 mph increasing to 16 to 21 mph in the afternoon. Winds could gust as high as 30 mph. \n"
     ]
    }
   ],
   "source": [
    "# extraction de 'title' dans la balise 'img' :\n",
    "# On traite l'objet BeautifulSoup comme un dictionnaire, en passant l'attribut souhaité comme clé :\n",
    "\n",
    "img = tonight.find(\"img\")\n",
    "desc = img['title']\n",
    "print(desc)"
   ]
  },
  {
   "cell_type": "markdown",
   "id": "bfea7cb7",
   "metadata": {},
   "source": [
    "## Construire un dataframe"
   ]
  },
  {
   "cell_type": "markdown",
   "id": "17ba475a",
   "metadata": {},
   "source": [
    "Nous appellons la classe **DataFrame** et transmettre chaque liste d'éléments que nous avons.\n",
    "\n",
    "Nous les transmettons dans le framework d'un dictionnaire.\n",
    "\n",
    "Chaque clé de dictionnaire deviendra une colonne dans le **DataFrame**, et chaque liste deviendra les valeurs de la colonne."
   ]
  },
  {
   "cell_type": "code",
   "execution_count": 142,
   "id": "aa5c49e0",
   "metadata": {},
   "outputs": [
    {
     "data": {
      "text/html": [
       "<div>\n",
       "<style scoped>\n",
       "    .dataframe tbody tr th:only-of-type {\n",
       "        vertical-align: middle;\n",
       "    }\n",
       "\n",
       "    .dataframe tbody tr th {\n",
       "        vertical-align: top;\n",
       "    }\n",
       "\n",
       "    .dataframe thead th {\n",
       "        text-align: right;\n",
       "    }\n",
       "</style>\n",
       "<table border=\"1\" class=\"dataframe\">\n",
       "  <thead>\n",
       "    <tr style=\"text-align: right;\">\n",
       "      <th></th>\n",
       "      <th>periode</th>\n",
       "      <th>short_desc</th>\n",
       "      <th>temp</th>\n",
       "      <th>desc</th>\n",
       "    </tr>\n",
       "  </thead>\n",
       "  <tbody>\n",
       "    <tr>\n",
       "      <th>0</th>\n",
       "      <td>Today</td>\n",
       "      <td>DecreasingClouds</td>\n",
       "      <td>High: 68 °F</td>\n",
       "      <td>Today: Mostly cloudy, then gradually becoming ...</td>\n",
       "    </tr>\n",
       "  </tbody>\n",
       "</table>\n",
       "</div>"
      ],
      "text/plain": [
       "  periode        short_desc         temp  \\\n",
       "0   Today  DecreasingClouds  High: 68 °F   \n",
       "\n",
       "                                                desc  \n",
       "0  Today: Mostly cloudy, then gradually becoming ...  "
      ]
     },
     "execution_count": 142,
     "metadata": {},
     "output_type": "execute_result"
    }
   ],
   "source": [
    "import pandas as pd\n",
    "\n",
    "meteo = pd.DataFrame({\n",
    "                     \"periode\": [period],\n",
    "                     \"short_desc\": [short_desc],\n",
    "                     \"temp\": [temp],\n",
    "                     \"desc\": [desc]\n",
    "                    })\n",
    "\n",
    "meteo"
   ]
  }
 ],
 "metadata": {
  "kernelspec": {
   "display_name": "Python 3 (ipykernel)",
   "language": "python",
   "name": "python3"
  },
  "language_info": {
   "codemirror_mode": {
    "name": "ipython",
    "version": 3
   },
   "file_extension": ".py",
   "mimetype": "text/x-python",
   "name": "python",
   "nbconvert_exporter": "python",
   "pygments_lexer": "ipython3",
   "version": "3.8.3"
  }
 },
 "nbformat": 4,
 "nbformat_minor": 5
}
