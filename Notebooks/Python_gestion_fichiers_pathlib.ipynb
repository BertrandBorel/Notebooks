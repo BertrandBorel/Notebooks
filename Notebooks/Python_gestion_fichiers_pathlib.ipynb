{
 "cells": [
  {
   "cell_type": "markdown",
   "id": "d96e41d3",
   "metadata": {},
   "source": [
    "# <center> Python : Gestion de fichiers </center> "
   ]
  },
  {
   "cell_type": "markdown",
   "id": "1af93c90",
   "metadata": {},
   "source": [
    "---"
   ]
  },
  {
   "cell_type": "code",
   "execution_count": 23,
   "id": "6e8a5d6b",
   "metadata": {},
   "outputs": [],
   "source": [
    "import os\n",
    "from pathlib import Path # !!! ===>  python >= 3.4"
   ]
  },
  {
   "cell_type": "markdown",
   "id": "cc970b2c",
   "metadata": {},
   "source": [
    "## 1- Gestion des chemins de fichiers avec pathlib"
   ]
  },
  {
   "cell_type": "markdown",
   "id": "04780e50",
   "metadata": {},
   "source": [
    "- module os : créer fichier/dossier, concaténation de plusieurs chemins\n",
    "- module shutil : déplacer des fichiers\n",
    "- module glob = scanne le disque dur pour récupérer des chemins de fichiers "
   ]
  },
  {
   "cell_type": "markdown",
   "id": "e570f29b",
   "metadata": {},
   "source": [
    "### Récupérer le dossier parent\n",
    "\n",
    "`os.path.dirname(\"/Users/Doc/test.py\")`\n",
    "\n",
    "= renvoi le chemin : `\"/Users/Doc\"`"
   ]
  },
  {
   "cell_type": "markdown",
   "id": "269548ff",
   "metadata": {},
   "source": [
    "### Récupérer l'extension d'un fichier :"
   ]
  },
  {
   "cell_type": "code",
   "execution_count": 9,
   "id": "7faae3c5",
   "metadata": {},
   "outputs": [
    {
     "data": {
      "text/plain": [
       "'.py'"
      ]
     },
     "execution_count": 9,
     "metadata": {},
     "output_type": "execute_result"
    }
   ],
   "source": [
    "os.path.splitext(\"/Users/Doc/test.py\")[1]"
   ]
  },
  {
   "cell_type": "markdown",
   "id": "09bbd7c9",
   "metadata": {},
   "source": [
    "## <center> Pathlib </center>"
   ]
  },
  {
   "cell_type": "markdown",
   "id": "9ae85cc1",
   "metadata": {},
   "source": [
    "### Idem mais avec Pathlib"
   ]
  },
  {
   "cell_type": "code",
   "execution_count": 15,
   "id": "a1b44e5d",
   "metadata": {},
   "outputs": [
    {
     "name": "stdout",
     "output_type": "stream",
     "text": [
      "dossier parent : \\Users\\Doc\n",
      "extension du fichier : .py\n"
     ]
    }
   ],
   "source": [
    "path = Path(\"/Users/Doc/test.py\")\n",
    "print(\"dossier parent :\", path.parent)\n",
    "print(\"extension du fichier :\", path.suffix)"
   ]
  },
  {
   "cell_type": "markdown",
   "id": "96b63fe2",
   "metadata": {},
   "source": [
    "### Récupérer le dossier utilisateur"
   ]
  },
  {
   "cell_type": "code",
   "execution_count": 19,
   "id": "bb86d449",
   "metadata": {},
   "outputs": [
    {
     "data": {
      "text/plain": [
       "WindowsPath('C:/Users/utilisateur')"
      ]
     },
     "execution_count": 19,
     "metadata": {},
     "output_type": "execute_result"
    }
   ],
   "source": [
    "Path.home()"
   ]
  },
  {
   "cell_type": "markdown",
   "id": "f3325c52",
   "metadata": {},
   "source": [
    "### Récupérer le dossier courant"
   ]
  },
  {
   "cell_type": "code",
   "execution_count": 25,
   "id": "8a03b5c6",
   "metadata": {},
   "outputs": [
    {
     "data": {
      "text/plain": [
       "WindowsPath('C:/Users/utilisateur/Desktop/Projet_CDE/code/BDD/Libraires')"
      ]
     },
     "execution_count": 25,
     "metadata": {},
     "output_type": "execute_result"
    }
   ],
   "source": [
    "Path.cwd()"
   ]
  },
  {
   "cell_type": "markdown",
   "id": "c2efab4c",
   "metadata": {},
   "source": [
    "### Création d'un chemin"
   ]
  },
  {
   "cell_type": "code",
   "execution_count": 21,
   "id": "b15b8bb3",
   "metadata": {},
   "outputs": [
    {
     "data": {
      "text/plain": [
       "WindowsPath('/Users/Bob/mon_chemin')"
      ]
     },
     "execution_count": 21,
     "metadata": {},
     "output_type": "execute_result"
    }
   ],
   "source": [
    "p = Path(\"/Users/Bob/mon_chemin\")\n",
    "p"
   ]
  },
  {
   "cell_type": "markdown",
   "id": "0eb91c0b",
   "metadata": {},
   "source": [
    "### Récupérer le dossier parent"
   ]
  },
  {
   "cell_type": "code",
   "execution_count": 28,
   "id": "a1bcaf26",
   "metadata": {},
   "outputs": [
    {
     "data": {
      "text/plain": [
       "WindowsPath('/Users/Bob')"
      ]
     },
     "execution_count": 28,
     "metadata": {},
     "output_type": "execute_result"
    }
   ],
   "source": [
    "p.parent"
   ]
  },
  {
   "cell_type": "markdown",
   "id": "fd34eaa1",
   "metadata": {},
   "source": [
    "### Concaténation des chemins"
   ]
  },
  {
   "cell_type": "code",
   "execution_count": 29,
   "id": "715912d1",
   "metadata": {},
   "outputs": [
    {
     "data": {
      "text/plain": [
       "WindowsPath('C:/Users/utilisateur')"
      ]
     },
     "execution_count": 29,
     "metadata": {},
     "output_type": "execute_result"
    }
   ],
   "source": [
    "# 1er chemin\n",
    "p = Path.home()\n",
    "p"
   ]
  },
  {
   "cell_type": "code",
   "execution_count": 30,
   "id": "c0d04e2c",
   "metadata": {},
   "outputs": [
    {
     "data": {
      "text/plain": [
       "WindowsPath('C:/Users/utilisateur/Documents')"
      ]
     },
     "execution_count": 30,
     "metadata": {},
     "output_type": "execute_result"
    }
   ],
   "source": [
    "# concaténation\n",
    "p / \"Documents\""
   ]
  },
  {
   "cell_type": "code",
   "execution_count": 32,
   "id": "18892701",
   "metadata": {},
   "outputs": [
    {
     "data": {
      "text/plain": [
       "WindowsPath('C:/Users/utilisateur/Documents/test.py')"
      ]
     },
     "execution_count": 32,
     "metadata": {},
     "output_type": "execute_result"
    }
   ],
   "source": [
    "# concaténation\n",
    "p / \"Documents\" / \"test.py\""
   ]
  },
  {
   "cell_type": "markdown",
   "id": "47803d9e",
   "metadata": {},
   "source": [
    "#### Autre méthode : `joinpath` "
   ]
  },
  {
   "cell_type": "code",
   "execution_count": 34,
   "id": "7aa0057c",
   "metadata": {},
   "outputs": [
    {
     "data": {
      "text/plain": [
       "WindowsPath('C:/Users/utilisateur/Musique/son.mp4')"
      ]
     },
     "execution_count": 34,
     "metadata": {},
     "output_type": "execute_result"
    }
   ],
   "source": [
    "p.joinpath(\"Musique\", \"son.mp4\")"
   ]
  },
  {
   "cell_type": "markdown",
   "id": "267e69b8",
   "metadata": {},
   "source": [
    "### Récupérer l'extension :"
   ]
  },
  {
   "cell_type": "code",
   "execution_count": 35,
   "id": "0eed51d6",
   "metadata": {},
   "outputs": [
    {
     "data": {
      "text/plain": [
       "'.mp4'"
      ]
     },
     "execution_count": 35,
     "metadata": {},
     "output_type": "execute_result"
    }
   ],
   "source": [
    "p.joinpath(\"Musique\", \"son.mp4\").suffix"
   ]
  },
  {
   "cell_type": "code",
   "execution_count": 36,
   "id": "d557d6ff",
   "metadata": {},
   "outputs": [
    {
     "data": {
      "text/plain": [
       "'.py'"
      ]
     },
     "execution_count": 36,
     "metadata": {},
     "output_type": "execute_result"
    }
   ],
   "source": [
    "(p / \"Documents\" / \"main.py\").suffix"
   ]
  },
  {
   "cell_type": "markdown",
   "id": "dfbbe7ba",
   "metadata": {},
   "source": [
    "---"
   ]
  },
  {
   "cell_type": "markdown",
   "id": "c1c9d21e",
   "metadata": {},
   "source": [
    "## Récupérer des informations sur un chemin "
   ]
  },
  {
   "cell_type": "code",
   "execution_count": 63,
   "id": "ab5be335",
   "metadata": {},
   "outputs": [],
   "source": [
    "p = Path(\"/User/Documents/Mon_dossier/index.html\")"
   ]
  },
  {
   "cell_type": "markdown",
   "id": "53402041",
   "metadata": {},
   "source": [
    "#### Nom du fichier :"
   ]
  },
  {
   "cell_type": "code",
   "execution_count": 64,
   "id": "4fd638d0",
   "metadata": {},
   "outputs": [
    {
     "data": {
      "text/plain": [
       "'index.html'"
      ]
     },
     "execution_count": 64,
     "metadata": {},
     "output_type": "execute_result"
    }
   ],
   "source": [
    "p.name"
   ]
  },
  {
   "cell_type": "markdown",
   "id": "10a44108",
   "metadata": {},
   "source": [
    "#### Nom du fichier (sans l'extension)"
   ]
  },
  {
   "cell_type": "code",
   "execution_count": 65,
   "id": "952926db",
   "metadata": {},
   "outputs": [
    {
     "data": {
      "text/plain": [
       "'index'"
      ]
     },
     "execution_count": 65,
     "metadata": {},
     "output_type": "execute_result"
    }
   ],
   "source": [
    "p.stem"
   ]
  },
  {
   "cell_type": "markdown",
   "id": "6f7c504e",
   "metadata": {},
   "source": [
    "#### Extension du fichier"
   ]
  },
  {
   "cell_type": "code",
   "execution_count": 66,
   "id": "5655b507",
   "metadata": {},
   "outputs": [
    {
     "data": {
      "text/plain": [
       "'.html'"
      ]
     },
     "execution_count": 66,
     "metadata": {},
     "output_type": "execute_result"
    }
   ],
   "source": [
    "p.suffix\n",
    "# suffixes si plusieurs extensions, ex : 'indx.tar.gz' pour une archive"
   ]
  },
  {
   "cell_type": "markdown",
   "id": "cbf49dd5",
   "metadata": {},
   "source": [
    "#### Récupérer toutes les parties du chemin"
   ]
  },
  {
   "cell_type": "code",
   "execution_count": 67,
   "id": "edc2a322",
   "metadata": {},
   "outputs": [
    {
     "data": {
      "text/plain": [
       "('\\\\', 'User', 'Documents', 'Mon_dossier', 'index.html')"
      ]
     },
     "execution_count": 67,
     "metadata": {},
     "output_type": "execute_result"
    }
   ],
   "source": [
    "p.parts"
   ]
  },
  {
   "cell_type": "markdown",
   "id": "72df7dab",
   "metadata": {},
   "source": [
    "#### Dire si le fichier existe ou non"
   ]
  },
  {
   "cell_type": "code",
   "execution_count": 68,
   "id": "1298e741",
   "metadata": {},
   "outputs": [
    {
     "data": {
      "text/plain": [
       "False"
      ]
     },
     "execution_count": 68,
     "metadata": {},
     "output_type": "execute_result"
    }
   ],
   "source": [
    "p.exists()"
   ]
  },
  {
   "cell_type": "markdown",
   "id": "f5eb0dd4",
   "metadata": {},
   "source": [
    "#### Dire s'il s'agit d'un dossier"
   ]
  },
  {
   "cell_type": "code",
   "execution_count": 72,
   "id": "aa202585",
   "metadata": {},
   "outputs": [
    {
     "data": {
      "text/plain": [
       "False"
      ]
     },
     "execution_count": 72,
     "metadata": {},
     "output_type": "execute_result"
    }
   ],
   "source": [
    "p.is_dir()"
   ]
  },
  {
   "cell_type": "markdown",
   "id": "cdbe3410",
   "metadata": {},
   "source": [
    "#### Dire s'il s'agit d'un fichier"
   ]
  },
  {
   "cell_type": "code",
   "execution_count": 73,
   "id": "b59f9988",
   "metadata": {},
   "outputs": [
    {
     "data": {
      "text/plain": [
       "False"
      ]
     },
     "execution_count": 73,
     "metadata": {},
     "output_type": "execute_result"
    }
   ],
   "source": [
    "p.is_file()"
   ]
  },
  {
   "cell_type": "markdown",
   "id": "52654c90",
   "metadata": {},
   "source": [
    "#### Dossier parent "
   ]
  },
  {
   "cell_type": "code",
   "execution_count": 74,
   "id": "ad98eddd",
   "metadata": {},
   "outputs": [
    {
     "data": {
      "text/plain": [
       "WindowsPath('/User/Documents/Mon_dossier')"
      ]
     },
     "execution_count": 74,
     "metadata": {},
     "output_type": "execute_result"
    }
   ],
   "source": [
    "p.parent"
   ]
  },
  {
   "cell_type": "markdown",
   "id": "f086dca9",
   "metadata": {},
   "source": [
    "---"
   ]
  },
  {
   "cell_type": "markdown",
   "id": "9489633a",
   "metadata": {},
   "source": [
    "## Créer et supprimer des fichiers"
   ]
  },
  {
   "cell_type": "code",
   "execution_count": 76,
   "id": "68c8ccd9",
   "metadata": {},
   "outputs": [],
   "source": [
    "# chemin \n",
    "p = Path.home()\n",
    "\n",
    "# Concaténation = nom du nouveau fichier\n",
    "p = p / \"DossierTest\"\n",
    "\n",
    "# création\n",
    "p.mkdir()"
   ]
  },
  {
   "cell_type": "markdown",
   "id": "c3c5f32f",
   "metadata": {},
   "source": [
    "**Note :** `mkdir()` ne fonctionnera pas si le dossier existe déjà, pour ne pas renvoyer d'erreur, il faut écrire :\n",
    "\n",
    "`p.mkdir(exist_ok=True`\n",
    "\n",
    "Il n'écrase pas le dossier existant, il n'affiche tout simplement pas l'erreur."
   ]
  },
  {
   "cell_type": "markdown",
   "id": "417e1e24",
   "metadata": {},
   "source": [
    "### Créer toute une structure de dossiers, même si les dossiers parents n'existent pas :"
   ]
  },
  {
   "cell_type": "code",
   "execution_count": 81,
   "id": "55c7cd92",
   "metadata": {},
   "outputs": [],
   "source": [
    "p = p / \"1\" / \"2\" / \"3\""
   ]
  },
  {
   "cell_type": "code",
   "execution_count": 83,
   "id": "a9335b4e",
   "metadata": {},
   "outputs": [],
   "source": [
    "p.mkdir(parents=True)"
   ]
  },
  {
   "cell_type": "markdown",
   "id": "4278e4b7",
   "metadata": {},
   "source": [
    "## Créer un fichier"
   ]
  },
  {
   "cell_type": "code",
   "execution_count": 113,
   "id": "61dc12c8",
   "metadata": {},
   "outputs": [],
   "source": [
    "# indique le chemin + nom du fichier\n",
    "p = Path.home() / \"Documents\" / \"readme.txt\"\n",
    "\n",
    "# création avec touch()\n",
    "p.touch()"
   ]
  },
  {
   "cell_type": "markdown",
   "id": "c987f08f",
   "metadata": {},
   "source": [
    "## Supprimer un fichier"
   ]
  },
  {
   "cell_type": "code",
   "execution_count": 86,
   "id": "c11b8cf9",
   "metadata": {},
   "outputs": [],
   "source": [
    "p.unlink()"
   ]
  },
  {
   "cell_type": "markdown",
   "id": "5a0a84fc",
   "metadata": {},
   "source": [
    "## Supprimer un dossier \n",
    "\n",
    "**Note :** il faut que le dossier soit vide, pour effacer des dossiers non vides, il faut utiliser shutil"
   ]
  },
  {
   "cell_type": "code",
   "execution_count": 90,
   "id": "bce91967",
   "metadata": {},
   "outputs": [],
   "source": [
    "import shutil \n",
    "\n",
    "shutil.rmtree(p)"
   ]
  },
  {
   "cell_type": "code",
   "execution_count": 102,
   "id": "8927df5f",
   "metadata": {},
   "outputs": [],
   "source": [
    "# pour supprimer un dossier vide :\n",
    "p.rmdir()"
   ]
  },
  {
   "cell_type": "markdown",
   "id": "fb221c7a",
   "metadata": {},
   "source": [
    "___"
   ]
  },
  {
   "cell_type": "markdown",
   "id": "223ddc87",
   "metadata": {},
   "source": [
    "## Ecrire et lire dans un fichier"
   ]
  },
  {
   "cell_type": "code",
   "execution_count": 114,
   "id": "602f31c8",
   "metadata": {},
   "outputs": [
    {
     "data": {
      "text/plain": [
       "WindowsPath('C:/Users/utilisateur/Documents/readme.txt')"
      ]
     },
     "execution_count": 114,
     "metadata": {},
     "output_type": "execute_result"
    }
   ],
   "source": [
    "# création du chemin\n",
    "p = Path.home() / \"Documents\" / \"readme.txt\"\n",
    "p"
   ]
  },
  {
   "cell_type": "code",
   "execution_count": 116,
   "id": "2d52fa55",
   "metadata": {},
   "outputs": [],
   "source": [
    "# création du fichier\n",
    "p.touch()"
   ]
  },
  {
   "cell_type": "code",
   "execution_count": 117,
   "id": "04c42df6",
   "metadata": {},
   "outputs": [
    {
     "data": {
      "text/plain": [
       "7"
      ]
     },
     "execution_count": 117,
     "metadata": {},
     "output_type": "execute_result"
    }
   ],
   "source": [
    "# écrire du texte\n",
    "p.write_text(\"Bonjour\")"
   ]
  },
  {
   "cell_type": "code",
   "execution_count": 118,
   "id": "7883d1ab",
   "metadata": {},
   "outputs": [
    {
     "data": {
      "text/plain": [
       "'Bonjour'"
      ]
     },
     "execution_count": 118,
     "metadata": {},
     "output_type": "execute_result"
    }
   ],
   "source": [
    "# lire le contenu du fichier\n",
    "p.read_text()"
   ]
  },
  {
   "cell_type": "markdown",
   "id": "8ce8da87",
   "metadata": {},
   "source": [
    "___"
   ]
  },
  {
   "cell_type": "markdown",
   "id": "d4de6d29",
   "metadata": {},
   "source": [
    "## Scanner un dossier"
   ]
  },
  {
   "cell_type": "code",
   "execution_count": 125,
   "id": "f3bf8d2f",
   "metadata": {},
   "outputs": [
    {
     "name": "stdout",
     "output_type": "stream",
     "text": [
      "C:\\Users\\utilisateur\\Documents\\.ipynb_checkpoints\n",
      "C:\\Users\\utilisateur\\Documents\\AttestationDroits.pdf\n",
      "C:\\Users\\utilisateur\\Documents\\biblio.odt\n",
      "C:\\Users\\utilisateur\\Documents\\Coffres-forts McAfee\n",
      "C:\\Users\\utilisateur\\Documents\\desktop.ini\n",
      "C:\\Users\\utilisateur\\Documents\\GitHub\n",
      "C:\\Users\\utilisateur\\Documents\\Ma musique\n",
      "C:\\Users\\utilisateur\\Documents\\Mes images\n",
      "C:\\Users\\utilisateur\\Documents\\Mes vidéos\n",
      "C:\\Users\\utilisateur\\Documents\\microsoft_ia\n",
      "C:\\Users\\utilisateur\\Documents\\model.h5\n",
      "C:\\Users\\utilisateur\\Documents\\Modèles Office personnalisés\n",
      "C:\\Users\\utilisateur\\Documents\\OpenCR_Cours.ipynb\n",
      "C:\\Users\\utilisateur\\Documents\\projet_3_traitement_data.ipynb\n",
      "C:\\Users\\utilisateur\\Documents\\Python Scripts\n",
      "C:\\Users\\utilisateur\\Documents\\readme.txt\n"
     ]
    }
   ],
   "source": [
    "from pathlib import Path\n",
    "\n",
    "# Path.home().iterdir()\n",
    "# for f in Path.home().iterdir():\n",
    "#     print(f)\n",
    "\n",
    "p = Path.home() / \"Documents\"\n",
    "\n",
    "for fichier in p.iterdir():\n",
    "    print(fichier)\n"
   ]
  },
  {
   "cell_type": "markdown",
   "id": "0a0f702a",
   "metadata": {},
   "source": [
    "### Possible de créer une liste"
   ]
  },
  {
   "cell_type": "code",
   "execution_count": 128,
   "id": "9fdeb68b",
   "metadata": {},
   "outputs": [
    {
     "name": "stdout",
     "output_type": "stream",
     "text": [
      "[WindowsPath('C:/Users/utilisateur/Documents/.ipynb_checkpoints'), WindowsPath('C:/Users/utilisateur/Documents/Coffres-forts McAfee'), WindowsPath('C:/Users/utilisateur/Documents/GitHub'), WindowsPath('C:/Users/utilisateur/Documents/Ma musique'), WindowsPath('C:/Users/utilisateur/Documents/Mes images'), WindowsPath('C:/Users/utilisateur/Documents/Mes vidéos'), WindowsPath('C:/Users/utilisateur/Documents/microsoft_ia'), WindowsPath('C:/Users/utilisateur/Documents/Modèles Office personnalisés'), WindowsPath('C:/Users/utilisateur/Documents/Python Scripts')]\n"
     ]
    }
   ],
   "source": [
    "# ne récupère que les dossiers\n",
    "liste = [f for f in p.iterdir() if f.is_dir()]\n",
    "print(liste)"
   ]
  },
  {
   "cell_type": "code",
   "execution_count": 129,
   "id": "a569009d",
   "metadata": {},
   "outputs": [
    {
     "name": "stdout",
     "output_type": "stream",
     "text": [
      "[WindowsPath('C:/Users/utilisateur/Documents/AttestationDroits.pdf'), WindowsPath('C:/Users/utilisateur/Documents/biblio.odt'), WindowsPath('C:/Users/utilisateur/Documents/desktop.ini'), WindowsPath('C:/Users/utilisateur/Documents/model.h5'), WindowsPath('C:/Users/utilisateur/Documents/OpenCR_Cours.ipynb'), WindowsPath('C:/Users/utilisateur/Documents/projet_3_traitement_data.ipynb'), WindowsPath('C:/Users/utilisateur/Documents/readme.txt')]\n"
     ]
    }
   ],
   "source": [
    "# ne récupère que les fichiers \n",
    "liste = [f for f in p.iterdir() if f.is_file()]\n",
    "print(liste)"
   ]
  },
  {
   "cell_type": "markdown",
   "id": "c0edeff6",
   "metadata": {},
   "source": [
    "## Afficher que les fichiers en fonction de l'extension"
   ]
  },
  {
   "cell_type": "code",
   "execution_count": 135,
   "id": "140a4026",
   "metadata": {},
   "outputs": [
    {
     "name": "stdout",
     "output_type": "stream",
     "text": [
      "AttestationDroits.pdf\n"
     ]
    }
   ],
   "source": [
    "for f in p.glob(\"*.pdf\"): \n",
    "    print(f.name)"
   ]
  },
  {
   "cell_type": "code",
   "execution_count": 145,
   "id": "5c90378f",
   "metadata": {},
   "outputs": [
    {
     "name": "stdout",
     "output_type": "stream",
     "text": [
      "By Ecodair.png\n",
      "ré-inscription.PNG\n"
     ]
    }
   ],
   "source": [
    "# dossier téléchargement ou pictures\n",
    "\n",
    "p = Path.home() / \"Pictures\"\n",
    "\n",
    "for f in p.glob(\"*.PNG\"): \n",
    "    print(f.name)"
   ]
  },
  {
   "cell_type": "markdown",
   "id": "3bedb943",
   "metadata": {},
   "source": [
    "___"
   ]
  },
  {
   "cell_type": "markdown",
   "id": "262f526d",
   "metadata": {},
   "source": [
    "## Ajouter un suffixe à un nom de fichier"
   ]
  },
  {
   "cell_type": "code",
   "execution_count": 147,
   "id": "dde9fc5e",
   "metadata": {},
   "outputs": [
    {
     "data": {
      "text/plain": [
       "WindowsPath('C:/Users/utilisateur/Pictures/image.png')"
      ]
     },
     "execution_count": 147,
     "metadata": {},
     "output_type": "execute_result"
    }
   ],
   "source": [
    "p = Path.home() / \"Pictures\" / \"image.png\"\n",
    "p"
   ]
  },
  {
   "cell_type": "code",
   "execution_count": 150,
   "id": "1ecfd6af",
   "metadata": {},
   "outputs": [
    {
     "data": {
      "text/plain": [
       "WindowsPath('C:/Users/utilisateur/Pictures/image-lowers.png')"
      ]
     },
     "execution_count": 150,
     "metadata": {},
     "output_type": "execute_result"
    }
   ],
   "source": [
    "p.parent / (p.stem + \"-lowers\" + p.suffix)"
   ]
  },
  {
   "cell_type": "markdown",
   "id": "44c4add2",
   "metadata": {},
   "source": [
    "___"
   ]
  },
  {
   "cell_type": "markdown",
   "id": "1f2ad6dd",
   "metadata": {},
   "source": [
    "## Trier des fichiers selon leur extension"
   ]
  },
  {
   "cell_type": "code",
   "execution_count": 157,
   "id": "64f462df",
   "metadata": {},
   "outputs": [],
   "source": [
    "from pathlib import Path\n",
    "\n",
    "# dictionnaire avec extension et leur dossier de destination\n",
    "dirs = {\".png\": \"Images\",\n",
    "        \".jpeg\": \"Images\",\n",
    "        \".jpg\": \"Images\",\n",
    "        \".gif\": \"Images\",\n",
    "        \".mp4\": \"Videos\",\n",
    "        \".mp3\": \"Musiques\",\n",
    "        \".zip\": \"Archives\",\n",
    "        \".pdf\": \"Documents\",\n",
    "        \".txt\": \"Documents\",\n",
    "        \".json\": \"Documents\"}\n",
    "\n",
    "tri_dir = Path.home()/\"Downloads\" \n",
    "\n",
    "# ne récupérer que les fichiers\n",
    "files = [f for f in tri_dir.iterdir() if f.is_file()]\n",
    "\n",
    "# déplacement des fichiers\n",
    "for f in files :\n",
    "    # si le fichier n'a pas d'extension dans le dico, met dans le dossier \"autres\"\n",
    "    output_dir = tri_dir / dirs.get(f.suffix, \"Autres\")\n",
    "    # création du fichier, s'il existe déjà, ne pas renvoyer d'erreur ni l'écraser\n",
    "    output_dir.mkdir(exist_ok=True)\n",
    "    # déplace le fichier = avec uniquement le nom du fichier (pas le chemin complet)\n",
    "    f.rename(output_dir /f.name)"
   ]
  },
  {
   "cell_type": "code",
   "execution_count": null,
   "id": "d0e1f3e9",
   "metadata": {},
   "outputs": [],
   "source": []
  }
 ],
 "metadata": {
  "kernelspec": {
   "display_name": "Python 3 (ipykernel)",
   "language": "python",
   "name": "python3"
  },
  "language_info": {
   "codemirror_mode": {
    "name": "ipython",
    "version": 3
   },
   "file_extension": ".py",
   "mimetype": "text/x-python",
   "name": "python",
   "nbconvert_exporter": "python",
   "pygments_lexer": "ipython3",
   "version": "3.8.3"
  }
 },
 "nbformat": 4,
 "nbformat_minor": 5
}
