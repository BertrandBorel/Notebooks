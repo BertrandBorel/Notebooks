{
 "cells": [
  {
   "cell_type": "markdown",
   "id": "32c2d423",
   "metadata": {},
   "source": [
    "# <center> Linux, les bases </center>\n",
    "\n",
    "**Source :** https://openclassrooms.com/fr/courses/7170491-initiez-vous-a-linux/7251641-tirez-un-maximum-de-ce-cours "
   ]
  },
  {
   "cell_type": "markdown",
   "id": "9aa60fd0",
   "metadata": {},
   "source": [
    "## Le principe du noyau \n",
    "\n",
    "Linux est un système d’exploitation **monolithique modulaire**.\n",
    "\n",
    "**Monolithique**\n",
    "\n",
    "Cela veut dire que tout le code de Linux est exécuté dans UN SEUL gros objet en mémoire de l’ordinateur. C’est ce qu’on appelle le noyau.\n",
    "Le noyau contient toutes les fonctions rendues par le système d’exploitation, comme par exemple la gestion de la mémoire, du processeur, des disques, etc.\n",
    "\n",
    "**Modulaire**\n",
    "\n",
    "Cela veut dire que le code du noyau Linux est organisé sous la forme de modules. Ce sont des blocs de code. Cette organisation présente un avantage très important ! Grâce à cela, on peut ajouter et/ou retirer des modules dans un noyau en cours d’exécution, sans avoir à l’arrêter ou à le redémarrer.\n",
    "\n",
    "**+ ensemble de packages = une distribution**\n"
   ]
  },
  {
   "cell_type": "markdown",
   "id": "0ff2fbc6",
   "metadata": {},
   "source": [
    "**En résumé**\n",
    "\n",
    "- Le noyau de Linux est monolithique et modulaire.\n",
    "\n",
    "- Ses versions sont numérotées, et ses sources sont disponibles sur le site de Linux Kernel Archives.\n",
    "\n",
    "- Une distribution Linux se compose d’un noyau, de packages, et d’outils pour gérer leurs dépendances.\n",
    "\n",
    "- Les distributions sont développées pour répondre à un besoin (serveur, poste de travail ou autre).\n",
    "\n",
    "- Debian, Red Hat et Slackware sont les 3 premières distributions Linux historiques.\n",
    "\n",
    "- Ubuntu est une distribution dérivée de Debian."
   ]
  },
  {
   "cell_type": "markdown",
   "id": "2ca98981",
   "metadata": {},
   "source": [
    "## Bureau Linux\n",
    "\n",
    "C’est une interface graphique qui réagit par rapport à ce que vous faites avec le clavier ou la souris, par exemple comme cliquer sur une croix pour fermer une fenêtre.\n",
    "\n",
    "En résumé : un bureau constitue votre environnement de travail, sur votre écran, de la même manière que Windows ou macOS. Et pourtant, ceux de Linux sont fondamentalement différents…\n",
    "\n",
    "Sous Linux, il existe un programme différent pour chaque composant de l’environnement de bureau. Et vous avez le choix de combiner ces éléments pour fabriquer votre propre bureau.\n",
    "\n",
    "## Les principaux bureaux Linux\n",
    "\n",
    "- Gnome : c’est sûrement le plus connu. À l’époque où Linux cherchait à gagner des parts de marché sur Windows, Gnome était son arme de pointe. Un bureau super convivial, très moderne, avec tous les gadgets d’animation inclus. La conséquence directe : Gnome est un gros mammouth qui demande beaucoup de ressources, et une conférence communautaire se tient tous les ans pour essayer de dégraisser le monstre ! \n",
    "\n",
    "- KDE : le deuxième bureau le plus connu sous Linux. Il a fait le pari de se rapprocher de l’ambiance de Windows pour séduire ses utilisateurs. C’est vrai que pour une transition, KDE est un bureau que je peux vous conseiller.\n",
    "\n",
    "- XFCE : j’apprécie particulièrement ce bureau, qui se veut minimaliste, mais très efficace. Idéal pour redonner vie à une machine un peu vieillissante, ce bureau consomme très peu de ressources et est complètement personnalisable.\n",
    "\n",
    "Ces 3 grands bureaux seront disponibles avec beaucoup de distributions. Mais certaines d’entre elles n’hésitent pas à créer leur propre environnement de bureau. Et dans cette catégorie, on peut citer les bureaux :\n",
    "\n",
    "- Cinnamon : créé à l’origine pour la distribution Linux Mint. Il a tellement bien été accueilli par la communauté qu’il est désormais porté sur pas moins de 30 distributions différentes ; \n",
    "\n",
    "- Pantheon : développé exclusivement pour la distribution Elementary OS, et qui fait tout son possible pour procurer une expérience utilisateur proche de celle de macOS ;\n",
    "\n",
    "- Deepin : développé pour sa distribution homonyme Deepin Linux ;\n",
    "\n",
    "- Unity : qui était l’environnement de bureau développé pour la distribution Ubuntu. Notez que depuis 2017, Ubuntu a abandonné son environnement de bureau au profit de Gnome. \n",
    "\n",
    "### En résumé\n",
    "\n",
    "- Les environnements de bureau sous Linux sont modulaires.\n",
    "\n",
    "- Chaque module est responsable d’une fonction (authentification, gestion des fenêtres, du fond d’écran, etc.).\n",
    "\n",
    "- Gnome, KDE et XFCE sont les 3 bureaux les plus connus de Linux.\n",
    "\n",
    "- Les distributions peuvent aussi proposer leur propre bureau.\n",
    "\n",
    "- Gnome est le bureau de la distribution Ubuntu."
   ]
  },
  {
   "cell_type": "markdown",
   "id": "1e6aaf9b",
   "metadata": {},
   "source": [
    "## Machine virtuelle\n",
    "\n",
    "- Un hyperviseur permet de virtualiser un environnement.\n",
    "\n",
    "- Linux peut être installé sur une machine virtuelle.\n",
    "\n",
    "- Les ressources à allouer à la machine virtuelle Linux dépendent de la distribution choisie. \n",
    "\n",
    "- L’installation d’Ubuntu s’effectue grâce à un didacticiel graphique simple. "
   ]
  },
  {
   "cell_type": "markdown",
   "id": "c10c49df",
   "metadata": {},
   "source": [
    "## Mise à jour\n",
    "\n",
    "`<$ sudo apt-get update [nom du logiciel]>`\n",
    "\n",
    "pour trouver la dernière version d'un logiciel,\n",
    "\n",
    "`<$ sudo apt-get upgrade [nom du logiciel]>`\n",
    "\n",
    "La commande **sudo** permet d’obtenir **les droits d’administration** pour effectuer une tâche qui les nécessite ; par exemple, installer un nouveau logiciel via les packages."
   ]
  },
  {
   "cell_type": "markdown",
   "id": "63cd3c6a",
   "metadata": {},
   "source": [
    "## Chercher une application\n",
    "\n",
    "`<$ sudo apt-cache search [mot-clé]>`\n",
    "\n",
    "## Installer une application\n",
    "\n",
    "`<$ sudo apt-get install [nom du logiciel]>`"
   ]
  },
  {
   "cell_type": "code",
   "execution_count": null,
   "id": "8318faa8",
   "metadata": {},
   "outputs": [],
   "source": []
  }
 ],
 "metadata": {
  "kernelspec": {
   "display_name": "Python 3",
   "language": "python",
   "name": "python3"
  },
  "language_info": {
   "codemirror_mode": {
    "name": "ipython",
    "version": 3
   },
   "file_extension": ".py",
   "mimetype": "text/x-python",
   "name": "python",
   "nbconvert_exporter": "python",
   "pygments_lexer": "ipython3",
   "version": "3.8.3"
  }
 },
 "nbformat": 4,
 "nbformat_minor": 5
}
