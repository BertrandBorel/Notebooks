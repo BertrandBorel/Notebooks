{
 "cells": [
  {
   "cell_type": "markdown",
   "metadata": {},
   "source": [
    "# <center> Correction veille Linux </center>"
   ]
  },
  {
   "cell_type": "markdown",
   "metadata": {},
   "source": [
    "**Sources :**\n",
    "\n",
    "- [cheatsheet](https://juliend.github.io/linux-cheatsheet/)\n",
    "\n",
    "- [Miniconda sur Ubuntu](https://doc.ubuntu-fr.org/miniconda)\n",
    "\n",
    "- [Quelques exercices sur les commandes de base Linux](https://www.cours-gratuit.com/unix-linux/exercices-sur-les-commandes-unix-de-base-pour-debutant)\n",
    "\n",
    "- [une série de tuto sur les commandes Linux :](https://www.digitalocean.com/community/tutorials/an-introduction-to-the-linux-terminal)"
   ]
  },
  {
   "cell_type": "markdown",
   "metadata": {},
   "source": [
    "## Réponses du Test\n",
    "\n",
    "1- Que signifie, en français, OS ?\n",
    "système d'exploitation\n",
    "\n",
    "2- Qu'est-ce que GNU ?\n",
    "Un OS libre\n",
    "\n",
    "3- Richard Stallman\n",
    "[wiki](https://fr.wikipedia.org/wiki/Richard_Stallman)\n",
    "\" programmeur et militant du logiciel libre. Initiateur du mouvement du logiciel libre, il lance, en 1983, le projet GNU et la licence publique générale GNU connue aussi sous le sigle GPL.\"\n",
    "\n",
    "4-Linus Torvalds \n",
    "créateur de Linux : [wiki](https://fr.wikipedia.org/wiki/Linus_Torvalds)\n",
    "\n",
    "5- GNU et LINUX sont inspiré d'un autre noyau, qui est ?\n",
    "\n",
    "Unix\n",
    "\n",
    "[wiki](https://fr.wikipedia.org/wiki/Unix)\n",
    "\n",
    "\n",
    "6- Lequel est une distribution LINUX ? \n",
    "\n",
    "DEBIAN\n",
    "\n",
    "[wiki](https://fr.wikipedia.org/wiki/Debian)\n",
    "\n",
    "7- Citez la distribution, dérivé de DEBIAN, proposé par Canonical et que vous allez bientôt installée sur votre machine : \n",
    "\n",
    "Ubuntu : [wiki](https://fr.wikipedia.org/wiki/Ubuntu)\n",
    "\n",
    "8- Et quel est son dernier numéro de version stable ? \n",
    "\n",
    "20.04\n",
    "\n",
    "9- Que signifie LTS pour une version ?\n",
    "\n",
    "Long term support\n",
    "\n",
    "10- Quel est le nom de ce gestionnaire de bureau :\n",
    "Unity\n",
    "\n",
    "11- Quelle commande LINUX, et paramètres, affiche le contenu du répertoire courant, dont les fichiers cachés, les droits et la taille des éléments : \n",
    "ls-la\n",
    "\n",
    "12- Quelle est la commande LINUX pour se placer sur le répertoire parent :\n",
    "cd..\n",
    "\n",
    "13- Quelle est la commande LINUX pour créer un dossier nommé 'python' dans le répertoire courant :\n",
    "mkdir python\n",
    "\n",
    "14- Comment afficher la documentation de la commande ls dans la console, sur LINUX \n",
    "ls -man"
   ]
  },
  {
   "cell_type": "code",
   "execution_count": null,
   "metadata": {},
   "outputs": [],
   "source": []
  }
 ],
 "metadata": {
  "kernelspec": {
   "display_name": "Python 3",
   "language": "python",
   "name": "python3"
  },
  "language_info": {
   "codemirror_mode": {
    "name": "ipython",
    "version": 3
   },
   "file_extension": ".py",
   "mimetype": "text/x-python",
   "name": "python",
   "nbconvert_exporter": "python",
   "pygments_lexer": "ipython3",
   "version": "3.8.3"
  }
 },
 "nbformat": 4,
 "nbformat_minor": 4
}
