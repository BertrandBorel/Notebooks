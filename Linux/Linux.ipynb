{
 "cells": [
  {
   "cell_type": "markdown",
   "metadata": {},
   "source": [
    "# <center> Commandes Linux </center>"
   ]
  },
  {
   "cell_type": "markdown",
   "metadata": {},
   "source": [
    "**sources :**\n",
    "\n",
    "- [35 commandes Linux de base que tout utilisateur devrait connaître](https://www.hostinger.fr/tutoriels/commandes-linux)"
   ]
  },
  {
   "cell_type": "markdown",
   "metadata": {},
   "source": [
    "Linux est une famille entière de systèmes d’exploitation Unix à source ouverte, qui sont basés sur le noyau Linux. Cela inclut tous les systèmes les plus populaires basés sur Linux comme Ubuntu, Fedora, Mint, Debian, et d’autres. Plus précisément, on les appelle des distributions ou des distros.\n",
    "\n",
    "Depuis sa première publication en 1991, Linux n’a cessé de gagner en popularité en raison de sa nature open-source. Les gens peuvent librement le modifier et le redistribuer sous leur propre nom."
   ]
  },
  {
   "cell_type": "markdown",
   "metadata": {},
   "source": [
    "## Lancer VSCode \n",
    "\n",
    "`code  .`"
   ]
  },
  {
   "cell_type": "markdown",
   "metadata": {},
   "source": [
    "## Commande pwd\n",
    "\n",
    "Trouve le chemin du répertoire de travail dans lequel on se trouve. La commande retournera un chemin absolu (complet), qui est en fait un chemin de tous les répertoires qui commence par une barre oblique (/). Un exemple de chemin absolu est /home/utilisateur.\n",
    "\n",
    "\n",
    "\n"
   ]
  },
  {
   "cell_type": "markdown",
   "metadata": {},
   "source": [
    "## Se déplacer dans un dossier\n",
    "\n",
    "`cd`\n",
    "\n",
    "### Reculer d'un dossier\n",
    "\n",
    "`cd ..`\n",
    "\n",
    "## Voir le contenu d'un dossier\n",
    "\n",
    "`ls`\n",
    "\n",
    "### Voir le contenu d'un dossier enfant\n",
    " `ls nom_du_dossier`"
   ]
  },
  {
   "cell_type": "markdown",
   "metadata": {},
   "source": [
    "## Voir l'historique du terminal\n",
    "\n",
    "`history`"
   ]
  },
  {
   "cell_type": "markdown",
   "metadata": {},
   "source": [
    "## Supprimer un dossier\n",
    "\n",
    "`rmdir [nom] `\n",
    "\n",
    "`rm -r [nom]`  =  supprime dossier avec tout son contenu\n",
    "\n",
    "Si le dossier est protégé utiliser : `rm -rf [nom]`\n",
    "    \n",
    "Si cela ne fonctionne pas, utiliser :  `sudo rm -r -f [nom]`\n",
    "\n"
   ]
  },
  {
   "cell_type": "markdown",
   "metadata": {},
   "source": [
    "---"
   ]
  },
  {
   "cell_type": "markdown",
   "metadata": {},
   "source": [
    "## Lire un fichier ligne par ligne\n",
    "\n",
    "`while read line; do echo $line; done < movies.json`"
   ]
  },
  {
   "cell_type": "markdown",
   "metadata": {},
   "source": [
    "---\n",
    "\n",
    "## Ecrire plusieurs lignes dans un fichier\n",
    "\n",
    "\n",
    "### Methode 1 :\n",
    "\n",
    "echo \"line 1 content\" >> myfile.txt <br />\n",
    "echo \"line 2 content\" >> myfile.txt <br />\n",
    "echo \"line 3 content\" >> myfile.txt <br />\n",
    "\n",
    "\n",
    "### Methode 2 :\n",
    "\n",
    "echo \"line 1 content <br />\n",
    "line 2 content <br />\n",
    "line 3 content\" >> myfile.txt <br />\n",
    "\n",
    "\n",
    "### Methode 3 :\n",
    "\n",
    "cat >> greetings.txt <<EOL <br />\n",
    "line 1 content <br />\n",
    "line 2 content <br />\n",
    "line 3 content <br />\n",
    "EOL"
   ]
  },
  {
   "cell_type": "markdown",
   "metadata": {},
   "source": [
    "---\n",
    "\n",
    "# Accéder aux fichiers Ubuntu dans l'explorer de Windows\n",
    "\n",
    "`\\\\wsl$`"
   ]
  }
 ],
 "metadata": {
  "kernelspec": {
   "display_name": "Python 3 (ipykernel)",
   "language": "python",
   "name": "python3"
  },
  "language_info": {
   "codemirror_mode": {
    "name": "ipython",
    "version": 3
   },
   "file_extension": ".py",
   "mimetype": "text/x-python",
   "name": "python",
   "nbconvert_exporter": "python",
   "pygments_lexer": "ipython3",
   "version": "3.8.3"
  },
  "vscode": {
   "interpreter": {
    "hash": "cce956dd8b59511f520788cd9362dddc117670ac5ef39c9ede8ba85a43b854a0"
   }
  }
 },
 "nbformat": 4,
 "nbformat_minor": 4
}
