{
 "cells": [
  {
   "cell_type": "markdown",
   "id": "b4e72dcd",
   "metadata": {},
   "source": [
    "# <center> Créer un environnement virtuel sous Jupyter Notebook </center>\n",
    "\n",
    "**Sources :**\n",
    "- MASSARON L., MUELLER J.-P., Data science avec Python pour les nuls, First, 2019, p.218-219.\n",
    "- https://janakiev.com/blog/jupyter-virtual-envs/\n",
    "- https://fr.acervolima.com/utilisation-de-jupyter-notebook-dans-un-environnement-virtuel/\n"
   ]
  },
  {
   "cell_type": "markdown",
   "id": "618dbada",
   "metadata": {},
   "source": [
    "## Etapes :\n",
    "\n",
    "###  1- Ouvrir une fenêtre de terminal Anaconda Prompt.\n",
    "\n",
    "### 2- Saississez la commande suivante :\n",
    "`conda create -n nom_de_lenvironnement python=3 anaconda=5.2.0`\n",
    "Ce qui permet de créer un nouvel environnement avec le nom désiré, utilsant ici des versions particulières de Python/Anaconda.\n",
    "\n",
    "### 3- Activation de l'environnement virtuel :\n",
    "`activate nom_de_lenvironnement`\n",
    "\n",
    "#### Sous Linux/Mac : \n",
    "`source activate nom_de_lenvironnement`\n",
    "\n",
    "### 4- Installation des packages désirés.\n",
    "\n",
    "### 5- Lancement de Jupyter Notebook :\n",
    "Il démarre dans un environnement spécifique. \n"
   ]
  },
  {
   "cell_type": "markdown",
   "id": "34415195",
   "metadata": {},
   "source": [
    "---"
   ]
  },
  {
   "cell_type": "markdown",
   "id": "b4b8a06c",
   "metadata": {},
   "source": [
    "## Commandes \n",
    "\n",
    "- Création : `conda create -n myenv`\n",
    "\n",
    "\n",
    "- Activation : `conda activate myenv`\n",
    "\n",
    "\n",
    "- Désactivation : `conda deactivate`\n",
    "\n",
    "\n",
    "- Lister les environnements virtuels : `conda env list`    \n",
    "\n",
    "\n",
    "- Suppression : `conda env remove -n myenv`"
   ]
  },
  {
   "cell_type": "markdown",
   "id": "2b3b726e",
   "metadata": {},
   "source": [
    "---"
   ]
  },
  {
   "cell_type": "markdown",
   "id": "29f5a7b4",
   "metadata": {},
   "source": [
    "## Installation du noyau Jupyter dans l'environnement virtuel\n",
    "\n",
    "`ipython kernel install --user --name=myenv`\n",
    "\n",
    "Puis aller sur Jupyter, puis sur Kernel/Change kernel où s'affiche les différents noyaux. \n",
    "\n",
    "## Suppression du noyau\n",
    "\n",
    "`jupyter-kernelspec uninstall venv`"
   ]
  }
 ],
 "metadata": {
  "kernelspec": {
   "display_name": "Python 3 (ipykernel)",
   "language": "python",
   "name": "python3"
  },
  "language_info": {
   "codemirror_mode": {
    "name": "ipython",
    "version": 3
   },
   "file_extension": ".py",
   "mimetype": "text/x-python",
   "name": "python",
   "nbconvert_exporter": "python",
   "pygments_lexer": "ipython3",
   "version": "3.9.12"
  }
 },
 "nbformat": 4,
 "nbformat_minor": 5
}
