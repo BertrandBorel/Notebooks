{
 "cells": [
  {
   "cell_type": "markdown",
   "id": "682dd965",
   "metadata": {},
   "source": [
    "# <center> NLP : notions  </center> \n",
    "\n",
    "**Source :** CHAUMARTIN, LEMBERGER, *Le traitement automatique des langues, comprendre les textes grâce à l'intelligence artificielle*, Dunod, Malakoff, 2020.\n",
    "\n",
    "---"
   ]
  },
  {
   "cell_type": "markdown",
   "id": "6a7b5821",
   "metadata": {},
   "source": [
    "Le **traitement automatique des langues** (*natural language processing* ou NLP) : branche de l'IA qui vise à traiter les langues parlées par les humains. Cela couvre un grand nombre d'applications, comme retranscrire de l'oral à l'écrit, générer automatiquement une synthèse, traduire un document, chercher de l'information ou encore \"comprendre\" ce que veut dire un texte. Dans ce dernier cas, on emploie aussi souvent les termes voisins d'**analyse sémantique** (*semantic analysis*) et de **fouilles de texte** (*text mining*). (p.XIV)"
   ]
  },
  {
   "cell_type": "markdown",
   "id": "0fab7cca",
   "metadata": {},
   "source": [
    "## L'analyse sémantique : comprendre le sens d'un texte \n",
    "\n",
    "L'analyse sémantique repose sur la combinaison de plusieurs tâches d'informatique linguistique. \n",
    "\n",
    "On combine généralement 3 tâches d'extraction d'informations :\n",
    "- la **classification automatique**\n",
    "- la **reconnaissance d'entités** (ou de concepts)\n",
    "- la **détection de relations** entre ces entités\n",
    "\n",
    "### Classification automatique de documents\n",
    "Revient à effectuer une compréhension *globale* de son contenu pour le ranger dans 1 ou plusieurs cases. En quelle langue est-il écrit ? De quel type de document s'agit-il ? Faut-il le traiter en urgence ? Est-ce un spam ? ...\n",
    "\n",
    "### Reconnaissance d'entités nommées (*named entity recognition* ou NER)\n",
    "Identifier dans un texte une information unitaire (date, n° de téléphone, un montant financier, un % ...) souvent via une expression régulière, c'est-à-dire une description formelle de la suite eds caractères cherchés.\n",
    "Attention aux homonymies et aux anaphores.\n",
    "\n",
    "### Extraction de relations \n",
    "L'analyse d'un texte perte de relier une entité à ses attributs ou propriétés. "
   ]
  },
  {
   "cell_type": "markdown",
   "id": "5a66a747",
   "metadata": {},
   "source": [
    "## Fouilles de textes (*text mining*) : extraire des connaissances d'un corpus\n",
    "\n",
    "Revient à effectuer l'analyse sémantique des documents d'un corpus pour alimenter un système de fouille de données (*data mining*). Ce dernier interprétera les résultats de l'analyse textuelle de façon à mettre en évidence des corrélations intéressantes, effectuer une analyse de séries temporelles, détecter des corrélations... \n",
    "\n",
    "La fouille de textes fonctionne mieux sur un corpus suffisament homogène pour que le même analyseur puisse traiter tous les documents."
   ]
  }
 ],
 "metadata": {
  "kernelspec": {
   "display_name": "Python 3 (ipykernel)",
   "language": "python",
   "name": "python3"
  },
  "language_info": {
   "codemirror_mode": {
    "name": "ipython",
    "version": 3
   },
   "file_extension": ".py",
   "mimetype": "text/x-python",
   "name": "python",
   "nbconvert_exporter": "python",
   "pygments_lexer": "ipython3",
   "version": "3.9.12"
  }
 },
 "nbformat": 4,
 "nbformat_minor": 5
}
