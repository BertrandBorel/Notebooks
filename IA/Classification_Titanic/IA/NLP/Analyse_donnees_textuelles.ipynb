{
 "cells": [
  {
   "cell_type": "markdown",
   "id": "70cb4618",
   "metadata": {},
   "source": [
    "# <center> Analysez vos données textuelles </center>\n",
    "\n",
    "**Source :** https://openclassrooms.com/fr/courses/4470541-analysez-vos-donnees-textuelles "
   ]
  },
  {
   "cell_type": "markdown",
   "id": "807aaed9",
   "metadata": {},
   "source": [
    "## 1- Récupérez et explorez le corpus de textes\n",
    "\n",
    "Etapes :\n",
    "- récupérer le corpus de textes\n",
    "- faire une analyse exploratoire afin de bien comprendre les spécificités du jeu de données\n",
    "- nettoyer les données afin de pouvoir les utiliser ultérieurement\n",
    "\n",
    "### Définitions :\n",
    "\n",
    "- le **corpus** : ensemble de documents (des textes dans notre cas), regroupés dans une optique ou dans une thématique précise. \n",
    "\n",
    "- un **document** : la notion de document fait référence à un texte appartenant au corpus, mais indépendant des autres textes. Il peut être constitué d'une ou plusieurs phrases, un ou plusieurs paragraphes.\n",
    "\n",
    "- un **token** : le terme token désigne généralement un mot et/ou un élément de ponctuation. La phrase \"Hello World!\" comprend donc 3 tokens. \n",
    "\n",
    "- le **vocabulaire** : il s'agit de l'ensemble des tokens distincts présents dans l'ensemble du corpus.\n",
    "\n",
    "### Etapes du prétraitrement d'un texte :\n",
    "\n",
    "- La **récupération du corpus**, ansi qu'un premier traitement de ce dernier pour avoir des données textuelles exploitables (au format string).\n",
    "\n",
    "- La **tokenization**, qui désigne le découpage en mots des différents documents qui constituent votre corpus.\n",
    "\n",
    "- La **normalisation et la construction du dictionnaire** qui permet de ne pas prendre en compte des détails importants au niveau local (ponctuation, majuscules, conjugaison, etc.)\n",
    "\n",
    "### Récupération du corpus de texte\n",
    "Plusieurs méthodes : chargement d'un fichier, webscraping...\n",
    "\n",
    "### Exploration du texte : tokenisation et analyse des fréquences\n",
    "\n",
    "La fonction `word_tokenize` va décomposer une phrase en ensemble de mots afin de pouvoir effectuer des opérations dessus."
   ]
  },
  {
   "cell_type": "code",
   "execution_count": 4,
   "id": "b45508ca",
   "metadata": {},
   "outputs": [
    {
     "data": {
      "text/plain": [
       "[\"D'un\", 'texte', 'à', \"l'autre\", ',', \"l'exemple\", 'peut-il', 'varier', '?']"
      ]
     },
     "execution_count": 4,
     "metadata": {},
     "output_type": "execute_result"
    }
   ],
   "source": [
    "# pip install nltk\n",
    "import nltk\n",
    "\n",
    "phrase = \"D'un texte à l'autre, l'exemple peut-il varier ?\"\n",
    "\n",
    "nltk.word_tokenize(phrase)"
   ]
  },
  {
   "cell_type": "markdown",
   "id": "e672d974",
   "metadata": {},
   "source": [
    "## Normalisation\n",
    "\n",
    "Harmonisation des tokens (on enlève la ponctuation, on sépare \"d'un\" en \"d\" et \"un\"...)"
   ]
  },
  {
   "cell_type": "code",
   "execution_count": 5,
   "id": "ed8558b0",
   "metadata": {},
   "outputs": [
    {
     "data": {
      "text/plain": [
       "['D', 'un', 'texte', 'à', 'l', 'autre', 'l', 'exemple', 'peut', 'il', 'varier']"
      ]
     },
     "execution_count": 5,
     "metadata": {},
     "output_type": "execute_result"
    }
   ],
   "source": [
    "tokenizer = nltk.RegexpTokenizer(r'\\w+')\n",
    "tokenizer.tokenize(\"D'un texte à l'autre, l'exemple peut-il varier ?\")"
   ]
  },
  {
   "cell_type": "markdown",
   "id": "784695a1",
   "metadata": {},
   "source": [
    "---"
   ]
  },
  {
   "cell_type": "markdown",
   "id": "8ae4e4d3",
   "metadata": {},
   "source": [
    "## 2- Nettoyez et normalisez les données"
   ]
  },
  {
   "cell_type": "markdown",
   "id": "a3aa47c2",
   "metadata": {},
   "source": [
    "### Supprimer les stopwords"
   ]
  },
  {
   "cell_type": "code",
   "execution_count": null,
   "id": "4add89eb",
   "metadata": {},
   "outputs": [],
   "source": []
  }
 ],
 "metadata": {
  "kernelspec": {
   "display_name": "Python 3 (ipykernel)",
   "language": "python",
   "name": "python3"
  },
  "language_info": {
   "codemirror_mode": {
    "name": "ipython",
    "version": 3
   },
   "file_extension": ".py",
   "mimetype": "text/x-python",
   "name": "python",
   "nbconvert_exporter": "python",
   "pygments_lexer": "ipython3",
   "version": "3.9.12"
  }
 },
 "nbformat": 4,
 "nbformat_minor": 5
}
