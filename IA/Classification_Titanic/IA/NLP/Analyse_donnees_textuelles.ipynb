{
 "cells": [
  {
   "cell_type": "markdown",
   "id": "bdb796db",
   "metadata": {},
   "source": [
    "# <center> Analysez vos données textuelles </center>\n",
    "\n",
    "**Source :** https://openclassrooms.com/fr/courses/4470541-analysez-vos-donnees-textuelles "
   ]
  },
  {
   "cell_type": "markdown",
   "id": "4f36b6f6",
   "metadata": {},
   "source": [
    "## 1- Récupérez et explorez le corpus de textes\n",
    "\n",
    "Etapes :\n",
    "- récupérer le corpus de textes\n",
    "- faire une analyse exploratoire afin de bien comprendre les spécificités du jeu de données\n",
    "- nettoyer les données afin de pouvoir les utiliser ultérieurement\n",
    "\n",
    "### Définitions :\n",
    "\n",
    "- le **corpus** : ensemble de documents (des textes dans notre cas), regroupés dans une optique ou dans une thématique précise. \n",
    "\n",
    "- un **document** : la notion de document fait référence à un texte appartenant au corpus, mais indépendant des autres textes. Il peut être constitué d'une ou plusieurs phrases, un ou plusieurs paragraphes.\n",
    "\n",
    "- un **token** : le terme token désigne généralement un mot et/ou un élément de ponctuation. La phrase \"Hello World!\" comprend donc 3 tokens. \n",
    "\n",
    "- le **vocabulaire** : il s'agit de l'ensemble des tokens distincts présents dans l'ensemble du corpus.\n",
    "\n",
    "### Etapes du prétraitrement d'un texte :\n",
    "\n",
    "- La **récupération du corpus**, ansi qu'un premier traitement de ce dernier pour avoir des données textuelles exploitables (au format string).\n",
    "\n",
    "- La **tokenization**, qui désigne le découpage en mots des différents documents qui constituent votre corpus.\n",
    "\n",
    "- La **normalisation et la construction du dictionnaire** qui permet de ne pas prendre en compte des détails importants au niveau local (ponctuation, majuscules, conjugaison, etc.)\n",
    "\n",
    "### Récupération du corpus de texte\n",
    "Plusieurs méthodes : chargement d'un fichier, webscraping...\n",
    "\n",
    "### Exploration du texte : tokenisation et analyse des fréquences\n",
    "\n",
    "La fonction `word_tokenize` va décomposer une phrase en ensemble de mots afin de pouvoir effectuer des opérations dessus."
   ]
  },
  {
   "cell_type": "code",
   "execution_count": 17,
   "id": "7343aac6",
   "metadata": {},
   "outputs": [
    {
     "name": "stdout",
     "output_type": "stream",
     "text": [
      "[\"D'un\", 'texte', 'à', \"l'autre\", ',', \"l'exemple\", 'peut-il', 'varier', '?']\n"
     ]
    }
   ],
   "source": [
    "# pip install nltk\n",
    "import nltk\n",
    "\n",
    "phrase = \"D'un texte à l'autre, l'exemple peut-il varier ?\"\n",
    "\n",
    "phrase_token = nltk.word_tokenize(phrase)\n",
    "print(phrase_token)"
   ]
  },
  {
   "cell_type": "markdown",
   "id": "e30a01fb",
   "metadata": {},
   "source": [
    "## Normalisation\n",
    "\n",
    "Harmonisation des tokens (on enlève la ponctuation, on sépare \"d'un\" en \"d\" et \"un\"...)"
   ]
  },
  {
   "cell_type": "code",
   "execution_count": 20,
   "id": "64330fe5",
   "metadata": {},
   "outputs": [
    {
     "data": {
      "text/plain": [
       "['D', 'un', 'texte', 'à', 'l', 'autre', 'l', 'exemple', 'peut', 'il', 'varier']"
      ]
     },
     "execution_count": 20,
     "metadata": {},
     "output_type": "execute_result"
    }
   ],
   "source": [
    "tokenizer = nltk.RegexpTokenizer(r'\\w+')\n",
    "phrase_norm = tokenizer.tokenize(\"D'un texte à l'autre, l'exemple peut-il varier ?\")\n",
    "phrase_norm"
   ]
  },
  {
   "cell_type": "markdown",
   "id": "e2ff6afd",
   "metadata": {},
   "source": [
    "---"
   ]
  },
  {
   "cell_type": "markdown",
   "id": "53e507b0",
   "metadata": {},
   "source": [
    "## 2- Nettoyez et normalisez les données"
   ]
  },
  {
   "cell_type": "markdown",
   "id": "591c19b7",
   "metadata": {},
   "source": [
    "### Supprimer les stopwords\n",
    "\n",
    "Supprimer les mots fréquents qui n'apportent pas de valeur informative pour la compréhension du \"sens\" d'un document et corpus. "
   ]
  },
  {
   "cell_type": "code",
   "execution_count": 14,
   "id": "5d943b48",
   "metadata": {},
   "outputs": [],
   "source": [
    "# on récupère les stopwords\n",
    "from nltk.corpus import stopwords\n",
    "french_stopwords = set(stopwords.words('french'))"
   ]
  },
  {
   "cell_type": "code",
   "execution_count": 22,
   "id": "a53e4edc",
   "metadata": {},
   "outputs": [],
   "source": [
    "# on supprime les stopwords\n",
    "index = 0\n",
    "\n",
    "for element in phrase_norm :\n",
    "    if element in french_stopwords :\n",
    "        del phrase_norm[index]\n",
    "    index += 1"
   ]
  },
  {
   "cell_type": "code",
   "execution_count": 23,
   "id": "ec88a9d2",
   "metadata": {},
   "outputs": [
    {
     "data": {
      "text/plain": [
       "['D', 'texte', 'l', 'autre', 'exemple', 'peut', 'varier']"
      ]
     },
     "execution_count": 23,
     "metadata": {},
     "output_type": "execute_result"
    }
   ],
   "source": [
    "phrase_norm"
   ]
  },
  {
   "cell_type": "markdown",
   "id": "8075e089",
   "metadata": {},
   "source": [
    "### Lemmatisation ou racinisation (stemming)\n",
    "\n",
    "Le processus de **lemmatisation** consiste à représenter les mots sous leur forme canonique. Par exemple pour un verbe, ce sera son infinitif. Pour un nom, son masculin singulier. L'idée étant encore une fois de ne **conserver que le sens des mots utilisés dans le corpus**.\n",
    "\n",
    "Il existe un autre processus qui exerce une fonction similaire qui s'appelle la **racinisation**(ou *stemming*). Cela consiste à ne **conserver que la racine des mots étudiés**. L'idée étant de supprimer les suffixes, préfixes et autres des mots afin de ne conserver que leur origine. C'est un procédé plus simple que la lemmatisation et plus rapide à effectuer puisqu'on tronque les mots essentiellement contrairement à la lemmatisation qui nécessite d'utiliser un dictionnaire."
   ]
  },
  {
   "cell_type": "code",
   "execution_count": 30,
   "id": "25c954b4",
   "metadata": {},
   "outputs": [
    {
     "name": "stdout",
     "output_type": "stream",
     "text": [
      "['D', 'texte', 'l', 'autre', 'exemple', 'peut', 'varier']\n",
      "Racinisation : \n",
      "['d', 'text', 'l', 'autr', 'exempl', 'peut', 'vari']\n"
     ]
    }
   ],
   "source": [
    "from nltk.stem.snowball import FrenchStemmer\n",
    "\n",
    "stemmer = FrenchStemmer()\n",
    "\n",
    "phrase_stem = []\n",
    "\n",
    "for w in phrase_norm:\n",
    "    phrase_stem.append(stemmer.stem(w))\n",
    "    \n",
    "print(phrase_norm)\n",
    "print(\"Racinisation : \")\n",
    "print(phrase_stem)"
   ]
  }
 ],
 "metadata": {
  "kernelspec": {
   "display_name": "Python 3 (ipykernel)",
   "language": "python",
   "name": "python3"
  },
  "language_info": {
   "codemirror_mode": {
    "name": "ipython",
    "version": 3
   },
   "file_extension": ".py",
   "mimetype": "text/x-python",
   "name": "python",
   "nbconvert_exporter": "python",
   "pygments_lexer": "ipython3",
   "version": "3.9.12"
  }
 },
 "nbformat": 4,
 "nbformat_minor": 5
}
