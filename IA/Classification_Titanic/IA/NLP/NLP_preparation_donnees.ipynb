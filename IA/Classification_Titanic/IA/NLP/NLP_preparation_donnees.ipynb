{
 "cells": [
  {
   "cell_type": "markdown",
   "id": "b730288e",
   "metadata": {},
   "source": [
    "# <center> NLP : préparation des données </center>\n",
    "\n",
    "---"
   ]
  },
  {
   "cell_type": "markdown",
   "id": "ec32cd6d",
   "metadata": {},
   "source": [
    "##  Tokenisation avec `word_tokenize()`"
   ]
  },
  {
   "cell_type": "code",
   "execution_count": 9,
   "id": "f13604f3",
   "metadata": {},
   "outputs": [
    {
     "data": {
      "text/plain": [
       "[\"D'un\", 'texte', 'à', \"l'autre\", ',', \"l'exemple\", 'peut-il', 'varier', '?']"
      ]
     },
     "execution_count": 9,
     "metadata": {},
     "output_type": "execute_result"
    }
   ],
   "source": [
    "# pip install nltk\n",
    "import nltk\n",
    "\n",
    "phrase = \"D'un texte à l'autre, l'exemple peut-il varier ?\"\n",
    "\n",
    "nltk.word_tokenize(phrase)"
   ]
  },
  {
   "cell_type": "markdown",
   "id": "e8fe27fe",
   "metadata": {},
   "source": [
    "## Normalisation \n",
    "\n",
    "Harmonisation des tokens (on enlève la ponctuation, on sépare \"d'un\" en \"d\" et \"un\"...)"
   ]
  },
  {
   "cell_type": "code",
   "execution_count": 10,
   "id": "958bca56",
   "metadata": {},
   "outputs": [
    {
     "data": {
      "text/plain": [
       "['D', 'un', 'texte', 'à', 'l', 'autre', 'l', 'exemple', 'peut', 'il', 'varier']"
      ]
     },
     "execution_count": 10,
     "metadata": {},
     "output_type": "execute_result"
    }
   ],
   "source": [
    "tokenizer = nltk.RegexpTokenizer(r'\\w+')\n",
    "phrase_norm = tokenizer.tokenize(\"D'un texte à l'autre, l'exemple peut-il varier ?\")\n",
    "phrase_norm"
   ]
  },
  {
   "cell_type": "code",
   "execution_count": 11,
   "id": "864d2d9b",
   "metadata": {},
   "outputs": [
    {
     "data": {
      "text/plain": [
       "['Hello.', 'This is a test.', 'It works!']"
      ]
     },
     "execution_count": 11,
     "metadata": {},
     "output_type": "execute_result"
    }
   ],
   "source": [
    "# Autre exemple : \n",
    "tokenizer = nltk.data.load('nltk:tokenizers/punkt/english.pickle')\n",
    "tokenizer.tokenize('Hello.  This is a test.  It works!')"
   ]
  },
  {
   "cell_type": "markdown",
   "id": "7f888ecf",
   "metadata": {},
   "source": [
    "## Stopwords (suppression)"
   ]
  },
  {
   "cell_type": "code",
   "execution_count": 12,
   "id": "f5757fff",
   "metadata": {},
   "outputs": [],
   "source": [
    "# on récupère les stopwords\n",
    "from nltk.corpus import stopwords\n",
    "french_stopwords = set(stopwords.words('french'))"
   ]
  },
  {
   "cell_type": "code",
   "execution_count": 16,
   "id": "4441b999",
   "metadata": {},
   "outputs": [
    {
     "name": "stdout",
     "output_type": "stream",
     "text": [
      "['D', 'texte', 'autre', 'exemple', 'peut', 'varier']\n"
     ]
    }
   ],
   "source": [
    "# on supprime les stopwords\n",
    "index = 0\n",
    "\n",
    "for element in phrase_norm :\n",
    "    if element in french_stopwords :\n",
    "        del phrase_norm[index]\n",
    "    index += 1\n",
    "\n",
    "print(phrase_norm)"
   ]
  },
  {
   "cell_type": "markdown",
   "id": "ef0b2888",
   "metadata": {},
   "source": [
    "## Stemming (racine)"
   ]
  },
  {
   "cell_type": "code",
   "execution_count": 17,
   "id": "d5a36659",
   "metadata": {},
   "outputs": [
    {
     "name": "stdout",
     "output_type": "stream",
     "text": [
      "don\n",
      "don\n",
      "don\n",
      "don\n",
      "don\n",
      "test\n"
     ]
    }
   ],
   "source": [
    "from nltk.stem.snowball import FrenchStemmer\n",
    "\n",
    "example_words = [\"donner\",\"don\",\"donne\",\"donnera\",\"dons\",\"test\"]\n",
    "stemmer = FrenchStemmer()\n",
    " \n",
    "for w in example_words:\n",
    "    print(stemmer.stem(w))"
   ]
  },
  {
   "cell_type": "code",
   "execution_count": 18,
   "id": "ad6f17d5",
   "metadata": {},
   "outputs": [
    {
     "name": "stdout",
     "output_type": "stream",
     "text": [
      "d\n",
      "text\n",
      "autr\n",
      "exempl\n",
      "peut\n",
      "vari\n"
     ]
    }
   ],
   "source": [
    "# autre exemple :\n",
    "for word in phrase_norm :\n",
    "    print(stemmer.stem(word))"
   ]
  },
  {
   "cell_type": "code",
   "execution_count": null,
   "id": "5e6ef66d",
   "metadata": {},
   "outputs": [],
   "source": []
  }
 ],
 "metadata": {
  "kernelspec": {
   "display_name": "Python 3 (ipykernel)",
   "language": "python",
   "name": "python3"
  },
  "language_info": {
   "codemirror_mode": {
    "name": "ipython",
    "version": 3
   },
   "file_extension": ".py",
   "mimetype": "text/x-python",
   "name": "python",
   "nbconvert_exporter": "python",
   "pygments_lexer": "ipython3",
   "version": "3.9.12"
  }
 },
 "nbformat": 4,
 "nbformat_minor": 5
}
