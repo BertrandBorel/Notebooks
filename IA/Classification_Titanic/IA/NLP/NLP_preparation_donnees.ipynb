{
 "cells": [
  {
   "cell_type": "markdown",
   "id": "b274d0c8",
   "metadata": {},
   "source": [
    "# <center> NLP : préparation des données </center>\n",
    "\n",
    "---"
   ]
  },
  {
   "cell_type": "markdown",
   "id": "7649a786",
   "metadata": {},
   "source": [
    "##  Tokenisation avec `word_tokenize()`"
   ]
  },
  {
   "cell_type": "code",
   "execution_count": 2,
   "id": "e23043b3",
   "metadata": {},
   "outputs": [
    {
     "data": {
      "text/plain": [
       "[\"D'un\", 'texte', 'à', \"l'autre\", ',', \"l'exemple\", 'peut-il', 'varier', '?']"
      ]
     },
     "execution_count": 2,
     "metadata": {},
     "output_type": "execute_result"
    }
   ],
   "source": [
    "# pip install nltk\n",
    "import nltk\n",
    "\n",
    "phrase = \"D'un texte à l'autre, l'exemple peut-il varier ?\"\n",
    "\n",
    "nltk.word_tokenize(phrase)"
   ]
  },
  {
   "cell_type": "markdown",
   "id": "38cf7432",
   "metadata": {},
   "source": [
    "## Normalisation \n",
    "\n",
    "Harmonisation des tokens (on enlève la ponctuation, on sépare \"d'un\" en \"d\" et \"un\"...)"
   ]
  },
  {
   "cell_type": "code",
   "execution_count": 3,
   "id": "9782b4c9",
   "metadata": {},
   "outputs": [
    {
     "data": {
      "text/plain": [
       "['D', 'un', 'texte', 'à', 'l', 'autre', 'l', 'exemple', 'peut', 'il', 'varier']"
      ]
     },
     "execution_count": 3,
     "metadata": {},
     "output_type": "execute_result"
    }
   ],
   "source": [
    "tokenizer = nltk.RegexpTokenizer(r'\\w+')\n",
    "tokenizer.tokenize(\"D'un texte à l'autre, l'exemple peut-il varier ?\")"
   ]
  },
  {
   "cell_type": "code",
   "execution_count": 4,
   "id": "35b8e3ba",
   "metadata": {},
   "outputs": [
    {
     "data": {
      "text/plain": [
       "['Hello.', 'This is a test.', 'It works!']"
      ]
     },
     "execution_count": 4,
     "metadata": {},
     "output_type": "execute_result"
    }
   ],
   "source": [
    "tokenizer = nltk.data.load('nltk:tokenizers/punkt/english.pickle')\n",
    "tokenizer.tokenize('Hello.  This is a test.  It works!')"
   ]
  },
  {
   "cell_type": "code",
   "execution_count": null,
   "id": "31cf1fe2",
   "metadata": {},
   "outputs": [],
   "source": []
  }
 ],
 "metadata": {
  "kernelspec": {
   "display_name": "Python 3 (ipykernel)",
   "language": "python",
   "name": "python3"
  },
  "language_info": {
   "codemirror_mode": {
    "name": "ipython",
    "version": 3
   },
   "file_extension": ".py",
   "mimetype": "text/x-python",
   "name": "python",
   "nbconvert_exporter": "python",
   "pygments_lexer": "ipython3",
   "version": "3.9.12"
  }
 },
 "nbformat": 4,
 "nbformat_minor": 5
}
