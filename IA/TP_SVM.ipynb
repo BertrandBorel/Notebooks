{
 "cells": [
  {
   "cell_type": "markdown",
   "id": "eb4f6800",
   "metadata": {},
   "source": [
    "# <center> Création d'un SVM </center>\n",
    "\n",
    "**Source :**\n",
    "    \n",
    "Cours d'Openclassrooms : https://openclassrooms.com/fr/courses/4470406-utilisez-des-modeles-supervises-non-lineaires/4722466-classifiez-vos-donnees-avec-une-svm-a-noyau\n",
    "\n",
    "## Importation des données"
   ]
  },
  {
   "cell_type": "code",
   "execution_count": 15,
   "id": "949b4416",
   "metadata": {},
   "outputs": [
    {
     "data": {
      "text/html": [
       "<div>\n",
       "<style scoped>\n",
       "    .dataframe tbody tr th:only-of-type {\n",
       "        vertical-align: middle;\n",
       "    }\n",
       "\n",
       "    .dataframe tbody tr th {\n",
       "        vertical-align: top;\n",
       "    }\n",
       "\n",
       "    .dataframe thead th {\n",
       "        text-align: right;\n",
       "    }\n",
       "</style>\n",
       "<table border=\"1\" class=\"dataframe\">\n",
       "  <thead>\n",
       "    <tr style=\"text-align: right;\">\n",
       "      <th></th>\n",
       "      <th>col 1</th>\n",
       "      <th>col 2</th>\n",
       "      <th>col 3</th>\n",
       "      <th>col 4</th>\n",
       "      <th>col 5</th>\n",
       "      <th>col 6</th>\n",
       "      <th>col 7</th>\n",
       "      <th>col 8</th>\n",
       "      <th>col 9</th>\n",
       "      <th>col 10</th>\n",
       "      <th>...</th>\n",
       "      <th>col 132</th>\n",
       "      <th>col 133</th>\n",
       "      <th>col 134</th>\n",
       "      <th>col 135</th>\n",
       "      <th>col 136</th>\n",
       "      <th>col 137</th>\n",
       "      <th>col 138</th>\n",
       "      <th>col 139</th>\n",
       "      <th>col 140</th>\n",
       "      <th>Classe</th>\n",
       "    </tr>\n",
       "  </thead>\n",
       "  <tbody>\n",
       "    <tr>\n",
       "      <th>0</th>\n",
       "      <td>-1.100878</td>\n",
       "      <td>-3.996840</td>\n",
       "      <td>-4.285843</td>\n",
       "      <td>-4.506579</td>\n",
       "      <td>-4.022377</td>\n",
       "      <td>-3.234368</td>\n",
       "      <td>-1.566126</td>\n",
       "      <td>-0.992258</td>\n",
       "      <td>-0.754680</td>\n",
       "      <td>0.042321</td>\n",
       "      <td>...</td>\n",
       "      <td>0.538356</td>\n",
       "      <td>0.656881</td>\n",
       "      <td>0.787490</td>\n",
       "      <td>0.724046</td>\n",
       "      <td>0.555784</td>\n",
       "      <td>0.476333</td>\n",
       "      <td>0.773820</td>\n",
       "      <td>1.119621</td>\n",
       "      <td>-1.436250</td>\n",
       "      <td>1.0</td>\n",
       "    </tr>\n",
       "    <tr>\n",
       "      <th>1</th>\n",
       "      <td>-0.567088</td>\n",
       "      <td>-2.593450</td>\n",
       "      <td>-3.874230</td>\n",
       "      <td>-4.584095</td>\n",
       "      <td>-4.187449</td>\n",
       "      <td>-3.151462</td>\n",
       "      <td>-1.742940</td>\n",
       "      <td>-1.490659</td>\n",
       "      <td>-1.183580</td>\n",
       "      <td>-0.394229</td>\n",
       "      <td>...</td>\n",
       "      <td>0.886073</td>\n",
       "      <td>0.531452</td>\n",
       "      <td>0.311377</td>\n",
       "      <td>-0.021919</td>\n",
       "      <td>-0.713683</td>\n",
       "      <td>-0.532197</td>\n",
       "      <td>0.321097</td>\n",
       "      <td>0.904227</td>\n",
       "      <td>-0.421797</td>\n",
       "      <td>1.0</td>\n",
       "    </tr>\n",
       "    <tr>\n",
       "      <th>2</th>\n",
       "      <td>0.490473</td>\n",
       "      <td>-1.914407</td>\n",
       "      <td>-3.616364</td>\n",
       "      <td>-4.318823</td>\n",
       "      <td>-4.268016</td>\n",
       "      <td>-3.881110</td>\n",
       "      <td>-2.993280</td>\n",
       "      <td>-1.671131</td>\n",
       "      <td>-1.333884</td>\n",
       "      <td>-0.965629</td>\n",
       "      <td>...</td>\n",
       "      <td>0.350816</td>\n",
       "      <td>0.499111</td>\n",
       "      <td>0.600345</td>\n",
       "      <td>0.842069</td>\n",
       "      <td>0.952074</td>\n",
       "      <td>0.990133</td>\n",
       "      <td>1.086798</td>\n",
       "      <td>1.403011</td>\n",
       "      <td>-0.383564</td>\n",
       "      <td>1.0</td>\n",
       "    </tr>\n",
       "    <tr>\n",
       "      <th>3</th>\n",
       "      <td>0.800232</td>\n",
       "      <td>-0.874252</td>\n",
       "      <td>-2.384761</td>\n",
       "      <td>-3.973292</td>\n",
       "      <td>-4.338224</td>\n",
       "      <td>-3.802422</td>\n",
       "      <td>-2.534510</td>\n",
       "      <td>-1.783423</td>\n",
       "      <td>-1.594450</td>\n",
       "      <td>-0.753199</td>\n",
       "      <td>...</td>\n",
       "      <td>1.148884</td>\n",
       "      <td>0.958434</td>\n",
       "      <td>1.059025</td>\n",
       "      <td>1.371682</td>\n",
       "      <td>1.277392</td>\n",
       "      <td>0.960304</td>\n",
       "      <td>0.971020</td>\n",
       "      <td>1.614392</td>\n",
       "      <td>1.421456</td>\n",
       "      <td>1.0</td>\n",
       "    </tr>\n",
       "    <tr>\n",
       "      <th>4</th>\n",
       "      <td>-1.507674</td>\n",
       "      <td>-3.574550</td>\n",
       "      <td>-4.478011</td>\n",
       "      <td>-4.408275</td>\n",
       "      <td>-3.321242</td>\n",
       "      <td>-2.105171</td>\n",
       "      <td>-1.481048</td>\n",
       "      <td>-1.301362</td>\n",
       "      <td>-0.498240</td>\n",
       "      <td>-0.286928</td>\n",
       "      <td>...</td>\n",
       "      <td>1.089068</td>\n",
       "      <td>0.983369</td>\n",
       "      <td>1.014124</td>\n",
       "      <td>0.952629</td>\n",
       "      <td>0.749326</td>\n",
       "      <td>1.007076</td>\n",
       "      <td>1.634990</td>\n",
       "      <td>1.493365</td>\n",
       "      <td>-0.783134</td>\n",
       "      <td>1.0</td>\n",
       "    </tr>\n",
       "  </tbody>\n",
       "</table>\n",
       "<p>5 rows × 141 columns</p>\n",
       "</div>"
      ],
      "text/plain": [
       "      col 1     col 2     col 3     col 4     col 5     col 6     col 7  \\\n",
       "0 -1.100878 -3.996840 -4.285843 -4.506579 -4.022377 -3.234368 -1.566126   \n",
       "1 -0.567088 -2.593450 -3.874230 -4.584095 -4.187449 -3.151462 -1.742940   \n",
       "2  0.490473 -1.914407 -3.616364 -4.318823 -4.268016 -3.881110 -2.993280   \n",
       "3  0.800232 -0.874252 -2.384761 -3.973292 -4.338224 -3.802422 -2.534510   \n",
       "4 -1.507674 -3.574550 -4.478011 -4.408275 -3.321242 -2.105171 -1.481048   \n",
       "\n",
       "      col 8     col 9    col 10  ...   col 132   col 133   col 134   col 135  \\\n",
       "0 -0.992258 -0.754680  0.042321  ...  0.538356  0.656881  0.787490  0.724046   \n",
       "1 -1.490659 -1.183580 -0.394229  ...  0.886073  0.531452  0.311377 -0.021919   \n",
       "2 -1.671131 -1.333884 -0.965629  ...  0.350816  0.499111  0.600345  0.842069   \n",
       "3 -1.783423 -1.594450 -0.753199  ...  1.148884  0.958434  1.059025  1.371682   \n",
       "4 -1.301362 -0.498240 -0.286928  ...  1.089068  0.983369  1.014124  0.952629   \n",
       "\n",
       "    col 136   col 137   col 138   col 139   col 140  Classe  \n",
       "0  0.555784  0.476333  0.773820  1.119621 -1.436250     1.0  \n",
       "1 -0.713683 -0.532197  0.321097  0.904227 -0.421797     1.0  \n",
       "2  0.952074  0.990133  1.086798  1.403011 -0.383564     1.0  \n",
       "3  1.277392  0.960304  0.971020  1.614392  1.421456     1.0  \n",
       "4  0.749326  1.007076  1.634990  1.493365 -0.783134     1.0  \n",
       "\n",
       "[5 rows x 141 columns]"
      ]
     },
     "execution_count": 15,
     "metadata": {},
     "output_type": "execute_result"
    }
   ],
   "source": [
    "import pandas as pd\n",
    "\n",
    "df = pd.read_csv(\"df.csv\")\n",
    "df.head()"
   ]
  },
  {
   "cell_type": "markdown",
   "id": "9067c24e",
   "metadata": {},
   "source": [
    "---\n",
    "\n",
    "## Fragmentation des données en jeu d'entraînement et de test"
   ]
  },
  {
   "cell_type": "markdown",
   "id": "7975ad96",
   "metadata": {},
   "source": [
    "### Création de X et y"
   ]
  },
  {
   "cell_type": "code",
   "execution_count": 17,
   "id": "39ccea28",
   "metadata": {},
   "outputs": [
    {
     "name": "stdout",
     "output_type": "stream",
     "text": [
      "X shape : (4997, 140)\n",
      "y shape : (4997,)\n"
     ]
    }
   ],
   "source": [
    "X = df.iloc[:, :-1]\n",
    "y = df.iloc[:, -1]\n",
    "\n",
    "print(\"X shape :\", X.shape)\n",
    "print(\"y shape :\", y.shape)"
   ]
  },
  {
   "cell_type": "markdown",
   "id": "c4a3c870",
   "metadata": {},
   "source": [
    "### Split Train/Test"
   ]
  },
  {
   "cell_type": "code",
   "execution_count": 18,
   "id": "e12ee919",
   "metadata": {},
   "outputs": [],
   "source": [
    "from sklearn.model_selection import train_test_split\n",
    "X_train, X_test, y_train, y_test = train_test_split(X, y, test_size=0.2, random_state=42)"
   ]
  },
  {
   "cell_type": "code",
   "execution_count": 19,
   "id": "e6516a41",
   "metadata": {},
   "outputs": [
    {
     "name": "stdout",
     "output_type": "stream",
     "text": [
      "(3997, 140)\n",
      "(1000, 140)\n",
      "(3997,)\n",
      "(1000,)\n"
     ]
    }
   ],
   "source": [
    "liste = [X_train, X_test, y_train, y_test]\n",
    "\n",
    "for x in liste :\n",
    "    print(x.shape)"
   ]
  },
  {
   "cell_type": "markdown",
   "id": "13903d6b",
   "metadata": {},
   "source": [
    "---\n",
    "\n",
    "## Création du modèle"
   ]
  },
  {
   "cell_type": "code",
   "execution_count": 20,
   "id": "6ae8e088",
   "metadata": {},
   "outputs": [],
   "source": [
    "from sklearn.svm import SVC\n",
    "# fonction de calcul du précision\n",
    "from sklearn.metrics import accuracy_score\n",
    "\n",
    "#Suppression des erreurs de type warning\n",
    "import warnings\n",
    "warnings.simplefilter(action='ignore', category=FutureWarning)"
   ]
  },
  {
   "cell_type": "code",
   "execution_count": 21,
   "id": "285de796",
   "metadata": {},
   "outputs": [
    {
     "name": "stdout",
     "output_type": "stream",
     "text": [
      "SVM: 0.991\n"
     ]
    }
   ],
   "source": [
    "# machine vecteurs de support\n",
    "SVM = SVC(gamma='auto')\n",
    "SVM.fit(X_train, y_train)\n",
    "predictions = SVM.predict(X_test)\n",
    "print(\"SVM: \"+str(accuracy_score(predictions, y_test)))"
   ]
  },
  {
   "cell_type": "markdown",
   "id": "57a3322c",
   "metadata": {},
   "source": [
    "## Optimisation du SVM"
   ]
  },
  {
   "cell_type": "code",
   "execution_count": 22,
   "id": "faa7ee85",
   "metadata": {},
   "outputs": [
    {
     "name": "stdout",
     "output_type": "stream",
     "text": [
      "Le meilleur paramètre est :\t {'C': 17}\n"
     ]
    }
   ],
   "source": [
    "from sklearn.model_selection import GridSearchCV\n",
    "\n",
    "#Définition d'une plage de valeurs à tester = C ira de 1 à 100\n",
    "penalite = [{'C': range(1,100)}]\n",
    "\n",
    "#Tests avec 5 échantillon de Validation Croisée\n",
    "recherche_optimisations = GridSearchCV(SVC(), penalite, cv=5)\n",
    "recherche_optimisations.fit(X_train, y_train)\n",
    "\n",
    "print(\"Le meilleur paramètre est :\\t\", recherche_optimisations.best_params_)"
   ]
  },
  {
   "cell_type": "markdown",
   "id": "5ad617eb",
   "metadata": {},
   "source": [
    "## Réentraînement du modèle avec le nouvel hyperparamètre"
   ]
  },
  {
   "cell_type": "code",
   "execution_count": 23,
   "id": "b9940124",
   "metadata": {},
   "outputs": [
    {
     "name": "stdout",
     "output_type": "stream",
     "text": [
      "SVM optimisée :   0.993\n"
     ]
    }
   ],
   "source": [
    "# machine vecteurs de support\n",
    "SVM = SVC(C=17, gamma='auto')\n",
    "SVM.fit(X_train, y_train)\n",
    "predictions = SVM.predict(X_test)\n",
    "print(\"SVM optimisée :  \", accuracy_score(predictions, y_test))"
   ]
  }
 ],
 "metadata": {
  "kernelspec": {
   "display_name": "Python 3 (ipykernel)",
   "language": "python",
   "name": "python3"
  },
  "language_info": {
   "codemirror_mode": {
    "name": "ipython",
    "version": 3
   },
   "file_extension": ".py",
   "mimetype": "text/x-python",
   "name": "python",
   "nbconvert_exporter": "python",
   "pygments_lexer": "ipython3",
   "version": "3.8.3"
  }
 },
 "nbformat": 4,
 "nbformat_minor": 5
}
