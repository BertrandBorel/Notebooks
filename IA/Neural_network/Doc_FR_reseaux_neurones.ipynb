{
 "cells": [
  {
   "cell_type": "markdown",
   "id": "22440ee2",
   "metadata": {},
   "source": [
    "# <center> Comprendre les réseaux de neurones </center>\n",
    "\n",
    "Notebook recensant des articles en français traitant des réseaux de neurones.\n",
    "\n",
    "\n",
    "## 1- Généralités \n",
    "\n",
    "- [Comprendre les réseaux de neurones](https://moncoachdata.com/blog/comprendre-les-reseaux-de-neurones/)\n",
    "\n",
    "- [Réseau de neurones artificiels](https://www.techno-science.net/glossaire-definition/Reseau-de-neurones-artificiels-page-5.html)\n",
    "\n",
    "- [Réseau de neurones artificiels : quelles sont leurs capacités ?](https://www.ionos.fr/digitalguide/web-marketing/search-engine-marketing/quest-ce-quun-reseau-neuronal-artificiel/)\n",
    "\n",
    "- [Les différents types de réseaux de neurones : réseau de neurones artificiels](https://ludo-louis.fr/types-reseaux-neurones-reseaux-neurones-artificiels/)\n",
    "\n",
    "\n",
    "- [Les différents types de réseaux de neurones : réseau de convolution](https://ludo-louis.fr/differents-reseaux-de-neurones-reseau-convolution/)\n",
    "\n",
    "- [Comment fonctionne le Deep Learning](https://ludo-louis.fr/comment-fonctionne-machine-et-deep-learning/)\n"
   ]
  },
  {
   "cell_type": "code",
   "execution_count": null,
   "id": "c7b56ce6",
   "metadata": {},
   "outputs": [],
   "source": []
  }
 ],
 "metadata": {
  "kernelspec": {
   "display_name": "Python 3 (ipykernel)",
   "language": "python",
   "name": "python3"
  },
  "language_info": {
   "codemirror_mode": {
    "name": "ipython",
    "version": 3
   },
   "file_extension": ".py",
   "mimetype": "text/x-python",
   "name": "python",
   "nbconvert_exporter": "python",
   "pygments_lexer": "ipython3",
   "version": "3.8.3"
  }
 },
 "nbformat": 4,
 "nbformat_minor": 5
}
