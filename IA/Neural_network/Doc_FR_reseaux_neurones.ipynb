{
 "cells": [
  {
   "cell_type": "markdown",
   "id": "aeeabb7f",
   "metadata": {},
   "source": [
    "# <center> Comprendre les réseaux de neurones </center>\n",
    "\n",
    "Notebook recensant des articles en français traitant des réseaux de neurones.\n",
    "\n",
    "\n",
    "## 1- Généralités \n",
    "\n",
    "- [Comprendre les réseaux de neurones](https://moncoachdata.com/blog/comprendre-les-reseaux-de-neurones/)\n",
    "\n",
    "- [Réseau de neurones artificiels](https://www.techno-science.net/glossaire-definition/Reseau-de-neurones-artificiels-page-5.html)\n",
    "\n",
    "- [Réseau de neurones artificiels : quelles sont leurs capacités ?](https://www.ionos.fr/digitalguide/web-marketing/search-engine-marketing/quest-ce-quun-reseau-neuronal-artificiel/)\n",
    "\n",
    "- [Les différents types de réseaux de neurones : réseau de neurones artificiels](https://ludo-louis.fr/types-reseaux-neurones-reseaux-neurones-artificiels/)\n",
    "\n",
    "\n",
    "- [Les différents types de réseaux de neurones : réseau de convolution](https://ludo-louis.fr/differents-reseaux-de-neurones-reseau-convolution/)\n",
    "\n",
    "## 2- Deep Learning\n",
    "\n",
    "- [Comment fonctionne le Deep Learning](https://ludo-louis.fr/comment-fonctionne-machine-et-deep-learning/)\n",
    "\n",
    "- [Deep Neural Network : qu’est-ce qu’un réseau de neurones profond ?](https://datascientest.com/deep-neural-network)\n",
    "\n",
    "\n",
    "### 3- Cours en ligne\n",
    "\n",
    "- [Utilisez des modèles supervisés non linéaires](https://openclassrooms.com/fr/courses/4470406-utilisez-des-modeles-supervises-non-lineaires)\n",
    "\n",
    "- [Analysez vos données textuelles, partie : Traitez le corpus de textes à l'aide de réseaux de neurones](https://openclassrooms.com/fr/courses/4470541-analysez-vos-donnees-textuelles/4855036-traitez-le-corpus-de-textes-a-laide-de-reseaux-de-neurones)\n",
    "\n",
    "- [Initiez-vous au Deep Learning](https://openclassrooms.com/fr/courses/5801891-initiez-vous-au-deep-learning)"
   ]
  },
  {
   "cell_type": "code",
   "execution_count": null,
   "id": "1d3fc8ab",
   "metadata": {},
   "outputs": [],
   "source": []
  }
 ],
 "metadata": {
  "kernelspec": {
   "display_name": "Python 3 (ipykernel)",
   "language": "python",
   "name": "python3"
  },
  "language_info": {
   "codemirror_mode": {
    "name": "ipython",
    "version": 3
   },
   "file_extension": ".py",
   "mimetype": "text/x-python",
   "name": "python",
   "nbconvert_exporter": "python",
   "pygments_lexer": "ipython3",
   "version": "3.8.3"
  }
 },
 "nbformat": 4,
 "nbformat_minor": 5
}
