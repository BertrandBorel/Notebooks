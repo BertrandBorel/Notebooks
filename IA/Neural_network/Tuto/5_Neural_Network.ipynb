{
 "cells": [
  {
   "cell_type": "markdown",
   "id": "ea17d40c",
   "metadata": {},
   "source": [
    "# <center> Réseau avec des couches cachées </center>\n",
    "\n",
    "**Source :** Aurélien Vannieuwenhuyze, Intelligence artificielle vulgarisée, le Machine Learning et le Deep Learning par la pratique, ENI, Paris, 2019, p.326-337.\n",
    "\n",
    "## Importations"
   ]
  },
  {
   "cell_type": "code",
   "execution_count": 90,
   "id": "09067345",
   "metadata": {},
   "outputs": [],
   "source": [
    "import pandas as pd\n",
    "import numpy as np\n",
    "import tensorflow.compat.v1 as tf\n",
    "tf.disable_v2_behavior()\n",
    "import matplotlib.pyplot as plt"
   ]
  },
  {
   "cell_type": "markdown",
   "id": "0c0eb816",
   "metadata": {},
   "source": [
    "## Données"
   ]
  },
  {
   "cell_type": "code",
   "execution_count": 75,
   "id": "f67b5a93",
   "metadata": {},
   "outputs": [],
   "source": [
    "df = pd.read_csv(\"df_sonar.csv\")"
   ]
  },
  {
   "cell_type": "code",
   "execution_count": 76,
   "id": "f7bdbea9",
   "metadata": {},
   "outputs": [],
   "source": [
    "# X (valeurs)\n",
    "X = df[df.columns[:-1]].values\n",
    "# y (labels)\n",
    "y = df[df.columns[-1]]"
   ]
  },
  {
   "cell_type": "markdown",
   "id": "86cad657",
   "metadata": {},
   "source": [
    "## Encodage des labels\n",
    "\n",
    "Les mines sont égales à 0 et les rochers égaux à 1."
   ]
  },
  {
   "cell_type": "code",
   "execution_count": 77,
   "id": "38b64ff4",
   "metadata": {},
   "outputs": [],
   "source": [
    "from sklearn.preprocessing import LabelEncoder\n",
    "\n",
    "encoder = LabelEncoder()\n",
    "encoder.fit(y)\n",
    "y = encoder.transform(y)"
   ]
  },
  {
   "cell_type": "code",
   "execution_count": 78,
   "id": "6654dc97",
   "metadata": {},
   "outputs": [],
   "source": [
    "#On ajoute un encodage pour créer des classes\n",
    "# Si c'est une mine [1, 0]\n",
    "# Si c'est un rocher [0, 1]\n",
    "n_labels = len(y)\n",
    "n_unique_labels = len(np.unique(y))\n",
    "one_hot_encode = np.zeros((n_labels, n_unique_labels))\n",
    "one_hot_encode[np.arange(n_labels), y] = 1\n",
    "Y = one_hot_encode"
   ]
  },
  {
   "cell_type": "code",
   "execution_count": 79,
   "id": "4774cd9e",
   "metadata": {},
   "outputs": [
    {
     "name": "stdout",
     "output_type": "stream",
     "text": [
      "Classe Rocher:  1\n",
      "Classe Mine : 0\n"
     ]
    }
   ],
   "source": [
    "#Vérification en prenant les enregistrements 0 et 97\n",
    "print( \"Classe Rocher: \", int(Y[0][1]))\n",
    "print( \"Classe Mine :\", int(Y[97][1]))"
   ]
  },
  {
   "cell_type": "markdown",
   "id": "59531bd1",
   "metadata": {},
   "source": [
    "## Création des jeux d'apprentissage et de tests\n",
    "\n",
    "**Condition :** 192 observations d'apprentissage et 16 observations de tests (soit 0,07 %)."
   ]
  },
  {
   "cell_type": "code",
   "execution_count": 80,
   "id": "6a61b334",
   "metadata": {},
   "outputs": [],
   "source": [
    "#On mélange les observations\n",
    "from sklearn.utils import shuffle\n",
    "X, Y = shuffle(X , Y, random_state=1)"
   ]
  },
  {
   "cell_type": "code",
   "execution_count": 81,
   "id": "0b951689",
   "metadata": {},
   "outputs": [],
   "source": [
    "#Création des jeux d'apprentissage et de tests\n",
    "from sklearn.model_selection import train_test_split\n",
    "\n",
    "train_x, test_x, train_y, test_y = train_test_split(X, Y, test_size=0.07, random_state=42)"
   ]
  },
  {
   "cell_type": "markdown",
   "id": "8c3ada74",
   "metadata": {},
   "source": [
    "## Paramétrage du réseau de neurones avec une couche cachée de 24 neurones\n",
    "\n",
    "Vient ensuite la phase de paramétrage du réseau de neurones, avec la création de tuples `poids` et `poids_biais` pour le paramétrage des différents poids et biais des couches d'entrée, de la couche cachée et de la couche de sortie.\n",
    "\n",
    "Voici le nombre de neurones utilisés pour chaque couche :\n",
    "- Nombre de neurones présents dans la couche d'entrée : 60\n",
    "- Nombre de neurones présents dans la couche cachée : 24\n",
    "- Nombre de neurones en sortie : 2\n",
    "\n",
    "À noter que les valeurs des poids sont générées dans l'intervalle [-0.3, 0.3] comme préconise l'étude. Cette génération est réalisée grâce à la fonction `tf.random.uniform`. Cette fonction prend également en paramètre une liste définissant le nombre de neurones de la couche d'entrée et le nombre de neurones de la couche de sortie. Ainsi [60,24] signifie qu'il faut générer des poids pour 60 neurones connectés à 24 neurones, soit un total de 1440 poids (60*24)!"
   ]
  },
  {
   "cell_type": "code",
   "execution_count": 82,
   "id": "3485e9b8",
   "metadata": {},
   "outputs": [],
   "source": [
    "epochs = 300\n",
    "\n",
    "nombre_neurones_entree = 60\n",
    "nombre_neurones_sortie = 2\n",
    "nombre_neurones_couche_cachee = 24\n",
    "\n",
    "taux_apprentissage = 0.01"
   ]
  },
  {
   "cell_type": "code",
   "execution_count": 83,
   "id": "9693d7f0",
   "metadata": {},
   "outputs": [],
   "source": [
    "#Variable TensorFLow correspondant aux 60 valeurs des neurones d'entrée\n",
    "tf_neurones_entrees_X = tf.placeholder(tf.float32, [None, 60])\n",
    "\n",
    "#Variable TensorFlow correspondant aux 2 neurones de sortie\n",
    "tf_valeurs_reelles_Y = tf.placeholder(tf.float32, [None, 2])"
   ]
  },
  {
   "cell_type": "code",
   "execution_count": 84,
   "id": "ddd40bd6",
   "metadata": {},
   "outputs": [],
   "source": [
    "poids = {\n",
    "    # 60 neurones d'entrées vers 24 Neurones de la couche cachée\n",
    "    'couche_entree_vers_cachee': tf.Variable(tf.random_uniform([60, 24], minval=-0.3, maxval=0.3), tf.float32),\n",
    "\n",
    "    # 24 neurones de la couche cachée vers 2 de la couche de sortie\n",
    "    'couche_cachee_vers_sortie': tf.Variable(tf.random_uniform([24, 2], minval=-0.3, maxval=0.3), tf.float32),\n",
    "}\n",
    "\n",
    "poids_biais = {\n",
    "     #1 biais de la couche d'entrée vers les 24 neurones de la couche cachée\n",
    "    'poids_biais_couche_entree_vers_cachee': tf.Variable(tf.zeros([24]), tf.float32),\n",
    "\n",
    "    #1 biais de la couche cachée vers les 2 neurones de la couche de sortie\n",
    "    'poids_biais_couche_cachee_vers_sortie': tf.Variable(tf.zeros([2]), tf.float32),\n",
    "}"
   ]
  },
  {
   "cell_type": "markdown",
   "id": "d8b3644a",
   "metadata": {},
   "source": [
    "Nous définissons ensuite une fonction chargée de créer le réseau de neurones.\n",
    "On y retrouve la définition des différentes fonctions d'activation de type sigmoïde\n",
    "de chaque couche en veillant à bien utiliser les poids adéquats en relation\n",
    "avec la couche concernée. \n",
    "\n",
    "Cette fonction nous retourne le modèle que l'on\n",
    "pourra utiliser par la suite dans la phase de test afin de vérifier le bon apprentissage\n",
    "du réseau de neurones."
   ]
  },
  {
   "cell_type": "code",
   "execution_count": 85,
   "id": "0cd88599",
   "metadata": {},
   "outputs": [],
   "source": [
    "def reseau_neurones_multicouches(observations_en_entrees, poids, poids_biais):\n",
    "\n",
    "    #Calcul de l'activation de la première couche\n",
    "    premiere_activation = tf.sigmoid(tf.matmul(tf_neurones_entrees_X, poids['couche_entree_vers_cachee']) + poids_biais['poids_biais_couche_entree_vers_cachee'])\n",
    "\n",
    "    #Calcul de l'activation de la seconde couche\n",
    "    activation_couche_cachee = tf.sigmoid(tf.matmul(premiere_activation, poids['couche_cachee_vers_sortie']) + poids_biais['poids_biais_couche_cachee_vers_sortie'])\n",
    "\n",
    "    return activation_couche_cachee"
   ]
  },
  {
   "cell_type": "markdown",
   "id": "637b46cd",
   "metadata": {},
   "source": [
    "### Création du réseau de neurones"
   ]
  },
  {
   "cell_type": "code",
   "execution_count": 86,
   "id": "c30ef67e",
   "metadata": {},
   "outputs": [],
   "source": [
    "reseau = reseau_neurones_multicouches(tf_neurones_entrees_X, poids, poids_biais)"
   ]
  },
  {
   "cell_type": "markdown",
   "id": "9ea6fb74",
   "metadata": {},
   "source": [
    "### Fonction d'erreur et fonction d'optimisation"
   ]
  },
  {
   "cell_type": "code",
   "execution_count": 87,
   "id": "89de5a9f",
   "metadata": {},
   "outputs": [],
   "source": [
    "#Fonction d'erreur de moyenne quadratique MSE\n",
    "fonction_erreur = tf.reduce_sum(tf.pow(tf_valeurs_reelles_Y-reseau,2))\n",
    "\n",
    "#Descente de gradient avec un taux d'apprentissage fixé à 0.1\n",
    "optimiseur = tf.train.GradientDescentOptimizer(learning_rate=taux_apprentissage).minimize(fonction_erreur)"
   ]
  },
  {
   "cell_type": "markdown",
   "id": "9fab3d8a",
   "metadata": {},
   "source": [
    "## Apprentissage"
   ]
  },
  {
   "cell_type": "code",
   "execution_count": 88,
   "id": "0851d59f",
   "metadata": {},
   "outputs": [
    {
     "name": "stdout",
     "output_type": "stream",
     "text": [
      "EPOCH (0/300) -  MSE: 97.58148\n",
      "EPOCH (1/300) -  MSE: 96.026024\n",
      "EPOCH (2/300) -  MSE: 95.52481\n",
      "EPOCH (3/300) -  MSE: 95.049934\n",
      "EPOCH (4/300) -  MSE: 94.756996\n",
      "EPOCH (5/300) -  MSE: 94.47017\n",
      "EPOCH (6/300) -  MSE: 94.239235\n",
      "EPOCH (7/300) -  MSE: 94.009224\n",
      "EPOCH (8/300) -  MSE: 93.797806\n",
      "EPOCH (9/300) -  MSE: 93.58394\n",
      "EPOCH (10/300) -  MSE: 93.37436\n",
      "EPOCH (11/300) -  MSE: 93.15987\n",
      "EPOCH (12/300) -  MSE: 92.943146\n",
      "EPOCH (13/300) -  MSE: 92.71969\n",
      "EPOCH (14/300) -  MSE: 92.490585\n",
      "EPOCH (15/300) -  MSE: 92.25336\n",
      "EPOCH (16/300) -  MSE: 92.00842\n",
      "EPOCH (17/300) -  MSE: 91.7543\n",
      "EPOCH (18/300) -  MSE: 91.49114\n",
      "EPOCH (19/300) -  MSE: 91.21797\n",
      "EPOCH (20/300) -  MSE: 90.93486\n",
      "EPOCH (21/300) -  MSE: 90.641174\n",
      "EPOCH (22/300) -  MSE: 90.33697\n",
      "EPOCH (23/300) -  MSE: 90.02184\n",
      "EPOCH (24/300) -  MSE: 89.69592\n",
      "EPOCH (25/300) -  MSE: 89.35902\n",
      "EPOCH (26/300) -  MSE: 89.01139\n",
      "EPOCH (27/300) -  MSE: 88.65304\n",
      "EPOCH (28/300) -  MSE: 88.28444\n",
      "EPOCH (29/300) -  MSE: 87.90586\n",
      "EPOCH (30/300) -  MSE: 87.518234\n",
      "EPOCH (31/300) -  MSE: 87.12235\n",
      "EPOCH (32/300) -  MSE: 86.720314\n",
      "EPOCH (33/300) -  MSE: 86.31441\n",
      "EPOCH (34/300) -  MSE: 85.91064\n",
      "EPOCH (35/300) -  MSE: 85.5163\n",
      "EPOCH (36/300) -  MSE: 85.152565\n",
      "EPOCH (37/300) -  MSE: 84.84459\n",
      "EPOCH (38/300) -  MSE: 84.67788\n",
      "EPOCH (39/300) -  MSE: 84.73013\n",
      "EPOCH (40/300) -  MSE: 85.352234\n",
      "EPOCH (41/300) -  MSE: 86.55203\n",
      "EPOCH (42/300) -  MSE: 89.42407\n",
      "EPOCH (43/300) -  MSE: 91.48596\n",
      "EPOCH (44/300) -  MSE: 95.88756\n",
      "EPOCH (45/300) -  MSE: 93.23828\n",
      "EPOCH (46/300) -  MSE: 96.376465\n",
      "EPOCH (47/300) -  MSE: 91.61037\n",
      "EPOCH (48/300) -  MSE: 93.95599\n",
      "EPOCH (49/300) -  MSE: 90.01878\n",
      "EPOCH (50/300) -  MSE: 91.82147\n",
      "EPOCH (51/300) -  MSE: 88.53029\n",
      "EPOCH (52/300) -  MSE: 89.977936\n",
      "EPOCH (53/300) -  MSE: 87.174576\n",
      "EPOCH (54/300) -  MSE: 88.40296\n",
      "EPOCH (55/300) -  MSE: 85.96108\n",
      "EPOCH (56/300) -  MSE: 87.06619\n",
      "EPOCH (57/300) -  MSE: 84.88583\n",
      "EPOCH (58/300) -  MSE: 85.934525\n",
      "EPOCH (59/300) -  MSE: 83.93633\n",
      "EPOCH (60/300) -  MSE: 84.97443\n",
      "EPOCH (61/300) -  MSE: 83.095055\n",
      "EPOCH (62/300) -  MSE: 84.1529\n",
      "EPOCH (63/300) -  MSE: 82.34183\n",
      "EPOCH (64/300) -  MSE: 83.43817\n",
      "EPOCH (65/300) -  MSE: 81.655914\n",
      "EPOCH (66/300) -  MSE: 82.800766\n",
      "EPOCH (67/300) -  MSE: 81.018\n",
      "EPOCH (68/300) -  MSE: 82.215\n",
      "EPOCH (69/300) -  MSE: 80.411835\n",
      "EPOCH (70/300) -  MSE: 81.66044\n",
      "EPOCH (71/300) -  MSE: 79.82529\n",
      "EPOCH (72/300) -  MSE: 81.122574\n",
      "EPOCH (73/300) -  MSE: 79.2505\n",
      "EPOCH (74/300) -  MSE: 80.59244\n",
      "EPOCH (75/300) -  MSE: 78.68324\n",
      "EPOCH (76/300) -  MSE: 80.06553\n",
      "EPOCH (77/300) -  MSE: 78.12181\n",
      "EPOCH (78/300) -  MSE: 79.54027\n",
      "EPOCH (79/300) -  MSE: 77.56601\n",
      "EPOCH (80/300) -  MSE: 79.01671\n",
      "EPOCH (81/300) -  MSE: 77.01631\n",
      "EPOCH (82/300) -  MSE: 78.49562\n",
      "EPOCH (83/300) -  MSE: 76.47339\n",
      "EPOCH (84/300) -  MSE: 77.977875\n",
      "EPOCH (85/300) -  MSE: 75.93785\n",
      "EPOCH (86/300) -  MSE: 77.46428\n",
      "EPOCH (87/300) -  MSE: 75.41016\n",
      "EPOCH (88/300) -  MSE: 76.955475\n",
      "EPOCH (89/300) -  MSE: 74.89063\n",
      "EPOCH (90/300) -  MSE: 76.45195\n",
      "EPOCH (91/300) -  MSE: 74.37951\n",
      "EPOCH (92/300) -  MSE: 75.95412\n",
      "EPOCH (93/300) -  MSE: 73.876915\n",
      "EPOCH (94/300) -  MSE: 75.462296\n",
      "EPOCH (95/300) -  MSE: 73.38299\n",
      "EPOCH (96/300) -  MSE: 74.97681\n",
      "EPOCH (97/300) -  MSE: 72.89778\n",
      "EPOCH (98/300) -  MSE: 74.49793\n",
      "EPOCH (99/300) -  MSE: 72.421364\n",
      "EPOCH (100/300) -  MSE: 74.02591\n",
      "EPOCH (101/300) -  MSE: 71.953766\n",
      "EPOCH (102/300) -  MSE: 73.56097\n",
      "EPOCH (103/300) -  MSE: 71.49498\n",
      "EPOCH (104/300) -  MSE: 73.10331\n",
      "EPOCH (105/300) -  MSE: 71.045006\n",
      "EPOCH (106/300) -  MSE: 72.6531\n",
      "EPOCH (107/300) -  MSE: 70.60381\n",
      "EPOCH (108/300) -  MSE: 72.210464\n",
      "EPOCH (109/300) -  MSE: 70.17136\n",
      "EPOCH (110/300) -  MSE: 71.77552\n",
      "EPOCH (111/300) -  MSE: 69.74754\n",
      "EPOCH (112/300) -  MSE: 71.34833\n",
      "EPOCH (113/300) -  MSE: 69.332306\n",
      "EPOCH (114/300) -  MSE: 70.928925\n",
      "EPOCH (115/300) -  MSE: 68.925545\n",
      "EPOCH (116/300) -  MSE: 70.517334\n",
      "EPOCH (117/300) -  MSE: 68.52716\n",
      "EPOCH (118/300) -  MSE: 70.113556\n",
      "EPOCH (119/300) -  MSE: 68.137024\n",
      "EPOCH (120/300) -  MSE: 69.71756\n",
      "EPOCH (121/300) -  MSE: 67.75501\n",
      "EPOCH (122/300) -  MSE: 69.32933\n",
      "EPOCH (123/300) -  MSE: 67.38101\n",
      "EPOCH (124/300) -  MSE: 68.94879\n",
      "EPOCH (125/300) -  MSE: 67.01486\n",
      "EPOCH (126/300) -  MSE: 68.5759\n",
      "EPOCH (127/300) -  MSE: 66.65645\n",
      "EPOCH (128/300) -  MSE: 68.210556\n",
      "EPOCH (129/300) -  MSE: 66.3056\n",
      "EPOCH (130/300) -  MSE: 67.85267\n",
      "EPOCH (131/300) -  MSE: 65.96221\n",
      "EPOCH (132/300) -  MSE: 67.50215\n",
      "EPOCH (133/300) -  MSE: 65.6261\n",
      "EPOCH (134/300) -  MSE: 67.15889\n",
      "EPOCH (135/300) -  MSE: 65.29713\n",
      "EPOCH (136/300) -  MSE: 66.82277\n",
      "EPOCH (137/300) -  MSE: 64.97516\n",
      "EPOCH (138/300) -  MSE: 66.49367\n",
      "EPOCH (139/300) -  MSE: 64.66001\n",
      "EPOCH (140/300) -  MSE: 66.171455\n",
      "EPOCH (141/300) -  MSE: 64.35155\n",
      "EPOCH (142/300) -  MSE: 65.856\n",
      "EPOCH (143/300) -  MSE: 64.04963\n",
      "EPOCH (144/300) -  MSE: 65.54718\n",
      "EPOCH (145/300) -  MSE: 63.754097\n",
      "EPOCH (146/300) -  MSE: 65.24484\n",
      "EPOCH (147/300) -  MSE: 63.46479\n",
      "EPOCH (148/300) -  MSE: 64.94884\n",
      "EPOCH (149/300) -  MSE: 63.181557\n",
      "EPOCH (150/300) -  MSE: 64.65901\n",
      "EPOCH (151/300) -  MSE: 62.904243\n",
      "EPOCH (152/300) -  MSE: 64.37524\n",
      "EPOCH (153/300) -  MSE: 62.632698\n",
      "EPOCH (154/300) -  MSE: 64.09735\n",
      "EPOCH (155/300) -  MSE: 62.366783\n",
      "EPOCH (156/300) -  MSE: 63.82521\n",
      "EPOCH (157/300) -  MSE: 62.106346\n",
      "EPOCH (158/300) -  MSE: 63.558662\n",
      "EPOCH (159/300) -  MSE: 61.85124\n",
      "EPOCH (160/300) -  MSE: 63.29757\n",
      "EPOCH (161/300) -  MSE: 61.60132\n",
      "EPOCH (162/300) -  MSE: 63.041763\n",
      "EPOCH (163/300) -  MSE: 61.356445\n",
      "EPOCH (164/300) -  MSE: 62.791107\n",
      "EPOCH (165/300) -  MSE: 61.11647\n",
      "EPOCH (166/300) -  MSE: 62.545456\n",
      "EPOCH (167/300) -  MSE: 60.881275\n",
      "EPOCH (168/300) -  MSE: 62.30467\n",
      "EPOCH (169/300) -  MSE: 60.65071\n",
      "EPOCH (170/300) -  MSE: 62.068596\n",
      "EPOCH (171/300) -  MSE: 60.42466\n",
      "EPOCH (172/300) -  MSE: 61.837112\n",
      "EPOCH (173/300) -  MSE: 60.20298\n",
      "EPOCH (174/300) -  MSE: 61.61007\n",
      "EPOCH (175/300) -  MSE: 59.985558\n",
      "EPOCH (176/300) -  MSE: 61.387352\n",
      "EPOCH (177/300) -  MSE: 59.772278\n",
      "EPOCH (178/300) -  MSE: 61.16881\n",
      "EPOCH (179/300) -  MSE: 59.563007\n",
      "EPOCH (180/300) -  MSE: 60.95434\n",
      "EPOCH (181/300) -  MSE: 59.357643\n",
      "EPOCH (182/300) -  MSE: 60.743805\n",
      "EPOCH (183/300) -  MSE: 59.15606\n",
      "EPOCH (184/300) -  MSE: 60.537094\n",
      "EPOCH (185/300) -  MSE: 58.958176\n",
      "EPOCH (186/300) -  MSE: 60.3341\n",
      "EPOCH (187/300) -  MSE: 58.763863\n",
      "EPOCH (188/300) -  MSE: 60.134697\n",
      "EPOCH (189/300) -  MSE: 58.573036\n",
      "EPOCH (190/300) -  MSE: 59.938793\n",
      "EPOCH (191/300) -  MSE: 58.38559\n",
      "EPOCH (192/300) -  MSE: 59.74628\n",
      "EPOCH (193/300) -  MSE: 58.20144\n",
      "EPOCH (194/300) -  MSE: 59.557064\n",
      "EPOCH (195/300) -  MSE: 58.02048\n",
      "EPOCH (196/300) -  MSE: 59.37104\n",
      "EPOCH (197/300) -  MSE: 57.84264\n",
      "EPOCH (198/300) -  MSE: 59.18813\n",
      "EPOCH (199/300) -  MSE: 57.667824\n",
      "EPOCH (200/300) -  MSE: 59.008232\n",
      "EPOCH (201/300) -  MSE: 57.49596\n",
      "EPOCH (202/300) -  MSE: 58.831276\n",
      "EPOCH (203/300) -  MSE: 57.326965\n",
      "EPOCH (204/300) -  MSE: 58.657173\n",
      "EPOCH (205/300) -  MSE: 57.16076\n",
      "EPOCH (206/300) -  MSE: 58.485844\n",
      "EPOCH (207/300) -  MSE: 56.997276\n",
      "EPOCH (208/300) -  MSE: 58.317223\n",
      "EPOCH (209/300) -  MSE: 56.83645\n",
      "EPOCH (210/300) -  MSE: 58.151245\n",
      "EPOCH (211/300) -  MSE: 56.678204\n",
      "EPOCH (212/300) -  MSE: 57.98783\n",
      "EPOCH (213/300) -  MSE: 56.522484\n",
      "EPOCH (214/300) -  MSE: 57.82692\n",
      "EPOCH (215/300) -  MSE: 56.369217\n",
      "EPOCH (216/300) -  MSE: 57.66845\n",
      "EPOCH (217/300) -  MSE: 56.218346\n",
      "EPOCH (218/300) -  MSE: 57.512356\n",
      "EPOCH (219/300) -  MSE: 56.069817\n",
      "EPOCH (220/300) -  MSE: 57.358593\n",
      "EPOCH (221/300) -  MSE: 55.923573\n",
      "EPOCH (222/300) -  MSE: 57.2071\n",
      "EPOCH (223/300) -  MSE: 55.779552\n",
      "EPOCH (224/300) -  MSE: 57.057827\n",
      "EPOCH (225/300) -  MSE: 55.63772\n",
      "EPOCH (226/300) -  MSE: 56.91072\n",
      "EPOCH (227/300) -  MSE: 55.49801\n",
      "EPOCH (228/300) -  MSE: 56.76574\n",
      "EPOCH (229/300) -  MSE: 55.360374\n",
      "EPOCH (230/300) -  MSE: 56.62283\n",
      "EPOCH (231/300) -  MSE: 55.22478\n",
      "EPOCH (232/300) -  MSE: 56.481956\n",
      "EPOCH (233/300) -  MSE: 55.09117\n",
      "EPOCH (234/300) -  MSE: 56.34308\n",
      "EPOCH (235/300) -  MSE: 54.959503\n",
      "EPOCH (236/300) -  MSE: 56.206154\n",
      "EPOCH (237/300) -  MSE: 54.829742\n",
      "EPOCH (238/300) -  MSE: 56.071133\n",
      "EPOCH (239/300) -  MSE: 54.701836\n",
      "EPOCH (240/300) -  MSE: 55.93799\n",
      "EPOCH (241/300) -  MSE: 54.575764\n",
      "EPOCH (242/300) -  MSE: 55.80669\n",
      "EPOCH (243/300) -  MSE: 54.451458\n",
      "EPOCH (244/300) -  MSE: 55.677193\n",
      "EPOCH (245/300) -  MSE: 54.328903\n",
      "EPOCH (246/300) -  MSE: 55.549454\n",
      "EPOCH (247/300) -  MSE: 54.208054\n",
      "EPOCH (248/300) -  MSE: 55.423473\n",
      "EPOCH (249/300) -  MSE: 54.08888\n",
      "EPOCH (250/300) -  MSE: 55.299187\n",
      "EPOCH (251/300) -  MSE: 53.971344\n",
      "EPOCH (252/300) -  MSE: 55.176582\n",
      "EPOCH (253/300) -  MSE: 53.855415\n",
      "EPOCH (254/300) -  MSE: 55.055626\n",
      "EPOCH (255/300) -  MSE: 53.74105\n",
      "EPOCH (256/300) -  MSE: 54.936287\n",
      "EPOCH (257/300) -  MSE: 53.628227\n",
      "EPOCH (258/300) -  MSE: 54.818535\n",
      "EPOCH (259/300) -  MSE: 53.51691\n",
      "EPOCH (260/300) -  MSE: 54.702354\n",
      "EPOCH (261/300) -  MSE: 53.407074\n",
      "EPOCH (262/300) -  MSE: 54.58771\n",
      "EPOCH (263/300) -  MSE: 53.298687\n",
      "EPOCH (264/300) -  MSE: 54.47458\n",
      "EPOCH (265/300) -  MSE: 53.19171\n",
      "EPOCH (266/300) -  MSE: 54.362938\n",
      "EPOCH (267/300) -  MSE: 53.086132\n",
      "EPOCH (268/300) -  MSE: 54.252754\n",
      "EPOCH (269/300) -  MSE: 52.98191\n",
      "EPOCH (270/300) -  MSE: 54.144012\n",
      "EPOCH (271/300) -  MSE: 52.87903\n",
      "EPOCH (272/300) -  MSE: 54.03669\n",
      "EPOCH (273/300) -  MSE: 52.777443\n",
      "EPOCH (274/300) -  MSE: 53.930756\n",
      "EPOCH (275/300) -  MSE: 52.67715\n",
      "EPOCH (276/300) -  MSE: 53.826195\n",
      "EPOCH (277/300) -  MSE: 52.57811\n",
      "EPOCH (278/300) -  MSE: 53.722977\n",
      "EPOCH (279/300) -  MSE: 52.480293\n",
      "EPOCH (280/300) -  MSE: 53.621082\n",
      "EPOCH (281/300) -  MSE: 52.38368\n",
      "EPOCH (282/300) -  MSE: 53.520496\n",
      "EPOCH (283/300) -  MSE: 52.288242\n",
      "EPOCH (284/300) -  MSE: 53.42119\n",
      "EPOCH (285/300) -  MSE: 52.193962\n",
      "EPOCH (286/300) -  MSE: 53.323147\n",
      "EPOCH (287/300) -  MSE: 52.100815\n",
      "EPOCH (288/300) -  MSE: 53.22635\n"
     ]
    },
    {
     "name": "stdout",
     "output_type": "stream",
     "text": [
      "EPOCH (289/300) -  MSE: 52.008762\n",
      "EPOCH (290/300) -  MSE: 53.130768\n",
      "EPOCH (291/300) -  MSE: 51.91781\n",
      "EPOCH (292/300) -  MSE: 53.036385\n",
      "EPOCH (293/300) -  MSE: 51.827904\n",
      "EPOCH (294/300) -  MSE: 52.943184\n",
      "EPOCH (295/300) -  MSE: 51.739044\n",
      "EPOCH (296/300) -  MSE: 52.851143\n",
      "EPOCH (297/300) -  MSE: 51.651196\n",
      "EPOCH (298/300) -  MSE: 52.76025\n",
      "EPOCH (299/300) -  MSE: 51.56434\n"
     ]
    }
   ],
   "source": [
    "#Initialisation des variable\n",
    "init = tf.global_variables_initializer()\n",
    "\n",
    "#Démarrage d'une session d'apprentissage\n",
    "session = tf.Session()\n",
    "session.run(init)\n",
    "\n",
    "#Pour la réalisation du graphique pour la MSE\n",
    "Graphique_MSE=[]\n",
    "\n",
    "\n",
    "#Pour chaque epoch\n",
    "for i in range(epochs):\n",
    "\n",
    "   #Realisation de l'apprentissage avec mise à jour des poids\n",
    "   session.run(optimiseur, feed_dict = {tf_neurones_entrees_X: train_x, tf_valeurs_reelles_Y:train_y})\n",
    "\n",
    "   #Calculer l'erreur\n",
    "   MSE = session.run(fonction_erreur, feed_dict = {tf_neurones_entrees_X: train_x, tf_valeurs_reelles_Y:train_y})\n",
    "\n",
    "   #Affichage des informations\n",
    "   Graphique_MSE.append(MSE)\n",
    "   print(\"EPOCH (\" + str(i) + \"/\" + str(epochs) + \") -  MSE: \"+ str(MSE))"
   ]
  },
  {
   "cell_type": "markdown",
   "id": "e903ecfa",
   "metadata": {},
   "source": [
    "## Visualisation"
   ]
  },
  {
   "cell_type": "code",
   "execution_count": 91,
   "id": "d4a61ad0",
   "metadata": {},
   "outputs": [
    {
     "data": {
      "image/png": "[encoded data removed]",
      "text/plain": [
       "<Figure size 432x288 with 1 Axes>"
      ]
     },
     "metadata": {
      "needs_background": "light"
     },
     "output_type": "display_data"
    }
   ],
   "source": [
    "#Affichage graphique\n",
    "\n",
    "plt.plot(Graphique_MSE)\n",
    "plt.ylabel('MSE')\n",
    "plt.show()"
   ]
  },
  {
   "cell_type": "markdown",
   "id": "44597d7b",
   "metadata": {},
   "source": [
    "## Vérification de l'apprentissage\n",
    "\n",
    "Les probabilités de chaque classe 'Mine' ou 'rocher' issues de l'apprentissage sont stockée dans le modèle.\n",
    "\n",
    "A l'aide de `tf.argmax`, on récupére les indexs des probabilités les plus elevées pour chaque observations.\n",
    "\n",
    "**Ex :** Si pour une observation nous avons **[0.56, 0.89]** renverra **1** car la valeur la plus élevée se trouve à l'index **1**.\n",
    "\n",
    "**Ex :** Si pour une observation nous avons **[0.90, 0.34 ]**  renverra **0** car la valeur la plus élevée se trouve à l'index **0**."
   ]
  },
  {
   "cell_type": "code",
   "execution_count": 92,
   "id": "92a7bd35",
   "metadata": {},
   "outputs": [],
   "source": [
    "classifications = tf.argmax(reseau, 1)"
   ]
  },
  {
   "cell_type": "code",
   "execution_count": 94,
   "id": "beea9b0e",
   "metadata": {},
   "outputs": [],
   "source": [
    "'''Dans le tableau des valeurs réelles :\n",
    "Les mines sont encodées comme suit [1,0] l'index ayant la plus grande valeur est 0\n",
    "Les rochers ont pour valeur [0,1] sl'index ayant la plus grande valeur est 1.\n",
    "\n",
    "Si la classification est de [0.90, 0.34 ] l'index ayant la plus grande valeur est 0\n",
    "Si c'est une mine [1,0] l'index ayant la plus grande valeur est 0.\n",
    "Si les deux index sont identiques alors on peut affirmer que c'est une bonne classification'''\n",
    "formule_calcul_bonnes_classifications = tf.equal(classifications, tf.argmax(tf_valeurs_reelles_Y,1))\n",
    "\n",
    "\n",
    "#La précision se calcul en faisant la moyenne (tf.mean)\n",
    "# des bonnes classifications (après les avoir converties en décimale tf.cast, tf.float32)\n",
    "formule_precision = tf.reduce_mean(tf.cast(formule_calcul_bonnes_classifications, tf.float32))"
   ]
  },
  {
   "cell_type": "markdown",
   "id": "f0b35142",
   "metadata": {},
   "source": [
    "## Précision sur les données de test"
   ]
  },
  {
   "cell_type": "code",
   "execution_count": 95,
   "id": "8bd91fa3",
   "metadata": {},
   "outputs": [
    {
     "name": "stdout",
     "output_type": "stream",
     "text": [
      "0 Classe attendue:  1  Classification:  1\n",
      "1 Classe attendue:  0  Classification:  0\n",
      "2 Classe attendue:  1  Classification:  1\n",
      "3 Classe attendue:  1  Classification:  1\n",
      "4 Classe attendue:  0  Classification:  0\n",
      "5 Classe attendue:  1  Classification:  1\n",
      "6 Classe attendue:  0  Classification:  0\n",
      "7 Classe attendue:  1  Classification:  1\n",
      "8 Classe attendue:  1  Classification:  1\n",
      "9 Classe attendue:  0  Classification:  0\n",
      "10 Classe attendue:  0  Classification:  0\n",
      "11 Classe attendue:  0  Classification:  0\n",
      "12 Classe attendue:  0  Classification:  0\n",
      "13 Classe attendue:  0  Classification:  0\n",
      "14 Classe attendue:  0  Classification:  1\n",
      "-------------\n",
      "Précision sur les donnees de tests = 93.33333333333333%\n"
     ]
    }
   ],
   "source": [
    "nb_classifications = 0;\n",
    "nb_bonnes_classifications = 0\n",
    "\n",
    "#On parcours l'ensemble des données de test (text_x)\n",
    "for i in range(0,test_x.shape[0]):\n",
    "\n",
    "    #On récupere les informations\n",
    "    donneesSonar = test_x[i].reshape(1,60)\n",
    "    classificationAttendue = test_y[i].reshape(1,2)\n",
    "\n",
    "    # On réalise la classification\n",
    "    prediction_run = session.run(classifications, feed_dict={tf_neurones_entrees_X:donneesSonar})\n",
    "\n",
    "    #On calcule la précision de la classification à l'aide de la formule établie auparavant\n",
    "    accuracy_run = session.run(formule_precision, feed_dict={tf_neurones_entrees_X:donneesSonar, tf_valeurs_reelles_Y:classificationAttendue})\n",
    "\n",
    "\n",
    "    #On affiche pour observation la classe originale et la classification réalisée\n",
    "    print(i,\"Classe attendue: \", int(session.run(tf_valeurs_reelles_Y[i][1],feed_dict={tf_valeurs_reelles_Y:test_y})), \" Classification: \", prediction_run[0] )\n",
    "\n",
    "    nb_classifications = nb_classifications+1\n",
    "    if(accuracy_run*100 ==100):\n",
    "        nb_bonnes_classifications = nb_bonnes_classifications+1\n",
    "\n",
    "\n",
    "print(\"-------------\")\n",
    "print(\"Précision sur les donnees de tests = \"+str((nb_bonnes_classifications/nb_classifications)*100)+\"%\")"
   ]
  },
  {
   "cell_type": "markdown",
   "id": "eb676892",
   "metadata": {},
   "source": [
    "## Précision sur les données d'apprentissage\n",
    "\n",
    "Permet de vérifier si nous ne sommes pas en situation d'*overfitting*."
   ]
  },
  {
   "cell_type": "code",
   "execution_count": 98,
   "id": "20b21a42",
   "metadata": {},
   "outputs": [
    {
     "name": "stdout",
     "output_type": "stream",
     "text": [
      "Précision sur les donnees d'apprentissage = 80.20833333333334%\n"
     ]
    }
   ],
   "source": [
    "nb_classifications = 0;\n",
    "nb_bonnes_classifications = 0\n",
    "for i in range(0,train_x.shape[0]):\n",
    "\n",
    "    # On récupere les informations\n",
    "    donneesSonar = train_x[i].reshape(1, 60)\n",
    "    classificationAttendue = train_y[i].reshape(1, 2)\n",
    "\n",
    "    # On réalise la classification\n",
    "    prediction_run = session.run(classifications, feed_dict={tf_neurones_entrees_X: donneesSonar})\n",
    "\n",
    "    # On calcule la précision de la classification à l'aide de la formule établie auparavant\n",
    "    accuracy_run = session.run(formule_precision, feed_dict={tf_neurones_entrees_X: donneesSonar, tf_valeurs_reelles_Y: classificationAttendue})\n",
    "\n",
    "    nb_classifications = nb_classifications + 1\n",
    "    if (accuracy_run * 100 == 100):\n",
    "        nb_bonnes_classifications = nb_bonnes_classifications + 1\n",
    "\n",
    "\n",
    "print(\"Précision sur les donnees d'apprentissage = \" + str((nb_bonnes_classifications / nb_classifications) * 100) + \"%\")"
   ]
  },
  {
   "cell_type": "markdown",
   "id": "c54b813c",
   "metadata": {},
   "source": [
    "## Précision sur l'ensemble des données"
   ]
  },
  {
   "cell_type": "code",
   "execution_count": 99,
   "id": "36a40aa3",
   "metadata": {},
   "outputs": [
    {
     "name": "stdout",
     "output_type": "stream",
     "text": [
      "Précision sur l'ensemble des données = 81.15942028985508%\n"
     ]
    }
   ],
   "source": [
    "nb_classifications = 0;\n",
    "nb_bonnes_classifications = 0\n",
    "for i in range(0,207):\n",
    "\n",
    "    prediction_run = session.run(classifications, feed_dict={tf_neurones_entrees_X:X[i].reshape(1,60)})\n",
    "    accuracy_run = session.run(formule_precision, feed_dict={tf_neurones_entrees_X:X[i].reshape(1,60), tf_valeurs_reelles_Y:Y[i].reshape(1,2)})\n",
    "\n",
    "    nb_classifications = nb_classifications + 1\n",
    "    if (accuracy_run * 100 == 100):\n",
    "        nb_bonnes_classifications = nb_bonnes_classifications + 1\n",
    "\n",
    "\n",
    "print(\"Précision sur l'ensemble des données = \" + str((nb_bonnes_classifications / nb_classifications) * 100) + \"%\")\n",
    "\n",
    "\n",
    "\n",
    "\n",
    "session.close()"
   ]
  },
  {
   "cell_type": "markdown",
   "id": "d157585e",
   "metadata": {},
   "source": [
    "Comme il n'y a pas d'écart important entre la précision obtenue lors de l'apprentissage\n",
    "et la validation, nous ne sommes pas dans un cas de surapprentissage.\n",
    "\n",
    "---\n",
    "\n",
    "## Avec 12 neurones au lieu de 24\n",
    "\n",
    "---\n",
    "\n",
    "### Modification des poids"
   ]
  },
  {
   "cell_type": "code",
   "execution_count": 100,
   "id": "671f8502",
   "metadata": {},
   "outputs": [],
   "source": [
    "poids = {\n",
    "    # 60 neurones d'entrées vers 24 Neurones de la couche cachée\n",
    "    'couche_entree_vers_cachee': tf.Variable(tf.random_uniform([60, 12], minval=-0.3, maxval=0.3), tf.float32),\n",
    "\n",
    "    # 12 neurones de la couche cachée vers 2 de la couche de sortie\n",
    "    'couche_cachee_vers_sortie': tf.Variable(tf.random_uniform([12, 2], minval=-0.3, maxval=0.3), tf.float32),\n",
    "\n",
    "\n",
    "}\n",
    "\n",
    "poids_biais = {\n",
    "     #1 biais de la couche d'entrée vers les 24 neurones de la couche cachée\n",
    "    'poids_biais_couche_entree_vers_cachee': tf.Variable(tf.zeros([12]), tf.float32),\n",
    "\n",
    "    #1 biais de la couche cachée vers les 2 neurones de la couche de sortie\n",
    "    'poids_biais_couche_cachee_vers_sortie': tf.Variable(tf.zeros([2]), tf.float32),\n",
    "}"
   ]
  },
  {
   "cell_type": "markdown",
   "id": "3f8fc6d1",
   "metadata": {},
   "source": [
    "### Création du réseau"
   ]
  },
  {
   "cell_type": "code",
   "execution_count": 101,
   "id": "6445619a",
   "metadata": {},
   "outputs": [],
   "source": [
    "def reseau_neurones_multicouches(observations_en_entrees, poids, poids_biais):\n",
    "\n",
    "    #Calcul de l'activation de la première couche\n",
    "    premiere_activation = tf.sigmoid(tf.matmul(tf_neurones_entrees_X, poids['couche_entree_vers_cachee']) + poids_biais['poids_biais_couche_entree_vers_cachee'])\n",
    "\n",
    "    #Calcul de l'activation de la seconde couche\n",
    "    activation_couche_cachee = tf.sigmoid(tf.matmul(premiere_activation, poids['couche_cachee_vers_sortie']) + poids_biais['poids_biais_couche_cachee_vers_sortie'])\n",
    "\n",
    "    return activation_couche_cachee"
   ]
  },
  {
   "cell_type": "code",
   "execution_count": 102,
   "id": "87d4c011",
   "metadata": {},
   "outputs": [],
   "source": [
    "reseau = reseau_neurones_multicouches(tf_neurones_entrees_X, poids, poids_biais)"
   ]
  },
  {
   "cell_type": "markdown",
   "id": "9bdcdb32",
   "metadata": {},
   "source": [
    "### Fonction d'erreur et fonction d'optimisation"
   ]
  },
  {
   "cell_type": "code",
   "execution_count": 104,
   "id": "7e66b3f9",
   "metadata": {},
   "outputs": [],
   "source": [
    "#Fonction d'erreur de moyenne quadratique MSE\n",
    "fonction_erreur = tf.reduce_sum(tf.pow(tf_valeurs_reelles_Y-reseau,2))\n",
    "\n",
    "#Fonction de precision\n",
    "fonction_precision = tf.metrics.accuracy(labels=tf_valeurs_reelles_Y,predictions=reseau)\n",
    "\n",
    "#Descente de gradient avec un taux d'apprentissage fixé à 0.1\n",
    "optimiseur = tf.train.GradientDescentOptimizer(learning_rate=taux_apprentissage).minimize(fonction_erreur)"
   ]
  },
  {
   "cell_type": "markdown",
   "id": "34a1366b",
   "metadata": {},
   "source": [
    "### Apprentissage"
   ]
  },
  {
   "cell_type": "code",
   "execution_count": 105,
   "id": "b99eeb90",
   "metadata": {},
   "outputs": [
    {
     "name": "stdout",
     "output_type": "stream",
     "text": [
      "EPOCH (0/300) -  MSE: 96.20565\n",
      "EPOCH (1/300) -  MSE: 96.111404\n",
      "EPOCH (2/300) -  MSE: 96.02077\n",
      "EPOCH (3/300) -  MSE: 95.93288\n",
      "EPOCH (4/300) -  MSE: 95.84723\n",
      "EPOCH (5/300) -  MSE: 95.76337\n",
      "EPOCH (6/300) -  MSE: 95.68086\n",
      "EPOCH (7/300) -  MSE: 95.59928\n",
      "EPOCH (8/300) -  MSE: 95.51822\n",
      "EPOCH (9/300) -  MSE: 95.43729\n",
      "EPOCH (10/300) -  MSE: 95.35607\n",
      "EPOCH (11/300) -  MSE: 95.2742\n",
      "EPOCH (12/300) -  MSE: 95.19131\n",
      "EPOCH (13/300) -  MSE: 95.10701\n",
      "EPOCH (14/300) -  MSE: 95.02095\n",
      "EPOCH (15/300) -  MSE: 94.93273\n",
      "EPOCH (16/300) -  MSE: 94.841995\n",
      "EPOCH (17/300) -  MSE: 94.74841\n",
      "EPOCH (18/300) -  MSE: 94.65157\n",
      "EPOCH (19/300) -  MSE: 94.55112\n",
      "EPOCH (20/300) -  MSE: 94.446686\n",
      "EPOCH (21/300) -  MSE: 94.3379\n",
      "EPOCH (22/300) -  MSE: 94.224365\n",
      "EPOCH (23/300) -  MSE: 94.10573\n",
      "EPOCH (24/300) -  MSE: 93.98158\n",
      "EPOCH (25/300) -  MSE: 93.85158\n",
      "EPOCH (26/300) -  MSE: 93.71532\n",
      "EPOCH (27/300) -  MSE: 93.5724\n",
      "EPOCH (28/300) -  MSE: 93.42247\n",
      "EPOCH (29/300) -  MSE: 93.26514\n",
      "EPOCH (30/300) -  MSE: 93.10001\n",
      "EPOCH (31/300) -  MSE: 92.92674\n",
      "EPOCH (32/300) -  MSE: 92.74496\n",
      "EPOCH (33/300) -  MSE: 92.5543\n",
      "EPOCH (34/300) -  MSE: 92.354416\n",
      "EPOCH (35/300) -  MSE: 92.14503\n",
      "EPOCH (36/300) -  MSE: 91.92578\n",
      "EPOCH (37/300) -  MSE: 91.69642\n",
      "EPOCH (38/300) -  MSE: 91.45667\n",
      "EPOCH (39/300) -  MSE: 91.20631\n",
      "EPOCH (40/300) -  MSE: 90.945114\n",
      "EPOCH (41/300) -  MSE: 90.67294\n",
      "EPOCH (42/300) -  MSE: 90.38967\n",
      "EPOCH (43/300) -  MSE: 90.09519\n",
      "EPOCH (44/300) -  MSE: 89.789474\n",
      "EPOCH (45/300) -  MSE: 89.4725\n",
      "EPOCH (46/300) -  MSE: 89.144356\n",
      "EPOCH (47/300) -  MSE: 88.80511\n",
      "EPOCH (48/300) -  MSE: 88.45489\n",
      "EPOCH (49/300) -  MSE: 88.093895\n",
      "EPOCH (50/300) -  MSE: 87.72237\n",
      "EPOCH (51/300) -  MSE: 87.34056\n",
      "EPOCH (52/300) -  MSE: 86.948814\n",
      "EPOCH (53/300) -  MSE: 86.547455\n",
      "EPOCH (54/300) -  MSE: 86.13687\n",
      "EPOCH (55/300) -  MSE: 85.71745\n",
      "EPOCH (56/300) -  MSE: 85.289635\n",
      "EPOCH (57/300) -  MSE: 84.85387\n",
      "EPOCH (58/300) -  MSE: 84.41059\n",
      "EPOCH (59/300) -  MSE: 83.960266\n",
      "EPOCH (60/300) -  MSE: 83.50335\n",
      "EPOCH (61/300) -  MSE: 83.04028\n",
      "EPOCH (62/300) -  MSE: 82.571526\n",
      "EPOCH (63/300) -  MSE: 82.09752\n",
      "EPOCH (64/300) -  MSE: 81.61869\n",
      "EPOCH (65/300) -  MSE: 81.13546\n",
      "EPOCH (66/300) -  MSE: 80.64823\n",
      "EPOCH (67/300) -  MSE: 80.157425\n",
      "EPOCH (68/300) -  MSE: 79.66343\n",
      "EPOCH (69/300) -  MSE: 79.166626\n",
      "EPOCH (70/300) -  MSE: 78.66742\n",
      "EPOCH (71/300) -  MSE: 78.16621\n",
      "EPOCH (72/300) -  MSE: 77.663376\n",
      "EPOCH (73/300) -  MSE: 77.15932\n",
      "EPOCH (74/300) -  MSE: 76.654465\n",
      "EPOCH (75/300) -  MSE: 76.14923\n",
      "EPOCH (76/300) -  MSE: 75.64404\n",
      "EPOCH (77/300) -  MSE: 75.13936\n",
      "EPOCH (78/300) -  MSE: 74.63562\n",
      "EPOCH (79/300) -  MSE: 74.13329\n",
      "EPOCH (80/300) -  MSE: 73.63284\n",
      "EPOCH (81/300) -  MSE: 73.134766\n",
      "EPOCH (82/300) -  MSE: 72.63951\n",
      "EPOCH (83/300) -  MSE: 72.14758\n",
      "EPOCH (84/300) -  MSE: 71.659424\n",
      "EPOCH (85/300) -  MSE: 71.17551\n",
      "EPOCH (86/300) -  MSE: 70.69627\n",
      "EPOCH (87/300) -  MSE: 70.22217\n",
      "EPOCH (88/300) -  MSE: 69.75358\n",
      "EPOCH (89/300) -  MSE: 69.29089\n",
      "EPOCH (90/300) -  MSE: 68.83446\n",
      "EPOCH (91/300) -  MSE: 68.38461\n",
      "EPOCH (92/300) -  MSE: 67.94163\n",
      "EPOCH (93/300) -  MSE: 67.505775\n",
      "EPOCH (94/300) -  MSE: 67.07727\n",
      "EPOCH (95/300) -  MSE: 66.6563\n",
      "EPOCH (96/300) -  MSE: 66.243034\n",
      "EPOCH (97/300) -  MSE: 65.83758\n",
      "EPOCH (98/300) -  MSE: 65.44003\n",
      "EPOCH (99/300) -  MSE: 65.050446\n",
      "EPOCH (100/300) -  MSE: 64.66885\n",
      "EPOCH (101/300) -  MSE: 64.29526\n",
      "EPOCH (102/300) -  MSE: 63.92963\n",
      "EPOCH (103/300) -  MSE: 63.571945\n",
      "EPOCH (104/300) -  MSE: 63.222134\n",
      "EPOCH (105/300) -  MSE: 62.880108\n",
      "EPOCH (106/300) -  MSE: 62.54579\n",
      "EPOCH (107/300) -  MSE: 62.21909\n",
      "EPOCH (108/300) -  MSE: 61.899956\n",
      "EPOCH (109/300) -  MSE: 61.58853\n",
      "EPOCH (110/300) -  MSE: 61.285698\n",
      "EPOCH (111/300) -  MSE: 60.995296\n",
      "EPOCH (112/300) -  MSE: 60.732475\n",
      "EPOCH (113/300) -  MSE: 60.558487\n",
      "EPOCH (114/300) -  MSE: 60.710693\n",
      "EPOCH (115/300) -  MSE: 62.15814\n",
      "EPOCH (116/300) -  MSE: 67.80079\n",
      "EPOCH (117/300) -  MSE: 84.53822\n",
      "EPOCH (118/300) -  MSE: 90.76402\n",
      "EPOCH (119/300) -  MSE: 102.15757\n",
      "EPOCH (120/300) -  MSE: 72.80087\n",
      "EPOCH (121/300) -  MSE: 86.708206\n",
      "EPOCH (122/300) -  MSE: 79.165855\n",
      "EPOCH (123/300) -  MSE: 89.42826\n",
      "EPOCH (124/300) -  MSE: 73.84954\n",
      "EPOCH (125/300) -  MSE: 81.88873\n",
      "EPOCH (126/300) -  MSE: 73.63874\n",
      "EPOCH (127/300) -  MSE: 79.63783\n",
      "EPOCH (128/300) -  MSE: 71.90878\n",
      "EPOCH (129/300) -  MSE: 76.504425\n",
      "EPOCH (130/300) -  MSE: 70.591064\n",
      "EPOCH (131/300) -  MSE: 74.28522\n",
      "EPOCH (132/300) -  MSE: 69.4517\n",
      "EPOCH (133/300) -  MSE: 72.58643\n",
      "EPOCH (134/300) -  MSE: 68.51135\n",
      "EPOCH (135/300) -  MSE: 71.309685\n",
      "EPOCH (136/300) -  MSE: 67.74824\n",
      "EPOCH (137/300) -  MSE: 70.34758\n",
      "EPOCH (138/300) -  MSE: 67.12604\n",
      "EPOCH (139/300) -  MSE: 69.60669\n",
      "EPOCH (140/300) -  MSE: 66.606155\n",
      "EPOCH (141/300) -  MSE: 69.0122\n",
      "EPOCH (142/300) -  MSE: 66.15495\n",
      "EPOCH (143/300) -  MSE: 68.50885\n",
      "EPOCH (144/300) -  MSE: 65.747154\n",
      "EPOCH (145/300) -  MSE: 68.059326\n",
      "EPOCH (146/300) -  MSE: 65.36596\n",
      "EPOCH (147/300) -  MSE: 67.6409\n",
      "EPOCH (148/300) -  MSE: 65.00151\n",
      "EPOCH (149/300) -  MSE: 67.241165\n",
      "EPOCH (150/300) -  MSE: 64.64868\n",
      "EPOCH (151/300) -  MSE: 66.85418\n",
      "EPOCH (152/300) -  MSE: 64.305145\n",
      "EPOCH (153/300) -  MSE: 66.47746\n",
      "EPOCH (154/300) -  MSE: 63.96998\n",
      "EPOCH (155/300) -  MSE: 66.11019\n",
      "EPOCH (156/300) -  MSE: 63.642868\n",
      "EPOCH (157/300) -  MSE: 65.75214\n",
      "EPOCH (158/300) -  MSE: 63.32367\n",
      "EPOCH (159/300) -  MSE: 65.4032\n",
      "EPOCH (160/300) -  MSE: 63.01225\n",
      "EPOCH (161/300) -  MSE: 65.063255\n",
      "EPOCH (162/300) -  MSE: 62.70842\n",
      "EPOCH (163/300) -  MSE: 64.73207\n",
      "EPOCH (164/300) -  MSE: 62.41195\n",
      "EPOCH (165/300) -  MSE: 64.40935\n",
      "EPOCH (166/300) -  MSE: 62.122597\n",
      "EPOCH (167/300) -  MSE: 64.09479\n",
      "EPOCH (168/300) -  MSE: 61.8401\n",
      "EPOCH (169/300) -  MSE: 63.788048\n",
      "EPOCH (170/300) -  MSE: 61.5642\n",
      "EPOCH (171/300) -  MSE: 63.488808\n",
      "EPOCH (172/300) -  MSE: 61.29464\n",
      "EPOCH (173/300) -  MSE: 63.196785\n",
      "EPOCH (174/300) -  MSE: 61.031197\n",
      "EPOCH (175/300) -  MSE: 62.91168\n",
      "EPOCH (176/300) -  MSE: 60.77363\n",
      "EPOCH (177/300) -  MSE: 62.6332\n",
      "EPOCH (178/300) -  MSE: 60.521748\n",
      "EPOCH (179/300) -  MSE: 62.361122\n",
      "EPOCH (180/300) -  MSE: 60.27534\n",
      "EPOCH (181/300) -  MSE: 62.095184\n",
      "EPOCH (182/300) -  MSE: 60.034225\n",
      "EPOCH (183/300) -  MSE: 61.835175\n",
      "EPOCH (184/300) -  MSE: 59.798218\n",
      "EPOCH (185/300) -  MSE: 61.58087\n",
      "EPOCH (186/300) -  MSE: 59.56714\n",
      "EPOCH (187/300) -  MSE: 61.33206\n",
      "EPOCH (188/300) -  MSE: 59.34084\n",
      "EPOCH (189/300) -  MSE: 61.088562\n",
      "EPOCH (190/300) -  MSE: 59.11917\n",
      "EPOCH (191/300) -  MSE: 60.850193\n",
      "EPOCH (192/300) -  MSE: 58.90197\n",
      "EPOCH (193/300) -  MSE: 60.616776\n",
      "EPOCH (194/300) -  MSE: 58.68911\n",
      "EPOCH (195/300) -  MSE: 60.38813\n",
      "EPOCH (196/300) -  MSE: 58.480446\n",
      "EPOCH (197/300) -  MSE: 60.164116\n",
      "EPOCH (198/300) -  MSE: 58.27585\n",
      "EPOCH (199/300) -  MSE: 59.94457\n",
      "EPOCH (200/300) -  MSE: 58.075203\n",
      "EPOCH (201/300) -  MSE: 59.729343\n",
      "EPOCH (202/300) -  MSE: 57.878384\n",
      "EPOCH (203/300) -  MSE: 59.518314\n",
      "EPOCH (204/300) -  MSE: 57.68528\n",
      "EPOCH (205/300) -  MSE: 59.311333\n",
      "EPOCH (206/300) -  MSE: 57.495773\n",
      "EPOCH (207/300) -  MSE: 59.108276\n",
      "EPOCH (208/300) -  MSE: 57.309772\n",
      "EPOCH (209/300) -  MSE: 58.909027\n",
      "EPOCH (210/300) -  MSE: 57.127174\n",
      "EPOCH (211/300) -  MSE: 58.71348\n",
      "EPOCH (212/300) -  MSE: 56.947884\n",
      "EPOCH (213/300) -  MSE: 58.521523\n",
      "EPOCH (214/300) -  MSE: 56.77181\n",
      "EPOCH (215/300) -  MSE: 58.333042\n",
      "EPOCH (216/300) -  MSE: 56.598858\n",
      "EPOCH (217/300) -  MSE: 58.147945\n",
      "EPOCH (218/300) -  MSE: 56.428947\n",
      "EPOCH (219/300) -  MSE: 57.966137\n",
      "EPOCH (220/300) -  MSE: 56.262\n",
      "EPOCH (221/300) -  MSE: 57.78752\n",
      "EPOCH (222/300) -  MSE: 56.097923\n",
      "EPOCH (223/300) -  MSE: 57.61202\n",
      "EPOCH (224/300) -  MSE: 55.936665\n",
      "EPOCH (225/300) -  MSE: 57.439545\n",
      "EPOCH (226/300) -  MSE: 55.778133\n",
      "EPOCH (227/300) -  MSE: 57.270027\n",
      "EPOCH (228/300) -  MSE: 55.622272\n",
      "EPOCH (229/300) -  MSE: 57.103382\n",
      "EPOCH (230/300) -  MSE: 55.469006\n",
      "EPOCH (231/300) -  MSE: 56.939545\n",
      "EPOCH (232/300) -  MSE: 55.318268\n",
      "EPOCH (233/300) -  MSE: 56.778446\n",
      "EPOCH (234/300) -  MSE: 55.170002\n",
      "EPOCH (235/300) -  MSE: 56.62001\n",
      "EPOCH (236/300) -  MSE: 55.024147\n",
      "EPOCH (237/300) -  MSE: 56.464184\n",
      "EPOCH (238/300) -  MSE: 54.88064\n",
      "EPOCH (239/300) -  MSE: 56.310905\n",
      "EPOCH (240/300) -  MSE: 54.739426\n",
      "EPOCH (241/300) -  MSE: 56.160122\n",
      "EPOCH (242/300) -  MSE: 54.600456\n",
      "EPOCH (243/300) -  MSE: 56.011772\n",
      "EPOCH (244/300) -  MSE: 54.463673\n",
      "EPOCH (245/300) -  MSE: 55.865807\n",
      "EPOCH (246/300) -  MSE: 54.329018\n",
      "EPOCH (247/300) -  MSE: 55.722168\n",
      "EPOCH (248/300) -  MSE: 54.19646\n",
      "EPOCH (249/300) -  MSE: 55.58081\n",
      "EPOCH (250/300) -  MSE: 54.065933\n",
      "EPOCH (251/300) -  MSE: 55.441696\n",
      "EPOCH (252/300) -  MSE: 53.9374\n",
      "EPOCH (253/300) -  MSE: 55.304764\n",
      "EPOCH (254/300) -  MSE: 53.810814\n",
      "EPOCH (255/300) -  MSE: 55.169975\n",
      "EPOCH (256/300) -  MSE: 53.686127\n",
      "EPOCH (257/300) -  MSE: 55.03729\n",
      "EPOCH (258/300) -  MSE: 53.5633\n",
      "EPOCH (259/300) -  MSE: 54.90667\n",
      "EPOCH (260/300) -  MSE: 53.44229\n",
      "EPOCH (261/300) -  MSE: 54.778065\n",
      "EPOCH (262/300) -  MSE: 53.32305\n",
      "EPOCH (263/300) -  MSE: 54.651447\n",
      "EPOCH (264/300) -  MSE: 53.20555\n",
      "EPOCH (265/300) -  MSE: 54.52677\n",
      "EPOCH (266/300) -  MSE: 53.08974\n",
      "EPOCH (267/300) -  MSE: 54.404007\n",
      "EPOCH (268/300) -  MSE: 52.97559\n",
      "EPOCH (269/300) -  MSE: 54.283115\n",
      "EPOCH (270/300) -  MSE: 52.86306\n",
      "EPOCH (271/300) -  MSE: 54.164055\n",
      "EPOCH (272/300) -  MSE: 52.75211\n"
     ]
    },
    {
     "name": "stdout",
     "output_type": "stream",
     "text": [
      "EPOCH (273/300) -  MSE: 54.0468\n",
      "EPOCH (274/300) -  MSE: 52.642708\n",
      "EPOCH (275/300) -  MSE: 53.931313\n",
      "EPOCH (276/300) -  MSE: 52.534817\n",
      "EPOCH (277/300) -  MSE: 53.817566\n",
      "EPOCH (278/300) -  MSE: 52.428406\n",
      "EPOCH (279/300) -  MSE: 53.70553\n",
      "EPOCH (280/300) -  MSE: 52.323433\n",
      "EPOCH (281/300) -  MSE: 53.595165\n",
      "EPOCH (282/300) -  MSE: 52.21987\n",
      "EPOCH (283/300) -  MSE: 53.486443\n",
      "EPOCH (284/300) -  MSE: 52.117687\n",
      "EPOCH (285/300) -  MSE: 53.379337\n",
      "EPOCH (286/300) -  MSE: 52.01685\n",
      "EPOCH (287/300) -  MSE: 53.273827\n",
      "EPOCH (288/300) -  MSE: 51.917328\n",
      "EPOCH (289/300) -  MSE: 53.16987\n",
      "EPOCH (290/300) -  MSE: 51.819088\n",
      "EPOCH (291/300) -  MSE: 53.06744\n",
      "EPOCH (292/300) -  MSE: 51.7221\n",
      "EPOCH (293/300) -  MSE: 52.966515\n",
      "EPOCH (294/300) -  MSE: 51.626328\n",
      "EPOCH (295/300) -  MSE: 52.86707\n",
      "EPOCH (296/300) -  MSE: 51.531754\n",
      "EPOCH (297/300) -  MSE: 52.769066\n",
      "EPOCH (298/300) -  MSE: 51.438354\n",
      "EPOCH (299/300) -  MSE: 52.672493\n"
     ]
    }
   ],
   "source": [
    "#Initialisation des variable\n",
    "init = tf.global_variables_initializer()\n",
    "\n",
    "#Demarrage d'une session d'apprentissage\n",
    "session = tf.Session()\n",
    "session.run(init)\n",
    "\n",
    "#Pour la réalisation du graphique pour la MSE\n",
    "Graphique_MSE=[]\n",
    "\n",
    "\n",
    "#Pour chaque epoch\n",
    "for i in range(epochs):\n",
    "\n",
    "   #Realisation de l'apprentissage avec mise à jour des poids\n",
    "   session.run(optimiseur, feed_dict = {tf_neurones_entrees_X: train_x, tf_valeurs_reelles_Y:train_y})\n",
    "\n",
    "   #Calculer l'erreur d'apprentissage\n",
    "   MSE = session.run(fonction_erreur, feed_dict = {tf_neurones_entrees_X: train_x, tf_valeurs_reelles_Y:train_y})\n",
    "\n",
    "   #Affichage des informations\n",
    "   Graphique_MSE.append(MSE)\n",
    "   print(\"EPOCH (\" + str(i) + \"/\" + str(epochs) + \") -  MSE: \"+ str(MSE))"
   ]
  },
  {
   "cell_type": "markdown",
   "id": "dcf76301",
   "metadata": {},
   "source": [
    "### Visualisation"
   ]
  },
  {
   "cell_type": "code",
   "execution_count": 106,
   "id": "f1d8ea48",
   "metadata": {},
   "outputs": [
    {
     "data": {
      "image/png": "[encoded data removed]",
      "text/plain": [
       "<Figure size 432x288 with 1 Axes>"
      ]
     },
     "metadata": {
      "needs_background": "light"
     },
     "output_type": "display_data"
    }
   ],
   "source": [
    "#Affichage graphique MSE\n",
    "plt.plot(Graphique_MSE)\n",
    "plt.ylabel('MSE')\n",
    "plt.show()"
   ]
  },
  {
   "cell_type": "markdown",
   "id": "0f97ea67",
   "metadata": {},
   "source": [
    "### Vérification de l'apprentissage"
   ]
  },
  {
   "cell_type": "code",
   "execution_count": 107,
   "id": "637c995d",
   "metadata": {},
   "outputs": [],
   "source": [
    "classifications = tf.argmax(reseau, 1)\n",
    "formule_calcul_bonnes_classifications = tf.equal(classifications, tf.argmax(tf_valeurs_reelles_Y,1))\n",
    "formule_precision = tf.reduce_mean(tf.cast(formule_calcul_bonnes_classifications, tf.float32))"
   ]
  },
  {
   "cell_type": "markdown",
   "id": "f7ddac92",
   "metadata": {},
   "source": [
    "### Précision sur les données de test"
   ]
  },
  {
   "cell_type": "code",
   "execution_count": 108,
   "id": "7aab160a",
   "metadata": {},
   "outputs": [
    {
     "name": "stdout",
     "output_type": "stream",
     "text": [
      "0 Classe attendue:  1  Classification:  1\n",
      "1 Classe attendue:  0  Classification:  0\n",
      "2 Classe attendue:  1  Classification:  1\n",
      "3 Classe attendue:  1  Classification:  0\n",
      "4 Classe attendue:  0  Classification:  0\n",
      "5 Classe attendue:  1  Classification:  1\n",
      "6 Classe attendue:  0  Classification:  0\n",
      "7 Classe attendue:  1  Classification:  0\n",
      "8 Classe attendue:  1  Classification:  0\n",
      "9 Classe attendue:  0  Classification:  0\n",
      "10 Classe attendue:  0  Classification:  0\n",
      "11 Classe attendue:  0  Classification:  0\n",
      "12 Classe attendue:  0  Classification:  0\n",
      "13 Classe attendue:  0  Classification:  0\n",
      "14 Classe attendue:  0  Classification:  0\n",
      "-------------\n",
      "Précision sur les donnees de tests = 80.0%\n"
     ]
    }
   ],
   "source": [
    "nb_classifications = 0;\n",
    "nb_bonnes_classifications = 0\n",
    "\n",
    "#On parcours l'ensemble des données de test (text_x)\n",
    "for i in range(0,test_x.shape[0]):\n",
    "\n",
    "    #On récupere les informations\n",
    "    donneesSonar = test_x[i].reshape(1,60)\n",
    "    classificationAttendue = test_y[i].reshape(1,2)\n",
    "\n",
    "    # On réalise la classification\n",
    "    prediction_run = session.run(classifications, feed_dict={tf_neurones_entrees_X:donneesSonar})\n",
    "\n",
    "    #On calcule la précision de la classification à l'aide de la formule établie auparavant\n",
    "    accuracy_run = session.run(formule_precision, feed_dict={tf_neurones_entrees_X:donneesSonar, tf_valeurs_reelles_Y:classificationAttendue})\n",
    "\n",
    "\n",
    "    #On affiche pour observation la classe originale et la classification réalisée\n",
    "    print(i,\"Classe attendue: \", int(session.run(tf_valeurs_reelles_Y[i][1],feed_dict={tf_valeurs_reelles_Y:test_y})), \" Classification: \", prediction_run[0] )\n",
    "\n",
    "    nb_classifications = nb_classifications+1\n",
    "    if(accuracy_run*100 ==100):\n",
    "        nb_bonnes_classifications = nb_bonnes_classifications+1\n",
    "\n",
    "\n",
    "print(\"-------------\")\n",
    "print(\"Précision sur les donnees de tests = \"+str((nb_bonnes_classifications/nb_classifications)*100)+\"%\")"
   ]
  },
  {
   "cell_type": "markdown",
   "id": "0ea1149c",
   "metadata": {},
   "source": [
    "### Précision sur les données d'apprentissage"
   ]
  },
  {
   "cell_type": "code",
   "execution_count": 109,
   "id": "7b8ac9a9",
   "metadata": {},
   "outputs": [
    {
     "name": "stdout",
     "output_type": "stream",
     "text": [
      "Précision sur les donnees d'apprentissage = 80.72916666666666%\n"
     ]
    }
   ],
   "source": [
    "nb_classifications = 0;\n",
    "nb_bonnes_classifications = 0\n",
    "for i in range(0,train_x.shape[0]):\n",
    "\n",
    "    # On récupere les informations\n",
    "    donneesSonar = train_x[i].reshape(1, 60)\n",
    "    classificationAttendue = train_y[i].reshape(1, 2)\n",
    "\n",
    "    # On réalise la classification\n",
    "    prediction_run = session.run(classifications, feed_dict={tf_neurones_entrees_X: donneesSonar})\n",
    "\n",
    "    # On calcule la précision de la classification à l'aide de la formule établie auparavant\n",
    "    accuracy_run = session.run(formule_precision, feed_dict={tf_neurones_entrees_X: donneesSonar, tf_valeurs_reelles_Y: classificationAttendue})\n",
    "\n",
    "    nb_classifications = nb_classifications + 1\n",
    "    if (accuracy_run * 100 == 100):\n",
    "        nb_bonnes_classifications = nb_bonnes_classifications + 1\n",
    "\n",
    "\n",
    "print(\"Précision sur les donnees d'apprentissage = \" + str((nb_bonnes_classifications / nb_classifications) * 100) + \"%\")"
   ]
  },
  {
   "cell_type": "markdown",
   "id": "e6f9d8cb",
   "metadata": {},
   "source": [
    "### Précision sur l'ensemble des données"
   ]
  },
  {
   "cell_type": "code",
   "execution_count": 110,
   "id": "d52664d9",
   "metadata": {},
   "outputs": [
    {
     "name": "stdout",
     "output_type": "stream",
     "text": [
      "Précision sur l'ensemble des données = 80.67632850241546%\n"
     ]
    }
   ],
   "source": [
    "nb_classifications = 0;\n",
    "nb_bonnes_classifications = 0\n",
    "for i in range(0,207):\n",
    "\n",
    "    prediction_run = session.run(classifications, feed_dict={tf_neurones_entrees_X:X[i].reshape(1,60)})\n",
    "    accuracy_run = session.run(formule_precision, feed_dict={tf_neurones_entrees_X:X[i].reshape(1,60), tf_valeurs_reelles_Y:Y[i].reshape(1,2)})\n",
    "\n",
    "    nb_classifications = nb_classifications + 1\n",
    "    if (accuracy_run * 100 == 100):\n",
    "        nb_bonnes_classifications = nb_bonnes_classifications + 1\n",
    "\n",
    "\n",
    "print(\"Précision sur l'ensemble des données = \" + str((nb_bonnes_classifications / nb_classifications) * 100) + \"%\")"
   ]
  },
  {
   "cell_type": "markdown",
   "id": "718495fb",
   "metadata": {},
   "source": [
    "### Fermeture de la session tf"
   ]
  },
  {
   "cell_type": "code",
   "execution_count": 111,
   "id": "209c326d",
   "metadata": {},
   "outputs": [],
   "source": [
    "session.close()"
   ]
  },
  {
   "cell_type": "markdown",
   "id": "427c5ec5",
   "metadata": {},
   "source": [
    "---"
   ]
  }
 ],
 "metadata": {
  "kernelspec": {
   "display_name": "Python 3 (ipykernel)",
   "language": "python",
   "name": "python3"
  },
  "language_info": {
   "codemirror_mode": {
    "name": "ipython",
    "version": 3
   },
   "file_extension": ".py",
   "mimetype": "text/x-python",
   "name": "python",
   "nbconvert_exporter": "python",
   "pygments_lexer": "ipython3",
   "version": "3.10.0"
  }
 },
 "nbformat": 4,
 "nbformat_minor": 5
}
