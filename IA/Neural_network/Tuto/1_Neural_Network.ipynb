{
 "cells": [
  {
   "cell_type": "markdown",
   "id": "5693a2d7",
   "metadata": {},
   "source": [
    "# <center> Ajustements des poids </center>\n",
    "\n",
    "---\n",
    "\n",
    "**Source :** Aurélien Vannieuwenhuyze, Intelligence artificielle vulgarisée, le Machine Learning et le Deep Learning par la pratique, ENI, Paris, 2019, p.286-294.\n",
    "\n",
    "---\n",
    "\n",
    "## Importations"
   ]
  },
  {
   "cell_type": "code",
   "execution_count": 7,
   "id": "74e962ed",
   "metadata": {},
   "outputs": [],
   "source": [
    "import pandas as pd"
   ]
  },
  {
   "cell_type": "markdown",
   "id": "18da1fdc",
   "metadata": {},
   "source": [
    "## Construction du dataframe"
   ]
  },
  {
   "cell_type": "code",
   "execution_count": 29,
   "id": "a17b2ed5",
   "metadata": {},
   "outputs": [
    {
     "data": {
      "text/html": [
       "<div>\n",
       "<style scoped>\n",
       "    .dataframe tbody tr th:only-of-type {\n",
       "        vertical-align: middle;\n",
       "    }\n",
       "\n",
       "    .dataframe tbody tr th {\n",
       "        vertical-align: top;\n",
       "    }\n",
       "\n",
       "    .dataframe thead th {\n",
       "        text-align: right;\n",
       "    }\n",
       "</style>\n",
       "<table border=\"1\" class=\"dataframe\">\n",
       "  <thead>\n",
       "    <tr style=\"text-align: right;\">\n",
       "      <th></th>\n",
       "      <th>Réussite à l'examen de mathématiques</th>\n",
       "      <th>Réussite à l'examen d'informatique</th>\n",
       "      <th>Admis</th>\n",
       "    </tr>\n",
       "  </thead>\n",
       "  <tbody>\n",
       "    <tr>\n",
       "      <th>0</th>\n",
       "      <td>Oui</td>\n",
       "      <td>Non</td>\n",
       "      <td>Non</td>\n",
       "    </tr>\n",
       "    <tr>\n",
       "      <th>1</th>\n",
       "      <td>Oui</td>\n",
       "      <td>Oui</td>\n",
       "      <td>Oui</td>\n",
       "    </tr>\n",
       "    <tr>\n",
       "      <th>2</th>\n",
       "      <td>Non</td>\n",
       "      <td>Oui</td>\n",
       "      <td>Non</td>\n",
       "    </tr>\n",
       "    <tr>\n",
       "      <th>3</th>\n",
       "      <td>Non</td>\n",
       "      <td>Non</td>\n",
       "      <td>Non</td>\n",
       "    </tr>\n",
       "  </tbody>\n",
       "</table>\n",
       "</div>"
      ],
      "text/plain": [
       "  Réussite à l'examen de mathématiques Réussite à l'examen d'informatique  \\\n",
       "0                                  Oui                                Non   \n",
       "1                                  Oui                                Oui   \n",
       "2                                  Non                                Oui   \n",
       "3                                  Non                                Non   \n",
       "\n",
       "  Admis  \n",
       "0   Non  \n",
       "1   Oui  \n",
       "2   Non  \n",
       "3   Non  "
      ]
     },
     "execution_count": 29,
     "metadata": {},
     "output_type": "execute_result"
    }
   ],
   "source": [
    "# données\n",
    "data = {\"Réussite à l'examen de mathématiques\" : [\"Oui\", \"Oui\", \"Non\", \"Non\"],\n",
    "      \"Réussite à l'examen d'informatique\" : [\"Non\", \"Oui\", \"Oui\", \"Non\"],\n",
    "      \"Admis\" : [\"Non\", \"Oui\", \"Non\", \"Non\"]}\n",
    "\n",
    "# conversion df\n",
    "df = pd.DataFrame(data)\n",
    "\n",
    "# conversion en csv\n",
    "df.to_csv(\"df.csv\", index=False)\n",
    "\n",
    "# chargement du csv\n",
    "df = pd.read_csv(\"df.csv\")\n",
    "df"
   ]
  },
  {
   "cell_type": "markdown",
   "id": "7104eea2",
   "metadata": {},
   "source": [
    "## Initialisation du perceptron\n",
    "\n",
    "Nous allons initialiser notre perceptron avec une couche de deux neurones en\n",
    "entrée correspondant chacun à la réussite aux examens et un neurone de sortie\n",
    "qui permettra de classifier l'étudiant en tant qu'admis ou refusé dans l'université.\n",
    "En complément des deux neurones d'entrée, nous allons en ajouter un\n",
    "autre appelé biais (seuil) qui a pour but de contrôler la prédisposition du neurone\n",
    "à s'activer ou non et qui prendra toujours la valeur 1."
   ]
  },
  {
   "cell_type": "markdown",
   "id": "9394006a",
   "metadata": {},
   "source": [
    "### Les étapes d'apprentissage\n",
    "\n",
    "#### Étape 1 : initialisation des poids\n",
    "\n",
    "La première étape consiste à initialiser les poids. Cette initialisation se fait de façon aléatoire dans un intervalle compris entre -1 et 1 sauf pour le biais qui prendra la valeur 0."
   ]
  },
  {
   "cell_type": "markdown",
   "id": "3d918a1c",
   "metadata": {},
   "source": [
    "- **Weight** (Poids) suivi du numéro du neurone et du numéro de la couche. \n",
    "\n",
    "Ainsi :\n",
    "- **Wll** se lit poids du premier neurone de la première couche,\n",
    "- **W21** poids du deuxième neurone de la première couche, ainsi de suite. \n",
    "- **Wb** signifiant poids (Weight) du biais (*bias* en anglais)."
   ]
  },
  {
   "cell_type": "code",
   "execution_count": 32,
   "id": "f71a96cc",
   "metadata": {},
   "outputs": [],
   "source": [
    "# initialisation des poids\n",
    "\n",
    "W11 = -0.165955990594852\n",
    "W21 = 0.4406489868843162\n",
    "Wb = 0"
   ]
  },
  {
   "cell_type": "markdown",
   "id": "80f13b7b",
   "metadata": {},
   "source": [
    "#### Étape 2 : chargement des données de la première observation\n",
    "\n",
    "La seconde étape consiste à charger la première observation contenue dans\n",
    "notre jeu d'observations, venant alors alimenter les neurones Xl, X2."
   ]
  },
  {
   "cell_type": "code",
   "execution_count": 62,
   "id": "2fed4b85",
   "metadata": {},
   "outputs": [
    {
     "data": {
      "text/html": [
       "<div>\n",
       "<style scoped>\n",
       "    .dataframe tbody tr th:only-of-type {\n",
       "        vertical-align: middle;\n",
       "    }\n",
       "\n",
       "    .dataframe tbody tr th {\n",
       "        vertical-align: top;\n",
       "    }\n",
       "\n",
       "    .dataframe thead th {\n",
       "        text-align: right;\n",
       "    }\n",
       "</style>\n",
       "<table border=\"1\" class=\"dataframe\">\n",
       "  <thead>\n",
       "    <tr style=\"text-align: right;\">\n",
       "      <th></th>\n",
       "      <th>Réussite à l'examen de mathématiques</th>\n",
       "      <th>Réussite à l'examen d'informatique</th>\n",
       "      <th>Admis</th>\n",
       "    </tr>\n",
       "  </thead>\n",
       "  <tbody>\n",
       "    <tr>\n",
       "      <th>0</th>\n",
       "      <td>1</td>\n",
       "      <td>0</td>\n",
       "      <td>0</td>\n",
       "    </tr>\n",
       "    <tr>\n",
       "      <th>1</th>\n",
       "      <td>1</td>\n",
       "      <td>1</td>\n",
       "      <td>1</td>\n",
       "    </tr>\n",
       "    <tr>\n",
       "      <th>2</th>\n",
       "      <td>0</td>\n",
       "      <td>1</td>\n",
       "      <td>0</td>\n",
       "    </tr>\n",
       "    <tr>\n",
       "      <th>3</th>\n",
       "      <td>0</td>\n",
       "      <td>0</td>\n",
       "      <td>0</td>\n",
       "    </tr>\n",
       "  </tbody>\n",
       "</table>\n",
       "</div>"
      ],
      "text/plain": [
       "   Réussite à l'examen de mathématiques  Réussite à l'examen d'informatique  \\\n",
       "0                                     1                                   0   \n",
       "1                                     1                                   1   \n",
       "2                                     0                                   1   \n",
       "3                                     0                                   0   \n",
       "\n",
       "   Admis  \n",
       "0      0  \n",
       "1      1  \n",
       "2      0  \n",
       "3      0  "
      ]
     },
     "execution_count": 62,
     "metadata": {},
     "output_type": "execute_result"
    }
   ],
   "source": [
    "# numériser les valeurs \n",
    "df.replace([\"Oui\", \"Non\"], [1, 0], regex=True)"
   ]
  },
  {
   "cell_type": "code",
   "execution_count": 64,
   "id": "27a979ed",
   "metadata": {},
   "outputs": [],
   "source": [
    "# valeurs :\n",
    "X1 = 1\n",
    "X2 = 0"
   ]
  },
  {
   "cell_type": "markdown",
   "id": "ed5e798e",
   "metadata": {},
   "source": [
    "#### Étape 3: préactivation\n",
    "\n",
    "Calcul de la somme pondérée des différents poids : \n",
    "\n",
    "`sommePonderee = valeur du biais * wb + (wll*Xl + w21 * X2))`"
   ]
  },
  {
   "cell_type": "code",
   "execution_count": 71,
   "id": "571a41bf",
   "metadata": {},
   "outputs": [
    {
     "data": {
      "text/plain": [
       "-0.165955990594852"
      ]
     },
     "execution_count": 71,
     "metadata": {},
     "output_type": "execute_result"
    }
   ],
   "source": [
    "sommePonderee = 1*0 + (- 0.165955990594852 * 1 + 0.4406489868843162 * 0)\n",
    "print(sommePonderee)"
   ]
  },
  {
   "cell_type": "markdown",
   "id": "bc613768",
   "metadata": {},
   "source": [
    "#### Étape 4 : utilisation d'une fonction d'activation\n",
    "\n",
    "Fonction d'activation = ici sigmoïde.\n",
    "\n",
    "La fonction d'activation a pour rôle de réaliser la prédiction (nommée y) au niveau\n",
    "de notre neurone et a pour formule (exp étant l'exponentielle) :\n",
    "\n",
    "`y= 1 / (1 + exp(-somme_ponderee))`\n",
    "\n",
    "`Y= 1/(1+exp(-(-0.165955990594852)))`\n",
    "\n",
    "`Y= 0,45860596`\n",
    "\n",
    "#### Étape 5 : calcul de l'erreur linéaire commise lors de l'apprentissage\n",
    "\n",
    "La prédiction réalisée est de 0.363248, alors que nous attendions la valeur 0.\n",
    "Nous allons donc calculer la différence entre la valeur attendue et la prédiction\n",
    "réalisée pour déterminer l'erreur linéaire commise lors de l'apprentissage :\n",
    "\n",
    "`Erreur= 0 - 0.45860596`\n",
    "\n",
    "`Erreur = - 0.45860596`"
   ]
  },
  {
   "cell_type": "markdown",
   "id": "52e2dec7",
   "metadata": {},
   "source": [
    "#### Étape 6 : ajustement des poids synaptiques\n",
    "\n",
    "Le perceptron va apprendre de ses erreurs en ajustant\n",
    "les différents poids de chaque entrée jusqu'à atteindre une convergence. Cet\n",
    "ajustement se fait en fonction de l'erreur calculée précédemment et en réalisant\n",
    "la rétropropagation de l'erreur.\n",
    "\n",
    "Cette rétropropagation s'effectue dans un premier en calculant le gradient se\n",
    "formulant comme suit :\n",
    "\n",
    "`Gradient = -1 * ERREUR * PREDICTION * (1-PREDICTION) * VALEUR ENTREE`\n",
    "\n",
    "Dans notre cas, si l'on souhaite mettre à jour le poids **Wll** reliant l'entrée numéro\n",
    "1 (Xl) et la sortie du neurone, nous avons besoin des données suivantes :\n",
    "- L'erreur = - 0.45860596\n",
    "- La prédiction = 0.45860596\n",
    "- La valeur d'entrée Xl = 1"
   ]
  },
  {
   "cell_type": "code",
   "execution_count": 80,
   "id": "b7d1bba7",
   "metadata": {},
   "outputs": [
    {
     "name": "stdout",
     "output_type": "stream",
     "text": [
      "0.11386568402904597\n"
     ]
    }
   ],
   "source": [
    "Gradient = -1 * - 0.45860596 * 0.45860596 * (1 - 0.45860596) * 1\n",
    "print(Gradient)"
   ]
  },
  {
   "cell_type": "markdown",
   "id": "97825d05",
   "metadata": {},
   "source": [
    "Une fois le gradient déterminé, nous allons utiliser le taux d'apprentissage qui\n",
    "va nous permettre de progresser un peu plus dans la descente en calculant la\n",
    "valeur dont devra être ajusté le poids **Wll**. Nous avons choisi de façon arbitraire\n",
    "un taux d'apprentissage de **0,1**."
   ]
  },
  {
   "cell_type": "code",
   "execution_count": 81,
   "id": "b3ac3871",
   "metadata": {},
   "outputs": [
    {
     "name": "stdout",
     "output_type": "stream",
     "text": [
      "0.011386568\n"
     ]
    }
   ],
   "source": [
    "Valeur_ajustement_W11 = 0.11386568 * 0.1\n",
    "print(Valeur_ajustement_W11)"
   ]
  },
  {
   "cell_type": "markdown",
   "id": "f1d6314b",
   "metadata": {},
   "source": [
    "Il ne nous reste plus qu'à mettre à jour le poids Wll en procédant comme suit :\n",
    "\n",
    "`Nouveau W11 = W11 - Valeur ajustement W11`"
   ]
  },
  {
   "cell_type": "code",
   "execution_count": 86,
   "id": "5f721dad",
   "metadata": {},
   "outputs": [
    {
     "name": "stdout",
     "output_type": "stream",
     "text": [
      "-0.177342560594852\n"
     ]
    }
   ],
   "source": [
    "Nouveau_W11 = -0.165955990594852 - 0.01138657\n",
    "print(Nouveau_W11)"
   ]
  },
  {
   "cell_type": "markdown",
   "id": "3a60555a",
   "metadata": {},
   "source": [
    "#### Ajustement des poids de W21"
   ]
  },
  {
   "cell_type": "code",
   "execution_count": 87,
   "id": "021bec10",
   "metadata": {},
   "outputs": [
    {
     "name": "stdout",
     "output_type": "stream",
     "text": [
      "0.0\n"
     ]
    }
   ],
   "source": [
    "Gradient = -1 * - 0.45860596 * 0.45860596 * (1 - 0.45860596) * 0\n",
    "print(Gradient)"
   ]
  },
  {
   "cell_type": "code",
   "execution_count": 90,
   "id": "3ab9ede6",
   "metadata": {},
   "outputs": [
    {
     "name": "stdout",
     "output_type": "stream",
     "text": [
      "0.0\n"
     ]
    }
   ],
   "source": [
    "Valeur_ajustement_W21 = Gradient * 0.1\n",
    "print(Valeur_ajustement_W21)"
   ]
  },
  {
   "cell_type": "code",
   "execution_count": 91,
   "id": "dddd9e20",
   "metadata": {},
   "outputs": [
    {
     "name": "stdout",
     "output_type": "stream",
     "text": [
      "0.4406489868843162\n"
     ]
    }
   ],
   "source": [
    "Nouveau_W21 = W21 - Valeur_ajustement_W11\n",
    "print(Nouveau_W21)"
   ]
  },
  {
   "cell_type": "markdown",
   "id": "61186423",
   "metadata": {},
   "source": [
    "#### Ajustement des poids du biais"
   ]
  },
  {
   "cell_type": "code",
   "execution_count": 104,
   "id": "5cd868b0",
   "metadata": {},
   "outputs": [
    {
     "name": "stdout",
     "output_type": "stream",
     "text": [
      "0.11386568402904597\n"
     ]
    }
   ],
   "source": [
    "Gradient = -1 * - 0.45860596 * 0.45860596 * (1 - 0.45860596) * 1\n",
    "print(Gradient)"
   ]
  },
  {
   "cell_type": "code",
   "execution_count": 105,
   "id": "3cc5cd1f",
   "metadata": {},
   "outputs": [
    {
     "name": "stdout",
     "output_type": "stream",
     "text": [
      "0.011386568402904598\n"
     ]
    }
   ],
   "source": [
    "Valeur_ajustement_Wb = Gradient * 0.1\n",
    "print(Valeur_ajustement_Wb)"
   ]
  },
  {
   "cell_type": "code",
   "execution_count": 106,
   "id": "4ea22c51",
   "metadata": {},
   "outputs": [
    {
     "name": "stdout",
     "output_type": "stream",
     "text": [
      "-0.011386568402904598\n"
     ]
    }
   ],
   "source": [
    "Nouveau_Wb = Wb - Valeur_ajustement_Wb\n",
    "print(Nouveau_Wb)"
   ]
  },
  {
   "cell_type": "markdown",
   "id": "cc196fdf",
   "metadata": {},
   "source": [
    "Une fois les poids ajustés, il faut charger les données de la seconde observation et recommencer le processus jusqu'à ce que la fonction d'erreur soit minimisée."
   ]
  },
  {
   "cell_type": "markdown",
   "id": "86205914",
   "metadata": {},
   "source": [
    "---"
   ]
  }
 ],
 "metadata": {
  "kernelspec": {
   "display_name": "Python 3.8.3 ('base')",
   "language": "python",
   "name": "python3"
  },
  "language_info": {
   "codemirror_mode": {
    "name": "ipython",
    "version": 3
   },
   "file_extension": ".py",
   "mimetype": "text/x-python",
   "name": "python",
   "nbconvert_exporter": "python",
   "pygments_lexer": "ipython3",
   "version": "3.8.3"
  },
  "vscode": {
   "interpreter": {
    "hash": "cce956dd8b59511f520788cd9362dddc117670ac5ef39c9ede8ba85a43b854a0"
   }
  }
 },
 "nbformat": 4,
 "nbformat_minor": 5
}
