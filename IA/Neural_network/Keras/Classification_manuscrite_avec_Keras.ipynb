{
  "cells": [
    {
      "cell_type": "markdown",
      "metadata": {
        "id": "EnNs_pF3ipOg"
      },
      "source": [
        "# Classification Manuscrite : jeu de données MNIST avec KERAS\n",
        "\n",
        "**Source :** Cours de Franck Bardol, [LinkedIn Learning](https://www.linkedin.com/learning/decouvrir-le-deep-learning-avec-keras/bienvenue-dans-le-deep-learning-avec-keras?autoplay=true).\n",
        "\n",
        "**Objectif :** Reconnaitre les chiffres à partir d’une image."
      ]
    },
    {
      "cell_type": "markdown",
      "metadata": {
        "id": "b9aiILjZjC0s"
      },
      "source": [
        "## Importations"
      ]
    },
    {
      "cell_type": "code",
      "execution_count": null,
      "metadata": {
        "id": "exxaqZfbiudP"
      },
      "outputs": [],
      "source": [
        "# Jeu de données MNIST :\n",
        "from keras.datasets import mnist\n",
        "# Keras :\n",
        "from keras import models\n",
        "from keras import layers\n",
        "from keras.utils import to_categorical\n",
        "# Autres :\n",
        "import numpy as np\n",
        "import matplotlib.pyplot as plt"
      ]
    },
    {
      "cell_type": "markdown",
      "source": [
        "## Jeu de données"
      ],
      "metadata": {
        "id": "J4tVNaiskVs8"
      }
    },
    {
      "cell_type": "code",
      "execution_count": null,
      "metadata": {
        "id": "5P7LcsaxjQj7",
        "colab": {
          "base_uri": "https://localhost:8080/"
        },
        "outputId": "6a324469-9d18-47fd-f007-b8a0152204b6"
      },
      "outputs": [
        {
          "output_type": "stream",
          "name": "stdout",
          "text": [
            "Nombres d'images :  60000\n",
            "Liste des labels :  [0 1 2 3 4 5 6 7 8 9]\n"
          ]
        }
      ],
      "source": [
        "# Chargement des données\n",
        "(train_images, train_labels), (test_images, test_labels) = mnist.load_data()\n",
        "\n",
        "# Nombre d'images dans le dataset\n",
        "print(\"Nombres d'images : \", train_images.shape[0])\n",
        "\n",
        "# Afficher les différents labels \n",
        "print(\"Liste des labels : \", np.unique(train_labels))\n"
      ]
    },
    {
      "cell_type": "code",
      "source": [
        "# Description du dataset : 60 000 images, de 28 pixels sur 28 pixels\n",
        "print(\"Description du dataset :\" , train_images.shape)"
      ],
      "metadata": {
        "colab": {
          "base_uri": "https://localhost:8080/"
        },
        "id": "uCLAo79hj6bA",
        "outputId": "f99c2cc6-e404-466f-d1be-f0ab562fed6d"
      },
      "execution_count": null,
      "outputs": [
        {
          "output_type": "stream",
          "name": "stdout",
          "text": [
            "Description du dataset : (60000, 28, 28)\n"
          ]
        }
      ]
    },
    {
      "cell_type": "code",
      "source": [
        "# Visualisation d'une image aléatoire\n",
        "from random import randint\n",
        "\n",
        "# Choix du numéro de l'image \n",
        "num_img = randint(0, 60000)\n",
        "\n",
        "# Affichage de l'image\n",
        "plt.figure()\n",
        "plt.imshow(train_images[num_img,:,:], cmap = plt.get_cmap('gray'))\n",
        "plt.show()\n",
        "\n",
        "# Affichage du label\n",
        "print(\"\\n==> Label de l'image : \", train_labels[num_img])"
      ],
      "metadata": {
        "colab": {
          "base_uri": "https://localhost:8080/",
          "height": 301
        },
        "id": "ooyGSs_ikIuF",
        "outputId": "4e32b554-8127-44df-8bf8-211467aabae8"
      },
      "execution_count": null,
      "outputs": [
        {
          "output_type": "display_data",
          "data": {
            "text/plain": [
              "<Figure size 432x288 with 1 Axes>"
            ],
            "image/png": "[encoded data removed]"
          },
          "metadata": {
            "needs_background": "light"
          }
        },
        {
          "output_type": "stream",
          "name": "stdout",
          "text": [
            "\n",
            "==> Label de l'image :  1\n"
          ]
        }
      ]
    },
    {
      "cell_type": "markdown",
      "source": [
        "## Préparation des données\n",
        "\n",
        "### Redimension et normalisation\n",
        "\n"
      ],
      "metadata": {
        "id": "8rC24CullpRN"
      }
    },
    {
      "cell_type": "code",
      "source": [
        "# shape de l'image\n",
        "train_images.shape"
      ],
      "metadata": {
        "colab": {
          "base_uri": "https://localhost:8080/"
        },
        "id": "EnHRvlGPpqtz",
        "outputId": "9a9b87fa-eabe-4828-fa82-e56a4651b2da"
      },
      "execution_count": null,
      "outputs": [
        {
          "output_type": "execute_result",
          "data": {
            "text/plain": [
              "(60000, 28, 28)"
            ]
          },
          "metadata": {},
          "execution_count": 124
        }
      ]
    },
    {
      "cell_type": "code",
      "source": [
        "# Redimension des images : on ajoute une dimension.\n",
        "train_images = train_images.reshape((60000, 28, 28, 1)) # 3 pour RGB\n",
        "\n",
        "# Normalisation des images = échelle entre 0 et 1.\n",
        "train_images = train_images.astype('float32') / 255    # 255 niveaux de gris\n",
        "\n",
        "# Idem pour le jeu de test\n",
        "test_images = test_images.reshape((10000, 28, 28, 1))\n",
        "test_images = test_images.astype('float32') / 255"
      ],
      "metadata": {
        "id": "26e5RXBqlOBC"
      },
      "execution_count": null,
      "outputs": []
    },
    {
      "cell_type": "code",
      "source": [
        "# Après modification :\n",
        "train_images.shape"
      ],
      "metadata": {
        "colab": {
          "base_uri": "https://localhost:8080/"
        },
        "id": "P18MRYFCpu08",
        "outputId": "4959112d-3fd8-4c39-b8e5-35520a6e4cca"
      },
      "execution_count": null,
      "outputs": [
        {
          "output_type": "execute_result",
          "data": {
            "text/plain": [
              "(60000, 28, 28, 1)"
            ]
          },
          "metadata": {},
          "execution_count": 126
        }
      ]
    },
    {
      "cell_type": "markdown",
      "source": [
        "## Encodage des labels"
      ],
      "metadata": {
        "id": "i8n3Vq80mEGr"
      }
    },
    {
      "cell_type": "code",
      "source": [
        "# Catégorisation avec: One Hot Encoding\n",
        "train_labels = to_categorical(train_labels)\n",
        "test_labels = to_categorical(test_labels)"
      ],
      "metadata": {
        "id": "0vw9tgN9mBve"
      },
      "execution_count": null,
      "outputs": []
    },
    {
      "cell_type": "markdown",
      "source": [
        "## Construction du réseau de neurones avec Keras"
      ],
      "metadata": {
        "id": "LkvXDdfRqgfT"
      }
    },
    {
      "cell_type": "code",
      "source": [
        "# initialisation\n",
        "model = models.Sequential()\n",
        "\n",
        "# 1ère couche de convolution : 8 filtres de dimension 3*3\n",
        "model.add(layers.Conv2D(8, (3, 3), activation='relu', input_shape=(28, 28, 1)))\n",
        "# couche de max pooling (2*2)\n",
        "model.add(layers.MaxPooling2D((2, 2)))\n",
        "\n",
        "# 2ème couche de convolution : 16 filtres de dimension 3*3\n",
        "model.add(layers.Conv2D(16, (3, 3), activation='relu'))\n",
        "# couche de max pooling (2*2)\n",
        "model.add(layers.MaxPooling2D((2, 2)))\n",
        "\n",
        "# 3ème couche de convolution : 16 filtres de dimension 3*3\n",
        "model.add(layers.Conv2D(16, (3, 3), activation='relu'))"
      ],
      "metadata": {
        "id": "p10-1IzEqf49"
      },
      "execution_count": null,
      "outputs": []
    },
    {
      "cell_type": "code",
      "source": [
        "# couche d'applatissement (flatten) qui applatit les structures en 2D issues de la convolution = 2D > 1D.\n",
        "model.add(layers.Flatten())"
      ],
      "metadata": {
        "id": "gmYyR2Iir4td"
      },
      "execution_count": null,
      "outputs": []
    },
    {
      "cell_type": "code",
      "source": [
        "# couche de traitement dense : MLP, analyse les structures\n",
        "model.add(layers.Dense(256, activation='relu'))"
      ],
      "metadata": {
        "id": "vNd78cs4sRiY"
      },
      "execution_count": null,
      "outputs": []
    },
    {
      "cell_type": "code",
      "source": [
        "# couche de décision : émet une probabilité d'une classe\n",
        "model.add(layers.Dense(10, activation='softmax'))"
      ],
      "metadata": {
        "id": "oB8nqTtGsvSs"
      },
      "execution_count": null,
      "outputs": []
    },
    {
      "cell_type": "markdown",
      "source": [
        "## Structure du modèle"
      ],
      "metadata": {
        "id": "AQ7CBLsos7Kc"
      }
    },
    {
      "cell_type": "code",
      "source": [
        "model.summary()"
      ],
      "metadata": {
        "colab": {
          "base_uri": "https://localhost:8080/"
        },
        "id": "aJarlegHs1GL",
        "outputId": "085ab276-bc28-4637-9890-fd3864aa18c4"
      },
      "execution_count": null,
      "outputs": [
        {
          "output_type": "stream",
          "name": "stdout",
          "text": [
            "Model: \"sequential_6\"\n",
            "_________________________________________________________________\n",
            " Layer (type)                Output Shape              Param #   \n",
            "=================================================================\n",
            " conv2d_18 (Conv2D)          (None, 26, 26, 8)         80        \n",
            "                                                                 \n",
            " max_pooling2d_12 (MaxPoolin  (None, 13, 13, 8)        0         \n",
            " g2D)                                                            \n",
            "                                                                 \n",
            " conv2d_19 (Conv2D)          (None, 11, 11, 16)        1168      \n",
            "                                                                 \n",
            " max_pooling2d_13 (MaxPoolin  (None, 5, 5, 16)         0         \n",
            " g2D)                                                            \n",
            "                                                                 \n",
            " conv2d_20 (Conv2D)          (None, 3, 3, 16)          2320      \n",
            "                                                                 \n",
            " flatten_6 (Flatten)         (None, 144)               0         \n",
            "                                                                 \n",
            " dense_13 (Dense)            (None, 256)               37120     \n",
            "                                                                 \n",
            " dense_14 (Dense)            (None, 10)                2570      \n",
            "                                                                 \n",
            "=================================================================\n",
            "Total params: 43,258\n",
            "Trainable params: 43,258\n",
            "Non-trainable params: 0\n",
            "_________________________________________________________________\n"
          ]
        }
      ]
    },
    {
      "cell_type": "markdown",
      "source": [
        "## Compilation du modèle"
      ],
      "metadata": {
        "id": "OAkkIL9jtPPK"
      }
    },
    {
      "cell_type": "code",
      "source": [
        "model.compile(optimizer='rmsprop',\n",
        "              loss='categorical_crossentropy',\n",
        "              metrics=['accuracy'])"
      ],
      "metadata": {
        "id": "dLM3fG_ts4Th"
      },
      "execution_count": null,
      "outputs": []
    },
    {
      "cell_type": "markdown",
      "source": [
        "## Entraînement du modèle"
      ],
      "metadata": {
        "id": "ZhFIWXGdtWPy"
      }
    },
    {
      "cell_type": "code",
      "source": [
        "history = model.fit(train_images, \n",
        "          train_labels, \n",
        "          validation_split = 0.1,   # 10% des données pour le jeu de validation\n",
        "          epochs = 7,              # nombre d'epochs\n",
        "          batch_size = 500)         # taille du batch"
      ],
      "metadata": {
        "colab": {
          "base_uri": "https://localhost:8080/"
        },
        "id": "ygp4eVzotU9H",
        "outputId": "9995bd72-efd2-417f-d13e-7458c0d42d9b"
      },
      "execution_count": null,
      "outputs": [
        {
          "output_type": "stream",
          "name": "stdout",
          "text": [
            "Epoch 1/7\n",
            "108/108 [==============================] - 2s 10ms/step - loss: 0.6672 - accuracy: 0.7999 - val_loss: 0.2073 - val_accuracy: 0.9377\n",
            "Epoch 2/7\n",
            "108/108 [==============================] - 1s 6ms/step - loss: 0.2101 - accuracy: 0.9359 - val_loss: 0.1287 - val_accuracy: 0.9603\n",
            "Epoch 3/7\n",
            "108/108 [==============================] - 1s 6ms/step - loss: 0.1381 - accuracy: 0.9576 - val_loss: 0.1085 - val_accuracy: 0.9692\n",
            "Epoch 4/7\n",
            "108/108 [==============================] - 1s 6ms/step - loss: 0.1036 - accuracy: 0.9684 - val_loss: 0.0766 - val_accuracy: 0.9785\n",
            "Epoch 5/7\n",
            "108/108 [==============================] - 1s 6ms/step - loss: 0.0836 - accuracy: 0.9743 - val_loss: 0.0710 - val_accuracy: 0.9795\n",
            "Epoch 6/7\n",
            "108/108 [==============================] - 1s 6ms/step - loss: 0.0715 - accuracy: 0.9774 - val_loss: 0.0675 - val_accuracy: 0.9802\n",
            "Epoch 7/7\n",
            "108/108 [==============================] - 1s 6ms/step - loss: 0.0627 - accuracy: 0.9804 - val_loss: 0.0544 - val_accuracy: 0.9843\n"
          ]
        }
      ]
    },
    {
      "cell_type": "markdown",
      "source": [
        "## Courbe d'apprentissage"
      ],
      "metadata": {
        "id": "XmYr3soAt2tC"
      }
    },
    {
      "cell_type": "code",
      "source": [
        "plt.figure()\n",
        "plt.plot(history.history['loss'])\n",
        "plt.plot(history.history['val_loss'])\n",
        "plt.legend([\"training\",\"test\"])"
      ],
      "metadata": {
        "colab": {
          "base_uri": "https://localhost:8080/",
          "height": 283
        },
        "id": "KMhNZB0stnEL",
        "outputId": "78dbe0be-4dea-4bcb-d7fa-deed24b5ee89"
      },
      "execution_count": null,
      "outputs": [
        {
          "output_type": "execute_result",
          "data": {
            "text/plain": [
              "<matplotlib.legend.Legend at 0x7f6cbfcfe750>"
            ]
          },
          "metadata": {},
          "execution_count": 135
        },
        {
          "output_type": "display_data",
          "data": {
            "text/plain": [
              "<Figure size 432x288 with 1 Axes>"
            ],
            "image/png": "[encoded data removed]"
          },
          "metadata": {
            "needs_background": "light"
          }
        }
      ]
    },
    {
      "cell_type": "markdown",
      "source": [
        "## Evaluation du modèle"
      ],
      "metadata": {
        "id": "e4aiavFKuOvq"
      }
    },
    {
      "cell_type": "code",
      "source": [
        "# Evaluation\n",
        "print(model.evaluate(test_images, test_labels))"
      ],
      "metadata": {
        "colab": {
          "base_uri": "https://localhost:8080/"
        },
        "id": "2xmpDvz2txtx",
        "outputId": "51b3c6d5-e6cb-4ed5-ce52-86cf257d3ebc"
      },
      "execution_count": null,
      "outputs": [
        {
          "output_type": "stream",
          "name": "stdout",
          "text": [
            "313/313 [==============================] - 1s 3ms/step - loss: 0.0473 - accuracy: 0.9840\n",
            "[0.04732956364750862, 0.984000027179718]\n"
          ]
        }
      ]
    },
    {
      "cell_type": "markdown",
      "source": [
        "## Sauvegarde du modèle"
      ],
      "metadata": {
        "id": "kepu9WONzhEC"
      }
    },
    {
      "cell_type": "code",
      "source": [
        "# connexion à google drive\n",
        "from google.colab import drive\n",
        "drive.mount('/content/gdrive', force_remount=True)"
      ],
      "metadata": {
        "colab": {
          "base_uri": "https://localhost:8080/"
        },
        "id": "czHdl0sgzisz",
        "outputId": "afd34161-a3d2-4788-f9af-afeb52d832e2"
      },
      "execution_count": null,
      "outputs": [
        {
          "output_type": "stream",
          "name": "stdout",
          "text": [
            "Mounted at /content/gdrive\n"
          ]
        }
      ]
    },
    {
      "cell_type": "markdown",
      "source": [
        "### Sauvegarde de la structure du réseau"
      ],
      "metadata": {
        "id": "Oq-MZMRTz1q5"
      }
    },
    {
      "cell_type": "code",
      "source": [
        "#====================#====================#====================\n",
        "# ===================== SAVE  ===================================\n",
        "#====================#====================#====================\n",
        "\n",
        "#  model to JSON\n",
        "model_json = model.to_json()\n",
        "print(\"Enregistrement du modèle.\")\n",
        "\n",
        "with open('/content/gdrive/My Drive/model.json', 'w') as json_f:\n",
        "    json_f.write(model_json)"
      ],
      "metadata": {
        "colab": {
          "base_uri": "https://localhost:8080/"
        },
        "id": "uLw2DDM6zsI6",
        "outputId": "8cca8c1b-38b6-40d0-a623-18247a5f1ebb"
      },
      "execution_count": null,
      "outputs": [
        {
          "output_type": "stream",
          "name": "stdout",
          "text": [
            "Enregistrement du modèle.\n"
          ]
        }
      ]
    },
    {
      "cell_type": "markdown",
      "source": [
        "### Sauvegarde des paramètres du réseau"
      ],
      "metadata": {
        "id": "pzOrxe3Sz5Xg"
      }
    },
    {
      "cell_type": "code",
      "source": [
        "#====================#====================#====================\n",
        "# ===================== SAVE  ===================================\n",
        "#====================#====================#====================# weights to HDF5\n",
        "\n",
        "print(\"Enregistrement des poids du modèle.\")\n",
        "model.save_weights(\"/content/gdrive/My Drive/model.h5\")"
      ],
      "metadata": {
        "colab": {
          "base_uri": "https://localhost:8080/"
        },
        "id": "yvtnI9oOzy_J",
        "outputId": "ca71f2f0-c5d9-444b-a936-6001b4f84aba"
      },
      "execution_count": null,
      "outputs": [
        {
          "output_type": "stream",
          "name": "stdout",
          "text": [
            "Enregistrement des poids du modèle.\n"
          ]
        }
      ]
    }
  ],
  "metadata": {
    "accelerator": "GPU",
    "colab": {
      "provenance": []
    },
    "gpuClass": "standard",
    "kernelspec": {
      "display_name": "Python 3",
      "name": "python3"
    },
    "language_info": {
      "name": "python"
    }
  },
  "nbformat": 4,
  "nbformat_minor": 0
}