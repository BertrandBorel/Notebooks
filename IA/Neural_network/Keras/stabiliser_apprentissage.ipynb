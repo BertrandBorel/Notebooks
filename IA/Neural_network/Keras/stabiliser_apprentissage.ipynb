{
  "nbformat": 4,
  "nbformat_minor": 0,
  "metadata": {
    "colab": {
      "provenance": []
    },
    "kernelspec": {
      "name": "python2",
      "display_name": "Python 2"
    }
  },
  "cells": [
    {
      "cell_type": "markdown",
      "metadata": {
        "id": "eU7KmPZ3m8lE"
      },
      "source": [
        "# <center> Stabiliser l'apprentissage d'un modèle avec Keras </center>\n",
        "\n",
        "**Source :** Cours de Franck Bardol, [LinkedIn Learning](https://www.linkedin.com/learning/decouvrir-le-deep-learning-avec-keras/bienvenue-dans-le-deep-learning-avec-keras?autoplay=true)."
      ]
    },
    {
      "cell_type": "markdown",
      "metadata": {
        "id": "AXeNqEmGnGty"
      },
      "source": [
        "## Objectif\n",
        "Apprendre à moduler correctement le volume de données traité durant l'apprentissage.\n",
        "Pour cela nous allons apprendre l'utilité des paramètres :\n",
        "* batch size\n",
        "* epochs\n",
        "\n",
        "Ces 2 paramètres sont utilisés dans la fonction d'apprentissage **fit** du modèle de Deep Learning"
      ]
    },
    {
      "cell_type": "code",
      "metadata": {
        "id": "ddPJ3eUDqsA4"
      },
      "source": [
        "if False:\n",
        "  history = model.fit(\n",
        "          X, \n",
        "          y, \n",
        "      \n",
        "          # les 2 paramètres en question :\n",
        "          epochs= 40, \n",
        "          batch_size = 5,\n",
        "          \n",
        "          # autres paramètres\n",
        "          validation_split = 0.33,\n",
        "          verbose = 0)"
      ],
      "execution_count": null,
      "outputs": []
    },
    {
      "cell_type": "markdown",
      "metadata": {
        "id": "PFhsQdRRnsM-"
      },
      "source": [
        "## Batch size\n",
        "Le paramètre *batch_size*\n",
        "\n",
        "Durant l'apprentissage, on groupe les données d'entrée (*X*). On réalise des groupes comprenant \"*batch_size*\" points. Par exemple, *batch_size* = 100 signifie 100 données d'entrée par groupes.\n",
        "\n",
        "Si le data-set comporte 1000 données et que *batch_size* = 100 alors il y aura un nombre de batch à traiter égal à : \n",
        "volume_data_set / *batch_size*\n",
        "Dans notre cas, 1000 / 100 = 10 batchs\n",
        "\n",
        "Les données sont mélangées au sein de chaque batch. La constitution des groupes est faite au hasard."
      ]
    },
    {
      "cell_type": "markdown",
      "metadata": {
        "id": "7jnky8TKnsz7"
      },
      "source": [
        "## **Epochs**\n",
        "\n",
        "Le paramètre *epochs* représente le nombre d'itérations de l'algorithme de Deep Learning durant l'apprentissage.\n",
        "\n",
        "L'algorithme passe en revue toutes les données d'un *batch*. \n",
        "Pour chacune d'elle, l'algorithme génère une prédiction et calcule l'erreur associée à chaque prédiction.\n",
        "C'est-à-dire, l'écart entre la valeur **réelle** et la valeur prédite.\n",
        "\n",
        "Ensuite,  il modifie les poids des connections en fonction de la **moyenne** des erreurs constatées dans ce batch en cours.\n",
        "\n",
        "L'ensemble de ces opérations est fait **epochs** fois"
      ]
    },
    {
      "cell_type": "markdown",
      "metadata": {
        "id": "RCteWejlsERd"
      },
      "source": [
        "## Influence des paramètres *batch_size* et *epochs* sur l'apprentissage\n",
        "\n",
        "Voyons à présent l'influence des paramètres *batch_size* et *epochs*  sur l'apprentissage.\n",
        "\n",
        "Il est important de comprendre que les algorithmes de Deep Learning sont **stochastiques**\n",
        " par nature.\n",
        "* la constitution des batchs est aléatoire\n",
        "* l'initialisation des paramètres du réseau est aléatoire\n",
        "* les données d'entrée comportent également une part d'aléa. En effet, certaines données peuvent être mal labellisées, être de mauvaises qualité, etc ....\n",
        "\n",
        "De ce fait, certains batch peuvent entrainer l'algorithme dans une mauvaise direction. C'est pourquoi on choisit d'augmenter la **taille** des batchs afin de compenser les erreurs potentielles. La compensation est réalisée lors de la **moyenne** des erreurs au sein du batch en cours.\n",
        "\n",
        "#### Batch_size\n",
        "Augmenter la taille du **batch_size** stabilise l'apprentissage et diminue les fluctuations stochastiques dont nous avons parlé.\n",
        "Mais Augmenter la taille du **batch_size**  ralentit, dans le même temps. \n",
        "\n",
        "Il faut alors jongler entre *stabilité* et *vitesse* de convergence.\n",
        "\n",
        "#### Epochs\n",
        "En augmentant, le nombre d'itération (*epochs*) on force en quelque sorte l'algorithme à converger.\n",
        "C'est un point positif\n",
        "Par contre, en cas de sur-apprentissage (*over-fitting*), augmenter le nombre d'*epochs* va encore accentuer le phénomène d'*over-fitting* . Dans ce cas, il faut, au contraire, diminuer *epochs* ou mettre en place une méthode de **early stopping**.\n",
        "\n",
        "#### Conclusion\n",
        "Les paramètres *epochs* et *batch_size* influencent l'apprentissage.\n",
        "Il n'y a pas de recette miracle ou de formule permettant de fixer ces paramètres à l'avance.\n",
        "Vous devrez procéder par essai et erreur pour  fixer leurs valeurs optimales."
      ]
    },
    {
      "cell_type": "markdown",
      "metadata": {
        "id": "ax3bch3SvZ5y"
      },
      "source": [
        "## Implémentation avec Keras\n",
        "On peut constater l'importance des paramètres avec les exemples suivants"
      ]
    },
    {
      "cell_type": "code",
      "metadata": {
        "id": "FquOsr4knBsw"
      },
      "source": [
        "from keras import layers\n",
        "from keras import models\n",
        "from keras import optimizers \n",
        "from keras.callbacks import EarlyStopping\n",
        "\n",
        "\n",
        "from sklearn import model_selection\n",
        "from sklearn.datasets import make_circles,make_classification\n",
        "\n",
        "import matplotlib.pyplot as pl\n",
        "import numpy as np\n",
        "\n",
        "X,y = make_classification(n_samples = 300, \n",
        "                          n_features = 20, \n",
        "                          n_informative = 2, \n",
        "                          n_classes = 2)\n",
        "\n",
        "\n",
        "# nb de colonne de X (inputs)\n",
        "x_input_dim = X.shape[1]\n",
        "\n",
        "model = models.Sequential()\n",
        "model.add(layers.Dense(5 , input_dim = x_input_dim ))\n",
        "model.add(layers.Dense(5, activation= 'sigmoid' ))\n",
        "model.add(layers.Dense(1,activation = 'sigmoid'))\n",
        "model.compile(loss='binary_crossentropy', optimizer='adam', metrics=['accuracy'])"
      ],
      "execution_count": null,
      "outputs": []
    },
    {
      "cell_type": "code",
      "metadata": {
        "id": "bAmfrHph6QaI"
      },
      "source": [
        "# essayer différentes valeurs de 'batch' : [5 , 10 , 15] \n",
        "# pour constater l'influence\n",
        "batch = 5\n",
        "history = model.fit(X, \n",
        "          y, \n",
        "          epochs= 50, \n",
        "          batch_size = batch,\n",
        "          validation_split = 0.33,\n",
        "          verbose = 0)"
      ],
      "execution_count": null,
      "outputs": []
    },
    {
      "cell_type": "code",
      "metadata": {
        "id": "VCd290V95A7d",
        "outputId": "b55f5d51-f40c-4aa6-ffe1-b77b6c26463e",
        "colab": {
          "base_uri": "https://localhost:8080/",
          "height": 281
        }
      },
      "source": [
        "pl.figure()\n",
        "pl.plot(history.history['loss'], 'ko')\n",
        "pl.plot(history.history['val_loss'], 'cd')\n",
        "pl.title('LOSS')\n",
        "pl.legend([ 'train' ,  'test'  ], loc= 'best' )\n",
        "pl.show()"
      ],
      "execution_count": null,
      "outputs": [
        {
          "output_type": "display_data",
          "data": {
            "image/png": "[encoded data removed]",
            "text/plain": [
              "<Figure size 432x288 with 1 Axes>"
            ]
          },
          "metadata": {
            "tags": [],
            "needs_background": "light"
          }
        }
      ]
    }
  ]
}