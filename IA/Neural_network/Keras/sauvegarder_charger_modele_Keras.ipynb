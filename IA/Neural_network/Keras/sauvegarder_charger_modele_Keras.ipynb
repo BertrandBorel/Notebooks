{
  "nbformat": 4,
  "nbformat_minor": 0,
  "metadata": {
    "colab": {
      "provenance": []
    },
    "kernelspec": {
      "name": "python2",
      "display_name": "Python 2"
    }
  },
  "cells": [
    {
      "cell_type": "markdown",
      "metadata": {
        "id": "Y6hPIf4oGbFY"
      },
      "source": [
        "# <center> Sauvegarder et recharger un modèle de Deep Learning avec Keras </center>\n",
        "\n",
        "**Source :** Cours de Franck Bardol, [LinkedIn Learning](https://www.linkedin.com/learning/decouvrir-le-deep-learning-avec-keras/bienvenue-dans-le-deep-learning-avec-keras?autoplay=true)."
      ]
    },
    {
      "cell_type": "markdown",
      "metadata": {
        "id": "V17v26WJGnZX"
      },
      "source": [
        "## Objectif\n",
        "\n",
        "Nous allons voir ensemble comment \n",
        "* sauvegarder un modèle sur un fichier\n",
        "* recharger un modèle à partir d'un fichier\n",
        "\n",
        "## Data set\n",
        "Données médicales : classification de cellules cancéreuses \n",
        "\n",
        "## Avertissement\n",
        "Pour executer le code sans erreur, vous **devez avoir un compte Google**"
      ]
    },
    {
      "cell_type": "code",
      "metadata": {
        "id": "khGYZUSz0Bt1",
        "outputId": "40e2ccf3-1896-4757-af8e-79291e862886",
        "colab": {
          "base_uri": "https://localhost:8080/",
          "height": 238
        }
      },
      "source": [
        "#\n",
        "#               CANCER DATA\n",
        "#\n",
        "from sklearn import datasets\n",
        "from sklearn import model_selection\n",
        "\n",
        "import numpy as np\n",
        "from keras.models import Sequential\n",
        "from keras.layers import Dense\n",
        "\n",
        "from keras.models import model_from_json\n",
        "\n",
        "# fix random seed \n",
        "seed = 12345\n",
        "np.random.seed(seed)\n",
        "\n",
        "data = datasets.load_breast_cancer()\n",
        "print(\"classe = {}\".format(np.unique(data.target)))\n",
        "print(\"features :\")\n",
        "print(data.feature_names)\n",
        "\n",
        "# taille du data-set (les features : les colonnes)\n",
        "n_feature = data.feature_names.shape[0]\n",
        "print(\"taille du data set = \" , n_feature)"
      ],
      "execution_count": null,
      "outputs": [
        {
          "output_type": "stream",
          "text": [
            "Using TensorFlow backend.\n"
          ],
          "name": "stderr"
        },
        {
          "output_type": "stream",
          "text": [
            "classe = [0 1]\n",
            "features :\n",
            "['mean radius' 'mean texture' 'mean perimeter' 'mean area'\n",
            " 'mean smoothness' 'mean compactness' 'mean concavity'\n",
            " 'mean concave points' 'mean symmetry' 'mean fractal dimension'\n",
            " 'radius error' 'texture error' 'perimeter error' 'area error'\n",
            " 'smoothness error' 'compactness error' 'concavity error'\n",
            " 'concave points error' 'symmetry error' 'fractal dimension error'\n",
            " 'worst radius' 'worst texture' 'worst perimeter' 'worst area'\n",
            " 'worst smoothness' 'worst compactness' 'worst concavity'\n",
            " 'worst concave points' 'worst symmetry' 'worst fractal dimension']\n",
            "('taille du data set = ', 30)\n"
          ],
          "name": "stdout"
        }
      ]
    },
    {
      "cell_type": "code",
      "metadata": {
        "id": "CVQ7gnd8WdjA"
      },
      "source": [
        "X = data.data\n",
        "y = data.target"
      ],
      "execution_count": null,
      "outputs": []
    },
    {
      "cell_type": "markdown",
      "metadata": {
        "id": "Nw6V2WtaIaVo"
      },
      "source": [
        "### data set \n",
        "On voit que c'est un problème  classification **binaire** (vrai / faux) \n",
        "\n",
        "En effet : classe = [0 1]\n",
        "\n",
        "\n",
        "Les données sont des mesures physiques de cellules (périmètre, texture, diamètre, etc ...)\n"
      ]
    },
    {
      "cell_type": "markdown",
      "metadata": {
        "id": "6iDqyK_bIFqs"
      },
      "source": [
        "## Le modèle de Deep Learning"
      ]
    },
    {
      "cell_type": "code",
      "metadata": {
        "id": "RJ4yHNvBIEmh"
      },
      "source": [
        "# create-compile-fit model\n",
        "model = Sequential()\n",
        "model.add(Dense(n_feature, input_dim = n_feature, activation='sigmoid'))\n",
        "model.add(Dense(n_feature, activation='relu'))\n",
        "model.add(Dense(1, activation='sigmoid'))\n",
        "model.compile(loss='binary_crossentropy', optimizer='adam', metrics=['accuracy'])"
      ],
      "execution_count": null,
      "outputs": []
    },
    {
      "cell_type": "code",
      "metadata": {
        "id": "RfIU2UW-J20b",
        "outputId": "4ecf35e4-0e0c-48eb-f606-a71119628065",
        "colab": {
          "base_uri": "https://localhost:8080/",
          "height": 255
        }
      },
      "source": [
        "model.summary()"
      ],
      "execution_count": null,
      "outputs": [
        {
          "output_type": "stream",
          "text": [
            "Model: \"sequential_1\"\n",
            "_________________________________________________________________\n",
            "Layer (type)                 Output Shape              Param #   \n",
            "=================================================================\n",
            "dense_1 (Dense)              (None, 30)                930       \n",
            "_________________________________________________________________\n",
            "dense_2 (Dense)              (None, 30)                930       \n",
            "_________________________________________________________________\n",
            "dense_3 (Dense)              (None, 1)                 31        \n",
            "=================================================================\n",
            "Total params: 1,891\n",
            "Trainable params: 1,891\n",
            "Non-trainable params: 0\n",
            "_________________________________________________________________\n"
          ],
          "name": "stdout"
        }
      ]
    },
    {
      "cell_type": "code",
      "metadata": {
        "id": "3KIR9dYgX_6u"
      },
      "source": [
        "from sklearn.model_selection import train_test_split\n",
        "\n",
        "X_train, X_test, y_train, y_test  = train_test_split(X , y)"
      ],
      "execution_count": null,
      "outputs": []
    },
    {
      "cell_type": "markdown",
      "metadata": {
        "id": "LUZItYaBJwqz"
      },
      "source": []
    },
    {
      "cell_type": "code",
      "metadata": {
        "id": "ctuwVbjs5hp7",
        "outputId": "b2f4bc2c-6082-44b4-efb8-f4c2ada766c7",
        "colab": {
          "base_uri": "https://localhost:8080/",
          "height": 1000
        }
      },
      "source": [
        "model.fit(X_train, \n",
        "                    y_train, \n",
        "                    validation_split = 0.33, \n",
        "                    epochs=150, \n",
        "                    batch_size=10, \n",
        "                    verbose=1)"
      ],
      "execution_count": null,
      "outputs": [
        {
          "output_type": "stream",
          "text": [
            "Train on 285 samples, validate on 141 samples\n",
            "Epoch 1/150\n",
            "285/285 [==============================] - 0s 180us/step - loss: 0.2256 - accuracy: 0.9158 - val_loss: 0.2496 - val_accuracy: 0.9291\n",
            "Epoch 2/150\n",
            "285/285 [==============================] - 0s 163us/step - loss: 0.1714 - accuracy: 0.9439 - val_loss: 0.2610 - val_accuracy: 0.9078\n",
            "Epoch 3/150\n",
            "285/285 [==============================] - 0s 172us/step - loss: 0.1632 - accuracy: 0.9509 - val_loss: 0.2451 - val_accuracy: 0.9149\n",
            "Epoch 4/150\n",
            "285/285 [==============================] - 0s 165us/step - loss: 0.1727 - accuracy: 0.9474 - val_loss: 0.2408 - val_accuracy: 0.9220\n",
            "Epoch 5/150\n",
            "285/285 [==============================] - 0s 159us/step - loss: 0.1608 - accuracy: 0.9509 - val_loss: 0.2573 - val_accuracy: 0.9149\n",
            "Epoch 6/150\n",
            "285/285 [==============================] - 0s 169us/step - loss: 0.1707 - accuracy: 0.9509 - val_loss: 0.2637 - val_accuracy: 0.9078\n",
            "Epoch 7/150\n",
            "285/285 [==============================] - 0s 166us/step - loss: 0.1962 - accuracy: 0.9439 - val_loss: 0.2606 - val_accuracy: 0.9220\n",
            "Epoch 8/150\n",
            "285/285 [==============================] - 0s 161us/step - loss: 0.1879 - accuracy: 0.9404 - val_loss: 0.2558 - val_accuracy: 0.9149\n",
            "Epoch 9/150\n",
            "285/285 [==============================] - 0s 157us/step - loss: 0.1882 - accuracy: 0.9474 - val_loss: 0.2602 - val_accuracy: 0.9078\n",
            "Epoch 10/150\n",
            "285/285 [==============================] - 0s 171us/step - loss: 0.1645 - accuracy: 0.9474 - val_loss: 0.2632 - val_accuracy: 0.9149\n",
            "Epoch 11/150\n",
            "285/285 [==============================] - 0s 164us/step - loss: 0.1588 - accuracy: 0.9509 - val_loss: 0.2628 - val_accuracy: 0.9149\n",
            "Epoch 12/150\n",
            "285/285 [==============================] - 0s 166us/step - loss: 0.1532 - accuracy: 0.9544 - val_loss: 0.2666 - val_accuracy: 0.9078\n",
            "Epoch 13/150\n",
            "285/285 [==============================] - 0s 170us/step - loss: 0.1611 - accuracy: 0.9509 - val_loss: 0.2568 - val_accuracy: 0.9149\n",
            "Epoch 14/150\n",
            "285/285 [==============================] - 0s 171us/step - loss: 0.1714 - accuracy: 0.9509 - val_loss: 0.2685 - val_accuracy: 0.9078\n",
            "Epoch 15/150\n",
            "285/285 [==============================] - 0s 163us/step - loss: 0.1686 - accuracy: 0.9439 - val_loss: 0.2924 - val_accuracy: 0.9078\n",
            "Epoch 16/150\n",
            "285/285 [==============================] - 0s 163us/step - loss: 0.1811 - accuracy: 0.9368 - val_loss: 0.2414 - val_accuracy: 0.9149\n",
            "Epoch 17/150\n",
            "285/285 [==============================] - 0s 185us/step - loss: 0.1692 - accuracy: 0.9439 - val_loss: 0.2510 - val_accuracy: 0.9149\n",
            "Epoch 18/150\n",
            "285/285 [==============================] - 0s 158us/step - loss: 0.1594 - accuracy: 0.9474 - val_loss: 0.2444 - val_accuracy: 0.9149\n",
            "Epoch 19/150\n",
            "285/285 [==============================] - 0s 156us/step - loss: 0.1805 - accuracy: 0.9368 - val_loss: 0.2555 - val_accuracy: 0.9149\n",
            "Epoch 20/150\n",
            "285/285 [==============================] - 0s 158us/step - loss: 0.1831 - accuracy: 0.9439 - val_loss: 0.2522 - val_accuracy: 0.9149\n",
            "Epoch 21/150\n",
            "285/285 [==============================] - 0s 161us/step - loss: 0.1844 - accuracy: 0.9509 - val_loss: 0.2518 - val_accuracy: 0.9149\n",
            "Epoch 22/150\n",
            "285/285 [==============================] - 0s 176us/step - loss: 0.1736 - accuracy: 0.9439 - val_loss: 0.2685 - val_accuracy: 0.9078\n",
            "Epoch 23/150\n",
            "285/285 [==============================] - 0s 191us/step - loss: 0.1569 - accuracy: 0.9544 - val_loss: 0.2438 - val_accuracy: 0.9149\n",
            "Epoch 24/150\n",
            "285/285 [==============================] - 0s 160us/step - loss: 0.1575 - accuracy: 0.9509 - val_loss: 0.2633 - val_accuracy: 0.9149\n",
            "Epoch 25/150\n",
            "285/285 [==============================] - 0s 158us/step - loss: 0.1687 - accuracy: 0.9404 - val_loss: 0.2939 - val_accuracy: 0.9149\n",
            "Epoch 26/150\n",
            "285/285 [==============================] - 0s 154us/step - loss: 0.1607 - accuracy: 0.9474 - val_loss: 0.2565 - val_accuracy: 0.9078\n",
            "Epoch 27/150\n",
            "285/285 [==============================] - 0s 167us/step - loss: 0.1632 - accuracy: 0.9474 - val_loss: 0.2433 - val_accuracy: 0.9149\n",
            "Epoch 28/150\n",
            "285/285 [==============================] - 0s 160us/step - loss: 0.1674 - accuracy: 0.9474 - val_loss: 0.3000 - val_accuracy: 0.9220\n",
            "Epoch 29/150\n",
            "285/285 [==============================] - 0s 166us/step - loss: 0.1691 - accuracy: 0.9474 - val_loss: 0.2687 - val_accuracy: 0.9078\n",
            "Epoch 30/150\n",
            "285/285 [==============================] - 0s 153us/step - loss: 0.1622 - accuracy: 0.9474 - val_loss: 0.2527 - val_accuracy: 0.9149\n",
            "Epoch 31/150\n",
            "285/285 [==============================] - 0s 165us/step - loss: 0.1596 - accuracy: 0.9509 - val_loss: 0.2407 - val_accuracy: 0.9220\n",
            "Epoch 32/150\n",
            "285/285 [==============================] - 0s 161us/step - loss: 0.1604 - accuracy: 0.9544 - val_loss: 0.2615 - val_accuracy: 0.9149\n",
            "Epoch 33/150\n",
            "285/285 [==============================] - 0s 172us/step - loss: 0.1557 - accuracy: 0.9474 - val_loss: 0.2514 - val_accuracy: 0.9078\n",
            "Epoch 34/150\n",
            "285/285 [==============================] - 0s 154us/step - loss: 0.1698 - accuracy: 0.9439 - val_loss: 0.2552 - val_accuracy: 0.9149\n",
            "Epoch 35/150\n",
            "285/285 [==============================] - 0s 167us/step - loss: 0.1687 - accuracy: 0.9509 - val_loss: 0.2497 - val_accuracy: 0.9220\n",
            "Epoch 36/150\n",
            "285/285 [==============================] - 0s 158us/step - loss: 0.1592 - accuracy: 0.9509 - val_loss: 0.2796 - val_accuracy: 0.9078\n",
            "Epoch 37/150\n",
            "285/285 [==============================] - 0s 178us/step - loss: 0.1587 - accuracy: 0.9509 - val_loss: 0.2437 - val_accuracy: 0.9220\n",
            "Epoch 38/150\n",
            "285/285 [==============================] - 0s 174us/step - loss: 0.1575 - accuracy: 0.9439 - val_loss: 0.2725 - val_accuracy: 0.9007\n",
            "Epoch 39/150\n",
            "285/285 [==============================] - 0s 162us/step - loss: 0.1683 - accuracy: 0.9439 - val_loss: 0.2444 - val_accuracy: 0.9149\n",
            "Epoch 40/150\n",
            "285/285 [==============================] - 0s 161us/step - loss: 0.1685 - accuracy: 0.9474 - val_loss: 0.2760 - val_accuracy: 0.9149\n",
            "Epoch 41/150\n",
            "285/285 [==============================] - 0s 153us/step - loss: 0.1669 - accuracy: 0.9579 - val_loss: 0.2703 - val_accuracy: 0.9149\n",
            "Epoch 42/150\n",
            "285/285 [==============================] - 0s 157us/step - loss: 0.1783 - accuracy: 0.9544 - val_loss: 0.2939 - val_accuracy: 0.9007\n",
            "Epoch 43/150\n",
            "285/285 [==============================] - 0s 188us/step - loss: 0.1708 - accuracy: 0.9509 - val_loss: 0.3043 - val_accuracy: 0.9149\n",
            "Epoch 44/150\n",
            "285/285 [==============================] - 0s 173us/step - loss: 0.1969 - accuracy: 0.9263 - val_loss: 0.2961 - val_accuracy: 0.9007\n",
            "Epoch 45/150\n",
            "285/285 [==============================] - 0s 200us/step - loss: 0.2004 - accuracy: 0.9333 - val_loss: 0.2615 - val_accuracy: 0.9149\n",
            "Epoch 46/150\n",
            "285/285 [==============================] - 0s 160us/step - loss: 0.1959 - accuracy: 0.9333 - val_loss: 0.2999 - val_accuracy: 0.9007\n",
            "Epoch 47/150\n",
            "285/285 [==============================] - 0s 159us/step - loss: 0.1679 - accuracy: 0.9509 - val_loss: 0.2402 - val_accuracy: 0.9149\n",
            "Epoch 48/150\n",
            "285/285 [==============================] - 0s 164us/step - loss: 0.1598 - accuracy: 0.9509 - val_loss: 0.2446 - val_accuracy: 0.9220\n",
            "Epoch 49/150\n",
            "285/285 [==============================] - 0s 163us/step - loss: 0.1845 - accuracy: 0.9439 - val_loss: 0.2725 - val_accuracy: 0.9078\n",
            "Epoch 50/150\n",
            "285/285 [==============================] - 0s 160us/step - loss: 0.1894 - accuracy: 0.9333 - val_loss: 0.2697 - val_accuracy: 0.9078\n",
            "Epoch 51/150\n",
            "285/285 [==============================] - 0s 164us/step - loss: 0.1590 - accuracy: 0.9474 - val_loss: 0.2466 - val_accuracy: 0.9149\n",
            "Epoch 52/150\n",
            "285/285 [==============================] - 0s 165us/step - loss: 0.1602 - accuracy: 0.9509 - val_loss: 0.2506 - val_accuracy: 0.9007\n",
            "Epoch 53/150\n",
            "285/285 [==============================] - 0s 170us/step - loss: 0.1551 - accuracy: 0.9509 - val_loss: 0.2411 - val_accuracy: 0.9220\n",
            "Epoch 54/150\n",
            "285/285 [==============================] - 0s 159us/step - loss: 0.1638 - accuracy: 0.9509 - val_loss: 0.2448 - val_accuracy: 0.9149\n",
            "Epoch 55/150\n",
            "285/285 [==============================] - 0s 158us/step - loss: 0.1647 - accuracy: 0.9474 - val_loss: 0.2665 - val_accuracy: 0.9078\n",
            "Epoch 56/150\n",
            "285/285 [==============================] - 0s 162us/step - loss: 0.1538 - accuracy: 0.9509 - val_loss: 0.2888 - val_accuracy: 0.9149\n",
            "Epoch 57/150\n",
            "285/285 [==============================] - 0s 158us/step - loss: 0.1613 - accuracy: 0.9474 - val_loss: 0.2688 - val_accuracy: 0.9007\n",
            "Epoch 58/150\n",
            "285/285 [==============================] - 0s 161us/step - loss: 0.1836 - accuracy: 0.9439 - val_loss: 0.2490 - val_accuracy: 0.9149\n",
            "Epoch 59/150\n",
            "285/285 [==============================] - 0s 169us/step - loss: 0.1591 - accuracy: 0.9544 - val_loss: 0.2498 - val_accuracy: 0.9149\n",
            "Epoch 60/150\n",
            "285/285 [==============================] - 0s 163us/step - loss: 0.1672 - accuracy: 0.9439 - val_loss: 0.2547 - val_accuracy: 0.9220\n",
            "Epoch 61/150\n",
            "285/285 [==============================] - 0s 154us/step - loss: 0.1524 - accuracy: 0.9544 - val_loss: 0.2873 - val_accuracy: 0.9078\n",
            "Epoch 62/150\n",
            "285/285 [==============================] - 0s 163us/step - loss: 0.1710 - accuracy: 0.9439 - val_loss: 0.2759 - val_accuracy: 0.9078\n",
            "Epoch 63/150\n",
            "285/285 [==============================] - 0s 185us/step - loss: 0.1579 - accuracy: 0.9544 - val_loss: 0.2532 - val_accuracy: 0.9149\n",
            "Epoch 64/150\n",
            "285/285 [==============================] - 0s 162us/step - loss: 0.1557 - accuracy: 0.9509 - val_loss: 0.2581 - val_accuracy: 0.9149\n",
            "Epoch 65/150\n",
            "285/285 [==============================] - 0s 166us/step - loss: 0.1536 - accuracy: 0.9509 - val_loss: 0.2633 - val_accuracy: 0.9078\n",
            "Epoch 66/150\n",
            "285/285 [==============================] - 0s 158us/step - loss: 0.1533 - accuracy: 0.9509 - val_loss: 0.2600 - val_accuracy: 0.9078\n",
            "Epoch 67/150\n",
            "285/285 [==============================] - 0s 156us/step - loss: 0.1594 - accuracy: 0.9509 - val_loss: 0.2599 - val_accuracy: 0.9078\n",
            "Epoch 68/150\n",
            "285/285 [==============================] - 0s 173us/step - loss: 0.1493 - accuracy: 0.9579 - val_loss: 0.2493 - val_accuracy: 0.9149\n",
            "Epoch 69/150\n",
            "285/285 [==============================] - 0s 170us/step - loss: 0.1713 - accuracy: 0.9544 - val_loss: 0.2592 - val_accuracy: 0.9220\n",
            "Epoch 70/150\n",
            "285/285 [==============================] - 0s 153us/step - loss: 0.1645 - accuracy: 0.9544 - val_loss: 0.2789 - val_accuracy: 0.9007\n",
            "Epoch 71/150\n",
            "285/285 [==============================] - 0s 163us/step - loss: 0.1575 - accuracy: 0.9509 - val_loss: 0.2990 - val_accuracy: 0.9149\n",
            "Epoch 72/150\n",
            "285/285 [==============================] - 0s 164us/step - loss: 0.1603 - accuracy: 0.9474 - val_loss: 0.2540 - val_accuracy: 0.9220\n",
            "Epoch 73/150\n",
            "285/285 [==============================] - 0s 159us/step - loss: 0.1730 - accuracy: 0.9439 - val_loss: 0.2849 - val_accuracy: 0.9007\n",
            "Epoch 74/150\n",
            "285/285 [==============================] - 0s 169us/step - loss: 0.1553 - accuracy: 0.9544 - val_loss: 0.2436 - val_accuracy: 0.9220\n",
            "Epoch 75/150\n",
            "285/285 [==============================] - 0s 169us/step - loss: 0.1566 - accuracy: 0.9509 - val_loss: 0.2630 - val_accuracy: 0.9220\n",
            "Epoch 76/150\n",
            "285/285 [==============================] - 0s 156us/step - loss: 0.1605 - accuracy: 0.9509 - val_loss: 0.2760 - val_accuracy: 0.9078\n",
            "Epoch 77/150\n",
            "285/285 [==============================] - 0s 155us/step - loss: 0.2087 - accuracy: 0.9298 - val_loss: 0.2740 - val_accuracy: 0.9007\n",
            "Epoch 78/150\n",
            "285/285 [==============================] - 0s 159us/step - loss: 0.1845 - accuracy: 0.9368 - val_loss: 0.2520 - val_accuracy: 0.9220\n",
            "Epoch 79/150\n",
            "285/285 [==============================] - 0s 159us/step - loss: 0.1609 - accuracy: 0.9474 - val_loss: 0.2732 - val_accuracy: 0.9007\n",
            "Epoch 80/150\n",
            "285/285 [==============================] - 0s 162us/step - loss: 0.1600 - accuracy: 0.9509 - val_loss: 0.2701 - val_accuracy: 0.9007\n",
            "Epoch 81/150\n",
            "285/285 [==============================] - 0s 163us/step - loss: 0.1589 - accuracy: 0.9509 - val_loss: 0.2724 - val_accuracy: 0.9078\n",
            "Epoch 82/150\n",
            "285/285 [==============================] - 0s 173us/step - loss: 0.1669 - accuracy: 0.9474 - val_loss: 0.2466 - val_accuracy: 0.9149\n",
            "Epoch 83/150\n",
            "285/285 [==============================] - 0s 162us/step - loss: 0.1581 - accuracy: 0.9474 - val_loss: 0.2580 - val_accuracy: 0.9078\n",
            "Epoch 84/150\n",
            "285/285 [==============================] - 0s 177us/step - loss: 0.1510 - accuracy: 0.9474 - val_loss: 0.2606 - val_accuracy: 0.9220\n",
            "Epoch 85/150\n",
            "285/285 [==============================] - 0s 168us/step - loss: 0.1430 - accuracy: 0.9579 - val_loss: 0.2586 - val_accuracy: 0.9149\n",
            "Epoch 86/150\n",
            "285/285 [==============================] - 0s 159us/step - loss: 0.1485 - accuracy: 0.9509 - val_loss: 0.2814 - val_accuracy: 0.9007\n",
            "Epoch 87/150\n",
            "285/285 [==============================] - 0s 182us/step - loss: 0.1649 - accuracy: 0.9544 - val_loss: 0.2803 - val_accuracy: 0.9149\n",
            "Epoch 88/150\n",
            "285/285 [==============================] - 0s 165us/step - loss: 0.1718 - accuracy: 0.9509 - val_loss: 0.2810 - val_accuracy: 0.9007\n",
            "Epoch 89/150\n",
            "285/285 [==============================] - 0s 161us/step - loss: 0.1966 - accuracy: 0.9333 - val_loss: 0.4715 - val_accuracy: 0.8794\n",
            "Epoch 90/150\n",
            "285/285 [==============================] - 0s 200us/step - loss: 0.2399 - accuracy: 0.9228 - val_loss: 0.2632 - val_accuracy: 0.9220\n",
            "Epoch 91/150\n",
            "285/285 [==============================] - 0s 173us/step - loss: 0.1459 - accuracy: 0.9544 - val_loss: 0.2679 - val_accuracy: 0.9078\n",
            "Epoch 92/150\n",
            "285/285 [==============================] - 0s 164us/step - loss: 0.1415 - accuracy: 0.9544 - val_loss: 0.2471 - val_accuracy: 0.9291\n",
            "Epoch 93/150\n",
            "285/285 [==============================] - 0s 163us/step - loss: 0.1461 - accuracy: 0.9544 - val_loss: 0.2682 - val_accuracy: 0.9078\n",
            "Epoch 94/150\n",
            "285/285 [==============================] - 0s 165us/step - loss: 0.1393 - accuracy: 0.9579 - val_loss: 0.2707 - val_accuracy: 0.9078\n",
            "Epoch 95/150\n",
            "285/285 [==============================] - 0s 163us/step - loss: 0.1356 - accuracy: 0.9579 - val_loss: 0.2745 - val_accuracy: 0.9078\n",
            "Epoch 96/150\n",
            "285/285 [==============================] - 0s 159us/step - loss: 0.1651 - accuracy: 0.9404 - val_loss: 0.2269 - val_accuracy: 0.9291\n",
            "Epoch 97/150\n",
            "285/285 [==============================] - 0s 158us/step - loss: 0.1532 - accuracy: 0.9404 - val_loss: 0.2797 - val_accuracy: 0.9007\n",
            "Epoch 98/150\n",
            "285/285 [==============================] - 0s 156us/step - loss: 0.1335 - accuracy: 0.9544 - val_loss: 0.2559 - val_accuracy: 0.9149\n",
            "Epoch 99/150\n",
            "285/285 [==============================] - 0s 161us/step - loss: 0.1368 - accuracy: 0.9509 - val_loss: 0.2783 - val_accuracy: 0.8936\n",
            "Epoch 100/150\n",
            "285/285 [==============================] - 0s 170us/step - loss: 0.1314 - accuracy: 0.9544 - val_loss: 0.2857 - val_accuracy: 0.9220\n",
            "Epoch 101/150\n",
            "285/285 [==============================] - 0s 179us/step - loss: 0.1504 - accuracy: 0.9544 - val_loss: 0.2960 - val_accuracy: 0.9007\n",
            "Epoch 102/150\n",
            "285/285 [==============================] - 0s 152us/step - loss: 0.1690 - accuracy: 0.9474 - val_loss: 0.2682 - val_accuracy: 0.9220\n",
            "Epoch 103/150\n",
            "285/285 [==============================] - 0s 165us/step - loss: 0.1430 - accuracy: 0.9439 - val_loss: 0.2658 - val_accuracy: 0.9220\n",
            "Epoch 104/150\n",
            "285/285 [==============================] - 0s 166us/step - loss: 0.1507 - accuracy: 0.9474 - val_loss: 0.2436 - val_accuracy: 0.9149\n",
            "Epoch 105/150\n",
            "285/285 [==============================] - 0s 156us/step - loss: 0.1252 - accuracy: 0.9579 - val_loss: 0.2834 - val_accuracy: 0.9220\n",
            "Epoch 106/150\n",
            "285/285 [==============================] - 0s 157us/step - loss: 0.1494 - accuracy: 0.9439 - val_loss: 0.2672 - val_accuracy: 0.9149\n",
            "Epoch 107/150\n",
            "285/285 [==============================] - 0s 166us/step - loss: 0.1252 - accuracy: 0.9579 - val_loss: 0.2829 - val_accuracy: 0.9007\n",
            "Epoch 108/150\n",
            "285/285 [==============================] - 0s 157us/step - loss: 0.1705 - accuracy: 0.9404 - val_loss: 0.2723 - val_accuracy: 0.9149\n",
            "Epoch 109/150\n",
            "285/285 [==============================] - 0s 175us/step - loss: 0.1333 - accuracy: 0.9544 - val_loss: 0.2692 - val_accuracy: 0.9007\n",
            "Epoch 110/150\n",
            "285/285 [==============================] - 0s 161us/step - loss: 0.1319 - accuracy: 0.9544 - val_loss: 0.2497 - val_accuracy: 0.9291\n",
            "Epoch 111/150\n",
            "285/285 [==============================] - 0s 172us/step - loss: 0.1240 - accuracy: 0.9544 - val_loss: 0.2968 - val_accuracy: 0.9007\n",
            "Epoch 112/150\n",
            "285/285 [==============================] - 0s 169us/step - loss: 0.1587 - accuracy: 0.9474 - val_loss: 0.2459 - val_accuracy: 0.9220\n",
            "Epoch 113/150\n",
            "285/285 [==============================] - 0s 155us/step - loss: 0.1503 - accuracy: 0.9509 - val_loss: 0.2914 - val_accuracy: 0.9007\n",
            "Epoch 114/150\n",
            "285/285 [==============================] - 0s 162us/step - loss: 0.1288 - accuracy: 0.9579 - val_loss: 0.2587 - val_accuracy: 0.9149\n",
            "Epoch 115/150\n",
            "285/285 [==============================] - 0s 155us/step - loss: 0.1289 - accuracy: 0.9579 - val_loss: 0.2832 - val_accuracy: 0.9007\n",
            "Epoch 116/150\n",
            "285/285 [==============================] - 0s 169us/step - loss: 0.1308 - accuracy: 0.9544 - val_loss: 0.2629 - val_accuracy: 0.9220\n",
            "Epoch 117/150\n",
            "285/285 [==============================] - 0s 164us/step - loss: 0.1422 - accuracy: 0.9509 - val_loss: 0.2435 - val_accuracy: 0.9291\n",
            "Epoch 118/150\n",
            "285/285 [==============================] - 0s 161us/step - loss: 0.1242 - accuracy: 0.9614 - val_loss: 0.2759 - val_accuracy: 0.9007\n",
            "Epoch 119/150\n",
            "285/285 [==============================] - 0s 159us/step - loss: 0.1569 - accuracy: 0.9474 - val_loss: 0.2824 - val_accuracy: 0.9078\n",
            "Epoch 120/150\n",
            "285/285 [==============================] - 0s 160us/step - loss: 0.1425 - accuracy: 0.9579 - val_loss: 0.3005 - val_accuracy: 0.9007\n",
            "Epoch 121/150\n",
            "285/285 [==============================] - 0s 156us/step - loss: 0.1643 - accuracy: 0.9474 - val_loss: 0.2902 - val_accuracy: 0.9078\n",
            "Epoch 122/150\n",
            "285/285 [==============================] - 0s 159us/step - loss: 0.1564 - accuracy: 0.9544 - val_loss: 0.2872 - val_accuracy: 0.9149\n",
            "Epoch 123/150\n",
            "285/285 [==============================] - 0s 175us/step - loss: 0.1398 - accuracy: 0.9509 - val_loss: 0.2742 - val_accuracy: 0.9220\n",
            "Epoch 124/150\n",
            "285/285 [==============================] - 0s 212us/step - loss: 0.1376 - accuracy: 0.9509 - val_loss: 0.3593 - val_accuracy: 0.9078\n",
            "Epoch 125/150\n",
            "285/285 [==============================] - 0s 156us/step - loss: 0.1908 - accuracy: 0.9368 - val_loss: 0.2785 - val_accuracy: 0.9078\n",
            "Epoch 126/150\n",
            "285/285 [==============================] - 0s 159us/step - loss: 0.1332 - accuracy: 0.9544 - val_loss: 0.2620 - val_accuracy: 0.9220\n",
            "Epoch 127/150\n",
            "285/285 [==============================] - 0s 155us/step - loss: 0.1243 - accuracy: 0.9544 - val_loss: 0.2592 - val_accuracy: 0.9220\n",
            "Epoch 128/150\n",
            "285/285 [==============================] - 0s 154us/step - loss: 0.1250 - accuracy: 0.9614 - val_loss: 0.2736 - val_accuracy: 0.9149\n",
            "Epoch 129/150\n",
            "285/285 [==============================] - 0s 164us/step - loss: 0.1344 - accuracy: 0.9579 - val_loss: 0.2733 - val_accuracy: 0.9149\n",
            "Epoch 130/150\n",
            "285/285 [==============================] - 0s 155us/step - loss: 0.1423 - accuracy: 0.9509 - val_loss: 0.2825 - val_accuracy: 0.9078\n",
            "Epoch 131/150\n",
            "285/285 [==============================] - 0s 163us/step - loss: 0.1646 - accuracy: 0.9439 - val_loss: 0.2884 - val_accuracy: 0.9078\n",
            "Epoch 132/150\n",
            "285/285 [==============================] - 0s 155us/step - loss: 0.1417 - accuracy: 0.9509 - val_loss: 0.3003 - val_accuracy: 0.9007\n",
            "Epoch 133/150\n",
            "285/285 [==============================] - 0s 167us/step - loss: 0.1481 - accuracy: 0.9474 - val_loss: 0.2648 - val_accuracy: 0.9220\n",
            "Epoch 134/150\n",
            "285/285 [==============================] - 0s 160us/step - loss: 0.1216 - accuracy: 0.9614 - val_loss: 0.2753 - val_accuracy: 0.9078\n",
            "Epoch 135/150\n",
            "285/285 [==============================] - 0s 170us/step - loss: 0.1396 - accuracy: 0.9439 - val_loss: 0.2872 - val_accuracy: 0.9220\n",
            "Epoch 136/150\n",
            "285/285 [==============================] - 0s 160us/step - loss: 0.1278 - accuracy: 0.9579 - val_loss: 0.2732 - val_accuracy: 0.9220\n",
            "Epoch 137/150\n",
            "285/285 [==============================] - 0s 156us/step - loss: 0.1186 - accuracy: 0.9579 - val_loss: 0.2969 - val_accuracy: 0.9007\n",
            "Epoch 138/150\n",
            "285/285 [==============================] - 0s 173us/step - loss: 0.1540 - accuracy: 0.9509 - val_loss: 0.2714 - val_accuracy: 0.9220\n",
            "Epoch 139/150\n",
            "285/285 [==============================] - 0s 180us/step - loss: 0.1407 - accuracy: 0.9509 - val_loss: 0.3039 - val_accuracy: 0.9007\n",
            "Epoch 140/150\n",
            "285/285 [==============================] - 0s 165us/step - loss: 0.1330 - accuracy: 0.9579 - val_loss: 0.2941 - val_accuracy: 0.9149\n",
            "Epoch 141/150\n",
            "285/285 [==============================] - 0s 166us/step - loss: 0.1335 - accuracy: 0.9579 - val_loss: 0.2987 - val_accuracy: 0.9007\n",
            "Epoch 142/150\n",
            "285/285 [==============================] - 0s 157us/step - loss: 0.1315 - accuracy: 0.9509 - val_loss: 0.2473 - val_accuracy: 0.9220\n",
            "Epoch 143/150\n",
            "285/285 [==============================] - 0s 165us/step - loss: 0.1563 - accuracy: 0.9404 - val_loss: 0.3004 - val_accuracy: 0.9007\n",
            "Epoch 144/150\n",
            "285/285 [==============================] - 0s 221us/step - loss: 0.1333 - accuracy: 0.9509 - val_loss: 0.2410 - val_accuracy: 0.9291\n",
            "Epoch 145/150\n",
            "285/285 [==============================] - 0s 171us/step - loss: 0.1422 - accuracy: 0.9544 - val_loss: 0.2830 - val_accuracy: 0.8936\n",
            "Epoch 146/150\n",
            "285/285 [==============================] - 0s 157us/step - loss: 0.1349 - accuracy: 0.9544 - val_loss: 0.2792 - val_accuracy: 0.9078\n",
            "Epoch 147/150\n",
            "285/285 [==============================] - 0s 159us/step - loss: 0.1246 - accuracy: 0.9544 - val_loss: 0.2903 - val_accuracy: 0.9220\n",
            "Epoch 148/150\n",
            "285/285 [==============================] - 0s 159us/step - loss: 0.1259 - accuracy: 0.9614 - val_loss: 0.2737 - val_accuracy: 0.9149\n",
            "Epoch 149/150\n",
            "285/285 [==============================] - 0s 157us/step - loss: 0.1295 - accuracy: 0.9579 - val_loss: 0.2952 - val_accuracy: 0.9078\n",
            "Epoch 150/150\n",
            "285/285 [==============================] - 0s 163us/step - loss: 0.1244 - accuracy: 0.9579 - val_loss: 0.2618 - val_accuracy: 0.9291\n"
          ],
          "name": "stdout"
        },
        {
          "output_type": "execute_result",
          "data": {
            "text/plain": [
              "<keras.callbacks.callbacks.History at 0x7fe11ba98ed0>"
            ]
          },
          "metadata": {
            "tags": []
          },
          "execution_count": 14
        }
      ]
    },
    {
      "cell_type": "code",
      "metadata": {
        "id": "gVq_dpVG_je1",
        "outputId": "0d61cb92-ca1b-46a5-bb1e-d0eebfe133ee",
        "colab": {
          "base_uri": "https://localhost:8080/",
          "height": 34
        }
      },
      "source": [
        "# evaluate \n",
        "scores = model.evaluate(X_test, y_test, verbose=0)\n",
        "print \"% accuracy {:.0f}\".format(scores[1]*100)"
      ],
      "execution_count": null,
      "outputs": [
        {
          "output_type": "stream",
          "text": [
            "% accuracy 92\n"
          ],
          "name": "stdout"
        }
      ]
    },
    {
      "cell_type": "markdown",
      "metadata": {
        "id": "nS-TzzdELNPR"
      },
      "source": [
        "On obtient des performances assez élevées.\n",
        "Le % de bonnes prédictions sur les données non vues est d'environ 94%\n",
        "\n",
        "C'est largement assez satisfaisant pour un 1er essai.\n",
        "\n",
        "On décide de sauvegarder ce modèle sur disque pour l'améliorer plus tard ;-)"
      ]
    },
    {
      "cell_type": "markdown",
      "metadata": {
        "id": "f2vq-4WlE2n_"
      },
      "source": [
        "##  Google drive en local"
      ]
    },
    {
      "cell_type": "markdown",
      "metadata": {
        "id": "eZWegtvZLx_V"
      },
      "source": [
        "On \"monte\" un disque virtuel ('*gdrive*') sur l'espace de travail ('*content*') alloué par Colab\n",
        "Ce disque virtuel est situé dans le cloud "
      ]
    },
    {
      "cell_type": "markdown",
      "metadata": {
        "id": "nLnece3wMgv-"
      },
      "source": [
        "!ls : nous donne la liste des fichiers et des repertoires existants sur notre espace de travail alloué par **Colab**"
      ]
    },
    {
      "cell_type": "code",
      "metadata": {
        "id": "7VEDFdhwMdeL",
        "colab": {
          "base_uri": "https://localhost:8080/",
          "height": 34
        },
        "outputId": "a64b0e95-85d4-457b-e0bc-2a8bbe556d27"
      },
      "source": [
        "!ls"
      ],
      "execution_count": null,
      "outputs": [
        {
          "output_type": "stream",
          "text": [
            "sample_data\n"
          ],
          "name": "stdout"
        }
      ]
    },
    {
      "cell_type": "code",
      "metadata": {
        "id": "xVMdo1DR-QNe",
        "outputId": "1f5ea210-3e57-434f-df06-b72a10262495",
        "colab": {
          "base_uri": "https://localhost:8080/",
          "height": 122
        }
      },
      "source": [
        "from google.colab import drive\n",
        "drive.mount('/content/gdrive', force_remount=True)"
      ],
      "execution_count": null,
      "outputs": [
        {
          "output_type": "stream",
          "text": [
            "Go to this URL in a browser: https://accounts.google.com/o/oauth2/auth?client_id=947318989803-6bn6qk8qdgf4n4g3pfee6491hc0brc4i.apps.googleusercontent.com&redirect_uri=urn%3aietf%3awg%3aoauth%3a2.0%3aoob&response_type=code&scope=email%20https%3a%2f%2fwww.googleapis.com%2fauth%2fdocs.test%20https%3a%2f%2fwww.googleapis.com%2fauth%2fdrive%20https%3a%2f%2fwww.googleapis.com%2fauth%2fdrive.photos.readonly%20https%3a%2f%2fwww.googleapis.com%2fauth%2fpeopleapi.readonly\n",
            "\n",
            "Enter your authorization code:\n",
            "··········\n",
            "Mounted at /content/gdrive\n"
          ],
          "name": "stdout"
        }
      ]
    },
    {
      "cell_type": "code",
      "metadata": {
        "id": "mYsGcUa2_8qb",
        "outputId": "c9a8fe1d-7a8a-4695-c082-20d291a4b63f",
        "colab": {
          "base_uri": "https://localhost:8080/",
          "height": 34
        }
      },
      "source": [
        "!ls"
      ],
      "execution_count": null,
      "outputs": [
        {
          "output_type": "stream",
          "text": [
            "gdrive\tsample_data\n"
          ],
          "name": "stdout"
        }
      ]
    },
    {
      "cell_type": "markdown",
      "metadata": {
        "id": "gBSv766j__7b"
      },
      "source": [
        "Si l'opération a réussie.\n",
        "Vous devez voir un nouveau répertoire nommé **gdrive**"
      ]
    },
    {
      "cell_type": "code",
      "metadata": {
        "id": "aSNKQ3YwAV4b",
        "outputId": "bf8d5573-7c6a-4d50-e1f4-09f9936cbba4",
        "colab": {
          "base_uri": "https://localhost:8080/",
          "height": 34
        }
      },
      "source": [
        "!ls"
      ],
      "execution_count": null,
      "outputs": [
        {
          "output_type": "stream",
          "text": [
            "gdrive\tsample_data\n"
          ],
          "name": "stdout"
        }
      ]
    },
    {
      "cell_type": "markdown",
      "metadata": {
        "id": "j7lbRlVGD7bN"
      },
      "source": [
        "## Sauvegarde de la structure de l'algorithme"
      ]
    },
    {
      "cell_type": "markdown",
      "metadata": {
        "id": "yae1nQkiDZrQ"
      },
      "source": [
        "on sauve la **structure** de l'algorithme dans un fichier au format approprié (json)"
      ]
    },
    {
      "cell_type": "code",
      "metadata": {
        "id": "bokjEDCe2pzV",
        "outputId": "621dadc7-7d52-4075-8f15-e8479e60a70c",
        "colab": {
          "base_uri": "https://localhost:8080/",
          "height": 34
        }
      },
      "source": [
        "#====================#====================#====================\n",
        "# ===================== SAVE  ===================================\n",
        "#====================#====================#====================\n",
        "\n",
        "#  model to JSON\n",
        "print(\"saving model....\")\n",
        "model_json = model.to_json()\n",
        "\n",
        "with open('/content/gdrive/My Drive/model.json', 'w') as json_f:\n",
        "    json_f.write(model_json)"
      ],
      "execution_count": null,
      "outputs": [
        {
          "output_type": "stream",
          "text": [
            "saving model....\n"
          ],
          "name": "stdout"
        }
      ]
    },
    {
      "cell_type": "markdown",
      "metadata": {
        "id": "7a8C-oe1EDo4"
      },
      "source": [
        "## Sauvegarde des paramètres dans un fichier"
      ]
    },
    {
      "cell_type": "markdown",
      "metadata": {
        "id": "g8jKfH7WEIua"
      },
      "source": [
        "à présent on sauve les **poids** dans un fichier au format h5 (format binaire compressé)"
      ]
    },
    {
      "cell_type": "markdown",
      "metadata": {
        "id": "KS7wSDr6GWp2"
      },
      "source": []
    },
    {
      "cell_type": "code",
      "metadata": {
        "id": "-nTIUXKDDRUd",
        "outputId": "a4d06b15-c61e-4fa1-e622-2d3d771556bd",
        "colab": {
          "base_uri": "https://localhost:8080/",
          "height": 34
        }
      },
      "source": [
        "#====================#====================#====================\n",
        "# ===================== SAVE  ===================================\n",
        "#====================#====================#====================# weights to HDF5\n",
        "print(\"saving weights .....\")\n",
        "model.save_weights(\"/content/gdrive/My Drive/model.h5\")"
      ],
      "execution_count": null,
      "outputs": [
        {
          "output_type": "stream",
          "text": [
            "saving weights .....\n"
          ],
          "name": "stdout"
        }
      ]
    },
    {
      "cell_type": "code",
      "metadata": {
        "id": "8Rk5RxtD73hO",
        "outputId": "7445041a-3d6c-44b3-e6f7-c0e020413b85",
        "colab": {
          "base_uri": "https://localhost:8080/",
          "height": 54
        }
      },
      "source": [
        "print model_json"
      ],
      "execution_count": null,
      "outputs": [
        {
          "output_type": "stream",
          "text": [
            "{\"class_name\": \"Sequential\", \"keras_version\": \"2.3.1\", \"config\": {\"layers\": [{\"class_name\": \"Dense\", \"config\": {\"kernel_initializer\": {\"class_name\": \"VarianceScaling\", \"config\": {\"distribution\": \"uniform\", \"scale\": 1.0, \"seed\": null, \"mode\": \"fan_avg\"}}, \"name\": \"dense_1\", \"kernel_constraint\": null, \"bias_regularizer\": null, \"bias_constraint\": null, \"dtype\": \"float32\", \"activation\": \"sigmoid\", \"trainable\": true, \"kernel_regularizer\": null, \"bias_initializer\": {\"class_name\": \"Zeros\", \"config\": {}}, \"units\": 30, \"batch_input_shape\": [null, 30], \"use_bias\": true, \"activity_regularizer\": null}}, {\"class_name\": \"Dense\", \"config\": {\"kernel_initializer\": {\"class_name\": \"VarianceScaling\", \"config\": {\"distribution\": \"uniform\", \"scale\": 1.0, \"seed\": null, \"mode\": \"fan_avg\"}}, \"name\": \"dense_2\", \"kernel_constraint\": null, \"bias_regularizer\": null, \"bias_constraint\": null, \"dtype\": \"float32\", \"activation\": \"relu\", \"trainable\": true, \"kernel_regularizer\": null, \"bias_initializer\": {\"class_name\": \"Zeros\", \"config\": {}}, \"units\": 30, \"use_bias\": true, \"activity_regularizer\": null}}, {\"class_name\": \"Dense\", \"config\": {\"kernel_initializer\": {\"class_name\": \"VarianceScaling\", \"config\": {\"distribution\": \"uniform\", \"scale\": 1.0, \"seed\": null, \"mode\": \"fan_avg\"}}, \"name\": \"dense_3\", \"kernel_constraint\": null, \"bias_regularizer\": null, \"bias_constraint\": null, \"dtype\": \"float32\", \"activation\": \"sigmoid\", \"trainable\": true, \"kernel_regularizer\": null, \"bias_initializer\": {\"class_name\": \"Zeros\", \"config\": {}}, \"units\": 1, \"use_bias\": true, \"activity_regularizer\": null}}], \"name\": \"sequential_1\"}, \"backend\": \"tensorflow\"}\n"
          ],
          "name": "stdout"
        }
      ]
    },
    {
      "cell_type": "markdown",
      "metadata": {
        "id": "NWi7JtuDF5l4"
      },
      "source": [
        "## Lecture du fichier des paramètres "
      ]
    },
    {
      "cell_type": "code",
      "metadata": {
        "id": "DNhpuR332p22",
        "outputId": "324fe80a-9fcc-4a38-b8df-8cc9c74978cf",
        "colab": {
          "base_uri": "https://localhost:8080/",
          "height": 51
        }
      },
      "source": [
        "#====================#====================\n",
        "#==================== LOAD ================\n",
        "#====================#====================\n",
        "# re-create model\n",
        "json_f = open( '/content/gdrive/My Drive/model.json' , 'r' )\n",
        "model_json = json_f.read()\n",
        "json_f.close()\n",
        "\n",
        "print(\"MODEL from JSON: \")\n",
        "print(json_f)"
      ],
      "execution_count": null,
      "outputs": [
        {
          "output_type": "stream",
          "text": [
            "MODEL from JSON: \n",
            "<closed file '/content/gdrive/My Drive/model.json', mode 'r' at 0x7fe11b89fe40>\n"
          ],
          "name": "stdout"
        }
      ]
    },
    {
      "cell_type": "code",
      "metadata": {
        "id": "m5noLq_4C0ra"
      },
      "source": [
        "load_model = model_from_json(model_json)\n",
        "# feed loaded model with weights\n",
        "load_model.load_weights('/content/gdrive/My Drive/model.h5')\n"
      ],
      "execution_count": null,
      "outputs": []
    },
    {
      "cell_type": "markdown",
      "metadata": {
        "id": "jlH0DS2RN25w"
      },
      "source": [
        "## Reconstitution du modèle\n",
        "Nous avons à présent tous les éléments pour reconstruire le modèle préalablement entrainé"
      ]
    },
    {
      "cell_type": "code",
      "metadata": {
        "id": "JdXivXNcC5XN"
      },
      "source": [
        "# compile\n",
        "load_model.compile(loss= 'binary_crossentropy' , optimizer = 'adam' , metrics=[ 'accuracy' ])"
      ],
      "execution_count": null,
      "outputs": []
    },
    {
      "cell_type": "code",
      "metadata": {
        "id": "F5fBPmx9FfXj",
        "outputId": "80f0b92d-bb69-440e-c64b-c6630bc3b9f6",
        "colab": {
          "base_uri": "https://localhost:8080/",
          "height": 255
        }
      },
      "source": [
        "load_model.summary()"
      ],
      "execution_count": null,
      "outputs": [
        {
          "output_type": "stream",
          "text": [
            "Model: \"sequential_1\"\n",
            "_________________________________________________________________\n",
            "Layer (type)                 Output Shape              Param #   \n",
            "=================================================================\n",
            "dense_1 (Dense)              (None, 30)                930       \n",
            "_________________________________________________________________\n",
            "dense_2 (Dense)              (None, 30)                930       \n",
            "_________________________________________________________________\n",
            "dense_3 (Dense)              (None, 1)                 31        \n",
            "=================================================================\n",
            "Total params: 1,891\n",
            "Trainable params: 1,891\n",
            "Non-trainable params: 0\n",
            "_________________________________________________________________\n"
          ],
          "name": "stdout"
        }
      ]
    },
    {
      "cell_type": "code",
      "metadata": {
        "id": "Q0r0uRHQC8yI",
        "outputId": "7875fa9a-8d7b-42b8-8461-302afe1fcd2f",
        "colab": {
          "base_uri": "https://localhost:8080/",
          "height": 34
        }
      },
      "source": [
        "# evaluate \n",
        "scores = model.evaluate(X_test, y_test, verbose=0)\n",
        "print \"% accuracy {:.0f}\".format(scores[1]*100)"
      ],
      "execution_count": null,
      "outputs": [
        {
          "output_type": "stream",
          "text": [
            "% accuracy 92\n"
          ],
          "name": "stdout"
        }
      ]
    },
    {
      "cell_type": "markdown",
      "metadata": {
        "id": "GecynePob5iX"
      },
      "source": [
        "## Conclusion\n",
        "La performance est identique.\n",
        "Le modèle chargé depuis le disque est tout à fait identique au modèle initial\n",
        "\n",
        "## Résumé\n",
        "Nous savons maintenant \n",
        "* comment monter un disque virtuel dans notre environnement cloud\n",
        "* comment sauvegarder un modèle qui nous donne satisfaction\n",
        "* comment sauvegarder la structure du modèle (json)\n",
        "* comment sauvegarder les paramètres (h5)\n",
        "* comment recharger un modèle stocké sur disque\n"
      ]
    }
  ]
}