{
 "cells": [
  {
   "cell_type": "markdown",
   "id": "25bf8e09",
   "metadata": {},
   "source": [
    "# <center> Neural Networks resources </center>\n",
    "\n",
    "\n",
    "## General information\n",
    "\n",
    "- [The mostly complete chart of Neural Networks, explained](https://towardsdatascience.com/the-mostly-complete-chart-of-neural-networks-explained-3fb6f2367464)\n",
    "\n",
    "\n",
    "## CNN \n",
    "\n",
    "- [A Beginner's Guide To Understanding Convolutional Neural Networks](https://adeshpande3.github.io/A-Beginner's-Guide-To-Understanding-Convolutional-Neural-Networks/)\n",
    "- [A Beginner's Guide To Understanding Convolutional Neural Networks Part 2](https://adeshpande3.github.io/A-Beginner's-Guide-To-Understanding-Convolutional-Neural-Networks-Part-2/)\n",
    "- [The 9 Deep Learning Papers You Need To Know About (Understanding CNNs Part 3)](https://adeshpande3.github.io/The-9-Deep-Learning-Papers-You-Need-To-Know-About.html)\n",
    "- [Convolutional Neural Networks (CNN) — Architecture Explained](https://medium.com/@draj0718/convolutional-neural-networks-cnn-architectures-explained-716fb197b243)\n",
    "\n",
    "## Gradient descent \n",
    "\n",
    "- [How to implement a neural network (1/5) - gradient descent](https://peterroelants.github.io/posts/neural-network-implementation-part01/)\n",
    "\n",
    "## Functions : \n",
    "\n",
    "### Cross-Entropy\n",
    "\n",
    "- [A Friendly Introduction to Cross-Entropy Loss](https://rdipietro.github.io/friendly-intro-to-cross-entropy-loss/)\n",
    "\n",
    "### Softmax \n",
    "\n",
    "- [Softmax classification with cross-entropy (2/2)](https://peterroelants.github.io/posts/cross-entropy-softmax/#Softmax-function)\n",
    "\n",
    "\n",
    "## Deep Learning\n",
    "\n",
    "- [Yann LeCun's Publications](http://yann.lecun.com/exdb/publis/index.html)\n",
    "- [Yann LeCun's course at the College de France](https://www.college-de-france.fr/agenda/cours/apprentissage-profond)\n",
    "- [Tutorial: Deep Learning in PyTorch](https://iamtrask.github.io/2017/01/15/pytorch-tutorial/)\n",
    "\n",
    "\n",
    "## Python\n",
    "\n",
    "- [A Neural Network in 11 lines of Python (Part 1)](https://iamtrask.github.io/2015/07/12/basic-python-network/)\n",
    "- [A Neural Network in 13 lines of Python (Part 2 - Gradient Descent)](https://iamtrask.github.io/2015/07/27/python-network-part2/)\n",
    "- [Creating a Single Neuron Model(Perceptron) from Scratch in Python](https://itnext.io/creating-a-single-neuron-model-perceptron-5731aaf36a54)"
   ]
  }
 ],
 "metadata": {
  "kernelspec": {
   "display_name": "Python 3 (ipykernel)",
   "language": "python",
   "name": "python3"
  },
  "language_info": {
   "codemirror_mode": {
    "name": "ipython",
    "version": 3
   },
   "file_extension": ".py",
   "mimetype": "text/x-python",
   "name": "python",
   "nbconvert_exporter": "python",
   "pygments_lexer": "ipython3",
   "version": "3.8.3"
  }
 },
 "nbformat": 4,
 "nbformat_minor": 5
}
