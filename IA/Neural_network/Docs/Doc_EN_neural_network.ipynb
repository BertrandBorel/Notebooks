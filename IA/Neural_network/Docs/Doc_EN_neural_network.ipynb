{
 "cells": [
  {
   "cell_type": "markdown",
   "id": "60e580dc",
   "metadata": {},
   "source": [
    "<center><h1> Neural Networks</h1></center>\n",
    "\n"
   ]
  },
  {
   "cell_type": "markdown",
   "id": "8514fd19",
   "metadata": {},
   "source": [
    "<h2> General </h2>\n",
    "\n",
    "- [Types of Neural Networks and Definition of Neural Network](https://www.mygreatlearning.com/blog/types-of-neural-networks/#feedforwardnn)\n",
    "- [7 Types of Neural Networks in Artificial Intelligence Explained](https://www.upgrad.com/blog/types-of-neural-networks/)\n",
    "- [Convolutional Neural Networks (CNN) — Architecture Explained](https://medium.com/@draj0718/convolutional-neural-networks-cnn-architectures-explained-716fb197b243)\n",
    "- [Neural Network Models Explained](https://www.seldon.io/neural-network-models-explained)\n",
    "- [The mostly complete chart of Neural Networks, explained](https://towardsdatascience.com/the-mostly-complete-chart-of-neural-networks-explained-3fb6f2367464)\n",
    "<h2> Tuto </h2>\n",
    "\n",
    "- [Creating a Single Neuron Model(Perceptron) from Scratch in Python](https://itnext.io/creating-a-single-neuron-model-perceptron-5731aaf36a54)\n",
    "\n"
   ]
  },
  {
   "cell_type": "code",
   "execution_count": null,
   "id": "8b0d76b8",
   "metadata": {},
   "outputs": [],
   "source": []
  }
 ],
 "metadata": {
  "kernelspec": {
   "display_name": "Python 3 (ipykernel)",
   "language": "python",
   "name": "python3"
  },
  "language_info": {
   "codemirror_mode": {
    "name": "ipython",
    "version": 3
   },
   "file_extension": ".py",
   "mimetype": "text/x-python",
   "name": "python",
   "nbconvert_exporter": "python",
   "pygments_lexer": "ipython3",
   "version": "3.8.3"
  }
 },
 "nbformat": 4,
 "nbformat_minor": 5
}
