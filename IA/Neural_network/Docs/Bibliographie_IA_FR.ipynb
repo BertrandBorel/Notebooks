{
 "cells": [
  {
   "cell_type": "markdown",
   "id": "cefddb5a",
   "metadata": {},
   "source": [
    "# <center> Bibliographie IA (FR) </center>\n",
    "\n",
    "---\n"
   ]
  },
  {
   "cell_type": "markdown",
   "id": "d82b1d58",
   "metadata": {},
   "source": [
    "- BERGER Michel, *Préparer demain : et intégrer l'intelligence artificielle dans notre vie: et intégrer l'intelligence artificielle dans notre vie*, Zortziko, 2021, ISBN:979-1095492313.\n",
    "\n",
    "\n",
    "- BOISSE Serge, *L'Esprit et la Machine: Faut-il avoir peur de l'Intelligence Artificielle ?*, CreateSpace Independent Publishing Platform, 2016, ISBN:978-1530325597.\n",
    "\n",
    "\n",
    "- COLLECTIF, \"L'Intelligence artificielle\", *Pouvoirs*, Seuil, 2019, n°170. \n",
    "\n",
    "\n",
    "- DEJOUX Cécile, *Ce sera l’IA ou/et moi: Comprendre l'intelligence artificielle pour ne plus en avoir peur*, Vuibert, 2020, ISBN:978-2311624427. \n",
    "\n",
    "\n",
    "- DESCAMPS René, *Trois étapes vers l'intelligence artificielle sur PC et compatibles (Intelligence artificielle)*, PSI, 1986, ISBN:978-2865953646.\n",
    "\n",
    "\n",
    "- DUFAY Bruno, *L'Intelligence artificielle: Question de langage*, Rocher, 1989, ISBN:978-2268005461.\n",
    "\n",
    "\n",
    "- DUQUESNE Juliette, RABHI Pierre, *L'humain au risque de l'intelligence artificielle*, Presses du Châtelet, 2021, ISBN:978-2381950341.\n",
    "\n",
    "\n",
    "- ETIENNE Loïc, *Les sorciers du futur : l'intelligence artificielle pourra-t-elle nous guérir ?*, Marabout, 2020, ISBN:978-2501140522.\n",
    "\n",
    "\n",
    "- GROMIER Damien, *L'intelligence artificielle en action: Santé, environnement, énergie... ce que l'IA change concrètement.*, Eyrolles, 2020, ISBN:978-2416000645.\n",
    "\n",
    "\n",
    "- HEUDIN J.-C., *Comprendre le Deep Learning, une introduction aux réseaux de neurones*, Science-eBook, Paris, 2016, ISBN:979-1091245449.\n",
    "\n",
    "\n",
    "- JANSEN Pablo, *Deep earnings: Le néolibéralisme au coeur des réseaux de neurones*, C & F Éditions, Caen, 2021, ISBN:978-2376620235.\n",
    "\n",
    "\n",
    "- JEAN Aurélie, *De l'autre côté de la machine: Voyage d'une scientifique au pays des algorithmes*, L'Observatoire, 2019, ISBN:979-1032905401.\n",
    "\n",
    "\n",
    "- JEAN Aurélie, *Les algorithmes font-ils la loi ?*, L'Observatoire, 2021, ISBN:979-1032915011.\n",
    "\n",
    "\n",
    "- LEE Kaï-Fu, *I.A., La plus grande mutation de l'histoire*, J'ai lu, 2021, ISBN:978-2290231647.\n",
    "\n",
    "\n",
    "- LECUN Y., *Quand la machine apprend: la révolution des neurones artificiels et de l'apprentissage profond*, Odile Jacob, Paris, 2019, ISBN:9782738149312.\n",
    "\n",
    "\n",
    "- MATHIVET Virginie, *Machine Learning - Implémentation en Python avec Scikit-learn*, Eni, 2021, ISBN:978-2409032516. \n",
    "\n",
    "\n",
    "- Rousseau Jacques F. R., *Comprendre comment l'intelligence peut émerger d'un réseau de neurones*, 3ème édition, Jacques Rousseau, Dieppe, 2018, ISBN:9781546490012.\n",
    "\n",
    "\n",
    "- TISSEAU Gérard, *Intelligence artificielle : Problèmes et méthodes (Psychologie)*, PUF, 1996, ISBN:978-2130474296. "
   ]
  }
 ],
 "metadata": {
  "kernelspec": {
   "display_name": "Python 3 (ipykernel)",
   "language": "python",
   "name": "python3"
  },
  "language_info": {
   "codemirror_mode": {
    "name": "ipython",
    "version": 3
   },
   "file_extension": ".py",
   "mimetype": "text/x-python",
   "name": "python",
   "nbconvert_exporter": "python",
   "pygments_lexer": "ipython3",
   "version": "3.8.3"
  }
 },
 "nbformat": 4,
 "nbformat_minor": 5
}
