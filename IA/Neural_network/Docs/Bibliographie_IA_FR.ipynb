{
 "cells": [
  {
   "cell_type": "markdown",
   "id": "c5164761",
   "metadata": {},
   "source": [
    "# <center> Bibliographie IA (FR) </center>\n",
    "\n",
    "---\n"
   ]
  },
  {
   "cell_type": "markdown",
   "id": "0b4d924c",
   "metadata": {},
   "source": [
    "\n",
    "\n",
    "- HEUDIN J.-C., *Comprendre le Deep Learning, une introduction aux réseaux de neurones*, Science-eBook, Paris, 2016, ISBN:979-1091245449.\n",
    "\n",
    "\n",
    "- LECUN Y., *Quand la machine apprend: la révolution des neurones artificiels et de l'apprentissage profond*, Odile Jacob, Paris, 2019, ISBN:9782738149312.\n",
    "\n",
    "\n",
    "- Rousseau Jacques F. R., Comprendre comment l'intelligence peut émerger d'un réseau de neurones, 3ème édition, Jacques Rousseau, Dieppe, 2018, ISBN:9781546490012."
   ]
  }
 ],
 "metadata": {
  "kernelspec": {
   "display_name": "Python 3 (ipykernel)",
   "language": "python",
   "name": "python3"
  },
  "language_info": {
   "codemirror_mode": {
    "name": "ipython",
    "version": 3
   },
   "file_extension": ".py",
   "mimetype": "text/x-python",
   "name": "python",
   "nbconvert_exporter": "python",
   "pygments_lexer": "ipython3",
   "version": "3.8.3"
  }
 },
 "nbformat": 4,
 "nbformat_minor": 5
}
