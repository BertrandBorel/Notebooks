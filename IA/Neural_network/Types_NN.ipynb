{
 "cells": [
  {
   "cell_type": "markdown",
   "id": "3ca56ad0",
   "metadata": {},
   "source": [
    "# <center> Les différents types de réseaux de neurones </center>"
   ]
  },
  {
   "cell_type": "markdown",
   "id": "6107652e",
   "metadata": {},
   "source": [
    "## Réseaux de neurones à propagation avant\n",
    "L'information n'est transmise que dans un sens, vers l'avant. Monocouches ou multicouches.\n",
    "\n",
    "## Réseaux de neurones récurrents\n",
    "Boucles de rétroaction : l'information peut ainsi revenir vers les couches précédentes.\n",
    "\n",
    "## Réseaux de neurones convolutifs\n",
    "Multicouches (minimum : 5). Chacune des couches reconnaît un motif, le résultat est envoyé aux couches suivantes. Très utilisés dans la reconnaissance d'image."
   ]
  },
  {
   "cell_type": "code",
   "execution_count": null,
   "id": "aed1ec69",
   "metadata": {},
   "outputs": [],
   "source": []
  }
 ],
 "metadata": {
  "kernelspec": {
   "display_name": "Python 3 (ipykernel)",
   "language": "python",
   "name": "python3"
  },
  "language_info": {
   "codemirror_mode": {
    "name": "ipython",
    "version": 3
   },
   "file_extension": ".py",
   "mimetype": "text/x-python",
   "name": "python",
   "nbconvert_exporter": "python",
   "pygments_lexer": "ipython3",
   "version": "3.10.0"
  }
 },
 "nbformat": 4,
 "nbformat_minor": 5
}
