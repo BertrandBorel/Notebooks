{
  "nbformat": 4,
  "nbformat_minor": 0,
  "metadata": {
    "colab": {
      "provenance": []
    },
    "kernelspec": {
      "name": "python3",
      "display_name": "Python 3"
    },
    "language_info": {
      "name": "python"
    }
  },
  "cells": [
    {
      "cell_type": "markdown",
      "source": [
        "# <center> Overfitting et underfitting </center>\n",
        "\n",
        "**Source :** https://www.tensorflow.org/tutorials/keras/overfit_and_underfit?hl=fr"
      ],
      "metadata": {
        "id": "ZIDXwBIa-Vdw"
      }
    },
    {
      "cell_type": "markdown",
      "source": [
        "## Importations"
      ],
      "metadata": {
        "id": "qO_difsG_I2G"
      }
    },
    {
      "cell_type": "code",
      "source": [
        "import tensorflow as tf\n",
        "from tensorflow.keras import layers\n",
        "from tensorflow.keras import regularizers\n",
        "print(tf.__version__)\n",
        "\n",
        "!pip install git+https://github.com/tensorflow/docs\n",
        "\n",
        "import tensorflow_docs as tfdocs\n",
        "import tensorflow_docs.modeling\n",
        "import tensorflow_docs.plots\n",
        "from  IPython import display\n",
        "from matplotlib import pyplot as plt\n",
        "import numpy as np\n",
        "import pathlib\n",
        "import shutil\n",
        "import tempfile\n",
        "\n",
        "logdir = pathlib.Path(tempfile.mkdtemp())/\"tensorboard_logs\"\n",
        "shutil.rmtree(logdir, ignore_errors=True)"
      ],
      "metadata": {
        "colab": {
          "base_uri": "https://localhost:8080/"
        },
        "id": "tK0gKov6_KbN",
        "outputId": "a8f620ef-f20f-4da5-cf30-47c516834b4a"
      },
      "execution_count": 1,
      "outputs": [
        {
          "output_type": "stream",
          "name": "stdout",
          "text": [
            "2.11.0\n",
            "Looking in indexes: https://pypi.org/simple, https://us-python.pkg.dev/colab-wheels/public/simple/\n",
            "Collecting git+https://github.com/tensorflow/docs\n",
            "  Cloning https://github.com/tensorflow/docs to /tmp/pip-req-build-0dan5520\n",
            "  Running command git clone --filter=blob:none --quiet https://github.com/tensorflow/docs /tmp/pip-req-build-0dan5520\n",
            "  Resolved https://github.com/tensorflow/docs to commit 0feefb5266db5bce6ee107920b581d1e3443f511\n",
            "  Preparing metadata (setup.py) ... \u001b[?25l\u001b[?25hdone\n",
            "Requirement already satisfied: astor in /usr/local/lib/python3.8/dist-packages (from tensorflow-docs==0.0.0.dev0) (0.8.1)\n",
            "Requirement already satisfied: absl-py in /usr/local/lib/python3.8/dist-packages (from tensorflow-docs==0.0.0.dev0) (1.4.0)\n",
            "Requirement already satisfied: jinja2 in /usr/local/lib/python3.8/dist-packages (from tensorflow-docs==0.0.0.dev0) (3.1.2)\n",
            "Requirement already satisfied: nbformat in /usr/local/lib/python3.8/dist-packages (from tensorflow-docs==0.0.0.dev0) (5.7.3)\n",
            "Requirement already satisfied: protobuf in /usr/local/lib/python3.8/dist-packages (from tensorflow-docs==0.0.0.dev0) (3.19.6)\n",
            "Requirement already satisfied: pyyaml in /usr/local/lib/python3.8/dist-packages (from tensorflow-docs==0.0.0.dev0) (6.0)\n",
            "Requirement already satisfied: MarkupSafe>=2.0 in /usr/local/lib/python3.8/dist-packages (from jinja2->tensorflow-docs==0.0.0.dev0) (2.1.2)\n",
            "Requirement already satisfied: traitlets>=5.1 in /usr/local/lib/python3.8/dist-packages (from nbformat->tensorflow-docs==0.0.0.dev0) (5.7.1)\n",
            "Requirement already satisfied: jsonschema>=2.6 in /usr/local/lib/python3.8/dist-packages (from nbformat->tensorflow-docs==0.0.0.dev0) (4.3.3)\n",
            "Requirement already satisfied: jupyter-core in /usr/local/lib/python3.8/dist-packages (from nbformat->tensorflow-docs==0.0.0.dev0) (5.2.0)\n",
            "Requirement already satisfied: fastjsonschema in /usr/local/lib/python3.8/dist-packages (from nbformat->tensorflow-docs==0.0.0.dev0) (2.16.3)\n",
            "Requirement already satisfied: pyrsistent!=0.17.0,!=0.17.1,!=0.17.2,>=0.14.0 in /usr/local/lib/python3.8/dist-packages (from jsonschema>=2.6->nbformat->tensorflow-docs==0.0.0.dev0) (0.19.3)\n",
            "Requirement already satisfied: attrs>=17.4.0 in /usr/local/lib/python3.8/dist-packages (from jsonschema>=2.6->nbformat->tensorflow-docs==0.0.0.dev0) (22.2.0)\n",
            "Requirement already satisfied: importlib-resources>=1.4.0 in /usr/local/lib/python3.8/dist-packages (from jsonschema>=2.6->nbformat->tensorflow-docs==0.0.0.dev0) (5.12.0)\n",
            "Requirement already satisfied: platformdirs>=2.5 in /usr/local/lib/python3.8/dist-packages (from jupyter-core->nbformat->tensorflow-docs==0.0.0.dev0) (3.0.0)\n",
            "Requirement already satisfied: zipp>=3.1.0 in /usr/local/lib/python3.8/dist-packages (from importlib-resources>=1.4.0->jsonschema>=2.6->nbformat->tensorflow-docs==0.0.0.dev0) (3.15.0)\n",
            "Building wheels for collected packages: tensorflow-docs\n",
            "  Building wheel for tensorflow-docs (setup.py) ... \u001b[?25l\u001b[?25hdone\n",
            "  Created wheel for tensorflow-docs: filename=tensorflow_docs-0.0.0.dev0-py3-none-any.whl size=178984 sha256=3fe11053e49da2c4d8f1a82856489c5c36708a5293ab69f8a910333e9eb3a326\n",
            "  Stored in directory: /tmp/pip-ephem-wheel-cache-906k2h2p/wheels/3b/ee/a2/ab4d36a9a4af495bcb936f3e849d4b497b65fa40548a68d6c3\n",
            "Successfully built tensorflow-docs\n",
            "Installing collected packages: tensorflow-docs\n",
            "Successfully installed tensorflow-docs-0.0.0.dev0\n"
          ]
        }
      ]
    },
    {
      "cell_type": "markdown",
      "source": [
        "## Jeu de données"
      ],
      "metadata": {
        "id": "UiV8n6GU_b_K"
      }
    },
    {
      "cell_type": "code",
      "source": [
        "gz = tf.keras.utils.get_file('HIGGS.csv.gz', 'http://mlphysics.ics.uci.edu/data/higgs/HIGGS.csv.gz')"
      ],
      "metadata": {
        "colab": {
          "base_uri": "https://localhost:8080/"
        },
        "id": "yID4XnTB_xWN",
        "outputId": "d74888cb-bcb1-4410-d2d4-37d8da8975fd"
      },
      "execution_count": 2,
      "outputs": [
        {
          "output_type": "stream",
          "name": "stdout",
          "text": [
            "Downloading data from http://mlphysics.ics.uci.edu/data/higgs/HIGGS.csv.gz\n",
            "2816407858/2816407858 [==============================] - 142s 0us/step\n"
          ]
        }
      ]
    },
    {
      "cell_type": "code",
      "source": [
        "FEATURES = 28"
      ],
      "metadata": {
        "id": "EPARuGvJ_xs9"
      },
      "execution_count": 3,
      "outputs": []
    },
    {
      "cell_type": "code",
      "source": [
        "ds = tf.data.experimental.CsvDataset(gz,[float(),]*(FEATURES+1), compression_type=\"GZIP\")"
      ],
      "metadata": {
        "id": "9QEd7qpXA1Sw"
      },
      "execution_count": 4,
      "outputs": []
    },
    {
      "cell_type": "markdown",
      "source": [
        "Cette classe de lecteur csv renvoie une liste de scalaires pour chaque enregistrement. La fonction suivante reconditionne cette liste de scalaires dans une paire (feature_vector, label)."
      ],
      "metadata": {
        "id": "Nr3sdq9-A2r7"
      }
    },
    {
      "cell_type": "code",
      "source": [
        "def pack_row(*row):\n",
        "  label = row[0]\n",
        "  features = tf.stack(row[1:],1)\n",
        "  return features, label"
      ],
      "metadata": {
        "id": "4PT6jvCmA6Ni"
      },
      "execution_count": 5,
      "outputs": []
    },
    {
      "cell_type": "markdown",
      "source": [
        "TensorFlow est plus efficace lorsqu'il fonctionne sur de gros lots de données.\n",
        "\n",
        "Ainsi, au lieu de reconditionner chaque ligne individuellement, créez un nouvel ensemble de `Dataset` qui prend des lots de 10 000 exemples, applique la fonction pack_row à chaque lot, puis divise les lots en enregistrements individuels :"
      ],
      "metadata": {
        "id": "QdurhfT1A8Tg"
      }
    },
    {
      "cell_type": "code",
      "source": [
        "packed_ds = ds.batch(10000).map(pack_row).unbatch()"
      ],
      "metadata": {
        "id": "OyLNVnzSBDNa"
      },
      "execution_count": 6,
      "outputs": []
    },
    {
      "cell_type": "code",
      "source": [
        "for features,label in packed_ds.batch(1000).take(1):\n",
        "  print(features[0])\n",
        "  plt.hist(features.numpy().flatten(), bins = 101)"
      ],
      "metadata": {
        "colab": {
          "base_uri": "https://localhost:8080/",
          "height": 374
        },
        "id": "Z2HbCuALBEvj",
        "outputId": "a4a22e66-697e-4803-8578-18af6dac8a25"
      },
      "execution_count": 7,
      "outputs": [
        {
          "output_type": "stream",
          "name": "stdout",
          "text": [
            "tf.Tensor(\n",
            "[ 0.8692932  -0.6350818   0.22569026  0.32747006 -0.6899932   0.75420225\n",
            " -0.24857314 -1.0920639   0.          1.3749921  -0.6536742   0.9303491\n",
            "  1.1074361   1.1389043  -1.5781983  -1.0469854   0.          0.65792954\n",
            " -0.01045457 -0.04576717  3.1019614   1.35376     0.9795631   0.97807616\n",
            "  0.92000484  0.72165745  0.98875093  0.87667835], shape=(28,), dtype=float32)\n"
          ]
        },
        {
          "output_type": "display_data",
          "data": {
            "text/plain": [
              "<Figure size 432x288 with 1 Axes>"
            ],
            "image/png": "[encoded data removed]"
          },
          "metadata": {
            "needs_background": "light"
          }
        }
      ]
    },
    {
      "cell_type": "code",
      "source": [
        "# 1000 pour jeu de validation et 10 000 pour le train\n",
        "N_VALIDATION = int(1e3)\n",
        "N_TRAIN = int(1e4)\n",
        "BUFFER_SIZE = int(1e4)\n",
        "BATCH_SIZE = 500\n",
        "STEPS_PER_EPOCH = N_TRAIN//BATCH_SIZE"
      ],
      "metadata": {
        "id": "xOY0bpPXCEXz"
      },
      "execution_count": 8,
      "outputs": []
    },
    {
      "cell_type": "code",
      "source": [
        "validate_ds = packed_ds.take(N_VALIDATION).cache()\n",
        "train_ds = packed_ds.skip(N_VALIDATION).take(N_TRAIN).cache()"
      ],
      "metadata": {
        "id": "2JfAYmKxCPJH"
      },
      "execution_count": 9,
      "outputs": []
    },
    {
      "cell_type": "code",
      "source": [
        "train_ds"
      ],
      "metadata": {
        "colab": {
          "base_uri": "https://localhost:8080/"
        },
        "id": "w1AV9pjZCPen",
        "outputId": "47a31322-fa72-4d2a-d0d2-acbe0c6de6a0"
      },
      "execution_count": 11,
      "outputs": [
        {
          "output_type": "execute_result",
          "data": {
            "text/plain": [
              "<CacheDataset element_spec=(TensorSpec(shape=(28,), dtype=tf.float32, name=None), TensorSpec(shape=(), dtype=tf.float32, name=None))>"
            ]
          },
          "metadata": {},
          "execution_count": 11
        }
      ]
    },
    {
      "cell_type": "code",
      "source": [
        "# création des batchs\n",
        "validate_ds = validate_ds.batch(BATCH_SIZE)\n",
        "train_ds = train_ds.shuffle(BUFFER_SIZE).repeat().batch(BATCH_SIZE)"
      ],
      "metadata": {
        "id": "6_j4fDNmCQFi"
      },
      "execution_count": 12,
      "outputs": []
    },
    {
      "cell_type": "markdown",
      "source": [
        "## Améliorer l'entraînement\n",
        "\n",
        "On peut utiliser `opimizers.schedules` pour réduire le taux d'apprentissage au fil du temps :"
      ],
      "metadata": {
        "id": "Pquoib1RCYbO"
      }
    },
    {
      "cell_type": "code",
      "source": [
        "lr_schedule = tf.keras.optimizers.schedules.InverseTimeDecay(\n",
        "  0.001,\n",
        "  decay_steps=STEPS_PER_EPOCH*1000,\n",
        "  decay_rate=1,\n",
        "  staircase=False)\n",
        "\n",
        "def get_optimizer():\n",
        "  return tf.keras.optimizers.Adam(lr_schedule)"
      ],
      "metadata": {
        "id": "-UaX6ATgCcKw"
      },
      "execution_count": 13,
      "outputs": []
    },
    {
      "cell_type": "markdown",
      "source": [
        "Le code ci-dessus définit un schedules.InverseTimeDecay pour réduire de manière hyperbolique le taux d'apprentissage à 1/2 du taux de base à 1000 époques, 1/3 à 2000 époques et ainsi de suite."
      ],
      "metadata": {
        "id": "AAA6dIrfDE-b"
      }
    },
    {
      "cell_type": "code",
      "source": [
        "step = np.linspace(0,100000)\n",
        "lr = lr_schedule(step)\n",
        "plt.figure(figsize = (8,6))\n",
        "plt.plot(step/STEPS_PER_EPOCH, lr)\n",
        "plt.ylim([0,max(plt.ylim())])\n",
        "plt.xlabel('Epoch')\n",
        "_ = plt.ylabel('Learning Rate')"
      ],
      "metadata": {
        "colab": {
          "base_uri": "https://localhost:8080/",
          "height": 388
        },
        "id": "N35sgvDyDKyY",
        "outputId": "89996031-b00f-4142-dc14-33f572eeec89"
      },
      "execution_count": 14,
      "outputs": [
        {
          "output_type": "display_data",
          "data": {
            "text/plain": [
              "<Figure size 576x432 with 1 Axes>"
            ],
            "image/png": "[encoded data removed]"
          },
          "metadata": {
            "needs_background": "light"
          }
        }
      ]
    },
    {
      "cell_type": "code",
      "source": [
        "def get_callbacks(name):\n",
        "  return [\n",
        "    tfdocs.modeling.EpochDots(),\n",
        "    # early stopping = arrêt si modèle ne progresse plus\n",
        "    tf.keras.callbacks.EarlyStopping(monitor='val_binary_crossentropy', patience=200),\n",
        "    # générer des journaux TensorBoard pour la formation \n",
        "    tf.keras.callbacks.TensorBoard(logdir/name),\n",
        "  ]"
      ],
      "metadata": {
        "id": "v9eZcvNuDw7i"
      },
      "execution_count": 15,
      "outputs": []
    },
    {
      "cell_type": "code",
      "source": [
        "# compile et fit = identique \n",
        "\n",
        "def compile_and_fit(model, name, optimizer=None, max_epochs=10000):\n",
        "  if optimizer is None:\n",
        "    optimizer = get_optimizer()\n",
        "  model.compile(optimizer=optimizer,\n",
        "                loss=tf.keras.losses.BinaryCrossentropy(from_logits=True),\n",
        "                metrics=[\n",
        "                  tf.keras.losses.BinaryCrossentropy(\n",
        "                      from_logits=True, name='binary_crossentropy'),\n",
        "                  'accuracy'])\n",
        "\n",
        "  model.summary()\n",
        "\n",
        "  history = model.fit(\n",
        "    train_ds,\n",
        "    steps_per_epoch = STEPS_PER_EPOCH,\n",
        "    epochs=max_epochs,\n",
        "    validation_data=validate_ds,\n",
        "    callbacks=get_callbacks(name),\n",
        "    verbose=0)\n",
        "  return history"
      ],
      "metadata": {
        "id": "8AgL_E0aD7jP"
      },
      "execution_count": 16,
      "outputs": []
    },
    {
      "cell_type": "markdown",
      "source": [
        "## Entraînement d'un petit modèle "
      ],
      "metadata": {
        "id": "-WumDaxwD-fM"
      }
    },
    {
      "cell_type": "code",
      "source": [
        "tiny_model = tf.keras.Sequential([\n",
        "    layers.Dense(16, activation='elu', input_shape=(FEATURES,)),\n",
        "    layers.Dense(1)\n",
        "])"
      ],
      "metadata": {
        "id": "UzFCMdsmEDJN"
      },
      "execution_count": 17,
      "outputs": []
    },
    {
      "cell_type": "code",
      "source": [
        "size_histories = {}\n",
        "\n",
        "size_histories['Tiny'] = compile_and_fit(tiny_model, 'sizes/Tiny')"
      ],
      "metadata": {
        "colab": {
          "base_uri": "https://localhost:8080/"
        },
        "id": "8pyoJw9JEDat",
        "outputId": "098d8bbe-5bea-4410-b3e1-e805d708cc23"
      },
      "execution_count": 18,
      "outputs": [
        {
          "output_type": "stream",
          "name": "stdout",
          "text": [
            "Model: \"sequential\"\n",
            "_________________________________________________________________\n",
            " Layer (type)                Output Shape              Param #   \n",
            "=================================================================\n",
            " dense (Dense)               (None, 16)                464       \n",
            "                                                                 \n",
            " dense_1 (Dense)             (None, 1)                 17        \n",
            "                                                                 \n",
            "=================================================================\n",
            "Total params: 481\n",
            "Trainable params: 481\n",
            "Non-trainable params: 0\n",
            "_________________________________________________________________\n",
            "\n",
            "Epoch: 0, accuracy:0.4770,  binary_crossentropy:0.7815,  loss:0.7815,  val_accuracy:0.5010,  val_binary_crossentropy:0.7321,  val_loss:0.7321,  \n",
            "....................................................................................................\n",
            "Epoch: 100, accuracy:0.5877,  binary_crossentropy:0.6326,  loss:0.6326,  val_accuracy:0.5630,  val_binary_crossentropy:0.6331,  val_loss:0.6331,  \n",
            "....................................................................................................\n",
            "Epoch: 200, accuracy:0.6019,  binary_crossentropy:0.6215,  loss:0.6215,  val_accuracy:0.5940,  val_binary_crossentropy:0.6214,  val_loss:0.6214,  \n",
            "....................................................................................................\n",
            "Epoch: 300, accuracy:0.6181,  binary_crossentropy:0.6111,  loss:0.6111,  val_accuracy:0.6180,  val_binary_crossentropy:0.6127,  val_loss:0.6127,  \n",
            "....................................................................................................\n",
            "Epoch: 400, accuracy:0.6396,  binary_crossentropy:0.6018,  loss:0.6018,  val_accuracy:0.6330,  val_binary_crossentropy:0.6040,  val_loss:0.6040,  \n",
            "....................................................................................................\n",
            "Epoch: 500, accuracy:0.6514,  binary_crossentropy:0.5952,  loss:0.5952,  val_accuracy:0.6580,  val_binary_crossentropy:0.5983,  val_loss:0.5983,  \n",
            "....................................................................................................\n",
            "Epoch: 600, accuracy:0.6607,  binary_crossentropy:0.5911,  loss:0.5911,  val_accuracy:0.6420,  val_binary_crossentropy:0.5978,  val_loss:0.5978,  \n",
            "....................................................................................................\n",
            "Epoch: 700, accuracy:0.6610,  binary_crossentropy:0.5878,  loss:0.5878,  val_accuracy:0.6670,  val_binary_crossentropy:0.5931,  val_loss:0.5931,  \n",
            "....................................................................................................\n",
            "Epoch: 800, accuracy:0.6649,  binary_crossentropy:0.5858,  loss:0.5858,  val_accuracy:0.6630,  val_binary_crossentropy:0.5928,  val_loss:0.5928,  \n",
            "....................................................................................................\n",
            "Epoch: 900, accuracy:0.6642,  binary_crossentropy:0.5840,  loss:0.5840,  val_accuracy:0.6670,  val_binary_crossentropy:0.5942,  val_loss:0.5942,  \n",
            "....................................................."
          ]
        }
      ]
    },
    {
      "cell_type": "code",
      "source": [
        "plotter = tfdocs.plots.HistoryPlotter(metric = 'binary_crossentropy', smoothing_std=10)\n",
        "plotter.plot(size_histories)\n",
        "plt.ylim([0.5, 0.7])"
      ],
      "metadata": {
        "colab": {
          "base_uri": "https://localhost:8080/",
          "height": 301
        },
        "id": "-7xkHKEJEGtl",
        "outputId": "4d69330f-5d89-43e2-cff6-798c9307067c"
      },
      "execution_count": 19,
      "outputs": [
        {
          "output_type": "execute_result",
          "data": {
            "text/plain": [
              "(0.5, 0.7)"
            ]
          },
          "metadata": {},
          "execution_count": 19
        },
        {
          "output_type": "display_data",
          "data": {
            "text/plain": [
              "<Figure size 432x288 with 1 Axes>"
            ],
            "image/png": "[encoded data removed]"
          },
          "metadata": {
            "needs_background": "light"
          }
        }
      ]
    },
    {
      "cell_type": "markdown",
      "source": [
        "## Petit modèle (2 couches cachées de 16 unités)"
      ],
      "metadata": {
        "id": "dZ892Ai_FAcO"
      }
    },
    {
      "cell_type": "code",
      "source": [
        "small_model = tf.keras.Sequential([\n",
        "    # `input_shape` is only required here so that `.summary` works.\n",
        "    layers.Dense(16, activation='elu', input_shape=(FEATURES,)),\n",
        "    layers.Dense(16, activation='elu'),\n",
        "    layers.Dense(1)\n",
        "])"
      ],
      "metadata": {
        "id": "SKFMSxdhF0CQ"
      },
      "execution_count": 21,
      "outputs": []
    },
    {
      "cell_type": "code",
      "source": [
        "size_histories['Small'] = compile_and_fit(small_model, 'sizes/Small')"
      ],
      "metadata": {
        "colab": {
          "base_uri": "https://localhost:8080/"
        },
        "id": "sXblgprEF0ec",
        "outputId": "b90ea241-1194-4bee-fa20-6546cb0baede"
      },
      "execution_count": 22,
      "outputs": [
        {
          "output_type": "stream",
          "name": "stdout",
          "text": [
            "Model: \"sequential_1\"\n",
            "_________________________________________________________________\n",
            " Layer (type)                Output Shape              Param #   \n",
            "=================================================================\n",
            " dense_2 (Dense)             (None, 16)                464       \n",
            "                                                                 \n",
            " dense_3 (Dense)             (None, 16)                272       \n",
            "                                                                 \n",
            " dense_4 (Dense)             (None, 1)                 17        \n",
            "                                                                 \n",
            "=================================================================\n",
            "Total params: 753\n",
            "Trainable params: 753\n",
            "Non-trainable params: 0\n",
            "_________________________________________________________________\n",
            "\n",
            "Epoch: 0, accuracy:0.4826,  binary_crossentropy:0.7973,  loss:0.7973,  val_accuracy:0.4830,  val_binary_crossentropy:0.7425,  val_loss:0.7425,  \n",
            "....................................................................................................\n",
            "Epoch: 100, accuracy:0.6327,  binary_crossentropy:0.6077,  loss:0.6077,  val_accuracy:0.5920,  val_binary_crossentropy:0.6225,  val_loss:0.6225,  \n",
            "....................................................................................................\n",
            "Epoch: 200, accuracy:0.6644,  binary_crossentropy:0.5868,  loss:0.5868,  val_accuracy:0.6550,  val_binary_crossentropy:0.6005,  val_loss:0.6005,  \n",
            "....................................................................................................\n",
            "Epoch: 300, accuracy:0.6792,  binary_crossentropy:0.5742,  loss:0.5742,  val_accuracy:0.6610,  val_binary_crossentropy:0.5914,  val_loss:0.5914,  \n",
            "....................................................................................................\n",
            "Epoch: 400, accuracy:0.6858,  binary_crossentropy:0.5673,  loss:0.5673,  val_accuracy:0.6720,  val_binary_crossentropy:0.5900,  val_loss:0.5900,  \n",
            "....................................................................................................\n",
            "Epoch: 500, accuracy:0.6932,  binary_crossentropy:0.5615,  loss:0.5615,  val_accuracy:0.6750,  val_binary_crossentropy:0.5922,  val_loss:0.5922,  \n",
            ".................................................................................."
          ]
        }
      ]
    },
    {
      "cell_type": "markdown",
      "source": [
        "## Modèle moyen (3 couches cachées de 64 unités)"
      ],
      "metadata": {
        "id": "Vl_YJaNrF3he"
      }
    },
    {
      "cell_type": "code",
      "source": [
        "medium_model = tf.keras.Sequential([\n",
        "    layers.Dense(64, activation='elu', input_shape=(FEATURES,)),\n",
        "    layers.Dense(64, activation='elu'),\n",
        "    layers.Dense(64, activation='elu'),\n",
        "    layers.Dense(1)\n",
        "])"
      ],
      "metadata": {
        "id": "h6mbwiopGshq"
      },
      "execution_count": 23,
      "outputs": []
    },
    {
      "cell_type": "code",
      "source": [
        "size_histories['Medium']  = compile_and_fit(medium_model, \"sizes/Medium\")"
      ],
      "metadata": {
        "colab": {
          "base_uri": "https://localhost:8080/"
        },
        "id": "3qbsRZlmGxOG",
        "outputId": "8e2716bb-3492-409f-8005-f143f3d6148e"
      },
      "execution_count": 24,
      "outputs": [
        {
          "output_type": "stream",
          "name": "stdout",
          "text": [
            "Model: \"sequential_2\"\n",
            "_________________________________________________________________\n",
            " Layer (type)                Output Shape              Param #   \n",
            "=================================================================\n",
            " dense_5 (Dense)             (None, 64)                1856      \n",
            "                                                                 \n",
            " dense_6 (Dense)             (None, 64)                4160      \n",
            "                                                                 \n",
            " dense_7 (Dense)             (None, 64)                4160      \n",
            "                                                                 \n",
            " dense_8 (Dense)             (None, 1)                 65        \n",
            "                                                                 \n",
            "=================================================================\n",
            "Total params: 10,241\n",
            "Trainable params: 10,241\n",
            "Non-trainable params: 0\n",
            "_________________________________________________________________\n",
            "\n",
            "Epoch: 0, accuracy:0.4947,  binary_crossentropy:0.7056,  loss:0.7056,  val_accuracy:0.4660,  val_binary_crossentropy:0.6838,  val_loss:0.6838,  \n",
            "....................................................................................................\n",
            "Epoch: 100, accuracy:0.7106,  binary_crossentropy:0.5376,  loss:0.5376,  val_accuracy:0.6640,  val_binary_crossentropy:0.5993,  val_loss:0.5993,  \n",
            "....................................................................................................\n",
            "Epoch: 200, accuracy:0.7773,  binary_crossentropy:0.4412,  loss:0.4412,  val_accuracy:0.6480,  val_binary_crossentropy:0.6744,  val_loss:0.6744,  \n",
            "....................................................................................................\n",
            "Epoch: 300, accuracy:0.8337,  binary_crossentropy:0.3520,  loss:0.3520,  val_accuracy:0.6220,  val_binary_crossentropy:0.8108,  val_loss:0.8108,  \n",
            "..."
          ]
        }
      ]
    },
    {
      "cell_type": "markdown",
      "source": [
        "## Grand modèle (4 couches cachées de 512 unités)"
      ],
      "metadata": {
        "id": "8kEmzNUBGysm"
      }
    },
    {
      "cell_type": "code",
      "source": [
        "large_model = tf.keras.Sequential([\n",
        "    layers.Dense(512, activation='elu', input_shape=(FEATURES,)),\n",
        "    layers.Dense(512, activation='elu'),\n",
        "    layers.Dense(512, activation='elu'),\n",
        "    layers.Dense(512, activation='elu'),\n",
        "    layers.Dense(1)\n",
        "])"
      ],
      "metadata": {
        "id": "iGtQUncmHOr_"
      },
      "execution_count": 25,
      "outputs": []
    },
    {
      "cell_type": "code",
      "source": [
        "size_histories['large'] = compile_and_fit(large_model, \"sizes/large\")"
      ],
      "metadata": {
        "colab": {
          "base_uri": "https://localhost:8080/"
        },
        "id": "mZOYK8RnHTS_",
        "outputId": "a217ff61-d98e-428d-e3fc-821e681dd517"
      },
      "execution_count": 26,
      "outputs": [
        {
          "output_type": "stream",
          "name": "stdout",
          "text": [
            "Model: \"sequential_3\"\n",
            "_________________________________________________________________\n",
            " Layer (type)                Output Shape              Param #   \n",
            "=================================================================\n",
            " dense_9 (Dense)             (None, 512)               14848     \n",
            "                                                                 \n",
            " dense_10 (Dense)            (None, 512)               262656    \n",
            "                                                                 \n",
            " dense_11 (Dense)            (None, 512)               262656    \n",
            "                                                                 \n",
            " dense_12 (Dense)            (None, 512)               262656    \n",
            "                                                                 \n",
            " dense_13 (Dense)            (None, 1)                 513       \n",
            "                                                                 \n",
            "=================================================================\n",
            "Total params: 803,329\n",
            "Trainable params: 803,329\n",
            "Non-trainable params: 0\n",
            "_________________________________________________________________\n",
            "\n",
            "Epoch: 0, accuracy:0.5197,  binary_crossentropy:0.8024,  loss:0.8024,  val_accuracy:0.5020,  val_binary_crossentropy:0.6792,  val_loss:0.6792,  \n",
            "....................................................................................................\n",
            "Epoch: 100, accuracy:1.0000,  binary_crossentropy:0.0019,  loss:0.0019,  val_accuracy:0.6640,  val_binary_crossentropy:1.8385,  val_loss:1.8385,  \n",
            "....................................................................................................\n",
            "Epoch: 200, accuracy:1.0000,  binary_crossentropy:0.0001,  loss:0.0001,  val_accuracy:0.6620,  val_binary_crossentropy:2.4729,  val_loss:2.4729,  \n",
            "................"
          ]
        }
      ]
    },
    {
      "cell_type": "markdown",
      "source": [
        "## Affichage dans Tensorboard"
      ],
      "metadata": {
        "id": "v0b9Koc0HUpj"
      }
    },
    {
      "cell_type": "code",
      "source": [
        "#docs_infra: no_execute\n",
        "\n",
        "# Load the TensorBoard notebook extension\n",
        "%load_ext tensorboard\n",
        "\n",
        "# Open an embedded TensorBoard viewer\n",
        "%tensorboard --logdir {logdir}/sizes"
      ],
      "metadata": {
        "colab": {
          "base_uri": "https://localhost:8080/",
          "height": 876
        },
        "id": "glmX5_rQadxt",
        "outputId": "73818dc9-11a9-4dab-aa89-1f0108dc8607"
      },
      "execution_count": 28,
      "outputs": [
        {
          "output_type": "stream",
          "name": "stdout",
          "text": [
            "The tensorboard extension is already loaded. To reload it, use:\n",
            "  %reload_ext tensorboard\n"
          ]
        },
        {
          "output_type": "display_data",
          "data": {
            "text/plain": [
              "Reusing TensorBoard on port 6006 (pid 42286), started 0:00:06 ago. (Use '!kill 42286' to kill it.)"
            ]
          },
          "metadata": {}
        },
        {
          "output_type": "display_data",
          "data": {
            "text/plain": [
              "<IPython.core.display.Javascript object>"
            ],
            "application/javascript": [
              "\n",
              "        (async () => {\n",
              "            const url = new URL(await google.colab.kernel.proxyPort(6006, {'cache': true}));\n",
              "            url.searchParams.set('tensorboardColab', 'true');\n",
              "            const iframe = document.createElement('iframe');\n",
              "            iframe.src = url;\n",
              "            iframe.setAttribute('width', '100%');\n",
              "            iframe.setAttribute('height', '800');\n",
              "            iframe.setAttribute('frameborder', 0);\n",
              "            document.body.appendChild(iframe);\n",
              "        })();\n",
              "    "
            ]
          },
          "metadata": {}
        }
      ]
    },
    {
      "cell_type": "code",
      "source": [
        "display.IFrame(\n",
        "    src=\"https://tensorboard.dev/experiment/vW7jmmF9TmKmy3rbheMQpw/#scalars&_smoothingWeight=0.97\",\n",
        "    width=\"100%\", height=\"800px\")"
      ],
      "metadata": {
        "colab": {
          "base_uri": "https://localhost:8080/",
          "height": 821
        },
        "id": "5SnnQKx6aeJG",
        "outputId": "f9fc5ebf-9a5a-43b7-a1bb-8057c7f8e641"
      },
      "execution_count": 29,
      "outputs": [
        {
          "output_type": "execute_result",
          "data": {
            "text/plain": [
              "<IPython.lib.display.IFrame at 0x7ff4f1645dc0>"
            ],
            "text/html": [
              "\n",
              "        <iframe\n",
              "            width=\"100%\"\n",
              "            height=\"800px\"\n",
              "            src=\"https://tensorboard.dev/experiment/vW7jmmF9TmKmy3rbheMQpw/#scalars&_smoothingWeight=0.97\"\n",
              "            frameborder=\"0\"\n",
              "            allowfullscreen\n",
              "        ></iframe>\n",
              "        "
            ]
          },
          "metadata": {},
          "execution_count": 29
        }
      ]
    },
    {
      "cell_type": "markdown",
      "source": [
        "## Stratégies pour éviter le surajustement"
      ],
      "metadata": {
        "id": "y_R1UisaaiLf"
      }
    },
    {
      "cell_type": "code",
      "source": [
        "# copies des journaux d'entraînement du modèle\n",
        "shutil.rmtree(logdir/'regularizers/Tiny', ignore_errors=True)\n",
        "shutil.copytree(logdir/'sizes/Tiny', logdir/'regularizers/Tiny')"
      ],
      "metadata": {
        "colab": {
          "base_uri": "https://localhost:8080/"
        },
        "id": "3XX3cprtawn0",
        "outputId": "37981c69-c992-47ba-b4aa-7216eb5ce4eb"
      },
      "execution_count": 37,
      "outputs": [
        {
          "output_type": "execute_result",
          "data": {
            "text/plain": [
              "PosixPath('/tmp/tmpzdvp8sz1/tensorboard_logs/regularizers/Tiny')"
            ]
          },
          "metadata": {},
          "execution_count": 37
        }
      ]
    },
    {
      "cell_type": "code",
      "source": [
        "regularizer_histories = {}\n",
        "regularizer_histories['Tiny'] = size_histories['Tiny']"
      ],
      "metadata": {
        "id": "Tw7LDXvFa1rU"
      },
      "execution_count": 38,
      "outputs": []
    },
    {
      "cell_type": "markdown",
      "source": [
        "### Ajouter une régularisation du poids\n",
        "\n",
        "Vous connaissez peut-être le principe du rasoir d'Occam : étant donné deux explications pour quelque chose, l'explication la plus susceptible d'être correcte est la « plus simple », celle qui fait le moins d'hypothèses. Cela s'applique également aux modèles appris par les réseaux de neurones : compte tenu de certaines données d'entraînement et d'une architecture de réseau, il existe plusieurs ensembles de valeurs de poids (plusieurs modèles) qui pourraient expliquer les données, et les modèles plus simples sont moins susceptibles de sur-ajuster que les modèles complexes.\n",
        "\n",
        "Un \"modèle simple\" dans ce contexte est un modèle où la distribution des valeurs de paramètres a moins d'entropie (ou un modèle avec moins de paramètres au total, comme nous l'avons vu dans la section ci-dessus). Ainsi, un moyen courant d'atténuer le surajustement consiste à imposer des contraintes sur la complexité d'un réseau en forçant ses poids à ne prendre que de petites valeurs, ce qui rend la distribution des valeurs de poids plus \"régulière\". C'est ce qu'on appelle la \"régularisation des poids\", et cela se fait en ajoutant à la fonction de perte du réseau un coût associé au fait d'avoir des poids importants. Ce coût se présente sous deux formes :\n",
        "\n",
        "- Régularisation L1 , où le surcoût est proportionnel à la valeur absolue des coefficients des poids (c'est-à-dire à ce qu'on appelle la « norme L1 » des poids).\n",
        "\n",
        "- Régularisation L2 , où le surcoût est proportionnel au carré de la valeur des coefficients des poids (c'est-à-dire à ce qu'on appelle le carré de la \"norme L2\" des poids). La régularisation L2 est également appelée décroissance de poids dans le contexte des réseaux de neurones. Ne laissez pas le nom différent vous confondre : la perte de poids est mathématiquement identique à la régularisation L2.\n",
        "\n",
        "La régularisation L1 pousse les poids vers exactement zéro, encourageant un modèle clairsemé. La régularisation L2 pénalisera les paramètres de poids sans les rendre clairsemés puisque la pénalité passe à zéro pour les petits poids - une des raisons pour lesquelles L2 est plus courant.\n",
        "\n",
        "Dans tf.keras , la régularisation du poids est ajoutée en passant des instances de régularisateur de poids aux couches en tant qu'arguments de mot-clé. Ajoutons maintenant la régularisation du poids L2."
      ],
      "metadata": {
        "id": "fzJYQIdua3ME"
      }
    },
    {
      "cell_type": "code",
      "source": [
        "l2_model = tf.keras.Sequential([\n",
        "    layers.Dense(512, activation='elu',\n",
        "                 kernel_regularizer=regularizers.l2(0.001),\n",
        "                 input_shape=(FEATURES,)),\n",
        "    layers.Dense(512, activation='elu',\n",
        "                 kernel_regularizer=regularizers.l2(0.001)),\n",
        "    layers.Dense(512, activation='elu',\n",
        "                 kernel_regularizer=regularizers.l2(0.001)),\n",
        "    layers.Dense(512, activation='elu',\n",
        "                 kernel_regularizer=regularizers.l2(0.001)),\n",
        "    layers.Dense(1)\n",
        "])\n",
        "\n",
        "regularizer_histories['l2'] = compile_and_fit(l2_model, \"regularizers/l2\")"
      ],
      "metadata": {
        "colab": {
          "base_uri": "https://localhost:8080/"
        },
        "id": "hBRrwtb_btAP",
        "outputId": "8d65d52f-53f9-40a6-bd82-fe659270db9e"
      },
      "execution_count": 39,
      "outputs": [
        {
          "output_type": "stream",
          "name": "stdout",
          "text": [
            "Model: \"sequential_6\"\n",
            "_________________________________________________________________\n",
            " Layer (type)                Output Shape              Param #   \n",
            "=================================================================\n",
            " dense_24 (Dense)            (None, 512)               14848     \n",
            "                                                                 \n",
            " dense_25 (Dense)            (None, 512)               262656    \n",
            "                                                                 \n",
            " dense_26 (Dense)            (None, 512)               262656    \n",
            "                                                                 \n",
            " dense_27 (Dense)            (None, 512)               262656    \n",
            "                                                                 \n",
            " dense_28 (Dense)            (None, 1)                 513       \n",
            "                                                                 \n",
            "=================================================================\n",
            "Total params: 803,329\n",
            "Trainable params: 803,329\n",
            "Non-trainable params: 0\n",
            "_________________________________________________________________\n",
            "\n",
            "Epoch: 0, accuracy:0.5129,  binary_crossentropy:0.8202,  loss:2.3408,  val_accuracy:0.4690,  val_binary_crossentropy:0.6974,  val_loss:2.1443,  \n",
            "....................................................................................................\n",
            "Epoch: 100, accuracy:0.6524,  binary_crossentropy:0.5966,  loss:0.6200,  val_accuracy:0.6770,  val_binary_crossentropy:0.5871,  val_loss:0.6105,  \n",
            "....................................................................................................\n",
            "Epoch: 200, accuracy:0.6732,  binary_crossentropy:0.5851,  loss:0.6073,  val_accuracy:0.6650,  val_binary_crossentropy:0.5800,  val_loss:0.6021,  \n",
            "....................................................................................................\n",
            "Epoch: 300, accuracy:0.6802,  binary_crossentropy:0.5774,  loss:0.5988,  val_accuracy:0.6800,  val_binary_crossentropy:0.5813,  val_loss:0.6025,  \n",
            ".............................................................................................."
          ]
        }
      ]
    },
    {
      "cell_type": "code",
      "source": [
        "plotter.plot(regularizer_histories)\n",
        "plt.ylim([0.5, 0.7])"
      ],
      "metadata": {
        "colab": {
          "base_uri": "https://localhost:8080/",
          "height": 301
        },
        "id": "UcnB7pWDbw6l",
        "outputId": "23f0b99e-8213-483f-b519-3d7b6e39a2df"
      },
      "execution_count": 40,
      "outputs": [
        {
          "output_type": "execute_result",
          "data": {
            "text/plain": [
              "(0.5, 0.7)"
            ]
          },
          "metadata": {},
          "execution_count": 40
        },
        {
          "output_type": "display_data",
          "data": {
            "text/plain": [
              "<Figure size 432x288 with 1 Axes>"
            ],
            "image/png": "[encoded data removed]"
          },
          "metadata": {
            "needs_background": "light"
          }
        }
      ]
    },
    {
      "cell_type": "code",
      "source": [
        "result = l2_model(features)\n",
        "regularization_loss=tf.add_n(l2_model.losses)"
      ],
      "metadata": {
        "id": "hbXB3wCkkw4j"
      },
      "execution_count": 41,
      "outputs": []
    },
    {
      "cell_type": "markdown",
      "source": [
        "## Dropout"
      ],
      "metadata": {
        "id": "nQOLnvm_b15F"
      }
    },
    {
      "cell_type": "code",
      "source": [
        "dropout_model = tf.keras.Sequential([\n",
        "    layers.Dense(512, activation='elu', input_shape=(FEATURES,)),\n",
        "    layers.Dropout(0.5),\n",
        "    layers.Dense(512, activation='elu'),\n",
        "    layers.Dropout(0.5),\n",
        "    layers.Dense(512, activation='elu'),\n",
        "    layers.Dropout(0.5),\n",
        "    layers.Dense(512, activation='elu'),\n",
        "    layers.Dropout(0.5),\n",
        "    layers.Dense(1)\n",
        "])\n",
        "\n",
        "regularizer_histories['dropout'] = compile_and_fit(dropout_model, \"regularizers/dropout\")"
      ],
      "metadata": {
        "colab": {
          "base_uri": "https://localhost:8080/"
        },
        "id": "sLVpB7_KfSA4",
        "outputId": "5286991c-8934-4968-f31c-483c7ed8cf09"
      },
      "execution_count": 42,
      "outputs": [
        {
          "output_type": "stream",
          "name": "stdout",
          "text": [
            "Model: \"sequential_7\"\n",
            "_________________________________________________________________\n",
            " Layer (type)                Output Shape              Param #   \n",
            "=================================================================\n",
            " dense_29 (Dense)            (None, 512)               14848     \n",
            "                                                                 \n",
            " dropout_4 (Dropout)         (None, 512)               0         \n",
            "                                                                 \n",
            " dense_30 (Dense)            (None, 512)               262656    \n",
            "                                                                 \n",
            " dropout_5 (Dropout)         (None, 512)               0         \n",
            "                                                                 \n",
            " dense_31 (Dense)            (None, 512)               262656    \n",
            "                                                                 \n",
            " dropout_6 (Dropout)         (None, 512)               0         \n",
            "                                                                 \n",
            " dense_32 (Dense)            (None, 512)               262656    \n",
            "                                                                 \n",
            " dropout_7 (Dropout)         (None, 512)               0         \n",
            "                                                                 \n",
            " dense_33 (Dense)            (None, 1)                 513       \n",
            "                                                                 \n",
            "=================================================================\n",
            "Total params: 803,329\n",
            "Trainable params: 803,329\n",
            "Non-trainable params: 0\n",
            "_________________________________________________________________\n",
            "\n",
            "Epoch: 0, accuracy:0.5113,  binary_crossentropy:0.7892,  loss:0.7892,  val_accuracy:0.5130,  val_binary_crossentropy:0.6720,  val_loss:0.6720,  \n",
            "....................................................................................................\n",
            "Epoch: 100, accuracy:0.6639,  binary_crossentropy:0.5937,  loss:0.5937,  val_accuracy:0.6830,  val_binary_crossentropy:0.5783,  val_loss:0.5783,  \n",
            "....................................................................................................\n",
            "Epoch: 200, accuracy:0.6896,  binary_crossentropy:0.5546,  loss:0.5546,  val_accuracy:0.6720,  val_binary_crossentropy:0.5861,  val_loss:0.5861,  \n",
            "....................................................................................................\n",
            "Epoch: 300, accuracy:0.7228,  binary_crossentropy:0.5108,  loss:0.5108,  val_accuracy:0.6980,  val_binary_crossentropy:0.5991,  val_loss:0.5991,  \n",
            "......................"
          ]
        }
      ]
    },
    {
      "cell_type": "code",
      "source": [
        "plotter.plot(regularizer_histories)\n",
        "plt.ylim([0.5, 0.7])"
      ],
      "metadata": {
        "colab": {
          "base_uri": "https://localhost:8080/",
          "height": 301
        },
        "id": "-sWnJNG3fSZ3",
        "outputId": "55696493-d6da-4c14-8d33-0ed2ebe3aebb"
      },
      "execution_count": 43,
      "outputs": [
        {
          "output_type": "execute_result",
          "data": {
            "text/plain": [
              "(0.5, 0.7)"
            ]
          },
          "metadata": {},
          "execution_count": 43
        },
        {
          "output_type": "display_data",
          "data": {
            "text/plain": [
              "<Figure size 432x288 with 1 Axes>"
            ],
            "image/png": "[encoded data removed]"
          },
          "metadata": {
            "needs_background": "light"
          }
        }
      ]
    },
    {
      "cell_type": "markdown",
      "source": [
        "  ## Combiné L2 + Dropout"
      ],
      "metadata": {
        "id": "abGGaqwhiIZb"
      }
    },
    {
      "cell_type": "code",
      "source": [
        "combined_model = tf.keras.Sequential([\n",
        "    layers.Dense(512, kernel_regularizer=regularizers.l2(0.0001),\n",
        "                 activation='elu', input_shape=(FEATURES,)),\n",
        "    layers.Dropout(0.5),\n",
        "    layers.Dense(512, kernel_regularizer=regularizers.l2(0.0001),\n",
        "                 activation='elu'),\n",
        "    layers.Dropout(0.5),\n",
        "    layers.Dense(512, kernel_regularizer=regularizers.l2(0.0001),\n",
        "                 activation='elu'),\n",
        "    layers.Dropout(0.5),\n",
        "    layers.Dense(512, kernel_regularizer=regularizers.l2(0.0001),\n",
        "                 activation='elu'),\n",
        "    layers.Dropout(0.5),\n",
        "    layers.Dense(1)\n",
        "])\n",
        "\n",
        "regularizer_histories['combined'] = compile_and_fit(combined_model, \"regularizers/combined\")"
      ],
      "metadata": {
        "colab": {
          "base_uri": "https://localhost:8080/"
        },
        "id": "JPYEQF12n09q",
        "outputId": "82a18eb2-15f7-4c14-c61e-cf47f96b614e"
      },
      "execution_count": 44,
      "outputs": [
        {
          "output_type": "stream",
          "name": "stdout",
          "text": [
            "Model: \"sequential_8\"\n",
            "_________________________________________________________________\n",
            " Layer (type)                Output Shape              Param #   \n",
            "=================================================================\n",
            " dense_34 (Dense)            (None, 512)               14848     \n",
            "                                                                 \n",
            " dropout_8 (Dropout)         (None, 512)               0         \n",
            "                                                                 \n",
            " dense_35 (Dense)            (None, 512)               262656    \n",
            "                                                                 \n",
            " dropout_9 (Dropout)         (None, 512)               0         \n",
            "                                                                 \n",
            " dense_36 (Dense)            (None, 512)               262656    \n",
            "                                                                 \n",
            " dropout_10 (Dropout)        (None, 512)               0         \n",
            "                                                                 \n",
            " dense_37 (Dense)            (None, 512)               262656    \n",
            "                                                                 \n",
            " dropout_11 (Dropout)        (None, 512)               0         \n",
            "                                                                 \n",
            " dense_38 (Dense)            (None, 1)                 513       \n",
            "                                                                 \n",
            "=================================================================\n",
            "Total params: 803,329\n",
            "Trainable params: 803,329\n",
            "Non-trainable params: 0\n",
            "_________________________________________________________________\n",
            "\n",
            "Epoch: 0, accuracy:0.5052,  binary_crossentropy:0.7938,  loss:0.9523,  val_accuracy:0.5110,  val_binary_crossentropy:0.6702,  val_loss:0.8281,  \n",
            "....................................................................................................\n",
            "Epoch: 100, accuracy:0.6456,  binary_crossentropy:0.6060,  loss:0.6351,  val_accuracy:0.6650,  val_binary_crossentropy:0.5793,  val_loss:0.6083,  \n",
            "....................................................................................................\n",
            "Epoch: 200, accuracy:0.6588,  binary_crossentropy:0.5942,  loss:0.6199,  val_accuracy:0.6840,  val_binary_crossentropy:0.5698,  val_loss:0.5955,  \n",
            "....................................................................................................\n",
            "Epoch: 300, accuracy:0.6684,  binary_crossentropy:0.5807,  loss:0.6092,  val_accuracy:0.6980,  val_binary_crossentropy:0.5597,  val_loss:0.5882,  \n",
            "....................................................................................................\n",
            "Epoch: 400, accuracy:0.6726,  binary_crossentropy:0.5784,  loss:0.6090,  val_accuracy:0.6880,  val_binary_crossentropy:0.5563,  val_loss:0.5869,  \n",
            "....................................................................................................\n",
            "Epoch: 500, accuracy:0.6837,  binary_crossentropy:0.5695,  loss:0.6022,  val_accuracy:0.7010,  val_binary_crossentropy:0.5549,  val_loss:0.5876,  \n",
            "....................................................................................................\n",
            "Epoch: 600, accuracy:0.6858,  binary_crossentropy:0.5673,  loss:0.6021,  val_accuracy:0.6850,  val_binary_crossentropy:0.5488,  val_loss:0.5837,  \n",
            "....................................................................................................\n",
            "Epoch: 700, accuracy:0.6904,  binary_crossentropy:0.5615,  loss:0.5979,  val_accuracy:0.6980,  val_binary_crossentropy:0.5488,  val_loss:0.5852,  \n",
            "....................................................................................................\n",
            "Epoch: 800, accuracy:0.6902,  binary_crossentropy:0.5558,  loss:0.5934,  val_accuracy:0.6920,  val_binary_crossentropy:0.5442,  val_loss:0.5818,  \n",
            "...................................."
          ]
        }
      ]
    },
    {
      "cell_type": "code",
      "source": [
        "plotter.plot(regularizer_histories)\n",
        "plt.ylim([0.5, 0.7])"
      ],
      "metadata": {
        "colab": {
          "base_uri": "https://localhost:8080/",
          "height": 301
        },
        "id": "SZPLvTyfn1S9",
        "outputId": "1f04120f-d551-445a-f41a-39dedc89c2ad"
      },
      "execution_count": 45,
      "outputs": [
        {
          "output_type": "execute_result",
          "data": {
            "text/plain": [
              "(0.5, 0.7)"
            ]
          },
          "metadata": {},
          "execution_count": 45
        },
        {
          "output_type": "display_data",
          "data": {
            "text/plain": [
              "<Figure size 432x288 with 1 Axes>"
            ],
            "image/png": "[encoded data removed]"
          },
          "metadata": {
            "needs_background": "light"
          }
        }
      ]
    },
    {
      "cell_type": "markdown",
      "source": [
        "## Afficher dans Tensorboard"
      ],
      "metadata": {
        "id": "aeT-vqmCoWNH"
      }
    },
    {
      "cell_type": "code",
      "source": [
        "%tensorboard --logdir {logdir}/regularizers"
      ],
      "metadata": {
        "colab": {
          "base_uri": "https://localhost:8080/",
          "height": 309
        },
        "id": "fN8RX35GrjFE",
        "outputId": "3400b485-edcd-46e3-b746-77ffaee5ad8e"
      },
      "execution_count": 46,
      "outputs": [
        {
          "output_type": "display_data",
          "data": {
            "text/plain": [
              "ERROR: Failed to launch TensorBoard (exited with 1).\n",
              "Contents of stderr:\n",
              "2023-03-02 14:18:24.374300: W tensorflow/compiler/xla/stream_executor/platform/default/dso_loader.cc:64] Could not load dynamic library 'libnvinfer.so.7'; dlerror: libnvinfer.so.7: cannot open shared object file: No such file or directory; LD_LIBRARY_PATH: /usr/local/nvidia/lib:/usr/local/nvidia/lib64\n",
              "2023-03-02 14:18:24.374476: W tensorflow/compiler/xla/stream_executor/platform/default/dso_loader.cc:64] Could not load dynamic library 'libnvinfer_plugin.so.7'; dlerror: libnvinfer_plugin.so.7: cannot open shared object file: No such file or directory; LD_LIBRARY_PATH: /usr/local/nvidia/lib:/usr/local/nvidia/lib64\n",
              "2023-03-02 14:18:24.374488: W tensorflow/compiler/tf2tensorrt/utils/py_utils.cc:38] TF-TRT Warning: Cannot dlopen some TensorRT libraries. If you would like to use Nvidia GPU with TensorRT, please make sure the missing libraries mentioned above are installed properly.\n",
              "2023-03-02 14:18:26.196425: E tensorflow/compiler/xla/stream_executor/cuda/cuda_driver.cc:267] failed call to cuInit: CUDA_ERROR_NO_DEVICE: no CUDA-capable device is detected\n",
              "\n",
              "NOTE: Using experimental fast data loading logic. To disable, pass\n",
              "    \"--load_fast=false\" and report issues on GitHub. More details:\n",
              "    https://github.com/tensorflow/tensorboard/issues/4784\n",
              "\n",
              "Address already in use\n",
              "Port 6006 is in use by another program. Either identify and stop that program, or start the server with a different port."
            ]
          },
          "metadata": {}
        }
      ]
    },
    {
      "cell_type": "code",
      "source": [
        "display.IFrame(\n",
        "    src=\"https://tensorboard.dev/experiment/fGInKDo8TXes1z7HQku9mw/#scalars&_smoothingWeight=0.97\",\n",
        "    width = \"100%\",\n",
        "    height=\"800px\")"
      ],
      "metadata": {
        "colab": {
          "base_uri": "https://localhost:8080/",
          "height": 821
        },
        "id": "SwWyGqcvrktF",
        "outputId": "1781d92b-8557-47b8-ca8b-144c7e535321"
      },
      "execution_count": 47,
      "outputs": [
        {
          "output_type": "execute_result",
          "data": {
            "text/plain": [
              "<IPython.lib.display.IFrame at 0x7ff4d8c16730>"
            ],
            "text/html": [
              "\n",
              "        <iframe\n",
              "            width=\"100%\"\n",
              "            height=\"800px\"\n",
              "            src=\"https://tensorboard.dev/experiment/fGInKDo8TXes1z7HQku9mw/#scalars&_smoothingWeight=0.97\"\n",
              "            frameborder=\"0\"\n",
              "            allowfullscreen\n",
              "        ></iframe>\n",
              "        "
            ]
          },
          "metadata": {},
          "execution_count": 47
        }
      ]
    },
    {
      "cell_type": "markdown",
      "source": [
        "## Conclusion \n",
        "\n",
        "Pour récapituler : voici les moyens les plus courants d'éviter le surajustement dans les réseaux de neurones :\n",
        "\n",
        "- Obtenez plus de données d'entraînement.\n",
        "- Réduire la capacité du réseau.\n",
        "- Ajouter la régularisation du poids.\n",
        "- Ajouter un décrochage.\n",
        "\n",
        "Deux approches importantes non couvertes dans ce guide sont :\n",
        "- augmentation de données\n",
        "- normalisation par lots\n",
        "\n",
        "Rappelez-vous que chaque méthode peut aider seule, mais souvent les combiner peut être encore plus efficace."
      ],
      "metadata": {
        "id": "9rt6vrJurmp2"
      }
    }
  ]
}