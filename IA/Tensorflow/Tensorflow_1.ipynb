{
  "nbformat": 4,
  "nbformat_minor": 0,
  "metadata": {
    "colab": {
      "provenance": []
    },
    "kernelspec": {
      "name": "python3",
      "display_name": "Python 3"
    },
    "language_info": {
      "name": "python"
    }
  },
  "cells": [
    {
      "cell_type": "markdown",
      "source": [
        "# <center>Démarrage rapide de TensorFlow 2 pour les débutants </center>\n",
        "\n",
        "**Source :** https://www.tensorflow.org/tutorials/quickstart/beginner?hl=fr\n",
        "\n",
        "Contenu :\n",
        "\n",
        "- Charger un jeu de données prédéfini.\n",
        "- Créer un modèle d'apprentissage automatique de réseau neuronal qui classe les images.\n",
        "- Entraîner ce réseau de neurones.\n",
        "- Évaluer la précision du modèle."
      ],
      "metadata": {
        "id": "eKidye1PSian"
      }
    },
    {
      "cell_type": "markdown",
      "source": [
        "## Configuration de TensorFlow"
      ],
      "metadata": {
        "id": "hns-RhnVS-YA"
      }
    },
    {
      "cell_type": "code",
      "source": [
        "import tensorflow as tf\n",
        "print(\"TensorFlow version:\", tf.__version__)"
      ],
      "metadata": {
        "colab": {
          "base_uri": "https://localhost:8080/"
        },
        "id": "XDkNg8PwTDk4",
        "outputId": "4344a1a3-febc-4622-b895-f6cf6ee9adde"
      },
      "execution_count": 2,
      "outputs": [
        {
          "output_type": "stream",
          "name": "stdout",
          "text": [
            "TensorFlow version: 2.11.0\n"
          ]
        }
      ]
    },
    {
      "cell_type": "markdown",
      "source": [
        "## Chargement du jeu de données"
      ],
      "metadata": {
        "id": "79DEzv4JTHk4"
      }
    },
    {
      "cell_type": "code",
      "source": [
        "mnist = tf.keras.datasets.mnist\n",
        "\n",
        "(x_train, y_train), (x_test, y_test) = mnist.load_data()\n",
        "# conversion en float\n",
        "x_train, x_test = x_train / 255.0, x_test / 255.0"
      ],
      "metadata": {
        "id": "66LtHiZKTHS3"
      },
      "execution_count": 9,
      "outputs": []
    },
    {
      "cell_type": "markdown",
      "source": [
        "## Créer un modèle d'apprentissage automatique"
      ],
      "metadata": {
        "id": "7Y4IavEBTVHy"
      }
    },
    {
      "cell_type": "code",
      "source": [
        "model = tf.keras.models.Sequential([\n",
        "    # empilement des couches\n",
        "  tf.keras.layers.Flatten(input_shape=(28, 28)),\n",
        "  tf.keras.layers.Dense(128, activation='relu'),\n",
        "  tf.keras.layers.Dropout(0.2),\n",
        "  tf.keras.layers.Dense(10)\n",
        "])"
      ],
      "metadata": {
        "id": "9IdXWEs3TVc5"
      },
      "execution_count": 10,
      "outputs": []
    },
    {
      "cell_type": "markdown",
      "source": [
        "## Faire des prédictions"
      ],
      "metadata": {
        "id": "JnkZ3AeUWudC"
      }
    },
    {
      "cell_type": "code",
      "source": [
        "# Pour chaque exemple, le modèle renvoie un vecteur de scores logits ou log-odds , un pour chaque classe.\n",
        "predictions = model(x_train[:1]).numpy()\n",
        "predictions"
      ],
      "metadata": {
        "colab": {
          "base_uri": "https://localhost:8080/"
        },
        "id": "IyIJBO_zTWWn",
        "outputId": "096c01ae-7955-4a89-9509-105a9a0f3640"
      },
      "execution_count": 11,
      "outputs": [
        {
          "output_type": "execute_result",
          "data": {
            "text/plain": [
              "array([[-0.3776231 , -0.7269157 ,  0.25920781,  0.1783102 ,  0.00217468,\n",
              "        -0.31357008,  0.05425137, -0.01190896, -0.0044143 , -0.7873131 ]],\n",
              "      dtype=float32)"
            ]
          },
          "metadata": {},
          "execution_count": 11
        }
      ]
    },
    {
      "cell_type": "code",
      "source": [
        "# La fonction tf.nn.softmax convertit ces logits en probabilités pour chaque classe :\n",
        "tf.nn.softmax(predictions).numpy()"
      ],
      "metadata": {
        "colab": {
          "base_uri": "https://localhost:8080/"
        },
        "id": "7mAzwRi9W-ef",
        "outputId": "72fea513-e6f8-445e-ff8b-e8e6880b399e"
      },
      "execution_count": 12,
      "outputs": [
        {
          "output_type": "execute_result",
          "data": {
            "text/plain": [
              "array([[0.07712895, 0.05439031, 0.14581075, 0.13447952, 0.11276167,\n",
              "        0.08223095, 0.11878952, 0.1111847 , 0.11202113, 0.05120251]],\n",
              "      dtype=float32)"
            ]
          },
          "metadata": {},
          "execution_count": 12
        }
      ]
    },
    {
      "cell_type": "markdown",
      "source": [
        "## Fonction de perte\n",
        "\n",
        "Définissez une fonction de perte pour l'entraînement à l'aide `losses.SparseCategoricalCrossentropy` , qui prend un vecteur de logits et un indice True et renvoie une perte scalaire pour chaque exemple."
      ],
      "metadata": {
        "id": "RKq0Go5nXQlX"
      }
    },
    {
      "cell_type": "code",
      "source": [
        "loss_fn = tf.keras.losses.SparseCategoricalCrossentropy(from_logits=True)"
      ],
      "metadata": {
        "id": "Jak791zrXSxh"
      },
      "execution_count": 13,
      "outputs": []
    },
    {
      "cell_type": "markdown",
      "source": [
        "Cette perte est égale à la probabilité logarithmique négative de la vraie classe : la perte est nulle si le modèle est sûr de la bonne classe.\n",
        "\n",
        "Ce modèle non formé donne des probabilités proches du hasard (1/10 pour chaque classe), donc la perte initiale devrait être proche de `-tf.math.log(1/10) ~= 2.3` ."
      ],
      "metadata": {
        "id": "SwYzf_9EX5FO"
      }
    },
    {
      "cell_type": "code",
      "source": [
        "loss_fn(y_train[:1], predictions).numpy()"
      ],
      "metadata": {
        "colab": {
          "base_uri": "https://localhost:8080/"
        },
        "id": "JLoq6cFmYUNf",
        "outputId": "bb775014-a6fa-4579-9fdc-9fba7992f4bb"
      },
      "execution_count": 14,
      "outputs": [
        {
          "output_type": "execute_result",
          "data": {
            "text/plain": [
              "2.4982235"
            ]
          },
          "metadata": {},
          "execution_count": 14
        }
      ]
    },
    {
      "cell_type": "markdown",
      "source": [
        "## Compilation du modèle\n",
        "\n",
        "Avant de commencer l'entraînement, configurez et compilez le modèle à l'aide de Keras `Model.compile`. Définissez la classe d' optimizer sur `adam` , définissez la `loss` sur la fonction `loss_fn` que vous avez définie précédemment et spécifiez une métrique à évaluer pour le modèle en définissant le `metrics` sur `accuracy` ."
      ],
      "metadata": {
        "id": "21klcXJWYWEX"
      }
    },
    {
      "cell_type": "code",
      "source": [
        "model.compile(optimizer='adam',\n",
        "              loss=loss_fn,\n",
        "              metrics=['accuracy'])"
      ],
      "metadata": {
        "id": "sa2wwdppZb4c"
      },
      "execution_count": 15,
      "outputs": []
    },
    {
      "cell_type": "markdown",
      "source": [
        "## Entraînement du modèle"
      ],
      "metadata": {
        "id": "OluDpWLhZj_a"
      }
    },
    {
      "cell_type": "code",
      "source": [
        "model.fit(x_train, y_train, epochs=5)"
      ],
      "metadata": {
        "colab": {
          "base_uri": "https://localhost:8080/"
        },
        "id": "mU64kbgmZn59",
        "outputId": "549c8eda-5852-43cf-bbc9-912f30f43714"
      },
      "execution_count": 16,
      "outputs": [
        {
          "output_type": "stream",
          "name": "stdout",
          "text": [
            "Epoch 1/5\n",
            "1875/1875 [==============================] - 13s 6ms/step - loss: 0.2982 - accuracy: 0.9136\n",
            "Epoch 2/5\n",
            "1875/1875 [==============================] - 12s 6ms/step - loss: 0.1459 - accuracy: 0.9565\n",
            "Epoch 3/5\n",
            "1875/1875 [==============================] - 11s 6ms/step - loss: 0.1084 - accuracy: 0.9674\n",
            "Epoch 4/5\n",
            "1875/1875 [==============================] - 10s 5ms/step - loss: 0.0869 - accuracy: 0.9729\n",
            "Epoch 5/5\n",
            "1875/1875 [==============================] - 11s 6ms/step - loss: 0.0746 - accuracy: 0.9765\n"
          ]
        },
        {
          "output_type": "execute_result",
          "data": {
            "text/plain": [
              "<keras.callbacks.History at 0x7f541cb92280>"
            ]
          },
          "metadata": {},
          "execution_count": 16
        }
      ]
    },
    {
      "cell_type": "markdown",
      "source": [
        "## Evaluation du modèle (sur le jeu de test)"
      ],
      "metadata": {
        "id": "25-9d1SeaFi5"
      }
    },
    {
      "cell_type": "code",
      "source": [
        "model.evaluate(x_test,  y_test, verbose=2)"
      ],
      "metadata": {
        "colab": {
          "base_uri": "https://localhost:8080/"
        },
        "id": "h1Krwns9ZoMg",
        "outputId": "ed1130ea-f282-47fb-9fdb-e76509619a64"
      },
      "execution_count": 17,
      "outputs": [
        {
          "output_type": "stream",
          "name": "stdout",
          "text": [
            "313/313 - 1s - loss: 0.0768 - accuracy: 0.9751 - 1s/epoch - 5ms/step\n"
          ]
        },
        {
          "output_type": "execute_result",
          "data": {
            "text/plain": [
              "[0.07680600136518478, 0.9750999808311462]"
            ]
          },
          "metadata": {},
          "execution_count": 17
        }
      ]
    },
    {
      "cell_type": "markdown",
      "source": [
        "### Renvoyer une probabilité avec *softmax*"
      ],
      "metadata": {
        "id": "ro_xBA31aJVr"
      }
    },
    {
      "cell_type": "code",
      "source": [
        "probability_model = tf.keras.Sequential([\n",
        "  model,\n",
        "  tf.keras.layers.Softmax()\n",
        "])"
      ],
      "metadata": {
        "id": "1SbnvfuGaTo4"
      },
      "execution_count": 19,
      "outputs": []
    },
    {
      "cell_type": "code",
      "source": [
        "probability_model(x_test[:5])"
      ],
      "metadata": {
        "colab": {
          "base_uri": "https://localhost:8080/"
        },
        "id": "4BdPDwCuaWnk",
        "outputId": "1fec6903-83ca-4456-b575-0ee9e561f834"
      },
      "execution_count": 20,
      "outputs": [
        {
          "output_type": "execute_result",
          "data": {
            "text/plain": [
              "<tf.Tensor: shape=(5, 10), dtype=float32, numpy=\n",
              "array([[1.7866327e-09, 5.7784561e-08, 7.2966776e-07, 6.0225826e-05,\n",
              "        5.4439120e-11, 3.2478272e-07, 3.1732366e-12, 9.9993873e-01,\n",
              "        7.7195894e-09, 1.0943701e-08],\n",
              "       [1.1618745e-08, 2.0467989e-04, 9.9979502e-01, 1.6546451e-08,\n",
              "        6.2384146e-18, 1.3397424e-08, 1.7880294e-07, 1.6897603e-15,\n",
              "        2.4508504e-09, 2.2900107e-16],\n",
              "       [1.7433520e-06, 9.9840087e-01, 3.3884964e-04, 1.5053068e-05,\n",
              "        2.3023806e-05, 7.5220382e-06, 2.2722325e-05, 9.1033004e-04,\n",
              "        2.7417834e-04, 5.7489347e-06],\n",
              "       [9.9971884e-01, 4.3797620e-08, 6.3468222e-05, 1.5121509e-08,\n",
              "        7.2885018e-07, 6.7891328e-06, 1.8851610e-04, 3.1102545e-06,\n",
              "        1.1379843e-07, 1.8335082e-05],\n",
              "       [1.2082776e-06, 1.6642185e-08, 1.7685231e-06, 1.3185909e-08,\n",
              "        9.9988210e-01, 1.1162044e-06, 1.0253473e-06, 1.6977603e-05,\n",
              "        3.0288427e-07, 9.5497613e-05]], dtype=float32)>"
            ]
          },
          "metadata": {},
          "execution_count": 20
        }
      ]
    }
  ]
}