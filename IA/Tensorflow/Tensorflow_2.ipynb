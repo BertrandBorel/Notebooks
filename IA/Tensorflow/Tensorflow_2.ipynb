{
  "nbformat": 4,
  "nbformat_minor": 0,
  "metadata": {
    "colab": {
      "provenance": []
    },
    "kernelspec": {
      "name": "python3",
      "display_name": "Python 3"
    },
    "language_info": {
      "name": "python"
    }
  },
  "cells": [
    {
      "cell_type": "markdown",
      "source": [
        "# <center> Démarrage rapide de TensorFlow 2 pour les experts </center>\n",
        "\n",
        "**Source :** https://www.tensorflow.org/tutorials/quickstart/advanced?hl=fr\n",
        "\n",
        "## Importation "
      ],
      "metadata": {
        "id": "Gm07pX_uc4Vg"
      }
    },
    {
      "cell_type": "code",
      "execution_count": 1,
      "metadata": {
        "colab": {
          "base_uri": "https://localhost:8080/"
        },
        "id": "Euy3VUbgcy1S",
        "outputId": "d43c4da5-998e-465b-e9a9-b5db8d6408f4"
      },
      "outputs": [
        {
          "output_type": "stream",
          "name": "stdout",
          "text": [
            "TensorFlow version: 2.11.0\n"
          ]
        }
      ],
      "source": [
        "import tensorflow as tf\n",
        "print(\"TensorFlow version:\", tf.__version__)\n",
        "\n",
        "from tensorflow.keras.layers import Dense, Flatten, Conv2D\n",
        "from tensorflow.keras import Model"
      ]
    },
    {
      "cell_type": "markdown",
      "source": [
        "## Chargement et préparation du jeu de données"
      ],
      "metadata": {
        "id": "Pi19r2dYdFHm"
      }
    },
    {
      "cell_type": "code",
      "source": [
        "mnist = tf.keras.datasets.mnist\n",
        "\n",
        "(x_train, y_train), (x_test, y_test) = mnist.load_data()\n",
        "x_train, x_test = x_train / 255.0, x_test / 255.0\n",
        "\n",
        "# Add a channels dimension\n",
        "x_train = x_train[..., tf.newaxis].astype(\"float32\")\n",
        "x_test = x_test[..., tf.newaxis].astype(\"float32\")"
      ],
      "metadata": {
        "colab": {
          "base_uri": "https://localhost:8080/"
        },
        "id": "X9A7NZHMdPOs",
        "outputId": "e266e090-7cef-48c7-a210-bd764f7cb42d"
      },
      "execution_count": 2,
      "outputs": [
        {
          "output_type": "stream",
          "name": "stdout",
          "text": [
            "Downloading data from https://storage.googleapis.com/tensorflow/tf-keras-datasets/mnist.npz\n",
            "11490434/11490434 [==============================] - 0s 0us/step\n"
          ]
        }
      ]
    },
    {
      "cell_type": "markdown",
      "source": [
        "## Regrouper et mélanger l'ensemble des données avec `tf.data`"
      ],
      "metadata": {
        "id": "NDv0UjfVdPzi"
      }
    },
    {
      "cell_type": "code",
      "source": [
        "train_ds = tf.data.Dataset.from_tensor_slices(\n",
        "    (x_train, y_train)).shuffle(10000).batch(32)\n",
        "\n",
        "test_ds = tf.data.Dataset.from_tensor_slices((x_test, y_test)).batch(32)"
      ],
      "metadata": {
        "id": "tkAh7Z6IdcGX"
      },
      "execution_count": 3,
      "outputs": []
    },
    {
      "cell_type": "markdown",
      "source": [
        "## Construction du modèle :"
      ],
      "metadata": {
        "id": "V-9Y_uHYdebh"
      }
    },
    {
      "cell_type": "code",
      "source": [
        "class MyModel(Model):\n",
        "  def __init__(self):\n",
        "    super(MyModel, self).__init__()\n",
        "    self.conv1 = Conv2D(32, 3, activation='relu')\n",
        "    self.flatten = Flatten()\n",
        "    self.d1 = Dense(128, activation='relu')\n",
        "    self.d2 = Dense(10)\n",
        "\n",
        "  def call(self, x):\n",
        "    x = self.conv1(x)\n",
        "    x = self.flatten(x)\n",
        "    x = self.d1(x)\n",
        "    return self.d2(x)\n",
        "\n",
        "# Create an instance of the model\n",
        "model = MyModel()"
      ],
      "metadata": {
        "id": "9pJX-a60dsso"
      },
      "execution_count": 4,
      "outputs": []
    },
    {
      "cell_type": "markdown",
      "source": [
        "**Description du code :**\n",
        "\n",
        "Le code fourni est une classe MyModel qui définit un modèle de réseau de neurones convolutif en utilisant l'API Keras de TensorFlow. Le modèle est construit en définissant les couches du réseau dans la méthode `init()` et en définissant la fonction `forward pass` dans la méthode `call()`.\n",
        "\n",
        "Le modèle commence par une couche de convolution 2D avec 32 filtres de taille 3x3 et une fonction d'activation ReLU. Cette couche permet d'extraire des caractéristiques des images en entrée. Les images sont ensuite aplatis par une couche Flatten, qui transforme l'image 2D en un vecteur 1D. Cela permet aux couches denses suivantes de traiter chaque pixel de l'image de manière individuelle.\n",
        "\n",
        "Ensuite, il y a deux couches denses. La première a 128 neurones avec une fonction d'activation ReLU. Cette couche sert à capturer des relations non linéaires entre les caractéristiques extraites par la couche de convolution. La deuxième couche dense est une couche de sortie qui a 10 neurones correspondant à chaque classe possible. Cette couche n'a pas de fonction d'activation et est donc une couche de sortie linéaire.\n",
        "\n",
        "La fonction `forward pass`, définie dans la méthode `call()`, prend une image en entrée x et passe l'image à travers les couches définies précédemment en séquence. L'image est d'abord passée à travers la couche de convolution, puis aplatie et enfin passée à travers les deux couches denses. La sortie du modèle est une prédiction pour chaque classe possible.\n",
        "\n",
        "Enfin, une instance du modèle est créée en appelant simplement `MyModel()`. Cette instance peut ensuite être utilisée pour entraîner le modèle, faire des prédictions ou d'autres tâches liées à l'apprentissage automatique.\n",
        "\n",
        "**Note sur la fonction `forward pass` :**\n",
        "\n",
        "Cette fonction n'est pas explicitement définie dans le code fourni, mais elle est implémentée dans la méthode `call()` de la classe `MyModel`."
      ],
      "metadata": {
        "id": "g6wMpjLue9vM"
      }
    },
    {
      "cell_type": "markdown",
      "source": [
        "## Optimiseur et fonction de perte :"
      ],
      "metadata": {
        "id": "iNImNTief8Xs"
      }
    },
    {
      "cell_type": "code",
      "source": [
        "loss_object = tf.keras.losses.SparseCategoricalCrossentropy(from_logits=True)\n",
        "\n",
        "optimizer = tf.keras.optimizers.Adam()"
      ],
      "metadata": {
        "id": "v8ZSSOSwkH58"
      },
      "execution_count": 6,
      "outputs": []
    },
    {
      "cell_type": "markdown",
      "source": [
        "Sélectionnez des métriques pour mesurer la perte et la précision du modèle. Ces métriques accumulent les valeurs sur des époques, puis impriment le résultat global."
      ],
      "metadata": {
        "id": "kX0MP2QikIOg"
      }
    },
    {
      "cell_type": "code",
      "source": [
        "train_loss = tf.keras.metrics.Mean(name='train_loss')\n",
        "train_accuracy = tf.keras.metrics.SparseCategoricalAccuracy(name='train_accuracy')\n",
        "\n",
        "test_loss = tf.keras.metrics.Mean(name='test_loss')\n",
        "test_accuracy = tf.keras.metrics.SparseCategoricalAccuracy(name='test_accuracy')"
      ],
      "metadata": {
        "id": "z13__jQZkLu2"
      },
      "execution_count": 7,
      "outputs": []
    },
    {
      "cell_type": "markdown",
      "source": [
        "## Fonction de l'entraînement du modèle"
      ],
      "metadata": {
        "id": "GaIQzjeckQ1I"
      }
    },
    {
      "cell_type": "code",
      "source": [
        "@tf.function\n",
        "def train_step(images, labels):\n",
        "  with tf.GradientTape() as tape:\n",
        "    # training=True is only needed if there are layers with different\n",
        "    # behavior during training versus inference (e.g. Dropout).\n",
        "    predictions = model(images, training=True)\n",
        "    loss = loss_object(labels, predictions)\n",
        "  gradients = tape.gradient(loss, model.trainable_variables)\n",
        "  optimizer.apply_gradients(zip(gradients, model.trainable_variables))\n",
        "\n",
        "  train_loss(loss)\n",
        "  train_accuracy(labels, predictions)"
      ],
      "metadata": {
        "id": "mgKH8S-skiWy"
      },
      "execution_count": 8,
      "outputs": []
    },
    {
      "cell_type": "markdown",
      "source": [
        "## Test du modèle"
      ],
      "metadata": {
        "id": "SxcXXJM1kiqu"
      }
    },
    {
      "cell_type": "code",
      "source": [
        "@tf.function\n",
        "def test_step(images, labels):\n",
        "  # training=False is only needed if there are layers with different\n",
        "  # behavior during training versus inference (e.g. Dropout).\n",
        "  predictions = model(images, training=False)\n",
        "  t_loss = loss_object(labels, predictions)\n",
        "\n",
        "  test_loss(t_loss)\n",
        "  test_accuracy(labels, predictions)"
      ],
      "metadata": {
        "id": "Z-t_aQgXkx3C"
      },
      "execution_count": 9,
      "outputs": []
    },
    {
      "cell_type": "markdown",
      "source": [
        "## Entraînement et résultats"
      ],
      "metadata": {
        "id": "53A67X8BkyIC"
      }
    },
    {
      "cell_type": "code",
      "source": [
        "EPOCHS = 5\n",
        "\n",
        "for epoch in range(EPOCHS):\n",
        "  # Reset the metrics at the start of the next epoch\n",
        "  train_loss.reset_states()\n",
        "  train_accuracy.reset_states()\n",
        "  test_loss.reset_states()\n",
        "  test_accuracy.reset_states()\n",
        "\n",
        "  for images, labels in train_ds:\n",
        "    train_step(images, labels)\n",
        "\n",
        "  for test_images, test_labels in test_ds:\n",
        "    test_step(test_images, test_labels)\n",
        "\n",
        "  print(\n",
        "    f'Epoch {epoch + 1}, '\n",
        "    f'Loss: {train_loss.result()}, '\n",
        "    f'Accuracy: {train_accuracy.result() * 100}, '\n",
        "    f'Test Loss: {test_loss.result()}, '\n",
        "    f'Test Accuracy: {test_accuracy.result() * 100}'\n",
        "  )"
      ],
      "metadata": {
        "colab": {
          "base_uri": "https://localhost:8080/"
        },
        "id": "X5eThJiQk7fM",
        "outputId": "7a51707a-04a2-4f8f-f6a3-98177a083cfd"
      },
      "execution_count": 10,
      "outputs": [
        {
          "output_type": "stream",
          "name": "stdout",
          "text": [
            "Epoch 1, Loss: 0.13146920502185822, Accuracy: 96.00166320800781, Test Loss: 0.0624612495303154, Test Accuracy: 97.91999816894531\n",
            "Epoch 2, Loss: 0.042922403663396835, Accuracy: 98.71833038330078, Test Loss: 0.057095084339380264, Test Accuracy: 98.25\n",
            "Epoch 3, Loss: 0.02206437662243843, Accuracy: 99.30166625976562, Test Loss: 0.05220847204327583, Test Accuracy: 98.29000091552734\n",
            "Epoch 4, Loss: 0.013128746300935745, Accuracy: 99.54000091552734, Test Loss: 0.05968405306339264, Test Accuracy: 98.25999450683594\n",
            "Epoch 5, Loss: 0.009351237677037716, Accuracy: 99.67832946777344, Test Loss: 0.06117056682705879, Test Accuracy: 98.40999603271484\n"
          ]
        }
      ]
    }
  ]
}