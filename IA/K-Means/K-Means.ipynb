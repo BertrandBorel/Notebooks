{
 "cells": [
  {
   "cell_type": "markdown",
   "id": "bdb06c96",
   "metadata": {},
   "source": [
    "# <center> K-Means  </center>\n",
    "\n",
    "\n",
    "\n",
    "**Source :** Aurélien Vannieuwenhuyze, *Intelligence artificielle vulgarisée, le Machine Learning et le Deep Learning par la pratique*, ENI, Paris, 2019, p.251-262\n",
    "\n",
    "**Objectif :**\n",
    "    \n",
    "Nous avons deux sortes de fruits, des abricots et des cerises : nous allons entraîner un modèle pour différencier et classer les fruits.\n",
    "\n",
    "L'algorithme K-Means est un algorithme non supervisé, qui procède par *clustering*."
   ]
  },
  {
   "cell_type": "markdown",
   "id": "b93c4825",
   "metadata": {},
   "source": [
    "## Importations"
   ]
  },
  {
   "cell_type": "code",
   "execution_count": 74,
   "id": "13cd6082",
   "metadata": {},
   "outputs": [],
   "source": [
    "import pandas as pd\n",
    "import random\n",
    "import matplotlib.pyplot as plt\n",
    "#Suppression des erreurs de type warning\n",
    "import warnings\n",
    "warnings.filterwarnings('ignore')"
   ]
  },
  {
   "cell_type": "markdown",
   "id": "d97a2048",
   "metadata": {},
   "source": [
    "## Préparation des données\n",
    "\n",
    "Nous générons notre propre jeu de données. Nous définissons d'abord les caractéristiques propres aux fruits."
   ]
  },
  {
   "cell_type": "code",
   "execution_count": 75,
   "id": "f2b18782",
   "metadata": {},
   "outputs": [],
   "source": [
    "# Caractéristiques des cerises :\n",
    "# diamètre minimal, diamètre maximal, poids minimal, poids maximal\n",
    "carac_cerise = [ [17, 19, 1, 5], [20 , 21 , 5 , 6], [22, 23 , 6 , 7], \n",
    "                [24, 25, 7, 8.5], [26, 27, 8.5, 10], [28 , 29 , 10, 11.5] ]\n",
    "\n",
    "# Caractéristiques des abricots :\n",
    "# diamètre minimal, diamètre maximal, poids moyen\n",
    "carac_abricot = [ [40, 44 , 41], [45, 49 , 54], [50, 54 , 74], [55, 59 , 100] ]"
   ]
  },
  {
   "cell_type": "markdown",
   "id": "941a50da",
   "metadata": {},
   "source": [
    "### Génération des données"
   ]
  },
  {
   "cell_type": "code",
   "execution_count": 76,
   "id": "10f94da3",
   "metadata": {},
   "outputs": [],
   "source": [
    "# notre nombre d'observations\n",
    "nb_fruits = 2000"
   ]
  },
  {
   "cell_type": "markdown",
   "id": "663bc682",
   "metadata": {},
   "source": [
    "### Génération des cerises"
   ]
  },
  {
   "cell_type": "code",
   "execution_count": 77,
   "id": "09d2dcf7",
   "metadata": {},
   "outputs": [],
   "source": [
    "cerises = []\n",
    "random.seed()\n",
    "\n",
    "for iteration in range(nb_fruits):\n",
    "    \n",
    "    # choix au hasard d' une caractéristique\n",
    "    cerise= random.choice(carac_cerise)\n",
    "    \n",
    "    # Génération d' un diamètre\n",
    "    diametre = round(random . uniform(cerise[0] , cerise[1]) , 2)\n",
    "    \n",
    "    # Génération d'un poids\n",
    "    poids= round(random.uniform(cerise[2] , cerise[3]),2)\n",
    "    \n",
    "#     print (\"Cerise \" +str(iteration)+\" \" +str(cerise)+ \" : \" + str(diametre)+ \" - \"+str(poids))\n",
    "    cerises.append([diametre,poids])"
   ]
  },
  {
   "cell_type": "markdown",
   "id": "8a4e272e",
   "metadata": {},
   "source": [
    "### Génération des abricots"
   ]
  },
  {
   "cell_type": "code",
   "execution_count": 78,
   "id": "1628dec7",
   "metadata": {},
   "outputs": [],
   "source": [
    "abricots = []\n",
    "random.seed ()\n",
    "\n",
    "for iteration in range(nb_fruits):\n",
    "    \n",
    "    #choix au hasard d'une caractéristique\n",
    "    abricot= random.choice(carac_abricot)\n",
    "    \n",
    "    #Génération d'un diamètre\n",
    "    diametre = round(random.uniform(abricot[0] , abricot[1]),2)\n",
    "    \n",
    "    #Génération d'un poids compris entre -10% et + 10 % du poids moyen\n",
    "    borneMinPoids = abricot[2] / 1.10 \n",
    "    borneMaxPoids = abricot[2] * 1.10\n",
    "    poids= round(random.uniform(borneMinPoids , borneMaxPoids), 2)\n",
    "    \n",
    "#     print(\"Abricot \" +str(iteration)+\" \"+str(abricot)+ \" : \" + str(diametre) + \"- \" + str(poids))\n",
    "    abricots.append([diametre , poids])"
   ]
  },
  {
   "cell_type": "markdown",
   "id": "888fca0c",
   "metadata": {},
   "source": [
    "### Concaténation des données"
   ]
  },
  {
   "cell_type": "code",
   "execution_count": 79,
   "id": "e984922a",
   "metadata": {},
   "outputs": [],
   "source": [
    "# Constitution des observations\n",
    "fruits = cerises+abricots\n",
    "# print(fruits)"
   ]
  },
  {
   "cell_type": "markdown",
   "id": "d327459d",
   "metadata": {},
   "source": [
    "### Conversion en df puis en csv"
   ]
  },
  {
   "cell_type": "code",
   "execution_count": 21,
   "id": "9b718772",
   "metadata": {},
   "outputs": [],
   "source": [
    "#Mélange des observations\n",
    "random.shuffle(fruits)\n",
    "\n",
    "# conversion en df\n",
    "my_df = pd.DataFrame(fruits)\n",
    "my_df.to_csv(\"fruits.csv\", index=False , header=False)"
   ]
  },
  {
   "cell_type": "markdown",
   "id": "0aa4fa0b",
   "metadata": {},
   "source": [
    "## Chargement des données"
   ]
  },
  {
   "cell_type": "code",
   "execution_count": 24,
   "id": "a7695597",
   "metadata": {},
   "outputs": [
    {
     "data": {
      "text/html": [
       "<div>\n",
       "<style scoped>\n",
       "    .dataframe tbody tr th:only-of-type {\n",
       "        vertical-align: middle;\n",
       "    }\n",
       "\n",
       "    .dataframe tbody tr th {\n",
       "        vertical-align: top;\n",
       "    }\n",
       "\n",
       "    .dataframe thead th {\n",
       "        text-align: right;\n",
       "    }\n",
       "</style>\n",
       "<table border=\"1\" class=\"dataframe\">\n",
       "  <thead>\n",
       "    <tr style=\"text-align: right;\">\n",
       "      <th></th>\n",
       "      <th>DIAMETRE</th>\n",
       "      <th>POIDS</th>\n",
       "    </tr>\n",
       "  </thead>\n",
       "  <tbody>\n",
       "    <tr>\n",
       "      <th>0</th>\n",
       "      <td>24.90</td>\n",
       "      <td>8.33</td>\n",
       "    </tr>\n",
       "    <tr>\n",
       "      <th>1</th>\n",
       "      <td>58.93</td>\n",
       "      <td>97.83</td>\n",
       "    </tr>\n",
       "    <tr>\n",
       "      <th>2</th>\n",
       "      <td>28.62</td>\n",
       "      <td>10.90</td>\n",
       "    </tr>\n",
       "    <tr>\n",
       "      <th>3</th>\n",
       "      <td>47.05</td>\n",
       "      <td>50.26</td>\n",
       "    </tr>\n",
       "    <tr>\n",
       "      <th>4</th>\n",
       "      <td>50.88</td>\n",
       "      <td>76.77</td>\n",
       "    </tr>\n",
       "  </tbody>\n",
       "</table>\n",
       "</div>"
      ],
      "text/plain": [
       "   DIAMETRE  POIDS\n",
       "0     24.90   8.33\n",
       "1     58.93  97.83\n",
       "2     28.62  10.90\n",
       "3     47.05  50.26\n",
       "4     50.88  76.77"
      ]
     },
     "execution_count": 24,
     "metadata": {},
     "output_type": "execute_result"
    }
   ],
   "source": [
    "df = pd.read_csv(\"fruits.csv\", names=['DIAMETRE', 'POIDS'], header=None)\n",
    "df.head()"
   ]
  },
  {
   "cell_type": "markdown",
   "id": "980919b3",
   "metadata": {},
   "source": [
    "## Visualisation des données"
   ]
  },
  {
   "cell_type": "code",
   "execution_count": 52,
   "id": "f2f80931",
   "metadata": {},
   "outputs": [
    {
     "data": {
      "image/png": "[encoded data removed]",
      "text/plain": [
       "<Figure size 432x288 with 1 Axes>"
      ]
     },
     "metadata": {
      "needs_background": "light"
     },
     "output_type": "display_data"
    }
   ],
   "source": [
    "df.plot.scatter(x=\"DIAMETRE\", y=\"POIDS\" )\n",
    "plt.show()"
   ]
  },
  {
   "cell_type": "markdown",
   "id": "4c8d5f3f",
   "metadata": {},
   "source": [
    "## Entraînement du modèle"
   ]
  },
  {
   "cell_type": "code",
   "execution_count": 30,
   "id": "d9550a2a",
   "metadata": {},
   "outputs": [],
   "source": [
    "from sklearn.cluster import KMeans\n",
    "\n",
    "modele = KMeans(n_clusters=2)"
   ]
  },
  {
   "cell_type": "code",
   "execution_count": 31,
   "id": "7a0cde4b",
   "metadata": {},
   "outputs": [
    {
     "data": {
      "text/html": [
       "<style>#sk-container-id-1 {color: black;background-color: white;}#sk-container-id-1 pre{padding: 0;}#sk-container-id-1 div.sk-toggleable {background-color: white;}#sk-container-id-1 label.sk-toggleable__label {cursor: pointer;display: block;width: 100%;margin-bottom: 0;padding: 0.3em;box-sizing: border-box;text-align: center;}#sk-container-id-1 label.sk-toggleable__label-arrow:before {content: \"▸\";float: left;margin-right: 0.25em;color: #696969;}#sk-container-id-1 label.sk-toggleable__label-arrow:hover:before {color: black;}#sk-container-id-1 div.sk-estimator:hover label.sk-toggleable__label-arrow:before {color: black;}#sk-container-id-1 div.sk-toggleable__content {max-height: 0;max-width: 0;overflow: hidden;text-align: left;background-color: #f0f8ff;}#sk-container-id-1 div.sk-toggleable__content pre {margin: 0.2em;color: black;border-radius: 0.25em;background-color: #f0f8ff;}#sk-container-id-1 input.sk-toggleable__control:checked~div.sk-toggleable__content {max-height: 200px;max-width: 100%;overflow: auto;}#sk-container-id-1 input.sk-toggleable__control:checked~label.sk-toggleable__label-arrow:before {content: \"▾\";}#sk-container-id-1 div.sk-estimator input.sk-toggleable__control:checked~label.sk-toggleable__label {background-color: #d4ebff;}#sk-container-id-1 div.sk-label input.sk-toggleable__control:checked~label.sk-toggleable__label {background-color: #d4ebff;}#sk-container-id-1 input.sk-hidden--visually {border: 0;clip: rect(1px 1px 1px 1px);clip: rect(1px, 1px, 1px, 1px);height: 1px;margin: -1px;overflow: hidden;padding: 0;position: absolute;width: 1px;}#sk-container-id-1 div.sk-estimator {font-family: monospace;background-color: #f0f8ff;border: 1px dotted black;border-radius: 0.25em;box-sizing: border-box;margin-bottom: 0.5em;}#sk-container-id-1 div.sk-estimator:hover {background-color: #d4ebff;}#sk-container-id-1 div.sk-parallel-item::after {content: \"\";width: 100%;border-bottom: 1px solid gray;flex-grow: 1;}#sk-container-id-1 div.sk-label:hover label.sk-toggleable__label {background-color: #d4ebff;}#sk-container-id-1 div.sk-serial::before {content: \"\";position: absolute;border-left: 1px solid gray;box-sizing: border-box;top: 0;bottom: 0;left: 50%;z-index: 0;}#sk-container-id-1 div.sk-serial {display: flex;flex-direction: column;align-items: center;background-color: white;padding-right: 0.2em;padding-left: 0.2em;position: relative;}#sk-container-id-1 div.sk-item {position: relative;z-index: 1;}#sk-container-id-1 div.sk-parallel {display: flex;align-items: stretch;justify-content: center;background-color: white;position: relative;}#sk-container-id-1 div.sk-item::before, #sk-container-id-1 div.sk-parallel-item::before {content: \"\";position: absolute;border-left: 1px solid gray;box-sizing: border-box;top: 0;bottom: 0;left: 50%;z-index: -1;}#sk-container-id-1 div.sk-parallel-item {display: flex;flex-direction: column;z-index: 1;position: relative;background-color: white;}#sk-container-id-1 div.sk-parallel-item:first-child::after {align-self: flex-end;width: 50%;}#sk-container-id-1 div.sk-parallel-item:last-child::after {align-self: flex-start;width: 50%;}#sk-container-id-1 div.sk-parallel-item:only-child::after {width: 0;}#sk-container-id-1 div.sk-dashed-wrapped {border: 1px dashed gray;margin: 0 0.4em 0.5em 0.4em;box-sizing: border-box;padding-bottom: 0.4em;background-color: white;}#sk-container-id-1 div.sk-label label {font-family: monospace;font-weight: bold;display: inline-block;line-height: 1.2em;}#sk-container-id-1 div.sk-label-container {text-align: center;}#sk-container-id-1 div.sk-container {/* jupyter's `normalize.less` sets `[hidden] { display: none; }` but bootstrap.min.css set `[hidden] { display: none !important; }` so we also need the `!important` here to be able to override the default hidden behavior on the sphinx rendered scikit-learn.org. See: https://github.com/scikit-learn/scikit-learn/issues/21755 */display: inline-block !important;position: relative;}#sk-container-id-1 div.sk-text-repr-fallback {display: none;}</style><div id=\"sk-container-id-1\" class=\"sk-top-container\"><div class=\"sk-text-repr-fallback\"><pre>KMeans(n_clusters=2)</pre><b>In a Jupyter environment, please rerun this cell to show the HTML representation or trust the notebook. <br />On GitHub, the HTML representation is unable to render, please try loading this page with nbviewer.org.</b></div><div class=\"sk-container\" hidden><div class=\"sk-item\"><div class=\"sk-estimator sk-toggleable\"><input class=\"sk-toggleable__control sk-hidden--visually\" id=\"sk-estimator-id-1\" type=\"checkbox\" checked><label for=\"sk-estimator-id-1\" class=\"sk-toggleable__label sk-toggleable__label-arrow\">KMeans</label><div class=\"sk-toggleable__content\"><pre>KMeans(n_clusters=2)</pre></div></div></div></div></div>"
      ],
      "text/plain": [
       "KMeans(n_clusters=2)"
      ]
     },
     "execution_count": 31,
     "metadata": {},
     "output_type": "execute_result"
    }
   ],
   "source": [
    "# apprentissage\n",
    "modele.fit(df)"
   ]
  },
  {
   "cell_type": "markdown",
   "id": "c7fbd577",
   "metadata": {},
   "source": [
    "## Prédiction"
   ]
  },
  {
   "cell_type": "code",
   "execution_count": 32,
   "id": "fa007650",
   "metadata": {},
   "outputs": [],
   "source": [
    "predictions_kmeans = modele.predict(df)"
   ]
  },
  {
   "cell_type": "markdown",
   "id": "12c5ceea",
   "metadata": {},
   "source": [
    "## Visualisation"
   ]
  },
  {
   "cell_type": "code",
   "execution_count": 39,
   "id": "0d5f2f02",
   "metadata": {},
   "outputs": [
    {
     "data": {
      "image/png": "[encoded data removed]",
      "text/plain": [
       "<Figure size 432x288 with 1 Axes>"
      ]
     },
     "metadata": {
      "needs_background": "light"
     },
     "output_type": "display_data"
    }
   ],
   "source": [
    "#Affichage de la clusterisation\n",
    "plt.scatter(df.DIAMETRE, df.POIDS , c=predictions_kmeans , s=50, cmap= 'viridis' )\n",
    "plt.xlabel(\"Diamètre\")\n",
    "plt.ylabel(\"Poids\")\n",
    "\n",
    "#Affichage des centroïdes\n",
    "centers = modele.cluster_centers_\n",
    "plt.scatter(centers[:, 0] , centers[:, 1 ], c='red', s=200 , alpha=0.5)\n",
    "plt.show()"
   ]
  },
  {
   "cell_type": "markdown",
   "id": "2105a2ef",
   "metadata": {},
   "source": [
    "Les centroïdes sont correctement placés, la classification est correcte."
   ]
  },
  {
   "cell_type": "markdown",
   "id": "1476c934",
   "metadata": {},
   "source": [
    "## Enregistrement du modèle"
   ]
  },
  {
   "cell_type": "code",
   "execution_count": 42,
   "id": "635eedfe",
   "metadata": {},
   "outputs": [
    {
     "data": {
      "text/plain": [
       "['kmean.joblib']"
      ]
     },
     "execution_count": 42,
     "metadata": {},
     "output_type": "execute_result"
    }
   ],
   "source": [
    "from joblib import dump\n",
    "\n",
    "dump(modele, 'kmean.joblib')"
   ]
  },
  {
   "cell_type": "markdown",
   "id": "e7dd33a1",
   "metadata": {},
   "source": [
    "---\n",
    "\n",
    "## Utilisation du modèle"
   ]
  },
  {
   "cell_type": "markdown",
   "id": "d7b051d1",
   "metadata": {},
   "source": [
    "### Chargement du modèle"
   ]
  },
  {
   "cell_type": "code",
   "execution_count": 43,
   "id": "cd5c301b",
   "metadata": {},
   "outputs": [],
   "source": [
    "from joblib import load\n",
    "modele=load('kmean.joblib')"
   ]
  },
  {
   "cell_type": "markdown",
   "id": "27b12d76",
   "metadata": {},
   "source": [
    "### Détermination des groupes"
   ]
  },
  {
   "cell_type": "code",
   "execution_count": 56,
   "id": "448767a8",
   "metadata": {},
   "outputs": [
    {
     "name": "stdout",
     "output_type": "stream",
     "text": [
      "Numéro de cluster des cerises : [0]\n",
      "Numéro de cluster des abricots: [1]\n"
     ]
    }
   ],
   "source": [
    "#CERISE : 26 . 98 mm de diamètre , 8 . 75 grammes\n",
    "#ABRICOT : 55 . 7 mm de diamètre , 102 .16 grammes\n",
    "\n",
    "cerise= [[26.98, 8.75]]\n",
    "numCluster = modele.predict(cerise)\n",
    "print( \"Numéro de cluster des cerises : \"+ str(numCluster))\n",
    "\n",
    "abricot= [[55.7, 102.16]]\n",
    "numCluster = modele.predict(abricot)\n",
    "print( \"Numéro de cluster des abricots: \" + str(numCluster))"
   ]
  },
  {
   "cell_type": "code",
   "execution_count": 60,
   "id": "be73cc26",
   "metadata": {},
   "outputs": [
    {
     "name": "stdout",
     "output_type": "stream",
     "text": [
      "C'est une cerise !\n"
     ]
    }
   ],
   "source": [
    "cerise= [[26.98, 8.75]]\n",
    "numCluster = modele.predict(cerise)\n",
    "if int(numCluster)== 1 :\n",
    "    print(\"C'est un abricot !\")\n",
    "else:\n",
    "    print(\"C'est une cerise !\")"
   ]
  },
  {
   "cell_type": "code",
   "execution_count": 61,
   "id": "c4a8d42f",
   "metadata": {},
   "outputs": [
    {
     "name": "stdout",
     "output_type": "stream",
     "text": [
      "C'est un abricot !\n"
     ]
    }
   ],
   "source": [
    "abricot= [[55.7, 102.16]]\n",
    "numCluster = modele.predict(abricot)\n",
    "if int(numCluster)== 1 :\n",
    "    print(\"C'est un abricot !\")\n",
    "else:\n",
    "    print(\"C'est une cerise !\")"
   ]
  },
  {
   "cell_type": "markdown",
   "id": "a9e21422",
   "metadata": {},
   "source": [
    "## Modification des données \n",
    "\n",
    "Ajout d'une caractéristique aux abricots."
   ]
  },
  {
   "cell_type": "code",
   "execution_count": 62,
   "id": "740bf6fa",
   "metadata": {},
   "outputs": [],
   "source": [
    "# Caractéristiques des cerises :\n",
    "# diamètre minimal, diamètre maximal, poids minimal, poids maximal\n",
    "carac_cerise = [ [17, 19, 1, 5], [20 , 21 , 5 , 6], [22, 23 , 6 , 7], \n",
    "                [24, 25, 7, 8.5], [26, 27, 8.5, 10], [28 , 29 , 10, 11.5] ]\n",
    "\n",
    "# Caractéristiques des abricots :\n",
    "# diamètre minimal, diamètre maximal, poids moyen\n",
    "carac_abricot = [ [35,39,27], [40, 44 , 41], [45, 49 , 54], [50, 54 , 74], [55, 59 , 100] ]"
   ]
  },
  {
   "cell_type": "code",
   "execution_count": 63,
   "id": "a60d82e4",
   "metadata": {},
   "outputs": [],
   "source": [
    "# notre nombre d'observations\n",
    "nb_fruits = 2000\n",
    "\n",
    "# génération des cerises :\n",
    "cerises = []\n",
    "random.seed()\n",
    "\n",
    "for iteration in range(nb_fruits):    \n",
    "    # choix au hasard d' une caractéristique\n",
    "    cerise= random.choice(carac_cerise)\n",
    "    # Génération d' un diamètre\n",
    "    diametre = round(random . uniform(cerise[0] , cerise[1]) , 2) \n",
    "    # Génération d'un poids\n",
    "    poids= round(random.uniform(cerise[2] , cerise[3]),2)\n",
    "    cerises.append([diametre,poids])\n",
    "    \n",
    "# génération des abricots\n",
    "abricots = []\n",
    "random.seed ()\n",
    "\n",
    "for iteration in range(nb_fruits):\n",
    "    #choix au hasard d'une caractéristique\n",
    "    abricot= random.choice(carac_abricot)\n",
    "    #Génération d'un diamètre\n",
    "    diametre = round(random.uniform(abricot[0] , abricot[1]),2)\n",
    "    #Génération d'un poids compris entre -10% et + 10 % du poids moyen\n",
    "    borneMinPoids = abricot[2] / 1.10 \n",
    "    borneMaxPoids = abricot[2] * 1.10\n",
    "    poids= round(random.uniform(borneMinPoids , borneMaxPoids), 2)\n",
    "    abricots.append([diametre , poids])"
   ]
  },
  {
   "cell_type": "code",
   "execution_count": 66,
   "id": "0c47152a",
   "metadata": {},
   "outputs": [
    {
     "data": {
      "text/html": [
       "<div>\n",
       "<style scoped>\n",
       "    .dataframe tbody tr th:only-of-type {\n",
       "        vertical-align: middle;\n",
       "    }\n",
       "\n",
       "    .dataframe tbody tr th {\n",
       "        vertical-align: top;\n",
       "    }\n",
       "\n",
       "    .dataframe thead th {\n",
       "        text-align: right;\n",
       "    }\n",
       "</style>\n",
       "<table border=\"1\" class=\"dataframe\">\n",
       "  <thead>\n",
       "    <tr style=\"text-align: right;\">\n",
       "      <th></th>\n",
       "      <th>DIAMETRE</th>\n",
       "      <th>POIDS</th>\n",
       "    </tr>\n",
       "  </thead>\n",
       "  <tbody>\n",
       "    <tr>\n",
       "      <th>0</th>\n",
       "      <td>52.07</td>\n",
       "      <td>78.55</td>\n",
       "    </tr>\n",
       "    <tr>\n",
       "      <th>1</th>\n",
       "      <td>45.86</td>\n",
       "      <td>56.89</td>\n",
       "    </tr>\n",
       "    <tr>\n",
       "      <th>2</th>\n",
       "      <td>48.40</td>\n",
       "      <td>51.90</td>\n",
       "    </tr>\n",
       "    <tr>\n",
       "      <th>3</th>\n",
       "      <td>51.72</td>\n",
       "      <td>76.76</td>\n",
       "    </tr>\n",
       "    <tr>\n",
       "      <th>4</th>\n",
       "      <td>48.21</td>\n",
       "      <td>49.55</td>\n",
       "    </tr>\n",
       "  </tbody>\n",
       "</table>\n",
       "</div>"
      ],
      "text/plain": [
       "   DIAMETRE  POIDS\n",
       "0     52.07  78.55\n",
       "1     45.86  56.89\n",
       "2     48.40  51.90\n",
       "3     51.72  76.76\n",
       "4     48.21  49.55"
      ]
     },
     "execution_count": 66,
     "metadata": {},
     "output_type": "execute_result"
    }
   ],
   "source": [
    "# Concaténation des données\n",
    "fruits = cerises+abricots\n",
    "#Mélange des observations\n",
    "random.shuffle(fruits)\n",
    "# conversion en df\n",
    "my_df = pd.DataFrame(fruits)\n",
    "my_df.to_csv(\"fruits_1.csv\", index=False , header=False)\n",
    "# Chargement des données\n",
    "df = pd.read_csv(\"fruits_1.csv\", names=['DIAMETRE', 'POIDS'], header=None)\n",
    "df.head()"
   ]
  },
  {
   "cell_type": "markdown",
   "id": "cdfac05f",
   "metadata": {},
   "source": [
    "## Visualisation des données"
   ]
  },
  {
   "cell_type": "code",
   "execution_count": 67,
   "id": "7e7e3d36",
   "metadata": {},
   "outputs": [
    {
     "data": {
      "image/png": "[encoded data removed]",
      "text/plain": [
       "<Figure size 432x288 with 1 Axes>"
      ]
     },
     "metadata": {
      "needs_background": "light"
     },
     "output_type": "display_data"
    }
   ],
   "source": [
    "df.plot.scatter(x=\"DIAMETRE\", y=\"POIDS\" )\n",
    "plt.show()"
   ]
  },
  {
   "cell_type": "markdown",
   "id": "69344ee0",
   "metadata": {},
   "source": [
    "## Entraînement du modèle"
   ]
  },
  {
   "cell_type": "code",
   "execution_count": 69,
   "id": "e74eab59",
   "metadata": {},
   "outputs": [
    {
     "data": {
      "text/html": [
       "<style>#sk-container-id-2 {color: black;background-color: white;}#sk-container-id-2 pre{padding: 0;}#sk-container-id-2 div.sk-toggleable {background-color: white;}#sk-container-id-2 label.sk-toggleable__label {cursor: pointer;display: block;width: 100%;margin-bottom: 0;padding: 0.3em;box-sizing: border-box;text-align: center;}#sk-container-id-2 label.sk-toggleable__label-arrow:before {content: \"▸\";float: left;margin-right: 0.25em;color: #696969;}#sk-container-id-2 label.sk-toggleable__label-arrow:hover:before {color: black;}#sk-container-id-2 div.sk-estimator:hover label.sk-toggleable__label-arrow:before {color: black;}#sk-container-id-2 div.sk-toggleable__content {max-height: 0;max-width: 0;overflow: hidden;text-align: left;background-color: #f0f8ff;}#sk-container-id-2 div.sk-toggleable__content pre {margin: 0.2em;color: black;border-radius: 0.25em;background-color: #f0f8ff;}#sk-container-id-2 input.sk-toggleable__control:checked~div.sk-toggleable__content {max-height: 200px;max-width: 100%;overflow: auto;}#sk-container-id-2 input.sk-toggleable__control:checked~label.sk-toggleable__label-arrow:before {content: \"▾\";}#sk-container-id-2 div.sk-estimator input.sk-toggleable__control:checked~label.sk-toggleable__label {background-color: #d4ebff;}#sk-container-id-2 div.sk-label input.sk-toggleable__control:checked~label.sk-toggleable__label {background-color: #d4ebff;}#sk-container-id-2 input.sk-hidden--visually {border: 0;clip: rect(1px 1px 1px 1px);clip: rect(1px, 1px, 1px, 1px);height: 1px;margin: -1px;overflow: hidden;padding: 0;position: absolute;width: 1px;}#sk-container-id-2 div.sk-estimator {font-family: monospace;background-color: #f0f8ff;border: 1px dotted black;border-radius: 0.25em;box-sizing: border-box;margin-bottom: 0.5em;}#sk-container-id-2 div.sk-estimator:hover {background-color: #d4ebff;}#sk-container-id-2 div.sk-parallel-item::after {content: \"\";width: 100%;border-bottom: 1px solid gray;flex-grow: 1;}#sk-container-id-2 div.sk-label:hover label.sk-toggleable__label {background-color: #d4ebff;}#sk-container-id-2 div.sk-serial::before {content: \"\";position: absolute;border-left: 1px solid gray;box-sizing: border-box;top: 0;bottom: 0;left: 50%;z-index: 0;}#sk-container-id-2 div.sk-serial {display: flex;flex-direction: column;align-items: center;background-color: white;padding-right: 0.2em;padding-left: 0.2em;position: relative;}#sk-container-id-2 div.sk-item {position: relative;z-index: 1;}#sk-container-id-2 div.sk-parallel {display: flex;align-items: stretch;justify-content: center;background-color: white;position: relative;}#sk-container-id-2 div.sk-item::before, #sk-container-id-2 div.sk-parallel-item::before {content: \"\";position: absolute;border-left: 1px solid gray;box-sizing: border-box;top: 0;bottom: 0;left: 50%;z-index: -1;}#sk-container-id-2 div.sk-parallel-item {display: flex;flex-direction: column;z-index: 1;position: relative;background-color: white;}#sk-container-id-2 div.sk-parallel-item:first-child::after {align-self: flex-end;width: 50%;}#sk-container-id-2 div.sk-parallel-item:last-child::after {align-self: flex-start;width: 50%;}#sk-container-id-2 div.sk-parallel-item:only-child::after {width: 0;}#sk-container-id-2 div.sk-dashed-wrapped {border: 1px dashed gray;margin: 0 0.4em 0.5em 0.4em;box-sizing: border-box;padding-bottom: 0.4em;background-color: white;}#sk-container-id-2 div.sk-label label {font-family: monospace;font-weight: bold;display: inline-block;line-height: 1.2em;}#sk-container-id-2 div.sk-label-container {text-align: center;}#sk-container-id-2 div.sk-container {/* jupyter's `normalize.less` sets `[hidden] { display: none; }` but bootstrap.min.css set `[hidden] { display: none !important; }` so we also need the `!important` here to be able to override the default hidden behavior on the sphinx rendered scikit-learn.org. See: https://github.com/scikit-learn/scikit-learn/issues/21755 */display: inline-block !important;position: relative;}#sk-container-id-2 div.sk-text-repr-fallback {display: none;}</style><div id=\"sk-container-id-2\" class=\"sk-top-container\"><div class=\"sk-text-repr-fallback\"><pre>KMeans(n_clusters=2)</pre><b>In a Jupyter environment, please rerun this cell to show the HTML representation or trust the notebook. <br />On GitHub, the HTML representation is unable to render, please try loading this page with nbviewer.org.</b></div><div class=\"sk-container\" hidden><div class=\"sk-item\"><div class=\"sk-estimator sk-toggleable\"><input class=\"sk-toggleable__control sk-hidden--visually\" id=\"sk-estimator-id-2\" type=\"checkbox\" checked><label for=\"sk-estimator-id-2\" class=\"sk-toggleable__label sk-toggleable__label-arrow\">KMeans</label><div class=\"sk-toggleable__content\"><pre>KMeans(n_clusters=2)</pre></div></div></div></div></div>"
      ],
      "text/plain": [
       "KMeans(n_clusters=2)"
      ]
     },
     "execution_count": 69,
     "metadata": {},
     "output_type": "execute_result"
    }
   ],
   "source": [
    "from sklearn.cluster import KMeans\n",
    "\n",
    "modele = KMeans(n_clusters=2)\n",
    "modele.fit(df)"
   ]
  },
  {
   "cell_type": "code",
   "execution_count": 70,
   "id": "4960f0ac",
   "metadata": {},
   "outputs": [],
   "source": [
    "# prédiction\n",
    "predictions_kmeans = modele.predict(df)"
   ]
  },
  {
   "cell_type": "markdown",
   "id": "7d34e6f8",
   "metadata": {},
   "source": [
    "## Visualisation"
   ]
  },
  {
   "cell_type": "code",
   "execution_count": 71,
   "id": "9d64fd5f",
   "metadata": {},
   "outputs": [
    {
     "data": {
      "image/png": "[encoded data removed]",
      "text/plain": [
       "<Figure size 432x288 with 1 Axes>"
      ]
     },
     "metadata": {
      "needs_background": "light"
     },
     "output_type": "display_data"
    }
   ],
   "source": [
    "#Affichage de la clusterisation\n",
    "plt.scatter(df.DIAMETRE, df.POIDS , c=predictions_kmeans , s=50, cmap= 'viridis' )\n",
    "plt.xlabel(\"Diamètre\")\n",
    "plt.ylabel(\"Poids\")\n",
    "\n",
    "#Affichage des centroïdes\n",
    "centers = modele.cluster_centers_\n",
    "plt.scatter(centers[:, 0] , centers[:, 1 ], c='red', s=200 , alpha=0.5)\n",
    "plt.show()"
   ]
  },
  {
   "cell_type": "markdown",
   "id": "ed5d4984",
   "metadata": {},
   "source": [
    "On constate une erreur dans la classification : des abricots sont devenus des cerises. Les nouvelles données sont perçues comme plus proche du cluster \"cerise\" que du cluster \"abricot\". Il peut être intéressant d'utiliser une autre méthode pour classifier correctement nos fruits.\n",
    "\n",
    "## Algo GMM (Mélange gaussien) \n",
    "\n",
    "Permet de déterminer les différents clusters en séparant les données contenues dans les différentes courbes en forme de cloche (cf : visualisation en 3D).\n",
    "\n",
    "L'algorithme détermine pour chaque cluster une moyenne et une variance, puis pour chaque observation il détermine une probabilité d'appartenir ou non à ce cluster."
   ]
  },
  {
   "cell_type": "code",
   "execution_count": 72,
   "id": "a92b82a9",
   "metadata": {},
   "outputs": [
    {
     "data": {
      "image/png": "[encoded data removed]",
      "text/plain": [
       "<Figure size 432x288 with 1 Axes>"
      ]
     },
     "metadata": {
      "needs_background": "light"
     },
     "output_type": "display_data"
    }
   ],
   "source": [
    "from sklearn import mixture\n",
    "\n",
    "#Détermination des clusters (2 à trouver)\n",
    "gmm = mixture . GaussianMixture(n_components=2)\n",
    "\n",
    "#Apprentissage\n",
    "gmm.fit(df)\n",
    "\n",
    "#Classification\n",
    "clusters = gmm.predict(df)\n",
    "\n",
    "#Affichage des clusters\n",
    "plt.scatter(df.DIAMETRE, df.POIDS , c=clusters , s=40 , cmap= 'viridis' ) ;\n",
    "plt.xlabel (\"DIAMETRE\")\n",
    "plt.ylabel(\"POIDS\")\n",
    "plt.show()"
   ]
  },
  {
   "cell_type": "markdown",
   "id": "d2165257",
   "metadata": {},
   "source": [
    "La clusterisation est plus pertinente : les abricots ont été bien identifés comme tels.\n",
    "\n",
    "## Enregistrement du modèle"
   ]
  },
  {
   "cell_type": "code",
   "execution_count": 73,
   "id": "8ac77860",
   "metadata": {},
   "outputs": [
    {
     "data": {
      "text/plain": [
       "['kmean_2.joblib']"
      ]
     },
     "execution_count": 73,
     "metadata": {},
     "output_type": "execute_result"
    }
   ],
   "source": [
    "from joblib import dump\n",
    "\n",
    "dump(modele, 'kmean_2.joblib')"
   ]
  },
  {
   "cell_type": "markdown",
   "id": "d3fb131e",
   "metadata": {},
   "source": [
    "---"
   ]
  }
 ],
 "metadata": {
  "kernelspec": {
   "display_name": "Python 3 (ipykernel)",
   "language": "python",
   "name": "python3"
  },
  "language_info": {
   "codemirror_mode": {
    "name": "ipython",
    "version": 3
   },
   "file_extension": ".py",
   "mimetype": "text/x-python",
   "name": "python",
   "nbconvert_exporter": "python",
   "pygments_lexer": "ipython3",
   "version": "3.10.0"
  }
 },
 "nbformat": 4,
 "nbformat_minor": 5
}
