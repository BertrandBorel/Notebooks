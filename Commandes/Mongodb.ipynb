{
 "cells": [
  {
   "cell_type": "markdown",
   "id": "56ab5290",
   "metadata": {},
   "source": [
    "# <center> Commandes Mongodb</center> "
   ]
  },
  {
   "cell_type": "markdown",
   "id": "4ee9c1db",
   "metadata": {},
   "source": [
    "## Connexion "
   ]
  },
  {
   "cell_type": "markdown",
   "id": "b63373ef",
   "metadata": {},
   "source": [
    "### Démarrer le conteneur\n",
    "\n",
    "docker-compose up -d "
   ]
  },
  {
   "cell_type": "markdown",
   "id": "829022a0",
   "metadata": {},
   "source": [
    "### Lancer mongodb\n",
    "\n",
    "`docker exec -it mongodb bash`\n",
    "\n",
    "\n",
    "###  Se connecter \n",
    "\n",
    "`mongo -u root -p pass12345`\n",
    "\n",
    "\n",
    "### En une seule ligne :\n",
    "\n",
    "`docker exec -it mongodb mongo -u root -p pass12345`"
   ]
  },
  {
   "cell_type": "markdown",
   "id": "b51ea08d",
   "metadata": {},
   "source": [
    "## Commandes"
   ]
  },
  {
   "cell_type": "markdown",
   "id": "f64e04ba",
   "metadata": {},
   "source": [
    "`use nom` : utiliser la database"
   ]
  },
  {
   "cell_type": "markdown",
   "id": "9f7b1237",
   "metadata": {},
   "source": [
    "`show dbs` : montre les databases"
   ]
  },
  {
   "cell_type": "markdown",
   "id": "f3ee5859",
   "metadata": {},
   "source": [
    "`show collections` : montre les collections"
   ]
  },
  {
   "cell_type": "markdown",
   "id": "cfb8816a",
   "metadata": {},
   "source": [
    "## Suppression d'une database\n",
    "\n",
    "`use bdd` on se place d'abord dans la bdd qu'on veut supprimer.\n",
    "\n",
    "`db.dropDatabase();`"
   ]
  },
  {
   "cell_type": "markdown",
   "id": "326408bc",
   "metadata": {},
   "source": [
    "## Création d'une nouvelle collection\n",
    "\n",
    "`db.createCollection(name, options)`\n",
    "\n",
    "### Suppression d'une collection\n",
    "\n",
    "`db.collection.drop(<options>)`"
   ]
  },
  {
   "cell_type": "markdown",
   "id": "1e7cfc6d",
   "metadata": {},
   "source": [
    "## Insertion dans une table : "
   ]
  },
  {
   "cell_type": "markdown",
   "id": "3ccb4f9d",
   "metadata": {},
   "source": [
    "`db.eleves.insert({nom : \"Granger\", prenom : \"Hermione\"})` "
   ]
  },
  {
   "cell_type": "markdown",
   "id": "6f966cd4",
   "metadata": {},
   "source": [
    "MongoDb est **schemaless**, c'est-à-dire qu’il n’y a pas de format à respecter pour tous les documents\n",
    "d’une même collection. Par exemple, on peut faire `db.eleves.insert({nom : \"Malefoy\", age : 16})`.\n",
    "Cela rend la **base évolutive**. C’est pratique pour démarrer un projet lorsque toutes les données ne\n",
    "sont pas encore connues.\n",
    "\n",
    "\n",
    "Même s’il n’y a pas de structure, il est recommandé de respecter les collections. Il faut créer des\n",
    "collections différentes par type de documents. Par exemple, n’allez pas mélanger les élèves et les\n",
    "classes dans une même collection."
   ]
  },
  {
   "cell_type": "markdown",
   "id": "ad8b8b3b",
   "metadata": {},
   "source": [
    "### Exemple d'insertion :\n",
    "\n",
    "`db.produits.insert({\n",
    "... nom:\"Macbook Pro\",\n",
    "... fabriquant: \"Apple\",\n",
    "... prix: 1299.99,\n",
    "... options : [\"Intel Core i5\",\"Retina Display\",\"Long life battery\"]\n",
    "... })`"
   ]
  },
  {
   "cell_type": "markdown",
   "id": "6f890d9e",
   "metadata": {},
   "source": [
    "## Trouver les éléments d'une table"
   ]
  },
  {
   "cell_type": "markdown",
   "id": "f6c4011d",
   "metadata": {},
   "source": [
    "`db.eleves.find()`\n",
    "\n",
    "\n",
    "`db.produits.find().pretty()`"
   ]
  },
  {
   "cell_type": "markdown",
   "id": "b8ba3401",
   "metadata": {},
   "source": [
    "## Afficher tous les éléments \n",
    "\n",
    "`db.nom.find({},{nom:1})`"
   ]
  },
  {
   "cell_type": "markdown",
   "id": "da65fa58",
   "metadata": {},
   "source": [
    "## Insertion de JavaScript"
   ]
  },
  {
   "cell_type": "markdown",
   "id": "fe0cadbe",
   "metadata": {},
   "source": [
    "`for(i=1; i<=100000; i++){var dixmill = i%10000; var mill = i%1000; var cent = i%100; db.produits.insert({compteur:i, dixmill:dixmill, mill:mill, cent:cent});};`"
   ]
  },
  {
   "cell_type": "markdown",
   "id": "25a6a150",
   "metadata": {},
   "source": [
    "## Les filtres"
   ]
  },
  {
   "cell_type": "markdown",
   "id": "7b3edb60",
   "metadata": {},
   "source": [
    "**find()** prend un deuxième paramètre qui permet de récupérer que certaines propriétés et pas le document\n",
    "dans son ensemble. Dans ce cas, le paramètre est un objet littéral qui précise les propriétés voulues avec\n",
    "une valeur 1.\n",
    "\n",
    "\n",
    "`db.produits.find({dixmill:525}, {compteur:1})`\n",
    "\n",
    "\n",
    "Par défaut, l’id est toujours retourné dans le résultat. Si vous ne le voulez pas, il faut le préciser en donnant\n",
    "la valeur 0 à la propriété _id.\n",
    "\n",
    "\n",
    "`db.produits.find({dixmill:525}, {_id:0,compteur:1})`"
   ]
  },
  {
   "cell_type": "markdown",
   "id": "ff8541e4",
   "metadata": {},
   "source": [
    "## Les tris\n",
    "\n",
    "Le tri se fait avec la commande **sort()** qui prend aussi un objet JSON en paramètre, contenant le critère de\n",
    "tri et une valeur pour le sens du tri.\n",
    "\n",
    "\n",
    "Pour classer dans l’ordre croissant les valeurs de compteur.\n",
    "\n",
    "`db.produits.find({dixmill:525}).sort({compteur:1})`\n",
    "\n",
    "\n",
    "Pour classer dans l’ordre décroissant les valeurs de compteur.\n",
    "\n",
    "`db.produits.find({dixmill:525}).sort({compteur:-1})`"
   ]
  },
  {
   "cell_type": "markdown",
   "id": "2f9096fa",
   "metadata": {},
   "source": [
    "## Mettre à jour\n",
    "\n",
    "La commande **update()** permet la mise à jour. Le premier objet sert de critère de recherche pour cibler le\n",
    "document à modifier et le deuxième contient la mise à jour à faire.\n",
    "`db.produits.update({dixmill:525}, {$set : {ajout:\"nouveau\"}})`\n",
    "\n",
    "**Ex:** `db.eleves.update({prenom:\"Neville\"},{$set: {age:18}})` met à jour l'âge de Neville\n",
    "\n",
    "\n",
    "Mais cette commande ne met à jour que le premier document trouvé. Si vous voulez modifier tous les\n",
    "documents correspondant au critère, faites comme ceci :\n",
    "`db.produits.update({dixmill:525}, {$set : {ajout:\"nouveau\"}}, {multi:true})`\n",
    "\n",
    "\n",
    "Il est aussi possible de supprimer une propriété.\n",
    "`db.produits.update({dixmill:525}, {$unset : {ajout:\"nouveau\"}}, {multi:true})`\n",
    "\n",
    "\n",
    "La mise à jour peut aussi s’appliquer à un tableau, en lui ajoutant un élément :\n",
    "`db.produits.update({dixmill:525}, {$push : {tab : 'd'}})`\n",
    "\n",
    "\n",
    "il existe aussi un opérateur pour ajouter plusieurs éléments, $pushAll, et un pour ajouter sans doublons\n",
    "**$addToSet**. Et pour supprimer un élément, c’est **$pop** :\n",
    "`db.produits.update({dixmill:525}, {$pop : {tab : 1}})`\n",
    "\n",
    "\n",
    "Cette commande supprime le dernier élément du tableau. Pour le premier, il faut la valeur -1."
   ]
  },
  {
   "cell_type": "markdown",
   "id": "33dadbac",
   "metadata": {},
   "source": [
    "## Supprimer\n",
    "\n",
    "La commande remove() supprime tous les documents correspondant au critère donné :\n",
    "`db.produits.remove({mill: 600})`\n",
    "\n",
    "\n",
    "La suppression d’une collection complète se fait avec l’instruction suivante :\n",
    "`db.produits.drop()`"
   ]
  },
  {
   "cell_type": "markdown",
   "id": "1d350e1b",
   "metadata": {},
   "source": [
    "## Recherche sur les propriétés\n",
    "\n",
    "Puisque MongoDb est shemaless, tous les documents d’une collection n’ont pas forcément tous les mêmes\n",
    "propriétés. Il est donc possible de faire des recherches sur les propriétés, et non sur les valeurs, avec\n",
    "l’opérateur **$exists**.\n",
    "\n",
    "`db.eleves.find({age: {$exists:1}})`\n",
    "\n",
    "Dans cet exemple, la recherche se fait sur tous les documents de la collection eleves qui contient la\n",
    "propriété age. Si il faut, au contraire, trouver tous les documents sans propriété age, **$exists** doit être à 0.\n",
    "\n",
    "\n",
    "\n",
    "**Ex:** `db.eleves.find({age: {$gte:16}})` cherche tous les âges >= à 16.\n",
    "\n",
    "`db.eleves.find({classe: {$eq:\"premiere\"}})` récupère tous les élèves en classe de première.\n",
    "\n",
    "`db.eleves.find({classe:\"première\"})` idem"
   ]
  },
  {
   "cell_type": "markdown",
   "id": "c52a57f5",
   "metadata": {},
   "source": [
    "![capture](Capture.PNG)"
   ]
  },
  {
   "cell_type": "markdown",
   "id": "ce8128de",
   "metadata": {},
   "source": [
    "• `$and` : cumul des critères,\n",
    "\n",
    "• `$gt` : plus grand que,\n",
    "\n",
    "• `$gte` : plus grand ou égal à,\n",
    "\n",
    "• `$in` : inclus dans un tableau de valeurs,\n",
    "\n",
    "• `$lt` : plus petit que,\n",
    "\n",
    "• `$lte` : plus petit ou égal à,\n",
    "\n",
    "• `$or` : récupère les documents qui correspondent à 2 critères différents,\n",
    "\n",
    "• `$ne` : différent du critère,\n",
    "\n",
    "• `$nin` : non inclus dans un tableau de valeurs.\n",
    "\n",
    "• `$eq` : Matches values that are equal to a specified value"
   ]
  },
  {
   "cell_type": "markdown",
   "id": "ce817ef9",
   "metadata": {},
   "source": [
    "**Logical**\n",
    "\n",
    "- `$and` : Joins query clauses with a logical AND returns all documents that match the conditions of both clauses.\n",
    "\n",
    "- `$not` : Inverts the effect of a query expression and returns documents that do not match the query expression.\n",
    "\n",
    "- `$nor` : Joins query clauses with a logical NOR returns all documents that fail to match both clauses.\n",
    "\n",
    "- `$or` : Joins query clauses with a logical OR returns all documents that match the conditions of either clause.\n",
    "\n",
    "\n",
    "**Element**\n",
    "\n",
    "- `$exists` : Matches documents that have the specified field.\n",
    "\n",
    "- `$type` : Selects documents if a field is of the specified type.\n",
    "\n",
    "\n",
    "**Evaluation**\n",
    "\n",
    "- `$expr` : Allows use of aggregation expressions within the query language.\n",
    "\n",
    "- `$jsonSchema` : Validate documents against the given JSON Schema.\n",
    "\n",
    "- `$mod` : Performs a modulo operation on the value of a field and selects documents with a specified result.\n",
    "\n",
    "- `$regex` : Selects documents where values match a specified regular expression.\n",
    "\n",
    "- `$text` : Performs text search.\n",
    "\n",
    "- `$where` : Matches documents that satisfy a JavaScript expression.\n",
    "\n",
    "\n",
    "**Geospatial**\n",
    "\n",
    "- `$geoIntersects` : Selects geometries that intersect with a GeoJSON geometry. The 2dsphere index supports `$ geoIntersects`.\n",
    "\n",
    "- `$geoWithin` : Selects geometries within a bounding GeoJSON geometry. The 2dsphere and 2d indexes support `$geoWithin`.\n",
    "\n",
    "- `$near` : Returns geospatial objects in proximity to a point. Requires a geospatial index. The 2dsphere and 2d indexes support `$near`.\n",
    "\n",
    "- `$nearSphere` : Returns geospatial objects in proximity to a point on a sphere. Requires a geospatial index. The 2dsphere and 2d indexes support `$nearSphere`.\n",
    "\n",
    "**Array**\n",
    "\n",
    "- `$all` : Matches arrays that contain all elements specified in the query.\n",
    "\n",
    "- `$elemMatch` : Selects documents if element in the array field matches all the specified `$elemMatch` conditions.\n",
    "\n",
    "- `$size` : Selects documents if the array field is a specified size.\n",
    "\n",
    "\n",
    "**Bitwise**\n",
    "\n",
    "- `$bitsAllClear` : Matches numeric or binary values in which a set of bit positions all have a value of 0.\n",
    "\n",
    "- `$bitsAllSet` : Matches numeric or binary values in which a set of bit positions all have a value of 1.\n",
    "\n",
    "- `$bitsAnyClear` : Matches numeric or binary values in which any bit from a set of bit positions has a value of 0.\n",
    "\n",
    "- `$bitsAnySet` : Matches numeric or binary values in which any bit from a set of bit positions has a value of 1.\n",
    "\n",
    "\n",
    "**Projection Operators**\n",
    "\n",
    "- `$` : Projects the first element in an array that matches the query condition.\n",
    "\n",
    "- `$elemMatch` : Projects the first element in an array that matches the specified `$elemMatch` condition.\n",
    "\n",
    "- `$meta` :Projects the document's score assigned during `$text` operation.\n",
    "\n",
    "- `$slice` : Limits the number of elements projected from an array. Supports skip and limit slices.\n",
    "\n",
    "\n",
    "**Miscellaneous Operators**\n",
    "\n",
    "- `$comment` : Adds a comment to a query predicate.\n",
    "\n",
    "- `$rand` : Generates a random float between 0 and 1."
   ]
  },
  {
   "cell_type": "markdown",
   "id": "3ec8dc70",
   "metadata": {},
   "source": [
    "---"
   ]
  },
  {
   "cell_type": "markdown",
   "id": "d2805b89",
   "metadata": {},
   "source": [
    "## Exercice 3 :\n",
    "    \n",
    "**Effectuez les requêtes de lecture suivantes:**\n",
    "    \n",
    "• Récupérez tous les produits.\n",
    "`db.produits.find()`\n",
    "\n",
    "• Récupérez le premier produit (recherche par indice : find()[i]).\n",
    "`db.produits.find()[0]`\n",
    "\n",
    "• Trouvez le document du Thinkpad x230.\n",
    "`db.produits.find({\"nom\":\"Thinkpad X230\"})`\n",
    "\n",
    "• Trouvez l’id du Macbook Air.\n",
    "\n",
    "`db.produits.find({\"nom\":\"Macbook Air\"}, {\"id\":1})`\n",
    "\n",
    "• Récupérez les produits dont le prix est supérieur à 1200 :\n",
    "\n",
    "\n",
    "`db.produits.find({prix:{$gt:1200}})`\n",
    "\n",
    "• Récupérez le premier produit ayant le champ ultrabook à true :\n",
    "\n",
    "`db.produits.find({\"ultrabook\":true})[0]`\n",
    "\n",
    "• Récupérez le premier produit dont le nom contient Macbook (critère /Macbook/).\n",
    "\n",
    "`db.produits.find({\"nom\": /Macbook/})[0]`\n",
    "\n",
    "• Récupérez les produits dont le nom commence par Macbook (critère /^Macbook/).\n",
    "\n",
    "`db.produits.find({\"nom\": /^Macbook/})`\n"
   ]
  },
  {
   "cell_type": "markdown",
   "id": "2d521ed5",
   "metadata": {},
   "source": [
    "## Exercice 4 :\n",
    "\n",
    "• Supprimez les deux produits dont le fabricant est Apple.\n",
    "\n",
    "`db.produits.remove({\"fabriquant\":\"Apple\"})`\n",
    "\n",
    "• Supprimez le Lenovo X230 en utilisant uniquement son id.\n",
    "\n",
    "on récupère l'id du Lenovo X230 : `db.produits.find({\"nom\":\"Thinkpad X230\"}, {\"id\":1})`\n",
    "\n",
    "on supprime via l'id : `db.produits.remove({\"_id\":ObjectId(\"62553432536d0cb7af7dcae7\")})`"
   ]
  },
  {
   "cell_type": "markdown",
   "id": "754b64da",
   "metadata": {},
   "source": [
    "## Exercice 5\n",
    "\n",
    "Dans cet exercice, nous allons modéliser un système de facturation très simple.\n",
    "Effectuez les actions suivantes:\n",
    "\n",
    "• Insérer les deux factures dans la base, dans une nouvelle collection.\n",
    "\n",
    "• Récupérer la facture dont le numéro est 10013A.\n",
    "\n",
    "`db.factures.find({\"facture num\" : \"10013A\"})`\n",
    "\n",
    "• Modifier la facture 10012A en changeant la date pour le 2013-07-03 et le courriel du contact pour\n",
    "alex@example.com. Pour trouver un élément dans la liste, essayé une recherche sur clé.clé_dans_liste.\n",
    "\n",
    "`db.factures.update( {\"facture num\":\"10012A\"}, {$set:{\"clients\":[{\"courriel\":\"alex@example.com\"}]}})`\n",
    "\n",
    "• Récupérer la facture avec le produit vendu ayant un code LENOVOX230.\n",
    "\n",
    "`db.facture.find({\"liste produits\": { $elemMatch: {'code': 'LENOVOX230'}}})`\n",
    "\n",
    "• Supprimer la facture 10012A.\n",
    "\n",
    "`db.factures.remove({\"courriel\" : \"alex@example.com\"})`\n"
   ]
  },
  {
   "cell_type": "markdown",
   "id": "5dba5957",
   "metadata": {},
   "source": [
    "## Exercice 6\n",
    "\n",
    "**Une fois les documents importés, faites les requêtes permettant d’afficher :**\n",
    "    \n",
    "• tous les titres;\n",
    "\n",
    "`db.films.find({}, {title:1})`\n",
    "\n",
    "• tous les titres des films parus après 2000;\n",
    "\n",
    "`db.films.find({year:{$gt:2000}},{title:1})`\n",
    "\n",
    "`db.films.find({\"year\": {$gt: 2000}}, {\"title\": 1, \"year\": 1})`\n",
    "\n",
    "\n",
    "• le résumé de Spider-Man;\n",
    "\n",
    "`db.films.find({\"title\": \"Spider-Man\"}, {\"summary\": 1})`\n",
    "\n",
    "• qui est le metteur en scène de Gladiator ?\n",
    "\n",
    "`db.films.find({\"title\": \"Gladiator\"}, {\"director\": 1})`\n",
    "\n",
    "• titre des films avec Kirsten Dunst,\n",
    "\n",
    "`db.films.find({\"actors.last_name\": \"Dunst\"}, {\"title\": 1})`\n",
    "\n",
    "NB: cette fonction regarde si le champ existe, pas s’il est vide ou non. Dans la base, il existe des films avec un résumé ayant pour valeur null. Afin de ne récupérer que les films ayant réellement un résumé, on peut ajouter `$ne:null`\n",
    "\n",
    "`db.films.find({\"summary\": {$exists: true, $ne:null}}, {\"title\": 1, \"summary\":1})`\n",
    "\n",
    "• quels films ont un résumé ?\n",
    "\n",
    "`db.films.find({\"summary\": {$exists: true}}, {\"title\": 1})`\n",
    "\n",
    "• les films qui ne sont ni des drames ni des comédies.\n",
    "\n",
    "\n",
    "`db.films.find({\"genre\": {$nin: [\"drama\", \"Comédie\"]}}, {\"title\": 1, \"genre\": 1})`\n",
    "\n",
    "• affichez les titres des films et les noms des acteurs.\n",
    "\n",
    "`db.films.find({}, {\"title\": 1, \"actors.first_name\": 1, \"actors.last_name\": 1})`\n",
    "\n",
    "• dans quels films Clint Eastwood est-il acteur mais pas réalisateur (aide: utilisez l’opérateur de\n",
    "comparaison `$ne`).\n",
    "\n",
    "`db.films.find({\"actors.last_name\": \"Eastwood\", \"director.last_name\": {$ne: \"Eastwood\"}}, {\"title\": 1})`"
   ]
  },
  {
   "cell_type": "markdown",
   "id": "69be44cc",
   "metadata": {},
   "source": [
    "---"
   ]
  },
  {
   "cell_type": "markdown",
   "id": "1c020e03",
   "metadata": {},
   "source": [
    "# <center> Mongo révisions </center>\n",
    "\n",
    "## Requêtes\n",
    "\n",
    "<br>\n",
    "• Afficher tous les documents.\n",
    "\n",
    "`db.fruits.find().pretty()`\n",
    "\n",
    "<br>\n",
    "\n",
    "• Afficher le document ayant pour name : « orange ».\n",
    "\n",
    "`db.fruits.find({name:\"orange\"})`\n",
    "\n",
    "<br>\n",
    "\n",
    "• Afficher tous les documents ayant pour origin : « italy ».\n",
    "\n",
    "`db.fruits.find({origin:\"italy\"})`\n",
    "\n",
    "<br>\n",
    "\n",
    "• Modifier le document orange pour passer la quantité à 34.\n",
    "\n",
    "`db.fruits.update({name:\"orange\"},{$set:{quantity:34}})`\n",
    "\n",
    "<br>\n",
    "\n",
    "• Afficher les documents qui ont un prix.\n",
    "\n",
    "`db.fruits.find({price:{$exists:1}})`\n",
    "\n",
    "<br>\n",
    "\n",
    "• Afficher les documents dont la quantité dépasse 35.\n",
    "\n",
    "`db.fruits.find({quantity:{$gt:35}})`"
   ]
  },
  {
   "cell_type": "markdown",
   "id": "65a10e5b",
   "metadata": {},
   "source": [
    "## Requêtes projet "
   ]
  },
  {
   "cell_type": "markdown",
   "id": "678cd34d",
   "metadata": {},
   "source": [
    "Nombre d'auteurs différents\n",
    "\n",
    "`db.publis.distinct('authors')`\n",
    "\n",
    "Publications pour un auteur\n",
    "\n",
    "`db.publis.find({\"authors\":\"Toru Ishida\"})`\n",
    "\n",
    "Nombre de publications pour un auteur\n",
    "\n",
    "`db.publis.find({\"authors\":\"Toru Ishida\"}).count()`\n",
    "\n",
    "Trouver les articles d'un auteur\n",
    "\n",
    "`db.publis.find( {\"authors\":\"Toru Ishida\", \"type\":\"Article\"})`\n",
    "\n",
    "Nombre de publications d'un auteur:\n",
    "\n",
    "`db.publis.find( {\"authors\":\"Toru Ishida\", \"type\":\"Article\"}).count()`\n",
    "\n",
    "Trouver tous les auteurs\n",
    "\n",
    "`auteurs = db.publis.find({}, {\"authors\":1})`\n"
   ]
  },
  {
   "cell_type": "code",
   "execution_count": null,
   "id": "ec163683",
   "metadata": {},
   "outputs": [],
   "source": []
  }
 ],
 "metadata": {
  "kernelspec": {
   "display_name": "Python 3.8.3 ('base')",
   "language": "python",
   "name": "python3"
  },
  "language_info": {
   "codemirror_mode": {
    "name": "ipython",
    "version": 3
   },
   "file_extension": ".py",
   "mimetype": "text/x-python",
   "name": "python",
   "nbconvert_exporter": "python",
   "pygments_lexer": "ipython3",
   "version": "3.8.3"
  },
  "vscode": {
   "interpreter": {
    "hash": "cce956dd8b59511f520788cd9362dddc117670ac5ef39c9ede8ba85a43b854a0"
   }
  }
 },
 "nbformat": 4,
 "nbformat_minor": 5
}
