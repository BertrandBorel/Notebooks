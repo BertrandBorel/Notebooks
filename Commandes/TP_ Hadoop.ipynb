{
 "cells": [
  {
   "cell_type": "markdown",
   "id": "51d4f94a",
   "metadata": {},
   "source": [
    "# <center> Commandes Tp Hadoop </center>\n",
    "\n",
    "---\n",
    "\n",
    "\n",
    "\n",
    " - Démarrer docker : `run container docker`\n",
    " \n",
    "\n",
    "- Démarrer le conteneur : `sudo docker exec -it namenode bash`\n",
    "\n",
    "\n",
    "- Si la commande précédente entraîne une erreur : \n",
    "    - Ouvrir le Powershell en admin, tapez : `net stop hns` validez, puis `net start hns`\n",
    "\n",
    "\n",
    "- Création d'un dossier : `hdfs dfs -mkdir user`\n",
    "\n",
    "\n",
    "- copier un fichier sur le container docker : `docker cp Gutenberg/ namenode:/usr`\n",
    "\n",
    "    \n",
    "- copier un fichier vers hdfs : \n",
    "    - Syntaxe : `hdfs dfs  -copyFromLocal /file.txt /names.txt`\n",
    "    - Exemple : `hdfs dfs -copyFromLocal /home/dikshant/Documents/hadoop_file/Salaries.csv /Hadoop_File`\n",
    "\n",
    "\n",
    "- lancer le jar : \n",
    "    - `hadoop jar hadoop-streaming-2.8.0.jar -input /user/Gutenberg -output /user/outputTest -mapper simplon/wordcount_mapper.py -reducer simplon/worldcount_reducer.py`"
   ]
  }
 ],
 "metadata": {
  "kernelspec": {
   "display_name": "Python 3 (ipykernel)",
   "language": "python",
   "name": "python3"
  },
  "language_info": {
   "codemirror_mode": {
    "name": "ipython",
    "version": 3
   },
   "file_extension": ".py",
   "mimetype": "text/x-python",
   "name": "python",
   "nbconvert_exporter": "python",
   "pygments_lexer": "ipython3",
   "version": "3.8.3"
  }
 },
 "nbformat": 4,
 "nbformat_minor": 5
}
