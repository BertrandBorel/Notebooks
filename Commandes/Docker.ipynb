{
 "cells": [
  {
   "cell_type": "markdown",
   "id": "7aa07023",
   "metadata": {},
   "source": [
    "# <center> Docker </center>"
   ]
  },
  {
   "cell_type": "markdown",
   "id": "2e9b61bb",
   "metadata": {},
   "source": [
    "---"
   ]
  },
  {
   "cell_type": "markdown",
   "id": "29387a7a",
   "metadata": {},
   "source": [
    "## Démarrer Docker\n",
    "\n",
    "`sudo service docker start`"
   ]
  },
  {
   "cell_type": "markdown",
   "id": "3093f56b",
   "metadata": {},
   "source": [
    "## Démarrer un conteneur"
   ]
  },
  {
   "cell_type": "markdown",
   "id": "a4e564c5",
   "metadata": {},
   "source": [
    "`docker run [nom]`"
   ]
  },
  {
   "cell_type": "markdown",
   "id": "252fe59b",
   "metadata": {},
   "source": [
    "- `d` pour détacher le conteneur du processus principal de la console. Il vous permet de continuer à utiliser la console pendant que votre conteneur tourne sur un autre processus ;\n",
    "\n",
    "\n",
    "- `p` pour définir l'utilisation de ports."
   ]
  },
  {
   "cell_type": "markdown",
   "id": "e133f275",
   "metadata": {},
   "source": [
    "## Lister les conteneurs\n",
    "\n",
    "`docker container ps`\n",
    "\n",
    "### lister même les conteneurs stoppés \n",
    "\n",
    "`docker container ps –a`"
   ]
  },
  {
   "cell_type": "markdown",
   "id": "e94a8b76",
   "metadata": {},
   "source": [
    "## Arrêter un conteneur\n",
    "\n",
    "`docker stop [nom]`"
   ]
  },
  {
   "cell_type": "markdown",
   "id": "f4ba1f10",
   "metadata": {},
   "source": [
    "## Redémarrer un conteneur\n",
    "\n",
    "`docker start [nom]`"
   ]
  },
  {
   "cell_type": "markdown",
   "id": "d272f274",
   "metadata": {},
   "source": [
    "## Kill un conteneur\n",
    "\n",
    "`docker kill [nom]`"
   ]
  },
  {
   "cell_type": "markdown",
   "id": "445e7ad3",
   "metadata": {},
   "source": [
    "## Supprimer un conteneur \n",
    "\n",
    "`docker rm [nom]`"
   ]
  },
  {
   "cell_type": "markdown",
   "id": "a55e33e2",
   "metadata": {},
   "source": [
    "## Récupérez une image du Docker Hub\n",
    "\n",
    "`docker pull [nom]`"
   ]
  },
  {
   "cell_type": "markdown",
   "id": "d23ae840",
   "metadata": {},
   "source": [
    "## Chercher des images\n",
    "\n",
    "`docker search [nom]`"
   ]
  },
  {
   "cell_type": "markdown",
   "id": "fc8adc82",
   "metadata": {},
   "source": [
    "## Affichez l'ensemble des conteneurs existants\n",
    "\n",
    "`docker ps`\n",
    "\n",
    "### Afficher les conteneurs stoppés\n",
    "\n",
    "`docker ps -a`\n",
    "\n",
    "### Afficher les images\n",
    "\n",
    "`docker images -a`\n",
    "\n",
    "\n",
    "`docker image ls`"
   ]
  },
  {
   "cell_type": "markdown",
   "id": "5964c843",
   "metadata": {},
   "source": [
    "## Comment nettoyer mon système\n",
    "\n",
    "`docker system prune`"
   ]
  },
  {
   "cell_type": "markdown",
   "id": "0d21f9bc",
   "metadata": {},
   "source": [
    "---"
   ]
  },
  {
   "cell_type": "markdown",
   "id": "2955b0ae",
   "metadata": {},
   "source": [
    "## Création d'une image\n",
    "\n",
    "`docker build –t image1 path`\n",
    "\n",
    "\n",
    "L’option `–t image1` n’est pas obligatoire, mais ajoute un tag à la nouvelle image.\n",
    "\n",
    "`path` est le répertoire qui contient le fichier Dockerfile."
   ]
  },
  {
   "cell_type": "markdown",
   "id": "62f4ee50",
   "metadata": {},
   "source": [
    "## Lancer Docker compose\n",
    "\n",
    "`docker-compose up -d`\n",
    "\n",
    "\n",
    "`-d` ouvre en détaché, il ne bloque pas le terminal avec docker_compose"
   ]
  },
  {
   "cell_type": "markdown",
   "id": "d56b70da",
   "metadata": {},
   "source": [
    "## Arrêter Docker compose\n",
    "\n",
    "`docker-compose down`"
   ]
  },
  {
   "cell_type": "markdown",
   "id": "18a8f2f7",
   "metadata": {},
   "source": [
    "---"
   ]
  },
  {
   "cell_type": "markdown",
   "id": "08b167af",
   "metadata": {},
   "source": [
    "# Création d'un Dockerfile"
   ]
  },
  {
   "cell_type": "markdown",
   "id": "1c8bde8f",
   "metadata": {},
   "source": [
    "1- création d'un fichier nommé \"Dockerfile\"\n",
    "\n",
    "\n",
    "2- définir dans celui-ci l'image que vous allez utiliser comme base, grâce à l'instruction `FROM`\n",
    "\n",
    "\n",
    "3- l'instruction `RUN` pour exécuter une commande\n",
    "\n",
    "\n",
    "4- l'instruction  `ADD`  afin de copier ou de télécharger des fichiers dans l'image. \n",
    "\n",
    "\n",
    "5- l'instruction `WORKDIR` qui permet de modifier le répertoire courant. La commande est équivalente à une commande `cd` en ligne de commande. L'ensemble des commandes qui suivront seront toutes exécutées depuis le répertoire défini.\n",
    "\n",
    "\n",
    "6- L'instruction `EXPOSE` permet d'indiquer le port sur lequel l'application écoute.\n",
    "\n",
    "\n",
    "7- L'instruction `VOLUME` permet d'indiquer quel répertoire vous voulez partager avec votre host.\n",
    "\n",
    "\n",
    "8- `CMD` permet à notre conteneur de savoir quelle commande il doit exécuter lors de son démarrage.\n",
    "\n",
    "\n",
    "### Exemple de Dockerfile\n",
    "\n",
    "`FROM debian:9\n",
    "\n",
    "RUN apt-get update -yq \\\n",
    "&& apt-get install curl gnupg -yq \\\n",
    "&& curl -sL https://deb.nodesource.com/setup_10.x | bash \\\n",
    "&& apt-get install nodejs -yq \\\n",
    "&& apt-get clean -y\n",
    "\n",
    "ADD . /app/\n",
    "WORKDIR /app\n",
    "RUN npm install\n",
    "\n",
    "EXPOSE 2368\n",
    "VOLUME /app/logs\n",
    "\n",
    "CMD npm run start`"
   ]
  },
  {
   "cell_type": "markdown",
   "id": "648a1f2a",
   "metadata": {},
   "source": [
    "`FROM` permet de définir l'image source ;\n",
    "\n",
    "\n",
    "`RUN` permet d’exécuter des commandes dans votre conteneur ;\n",
    "\n",
    "\n",
    "`ADD` permet d'ajouter des fichiers dans votre conteneur ;\n",
    "\n",
    "\n",
    "`WORKDIR` permet de définir votre répertoire de travail ;\n",
    "\n",
    "\n",
    "`EXPOSE` permet de définir les ports d'écoute par défaut ;\n",
    "\n",
    "\n",
    "`VOLUME` permet de définir les volumes utilisables ;\n",
    "\n",
    "\n",
    "`CMD` permet de définir la commande par défaut lors de l’exécution de vos conteneurs Docker."
   ]
  },
  {
   "cell_type": "markdown",
   "id": "d84c0603",
   "metadata": {},
   "source": [
    "`docker push`  vous permet d'envoyer vos images locales sur une registry ;\n",
    "\n",
    "`docker search`  vous permet de rechercher une image sur votre registry."
   ]
  },
  {
   "cell_type": "markdown",
   "id": "f2d1cf6d",
   "metadata": {},
   "source": [
    "---"
   ]
  },
  {
   "cell_type": "markdown",
   "id": "144ba5bd",
   "metadata": {},
   "source": [
    "# <center> Docker Compose </center>\n",
    "\n",
    "Docker Compose va vous permettre d'orchestrer vos conteneurs, et ainsi de simplifier vos déploiements sur de multiples environnements. Docker Compose est un outil écrit en Python qui permet de décrire, dans un fichier YAML, plusieurs conteneurs comme un ensemble de services. "
   ]
  },
  {
   "cell_type": "markdown",
   "id": "8c8af980",
   "metadata": {},
   "source": [
    "## Démarrer une stack Docker Compose\n",
    "\n",
    "`docker-compose up`\n",
    "\n",
    "## Stopper un Docker Compose\n",
    "\n",
    "`docker-compose down`\n",
    "\n",
    "**Attention** : détruit totalement les ressources créées "
   ]
  },
  {
   "cell_type": "markdown",
   "id": "d8d23f17",
   "metadata": {},
   "source": [
    "## Voir le statut d'une stack Docker Compose\n",
    "\n",
    "`docker-compose ps`\n",
    "\n",
    "affiche le retour suivant \"ADD CONTENT\""
   ]
  },
  {
   "cell_type": "markdown",
   "id": "64a2a155",
   "metadata": {},
   "source": [
    "## Voir les logs d'une stack Docker Compose\n",
    "\n",
    "`docker-compose logs -f --tail 5`\n",
    "\n",
    "Permet de voir l'ensemble des logs sur les différents conteneurs de façon continue, tout en limitant l'affichage aux 5 premières lignes.\n",
    "\n",
    "Ainsi, si nos conteneurs fonctionnent depuis longtemps, nous n'aurons pas à attendre plusieurs secondes, ni à voir de nombreux logs qui ne nous intéressent pas."
   ]
  },
  {
   "cell_type": "markdown",
   "id": "cd65ed58",
   "metadata": {},
   "source": [
    "## Arrêter une stack Docker Compose\n",
    "\n",
    "Si vous souhaitez arrêter une stack Docker Compose, vous devez utiliser la commande `docker-compose stop`  . Cependant, celle-ci **ne supprimera pas les différentes ressources créées** par votre stack.\n",
    "\n",
    "Ainsi, si vous lancez à nouveau un `docker-compose up -d`  , l'ensemble de votre stack sera tout de suite à nouveau fonctionnel.\n",
    "\n",
    "Si vous souhaitez supprimer l'ensemble de la stack Docker Compose, vous devez utiliser la commande `docker-compose down` qui **détruira l'ensemble des ressources créées**."
   ]
  },
  {
   "cell_type": "markdown",
   "id": "abe90e15",
   "metadata": {},
   "source": [
    "## Valider une stack Docker Compose\n",
    "\n",
    "Lors de l'écriture d'un fichier docker-compose, nous ne sommes pas à l’abri d'une **erreur**. Pour éviter au maximum cela, vous devez utiliser la commande `docker-compose config` qui vous permettra de **valider la syntaxe de votre fichier**, et ainsi d'être certain de son bon fonctionnement."
   ]
  },
  {
   "cell_type": "markdown",
   "id": "e21d3fdb",
   "metadata": {},
   "source": [
    "# En résumé :\n",
    "\n",
    "- `docker-compose up -d` vous permettra de démarrer l'ensemble des conteneurs en arrière-plan ;\n",
    "\n",
    "\n",
    "- `docker-compose ps` vous permettra de voir le statut de l'ensemble de votre stack ;\n",
    "\n",
    "\n",
    "- `docker-compose logs -f --tail 5` vous permettra d'afficher les logs de votre stack ;\n",
    "\n",
    "\n",
    "- `docker-compose stop` vous permettra d'arrêter l'ensemble des services d'une stack ;\n",
    "\n",
    "\n",
    "- `docker-compose down` vous permettra de détruire l'ensemble des ressources d'une stack ;\n",
    "\n",
    "\n",
    "- `docker-compose config` vous permettra de valider la syntaxe de votre fichier docker-compose.yml  ."
   ]
  },
  {
   "cell_type": "markdown",
   "id": "94406e01",
   "metadata": {},
   "source": [
    "---"
   ]
  },
  {
   "cell_type": "markdown",
   "id": "e2fee676",
   "metadata": {},
   "source": [
    "# <center> Créez un fichier docker-compose </center> "
   ]
  },
  {
   "cell_type": "markdown",
   "id": "ae3533b1",
   "metadata": {},
   "source": [
    "- `version` :  permet de spécifier à Docker Compose quelle **version** on souhaite utiliser, et donc d'utiliser ou pas certaines versions. \n",
    "\n",
    "\n",
    "- `services` : L'ensemble des conteneurs qui doivent être créés doivent être définis sous l'argument services (on indique le nom du conteneur en dessous)\n",
    "\n",
    "\n",
    "- `image` : permet de définir l'image Docker que nous souhaitons utiliser pour un conteneur.\n",
    "- `build` est utilisé dans le cas d'un Dockerfile\n",
    "\n",
    "\n",
    "- `volumes` : permet de stocker l'ensemble du contenu du dossier dans un disque persistant. Et donc, de pouvoir garder les données en local sur notre host.\n",
    "\n",
    "\n",
    "- `restart` : politique de redémarrage du conteneur (notamment en cas d'erreur fatale).\n",
    "\n",
    "\n",
    "- `environnement` : définition des variables d'environnement\n",
    "\n",
    "\n",
    "- `depends_on` : permet de créer une **dépendance** entre deux conteneurs (permet de créer des priorités).\n",
    "\n",
    "\n",
    "- `ports` : permet de dire à Docker Compose qu'on veut exposer un **port** de notre machine hôte vers notre conteneur, et ainsi le rendre accessible depuis l'extérieur. Permet donc de définir les ports disponibles entre la machine host et le conteneur."
   ]
  },
  {
   "cell_type": "markdown",
   "id": "f3721656",
   "metadata": {},
   "source": [
    "## Lancer un Docker-Compose\n",
    "\n",
    "`docker-compose up -d`"
   ]
  },
  {
   "cell_type": "markdown",
   "id": "cdbd8e1e",
   "metadata": {},
   "source": [
    "Lors de l'exécution de cette commande, Docker Compose commence par vérifier si nous disposons bien en local des images nécessaires au lancement des stacks. Dans le cas contraire, il les télécharge depuis une registry, ou les build via un `docker build`  .\n",
    "\n",
    "Puis celui-ci lance les deux conteneurs sur votre système."
   ]
  },
  {
   "cell_type": "markdown",
   "id": "4bc93bb3",
   "metadata": {},
   "source": [
    "---"
   ]
  },
  {
   "cell_type": "markdown",
   "id": "3df881ca",
   "metadata": {},
   "source": [
    "## Copier un fichier dans un conteneur Docker\n",
    "\n",
    "Créer le fichier dans le dossier.\n",
    "\n",
    "Copie du fichier dans le conteneur docker (indiquer l'id du conteneur)\n",
    "\n",
    "`docker cp movies.json d3c221ec1282:/movies.json`\n",
    "                                           \n",
    "On lance le mongodb bash dans le conteneur docker :                                           \n",
    "\n",
    "`docker exec -it mongodb bash`\n",
    "                                           \n",
    "On importe le fichier json dans la bdd :                                           \n",
    "\n",
    "`mongoimport --authenticationDatabase=admin --username=root --file=/movies.json --db=avis --collection=films`\n",
    "\n",
    "Autre exemple :\n",
    "\n",
    "`docker exec -it mongodb  mongoimport --authenticationDatabase=admin --username=root --db=dblp --collection=publis --file=dblp.json`"
   ]
  },
  {
   "cell_type": "code",
   "execution_count": null,
   "id": "8a392726",
   "metadata": {},
   "outputs": [],
   "source": []
  }
 ],
 "metadata": {
  "kernelspec": {
   "display_name": "Python 3",
   "language": "python",
   "name": "python3"
  },
  "language_info": {
   "codemirror_mode": {
    "name": "ipython",
    "version": 3
   },
   "file_extension": ".py",
   "mimetype": "text/x-python",
   "name": "python",
   "nbconvert_exporter": "python",
   "pygments_lexer": "ipython3",
   "version": "3.8.3"
  }
 },
 "nbformat": 4,
 "nbformat_minor": 5
}
