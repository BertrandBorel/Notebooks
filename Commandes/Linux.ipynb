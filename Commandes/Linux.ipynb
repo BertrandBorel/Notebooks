{
 "cells": [
  {
   "cell_type": "markdown",
   "metadata": {},
   "source": [
    "# <center> Commandes Linux </center>"
   ]
  },
  {
   "cell_type": "markdown",
   "metadata": {},
   "source": [
    "**sources :**\n",
    "\n",
    "- [35 commandes Linux de base que tout utilisateur devrait connaître](https://www.hostinger.fr/tutoriels/commandes-linux)"
   ]
  },
  {
   "cell_type": "markdown",
   "metadata": {},
   "source": [
    "Linux est une famille entière de systèmes d’exploitation Unix à source ouverte, qui sont basés sur le noyau Linux. Cela inclut tous les systèmes les plus populaires basés sur Linux comme Ubuntu, Fedora, Mint, Debian, et d’autres. Plus précisément, on les appelle des distributions ou des distros.\n",
    "\n",
    "Depuis sa première publication en 1991, Linux n’a cessé de gagner en popularité en raison de sa nature open-source. Les gens peuvent librement le modifier et le redistribuer sous leur propre nom."
   ]
  },
  {
   "cell_type": "markdown",
   "metadata": {},
   "source": [
    "## Lancer VSCode \n",
    "\n",
    "`code  .`"
   ]
  },
  {
   "cell_type": "markdown",
   "metadata": {},
   "source": [
    "## Commande pwd\n",
    "\n",
    "Trouve le chemin du répertoire de travail dans lequel on se trouve. La commande retournera un chemin absolu (complet), qui est en fait un chemin de tous les répertoires qui commence par une barre oblique (/). Un exemple de chemin absolu est /home/utilisateur.\n",
    "\n",
    "## Afficher les fichiers du dossier cournat\n",
    "\n",
    "`ls`\n",
    "\n",
    "## Afficher les fichiers d'un dossier\n",
    "\n",
    "`ls nom_dossier`\n",
    "\n",
    "## Afficher tous les fichiers (mêmes cachés)\n",
    "\n",
    "`ls -a`\n",
    "\n"
   ]
  },
  {
   "cell_type": "markdown",
   "metadata": {},
   "source": [
    "## Créer un dossier \n",
    "\n",
    "`mkdir nom_dossier`\n",
    "\n",
    "## Supprimer un dossier \n",
    "\n",
    "`rmdir nom_dossier`\n",
    "\n",
    "## Créer un fichier \n",
    "\n",
    "`touch nom_fichier`\n",
    "\n",
    "## Copier un fichier\n",
    "\n",
    "`cp source destination`\n",
    "\n",
    "## Déplacer un fichier\n",
    "\n",
    "`mv source destination`\n",
    "\n",
    "## Renommer un fichier \n",
    "\n",
    "`mv ancien_nom.file nouveau_nom.file`\n",
    "\n",
    "## Se déplacer dans un dossier\n",
    "\n",
    "`cd`\n",
    "\n",
    "### Reculer d'un dossier\n",
    "\n",
    "`cd ..`\n",
    "\n",
    "### Retourner au répertoire précédent\n",
    "\n",
    "`cd -`\n",
    "\n",
    "## Afficher le contenu d'un fichier\n",
    " \n",
    " `cat nom_fichier`\n",
    " \n",
    " ## Afficher une ligne d'un fichier \n",
    " \n",
    " `echo nom_fichier`\n",
    " \n",
    " ## Visualiser le contenu d'un fichier\n",
    " \n",
    " `more nom_fichier`\n",
    " \n",
    " ## Afficher le début d'un fichier\n",
    " \n",
    " `head nom_fichier`\n",
    " \n",
    " ## Afficher la fin d'un fichier\n",
    " \n",
    " `tail nom_fichier`"
   ]
  },
  {
   "cell_type": "markdown",
   "metadata": {},
   "source": [
    "## Voir l'historique du terminal\n",
    "\n",
    "`history`"
   ]
  },
  {
   "cell_type": "markdown",
   "metadata": {},
   "source": [
    "## Supprimer un dossier\n",
    "\n",
    "`rmdir [nom] `\n",
    "\n",
    "`rm -r [nom]`  =  supprime dossier avec tout son contenu\n",
    "\n",
    "Si le dossier est protégé utiliser : `rm -rf [nom]`\n",
    "    \n",
    "Si cela ne fonctionne pas, utiliser :  `sudo rm -r -f [nom]`\n",
    "\n"
   ]
  },
  {
   "cell_type": "markdown",
   "metadata": {},
   "source": [
    "---"
   ]
  },
  {
   "cell_type": "markdown",
   "metadata": {},
   "source": [
    "## Lire un fichier ligne par ligne\n",
    "\n",
    "`while read line; do echo $line; done < movies.json`"
   ]
  },
  {
   "cell_type": "markdown",
   "metadata": {},
   "source": [
    "---\n",
    "\n",
    "## Ecrire plusieurs lignes dans un fichier\n",
    "\n",
    "\n",
    "### Methode 1 :\n",
    "\n",
    "echo \"line 1 content\" >> myfile.txt <br />\n",
    "echo \"line 2 content\" >> myfile.txt <br />\n",
    "echo \"line 3 content\" >> myfile.txt <br />\n",
    "\n",
    "\n",
    "### Methode 2 :\n",
    "\n",
    "echo \"line 1 content <br />\n",
    "line 2 content <br />\n",
    "line 3 content\" >> myfile.txt <br />\n",
    "\n",
    "\n",
    "### Methode 3 :\n",
    "\n",
    "cat >> greetings.txt <<EOL <br />\n",
    "line 1 content <br />\n",
    "line 2 content <br />\n",
    "line 3 content <br />\n",
    "EOL"
   ]
  },
  {
   "cell_type": "markdown",
   "metadata": {},
   "source": [
    "---\n",
    "\n",
    "# Accéder aux fichiers Ubuntu dans l'explorer de Windows\n",
    "\n",
    "`\\\\wsl$`"
   ]
  }
 ],
 "metadata": {
  "kernelspec": {
   "display_name": "Python 3 (ipykernel)",
   "language": "python",
   "name": "python3"
  },
  "language_info": {
   "codemirror_mode": {
    "name": "ipython",
    "version": 3
   },
   "file_extension": ".py",
   "mimetype": "text/x-python",
   "name": "python",
   "nbconvert_exporter": "python",
   "pygments_lexer": "ipython3",
   "version": "3.10.0"
  },
  "vscode": {
   "interpreter": {
    "hash": "cce956dd8b59511f520788cd9362dddc117670ac5ef39c9ede8ba85a43b854a0"
   }
  }
 },
 "nbformat": 4,
 "nbformat_minor": 4
}
