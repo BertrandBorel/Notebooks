{
 "cells": [
  {
   "cell_type": "markdown",
   "id": "4d4193f6",
   "metadata": {},
   "source": [
    "# <center> PyMongo </center>"
   ]
  },
  {
   "cell_type": "markdown",
   "id": "ca9ced7c",
   "metadata": {},
   "source": [
    "**source :**\n",
    "\n",
    "- https://www.mongodb.com/blog/post/getting-started-with-python-and-mongodb\n",
    "    \n",
    "- https://pymongo.readthedocs.io/en/stable/"
   ]
  },
  {
   "cell_type": "markdown",
   "id": "26c3658c",
   "metadata": {},
   "source": [
    "**exemples :**\n",
    "- https://zetcode.com/python/pymongo/\n",
    "- https://learntutorials.net/fr/pymongo/topic/2612/demarrer-avec-pymongo \n",
    "- https://pymongo.readthedocs.io/en/stable/examples/index.html "
   ]
  },
  {
   "cell_type": "markdown",
   "id": "6659790a",
   "metadata": {},
   "source": [
    "---"
   ]
  },
  {
   "cell_type": "markdown",
   "id": "16405acc",
   "metadata": {},
   "source": [
    "# Etapes : \n"
   ]
  },
  {
   "cell_type": "markdown",
   "id": "f46562ac",
   "metadata": {},
   "source": [
    "## 1- Installation\n",
    "\n",
    "\n",
    "`python -m pip install pymongo`"
   ]
  },
  {
   "cell_type": "markdown",
   "id": "3756bead",
   "metadata": {},
   "source": [
    "## 2- Lancement\n",
    "\n",
    "- ouvrir docker container\n",
    "- se placer dans le dossier\n",
    "- créer un fichier .py\n",
    "- ouvrir vscode : entrer le script\n",
    "- dans le bash ubuntu lancer le script : `python fichier.py`\n",
    "- note : lancer via le bash ubuntu permet d'éviter les erreurs d'import de vscode."
   ]
  },
  {
   "cell_type": "code",
   "execution_count": null,
   "id": "759c5ce4",
   "metadata": {},
   "outputs": [],
   "source": []
  }
 ],
 "metadata": {
  "kernelspec": {
   "display_name": "Python 3",
   "language": "python",
   "name": "python3"
  },
  "language_info": {
   "codemirror_mode": {
    "name": "ipython",
    "version": 3
   },
   "file_extension": ".py",
   "mimetype": "text/x-python",
   "name": "python",
   "nbconvert_exporter": "python",
   "pygments_lexer": "ipython3",
   "version": "3.8.3"
  }
 },
 "nbformat": 4,
 "nbformat_minor": 5
}
