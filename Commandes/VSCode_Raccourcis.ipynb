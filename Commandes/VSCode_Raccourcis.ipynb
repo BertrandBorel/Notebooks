{
 "cells": [
  {
   "cell_type": "markdown",
   "id": "4353cd23",
   "metadata": {},
   "source": [
    "# <center> Raccourcis VS CODE </center>\n",
    "\n",
    "**Sources :**\n",
    "    \n",
    "- https://code.visualstudio.com/shortcuts/keyboard-shortcuts-windows.pdf\n",
    "- https://www.jesuisundev.com/gagne-du-temps-avec-visual-studio-code/"
   ]
  },
  {
   "cell_type": "markdown",
   "id": "7805b396",
   "metadata": {},
   "source": [
    "## Déplacer une ligne (en gardant l'indentation)\n",
    "\n",
    "`Alt + Up` ou `Alt + Down`\n",
    "\n",
    "## Copier une ligne \n",
    "\n",
    "`Shift + Alt + Up` ou `Shift + Alt + Down`\n",
    "\n",
    "## Supprimer une ligne \n",
    "\n",
    "`Ctrl + X`\n",
    "\n",
    "## Modifier par occurence\n",
    "\n",
    "`Ctrl + D`\n",
    "\n",
    "## Insérer une ligne au-dessus\n",
    "\n",
    "`Ctrl + Shift + Enter`\n",
    "\n",
    "## Insérer une ligne en-dessous\n",
    "\n",
    "`Ctrl + Enter`\n",
    "\n",
    "## Scroller up/down\n",
    "\n",
    "`Ctr + up` ou `Ctrl + down`\n",
    "\n",
    "## Aller au début/fin du document\n",
    "\n",
    "`Alt + PgUp / PgDn `"
   ]
  },
  {
   "cell_type": "code",
   "execution_count": null,
   "id": "89764f41",
   "metadata": {},
   "outputs": [],
   "source": []
  }
 ],
 "metadata": {
  "kernelspec": {
   "display_name": "Python 3 (ipykernel)",
   "language": "python",
   "name": "python3"
  },
  "language_info": {
   "codemirror_mode": {
    "name": "ipython",
    "version": 3
   },
   "file_extension": ".py",
   "mimetype": "text/x-python",
   "name": "python",
   "nbconvert_exporter": "python",
   "pygments_lexer": "ipython3",
   "version": "3.8.3"
  }
 },
 "nbformat": 4,
 "nbformat_minor": 5
}
