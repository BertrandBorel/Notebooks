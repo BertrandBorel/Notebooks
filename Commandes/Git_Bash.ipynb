{
 "cells": [
  {
   "cell_type": "markdown",
   "id": "2f177e3f",
   "metadata": {},
   "source": [
    "# <center> Git Bash </center>\n",
    "\n",
    "**Sources :**\n",
    "- Cours Openclassrooms : https://openclassrooms.com/fr/courses/7162856-gerez-du-code-avec-git-et-github\n"
   ]
  },
  {
   "cell_type": "markdown",
   "id": "474d0d11",
   "metadata": {},
   "source": [
    "### Initialiser un projet Git\n",
    "`git init`\n",
    "\n",
    "### Indexer des fichiers :\n",
    "\n",
    "`git add fichier_1 fichier_2`\n",
    "\n",
    "### Créer une nouvelle version :\n",
    "\n",
    "`git commit -m “Entrez un message”`\n",
    "\n",
    "### Relier le dépôt local au dépôt distant :\n",
    "\n",
    "`git remote add origin lien_du_repository.git`\n",
    "\n",
    "`git branch -M main`\n",
    "\n",
    "### Pusher un commit sur le dépôt distant :\n",
    "\n",
    "`git push -u origin main`\n"
   ]
  },
  {
   "cell_type": "markdown",
   "id": "5be170ab",
   "metadata": {},
   "source": [
    "## Modifier un fichier \n",
    "\n",
    "`git add fichier_modifié`\n",
    "\n",
    "`git commit -m \"Modification du fichier\"`\n",
    "\n",
    "`git push origin main`"
   ]
  },
  {
   "cell_type": "markdown",
   "id": "d0969057",
   "metadata": {},
   "source": [
    "- **git add** permet d’ajouter des fichiers dans l’index, qui est une zone intermédiaire dans laquelle stocker les fichiers modifiés.\n",
    "\n",
    "- **git commit** permet de créer une nouvelle version avec les fichiers situés dans l’index.\n",
    "\n",
    "- **git commit -m** permet de créer une nouvelle version et de préciser le message rattaché au commit.\n",
    "\n",
    "- **git push** permet d’envoyer les modifications faites en local vers un dépôt distant. "
   ]
  },
  {
   "cell_type": "markdown",
   "id": "b1503ef9",
   "metadata": {},
   "source": [
    "### Afficher les branches\n",
    "\n",
    "`git branch`\n",
    "\n",
    "### Créer une nouvelle branche\n",
    "\n",
    "`git branch nom_nouvelle_branche`\n",
    "\n",
    "### Basculer sur une branche \n",
    "\n",
    "`git checkout ma_branche`\n",
    "\n",
    "### Push dans la branche\n",
    "\n",
    "`git push -u origin ma_branche`"
   ]
  },
  {
   "cell_type": "markdown",
   "id": "261379e1",
   "metadata": {},
   "source": [
    "## Merge :\n",
    "Intégration d'une branche secondaire à la branche principale (main).\n",
    "\n",
    "### Se placer dans la branche principale\n",
    "\n",
    "`git checkout main`\n",
    "\n",
    "### Appliquer le merge\n",
    "\n",
    "`git merge ma_branche`"
   ]
  },
  {
   "cell_type": "markdown",
   "id": "5aee1fc3",
   "metadata": {},
   "source": [
    "- Une branche est une “copie” d’un projet sur laquelle on opère des modifications de code.\n",
    "\n",
    "- La branche main (ou anciennement master) est la branche principale d’un projet.\n",
    "\n",
    "- **git checkout** permet de basculer d’une branche à une autre.\n",
    "\n",
    "- **git merge** permet de fusionner deux branches."
   ]
  }
 ],
 "metadata": {
  "kernelspec": {
   "display_name": "Python 3 (ipykernel)",
   "language": "python",
   "name": "python3"
  },
  "language_info": {
   "codemirror_mode": {
    "name": "ipython",
    "version": 3
   },
   "file_extension": ".py",
   "mimetype": "text/x-python",
   "name": "python",
   "nbconvert_exporter": "python",
   "pygments_lexer": "ipython3",
   "version": "3.8.3"
  }
 },
 "nbformat": 4,
 "nbformat_minor": 5
}
