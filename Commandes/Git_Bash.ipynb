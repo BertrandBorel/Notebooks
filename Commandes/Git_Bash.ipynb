{
 "cells": [
  {
   "cell_type": "markdown",
   "id": "7d356ed4",
   "metadata": {},
   "source": [
    "# <center> Git Bash </center>\n",
    "\n",
    "**Sources :**\n",
    "- Cours Openclassrooms : https://openclassrooms.com/fr/courses/7162856-gerez-du-code-avec-git-et-github\n",
    "- https://dzone.com/articles/top-20-git-commands-with-examples\n",
    "- https://www.atlassian.com/fr/git/tutorials/saving-changes/git-stash"
   ]
  },
  {
   "cell_type": "markdown",
   "id": "b519a215",
   "metadata": {},
   "source": [
    "### Initialiser un projet Git\n",
    "`git init`\n",
    "\n",
    "### Indexer des fichiers :\n",
    "\n",
    "`git add fichier_1 fichier_2`\n",
    "\n",
    "### Créer une nouvelle version :\n",
    "\n",
    "`git commit -m “Entrez un message”`\n",
    "\n",
    "### Relier le dépôt local au dépôt distant :\n",
    "\n",
    "`git remote add origin lien_du_repository.git`\n",
    "\n",
    "Si la branche s'appelle *master*, changer son nom en *main* :\n",
    "\n",
    "`git branch -M main`\n",
    "\n",
    "### Voir les modifications\n",
    "\n",
    "`git status`\n",
    "\n",
    "### Commande *stash*\n",
    "\n",
    "Stocke (ou stashe) temporairement les changements apportés à votre copie de travail pour que vous puissiez effectuer d'autres tâches, puis revenir et les réappliquer par la suite.\n",
    "\n",
    "`git stash`\n",
    "\n",
    "#### Appliquer les modifications du *stash*\n",
    "\n",
    "`git stash apply` \n",
    "\n",
    "#### Lister les différents *stash*\n",
    "\n",
    "`git stash list`\n",
    "\n",
    "#### Appeler un élément particulier de la liste *stash*\n",
    "\n",
    "`git stash apply stash@{0}`\n",
    "\n",
    "### Pusher un commit sur le dépôt distant :\n",
    "\n",
    "`git push -u origin main`\n"
   ]
  },
  {
   "cell_type": "markdown",
   "id": "5914de5e",
   "metadata": {},
   "source": [
    "## Modifier un fichier \n",
    "\n",
    "`git add fichier_modifié`\n",
    "\n",
    "`git commit -m \"Modification du fichier\"`\n",
    "\n",
    "`git push origin main`"
   ]
  },
  {
   "cell_type": "markdown",
   "id": "fc8e1cb2",
   "metadata": {},
   "source": [
    "- **git add** permet d’ajouter des fichiers dans l’index, qui est une zone intermédiaire dans laquelle stocker les fichiers modifiés.\n",
    "\n",
    "- **git commit** permet de créer une nouvelle version avec les fichiers situés dans l’index.\n",
    "\n",
    "- **git commit -m** permet de créer une nouvelle version et de préciser le message rattaché au commit.\n",
    "\n",
    "- **git push** permet d’envoyer les modifications faites en local vers un dépôt distant. "
   ]
  },
  {
   "cell_type": "markdown",
   "id": "b765aa35",
   "metadata": {},
   "source": [
    "### Afficher les branches\n",
    "\n",
    "`git branch`\n",
    "\n",
    "### Créer une nouvelle branche\n",
    "\n",
    "`git branch nom_nouvelle_branche`\n",
    "\n",
    "### Basculer sur une branche \n",
    "\n",
    "`git checkout ma_branche`\n",
    "\n",
    "### Supprimer une branche\n",
    "\n",
    "`git branch -d ma_branche`\n",
    "\n",
    "### Supprimer une branche (même s'il y a des fichiers)\n",
    "\n",
    "`git branch -D brancheTest`\n",
    "\n",
    "### Push dans la branche\n",
    "\n",
    "`git push -u origin ma_branche`"
   ]
  },
  {
   "cell_type": "markdown",
   "id": "c3b86ee5",
   "metadata": {},
   "source": [
    "## Merge :\n",
    "Intégration d'une branche secondaire à la branche principale (main).\n",
    "\n",
    "### Se placer dans la branche principale\n",
    "\n",
    "`git checkout main`\n",
    "\n",
    "### Appliquer le merge\n",
    "\n",
    "`git merge ma_branche`"
   ]
  },
  {
   "cell_type": "markdown",
   "id": "5d7a0941",
   "metadata": {},
   "source": [
    "- Une branche est une “copie” d’un projet sur laquelle on opère des modifications de code.\n",
    "\n",
    "- La branche main (ou anciennement master) est la branche principale d’un projet.\n",
    "\n",
    "- **git checkout** permet de basculer d’une branche à une autre.\n",
    "\n",
    "- **git merge** permet de fusionner deux branches."
   ]
  },
  {
   "cell_type": "markdown",
   "id": "1014006f",
   "metadata": {},
   "source": [
    "`git pull` permet de dupliquer un dépôt GitHub en local.\n",
    "\n",
    "Exemple : \n",
    "`git pull origin main`"
   ]
  },
  {
   "cell_type": "markdown",
   "id": "9cdcff65",
   "metadata": {},
   "source": [
    "## Supprimer un commit\n",
    "\n",
    "### Récupérer l'identifiant du commit\n",
    "\n",
    "`git log commit`\n",
    "\n",
    "### Suppression de la branche principale du dernier commit\n",
    "\n",
    "`git reset --hard HEAD^`\n",
    "\n",
    "### On peut passer à une nouvelle branche et y appliquer le commit précédement supprimé :\n",
    "\n",
    "`git reset --hard identifiant`\n",
    "\n",
    "**Note :** Seuls les 8 premiers chiffres de l'identifiant sont nécessaires"
   ]
  },
  {
   "cell_type": "code",
   "execution_count": null,
   "id": "6d64bd69",
   "metadata": {},
   "outputs": [],
   "source": []
  }
 ],
 "metadata": {
  "kernelspec": {
   "display_name": "Python 3 (ipykernel)",
   "language": "python",
   "name": "python3"
  },
  "language_info": {
   "codemirror_mode": {
    "name": "ipython",
    "version": 3
   },
   "file_extension": ".py",
   "mimetype": "text/x-python",
   "name": "python",
   "nbconvert_exporter": "python",
   "pygments_lexer": "ipython3",
   "version": "3.8.3"
  }
 },
 "nbformat": 4,
 "nbformat_minor": 5
}
