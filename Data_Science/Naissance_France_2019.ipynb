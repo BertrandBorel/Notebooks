{
 "cells": [
  {
   "cell_type": "markdown",
   "id": "5c6e7617",
   "metadata": {},
   "source": [
    "# <center> Naissance en France (2019) </center>\n",
    "\n",
    "**Source :** Data.gouv, https://www.insee.fr/fr/statistiques/4768335?sommaire=4768339\n",
    "\n",
    "## Importations"
   ]
  },
  {
   "cell_type": "code",
   "execution_count": 51,
   "id": "db977014",
   "metadata": {},
   "outputs": [],
   "source": [
    "import pandas as pd\n",
    "import matplotlib.pyplot as plt"
   ]
  },
  {
   "cell_type": "markdown",
   "id": "f29554de",
   "metadata": {},
   "source": [
    "## Chargement des données"
   ]
  },
  {
   "cell_type": "code",
   "execution_count": 26,
   "id": "e916da1f",
   "metadata": {},
   "outputs": [
    {
     "name": "stderr",
     "output_type": "stream",
     "text": [
      "C:\\Users\\PC\\AppData\\Local\\Temp\\ipykernel_26848\\2456027874.py:4: DtypeWarning: Columns (10,11) have mixed types. Specify dtype option on import or set low_memory=False.\n",
      "  df1 = pd.read_csv(\"./naissance_2019/FD_NAIS_2019.csv\", sep=\";\")\n"
     ]
    }
   ],
   "source": [
    "# données\n",
    "df1 = pd.read_csv(\"./naissance_2019/FD_NAIS_2019.csv\", sep=\";\")\n",
    "\n",
    "# légendes et informations\n",
    "df2 = pd.read_csv(\"./naissance_2019/varmod_NAIS_2019.csv\", sep=\";\")"
   ]
  },
  {
   "cell_type": "code",
   "execution_count": 27,
   "id": "d14a246a",
   "metadata": {},
   "outputs": [
    {
     "data": {
      "text/html": [
       "<div>\n",
       "<style scoped>\n",
       "    .dataframe tbody tr th:only-of-type {\n",
       "        vertical-align: middle;\n",
       "    }\n",
       "\n",
       "    .dataframe tbody tr th {\n",
       "        vertical-align: top;\n",
       "    }\n",
       "\n",
       "    .dataframe thead th {\n",
       "        text-align: right;\n",
       "    }\n",
       "</style>\n",
       "<table border=\"1\" class=\"dataframe\">\n",
       "  <thead>\n",
       "    <tr style=\"text-align: right;\">\n",
       "      <th></th>\n",
       "      <th>ANAIS</th>\n",
       "      <th>ACCOUCHR</th>\n",
       "      <th>AGEMERE</th>\n",
       "      <th>AGEPERE</th>\n",
       "      <th>AGEXACTM</th>\n",
       "      <th>AGEXACTP</th>\n",
       "      <th>AMAR</th>\n",
       "      <th>ARECC</th>\n",
       "      <th>ARECM</th>\n",
       "      <th>ARECP</th>\n",
       "      <th>...</th>\n",
       "      <th>MRECC</th>\n",
       "      <th>MRECM</th>\n",
       "      <th>MRECP</th>\n",
       "      <th>NBENF</th>\n",
       "      <th>ORIGINOM</th>\n",
       "      <th>SEXE</th>\n",
       "      <th>SITUATMR</th>\n",
       "      <th>SITUATPR</th>\n",
       "      <th>TUCOM</th>\n",
       "      <th>TUDOM</th>\n",
       "    </tr>\n",
       "  </thead>\n",
       "  <tbody>\n",
       "    <tr>\n",
       "      <th>0</th>\n",
       "      <td>2019</td>\n",
       "      <td>ES</td>\n",
       "      <td>33</td>\n",
       "      <td>33</td>\n",
       "      <td>32</td>\n",
       "      <td>32</td>\n",
       "      <td>0</td>\n",
       "      <td>0</td>\n",
       "      <td>2019</td>\n",
       "      <td>2019</td>\n",
       "      <td>...</td>\n",
       "      <td>0</td>\n",
       "      <td>1</td>\n",
       "      <td>1</td>\n",
       "      <td>1</td>\n",
       "      <td>1.0</td>\n",
       "      <td>2</td>\n",
       "      <td>S</td>\n",
       "      <td>S</td>\n",
       "      <td>NaN</td>\n",
       "      <td>9</td>\n",
       "    </tr>\n",
       "    <tr>\n",
       "      <th>1</th>\n",
       "      <td>2019</td>\n",
       "      <td>ES</td>\n",
       "      <td>36</td>\n",
       "      <td>40</td>\n",
       "      <td>35</td>\n",
       "      <td>39</td>\n",
       "      <td>0</td>\n",
       "      <td>0</td>\n",
       "      <td>2019</td>\n",
       "      <td>2019</td>\n",
       "      <td>...</td>\n",
       "      <td>0</td>\n",
       "      <td>7</td>\n",
       "      <td>7</td>\n",
       "      <td>1</td>\n",
       "      <td>1.0</td>\n",
       "      <td>2</td>\n",
       "      <td>S</td>\n",
       "      <td>S</td>\n",
       "      <td>NaN</td>\n",
       "      <td>9</td>\n",
       "    </tr>\n",
       "    <tr>\n",
       "      <th>2</th>\n",
       "      <td>2019</td>\n",
       "      <td>ES</td>\n",
       "      <td>37</td>\n",
       "      <td>41</td>\n",
       "      <td>37</td>\n",
       "      <td>41</td>\n",
       "      <td>2010</td>\n",
       "      <td>0</td>\n",
       "      <td>0</td>\n",
       "      <td>0</td>\n",
       "      <td>...</td>\n",
       "      <td>0</td>\n",
       "      <td>0</td>\n",
       "      <td>0</td>\n",
       "      <td>1</td>\n",
       "      <td>1.0</td>\n",
       "      <td>1</td>\n",
       "      <td>NaN</td>\n",
       "      <td>NS</td>\n",
       "      <td>NaN</td>\n",
       "      <td>9</td>\n",
       "    </tr>\n",
       "    <tr>\n",
       "      <th>3</th>\n",
       "      <td>2019</td>\n",
       "      <td>ES</td>\n",
       "      <td>26</td>\n",
       "      <td>29</td>\n",
       "      <td>26</td>\n",
       "      <td>29</td>\n",
       "      <td>0</td>\n",
       "      <td>0</td>\n",
       "      <td>2019</td>\n",
       "      <td>0</td>\n",
       "      <td>...</td>\n",
       "      <td>0</td>\n",
       "      <td>12</td>\n",
       "      <td>0</td>\n",
       "      <td>1</td>\n",
       "      <td>2.0</td>\n",
       "      <td>2</td>\n",
       "      <td>S</td>\n",
       "      <td>ND</td>\n",
       "      <td>NaN</td>\n",
       "      <td>9</td>\n",
       "    </tr>\n",
       "    <tr>\n",
       "      <th>4</th>\n",
       "      <td>2019</td>\n",
       "      <td>AU</td>\n",
       "      <td>27</td>\n",
       "      <td>31</td>\n",
       "      <td>26</td>\n",
       "      <td>31</td>\n",
       "      <td>0</td>\n",
       "      <td>0</td>\n",
       "      <td>2019</td>\n",
       "      <td>0</td>\n",
       "      <td>...</td>\n",
       "      <td>0</td>\n",
       "      <td>4</td>\n",
       "      <td>0</td>\n",
       "      <td>1</td>\n",
       "      <td>1.0</td>\n",
       "      <td>1</td>\n",
       "      <td>NaN</td>\n",
       "      <td>NaN</td>\n",
       "      <td>NaN</td>\n",
       "      <td>9</td>\n",
       "    </tr>\n",
       "  </tbody>\n",
       "</table>\n",
       "<p>5 rows × 32 columns</p>\n",
       "</div>"
      ],
      "text/plain": [
       "   ANAIS ACCOUCHR  AGEMERE  AGEPERE  AGEXACTM  AGEXACTP  AMAR  ARECC  ARECM  \\\n",
       "0   2019       ES       33       33        32        32     0      0   2019   \n",
       "1   2019       ES       36       40        35        39     0      0   2019   \n",
       "2   2019       ES       37       41        37        41  2010      0      0   \n",
       "3   2019       ES       26       29        26        29     0      0   2019   \n",
       "4   2019       AU       27       31        26        31     0      0   2019   \n",
       "\n",
       "   ARECP  ... MRECC MRECM  MRECP  NBENF  ORIGINOM  SEXE  SITUATMR  SITUATPR  \\\n",
       "0   2019  ...     0     1      1      1       1.0     2         S         S   \n",
       "1   2019  ...     0     7      7      1       1.0     2         S         S   \n",
       "2      0  ...     0     0      0      1       1.0     1       NaN        NS   \n",
       "3      0  ...     0    12      0      1       2.0     2         S        ND   \n",
       "4      0  ...     0     4      0      1       1.0     1       NaN       NaN   \n",
       "\n",
       "   TUCOM  TUDOM  \n",
       "0    NaN      9  \n",
       "1    NaN      9  \n",
       "2    NaN      9  \n",
       "3    NaN      9  \n",
       "4    NaN      9  \n",
       "\n",
       "[5 rows x 32 columns]"
      ]
     },
     "execution_count": 27,
     "metadata": {},
     "output_type": "execute_result"
    }
   ],
   "source": [
    "df1.head()"
   ]
  },
  {
   "cell_type": "code",
   "execution_count": 28,
   "id": "7c9fcd07",
   "metadata": {},
   "outputs": [
    {
     "data": {
      "text/html": [
       "<div>\n",
       "<style scoped>\n",
       "    .dataframe tbody tr th:only-of-type {\n",
       "        vertical-align: middle;\n",
       "    }\n",
       "\n",
       "    .dataframe tbody tr th {\n",
       "        vertical-align: top;\n",
       "    }\n",
       "\n",
       "    .dataframe thead th {\n",
       "        text-align: right;\n",
       "    }\n",
       "</style>\n",
       "<table border=\"1\" class=\"dataframe\">\n",
       "  <thead>\n",
       "    <tr style=\"text-align: right;\">\n",
       "      <th></th>\n",
       "      <th>COD_VAR</th>\n",
       "      <th>LIB_VAR</th>\n",
       "      <th>COD_MOD</th>\n",
       "      <th>LIB_MOD</th>\n",
       "      <th>TYPE_VAR</th>\n",
       "      <th>LONG_VAR</th>\n",
       "    </tr>\n",
       "  </thead>\n",
       "  <tbody>\n",
       "    <tr>\n",
       "      <th>0</th>\n",
       "      <td>ANAIS</td>\n",
       "      <td>Année de naissance de l'enfant</td>\n",
       "      <td>2019</td>\n",
       "      <td>Fichier naissances de 2019</td>\n",
       "      <td>CHAR</td>\n",
       "      <td>4</td>\n",
       "    </tr>\n",
       "    <tr>\n",
       "      <th>1</th>\n",
       "      <td>ACCOUCHR</td>\n",
       "      <td>Conditions de l’accouchement</td>\n",
       "      <td>NaN</td>\n",
       "      <td>Jugement déclaratif de naissance</td>\n",
       "      <td>CHAR</td>\n",
       "      <td>2</td>\n",
       "    </tr>\n",
       "    <tr>\n",
       "      <th>2</th>\n",
       "      <td>ACCOUCHR</td>\n",
       "      <td>Conditions de l’accouchement</td>\n",
       "      <td>ES</td>\n",
       "      <td>Dans un établissement spécialisé</td>\n",
       "      <td>CHAR</td>\n",
       "      <td>2</td>\n",
       "    </tr>\n",
       "    <tr>\n",
       "      <th>3</th>\n",
       "      <td>ACCOUCHR</td>\n",
       "      <td>Conditions de l’accouchement</td>\n",
       "      <td>AU</td>\n",
       "      <td>Autre</td>\n",
       "      <td>CHAR</td>\n",
       "      <td>2</td>\n",
       "    </tr>\n",
       "    <tr>\n",
       "      <th>4</th>\n",
       "      <td>AGEMERE</td>\n",
       "      <td>Age de la mère dans l’année de naissance de l’...</td>\n",
       "      <td>17</td>\n",
       "      <td>17 ans ou moins</td>\n",
       "      <td>CHAR</td>\n",
       "      <td>2</td>\n",
       "    </tr>\n",
       "  </tbody>\n",
       "</table>\n",
       "</div>"
      ],
      "text/plain": [
       "    COD_VAR                                            LIB_VAR COD_MOD  \\\n",
       "0     ANAIS                     Année de naissance de l'enfant    2019   \n",
       "1  ACCOUCHR                       Conditions de l’accouchement     NaN   \n",
       "2  ACCOUCHR                       Conditions de l’accouchement      ES   \n",
       "3  ACCOUCHR                       Conditions de l’accouchement      AU   \n",
       "4   AGEMERE  Age de la mère dans l’année de naissance de l’...      17   \n",
       "\n",
       "                            LIB_MOD TYPE_VAR  LONG_VAR  \n",
       "0        Fichier naissances de 2019     CHAR         4  \n",
       "1  Jugement déclaratif de naissance     CHAR         2  \n",
       "2  Dans un établissement spécialisé     CHAR         2  \n",
       "3                             Autre     CHAR         2  \n",
       "4                   17 ans ou moins     CHAR         2  "
      ]
     },
     "execution_count": 28,
     "metadata": {},
     "output_type": "execute_result"
    }
   ],
   "source": [
    "df2.head()"
   ]
  },
  {
   "cell_type": "markdown",
   "id": "49e473c1",
   "metadata": {},
   "source": [
    "## Informations sur le jeu de données"
   ]
  },
  {
   "cell_type": "code",
   "execution_count": 29,
   "id": "b6927cb4",
   "metadata": {},
   "outputs": [
    {
     "name": "stdout",
     "output_type": "stream",
     "text": [
      "<class 'pandas.core.frame.DataFrame'>\n",
      "RangeIndex: 753383 entries, 0 to 753382\n",
      "Data columns (total 32 columns):\n",
      " #   Column    Non-Null Count   Dtype  \n",
      "---  ------    --------------   -----  \n",
      " 0   ANAIS     753383 non-null  int64  \n",
      " 1   ACCOUCHR  752723 non-null  object \n",
      " 2   AGEMERE   753383 non-null  int64  \n",
      " 3   AGEPERE   753383 non-null  int64  \n",
      " 4   AGEXACTM  753383 non-null  int64  \n",
      " 5   AGEXACTP  753383 non-null  int64  \n",
      " 6   AMAR      753383 non-null  int64  \n",
      " 7   ARECC     753383 non-null  int64  \n",
      " 8   ARECM     753383 non-null  int64  \n",
      " 9   ARECP     753383 non-null  int64  \n",
      " 10  DEPDOM    753383 non-null  object \n",
      " 11  DEPNAIS   753383 non-null  object \n",
      " 12  DMARNAIS  294129 non-null  float64\n",
      " 13  DURECEVP  540575 non-null  float64\n",
      " 14  INDLNM    753383 non-null  int64  \n",
      " 15  INDLNP    753383 non-null  int64  \n",
      " 16  INDNATM   753383 non-null  int64  \n",
      " 17  INDNATP   753383 non-null  int64  \n",
      " 18  JRECC     753383 non-null  int64  \n",
      " 19  JRECM     753383 non-null  int64  \n",
      " 20  JRECP     753383 non-null  int64  \n",
      " 21  MNAIS     753383 non-null  int64  \n",
      " 22  MRECC     753383 non-null  int64  \n",
      " 23  MRECM     753383 non-null  int64  \n",
      " 24  MRECP     753383 non-null  int64  \n",
      " 25  NBENF     753383 non-null  int64  \n",
      " 26  ORIGINOM  752723 non-null  float64\n",
      " 27  SEXE      753383 non-null  int64  \n",
      " 28  SITUATMR  623570 non-null  object \n",
      " 29  SITUATPR  715593 non-null  object \n",
      " 30  TUCOM     751645 non-null  object \n",
      " 31  TUDOM     753383 non-null  int64  \n",
      "dtypes: float64(3), int64(23), object(6)\n",
      "memory usage: 183.9+ MB\n"
     ]
    }
   ],
   "source": [
    "df1.info()"
   ]
  },
  {
   "cell_type": "code",
   "execution_count": 30,
   "id": "7d0ee64b",
   "metadata": {},
   "outputs": [
    {
     "data": {
      "text/html": [
       "<div>\n",
       "<style scoped>\n",
       "    .dataframe tbody tr th:only-of-type {\n",
       "        vertical-align: middle;\n",
       "    }\n",
       "\n",
       "    .dataframe tbody tr th {\n",
       "        vertical-align: top;\n",
       "    }\n",
       "\n",
       "    .dataframe thead th {\n",
       "        text-align: right;\n",
       "    }\n",
       "</style>\n",
       "<table border=\"1\" class=\"dataframe\">\n",
       "  <thead>\n",
       "    <tr style=\"text-align: right;\">\n",
       "      <th></th>\n",
       "      <th>ANAIS</th>\n",
       "      <th>AGEMERE</th>\n",
       "      <th>AGEPERE</th>\n",
       "      <th>AGEXACTM</th>\n",
       "      <th>AGEXACTP</th>\n",
       "      <th>AMAR</th>\n",
       "      <th>ARECC</th>\n",
       "      <th>ARECM</th>\n",
       "      <th>ARECP</th>\n",
       "      <th>DMARNAIS</th>\n",
       "      <th>...</th>\n",
       "      <th>JRECM</th>\n",
       "      <th>JRECP</th>\n",
       "      <th>MNAIS</th>\n",
       "      <th>MRECC</th>\n",
       "      <th>MRECM</th>\n",
       "      <th>MRECP</th>\n",
       "      <th>NBENF</th>\n",
       "      <th>ORIGINOM</th>\n",
       "      <th>SEXE</th>\n",
       "      <th>TUDOM</th>\n",
       "    </tr>\n",
       "  </thead>\n",
       "  <tbody>\n",
       "    <tr>\n",
       "      <th>count</th>\n",
       "      <td>753383.0</td>\n",
       "      <td>753383.000000</td>\n",
       "      <td>753383.000000</td>\n",
       "      <td>753383.000000</td>\n",
       "      <td>753383.000000</td>\n",
       "      <td>753383.000000</td>\n",
       "      <td>753383.000000</td>\n",
       "      <td>753383.000000</td>\n",
       "      <td>753383.000000</td>\n",
       "      <td>294129.000000</td>\n",
       "      <td>...</td>\n",
       "      <td>753383.000000</td>\n",
       "      <td>753383.000000</td>\n",
       "      <td>753383.000000</td>\n",
       "      <td>753383.000000</td>\n",
       "      <td>753383.000000</td>\n",
       "      <td>753383.000000</td>\n",
       "      <td>753383.000000</td>\n",
       "      <td>752723.000000</td>\n",
       "      <td>753383.000000</td>\n",
       "      <td>753383.000000</td>\n",
       "    </tr>\n",
       "    <tr>\n",
       "      <th>mean</th>\n",
       "      <td>2019.0</td>\n",
       "      <td>30.963343</td>\n",
       "      <td>33.810635</td>\n",
       "      <td>30.475721</td>\n",
       "      <td>33.346060</td>\n",
       "      <td>784.427561</td>\n",
       "      <td>441.707591</td>\n",
       "      <td>788.218858</td>\n",
       "      <td>519.687403</td>\n",
       "      <td>1.493522</td>\n",
       "      <td>...</td>\n",
       "      <td>6.137335</td>\n",
       "      <td>4.039143</td>\n",
       "      <td>6.594496</td>\n",
       "      <td>1.396519</td>\n",
       "      <td>2.590869</td>\n",
       "      <td>1.666997</td>\n",
       "      <td>1.032569</td>\n",
       "      <td>1.332321</td>\n",
       "      <td>1.488921</td>\n",
       "      <td>4.848341</td>\n",
       "    </tr>\n",
       "    <tr>\n",
       "      <th>std</th>\n",
       "      <td>0.0</td>\n",
       "      <td>5.375104</td>\n",
       "      <td>6.064454</td>\n",
       "      <td>5.375052</td>\n",
       "      <td>6.113901</td>\n",
       "      <td>982.000890</td>\n",
       "      <td>834.647456</td>\n",
       "      <td>984.947627</td>\n",
       "      <td>882.695340</td>\n",
       "      <td>0.612877</td>\n",
       "      <td>...</td>\n",
       "      <td>9.431173</td>\n",
       "      <td>8.173893</td>\n",
       "      <td>3.420602</td>\n",
       "      <td>3.091536</td>\n",
       "      <td>3.880642</td>\n",
       "      <td>3.322740</td>\n",
       "      <td>0.181645</td>\n",
       "      <td>0.758643</td>\n",
       "      <td>0.499878</td>\n",
       "      <td>2.983444</td>\n",
       "    </tr>\n",
       "    <tr>\n",
       "      <th>min</th>\n",
       "      <td>2019.0</td>\n",
       "      <td>17.000000</td>\n",
       "      <td>17.000000</td>\n",
       "      <td>17.000000</td>\n",
       "      <td>17.000000</td>\n",
       "      <td>0.000000</td>\n",
       "      <td>0.000000</td>\n",
       "      <td>0.000000</td>\n",
       "      <td>0.000000</td>\n",
       "      <td>1.000000</td>\n",
       "      <td>...</td>\n",
       "      <td>0.000000</td>\n",
       "      <td>0.000000</td>\n",
       "      <td>1.000000</td>\n",
       "      <td>0.000000</td>\n",
       "      <td>0.000000</td>\n",
       "      <td>0.000000</td>\n",
       "      <td>1.000000</td>\n",
       "      <td>1.000000</td>\n",
       "      <td>1.000000</td>\n",
       "      <td>0.000000</td>\n",
       "    </tr>\n",
       "    <tr>\n",
       "      <th>25%</th>\n",
       "      <td>2019.0</td>\n",
       "      <td>27.000000</td>\n",
       "      <td>30.000000</td>\n",
       "      <td>27.000000</td>\n",
       "      <td>29.000000</td>\n",
       "      <td>0.000000</td>\n",
       "      <td>0.000000</td>\n",
       "      <td>0.000000</td>\n",
       "      <td>0.000000</td>\n",
       "      <td>1.000000</td>\n",
       "      <td>...</td>\n",
       "      <td>0.000000</td>\n",
       "      <td>0.000000</td>\n",
       "      <td>4.000000</td>\n",
       "      <td>0.000000</td>\n",
       "      <td>0.000000</td>\n",
       "      <td>0.000000</td>\n",
       "      <td>1.000000</td>\n",
       "      <td>1.000000</td>\n",
       "      <td>1.000000</td>\n",
       "      <td>2.000000</td>\n",
       "    </tr>\n",
       "    <tr>\n",
       "      <th>50%</th>\n",
       "      <td>2019.0</td>\n",
       "      <td>31.000000</td>\n",
       "      <td>33.000000</td>\n",
       "      <td>30.000000</td>\n",
       "      <td>33.000000</td>\n",
       "      <td>0.000000</td>\n",
       "      <td>0.000000</td>\n",
       "      <td>0.000000</td>\n",
       "      <td>0.000000</td>\n",
       "      <td>1.000000</td>\n",
       "      <td>...</td>\n",
       "      <td>0.000000</td>\n",
       "      <td>0.000000</td>\n",
       "      <td>7.000000</td>\n",
       "      <td>0.000000</td>\n",
       "      <td>0.000000</td>\n",
       "      <td>0.000000</td>\n",
       "      <td>1.000000</td>\n",
       "      <td>1.000000</td>\n",
       "      <td>1.000000</td>\n",
       "      <td>6.000000</td>\n",
       "    </tr>\n",
       "    <tr>\n",
       "      <th>75%</th>\n",
       "      <td>2019.0</td>\n",
       "      <td>35.000000</td>\n",
       "      <td>38.000000</td>\n",
       "      <td>34.000000</td>\n",
       "      <td>37.000000</td>\n",
       "      <td>2013.000000</td>\n",
       "      <td>0.000000</td>\n",
       "      <td>2019.000000</td>\n",
       "      <td>2018.000000</td>\n",
       "      <td>2.000000</td>\n",
       "      <td>...</td>\n",
       "      <td>11.000000</td>\n",
       "      <td>2.000000</td>\n",
       "      <td>10.000000</td>\n",
       "      <td>0.000000</td>\n",
       "      <td>5.000000</td>\n",
       "      <td>1.000000</td>\n",
       "      <td>1.000000</td>\n",
       "      <td>1.000000</td>\n",
       "      <td>2.000000</td>\n",
       "      <td>7.000000</td>\n",
       "    </tr>\n",
       "    <tr>\n",
       "      <th>max</th>\n",
       "      <td>2019.0</td>\n",
       "      <td>46.000000</td>\n",
       "      <td>46.000000</td>\n",
       "      <td>46.000000</td>\n",
       "      <td>46.000000</td>\n",
       "      <td>2019.000000</td>\n",
       "      <td>2019.000000</td>\n",
       "      <td>2019.000000</td>\n",
       "      <td>2020.000000</td>\n",
       "      <td>9.000000</td>\n",
       "      <td>...</td>\n",
       "      <td>31.000000</td>\n",
       "      <td>31.000000</td>\n",
       "      <td>12.000000</td>\n",
       "      <td>12.000000</td>\n",
       "      <td>12.000000</td>\n",
       "      <td>12.000000</td>\n",
       "      <td>3.000000</td>\n",
       "      <td>5.000000</td>\n",
       "      <td>2.000000</td>\n",
       "      <td>9.000000</td>\n",
       "    </tr>\n",
       "  </tbody>\n",
       "</table>\n",
       "<p>8 rows × 26 columns</p>\n",
       "</div>"
      ],
      "text/plain": [
       "          ANAIS        AGEMERE        AGEPERE       AGEXACTM       AGEXACTP  \\\n",
       "count  753383.0  753383.000000  753383.000000  753383.000000  753383.000000   \n",
       "mean     2019.0      30.963343      33.810635      30.475721      33.346060   \n",
       "std         0.0       5.375104       6.064454       5.375052       6.113901   \n",
       "min      2019.0      17.000000      17.000000      17.000000      17.000000   \n",
       "25%      2019.0      27.000000      30.000000      27.000000      29.000000   \n",
       "50%      2019.0      31.000000      33.000000      30.000000      33.000000   \n",
       "75%      2019.0      35.000000      38.000000      34.000000      37.000000   \n",
       "max      2019.0      46.000000      46.000000      46.000000      46.000000   \n",
       "\n",
       "                AMAR          ARECC          ARECM          ARECP  \\\n",
       "count  753383.000000  753383.000000  753383.000000  753383.000000   \n",
       "mean      784.427561     441.707591     788.218858     519.687403   \n",
       "std       982.000890     834.647456     984.947627     882.695340   \n",
       "min         0.000000       0.000000       0.000000       0.000000   \n",
       "25%         0.000000       0.000000       0.000000       0.000000   \n",
       "50%         0.000000       0.000000       0.000000       0.000000   \n",
       "75%      2013.000000       0.000000    2019.000000    2018.000000   \n",
       "max      2019.000000    2019.000000    2019.000000    2020.000000   \n",
       "\n",
       "            DMARNAIS  ...          JRECM          JRECP          MNAIS  \\\n",
       "count  294129.000000  ...  753383.000000  753383.000000  753383.000000   \n",
       "mean        1.493522  ...       6.137335       4.039143       6.594496   \n",
       "std         0.612877  ...       9.431173       8.173893       3.420602   \n",
       "min         1.000000  ...       0.000000       0.000000       1.000000   \n",
       "25%         1.000000  ...       0.000000       0.000000       4.000000   \n",
       "50%         1.000000  ...       0.000000       0.000000       7.000000   \n",
       "75%         2.000000  ...      11.000000       2.000000      10.000000   \n",
       "max         9.000000  ...      31.000000      31.000000      12.000000   \n",
       "\n",
       "               MRECC          MRECM          MRECP          NBENF  \\\n",
       "count  753383.000000  753383.000000  753383.000000  753383.000000   \n",
       "mean        1.396519       2.590869       1.666997       1.032569   \n",
       "std         3.091536       3.880642       3.322740       0.181645   \n",
       "min         0.000000       0.000000       0.000000       1.000000   \n",
       "25%         0.000000       0.000000       0.000000       1.000000   \n",
       "50%         0.000000       0.000000       0.000000       1.000000   \n",
       "75%         0.000000       5.000000       1.000000       1.000000   \n",
       "max        12.000000      12.000000      12.000000       3.000000   \n",
       "\n",
       "            ORIGINOM           SEXE          TUDOM  \n",
       "count  752723.000000  753383.000000  753383.000000  \n",
       "mean        1.332321       1.488921       4.848341  \n",
       "std         0.758643       0.499878       2.983444  \n",
       "min         1.000000       1.000000       0.000000  \n",
       "25%         1.000000       1.000000       2.000000  \n",
       "50%         1.000000       1.000000       6.000000  \n",
       "75%         1.000000       2.000000       7.000000  \n",
       "max         5.000000       2.000000       9.000000  \n",
       "\n",
       "[8 rows x 26 columns]"
      ]
     },
     "execution_count": 30,
     "metadata": {},
     "output_type": "execute_result"
    }
   ],
   "source": [
    "df1.describe()"
   ]
  },
  {
   "cell_type": "markdown",
   "id": "bb100372",
   "metadata": {},
   "source": [
    "### Taille "
   ]
  },
  {
   "cell_type": "code",
   "execution_count": 31,
   "id": "2159ff27",
   "metadata": {},
   "outputs": [
    {
     "data": {
      "text/plain": [
       "(753383, 32)"
      ]
     },
     "execution_count": 31,
     "metadata": {},
     "output_type": "execute_result"
    }
   ],
   "source": [
    "df1.shape"
   ]
  },
  {
   "cell_type": "markdown",
   "id": "72a5affb",
   "metadata": {},
   "source": [
    "### Nom des colonnes"
   ]
  },
  {
   "cell_type": "code",
   "execution_count": 32,
   "id": "bf4a9295",
   "metadata": {},
   "outputs": [
    {
     "data": {
      "text/plain": [
       "Index(['ANAIS', 'ACCOUCHR', 'AGEMERE', 'AGEPERE', 'AGEXACTM', 'AGEXACTP',\n",
       "       'AMAR', 'ARECC', 'ARECM', 'ARECP', 'DEPDOM', 'DEPNAIS', 'DMARNAIS',\n",
       "       'DURECEVP', 'INDLNM', 'INDLNP', 'INDNATM', 'INDNATP', 'JRECC', 'JRECM',\n",
       "       'JRECP', 'MNAIS', 'MRECC', 'MRECM', 'MRECP', 'NBENF', 'ORIGINOM',\n",
       "       'SEXE', 'SITUATMR', 'SITUATPR', 'TUCOM', 'TUDOM'],\n",
       "      dtype='object')"
      ]
     },
     "execution_count": 32,
     "metadata": {},
     "output_type": "execute_result"
    }
   ],
   "source": [
    "df1.columns"
   ]
  },
  {
   "cell_type": "markdown",
   "id": "4fabfc7a",
   "metadata": {},
   "source": [
    "## Préparation du jeu de données \n",
    "\n",
    "La colonne \"ANAIS\" étant l'année de naissance, on peut supprimer cette colonne."
   ]
  },
  {
   "cell_type": "code",
   "execution_count": 33,
   "id": "17ad3e88",
   "metadata": {},
   "outputs": [],
   "source": [
    "df1.drop('ANAIS', inplace=True, axis=1)"
   ]
  },
  {
   "cell_type": "markdown",
   "id": "22055d4c",
   "metadata": {},
   "source": [
    "### Détection de valeurs nulles"
   ]
  },
  {
   "cell_type": "code",
   "execution_count": 35,
   "id": "87c2e141",
   "metadata": {},
   "outputs": [
    {
     "name": "stdout",
     "output_type": "stream",
     "text": [
      "       ACCOUCHR AGEMERE AGEPERE AGEXACTM AGEXACTP AMAR ARECC ARECM ARECP  \\\n",
      "0           NaN     NaN     NaN      NaN      NaN  NaN   NaN   NaN   NaN   \n",
      "1           NaN     NaN     NaN      NaN      NaN  NaN   NaN   NaN   NaN   \n",
      "2           NaN     NaN     NaN      NaN      NaN  NaN   NaN   NaN   NaN   \n",
      "3           NaN     NaN     NaN      NaN      NaN  NaN   NaN   NaN   NaN   \n",
      "4           NaN     NaN     NaN      NaN      NaN  NaN   NaN   NaN   NaN   \n",
      "...         ...     ...     ...      ...      ...  ...   ...   ...   ...   \n",
      "753378      NaN     NaN     NaN      NaN      NaN  NaN   NaN   NaN   NaN   \n",
      "753379      NaN     NaN     NaN      NaN      NaN  NaN   NaN   NaN   NaN   \n",
      "753380      NaN     NaN     NaN      NaN      NaN  NaN   NaN   NaN   NaN   \n",
      "753381      NaN     NaN     NaN      NaN      NaN  NaN   NaN   NaN   NaN   \n",
      "753382      NaN     NaN     NaN      NaN      NaN  NaN   NaN   NaN   NaN   \n",
      "\n",
      "       DEPDOM  ... MRECC MRECM MRECP NBENF ORIGINOM SEXE SITUATMR SITUATPR  \\\n",
      "0         NaN  ...   NaN   NaN   NaN   NaN      NaN  NaN      NaN      NaN   \n",
      "1         NaN  ...   NaN   NaN   NaN   NaN      NaN  NaN      NaN      NaN   \n",
      "2         NaN  ...   NaN   NaN   NaN   NaN      NaN  NaN     True      NaN   \n",
      "3         NaN  ...   NaN   NaN   NaN   NaN      NaN  NaN      NaN      NaN   \n",
      "4         NaN  ...   NaN   NaN   NaN   NaN      NaN  NaN     True     True   \n",
      "...       ...  ...   ...   ...   ...   ...      ...  ...      ...      ...   \n",
      "753378    NaN  ...   NaN   NaN   NaN   NaN      NaN  NaN      NaN      NaN   \n",
      "753379    NaN  ...   NaN   NaN   NaN   NaN      NaN  NaN     True      NaN   \n",
      "753380    NaN  ...   NaN   NaN   NaN   NaN      NaN  NaN      NaN      NaN   \n",
      "753381    NaN  ...   NaN   NaN   NaN   NaN      NaN  NaN      NaN     True   \n",
      "753382    NaN  ...   NaN   NaN   NaN   NaN      NaN  NaN      NaN      NaN   \n",
      "\n",
      "       TUCOM TUDOM  \n",
      "0       True   NaN  \n",
      "1       True   NaN  \n",
      "2       True   NaN  \n",
      "3       True   NaN  \n",
      "4       True   NaN  \n",
      "...      ...   ...  \n",
      "753378   NaN   NaN  \n",
      "753379   NaN   NaN  \n",
      "753380   NaN   NaN  \n",
      "753381   NaN   NaN  \n",
      "753382   NaN   NaN  \n",
      "\n",
      "[753383 rows x 31 columns]\n"
     ]
    }
   ],
   "source": [
    "nan = pd.isnull(df1)\n",
    "print(nan[nan==True])"
   ]
  },
  {
   "cell_type": "markdown",
   "id": "3fdfc413",
   "metadata": {},
   "source": [
    "### Détection de valeurs manquantes"
   ]
  },
  {
   "cell_type": "code",
   "execution_count": 44,
   "id": "98ba84e5",
   "metadata": {},
   "outputs": [
    {
     "name": "stdout",
     "output_type": "stream",
     "text": [
      "ACCOUCHR       660\n",
      "AGEMERE          0\n",
      "AGEPERE          0\n",
      "AGEXACTM         0\n",
      "AGEXACTP         0\n",
      "AMAR             0\n",
      "ARECC            0\n",
      "ARECM            0\n",
      "ARECP            0\n",
      "DEPDOM           0\n",
      "DEPNAIS          0\n",
      "DURECEVP    212808\n",
      "INDLNM           0\n",
      "INDLNP           0\n",
      "INDNATM          0\n",
      "INDNATP          0\n",
      "JRECC            0\n",
      "JRECM            0\n",
      "JRECP            0\n",
      "MNAIS            0\n",
      "MRECC            0\n",
      "MRECM            0\n",
      "MRECP            0\n",
      "NBENF            0\n",
      "ORIGINOM       660\n",
      "SEXE             0\n",
      "SITUATMR    129813\n",
      "SITUATPR     37790\n",
      "TUCOM         1738\n",
      "TUDOM            0\n",
      "dtype: int64\n"
     ]
    }
   ],
   "source": [
    "print(df1.isnull().sum())"
   ]
  },
  {
   "cell_type": "code",
   "execution_count": 41,
   "id": "807e934c",
   "metadata": {},
   "outputs": [
    {
     "data": {
      "text/plain": [
       "<AxesSubplot:>"
      ]
     },
     "execution_count": 41,
     "metadata": {},
     "output_type": "execute_result"
    },
    {
     "data": {
      "image/png": "[encoded data removed]",
      "text/plain": [
       "<Figure size 432x288 with 1 Axes>"
      ]
     },
     "metadata": {
      "needs_background": "light"
     },
     "output_type": "display_data"
    }
   ],
   "source": [
    "# visualisation des valeurs manquantes\n",
    "df1.isnull().sum().plot()"
   ]
  },
  {
   "cell_type": "markdown",
   "id": "2de2cba2",
   "metadata": {},
   "source": [
    "La colonne \"**DMARNAIS**\" (Comparaison des dates anniversaires de mariage des parents et de naissance de l’enfant anniversaires de mariage des parents et de naissance de l’enfant) présente énormément de valeurs manquantes, mieux vaut la supprimer.\n",
    "\n",
    "Idem pour la colonne \"**DURECEVP**\" (Durée écoulée depuis l’événement précédent).\n",
    "\n",
    "\"**SITUATMR**\" et \"**SITUATMR**\" (situation professionnelle du père/de la mère) présentent des valeurs manquantes, cependant leur nombre restent raisonnable, et ces deux colonnes peuvent fournir des informations intéressantes."
   ]
  },
  {
   "cell_type": "code",
   "execution_count": 47,
   "id": "b09ba927",
   "metadata": {},
   "outputs": [],
   "source": [
    "# suppressions\n",
    "df1.drop('DMARNAIS', inplace=True, axis=1)\n",
    "df1.drop('DURECEVP', inplace=True, axis=1)"
   ]
  },
  {
   "cell_type": "code",
   "execution_count": 48,
   "id": "e9b0f4b5",
   "metadata": {},
   "outputs": [
    {
     "data": {
      "text/plain": [
       "<AxesSubplot:>"
      ]
     },
     "execution_count": 48,
     "metadata": {},
     "output_type": "execute_result"
    },
    {
     "data": {
      "image/png": "[encoded data removed]",
      "text/plain": [
       "<Figure size 432x288 with 1 Axes>"
      ]
     },
     "metadata": {
      "needs_background": "light"
     },
     "output_type": "display_data"
    }
   ],
   "source": [
    "# visualisation des valeurs manquantes\n",
    "df1.isnull().sum().plot()"
   ]
  },
  {
   "cell_type": "markdown",
   "id": "95f44ffe",
   "metadata": {},
   "source": [
    "## Age des parents à la naissance\n",
    "\n",
    "### Age de la mère :"
   ]
  },
  {
   "cell_type": "code",
   "execution_count": 20,
   "id": "80f4e4ac",
   "metadata": {},
   "outputs": [
    {
     "data": {
      "text/plain": [
       "30.963342682274487"
      ]
     },
     "execution_count": 20,
     "metadata": {},
     "output_type": "execute_result"
    }
   ],
   "source": [
    "# Age moyen : \n",
    "df1.AGEMERE.mean()"
   ]
  },
  {
   "cell_type": "code",
   "execution_count": 21,
   "id": "39590ebe",
   "metadata": {},
   "outputs": [
    {
     "data": {
      "text/plain": [
       "count    753383.000000\n",
       "mean         30.963343\n",
       "std           5.375104\n",
       "min          17.000000\n",
       "25%          27.000000\n",
       "50%          31.000000\n",
       "75%          35.000000\n",
       "max          46.000000\n",
       "Name: AGEMERE, dtype: float64"
      ]
     },
     "execution_count": 21,
     "metadata": {},
     "output_type": "execute_result"
    }
   ],
   "source": [
    "# Précisions statistiques\n",
    "df1.AGEMERE.describe()"
   ]
  },
  {
   "cell_type": "markdown",
   "id": "94b233c0",
   "metadata": {},
   "source": [
    "### Age du père :"
   ]
  },
  {
   "cell_type": "code",
   "execution_count": 93,
   "id": "239ec124",
   "metadata": {},
   "outputs": [
    {
     "data": {
      "text/plain": [
       "33.81063549350065"
      ]
     },
     "execution_count": 93,
     "metadata": {},
     "output_type": "execute_result"
    }
   ],
   "source": [
    "# Age moyen :\n",
    "df1.AGEPERE.mean()"
   ]
  },
  {
   "cell_type": "code",
   "execution_count": 95,
   "id": "f3fd4b2f",
   "metadata": {},
   "outputs": [
    {
     "data": {
      "text/plain": [
       "count    753383.000000\n",
       "mean         33.810635\n",
       "std           6.064454\n",
       "min          17.000000\n",
       "25%          30.000000\n",
       "50%          33.000000\n",
       "75%          38.000000\n",
       "max          46.000000\n",
       "Name: AGEPERE, dtype: float64"
      ]
     },
     "execution_count": 95,
     "metadata": {},
     "output_type": "execute_result"
    }
   ],
   "source": [
    "# Précisions statistiques\n",
    "df1.AGEPERE.describe()"
   ]
  },
  {
   "cell_type": "markdown",
   "id": "19e81a18",
   "metadata": {},
   "source": [
    "## Sexe de l'enfant \n",
    "\n",
    "- **1**: garçon\n",
    "- **2**: fille"
   ]
  },
  {
   "cell_type": "code",
   "execution_count": 91,
   "id": "95ccc5a0",
   "metadata": {},
   "outputs": [
    {
     "name": "stdout",
     "output_type": "stream",
     "text": [
      "Nombres de filles : 368345\n",
      "Nombres de garçons : 385038\n",
      "Somme totale : 753383\n"
     ]
    }
   ],
   "source": [
    "filles = df1[\"SEXE\"][df1[\"SEXE\"] == 2]\n",
    "print(\"Nombres de filles :\", len(filles))\n",
    "\n",
    "garcons = df1[\"SEXE\"][df1[\"SEXE\"] == 1]\n",
    "print(\"Nombres de garçons :\", len(garcons))\n",
    "\n",
    "somme_totale = len(filles) + len(garcons)\n",
    "print(\"Somme totale :\", somme_totale)"
   ]
  },
  {
   "cell_type": "markdown",
   "id": "73108969",
   "metadata": {},
   "source": [
    "### Pourcentage"
   ]
  },
  {
   "cell_type": "code",
   "execution_count": 92,
   "id": "e5be3a73",
   "metadata": {},
   "outputs": [
    {
     "name": "stdout",
     "output_type": "stream",
     "text": [
      "Pourcentage : \n",
      " Filles : 48.8921305630735 \n",
      " Garçons : 51.1078694369265\n"
     ]
    }
   ],
   "source": [
    "pourcentage_filles = len(filles) / somme_totale * 100\n",
    "pourcentage_garcons = len(garcons) / somme_totale * 100\n",
    "\n",
    "print(\"Pourcentage : \\n\", \"Filles :\", pourcentage_filles, \"\\n\", \"Garçons :\", pourcentage_garcons)"
   ]
  },
  {
   "cell_type": "markdown",
   "id": "8c7e325a",
   "metadata": {},
   "source": [
    "### Visualisations"
   ]
  },
  {
   "cell_type": "code",
   "execution_count": 86,
   "id": "bacd7039",
   "metadata": {},
   "outputs": [
    {
     "data": {
      "text/plain": [
       "<AxesSubplot:ylabel='SEXE'>"
      ]
     },
     "execution_count": 86,
     "metadata": {},
     "output_type": "execute_result"
    },
    {
     "data": {
      "image/png": "[encoded data removed]",
      "text/plain": [
       "<Figure size 504x504 with 1 Axes>"
      ]
     },
     "metadata": {},
     "output_type": "display_data"
    }
   ],
   "source": [
    "df1[\"SEXE\"].value_counts(normalize=True).plot.pie(legend=True, figsize=(7, 7))"
   ]
  },
  {
   "cell_type": "code",
   "execution_count": 89,
   "id": "024c72bb",
   "metadata": {},
   "outputs": [
    {
     "data": {
      "text/plain": [
       "<AxesSubplot:>"
      ]
     },
     "execution_count": 89,
     "metadata": {},
     "output_type": "execute_result"
    },
    {
     "data": {
      "image/png": "[encoded data removed]",
      "text/plain": [
       "<Figure size 504x504 with 1 Axes>"
      ]
     },
     "metadata": {
      "needs_background": "light"
     },
     "output_type": "display_data"
    }
   ],
   "source": [
    "df1[\"SEXE\"].value_counts(normalize=True).plot.bar(legend=True, figsize=(7, 7))"
   ]
  }
 ],
 "metadata": {
  "kernelspec": {
   "display_name": "Python 3 (ipykernel)",
   "language": "python",
   "name": "python3"
  },
  "language_info": {
   "codemirror_mode": {
    "name": "ipython",
    "version": 3
   },
   "file_extension": ".py",
   "mimetype": "text/x-python",
   "name": "python",
   "nbconvert_exporter": "python",
   "pygments_lexer": "ipython3",
   "version": "3.9.12"
  }
 },
 "nbformat": 4,
 "nbformat_minor": 5
}
