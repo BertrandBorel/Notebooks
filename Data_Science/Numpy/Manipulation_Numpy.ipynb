{
 "cells": [
  {
   "cell_type": "markdown",
   "id": "1927a9c9",
   "metadata": {},
   "source": [
    "# <center> Manipulation avec Numpy </center>\n",
    "\n",
    "## Utilisation de `reshape()`"
   ]
  },
  {
   "cell_type": "code",
   "execution_count": 3,
   "id": "9a236d0a",
   "metadata": {},
   "outputs": [
    {
     "name": "stdout",
     "output_type": "stream",
     "text": [
      "[1, 2, 3, 4, 5, 6, 7, 8]\n"
     ]
    }
   ],
   "source": [
    "# création d'une liste\n",
    "mylist = [x for x in range(1, 9)]\n",
    "\n",
    "print(mylist)"
   ]
  },
  {
   "cell_type": "markdown",
   "id": "7db989e1",
   "metadata": {},
   "source": [
    "### Transformation en *array* (vecteur)"
   ]
  },
  {
   "cell_type": "code",
   "execution_count": 4,
   "id": "df65699e",
   "metadata": {},
   "outputs": [
    {
     "name": "stdout",
     "output_type": "stream",
     "text": [
      "[1, 2, 3, 4, 5, 6, 7, 8]\n"
     ]
    }
   ],
   "source": [
    "import numpy as np\n",
    "\n",
    "myList = np.array(mylist)\n",
    "\n",
    "print(mylist)"
   ]
  },
  {
   "cell_type": "markdown",
   "id": "11a467d5",
   "metadata": {},
   "source": [
    "### Transformation en matrices de 2 dimensions"
   ]
  },
  {
   "cell_type": "code",
   "execution_count": 11,
   "id": "6d826a41",
   "metadata": {},
   "outputs": [
    {
     "name": "stdout",
     "output_type": "stream",
     "text": [
      "[[1 2 3 4]\n",
      " [5 6 7 8]]\n"
     ]
    }
   ],
   "source": [
    "print(myList.reshape(2,4))"
   ]
  },
  {
   "cell_type": "markdown",
   "id": "0da11226",
   "metadata": {},
   "source": [
    "### Transformation en matrices de 3 dimensions"
   ]
  },
  {
   "cell_type": "code",
   "execution_count": 13,
   "id": "6d12bbb0",
   "metadata": {
    "scrolled": true
   },
   "outputs": [
    {
     "name": "stdout",
     "output_type": "stream",
     "text": [
      "[[[1 2]\n",
      "  [3 4]]\n",
      "\n",
      " [[5 6]\n",
      "  [7 8]]]\n"
     ]
    }
   ],
   "source": [
    "print(myList.reshape(2,2,2))"
   ]
  },
  {
   "cell_type": "markdown",
   "id": "eb22d7d4",
   "metadata": {},
   "source": [
    "--- \n",
    "\n",
    "## Opérations sur des matrices\n",
    "\n",
    "### Transposition\n",
    "\n",
    "La transposition se produit lorsqu'une matrice de forme `n x m` est transformée en une matrice `m x n` en échangeant les lignes avec les colonnes."
   ]
  },
  {
   "cell_type": "code",
   "execution_count": 9,
   "id": "76841814",
   "metadata": {},
   "outputs": [
    {
     "name": "stdout",
     "output_type": "stream",
     "text": [
      "[[1 2 3 4]\n",
      " [5 6 7 8]]\n",
      "\n",
      "Transposition : \n",
      "\n",
      "[[1 5]\n",
      " [2 6]\n",
      " [3 7]\n",
      " [4 8]]\n"
     ]
    }
   ],
   "source": [
    "matrice = np.array([[1, 2, 3, 4], [5, 6, 7, 8]])\n",
    "\n",
    "print(matrice, end=\"\\n\\n\")\n",
    "print(\"Transposition : \\n\")\n",
    "print(np.transpose(matrice))"
   ]
  },
  {
   "cell_type": "markdown",
   "id": "fa143e69",
   "metadata": {},
   "source": [
    "### Matrice identité"
   ]
  },
  {
   "cell_type": "code",
   "execution_count": 10,
   "id": "be187c56",
   "metadata": {},
   "outputs": [
    {
     "name": "stdout",
     "output_type": "stream",
     "text": [
      "[[1. 0. 0. 0.]\n",
      " [0. 1. 0. 0.]\n",
      " [0. 0. 1. 0.]\n",
      " [0. 0. 0. 1.]]\n"
     ]
    }
   ],
   "source": [
    "print(np.identity(4))"
   ]
  },
  {
   "cell_type": "markdown",
   "id": "4fc374fe",
   "metadata": {},
   "source": [
    "### Inversion de matrice (avec `linalg.inv`)"
   ]
  },
  {
   "cell_type": "code",
   "execution_count": 15,
   "id": "17a5098d",
   "metadata": {},
   "outputs": [
    {
     "name": "stdout",
     "output_type": "stream",
     "text": [
      "Matrice :\n",
      " [[1 2]\n",
      " [3 4]]\n",
      "\n",
      "Matrice inversée :\n",
      " [[-2.   1. ]\n",
      " [ 1.5 -0.5]]\n"
     ]
    }
   ],
   "source": [
    "a = np.array([[1,2], [3,4]])\n",
    "b = np.linalg.inv(a)\n",
    "\n",
    "print(\"Matrice :\\n\", a, end=\"\\n\\n\")\n",
    "print(\"Matrice inversée :\\n\", b)"
   ]
  },
  {
   "cell_type": "markdown",
   "id": "3fffcee7",
   "metadata": {},
   "source": [
    "### Comparer les deux matrices (avec `allclose`)"
   ]
  },
  {
   "cell_type": "code",
   "execution_count": 16,
   "id": "7a3a201f",
   "metadata": {},
   "outputs": [
    {
     "name": "stdout",
     "output_type": "stream",
     "text": [
      "True\n"
     ]
    }
   ],
   "source": [
    "print(np.allclose(np.dot(a,b), np.identity(2)))"
   ]
  },
  {
   "cell_type": "markdown",
   "id": "1deba15e",
   "metadata": {},
   "source": [
    "---\n",
    "\n",
    "## Multiplier des *inputs* par des poids (*weights*)"
   ]
  },
  {
   "cell_type": "code",
   "execution_count": 20,
   "id": "fd853d43",
   "metadata": {},
   "outputs": [
    {
     "name": "stdout",
     "output_type": "stream",
     "text": [
      "[ 5 10 15]\n"
     ]
    }
   ],
   "source": [
    "inputs = np.array([5, 10, 15])\n",
    "print(inputs)"
   ]
  },
  {
   "cell_type": "code",
   "execution_count": 21,
   "id": "c9b9cc6f",
   "metadata": {},
   "outputs": [
    {
     "name": "stdout",
     "output_type": "stream",
     "text": [
      "[[ 0.5  0.2 -1. ]\n",
      " [ 0.3  0.4  0.1]\n",
      " [-0.2  0.1  0.3]]\n"
     ]
    }
   ],
   "source": [
    "weights = np.array([[.5,.2,-1], [.3,.4,.1], [-.2,.1,.3]])\n",
    "print(weights)"
   ]
  },
  {
   "cell_type": "code",
   "execution_count": 22,
   "id": "a031a9ee",
   "metadata": {},
   "outputs": [
    {
     "name": "stdout",
     "output_type": "stream",
     "text": [
      "[2.5 6.5 0.5]\n"
     ]
    }
   ],
   "source": [
    "# multiplication\n",
    "result = np.dot(inputs, weights)\n",
    "print(result)"
   ]
  },
  {
   "cell_type": "markdown",
   "id": "f55570dc",
   "metadata": {},
   "source": [
    "--- \n",
    "\n",
    "## Manipuler des vecteurs\n",
    "\n",
    "### Additionner des vecteurs"
   ]
  },
  {
   "cell_type": "code",
   "execution_count": 23,
   "id": "bef31bc2",
   "metadata": {},
   "outputs": [
    {
     "name": "stdout",
     "output_type": "stream",
     "text": [
      "[2 4 6 8]\n"
     ]
    }
   ],
   "source": [
    "def Add(a, b):\n",
    "    return a + b\n",
    "\n",
    "resultat = np.vectorize(Add)\n",
    "\n",
    "print(resultat([1, 2, 3, 4], [1, 2, 3, 4]))"
   ]
  }
 ],
 "metadata": {
  "kernelspec": {
   "display_name": "Python 3 (ipykernel)",
   "language": "python",
   "name": "python3"
  },
  "language_info": {
   "codemirror_mode": {
    "name": "ipython",
    "version": 3
   },
   "file_extension": ".py",
   "mimetype": "text/x-python",
   "name": "python",
   "nbconvert_exporter": "python",
   "pygments_lexer": "ipython3",
   "version": "3.8.3"
  }
 },
 "nbformat": 4,
 "nbformat_minor": 5
}
