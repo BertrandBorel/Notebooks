{
 "cells": [
  {
   "cell_type": "markdown",
   "id": "1a77f8f1",
   "metadata": {},
   "source": [
    "# <center> Un exemple de One-hot encondig avec Sklearn </center>\n",
    "\n",
    "## Importations :"
   ]
  },
  {
   "cell_type": "code",
   "execution_count": 9,
   "id": "e58494fc",
   "metadata": {},
   "outputs": [],
   "source": [
    "from sklearn.preprocessing import OneHotEncoder\n",
    "from sklearn.preprocessing import LabelEncoder"
   ]
  },
  {
   "cell_type": "markdown",
   "id": "b3dc32e4",
   "metadata": {},
   "source": [
    "## Exemple :"
   ]
  },
  {
   "cell_type": "code",
   "execution_count": 11,
   "id": "44e08ee8",
   "metadata": {},
   "outputs": [
    {
     "name": "stdout",
     "output_type": "stream",
     "text": [
      "[[0. 0. 0. 0. 1.]\n",
      " [1. 0. 0. 0. 0.]\n",
      " [0. 0. 0. 1. 0.]\n",
      " [0. 0. 0. 0. 1.]\n",
      " [0. 0. 0. 1. 0.]\n",
      " [0. 0. 1. 0. 0.]\n",
      " [0. 1. 0. 0. 0.]]\n"
     ]
    }
   ],
   "source": [
    "# appel des modules\n",
    "label_encoder = LabelEncoder()\n",
    "encoder = OneHotEncoder()\n",
    "\n",
    "# variables qualitatives\n",
    "qualitative = ['vert', 'bleu', 'rouge', 'vert', 'rouge', 'orange', 'jaune']\n",
    "\n",
    "# application \n",
    "labels = label_encoder.fit_transform(qualitative).reshape(len(qualitative), 1)\n",
    "\n",
    "# variables quantitatives\n",
    "quantitative = encoder.fit_transform(labels).toarray()\n",
    "print(quantitative)"
   ]
  }
 ],
 "metadata": {
  "kernelspec": {
   "display_name": "Python 3 (ipykernel)",
   "language": "python",
   "name": "python3"
  },
  "language_info": {
   "codemirror_mode": {
    "name": "ipython",
    "version": 3
   },
   "file_extension": ".py",
   "mimetype": "text/x-python",
   "name": "python",
   "nbconvert_exporter": "python",
   "pygments_lexer": "ipython3",
   "version": "3.8.3"
  }
 },
 "nbformat": 4,
 "nbformat_minor": 5
}
