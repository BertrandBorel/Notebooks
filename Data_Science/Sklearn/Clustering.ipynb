{
 "cells": [
  {
   "cell_type": "markdown",
   "id": "053ff9a8",
   "metadata": {},
   "source": [
    "#  <center> Regroupements (clustering) </center>\n",
    "---\n",
    "\n",
    "**Source :** MASSARON L., MUELLER J.-P., Data science avec Python pour les nuls, First, 2019, p.301 et suivantes.\n",
    "\n",
    "---\n",
    "\n",
    "Méthode de classification : regroupement par catégorie.\n",
    "Le regroupement permet de synthétiser d'énormes volumes de données. Il existe plusieurs techniques de regroupement :\n",
    "- affectation de chaque exemple à un groupe unique (partitionnement) ou à plusieurs groupes (regroupement flou, fuzzy)\n",
    "- choix de la règle heuristique adoptée par la technique pour décider si un exemple fait ou non partie d'un groupe\n",
    "- spécification de la façon dont les techniques quantifient les différences entre les observations, ce qui revient à mesurer des distances. \n",
    "\n",
    "## Regroupement par k-moyennes (K-means)\n",
    "\n",
    "Cet algorithme part du principe qu'il existe un certain nombre de groupes dans les données, groupes appelés également **clusters**. Tous les points de données d'un groupe sont distribués autour d'un point central avec lequel ils partagent des attributs fondamentaux. \n",
    "\n",
    "L'algorithme va chercher à trouver des groupes dans les données, en appliquant une technique heuristique visant à détecter la position des points centraux ou centroïdes.\n",
    "\n",
    "### Algorithmes basés centroïdes\n",
    "\n",
    "1- **Choix initial d'un nombre K de clusters**: les centroïdes K sont sélectionnés au hasard parmi les points de données ou bien choisis afin d'être très éloignés les uns des autres. Tous les autres points sont associés au centroïdes le plus proche de chacun, en évaluant des distances euclidiennes. \n",
    "\n",
    "2- **Formation des groupes initiaux**\n",
    "\n",
    "3- **Répétition de l'opération de regroupement jusqu'à constater que la solution n'a plus d'effet modificateur**: vous recalculez ensuite les centroïdes en tant que moyennes de tous les points de leur groupe. Tous les points de données sont alors réassociés au groupe en fonction de la distance par rapport au nouveau centroïde.\n",
    "\n",
    "Dans une application à k-moyennes, chaque point de données correspond à un vecteur de caractéristiques. Lorsque vous comparez la distance entre 2 points, vous procédez ainsi :\n",
    "\n",
    "- Vous créez une liste contenant les différences entre les éléments des 2 vecteurs.\n",
    "\n",
    "- Vous élevez au carré tous les éléments du vecteur de différences.\n",
    "\n",
    "- Vous calculez la racine carrée des éléments additionnés.\n"
   ]
  },
  {
   "cell_type": "code",
   "execution_count": 1,
   "id": "b4a0ae6f",
   "metadata": {},
   "outputs": [],
   "source": [
    "# Exemple avec 2 points : A et B\n",
    "import numpy as np\n",
    "\n",
    "A=np.array([165, 55, 70])\n",
    "B=np.array([185, 60, 30])"
   ]
  },
  {
   "cell_type": "code",
   "execution_count": 2,
   "id": "6f0d82fe",
   "metadata": {},
   "outputs": [
    {
     "name": "stdout",
     "output_type": "stream",
     "text": [
      "45.0\n"
     ]
    }
   ],
   "source": [
    "# calcul de la différence \n",
    "D = (A -B)\n",
    "# élévation au carré\n",
    "D = D**2\n",
    "# racine carré\n",
    "D = np.sqrt(np.sum(D))\n",
    "print(D)"
   ]
  },
  {
   "cell_type": "markdown",
   "id": "34db0efd",
   "metadata": {},
   "source": [
    "### Un exemple avec des images de chiffres "
   ]
  },
  {
   "cell_type": "code",
   "execution_count": 3,
   "id": "25689bd9",
   "metadata": {},
   "outputs": [],
   "source": [
    "from sklearn.datasets import load_digits\n",
    "\n",
    "digits = load_digits()\n",
    "X = digits.data\n",
    "pround_truth = digits.target"
   ]
  },
  {
   "cell_type": "code",
   "execution_count": 4,
   "id": "5eca8a8d",
   "metadata": {},
   "outputs": [
    {
     "name": "stdout",
     "output_type": "stream",
     "text": [
      "Variance expliquée 0.893\n"
     ]
    }
   ],
   "source": [
    "# analyse PCA\n",
    "from sklearn.decomposition import PCA\n",
    "from sklearn.preprocessing import scale\n",
    "\n",
    "# simplification du jeu de données = 30 composants sur 64 variables initiales\n",
    "pca = PCA(n_components=30)\n",
    "Cx = pca.fit_transform(scale(X))\n",
    "print('Variance expliquée %0.3f' % sum(pca.explained_variance_ratio_))"
   ]
  },
  {
   "cell_type": "markdown",
   "id": "a58b668c",
   "metadata": {},
   "source": [
    "Classe `KMeans` de Sklearn :\n",
    "- `n_clusters`: nombre de K de centroïdes que nous voulons trouver.\n",
    "- `n_init`: nombre d'itérations de la technique à k-moyennes avec des centroïdes initiaux différents. Nous avons besoin d'un nombre d'essais suffisant, par exemple 10;"
   ]
  },
  {
   "cell_type": "code",
   "execution_count": 6,
   "id": "a39e6c93",
   "metadata": {},
   "outputs": [
    {
     "data": {
      "text/html": [
       "<style>#sk-container-id-2 {color: black;background-color: white;}#sk-container-id-2 pre{padding: 0;}#sk-container-id-2 div.sk-toggleable {background-color: white;}#sk-container-id-2 label.sk-toggleable__label {cursor: pointer;display: block;width: 100%;margin-bottom: 0;padding: 0.3em;box-sizing: border-box;text-align: center;}#sk-container-id-2 label.sk-toggleable__label-arrow:before {content: \"▸\";float: left;margin-right: 0.25em;color: #696969;}#sk-container-id-2 label.sk-toggleable__label-arrow:hover:before {color: black;}#sk-container-id-2 div.sk-estimator:hover label.sk-toggleable__label-arrow:before {color: black;}#sk-container-id-2 div.sk-toggleable__content {max-height: 0;max-width: 0;overflow: hidden;text-align: left;background-color: #f0f8ff;}#sk-container-id-2 div.sk-toggleable__content pre {margin: 0.2em;color: black;border-radius: 0.25em;background-color: #f0f8ff;}#sk-container-id-2 input.sk-toggleable__control:checked~div.sk-toggleable__content {max-height: 200px;max-width: 100%;overflow: auto;}#sk-container-id-2 input.sk-toggleable__control:checked~label.sk-toggleable__label-arrow:before {content: \"▾\";}#sk-container-id-2 div.sk-estimator input.sk-toggleable__control:checked~label.sk-toggleable__label {background-color: #d4ebff;}#sk-container-id-2 div.sk-label input.sk-toggleable__control:checked~label.sk-toggleable__label {background-color: #d4ebff;}#sk-container-id-2 input.sk-hidden--visually {border: 0;clip: rect(1px 1px 1px 1px);clip: rect(1px, 1px, 1px, 1px);height: 1px;margin: -1px;overflow: hidden;padding: 0;position: absolute;width: 1px;}#sk-container-id-2 div.sk-estimator {font-family: monospace;background-color: #f0f8ff;border: 1px dotted black;border-radius: 0.25em;box-sizing: border-box;margin-bottom: 0.5em;}#sk-container-id-2 div.sk-estimator:hover {background-color: #d4ebff;}#sk-container-id-2 div.sk-parallel-item::after {content: \"\";width: 100%;border-bottom: 1px solid gray;flex-grow: 1;}#sk-container-id-2 div.sk-label:hover label.sk-toggleable__label {background-color: #d4ebff;}#sk-container-id-2 div.sk-serial::before {content: \"\";position: absolute;border-left: 1px solid gray;box-sizing: border-box;top: 0;bottom: 0;left: 50%;z-index: 0;}#sk-container-id-2 div.sk-serial {display: flex;flex-direction: column;align-items: center;background-color: white;padding-right: 0.2em;padding-left: 0.2em;position: relative;}#sk-container-id-2 div.sk-item {position: relative;z-index: 1;}#sk-container-id-2 div.sk-parallel {display: flex;align-items: stretch;justify-content: center;background-color: white;position: relative;}#sk-container-id-2 div.sk-item::before, #sk-container-id-2 div.sk-parallel-item::before {content: \"\";position: absolute;border-left: 1px solid gray;box-sizing: border-box;top: 0;bottom: 0;left: 50%;z-index: -1;}#sk-container-id-2 div.sk-parallel-item {display: flex;flex-direction: column;z-index: 1;position: relative;background-color: white;}#sk-container-id-2 div.sk-parallel-item:first-child::after {align-self: flex-end;width: 50%;}#sk-container-id-2 div.sk-parallel-item:last-child::after {align-self: flex-start;width: 50%;}#sk-container-id-2 div.sk-parallel-item:only-child::after {width: 0;}#sk-container-id-2 div.sk-dashed-wrapped {border: 1px dashed gray;margin: 0 0.4em 0.5em 0.4em;box-sizing: border-box;padding-bottom: 0.4em;background-color: white;}#sk-container-id-2 div.sk-label label {font-family: monospace;font-weight: bold;display: inline-block;line-height: 1.2em;}#sk-container-id-2 div.sk-label-container {text-align: center;}#sk-container-id-2 div.sk-container {/* jupyter's `normalize.less` sets `[hidden] { display: none; }` but bootstrap.min.css set `[hidden] { display: none !important; }` so we also need the `!important` here to be able to override the default hidden behavior on the sphinx rendered scikit-learn.org. See: https://github.com/scikit-learn/scikit-learn/issues/21755 */display: inline-block !important;position: relative;}#sk-container-id-2 div.sk-text-repr-fallback {display: none;}</style><div id=\"sk-container-id-2\" class=\"sk-top-container\"><div class=\"sk-text-repr-fallback\"><pre>KMeans(n_clusters=10, random_state=1)</pre><b>In a Jupyter environment, please rerun this cell to show the HTML representation or trust the notebook. <br />On GitHub, the HTML representation is unable to render, please try loading this page with nbviewer.org.</b></div><div class=\"sk-container\" hidden><div class=\"sk-item\"><div class=\"sk-estimator sk-toggleable\"><input class=\"sk-toggleable__control sk-hidden--visually\" id=\"sk-estimator-id-2\" type=\"checkbox\" checked><label for=\"sk-estimator-id-2\" class=\"sk-toggleable__label sk-toggleable__label-arrow\">KMeans</label><div class=\"sk-toggleable__content\"><pre>KMeans(n_clusters=10, random_state=1)</pre></div></div></div></div></div>"
      ],
      "text/plain": [
       "KMeans(n_clusters=10, random_state=1)"
      ]
     },
     "execution_count": 6,
     "metadata": {},
     "output_type": "execute_result"
    }
   ],
   "source": [
    "# KMeans\n",
    "from sklearn.cluster import KMeans\n",
    "\n",
    "# paramètrage\n",
    "clustering = KMeans(n_clusters=10, n_init=10, random_state=1)\n",
    "# application au jeu de données\n",
    "clustering.fit(Cx)"
   ]
  },
  {
   "cell_type": "code",
   "execution_count": null,
   "id": "fb62fed4",
   "metadata": {},
   "outputs": [],
   "source": []
  }
 ],
 "metadata": {
  "kernelspec": {
   "display_name": "Python 3 (ipykernel)",
   "language": "python",
   "name": "python3"
  },
  "language_info": {
   "codemirror_mode": {
    "name": "ipython",
    "version": 3
   },
   "file_extension": ".py",
   "mimetype": "text/x-python",
   "name": "python",
   "nbconvert_exporter": "python",
   "pygments_lexer": "ipython3",
   "version": "3.8.3"
  }
 },
 "nbformat": 4,
 "nbformat_minor": 5
}
