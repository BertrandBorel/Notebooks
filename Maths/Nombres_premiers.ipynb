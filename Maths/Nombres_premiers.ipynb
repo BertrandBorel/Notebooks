{
 "cells": [
  {
   "cell_type": "markdown",
   "id": "9a724855",
   "metadata": {},
   "source": [
    "# <center> Savoir si un nombre est premier avec Python </center>\n",
    "\n",
    "**Rappel** : Un nombre premier n'a que deux diviseurs : 1 et lui-même."
   ]
  },
  {
   "cell_type": "markdown",
   "id": "68e8d3fd",
   "metadata": {},
   "source": [
    "## Code"
   ]
  },
  {
   "cell_type": "code",
   "execution_count": 1,
   "id": "1ee237d8",
   "metadata": {},
   "outputs": [
    {
     "name": "stdout",
     "output_type": "stream",
     "text": [
      "[2, 3, 5, 7, 11, 13, 17, 19, 23, 29, 31, 37, 41, 43, 47, 53, 59, 61, 67, 71, 73, 79, 83, 89, 97]"
     ]
    }
   ],
   "source": [
    "# liste des 100 premiers nombres \n",
    "liste = [x for x in range(1, 101)]\n",
    "\n",
    "# on garde les 4 premiers nombres premiers dans une liste \n",
    "nb_premiers_origine = [2, 3, 5, 7]\n",
    "\n",
    "liste_nombres = []\n",
    "\n",
    "for x in liste :\n",
    "    # 1 n'a qu'un diviseur (lui-même)\n",
    "    if x == 1 :\n",
    "        pass\n",
    "    # on enlève les nombres pairs\n",
    "    elif x % 2 == 0 :\n",
    "        pass\n",
    "    elif x % 3 == 0 or x % 5 == 0 or x % 7 == 0  :\n",
    "        pass\n",
    "    else :\n",
    "        liste_nombres.append(x)\n",
    "        \n",
    "nb_premiers = nb_premiers_origine + liste_nombres\n",
    "\n",
    "print(nb_premiers, end=\"\")"
   ]
  },
  {
   "cell_type": "markdown",
   "id": "5b10d797",
   "metadata": {},
   "source": [
    "### Code amélioré"
   ]
  },
  {
   "cell_type": "code",
   "execution_count": 2,
   "id": "094f7c57",
   "metadata": {},
   "outputs": [
    {
     "name": "stdout",
     "output_type": "stream",
     "text": [
      "[2, 3, 5, 7, 11, 13, 17, 19, 23, 29, 31, 37, 41, 43, 47, 53, 59, 61, 67, 71, 73, 79, 83, 89, 97]\n"
     ]
    }
   ],
   "source": [
    "# liste des 100 premiers nombres\n",
    "liste = [x for x in range(2, 100+1)]\n",
    "\n",
    "# initialisation de la liste des nombres premiers\n",
    "nb_premiers = []\n",
    "\n",
    "while len(liste) > 0:\n",
    "# on ajoute le premier nombre de la liste des nombres\n",
    "# premiers et on élimine tous ses multiples de la liste\n",
    "    nb_premier = liste[0]\n",
    "    nb_premiers.append(nb_premier)\n",
    "    liste = [x for x in liste if x % nb_premier != 0]\n",
    "\n",
    "print(nb_premiers)"
   ]
  },
  {
   "cell_type": "markdown",
   "id": "3022d58a",
   "metadata": {},
   "source": [
    "## Fonctions\n",
    "\n",
    "### Pour une liste de nombres"
   ]
  },
  {
   "cell_type": "code",
   "execution_count": 5,
   "id": "d1c1cad7",
   "metadata": {},
   "outputs": [],
   "source": [
    "def nb_premier(compteur):\n",
    "    # liste limitée par le compteur \n",
    "    liste = [x for x in range(1, compteur+1)]\n",
    "    \n",
    "    nb_premiers_origine = [2, 3, 5, 7]\n",
    "    liste_nombres = []\n",
    "\n",
    "\n",
    "    for x in liste :\n",
    "        if x == 1 :\n",
    "            continue\n",
    "        elif x % 2 == 0 :\n",
    "            continue\n",
    "        elif x % 3 == 0 or x % 5 == 0 or x % 7 == 0  :\n",
    "            continue\n",
    "        else :\n",
    "            liste_nombres.append(x)\n",
    "            \n",
    "  \n",
    "    nb_premiers = nb_premiers_origine + liste_nombres\n",
    "\n",
    "        \n",
    "    print(nb_premiers, end=\"\")"
   ]
  },
  {
   "cell_type": "code",
   "execution_count": 6,
   "id": "25c0093f",
   "metadata": {
    "scrolled": true
   },
   "outputs": [
    {
     "name": "stdout",
     "output_type": "stream",
     "text": [
      "[2, 3, 5, 7, 11, 13, 17, 19, 23, 29, 31, 37, 41, 43, 47, 53, 59, 61, 67, 71, 73, 79, 83, 89, 97, 101, 103, 107, 109, 113, 121, 127, 131, 137, 139, 143, 149, 151, 157, 163, 167, 169, 173, 179, 181, 187, 191, 193, 197, 199, 209, 211, 221, 223, 227, 229, 233, 239, 241, 247, 251, 253, 257, 263, 269, 271, 277, 281, 283, 289, 293, 299, 307, 311, 313, 317, 319, 323, 331, 337, 341, 347, 349, 353, 359, 361, 367, 373, 377, 379, 383, 389, 391, 397, 401, 403, 407, 409, 419, 421, 431, 433, 437, 439, 443, 449, 451, 457, 461, 463, 467, 473, 479, 481, 487, 491, 493, 499, 503, 509, 517, 521, 523, 527, 529, 533, 541, 547, 551, 557, 559, 563, 569, 571, 577, 583, 587, 589, 593, 599, 601, 607, 611, 613, 617, 619, 629, 631, 641, 643, 647, 649, 653, 659, 661, 667, 671, 673, 677, 683, 689, 691, 697, 701, 703, 709, 713, 719, 727, 731, 733, 737, 739, 743, 751, 757, 761, 767, 769, 773, 779, 781, 787, 793, 797, 799, 803, 809, 811, 817, 821, 823, 827, 829, 839, 841, 851, 853, 857, 859, 863, 869, 871, 877, 881, 883, 887, 893, 899, 901, 907, 911, 913, 919, 923, 929, 937, 941, 943, 947, 949, 953, 961, 967, 971, 977, 979, 983, 989, 991, 997]"
     ]
    }
   ],
   "source": [
    "nb_premier(1000)"
   ]
  },
  {
   "cell_type": "markdown",
   "id": "8ed805e0",
   "metadata": {},
   "source": [
    "### Code amélioré"
   ]
  },
  {
   "cell_type": "code",
   "execution_count": 7,
   "id": "c4f725a1",
   "metadata": {},
   "outputs": [],
   "source": [
    "def nb_premier(compteur):\n",
    "    # liste limitée par le compteur \n",
    "    liste = [x for x in range(1, compteur+1)]\n",
    "    \n",
    "    nb_premiers_origine = [2, 3, 5, 7]\n",
    "    liste_nombres = []\n",
    "\n",
    "    for x in liste[3:]:\n",
    "        if all(x % i != 0 for i in nb_premiers_origine):\n",
    "            liste_nombres.append(x)\n",
    "            \n",
    "    nb_premiers = nb_premiers_origine + liste_nombres\n",
    "\n",
    "    print(nb_premiers)\n"
   ]
  },
  {
   "cell_type": "code",
   "execution_count": 8,
   "id": "b8c1102e",
   "metadata": {},
   "outputs": [
    {
     "name": "stdout",
     "output_type": "stream",
     "text": [
      "[2, 3, 5, 7, 11, 13, 17, 19, 23, 29, 31, 37, 41, 43, 47, 53, 59, 61, 67, 71, 73, 79, 83, 89, 97, 101, 103, 107, 109, 113, 121, 127, 131, 137, 139, 143, 149, 151, 157, 163, 167, 169, 173, 179, 181, 187, 191, 193, 197, 199, 209, 211, 221, 223, 227, 229, 233, 239, 241, 247, 251, 253, 257, 263, 269, 271, 277, 281, 283, 289, 293, 299, 307, 311, 313, 317, 319, 323, 331, 337, 341, 347, 349, 353, 359, 361, 367, 373, 377, 379, 383, 389, 391, 397, 401, 403, 407, 409, 419, 421, 431, 433, 437, 439, 443, 449, 451, 457, 461, 463, 467, 473, 479, 481, 487, 491, 493, 499, 503, 509, 517, 521, 523, 527, 529, 533, 541, 547, 551, 557, 559, 563, 569, 571, 577, 583, 587, 589, 593, 599, 601, 607, 611, 613, 617, 619, 629, 631, 641, 643, 647, 649, 653, 659, 661, 667, 671, 673, 677, 683, 689, 691, 697, 701, 703, 709, 713, 719, 727, 731, 733, 737, 739, 743, 751, 757, 761, 767, 769, 773, 779, 781, 787, 793, 797, 799, 803, 809, 811, 817, 821, 823, 827, 829, 839, 841, 851, 853, 857, 859, 863, 869, 871, 877, 881, 883, 887, 893, 899, 901, 907, 911, 913, 919, 923, 929, 937, 941, 943, 947, 949, 953, 961, 967, 971, 977, 979, 983, 989, 991, 997]\n"
     ]
    }
   ],
   "source": [
    "nb_premier(1000)"
   ]
  },
  {
   "cell_type": "markdown",
   "id": "58a1cca6",
   "metadata": {},
   "source": [
    "## Pour un seul nombre"
   ]
  },
  {
   "cell_type": "code",
   "execution_count": 11,
   "id": "62daa103",
   "metadata": {},
   "outputs": [],
   "source": [
    "def nb_premier(nombre):\n",
    "    reponse = \"n'est pas un nombre premier.\"\n",
    "    if nombre == 1 :\n",
    "        print(nombre, reponse)\n",
    "    elif nombre == 2 or nombre == 3 or nombre == 5 or nombre == 7 :\n",
    "        print(\"\\n==>\", nombre, \"est un nombre premier !\\n\")\n",
    "    elif nombre % 2 == 0 :\n",
    "        print(nombre, reponse)\n",
    "    elif nombre % 3 == 0 or nombre % 5 == 0 or nombre % 7 == 0  :\n",
    "        print(nombre, reponse)\n",
    "    else :\n",
    "        print(\"\\n==>\", nombre, \"est un nombre premier !\\n\")"
   ]
  },
  {
   "cell_type": "markdown",
   "id": "36acc2bd",
   "metadata": {},
   "source": [
    "### Code amélioré"
   ]
  },
  {
   "cell_type": "code",
   "execution_count": 14,
   "id": "9651f9dc",
   "metadata": {},
   "outputs": [],
   "source": [
    "def nb_premier(nombre):\n",
    "    if nombre == 1:\n",
    "        print(nombre, \"n'est pas un nombre premier.\")\n",
    "        return\n",
    "    elif nombre in {2, 3, 5, 7}:\n",
    "        print(\"\\n==>\", nombre, \"est un nombre premier !\\n\")\n",
    "        return\n",
    "    elif nombre % 2 == 0 or nombre % 3 == 0 or nombre % 5 == 0 or nombre % 7 == 0:\n",
    "        print(nombre, \"n'est pas un nombre premier.\")\n",
    "        return\n",
    "    for i in range(11, int(nombre**0.5)+1, 2):\n",
    "        if nombre % i == 0:\n",
    "            print(nombre, \"n'est pas un nombre premier.\")\n",
    "            return\n",
    "    print(\"\\n==>\", nombre, \"est un nombre premier !\\n\")"
   ]
  },
  {
   "cell_type": "code",
   "execution_count": 15,
   "id": "29422731",
   "metadata": {},
   "outputs": [
    {
     "name": "stdout",
     "output_type": "stream",
     "text": [
      "333 n'est pas un nombre premier.\n"
     ]
    }
   ],
   "source": [
    "nb_premier(333)"
   ]
  },
  {
   "cell_type": "code",
   "execution_count": 16,
   "id": "9622abf6",
   "metadata": {},
   "outputs": [
    {
     "name": "stdout",
     "output_type": "stream",
     "text": [
      "99997 n'est pas un nombre premier.\n"
     ]
    }
   ],
   "source": [
    "nb_premier(99997)"
   ]
  },
  {
   "cell_type": "code",
   "execution_count": 18,
   "id": "56724205",
   "metadata": {},
   "outputs": [
    {
     "name": "stdout",
     "output_type": "stream",
     "text": [
      "0 n'est pas un nombre premier.\n",
      "1 n'est pas un nombre premier.\n",
      "\n",
      "==> 2 est un nombre premier !\n",
      "\n",
      "\n",
      "==> 3 est un nombre premier !\n",
      "\n",
      "4 n'est pas un nombre premier.\n",
      "\n",
      "==> 5 est un nombre premier !\n",
      "\n",
      "6 n'est pas un nombre premier.\n",
      "\n",
      "==> 7 est un nombre premier !\n",
      "\n",
      "8 n'est pas un nombre premier.\n",
      "9 n'est pas un nombre premier.\n",
      "10 n'est pas un nombre premier.\n",
      "\n",
      "==> 11 est un nombre premier !\n",
      "\n",
      "12 n'est pas un nombre premier.\n",
      "\n",
      "==> 13 est un nombre premier !\n",
      "\n",
      "14 n'est pas un nombre premier.\n",
      "15 n'est pas un nombre premier.\n",
      "16 n'est pas un nombre premier.\n",
      "\n",
      "==> 17 est un nombre premier !\n",
      "\n",
      "18 n'est pas un nombre premier.\n",
      "\n",
      "==> 19 est un nombre premier !\n",
      "\n"
     ]
    }
   ],
   "source": [
    "liste = [x for x in range(20)]\n",
    "\n",
    "for x in liste :\n",
    "    nb_premier(x)"
   ]
  },
  {
   "cell_type": "markdown",
   "id": "dcace13e",
   "metadata": {},
   "source": [
    "## Code amélioré :\n",
    "\n",
    "**Source :** https://www.delftstack.com/fr/howto/python/python-isprime/#utilisez-la-fonction-sympy-isprime-pour-v%C3%A9rifier-si-le-nombre-donn%C3%A9-est-un-nombre-premier-en-python"
   ]
  },
  {
   "cell_type": "code",
   "execution_count": 183,
   "id": "132f7220",
   "metadata": {},
   "outputs": [
    {
     "name": "stdout",
     "output_type": "stream",
     "text": [
      "57 n'est pas un nombre premier\n"
     ]
    }
   ],
   "source": [
    "nombre = 57\n",
    "\n",
    "\n",
    "# 1 est ignoré\n",
    "if nombre > 1:\n",
    "    for i in range(2, int(nombre/2)+1):\n",
    "         if (nombre % i) == 0:\n",
    "            print(nombre, \"n'est pas un nombre premier\")\n",
    "            break\n",
    "    else:\n",
    "        print(nombre, \"est un nombre premier\")\n",
    "\n",
    "else:\n",
    "    print(nombre, \"n'est pas un nombre premier\")"
   ]
  }
 ],
 "metadata": {
  "kernelspec": {
   "display_name": "Python 3 (ipykernel)",
   "language": "python",
   "name": "python3"
  },
  "language_info": {
   "codemirror_mode": {
    "name": "ipython",
    "version": 3
   },
   "file_extension": ".py",
   "mimetype": "text/x-python",
   "name": "python",
   "nbconvert_exporter": "python",
   "pygments_lexer": "ipython3",
   "version": "3.8.3"
  }
 },
 "nbformat": 4,
 "nbformat_minor": 5
}
