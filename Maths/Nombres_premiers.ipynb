{
 "cells": [
  {
   "cell_type": "markdown",
   "id": "e67dd386",
   "metadata": {},
   "source": [
    "# <center> Savoir si un nombre est premier avec Python </center>\n",
    "\n",
    "**Rappel** : Un nombre premier n'a que deux diviseurs : 1 et lui-même."
   ]
  },
  {
   "cell_type": "markdown",
   "id": "b431a7b5",
   "metadata": {},
   "source": [
    "## Code"
   ]
  },
  {
   "cell_type": "code",
   "execution_count": 77,
   "id": "c8a3d975",
   "metadata": {},
   "outputs": [
    {
     "name": "stdout",
     "output_type": "stream",
     "text": [
      "[2, 3, 5, 7, 11, 13, 17, 19, 23, 29, 31, 37, 41, 43, 47, 53, 59, 61, 67, 71, 73, 79, 83, 89, 97]"
     ]
    }
   ],
   "source": [
    "# liste des 100 premiers nombres \n",
    "liste = [x for x in range(1, 101)]\n",
    "\n",
    "# on garde les 4 premiers nombres premiers dans une liste \n",
    "nb_premiers_origine = [2, 3, 5, 7]\n",
    "\n",
    "liste_nombres = []\n",
    "\n",
    "for x in liste :\n",
    "    # 1 n'a qu'un diviseur (lui-même)\n",
    "    if x == 1 :\n",
    "        pass\n",
    "    elif x % 2 == 0 :\n",
    "        pass\n",
    "    elif x % 3 == 0 or x % 5 == 0 or x % 7 == 0 or x % 9 == 0 :\n",
    "        pass\n",
    "    else :\n",
    "        liste_nombres.append(x)\n",
    "        \n",
    "nb_premiers = nb_premiers_origine + liste_nombres\n",
    "\n",
    "print(nb_premiers, end=\"\")"
   ]
  },
  {
   "cell_type": "markdown",
   "id": "2228eeec",
   "metadata": {},
   "source": [
    "## Fonction"
   ]
  },
  {
   "cell_type": "code",
   "execution_count": 78,
   "id": "86f30969",
   "metadata": {},
   "outputs": [],
   "source": [
    "def nb_premier(compteur):\n",
    "    # liste limitée par le compteur \n",
    "    liste = [x for x in range(1, compteur+1)]\n",
    "    \n",
    "    nb_premiers_origine = [2, 3, 5, 7]\n",
    "    liste_nombres = []\n",
    "\n",
    "\n",
    "    for x in liste :\n",
    "        if x == 1 :\n",
    "            continue\n",
    "        elif x % 2 == 0 :\n",
    "            continue\n",
    "        elif x % 3 == 0 or x % 5 == 0 or x % 7 == 0 or x % 9 == 0 :\n",
    "            continue\n",
    "        else :\n",
    "            liste_nombres.append(x)\n",
    "            \n",
    "  \n",
    "    nb_premiers = nb_premiers_origine + liste_nombres\n",
    "\n",
    "        \n",
    "    print(nb_premiers, end=\"\")"
   ]
  },
  {
   "cell_type": "code",
   "execution_count": 81,
   "id": "81b21927",
   "metadata": {
    "scrolled": true
   },
   "outputs": [
    {
     "name": "stdout",
     "output_type": "stream",
     "text": [
      "[2, 3, 5, 7, 11, 13, 17, 19, 23, 29, 31, 37, 41, 43, 47, 53, 59, 61, 67, 71, 73, 79, 83, 89, 97, 101, 103, 107, 109, 113, 121, 127, 131, 137, 139, 143, 149, 151, 157, 163, 167, 169, 173, 179, 181, 187, 191, 193, 197, 199, 209, 211, 221, 223, 227, 229, 233, 239, 241, 247, 251, 253, 257, 263, 269, 271, 277, 281, 283, 289, 293, 299, 307, 311, 313, 317, 319, 323, 331, 337, 341, 347, 349, 353, 359, 361, 367, 373, 377, 379, 383, 389, 391, 397, 401, 403, 407, 409, 419, 421, 431, 433, 437, 439, 443, 449, 451, 457, 461, 463, 467, 473, 479, 481, 487, 491, 493, 499, 503, 509, 517, 521, 523, 527, 529, 533, 541, 547, 551, 557, 559, 563, 569, 571, 577, 583, 587, 589, 593, 599, 601, 607, 611, 613, 617, 619, 629, 631, 641, 643, 647, 649, 653, 659, 661, 667, 671, 673, 677, 683, 689, 691, 697, 701, 703, 709, 713, 719, 727, 731, 733, 737, 739, 743, 751, 757, 761, 767, 769, 773, 779, 781, 787, 793, 797, 799, 803, 809, 811, 817, 821, 823, 827, 829, 839, 841, 851, 853, 857, 859, 863, 869, 871, 877, 881, 883, 887, 893, 899, 901, 907, 911, 913, 919, 923, 929, 937, 941, 943, 947, 949, 953, 961, 967, 971, 977, 979, 983, 989, 991, 997]"
     ]
    }
   ],
   "source": [
    "nb_premier(1000)"
   ]
  }
 ],
 "metadata": {
  "kernelspec": {
   "display_name": "Python 3 (ipykernel)",
   "language": "python",
   "name": "python3"
  },
  "language_info": {
   "codemirror_mode": {
    "name": "ipython",
    "version": 3
   },
   "file_extension": ".py",
   "mimetype": "text/x-python",
   "name": "python",
   "nbconvert_exporter": "python",
   "pygments_lexer": "ipython3",
   "version": "3.10.0"
  }
 },
 "nbformat": 4,
 "nbformat_minor": 5
}
