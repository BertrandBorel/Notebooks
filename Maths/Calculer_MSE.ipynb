{
 "cells": [
  {
   "cell_type": "markdown",
   "id": "da843053",
   "metadata": {},
   "source": [
    "# <center> Calculer l'erreur quadratique moyenne (MSE) avec Python </center>"
   ]
  },
  {
   "cell_type": "code",
   "execution_count": 8,
   "id": "c0013862",
   "metadata": {},
   "outputs": [
    {
     "name": "stdout",
     "output_type": "stream",
     "text": [
      " Difference =1-0.25=0.75\n",
      " Difference * Difference= 0.75 *0.75=0.5625\n",
      "Somme = 0+0.5625\n",
      "\n",
      " Difference =0-0.55=-0.55\n",
      " Difference * Difference= -0.55 *-0.55=0.30250000000000005\n",
      "Somme = 0.5625+0.30250000000000005\n",
      "\n",
      " Difference =1-0.75=0.25\n",
      " Difference * Difference= 0.25 *0.25=0.0625\n",
      "Somme = 0.865+0.0625\n",
      "\n",
      "Erreur moyenne quadratique =0.30916666666666665\n"
     ]
    }
   ],
   "source": [
    "predictions_attendues = [1 , 0 , 1]\n",
    "predictions_realisees = [0.25, 0.55, 0.75]\n",
    "somme = 0\n",
    "i= 0\n",
    "\n",
    "\n",
    "for prediction in predictions_attendues:\n",
    "    difference= predictions_attendues[i]- predictions_realisees[i]\n",
    "    carreDifference = difference * difference\n",
    "    print( \" Difference =\" + str(predictions_attendues[i]) + \"-\" + str(predictions_realisees[i]) + \"=\" + str(difference))\n",
    "    \n",
    "    print( \" Difference * Difference= \" + str(difference) + \" *\" + str(difference) + str() + \"=\" + str(carreDifference))\n",
    "    \n",
    "    print( \"Somme = \" + str(somme) + \"+\" + str(carreDifference))\n",
    "    somme = somme + carreDifference\n",
    "    print (\"\" )\n",
    "    i += 1\n",
    "\n",
    "moyenne_quadratique = 1/(len(predictions_attendues)) *somme\n",
    "print( \"Erreur moyenne quadratique =\"+str(moyenne_quadratique))"
   ]
  }
 ],
 "metadata": {
  "kernelspec": {
   "display_name": "Python 3 (ipykernel)",
   "language": "python",
   "name": "python3"
  },
  "language_info": {
   "codemirror_mode": {
    "name": "ipython",
    "version": 3
   },
   "file_extension": ".py",
   "mimetype": "text/x-python",
   "name": "python",
   "nbconvert_exporter": "python",
   "pygments_lexer": "ipython3",
   "version": "3.8.3"
  }
 },
 "nbformat": 4,
 "nbformat_minor": 5
}
