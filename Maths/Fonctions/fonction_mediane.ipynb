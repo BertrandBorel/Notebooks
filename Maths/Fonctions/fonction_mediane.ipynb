{
 "cells": [
  {
   "cell_type": "markdown",
   "id": "fd8dbeb0",
   "metadata": {},
   "source": [
    "# <center> Fonction pour calculer la médiane d'une liste de nombres </center>\n",
    "\n",
    "## Création de listes aléatoires"
   ]
  },
  {
   "cell_type": "code",
   "execution_count": 96,
   "id": "11a4b6d8",
   "metadata": {},
   "outputs": [
    {
     "name": "stdout",
     "output_type": "stream",
     "text": [
      "[1, 1, 7, 2, 9, 3, 9, 2, 8, 3]\n",
      "[6, 2, 1, 6, 6, 6, 9, 5, 5, 8, 9]\n"
     ]
    }
   ],
   "source": [
    "from random import randint\n",
    "\n",
    "# création d'une liste paire\n",
    "liste_paire = [randint(1, 10) for x in range(1, 11)]\n",
    "# création d'une liste impaire\n",
    "liste_impaire = [randint(1, 10) for x in range(1, 12)]\n",
    "\n",
    "print(liste_paire)\n",
    "print(liste_impaire)"
   ]
  },
  {
   "cell_type": "markdown",
   "id": "2033a06b",
   "metadata": {},
   "source": [
    "## Fonction : "
   ]
  },
  {
   "cell_type": "code",
   "execution_count": 69,
   "id": "8d2c7bd7",
   "metadata": {},
   "outputs": [],
   "source": [
    "def mediane(liste):\n",
    "    # tri la liste par ordre croissant\n",
    "    liste.sort()\n",
    "    # si liste est impaire : \n",
    "    if len(liste) % 2 != 0 :\n",
    "        mediane = round(len(liste) / 2) - 1\n",
    "        print(\"La médiane est :\", liste[mediane])\n",
    "    # si liste est paire :\n",
    "    elif len(liste) % 2 == 0 :\n",
    "        rang_1 = int((len(liste) / 2) - 1)\n",
    "        rang_2 = rang_1 + 1\n",
    "        moyenne = (liste[rang_2] - liste[rang_1]) /2\n",
    "        mediane = liste[rang_1] + moyenne\n",
    "        print(\"La médiane est :\", mediane)\n",
    "        "
   ]
  },
  {
   "cell_type": "markdown",
   "id": "ff29c091",
   "metadata": {},
   "source": [
    "## Appels de la fonction : "
   ]
  },
  {
   "cell_type": "code",
   "execution_count": 78,
   "id": "9fcb8b5d",
   "metadata": {},
   "outputs": [
    {
     "name": "stdout",
     "output_type": "stream",
     "text": [
      "La médiane est : 6\n",
      "[1, 1, 3, 3, 4, 6, 7, 7, 8, 10, 10]\n"
     ]
    }
   ],
   "source": [
    "mediane(liste_impaire)\n",
    "print(liste_impaire)"
   ]
  },
  {
   "cell_type": "code",
   "execution_count": 79,
   "id": "c529b049",
   "metadata": {},
   "outputs": [
    {
     "name": "stdout",
     "output_type": "stream",
     "text": [
      "La médiane est : 4.5\n",
      "[1, 1, 1, 3, 4, 5, 7, 8, 9, 10]\n"
     ]
    }
   ],
   "source": [
    "mediane(liste_paire)\n",
    "print(liste_paire)"
   ]
  }
 ],
 "metadata": {
  "kernelspec": {
   "display_name": "Python 3 (ipykernel)",
   "language": "python",
   "name": "python3"
  },
  "language_info": {
   "codemirror_mode": {
    "name": "ipython",
    "version": 3
   },
   "file_extension": ".py",
   "mimetype": "text/x-python",
   "name": "python",
   "nbconvert_exporter": "python",
   "pygments_lexer": "ipython3",
   "version": "3.8.3"
  }
 },
 "nbformat": 4,
 "nbformat_minor": 5
}
