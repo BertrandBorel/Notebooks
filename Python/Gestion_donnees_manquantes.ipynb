{
 "cells": [
  {
   "cell_type": "markdown",
   "id": "f44fa0f7",
   "metadata": {},
   "source": [
    "# <center> Gestion des données manquantes </center>\n",
    "\n",
    "**Source :** \n",
    "- Massaron Luca, Mueller John Paul, Data Science avec Python pour les nuls, First, 2019, p.141-142.\n",
    "- doc Pandas(fillna) : https://pandas.pydata.org/docs/reference/api/pandas.DataFrame.fillna.html et dropna() : https://pandas.pydata.org/docs/reference/api/pandas.DataFrame.dropna.html\n",
    "- Pandas DataFrame fillna() Method : https://www.w3schools.com/python/pandas/ref_df_fillna.asp\n",
    "- fillna() pour remplacer les valeurs Null dans la trame de données : https://fr.acervolima.com/python-pandas-dataframe-fillna-pour-remplacer-les-valeurs-null-dans-dataframe/\n",
    "- Nettoyage de données avec Python : détection des valeurs manquantes : https://moncoachdata.com/blog/nettoyage-de-donnees-python/\n",
    "- Comment remplir les données manquantes à l'aide de Python Pandas : https://www.journaldufreenaute.fr/comment-remplir-les-donnees-manquantes-a-laide-de-python-pandas/"
   ]
  },
  {
   "cell_type": "markdown",
   "id": "82b21242",
   "metadata": {},
   "source": [
    "Généralement, on remplace les valeurs manquantes par :\n",
    "- `mean` : la moyenne\n",
    "- `median` : la médiane\n",
    "- `most_frequent` : la valeur qui revient le plus souvent\n",
    "- 0\n",
    "- Une valeur choisie."
   ]
  },
  {
   "cell_type": "markdown",
   "id": "98c66860",
   "metadata": {},
   "source": [
    "# Trouver les données manquantes \n",
    "\n",
    "### Affichage des valeurs nulles (renvoie True/False)\n",
    "`print(df['colonne'].isnull())`\n",
    "\n",
    "### Nombre total de valeurs manquantes pour chaque caractéristique\n",
    "`print(df.isnull().sum())`\n",
    "\n",
    "###  Faire une liste de types de valeurs manquantes\n",
    "`missing_values = [\"n/a\", \"na\", \"--\"]` # ajouter à la liste chaque nouvelle forme de valeur manquante\n",
    "`df = pd.read_csv(\"property data.csv\", na_values = missing_values)`\n",
    "\n",
    "###  Savoir s'il reste des valeurs manquantes (renvoie True/False)\n",
    "`print(df.isnull().values.any())`\n",
    "\n",
    "###  Nombre total de valeurs manquantes\n",
    "`print(df.isnull().sum().sum())`\n",
    "\n",
    "---"
   ]
  },
  {
   "cell_type": "markdown",
   "id": "d7d2ca91",
   "metadata": {},
   "source": [
    "## `fillna()`"
   ]
  },
  {
   "cell_type": "code",
   "execution_count": null,
   "id": "24f7f736",
   "metadata": {},
   "outputs": [],
   "source": [
    "import pandas as pd\n",
    "\n",
    "# remplace par 0 dans le dataframe (df)\n",
    "df.fillna(0)\n",
    "\n",
    "# avec des valeurs précises\n",
    "values = {\"A\": 0, \"B\": 1, \"C\": 2, \"D\": 3}\n",
    "df.fillna(value=values)\n",
    "\n",
    "# remplace seulement le premier NaN\n",
    "df.fillna(value=values, limit=1)"
   ]
  },
  {
   "cell_type": "markdown",
   "id": "5e9a140e",
   "metadata": {},
   "source": [
    "### Syntaxe"
   ]
  },
  {
   "cell_type": "markdown",
   "id": "1f22a191",
   "metadata": {},
   "source": [
    "`df.fillna(value, method, axis, inplace, limit, downcast)`\n",
    "\n",
    "- `values`: Required, Specifies the value to replace the NULL values with. This can also be values for the entire row or column. \n",
    "        (Value : int, str, dictionary, series, dataframe)\n",
    "- `method`: Optional, default None'. Specifies the method to use when replacing.\n",
    "        (Value : 'backfill', bfill', 'pad', 'ffill', None)\n",
    "- `axis`: line or column (1 or 0, 'index' or 'columns')\n",
    "-`inplace`: True/False. Optional, default False. If True: the replacing is done on the current DataFrame. If False: returns a copy where the replacing is done.\n",
    "-`limit`: Optional, default None. Specifies the maximum number of NULL values to fill (if method is specified)\n",
    "-`downcast`: Optional, a dictionary of values to fill for specific data types\n",
    "\n"
   ]
  },
  {
   "cell_type": "markdown",
   "id": "baf38499",
   "metadata": {},
   "source": [
    "---\n",
    "\n",
    "## `dropna()`\n",
    "\n",
    "Supprime les lignes (rows) si au moins 1 élément est manquant.\n",
    "\n",
    "`df.dropna()`\n",
    "\n",
    "Supprime les rows où tous les éléments sont manquants.\n",
    "`df.dropna(how='all')`\n",
    "\n",
    "Conserve uniquement les lignes contenant au moins 2 valeurs autres que NA.\n",
    "`df.dropna(thresh=2)`\n",
    "\n",
    "En fonction des colonnes :\n",
    "\n",
    "`df.dropna(subset=['colonne1', 'colonne3'])`\n",
    "\n",
    "Supprime une colonne si au moins 1 élément est manquant :\n",
    "\n",
    "`df.dropna(axis='columns')`\n",
    "\n",
    "### Syntaxe \n",
    "`dataframe.dropna(axis, how, thresh, subset, inplace)`"
   ]
  },
  {
   "cell_type": "markdown",
   "id": "985db06e",
   "metadata": {},
   "source": [
    "---\n",
    "\n",
    "## Avec Imputer de sklearn"
   ]
  },
  {
   "cell_type": "code",
   "execution_count": null,
   "id": "c174e236",
   "metadata": {},
   "outputs": [],
   "source": [
    "from sklearn.preprocessing import Imputer\n",
    "\n",
    "s = [[1, 2, 3, np.NaN, 5, 6, None]]\n",
    "\n",
    "imp = Imputer(missing_values='NaN', strategy='mean', axis=0)\n",
    "\n",
    "imp.fit([[1, 2, 3, 4, 5, 6, 7]])\n",
    "\n",
    "x = pd.Series(imp.transform(s).tolist()[0])\n",
    "\n",
    "print(x)"
   ]
  },
  {
   "cell_type": "markdown",
   "id": "e579ed90",
   "metadata": {},
   "source": [
    "'imp' est un objet de type Imputer permettant d'insérer d'autres valeurs à leur place. \n",
    "\n",
    "- `missing_values` : indique quel symbole est recherché \n",
    "- `axis` = à 0 pour les colonnes, à 1 pour les lignes\n",
    "- `strategy` : décide par quoi remplacer les valeurs manquantes\n",
    "\n",
    "    On fournit des statistiques à l'Imputer lors du `fit()`, on applique avec `transform()` sur 's' puis on affiche le résultat sous forme d'une série. Pour la créer, on obtient d'abord une liste (`tolist()`). \n",
    "    \n",
    "    ---"
   ]
  },
  {
   "cell_type": "markdown",
   "id": "c0d16373",
   "metadata": {},
   "source": [
    "## Méthode `replace()`\n",
    "\n",
    "`df['colonne'].replace([numpy.nan], df['colonne'].mean(), inplace=True)`\n",
    "\n",
    "---"
   ]
  },
  {
   "cell_type": "markdown",
   "id": "35756f92",
   "metadata": {},
   "source": [
    "## Remplacer sur une position\n",
    "\n",
    "`df.loc[num_ligne,'nom_colonne'] = nouvelle_valeur`"
   ]
  }
 ],
 "metadata": {
  "kernelspec": {
   "display_name": "Python 3 (ipykernel)",
   "language": "python",
   "name": "python3"
  },
  "language_info": {
   "codemirror_mode": {
    "name": "ipython",
    "version": 3
   },
   "file_extension": ".py",
   "mimetype": "text/x-python",
   "name": "python",
   "nbconvert_exporter": "python",
   "pygments_lexer": "ipython3",
   "version": "3.8.3"
  }
 },
 "nbformat": 4,
 "nbformat_minor": 5
}
