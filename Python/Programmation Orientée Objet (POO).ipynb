{
 "cells": [
  {
   "cell_type": "markdown",
   "metadata": {},
   "source": [
    "### <center> Programmation Orientée Objet (POO) </center>"
   ]
  },
  {
   "cell_type": "markdown",
   "metadata": {},
   "source": [
    "### Définition selon Steve Jobs : \n",
    "\n",
    "[Comment pourriez-vous expliquer l'orienté objet ?](https://www.developpez.com/actu/91705/Comment-pourriez-vous-expliquer-l-oriente-objet-Steve-Jobs-a-essaye-d-expliquer-ce-concept/)"
   ]
  },
  {
   "cell_type": "markdown",
   "metadata": {},
   "source": [
    "<ins>Définition Wikipédia :</ins>\n",
    "    \n",
    "    La programmation orientée objet (POO), ou programmation par objet, est un paradigme de programmation informatique. Elle consiste en la définition et l'interaction de briques logicielles appelées objets ; un objet représente un concept, une idée ou toute entité du monde physique, comme une voiture, une personne ou encore une page d'un livre. Il possède une structure interne et un comportement, et il sait interagir avec ses pairs. Il s'agit donc de représenter ces objets et leurs relations ; l'interaction entre les objets via leurs relations permet de concevoir et réaliser les fonctionnalités attendues, de mieux résoudre le ou les problèmes. Dès lors, l'étape de modélisation revêt une importance majeure et nécessaire pour la POO. C'est elle qui permet de transcrire les éléments du réel sous forme virtuelle."
   ]
  },
  {
   "cell_type": "markdown",
   "metadata": {},
   "source": [
    "<ins>Définition OpenClassRooms (cf cours):</ins>\n",
    "    \n",
    "    La programmation orientée objet (POO) est une façon différente de penser la programmation, par rapport à la programmation procédurale. Elle permet de structurer son code autrement, tout en ajoutant une couche d’abstraction supplémentaire : en définissant un monde d’objets proche de notre monde à nous.\n",
    "    \n",
    "    Techniquement, il s’agit de manipuler des sortes de conteneurs (les classes), qui stockent à la fois des valeurs brutes (appelées « propriétés ») et des fonctions (appelées « méthodes »)."
   ]
  },
  {
   "cell_type": "markdown",
   "metadata": {},
   "source": [
    "## Sources :\n",
    "\n",
    "- article POO sur [Wikipedia](https://fr.wikipedia.org/wiki/Programmation_orient%C3%A9e_objet)\n",
    "- Programmation Orientée Objet (POO) : [le guide ultime](https://datascientest.com/programmation-orientee-objet-guide-ultime)\n",
    "- [Qu'est-ce que la programmation orientée objet ?](https://www.jedha.co/blog/quest-ce-que-la-programmation-orientee-objet)\n",
    "- Apprenez la programmation orientée objet avec Python, [cours openclassrooms](https://openclassrooms.com/fr/courses/7150616-apprenez-la-programmation-orientee-objet-avec-python)\n",
    "- [Notebook de Stéphane](/notebooks/Cours/12-%20POO/poo.ipynb)\n",
    "- [Programmation orientée objet en python / classes](https://python.doctor/page-apprendre-programmation-orientee-objet-poo-classes-python-cours-debutants)\n",
    "- [Avoir la classe avec les objets](https://python.sdv.univ-paris-diderot.fr/19_avoir_la_classe_avec_les_objets/)\n",
    "- doc officielle python : [classe](https://docs.python.org/fr/3/tutorial/classes.html)\n",
    "- [Classes et objets](https://courspython.com/classes-et-objets.html#la-notion-de-constructeur)"
   ]
  },
  {
   "cell_type": "markdown",
   "metadata": {},
   "source": [
    "## Qu'est-ce qu'un objet ?\n",
    "\n",
    "Concrètement, un objet est une structure de données qui répond à un ensemble de messages. Cette structure de données définit son état tandis que l'ensemble des messages qu'il comprend décrit son comportement :\n",
    "\n",
    "les données, ou champs, qui décrivent sa structure interne sont appelées ses attributs ;\n",
    "l'ensemble des messages forme ce que l'on appelle l'interface de l'objet ; c'est seulement au travers de celle-ci que les objets interagissent entre eux. La réponse à la réception d'un message par un objet est appelée une méthode (méthode de mise en œuvre du message) ; elle décrit quelle réponse doit être donnée au message.\n",
    "Certains attributs et/ou méthodes (ou plus exactement leur représentation informatique) sont cachés : c'est le principe d'encapsulation. Ainsi, le programme peut modifier la structure interne des objets ou leurs méthodes associées sans avoir d'impact sur les utilisateurs de l'objet.\n",
    "\n",
    "Un exemple avec un objet représentant un nombre complexe : celui-ci peut être représenté sous différentes formes (cartésienne (réel, imaginaire), trigonométrique, exponentielle (module, angle)). Cette représentation reste cachée et est interne à l'objet. L'objet propose des messages permettant de lire une représentation différente du nombre complexe. En utilisant les seuls messages que comprend notre nombre complexe, les objets appelants sont assurés de ne pas être affectés lors d'un changement de sa structure interne. Cette dernière n'est accessible que par les méthodes des messages.\n",
    "\n",
    "Source : [article POO sur Wikipédia](https://fr.wikipedia.org/wiki/Programmation_orient%C3%A9e_objet)"
   ]
  },
  {
   "cell_type": "markdown",
   "metadata": {},
   "source": [
    "**En résumé**\n",
    "\n",
    "- Les classes sont des modèles pour les objets.\n",
    "\n",
    "- Les classes allient état (les données ou variables) et comportement (les méthodes) s’appliquant à ces données.\n",
    "\n",
    "- Un objet peut être créé et utilisé dans un programme."
   ]
  },
  {
   "cell_type": "code",
   "execution_count": null,
   "metadata": {},
   "outputs": [],
   "source": [
    "# Terminologie\n",
    "\n",
    "#classe \n",
    "class Voiture :\n",
    "    # attribut de classe\n",
    "    pneus = 4\n",
    "    # méthode\n",
    "    def __init__(self, marque):\n",
    "        # attribut d'instance\n",
    "        self.marque = marque\n",
    "# instance        \n",
    "lamborghini= Voiture(\"Lamborghini\")"
   ]
  },
  {
   "cell_type": "markdown",
   "metadata": {},
   "source": [
    "## Les principes de la POO\n",
    "\n",
    "<br>\n",
    "\n",
    "**--> Encapsulation :**<br>\n",
    "il s’agit de regrouper des données avec un ensemble de routines visant à les lire ou les manipuler. Chaque classe  définit des méthodes ou propriétés afin d’interagir avec les données. C’est à partir de la classe que seront créés les différents objets. Quand un des objets de la classe sera intégré dans le programme, on parlera de cet objet en tant qu’instance de la classe : l’objet est créé avec les propriétés de sa classe.\n",
    "\n",
    "**--> Abstraction :**<br>\n",
    "Elle consiste à masquer à l’utilisateur les détails inutiles. Ce dernier peu ainsi implémenter sa propre logique davantage complexe sans pour autant avoir à prendre en compte la complexité cachée et sous-jacente.\n",
    "\n",
    "**--> Héritage :**<br>\n",
    "Cela signifie qu’une classe B hérite de la classe A. Autrement dit, la classe B hérite des attributs et méthodes de la classe A. On peut alors appeler Les méthodes contenues dans la classe A par la classe B dès lors qu’une instance de la classe B est créée. Cela fait énormément gagner en temps.\n",
    "\n",
    "**--> Polymorphisme :**<br>\n",
    "Il permet au développeur d’utiliser une méthode ou un attribut selon plusieurs manières, en fonction de son besoin. Une même méthode peut, par exemple, être utilisée sur des entités différentes. La méthode du même nom produira des effets différents selon son contexte d’utilisation."
   ]
  },
  {
   "cell_type": "markdown",
   "metadata": {},
   "source": [
    "**POINTS IMPORTANTS À RETENIR**\n",
    "\n",
    "<br>\n",
    "\n",
    "Pour créer une classe, on utilise le mot clé `class`.\n",
    "\n",
    "Pour initialiser une instance, on utilise la méthode `__init__`.\n",
    "\n",
    "Pour définir un attribut d'instance, on utilise `self.attribut = valeur`.\n",
    "\n",
    "Pour créer une instance, on utilise le nom de la classe, suivie des parenthèses.\n",
    "\n",
    "Pour définir des attributs pour défaut lors de la création d'une instance, on indique les valeurs à envoyer à la méthode `__init__` à l'intérieur des parenthèses."
   ]
  },
  {
   "cell_type": "markdown",
   "metadata": {},
   "source": [
    "## Programmation procédurale vs POO\n",
    "\n",
    "\n",
    "Avant que la POO ne soit employée, la programmation informatique se faisait au moyen de la programmation procédurale. La résolution d’un problème se faisait par une analyse descendante qui décomposait le problème en sous-problèmes jusqu’à que des actions très simples soient identifiées. Ainsi, le programme est décomposé en procédures qui interagissent entre elles afin de résoudre le problème.\n",
    "\n",
    "Si la programmation procédurale est intuitive lorsqu’il s’agit d’apprendre la programmation, cette méthode pose un certain nombre d’inconvénients à terme. Le premier est que la plus petite modification de la structure des données du programme appelle à une modification de toutes les procédures qui interagissent avec ces données. De plus, développer un très grand programme en procédural peut s’avérer long et fastidieux.\n",
    "\n",
    "Si la POO ne permet pas fondamentalement de faire plus de choses que la programmation procédurale, elle permet toutefois de mieux organiser son code. Elle facilite aussi le travail coopératif et la maintenance à long terme."
   ]
  },
  {
   "cell_type": "markdown",
   "metadata": {},
   "source": [
    "## Le concept de classe\n",
    "\n",
    "\n",
    "La notion la plus importante en programmation orientée objet est le concept de classe. Les classes sont des moules, des patrons qui permettent de créer des objets en série sur le même modèle. On peut se représenter une classe comme le schéma de construction ainsi que la liste des fonctionnalités d’un ensemble d’objets.\n",
    "\n",
    "> En programmation orientée objet, on n’a affaire qu’à des classes et des objets (ou instance de classe). Tous les éléments manipulés en programmation objet sont des objets (d’où le nom) dont la construction repose sur la définition d’une classe. "
   ]
  },
  {
   "cell_type": "markdown",
   "metadata": {},
   "source": [
    "### a) Comment créer une classe avec Python ?"
   ]
  },
  {
   "cell_type": "code",
   "execution_count": 1,
   "metadata": {},
   "outputs": [],
   "source": [
    "class Animal: \n",
    "    pass"
   ]
  },
  {
   "cell_type": "markdown",
   "metadata": {},
   "source": [
    "Pour instancier cette classe, nous allons appeler la classe Animal comme si elle était une fonction:"
   ]
  },
  {
   "cell_type": "code",
   "execution_count": 4,
   "metadata": {},
   "outputs": [],
   "source": [
    "animal1 = Animal()\n",
    "\n",
    "animal2 = Animal()"
   ]
  },
  {
   "cell_type": "markdown",
   "metadata": {},
   "source": [
    "### b) Les constructeurs\n",
    "\n",
    "\n",
    "Les constructeurs sont des fonctions très importantes: ce sont les fonctions qui sont appelées lorsqu’un objet est créé. Dans le premier cas que nous avons montré, nous n’avions rien de particulier à construire donc nous n’avons pas défini le constructeur. \n",
    "\n",
    "Mais dans la plupart des cas, il faut le définir. Si nous voulons ajouter un affichage qui nous prévient de la création d’un objet de la classe Animal,  nous allons définir la fonction `__init__` comme suit:"
   ]
  },
  {
   "cell_type": "code",
   "execution_count": null,
   "metadata": {},
   "outputs": [],
   "source": [
    "class Animal:\n",
    "    def __init__(self):\n",
    "        print(\"un animal vient d\\'etre cree\")\n",
    "        pass"
   ]
  },
  {
   "cell_type": "markdown",
   "metadata": {},
   "source": [
    "Cette fonction `__init__` prend un argument très important: self. Ce mot-clef désigne l’objet lui-même. "
   ]
  },
  {
   "cell_type": "markdown",
   "metadata": {},
   "source": [
    "### c) Les attributs\n",
    "\n",
    "Notre classe n’a pas un grand intérêt pour l’instant… Nous devons ajouter des caractéristiques à nos animaux pour qu’ils soient intéressant. \n",
    "\n",
    "Ces caractéristiques sont ce qu’on appelle les attributs. \n",
    "Par exemple, nous allons donner un âge à tous nos objets de la classe Animal:"
   ]
  },
  {
   "cell_type": "code",
   "execution_count": 5,
   "metadata": {},
   "outputs": [],
   "source": [
    "class Animal:\n",
    "    def __init__(self):\n",
    "        print(\"un animal vient d\\'etre cree\")\n",
    "        self.age = 0\n",
    "        pass"
   ]
  },
  {
   "cell_type": "markdown",
   "metadata": {},
   "source": [
    "Dans la fonction `__init__`, on a ajouté la définition d’une variable self.age qui vaut 0. \n",
    "\n",
    "En fait, lorsqu’on définit self.<quelquechose>, on définit un attribut des objets de la classe.\n",
    "Ainsi toutes les instances de la classe Animal auront un attribut age qui lors de la création de l’objet vaudra 0."
   ]
  },
  {
   "cell_type": "code",
   "execution_count": 6,
   "metadata": {},
   "outputs": [
    {
     "name": "stdout",
     "output_type": "stream",
     "text": [
      "un animal vient d'etre cree\n",
      "un animal vient d'etre cree\n",
      "0\n",
      "0\n"
     ]
    }
   ],
   "source": [
    "animal1 = Animal()\n",
    "\n",
    "animal2 = Animal()\n",
    "\n",
    "# pour accéder à un attribut d'un objet on utilise un point . \n",
    "\n",
    "print(animal1.age)\n",
    "print(animal2.age)"
   ]
  },
  {
   "cell_type": "code",
   "execution_count": 9,
   "metadata": {},
   "outputs": [
    {
     "name": "stdout",
     "output_type": "stream",
     "text": [
      "un animal vient d'etre cree\n",
      "un animal vient d'etre cree\n",
      "0\n",
      "0\n",
      "0\n",
      "25\n"
     ]
    }
   ],
   "source": [
    "# On peut modifier ces valeurs, leur donner une toute autre valeur objet par objet sans problème \n",
    "    # mais elles seront initialisées de la même façon\n",
    "\n",
    "animal1 = Animal()\n",
    "animal2 = Animal()\n",
    "\n",
    "print(animal1.age)\n",
    "print(animal2.age)\n",
    "\n",
    "animal2.age = 25\n",
    "\n",
    "print(animal1.age)\n",
    "print(animal2.age)"
   ]
  },
  {
   "cell_type": "markdown",
   "metadata": {},
   "source": [
    "### d) Méthodes vs Fonctions\n",
    "\n",
    "\n",
    "Si fonctions et méthodes peuvent prendre des entrées et renvoyer des sorties, les fonctions ne sont pas relatives à un objet. En fait, en programmation orientée objet pure, les fonctions n’existent pas puisque tout est objet, c’est-à-dire instance de classe.\n",
    "\n",
    "Grâce à une méthode, on va pouvoir réaliser des opérations qui sont spécifiques à un objet: modifier ses attributs, les afficher, les retourner (ou les initialiser dans le cas de la méthode `__init__`)."
   ]
  },
  {
   "cell_type": "code",
   "execution_count": 16,
   "metadata": {},
   "outputs": [
    {
     "name": "stdout",
     "output_type": "stream",
     "text": [
      "<__main__.Monty object at 0x0000022B321C0FD0>\n",
      "<__main__.Monty object at 0x0000022B321C0CA0>\n",
      "<__main__.Monty object at 0x0000022B321C0FD0>\n",
      "comédien\n",
      "<__main__.Monty object at 0x0000022B321C0CA0>\n",
      "comédien\n",
      "réalisateur\n",
      "comédien\n"
     ]
    }
   ],
   "source": [
    "class Monty :\n",
    "    def __init__(self):\n",
    "        print(self)\n",
    "        self.metier = \"comédien\"\n",
    "    \n",
    "def main():\n",
    "    monty1 = Monty()\n",
    "    monty2 = Monty()\n",
    "    \n",
    "    print(monty1)\n",
    "    print(monty1.metier)\n",
    "    print(monty2)\n",
    "    print(monty2.metier)\n",
    "\n",
    "    monty2.metier = \"réalisateur\"\n",
    "    \n",
    "    print(monty2.metier)\n",
    "    print(monty1.metier)\n",
    "    \n",
    "main()"
   ]
  },
  {
   "cell_type": "code",
   "execution_count": null,
   "metadata": {},
   "outputs": [],
   "source": []
  }
 ],
 "metadata": {
  "kernelspec": {
   "display_name": "Python 3",
   "language": "python",
   "name": "python3"
  },
  "language_info": {
   "codemirror_mode": {
    "name": "ipython",
    "version": 3
   },
   "file_extension": ".py",
   "mimetype": "text/x-python",
   "name": "python",
   "nbconvert_exporter": "python",
   "pygments_lexer": "ipython3",
   "version": "3.8.3"
  }
 },
 "nbformat": 4,
 "nbformat_minor": 4
}
