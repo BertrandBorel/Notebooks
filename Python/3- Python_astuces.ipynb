{
 "cells": [
  {
   "cell_type": "markdown",
   "id": "7121e997",
   "metadata": {},
   "source": [
    "# <center> Trucs et astuces en Python (3) </center>\n",
    "\n",
    "**Sources :** \n",
    "- revue Coding, n°19, p.109.\n",
    "\n",
    "---\n",
    "\n",
    "## 101- Remplacer une boucle `for` par une boucle `while`"
   ]
  },
  {
   "cell_type": "code",
   "execution_count": 2,
   "id": "b6aa5eff",
   "metadata": {},
   "outputs": [
    {
     "name": "stdout",
     "output_type": "stream",
     "text": [
      "Ceci est un test\n",
      "Ceci est un test\n",
      "Ceci est un test\n",
      "Ceci est un test\n",
      "Ceci est un test\n",
      "Ceci est un test\n",
      "Ceci est un test\n",
      "Ceci est un test\n",
      "Ceci est un test\n",
      "Ceci est un test\n",
      "-------------------\n",
      "Ceci est un test\n",
      "Ceci est un test\n",
      "Ceci est un test\n",
      "Ceci est un test\n",
      "Ceci est un test\n",
      "Ceci est un test\n",
      "Ceci est un test\n",
      "Ceci est un test\n",
      "Ceci est un test\n",
      "Ceci est un test\n"
     ]
    }
   ],
   "source": [
    "texte = \"Ceci est un test\"\n",
    "\n",
    "# boucle for\n",
    "for x in range(10):\n",
    "    print(texte)\n",
    "    \n",
    "print(\"-------------------\")    \n",
    "    \n",
    "# boucle while\n",
    "compteur = 0 \n",
    "while compteur < 10 :\n",
    "    compteur += 1\n",
    "    print(texte)"
   ]
  },
  {
   "cell_type": "markdown",
   "id": "99e2215c",
   "metadata": {},
   "source": [
    "## 102- Trouver la moyenne des éléments d'une liste à l'aide des fonctions `sum()` et `len()`"
   ]
  },
  {
   "cell_type": "code",
   "execution_count": 5,
   "id": "4f1213bd",
   "metadata": {},
   "outputs": [
    {
     "name": "stdout",
     "output_type": "stream",
     "text": [
      "La somme de la liste est :  222\n",
      "La longeur de la liste est :  6\n",
      "La moyenne de la liste est :  37.0\n"
     ]
    }
   ],
   "source": [
    "liste = [32, 24, 17, 4, 55, 90]\n",
    "\n",
    "somme = sum(liste)\n",
    "longueur = len(liste)\n",
    "moyenne = somme / longueur\n",
    "\n",
    "print(\"La somme de la liste est : \", somme)\n",
    "print(\"La longeur de la liste est : \", longueur)\n",
    "print(\"La moyenne de la liste est : \", moyenne)"
   ]
  },
  {
   "cell_type": "markdown",
   "id": "5c456a9d",
   "metadata": {},
   "source": [
    "## 103- Trouver la somme des nombres jusqu'à ce que 0 soit saisi"
   ]
  },
  {
   "cell_type": "code",
   "execution_count": 9,
   "id": "4d415c86",
   "metadata": {},
   "outputs": [
    {
     "name": "stdout",
     "output_type": "stream",
     "text": [
      "Entrez un nombre : 2\n",
      "La somme des nombres saisis est de :  2\n",
      "Entrez un nombre : 3\n",
      "La somme des nombres saisis est de :  5\n",
      "Entrez un nombre : 4\n",
      "La somme des nombres saisis est de :  9\n",
      "Entrez un nombre : 0\n",
      "Fin du programme\n"
     ]
    }
   ],
   "source": [
    "somme = 0\n",
    "\n",
    "while True :\n",
    "    nombre = int(input(\"Entrez un nombre : \"))\n",
    "    if nombre == 0 :\n",
    "        print(\"Fin du programme\")\n",
    "        break\n",
    "    somme += nombre\n",
    "    print(\"La somme des nombres saisis est de : \", somme)   "
   ]
  }
 ],
 "metadata": {
  "kernelspec": {
   "display_name": "Python 3 (ipykernel)",
   "language": "python",
   "name": "python3"
  },
  "language_info": {
   "codemirror_mode": {
    "name": "ipython",
    "version": 3
   },
   "file_extension": ".py",
   "mimetype": "text/x-python",
   "name": "python",
   "nbconvert_exporter": "python",
   "pygments_lexer": "ipython3",
   "version": "3.8.3"
  }
 },
 "nbformat": 4,
 "nbformat_minor": 5
}
