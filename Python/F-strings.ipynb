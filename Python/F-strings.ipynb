{
 "cells": [
  {
   "cell_type": "markdown",
   "id": "7bfc726f",
   "metadata": {},
   "source": [
    "# <center> F-strings </center>\n",
    "\n",
    "Permet d'insérer des variables tout en gardant un format précis.\n",
    "\n",
    "**sources :**\n",
    "- https://www.geeksforgeeks.org/formatted-string-literals-f-strings-python/\n",
    "- https://docs.python.org/3/tutorial/inputoutput.html"
   ]
  },
  {
   "cell_type": "markdown",
   "id": "8a03c49f",
   "metadata": {},
   "source": [
    "## Exemple :"
   ]
  },
  {
   "cell_type": "code",
   "execution_count": 1,
   "id": "8fdc00ea",
   "metadata": {},
   "outputs": [
    {
     "name": "stdout",
     "output_type": "stream",
     "text": [
      "Bonjour Bob, vous avez 45 ans.\n"
     ]
    }
   ],
   "source": [
    "prenom = \"Bob\"\n",
    "age = \"45\"\n",
    "\n",
    "print(f\"Bonjour {prenom}, vous avez {age} ans.\")"
   ]
  },
  {
   "cell_type": "markdown",
   "id": "8590670b",
   "metadata": {},
   "source": [
    "## Afficher la date :"
   ]
  },
  {
   "cell_type": "code",
   "execution_count": 3,
   "id": "d47f22f7",
   "metadata": {},
   "outputs": [
    {
     "name": "stdout",
     "output_type": "stream",
     "text": [
      "November 23, 2022\n"
     ]
    }
   ],
   "source": [
    "import datetime\n",
    " \n",
    "today = datetime.datetime.today()\n",
    "\n",
    "print(f\"{today:%B %d, %Y}\")"
   ]
  },
  {
   "cell_type": "markdown",
   "id": "4122e4e8",
   "metadata": {},
   "source": [
    "## Permet également d'effectuer des opérations sur les variables : "
   ]
  },
  {
   "cell_type": "code",
   "execution_count": 4,
   "id": "fd2e8e65",
   "metadata": {},
   "outputs": [
    {
     "name": "stdout",
     "output_type": "stream",
     "text": [
      "-----------\n",
      "|    H    |\n",
      "|    e    |\n",
      "|    l    |\n",
      "|    l    |\n",
      "|    o    |\n",
      "|         |\n",
      "|    W    |\n",
      "|    o    |\n",
      "|    r    |\n",
      "|    l    |\n",
      "|    d    |\n",
      "-----------\n"
     ]
    }
   ],
   "source": [
    "texte = \"Hello World\"\n",
    "taille = len(texte)\n",
    " \n",
    "symbol = \"-\"\n",
    "symbol2 = \"|\"\n",
    " \n",
    "print(symbol * taille)\n",
    " \n",
    "for lettre in texte:\n",
    "    # f-strings : exemple de soustraction\n",
    "    print(f\"{symbol2}{lettre:^{taille - 2}}{symbol2}\")\n",
    "\n",
    "print(symbol * taille)"
   ]
  }
 ],
 "metadata": {
  "kernelspec": {
   "display_name": "Python 3 (ipykernel)",
   "language": "python",
   "name": "python3"
  },
  "language_info": {
   "codemirror_mode": {
    "name": "ipython",
    "version": 3
   },
   "file_extension": ".py",
   "mimetype": "text/x-python",
   "name": "python",
   "nbconvert_exporter": "python",
   "pygments_lexer": "ipython3",
   "version": "3.8.3"
  }
 },
 "nbformat": 4,
 "nbformat_minor": 5
}
