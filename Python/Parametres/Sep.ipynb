{
 "cells": [
  {
   "cell_type": "markdown",
   "id": "37608985",
   "metadata": {},
   "source": [
    "# <center> Paramètre `sep` pour l'instruction `print` </center>\n",
    "\n",
    "---\n",
    "\n",
    "## Exemple"
   ]
  },
  {
   "cell_type": "code",
   "execution_count": 1,
   "id": "28a6155d",
   "metadata": {},
   "outputs": [
    {
     "name": "stdout",
     "output_type": "stream",
     "text": [
      "Ceci est un test\n"
     ]
    }
   ],
   "source": [
    "a = \"Ceci\"\n",
    "b = \"est\"\n",
    "c = \"un test\"\n",
    "\n",
    "print(a, b, c, sep=\" \")"
   ]
  },
  {
   "cell_type": "markdown",
   "id": "fac105a5",
   "metadata": {},
   "source": [
    "## Utilisation avec `end` :"
   ]
  },
  {
   "cell_type": "code",
   "execution_count": 3,
   "id": "5934cbe7",
   "metadata": {},
   "outputs": [
    {
     "name": "stdout",
     "output_type": "stream",
     "text": [
      "Rien ne sert de courir, il faut partir à point..."
     ]
    }
   ],
   "source": [
    "phrase_1 = \"Rien ne sert de courir\"\n",
    "phrase_2 = \"il faut partir à point\"\n",
    "\n",
    "print(phrase_1, phrase_2, sep=\", \", end=\"...\")"
   ]
  }
 ],
 "metadata": {
  "kernelspec": {
   "display_name": "Python 3 (ipykernel)",
   "language": "python",
   "name": "python3"
  },
  "language_info": {
   "codemirror_mode": {
    "name": "ipython",
    "version": 3
   },
   "file_extension": ".py",
   "mimetype": "text/x-python",
   "name": "python",
   "nbconvert_exporter": "python",
   "pygments_lexer": "ipython3",
   "version": "3.10.0"
  }
 },
 "nbformat": 4,
 "nbformat_minor": 5
}
