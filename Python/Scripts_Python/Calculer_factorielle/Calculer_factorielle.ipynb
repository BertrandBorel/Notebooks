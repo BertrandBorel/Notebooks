{
 "cells": [
  {
   "cell_type": "markdown",
   "id": "a5ad8c1f",
   "metadata": {},
   "source": [
    "# <center> Calculer la factorielle d'un nombre </center>\n",
    "\n",
    "**Source :** Revue Coding, n°19, p.23-25.\n",
    "\n",
    "### Objectif :\n",
    "Calculer la factorielle d'un entier **n** non négatif consiste à multiplier tous les entiers inférieurs ou égaux à **n**.\n",
    "\n",
    "Par exemple la factorielle de 6 est 6x5x4x3x2x1 qui donne 720.\n",
    "\n",
    "---"
   ]
  },
  {
   "cell_type": "markdown",
   "id": "be7c1f3c",
   "metadata": {},
   "source": [
    "## 1- Méthode récursive :"
   ]
  },
  {
   "cell_type": "code",
   "execution_count": 1,
   "id": "1c40faf4",
   "metadata": {},
   "outputs": [],
   "source": [
    "def factorielle(n):\n",
    "    return 1 if (n==1 or n==0) else n * factorielle(n-1)"
   ]
  },
  {
   "cell_type": "code",
   "execution_count": 2,
   "id": "bd511af4",
   "metadata": {},
   "outputs": [
    {
     "data": {
      "text/plain": [
       "120"
      ]
     },
     "execution_count": 2,
     "metadata": {},
     "output_type": "execute_result"
    }
   ],
   "source": [
    "factorielle(5)"
   ]
  },
  {
   "cell_type": "markdown",
   "id": "ffde009d",
   "metadata": {},
   "source": [
    "## 2- Méthode itérative : "
   ]
  },
  {
   "cell_type": "code",
   "execution_count": 5,
   "id": "44d968bb",
   "metadata": {},
   "outputs": [],
   "source": [
    "def factorielle(n):\n",
    "    if n < 0 :\n",
    "        return 0\n",
    "    elif n==0 or n==1 :\n",
    "        return 1\n",
    "    else :\n",
    "        fact = 1\n",
    "        while n > 1 :\n",
    "            fact *= n\n",
    "            n -= 1\n",
    "        return fact"
   ]
  },
  {
   "cell_type": "code",
   "execution_count": 6,
   "id": "2330a615",
   "metadata": {},
   "outputs": [
    {
     "data": {
      "text/plain": [
       "120"
      ]
     },
     "execution_count": 6,
     "metadata": {},
     "output_type": "execute_result"
    }
   ],
   "source": [
    "factorielle(5)"
   ]
  },
  {
   "cell_type": "markdown",
   "id": "513642d2",
   "metadata": {},
   "source": [
    "## 3- Solution en 1 ligne (avec l'opérateur ternaire)"
   ]
  },
  {
   "cell_type": "code",
   "execution_count": null,
   "id": "5dea278f",
   "metadata": {},
   "outputs": [],
   "source": []
  }
 ],
 "metadata": {
  "kernelspec": {
   "display_name": "Python 3 (ipykernel)",
   "language": "python",
   "name": "python3"
  },
  "language_info": {
   "codemirror_mode": {
    "name": "ipython",
    "version": 3
   },
   "file_extension": ".py",
   "mimetype": "text/x-python",
   "name": "python",
   "nbconvert_exporter": "python",
   "pygments_lexer": "ipython3",
   "version": "3.8.3"
  }
 },
 "nbformat": 4,
 "nbformat_minor": 5
}
