{
 "cells": [
  {
   "cell_type": "markdown",
   "id": "9d215cc0",
   "metadata": {},
   "source": [
    "# <center> Calculer la factorielle d'un nombre </center>\n",
    "\n",
    "**Source :** Revue Coding, n°19, p.23-25.\n",
    "\n",
    "### Objectif :\n",
    "Calculer la factorielle d'un entier **n** non négatif consiste à multiplier tous les entiers inférieurs ou égaux à **n**.\n",
    "\n",
    "Par exemple la factorielle de 6 est 6x5x4x3x2x1 qui donne 720.\n",
    "\n",
    "---"
   ]
  },
  {
   "cell_type": "markdown",
   "id": "61a95a42",
   "metadata": {},
   "source": [
    "## 1- Méthode récursive :"
   ]
  },
  {
   "cell_type": "code",
   "execution_count": 1,
   "id": "464e6918",
   "metadata": {},
   "outputs": [],
   "source": [
    "def factorielle(n):\n",
    "    return 1 if (n==1 or n==0) else n * factorielle(n-1)"
   ]
  },
  {
   "cell_type": "code",
   "execution_count": 2,
   "id": "44ae045b",
   "metadata": {},
   "outputs": [
    {
     "data": {
      "text/plain": [
       "120"
      ]
     },
     "execution_count": 2,
     "metadata": {},
     "output_type": "execute_result"
    }
   ],
   "source": [
    "factorielle(5)"
   ]
  },
  {
   "cell_type": "markdown",
   "id": "5c939f8b",
   "metadata": {},
   "source": [
    "## 2- Méthode itérative : "
   ]
  },
  {
   "cell_type": "code",
   "execution_count": 5,
   "id": "f1995d9e",
   "metadata": {},
   "outputs": [],
   "source": [
    "def factorielle(n):\n",
    "    if n < 0 :\n",
    "        return 0\n",
    "    elif n==0 or n==1 :\n",
    "        return 1\n",
    "    else :\n",
    "        fact = 1\n",
    "        while n > 1 :\n",
    "            fact *= n\n",
    "            n -= 1\n",
    "        return fact"
   ]
  },
  {
   "cell_type": "code",
   "execution_count": 6,
   "id": "b9b845ac",
   "metadata": {},
   "outputs": [
    {
     "data": {
      "text/plain": [
       "120"
      ]
     },
     "execution_count": 6,
     "metadata": {},
     "output_type": "execute_result"
    }
   ],
   "source": [
    "factorielle(5)"
   ]
  },
  {
   "cell_type": "markdown",
   "id": "e8a3984d",
   "metadata": {},
   "source": [
    "## 3- Avec la fonctio intégrée du module `math` :"
   ]
  },
  {
   "cell_type": "code",
   "execution_count": 9,
   "id": "183eeb9b",
   "metadata": {},
   "outputs": [],
   "source": [
    "import math\n",
    "\n",
    "def factorielle(n):\n",
    "    return (math.factorial(n))"
   ]
  },
  {
   "cell_type": "code",
   "execution_count": 10,
   "id": "0e01e32e",
   "metadata": {},
   "outputs": [
    {
     "data": {
      "text/plain": [
       "120"
      ]
     },
     "execution_count": 10,
     "metadata": {},
     "output_type": "execute_result"
    }
   ],
   "source": [
    "factorielle(5)"
   ]
  }
 ],
 "metadata": {
  "kernelspec": {
   "display_name": "Python 3 (ipykernel)",
   "language": "python",
   "name": "python3"
  },
  "language_info": {
   "codemirror_mode": {
    "name": "ipython",
    "version": 3
   },
   "file_extension": ".py",
   "mimetype": "text/x-python",
   "name": "python",
   "nbconvert_exporter": "python",
   "pygments_lexer": "ipython3",
   "version": "3.8.3"
  }
 },
 "nbformat": 4,
 "nbformat_minor": 5
}
