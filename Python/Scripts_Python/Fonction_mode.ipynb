{
 "cells": [
  {
   "cell_type": "markdown",
   "id": "7bb67801",
   "metadata": {},
   "source": [
    "# <center> Fonction pour trouver le mode dans une liste de nombres </center>\n"
   ]
  },
  {
   "cell_type": "markdown",
   "id": "a65da45b",
   "metadata": {},
   "source": [
    "## Création de listes aléatoires"
   ]
  },
  {
   "cell_type": "code",
   "execution_count": 121,
   "id": "ed897bc6",
   "metadata": {},
   "outputs": [
    {
     "name": "stdout",
     "output_type": "stream",
     "text": [
      "[6, 8, 8, 9, 3, 4, 8, 1, 10, 5]\n",
      "[3, 3, 9, 5, 7, 3, 2, 1, 9, 7, 2]\n"
     ]
    }
   ],
   "source": [
    "from random import randint\n",
    "\n",
    "# création d'une liste paire\n",
    "liste_paire = [randint(1, 10) for x in range(1, 11)]\n",
    "# création d'une liste impaire\n",
    "liste_impaire = [randint(1, 10) for x in range(1, 12)]\n",
    "\n",
    "print(liste_paire)\n",
    "print(liste_impaire)"
   ]
  },
  {
   "cell_type": "markdown",
   "id": "33ed0e94",
   "metadata": {},
   "source": [
    "## Fonction :\n",
    "\n",
    "**Source :** https://geekflare.com/python-find-mean-median-and-mode/"
   ]
  },
  {
   "cell_type": "code",
   "execution_count": 122,
   "id": "3500cc18",
   "metadata": {},
   "outputs": [],
   "source": [
    "def mode(liste):\n",
    "    frequence = {}\n",
    "\n",
    "    for value in liste:\n",
    "        frequence[value] = frequence.get(value, 0) + 1\n",
    "\n",
    "    plus_frequent = max(frequence.values())\n",
    "\n",
    "    modes = [key for key, value in frequence.items()\n",
    "                      if value == plus_frequent]\n",
    "\n",
    "    return modes"
   ]
  },
  {
   "cell_type": "markdown",
   "id": "e3a88981",
   "metadata": {},
   "source": [
    "## Appels de la fonction : "
   ]
  },
  {
   "cell_type": "code",
   "execution_count": 126,
   "id": "9e671fed",
   "metadata": {},
   "outputs": [
    {
     "name": "stdout",
     "output_type": "stream",
     "text": [
      "[8]\n",
      "[6, 8, 8, 9, 3, 4, 8, 1, 10, 5]\n"
     ]
    }
   ],
   "source": [
    "print(mode(liste_paire))\n",
    "print(liste_paire)"
   ]
  },
  {
   "cell_type": "code",
   "execution_count": 127,
   "id": "971cc1c3",
   "metadata": {},
   "outputs": [
    {
     "name": "stdout",
     "output_type": "stream",
     "text": [
      "[3]\n",
      "[3, 3, 9, 5, 7, 3, 2, 1, 9, 7, 2]\n"
     ]
    }
   ],
   "source": [
    "print(mode(liste_impaire))\n",
    "print(liste_impaire)"
   ]
  },
  {
   "cell_type": "markdown",
   "id": "09e1372c",
   "metadata": {},
   "source": [
    "## En 1 seule ligne de code "
   ]
  },
  {
   "cell_type": "code",
   "execution_count": 51,
   "id": "1526f37a",
   "metadata": {},
   "outputs": [
    {
     "data": {
      "text/plain": [
       "3"
      ]
     },
     "execution_count": 51,
     "metadata": {},
     "output_type": "execute_result"
    }
   ],
   "source": [
    "max(set(liste_impaire), key=liste_impaire.count)"
   ]
  },
  {
   "cell_type": "code",
   "execution_count": 52,
   "id": "75bac95e",
   "metadata": {},
   "outputs": [
    {
     "data": {
      "text/plain": [
       "3"
      ]
     },
     "execution_count": 52,
     "metadata": {},
     "output_type": "execute_result"
    }
   ],
   "source": [
    "max(liste_impaire, key=liste_impaire.count)"
   ]
  },
  {
   "cell_type": "markdown",
   "id": "aa66e155",
   "metadata": {},
   "source": [
    "## Avec le module `Counter`"
   ]
  },
  {
   "cell_type": "code",
   "execution_count": 54,
   "id": "c9ed6979",
   "metadata": {},
   "outputs": [
    {
     "data": {
      "text/plain": [
       "[(3, 2)]"
      ]
     },
     "execution_count": 54,
     "metadata": {},
     "output_type": "execute_result"
    }
   ],
   "source": [
    "from collections import Counter\n",
    "data = Counter(liste_impaire)\n",
    "data.most_common()  \n",
    "data.most_common(1)"
   ]
  },
  {
   "cell_type": "code",
   "execution_count": 56,
   "id": "349f11da",
   "metadata": {},
   "outputs": [
    {
     "data": {
      "text/plain": [
       "3"
      ]
     },
     "execution_count": 56,
     "metadata": {},
     "output_type": "execute_result"
    }
   ],
   "source": [
    "# renvoie le mode sans la fréquence\n",
    "Counter(liste_impaire).most_common(1)[0][0]"
   ]
  },
  {
   "cell_type": "markdown",
   "id": "a6483c5c",
   "metadata": {},
   "source": [
    "## Avec `mode()` :"
   ]
  },
  {
   "cell_type": "code",
   "execution_count": 58,
   "id": "d3633ebc",
   "metadata": {},
   "outputs": [
    {
     "data": {
      "text/plain": [
       "1"
      ]
     },
     "execution_count": 58,
     "metadata": {},
     "output_type": "execute_result"
    }
   ],
   "source": [
    "from statistics import mode\n",
    "mode([1, 1, 2, 3, 3, 4, 4])"
   ]
  },
  {
   "cell_type": "markdown",
   "id": "75834b17",
   "metadata": {},
   "source": [
    "## Trouve les modes de séries multimodales"
   ]
  },
  {
   "cell_type": "code",
   "execution_count": 59,
   "id": "7f13124a",
   "metadata": {},
   "outputs": [
    {
     "data": {
      "text/plain": [
       "[4, 2]"
      ]
     },
     "execution_count": 59,
     "metadata": {},
     "output_type": "execute_result"
    }
   ],
   "source": [
    "import statistics\n",
    "\n",
    "statistics.multimode([4, 1, 2, 2, 3, 5, 4])"
   ]
  },
  {
   "cell_type": "code",
   "execution_count": 63,
   "id": "f4b09618",
   "metadata": {},
   "outputs": [
    {
     "name": "stdout",
     "output_type": "stream",
     "text": [
      "Liste de nombres : [3, 3, 4, 5, 6, 6, 7, 7, 8, 9, 9]\n",
      "Les modes : [3, 6, 7, 9]\n"
     ]
    }
   ],
   "source": [
    "print(\"Liste de nombres :\", liste_impaire)\n",
    "print(\"Les modes :\", statistics.multimode(liste_impaire))"
   ]
  }
 ],
 "metadata": {
  "kernelspec": {
   "display_name": "Python 3 (ipykernel)",
   "language": "python",
   "name": "python3"
  },
  "language_info": {
   "codemirror_mode": {
    "name": "ipython",
    "version": 3
   },
   "file_extension": ".py",
   "mimetype": "text/x-python",
   "name": "python",
   "nbconvert_exporter": "python",
   "pygments_lexer": "ipython3",
   "version": "3.8.3"
  }
 },
 "nbformat": 4,
 "nbformat_minor": 5
}
