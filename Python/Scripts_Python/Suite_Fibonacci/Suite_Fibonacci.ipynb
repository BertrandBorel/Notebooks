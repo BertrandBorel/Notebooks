{
 "cells": [
  {
   "cell_type": "markdown",
   "id": "db035d62",
   "metadata": {},
   "source": [
    "# <center> Calculer les nombres de la suite de Fibonacci </center>\n",
    "\n",
    "### Comprendre la suite de Fibonacci :\n",
    "- https://fr.wikipedia.org/wiki/Suite_de_Fibonacci\n",
    "\n",
    "La suite de Fibonacci est une suites de nombres entiers de 0, 1, 1, 2, 3, 5, 8 ….\n",
    "\n",
    "Les deux premiers termes sont 0 et 1. Tous les autres termes sont obtenus en ajoutant les deux termes précédents. Cela signifie que le nième terme est la somme des (n-1)ème et (n-2)ème terme.\n",
    "\n",
    "### Suite :\n",
    "`0, 1, 1, 2, 3, 5, 8, 13, 21, 34, 55, 89, 144 ...`"
   ]
  },
  {
   "cell_type": "markdown",
   "id": "db0c2ed9",
   "metadata": {},
   "source": [
    "## Script 1 :"
   ]
  },
  {
   "cell_type": "code",
   "execution_count": 2,
   "id": "48298833",
   "metadata": {},
   "outputs": [],
   "source": [
    "def suite_F(nombre):\n",
    "    # si valeur inférieure à 0, affiche un message d'erreur\n",
    "    if nombre < 0 :\n",
    "        print(\"Entrez une valeur valide...\")\n",
    "        \n",
    "    # si valeur == 0 : renvoie 0\n",
    "    elif nombre == 0 :\n",
    "        return 0\n",
    "    \n",
    "    # si valeur vaut 1 ou 2 alors renvoie 1\n",
    "    elif nombre == 1 or nombre == 2 :\n",
    "        return 1\n",
    "    \n",
    "    # calculer la suite pour les autres nombres\n",
    "    else :\n",
    "        return suite_F(nombre -1 ) + suite_F(nombre - 2)"
   ]
  },
  {
   "cell_type": "code",
   "execution_count": 16,
   "id": "91b2f937",
   "metadata": {},
   "outputs": [
    {
     "name": "stdout",
     "output_type": "stream",
     "text": [
      "[0, 1, 1, 2, 3, 5, 8, 13, 21, 34]\n"
     ]
    }
   ],
   "source": [
    "# Afficher les 10 premiers nombres de la suite\n",
    "\n",
    "suite_Fibonacci = []\n",
    "\n",
    "for x in range(10):\n",
    "    valeur = suite_F(x)\n",
    "    suite_Fibonacci.append(valeur)\n",
    "    \n",
    "print(suite_Fibonacci)    "
   ]
  },
  {
   "cell_type": "markdown",
   "id": "d97af9c5",
   "metadata": {},
   "source": [
    "## Script 2 :\n",
    "\n",
    "### Avec une boucle `while` : "
   ]
  },
  {
   "cell_type": "code",
   "execution_count": 29,
   "id": "1e8bffa0",
   "metadata": {},
   "outputs": [
    {
     "name": "stdout",
     "output_type": "stream",
     "text": [
      "Entrez l'élément de la suite que vous voulez récupérer (ex = 2 récupère jusqu'au deuxième élément): 10\n",
      "\n",
      " La suite fibonacci est :\n",
      "0 , 1, 1, 2, 3, 5, 8, 13, 21, 34, "
     ]
    }
   ],
   "source": [
    "element = int(input(\"Entrez l'élément de la suite que vous voulez récupérer (ex = 2 récupère jusqu'au deuxième élément): \"))\n",
    " \n",
    "n1 = 0\n",
    "n2 = 1\n",
    " \n",
    "print(\"\\n La suite fibonacci est :\")\n",
    "print(n1, \",\", n2, end=\", \")\n",
    " \n",
    "for i in range(2, element):\n",
    "    suivant = n1 + n2\n",
    "    print(suivant, end=\", \")\n",
    " \n",
    "    n1 = n2\n",
    "    n2 = suivant"
   ]
  },
  {
   "cell_type": "markdown",
   "id": "ed2b0b44",
   "metadata": {},
   "source": [
    "## Script 3 :\n",
    "\n",
    "### En utilisant la récursivité :"
   ]
  },
  {
   "cell_type": "code",
   "execution_count": 30,
   "id": "9215a4a5",
   "metadata": {},
   "outputs": [
    {
     "name": "stdout",
     "output_type": "stream",
     "text": [
      "Entrez le nombre de termes : 15\n",
      "Suite de Fibonacci en utilisant la récursivité :\n",
      "0, 1, 1, 2, 3, 5, 8, 13, 21, 34, 55, 89, 144, 233, 377, "
     ]
    }
   ],
   "source": [
    "# Programme pour générer la suite de Fibonacci en utilisant la récursivité\n",
    "def fibonacci(n):\n",
    "    if(n <= 1):\n",
    "        return n\n",
    "    else:\n",
    "        return (fibonacci(n-1) + fibonacci(n-2))\n",
    "n = int(input(\"Entrez le nombre de termes : \"))\n",
    "print(\"Suite de Fibonacci en utilisant la récursivité :\")\n",
    "for i in range(n):\n",
    "    print(fibonacci(i), end=', ')"
   ]
  },
  {
   "cell_type": "markdown",
   "id": "960fd161",
   "metadata": {},
   "source": [
    "### Autre exemple :"
   ]
  },
  {
   "cell_type": "code",
   "execution_count": 47,
   "id": "be7dad1f",
   "metadata": {},
   "outputs": [
    {
     "name": "stdout",
     "output_type": "stream",
     "text": [
      "34\n"
     ]
    }
   ],
   "source": [
    "def fibo(nombre):\n",
    "    if nombre <= 0 :\n",
    "        print(\"Erreur...\")\n",
    "    # 1er nombre est 0\n",
    "    elif nombre == 1 :\n",
    "        return 0\n",
    "    # 2nd nb est 1\n",
    "    elif nombre == 2 :\n",
    "        return 1\n",
    "    else :\n",
    "        return fibo(nombre - 1) + fibo(nombre - 2)\n",
    "    \n",
    "print(fibo(10))"
   ]
  },
  {
   "cell_type": "markdown",
   "id": "77f5bd7c",
   "metadata": {},
   "source": [
    "## Script 4 :"
   ]
  },
  {
   "cell_type": "code",
   "execution_count": 32,
   "id": "9a28d6c6",
   "metadata": {},
   "outputs": [
    {
     "name": "stdout",
     "output_type": "stream",
     "text": [
      "Entrez le nombre de termes : 5\n",
      "0\n",
      "1\n",
      "1\n",
      "2\n",
      "3\n"
     ]
    }
   ],
   "source": [
    "num = int(input(\"Entrez le nombre de termes : \"))\n",
    "\n",
    "d = 0\n",
    "f = 1\n",
    "\n",
    "def fibonacci(n,d,f):\n",
    "    if n == 1:\n",
    "        print(d)\n",
    "    else:\n",
    "        print(d)\n",
    "        d2 = d\n",
    "        d=d+f\n",
    "        f=d2\n",
    "        return fibonacci(n-1,d,f)\n",
    "\n",
    "\n",
    "fibonacci(num,0,1)"
   ]
  },
  {
   "cell_type": "markdown",
   "id": "9cfaaefd",
   "metadata": {},
   "source": [
    "## Script 5 :"
   ]
  },
  {
   "cell_type": "code",
   "execution_count": 34,
   "id": "1107bb3d",
   "metadata": {},
   "outputs": [
    {
     "name": "stdout",
     "output_type": "stream",
     "text": [
      "Veuillez saisir un nombre entier : 7\n",
      "1, 2, 3, 5, 8, 13, 21, "
     ]
    }
   ],
   "source": [
    "N=int(input(\"Veuillez saisir un nombre entier : \"))\n",
    "a, b, c = 1, 1, 1\n",
    "\n",
    "while c < N+1 :\n",
    "    print(b, end=', ')\n",
    "    a, b, c=b, a+b, c+1"
   ]
  },
  {
   "cell_type": "markdown",
   "id": "53e0553a",
   "metadata": {},
   "source": [
    "## Script 6 : \n",
    "\n",
    "### Avec une liste :"
   ]
  },
  {
   "cell_type": "code",
   "execution_count": 43,
   "id": "2cae6983",
   "metadata": {},
   "outputs": [
    {
     "name": "stdout",
     "output_type": "stream",
     "text": [
      "[0, 1, 1, 2, 3, 5, 8, 13, 21, 34]\n"
     ]
    }
   ],
   "source": [
    "list_num = [0, 1]\n",
    "# nombre d'éléments de la suite :\n",
    "n = 10\n",
    "\n",
    "for i in range(2, n):\n",
    "    list_num.append(list_num[i-1] + list_num[i-2])\n",
    "\n",
    "print(list_num)"
   ]
  },
  {
   "cell_type": "markdown",
   "id": "b7dfcc30",
   "metadata": {},
   "source": [
    "### Idem avec une fonction : "
   ]
  },
  {
   "cell_type": "code",
   "execution_count": 42,
   "id": "abb77131",
   "metadata": {},
   "outputs": [
    {
     "name": "stdout",
     "output_type": "stream",
     "text": [
      "34\n"
     ]
    }
   ],
   "source": [
    "def fibo(n):\n",
    "    if n== 0: return 0\n",
    "    if n == 1: return 1\n",
    "    return fibo(n-1)+ fibo(n-2)\n",
    "\n",
    "print(fibo(9))"
   ]
  },
  {
   "cell_type": "markdown",
   "id": "77af6a23",
   "metadata": {},
   "source": [
    "## Script 7 :\n",
    "\n",
    "### Avec une liste :"
   ]
  },
  {
   "cell_type": "code",
   "execution_count": 44,
   "id": "a2b0eca4",
   "metadata": {},
   "outputs": [
    {
     "name": "stdout",
     "output_type": "stream",
     "text": [
      "[0, 1, 1, 2, 3, 5, 8, 13, 21, 34, 55, 89]\n"
     ]
    }
   ],
   "source": [
    "fibonacci = [0, 1]\n",
    "\n",
    "for x in range(10):\n",
    "    fibonacci.append(fibonacci[len(fibonacci) - 1] + fibonacci[len(fibonacci) - 2])\n",
    "    \n",
    "print(fibonacci)    "
   ]
  },
  {
   "cell_type": "markdown",
   "id": "fe490fa2",
   "metadata": {},
   "source": [
    "## Script 8 :\n",
    "\n",
    "### Avec la programmation dynamique :"
   ]
  },
  {
   "cell_type": "code",
   "execution_count": 50,
   "id": "a465c848",
   "metadata": {},
   "outputs": [
    {
     "name": "stdout",
     "output_type": "stream",
     "text": [
      "34\n"
     ]
    }
   ],
   "source": [
    "liste = [0, 1]\n",
    "\n",
    "def fibo(n):\n",
    "    if n < 0 :\n",
    "        print(\"Erreur. Entrez une valeur valide\")\n",
    "    elif n <= len(liste):\n",
    "        return liste[n-1]\n",
    "    else :\n",
    "        var = fibo(n-1) + fibo(n-2)\n",
    "        liste.append(var)\n",
    "        return var \n",
    "    \n",
    "print(fibo(10))"
   ]
  },
  {
   "cell_type": "markdown",
   "id": "565e79f9",
   "metadata": {},
   "source": [
    "## Script 9 :\n",
    "\n",
    "### Programmation dynamique avec optimisation de l'espace : "
   ]
  },
  {
   "cell_type": "code",
   "execution_count": 51,
   "id": "af692540",
   "metadata": {},
   "outputs": [
    {
     "name": "stdout",
     "output_type": "stream",
     "text": [
      "34\n"
     ]
    }
   ],
   "source": [
    "def fibo(n):\n",
    "    a = 0\n",
    "    b = 1 \n",
    "    if n < 0 :\n",
    "        print(\"Erreur dans la saisie...\")\n",
    "    elif n == 0 :\n",
    "        return a \n",
    "    elif n == 1 :\n",
    "        return b\n",
    "    else :\n",
    "        for i in range(2, n):\n",
    "            c = a + b\n",
    "            a = b\n",
    "            b = c \n",
    "        return b\n",
    "    \n",
    "print(fibo(10))"
   ]
  },
  {
   "cell_type": "markdown",
   "id": "2d1d5498",
   "metadata": {},
   "source": [
    "## Script 10 :\n",
    "\n",
    "### Utilisation de tableaux"
   ]
  },
  {
   "cell_type": "code",
   "execution_count": 57,
   "id": "8c729504",
   "metadata": {},
   "outputs": [
    {
     "name": "stdout",
     "output_type": "stream",
     "text": [
      "34\n"
     ]
    }
   ],
   "source": [
    "def fibo(n):\n",
    "    if n <= 0 :\n",
    "        print(\"Erreur. Saisie incorrecte.\")\n",
    "    liste = [0, 1]\n",
    "    if n > 2 :\n",
    "        for i in range (2, n):\n",
    "            liste.append(liste[i-1] + liste[i-2])\n",
    "        return liste[n-1]\n",
    "        \n",
    "print(fibo(10))"
   ]
  },
  {
   "cell_type": "markdown",
   "id": "5015a880",
   "metadata": {},
   "source": [
    "## Script 11 :\n",
    "\n",
    "### Avec la forumule mathématique :\n",
    " F<sub>n</sub> = F<sub>n-1</sub> + F <sub>n-2</sub> , F <sub>1</sub> = 1, F <sub>2</sub> = 1\n",
    " \n",
    " F <sub>n</sub>"
   ]
  },
  {
   "cell_type": "code",
   "execution_count": 73,
   "id": "f330fbda",
   "metadata": {},
   "outputs": [
    {
     "name": "stdout",
     "output_type": "stream",
     "text": [
      "55 est le 10ème élément de la suite de Fibonacci\n"
     ]
    }
   ],
   "source": [
    "# module racine carrée\n",
    "from math import sqrt\n",
    "\n",
    "def fibo(n):\n",
    "    res = (((1+sqrt(5))**n) - ((1-sqrt(5)))**n) / (2**n*sqrt(5))\n",
    "    print(int(res), 'est le', str(n) + \"ème élément de la suite de Fibonacci\")\n",
    "    \n",
    "fibo(10)\n",
    "# 0 compte comme l'élément 0, 1 comme 1, 1 comme 2ème élément..."
   ]
  }
 ],
 "metadata": {
  "kernelspec": {
   "display_name": "Python 3 (ipykernel)",
   "language": "python",
   "name": "python3"
  },
  "language_info": {
   "codemirror_mode": {
    "name": "ipython",
    "version": 3
   },
   "file_extension": ".py",
   "mimetype": "text/x-python",
   "name": "python",
   "nbconvert_exporter": "python",
   "pygments_lexer": "ipython3",
   "version": "3.8.3"
  }
 },
 "nbformat": 4,
 "nbformat_minor": 5
}
