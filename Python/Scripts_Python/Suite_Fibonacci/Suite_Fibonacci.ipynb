{
 "cells": [
  {
   "cell_type": "markdown",
   "id": "031e2ce2",
   "metadata": {},
   "source": [
    "# <center> Calculer les nombres de la suite de Fibonacci </center>\n",
    "\n",
    "### Comprendre la suite de Fibonacci :\n",
    "- https://fr.wikipedia.org/wiki/Suite_de_Fibonacci\n",
    "\n",
    "La suite de Fibonacci est une suites de nombres entiers de 0, 1, 1, 2, 3, 5, 8 ….\n",
    "\n",
    "Les deux premiers termes sont 0 et 1. Tous les autres termes sont obtenus en ajoutant les deux termes précédents. Cela signifie que le nième terme est la somme des (n-1)ème et (n-2)ème terme.\n",
    "\n",
    "### Suite :\n",
    "`0, 1, 1, 2, 3, 5, 8, 13, 21, 34, 55, 89, 144 ...`"
   ]
  },
  {
   "cell_type": "markdown",
   "id": "28a64b3c",
   "metadata": {},
   "source": [
    "## Script 1 :"
   ]
  },
  {
   "cell_type": "code",
   "execution_count": 2,
   "id": "604c3e9e",
   "metadata": {},
   "outputs": [],
   "source": [
    "def suite_F(nombre):\n",
    "    # si valeur inférieure à 0, affiche un message d'erreur\n",
    "    if nombre < 0 :\n",
    "        print(\"Entrez une valeur valide...\")\n",
    "        \n",
    "    # si valeur == 0 : renvoie 0\n",
    "    elif nombre == 0 :\n",
    "        return 0\n",
    "    \n",
    "    # si valeur vaut 1 ou 2 alors renvoie 1\n",
    "    elif nombre == 1 or nombre == 2 :\n",
    "        return 1\n",
    "    \n",
    "    # calculer la suite pour les autres nombres\n",
    "    else :\n",
    "        return suite_F(nombre -1 ) + suite_F(nombre - 2)"
   ]
  },
  {
   "cell_type": "code",
   "execution_count": 16,
   "id": "73515265",
   "metadata": {},
   "outputs": [
    {
     "name": "stdout",
     "output_type": "stream",
     "text": [
      "[0, 1, 1, 2, 3, 5, 8, 13, 21, 34]\n"
     ]
    }
   ],
   "source": [
    "# Afficher les 10 premiers nombres de la suite\n",
    "\n",
    "suite_Fibonacci = []\n",
    "\n",
    "for x in range(10):\n",
    "    valeur = suite_F(x)\n",
    "    suite_Fibonacci.append(valeur)\n",
    "    \n",
    "print(suite_Fibonacci)    "
   ]
  },
  {
   "cell_type": "markdown",
   "id": "67b76e34",
   "metadata": {},
   "source": [
    "## Script 2 :\n",
    "\n",
    "### Avec une boucle `while` : "
   ]
  },
  {
   "cell_type": "code",
   "execution_count": 29,
   "id": "d4f328a3",
   "metadata": {},
   "outputs": [
    {
     "name": "stdout",
     "output_type": "stream",
     "text": [
      "Entrez l'élément de la suite que vous voulez récupérer (ex = 2 récupère jusqu'au deuxième élément): 10\n",
      "\n",
      " La suite fibonacci est :\n",
      "0 , 1, 1, 2, 3, 5, 8, 13, 21, 34, "
     ]
    }
   ],
   "source": [
    "element = int(input(\"Entrez l'élément de la suite que vous voulez récupérer (ex = 2 récupère jusqu'au deuxième élément): \"))\n",
    " \n",
    "n1 = 0\n",
    "n2 = 1\n",
    " \n",
    "print(\"\\n La suite fibonacci est :\")\n",
    "print(n1, \",\", n2, end=\", \")\n",
    " \n",
    "for i in range(2, element):\n",
    "    suivant = n1 + n2\n",
    "    print(suivant, end=\", \")\n",
    " \n",
    "    n1 = n2\n",
    "    n2 = suivant"
   ]
  },
  {
   "cell_type": "markdown",
   "id": "93e67d69",
   "metadata": {},
   "source": [
    "## Script 3 :\n",
    "\n",
    "### En utilisant la récursivité :"
   ]
  },
  {
   "cell_type": "code",
   "execution_count": 30,
   "id": "416c24c1",
   "metadata": {},
   "outputs": [
    {
     "name": "stdout",
     "output_type": "stream",
     "text": [
      "Entrez le nombre de termes : 15\n",
      "Suite de Fibonacci en utilisant la récursivité :\n",
      "0, 1, 1, 2, 3, 5, 8, 13, 21, 34, 55, 89, 144, 233, 377, "
     ]
    }
   ],
   "source": [
    "# Programme pour générer la suite de Fibonacci en utilisant la récursivité\n",
    "def fibonacci(n):\n",
    "    if(n <= 1):\n",
    "        return n\n",
    "    else:\n",
    "        return (fibonacci(n-1) + fibonacci(n-2))\n",
    "n = int(input(\"Entrez le nombre de termes : \"))\n",
    "print(\"Suite de Fibonacci en utilisant la récursivité :\")\n",
    "for i in range(n):\n",
    "    print(fibonacci(i), end=', ')"
   ]
  },
  {
   "cell_type": "markdown",
   "id": "7577aa1e",
   "metadata": {},
   "source": [
    "### Autre exemple :"
   ]
  },
  {
   "cell_type": "code",
   "execution_count": 47,
   "id": "f249b3e8",
   "metadata": {},
   "outputs": [
    {
     "name": "stdout",
     "output_type": "stream",
     "text": [
      "34\n"
     ]
    }
   ],
   "source": [
    "def fibo(nombre):\n",
    "    if nombre <= 0 :\n",
    "        print(\"Erreur...\")\n",
    "    # 1er nombre est 0\n",
    "    elif nombre == 1 :\n",
    "        return 0\n",
    "    # 2nd nb est 1\n",
    "    elif nombre == 2 :\n",
    "        return 1\n",
    "    else :\n",
    "        return fibo(nombre - 1) + fibo(nombre - 2)\n",
    "    \n",
    "print(fibo(10))"
   ]
  },
  {
   "cell_type": "markdown",
   "id": "8cff5441",
   "metadata": {},
   "source": [
    "## Script 4 :"
   ]
  },
  {
   "cell_type": "code",
   "execution_count": 32,
   "id": "cfdac143",
   "metadata": {},
   "outputs": [
    {
     "name": "stdout",
     "output_type": "stream",
     "text": [
      "Entrez le nombre de termes : 5\n",
      "0\n",
      "1\n",
      "1\n",
      "2\n",
      "3\n"
     ]
    }
   ],
   "source": [
    "num = int(input(\"Entrez le nombre de termes : \"))\n",
    "\n",
    "d = 0\n",
    "f = 1\n",
    "\n",
    "def fibonacci(n,d,f):\n",
    "    if n == 1:\n",
    "        print(d)\n",
    "    else:\n",
    "        print(d)\n",
    "        d2 = d\n",
    "        d=d+f\n",
    "        f=d2\n",
    "        return fibonacci(n-1,d,f)\n",
    "\n",
    "\n",
    "fibonacci(num,0,1)"
   ]
  },
  {
   "cell_type": "markdown",
   "id": "cac0d866",
   "metadata": {},
   "source": [
    "## Script 5 :"
   ]
  },
  {
   "cell_type": "code",
   "execution_count": 34,
   "id": "eb0a905d",
   "metadata": {},
   "outputs": [
    {
     "name": "stdout",
     "output_type": "stream",
     "text": [
      "Veuillez saisir un nombre entier : 7\n",
      "1, 2, 3, 5, 8, 13, 21, "
     ]
    }
   ],
   "source": [
    "N=int(input(\"Veuillez saisir un nombre entier : \"))\n",
    "a, b, c = 1, 1, 1\n",
    "\n",
    "while c < N+1 :\n",
    "    print(b, end=', ')\n",
    "    a, b, c=b, a+b, c+1"
   ]
  },
  {
   "cell_type": "markdown",
   "id": "ae9caf67",
   "metadata": {},
   "source": [
    "## Script 7 : \n",
    "\n",
    "### Avec une liste :"
   ]
  },
  {
   "cell_type": "code",
   "execution_count": 43,
   "id": "e6aa9466",
   "metadata": {},
   "outputs": [
    {
     "name": "stdout",
     "output_type": "stream",
     "text": [
      "[0, 1, 1, 2, 3, 5, 8, 13, 21, 34]\n"
     ]
    }
   ],
   "source": [
    "list_num = [0, 1]\n",
    "# nombre d'éléments de la suite :\n",
    "n = 10\n",
    "\n",
    "for i in range(2, n):\n",
    "    list_num.append(list_num[i-1] + list_num[i-2])\n",
    "\n",
    "print(list_num)"
   ]
  },
  {
   "cell_type": "markdown",
   "id": "c4f442b8",
   "metadata": {},
   "source": [
    "### Idem avec une fonction : "
   ]
  },
  {
   "cell_type": "code",
   "execution_count": 42,
   "id": "4d98a153",
   "metadata": {},
   "outputs": [
    {
     "name": "stdout",
     "output_type": "stream",
     "text": [
      "34\n"
     ]
    }
   ],
   "source": [
    "def fibo(n):\n",
    "    if n== 0: return 0\n",
    "    if n == 1: return 1\n",
    "    return fibo(n-1)+ fibo(n-2)\n",
    "\n",
    "print(fibo(9))"
   ]
  },
  {
   "cell_type": "markdown",
   "id": "c705a700",
   "metadata": {},
   "source": [
    "## Script 8 :\n",
    "\n",
    "### Avec une liste :"
   ]
  },
  {
   "cell_type": "code",
   "execution_count": 44,
   "id": "49a2d490",
   "metadata": {},
   "outputs": [
    {
     "name": "stdout",
     "output_type": "stream",
     "text": [
      "[0, 1, 1, 2, 3, 5, 8, 13, 21, 34, 55, 89]\n"
     ]
    }
   ],
   "source": [
    "fibonacci = [0, 1]\n",
    "\n",
    "for x in range(10):\n",
    "    fibonacci.append(fibonacci[len(fibonacci) - 1] + fibonacci[len(fibonacci) - 2])\n",
    "    \n",
    "print(fibonacci)    "
   ]
  },
  {
   "cell_type": "markdown",
   "id": "972d1142",
   "metadata": {},
   "source": [
    "## Script 9 :\n",
    "\n",
    "### Avec la programmation dynamique :"
   ]
  },
  {
   "cell_type": "code",
   "execution_count": 50,
   "id": "c590eec1",
   "metadata": {},
   "outputs": [
    {
     "name": "stdout",
     "output_type": "stream",
     "text": [
      "34\n"
     ]
    }
   ],
   "source": [
    "liste = [0, 1]\n",
    "\n",
    "def fibo(n):\n",
    "    if n < 0 :\n",
    "        print(\"Erreur. Entrez une valeur valide\")\n",
    "    elif n <= len(liste):\n",
    "        return liste[n-1]\n",
    "    else :\n",
    "        var = fibo(n-1) + fibo(n-2)\n",
    "        liste.append(var)\n",
    "        return var \n",
    "    \n",
    "print(fibo(10))"
   ]
  },
  {
   "cell_type": "markdown",
   "id": "448194f0",
   "metadata": {},
   "source": [
    "## Script 10 :\n",
    "\n",
    "### Programmation dynamique avec optimisation de l'espace : "
   ]
  },
  {
   "cell_type": "code",
   "execution_count": 51,
   "id": "0857b9a5",
   "metadata": {},
   "outputs": [
    {
     "name": "stdout",
     "output_type": "stream",
     "text": [
      "34\n"
     ]
    }
   ],
   "source": [
    "def fibo(n):\n",
    "    a = 0\n",
    "    b = 1 \n",
    "    if n < 0 :\n",
    "        print(\"Erreur dans la saisie...\")\n",
    "    elif n == 0 :\n",
    "        return a \n",
    "    elif n == 1 :\n",
    "        return b\n",
    "    else :\n",
    "        for i in range(2, n):\n",
    "            c = a + b\n",
    "            a = b\n",
    "            b = c \n",
    "        return b\n",
    "    \n",
    "print(fibo(10))"
   ]
  },
  {
   "cell_type": "markdown",
   "id": "e870c53f",
   "metadata": {},
   "source": [
    "## Script 11 :\n",
    "\n",
    "### Utilisation de tableaux"
   ]
  },
  {
   "cell_type": "code",
   "execution_count": null,
   "id": "85b493fa",
   "metadata": {},
   "outputs": [],
   "source": []
  }
 ],
 "metadata": {
  "kernelspec": {
   "display_name": "Python 3 (ipykernel)",
   "language": "python",
   "name": "python3"
  },
  "language_info": {
   "codemirror_mode": {
    "name": "ipython",
    "version": 3
   },
   "file_extension": ".py",
   "mimetype": "text/x-python",
   "name": "python",
   "nbconvert_exporter": "python",
   "pygments_lexer": "ipython3",
   "version": "3.8.3"
  }
 },
 "nbformat": 4,
 "nbformat_minor": 5
}
