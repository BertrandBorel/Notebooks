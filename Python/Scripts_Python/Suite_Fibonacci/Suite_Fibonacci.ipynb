{
 "cells": [
  {
   "cell_type": "markdown",
   "id": "283143e2",
   "metadata": {},
   "source": [
    "# <center> Calculer les nombres de la suite de Fibonacci </center>\n",
    "\n",
    "### Comprendre la suite de Fibonacci :\n",
    "- https://fr.wikipedia.org/wiki/Suite_de_Fibonacci\n",
    "\n",
    "### Suite :\n",
    "`0, 1, 1, 2, 3, 5, 8, 13, 21, 34, 55, 89, 144 ...`"
   ]
  },
  {
   "cell_type": "markdown",
   "id": "8aa0d27e",
   "metadata": {},
   "source": [
    "## Script 1 :"
   ]
  },
  {
   "cell_type": "code",
   "execution_count": 2,
   "id": "03ceadd5",
   "metadata": {},
   "outputs": [],
   "source": [
    "def suite_F(nombre):\n",
    "    # si valeur inférieure à 0, affiche un message d'erreur\n",
    "    if nombre < 0 :\n",
    "        print(\"Entrez une valeur valide...\")\n",
    "        \n",
    "    # si valeur == 0 : renvoie 0\n",
    "    elif nombre == 0 :\n",
    "        return 0\n",
    "    \n",
    "    # si valeur vaut 1 ou 2 alors renvoie 1\n",
    "    elif nombre == 1 or nombre == 2 :\n",
    "        return 1\n",
    "    \n",
    "    # calculer la suite pour les autres nombres\n",
    "    else :\n",
    "        return suite_F(nombre -1 ) + suite_F(nombre - 2)"
   ]
  },
  {
   "cell_type": "code",
   "execution_count": 16,
   "id": "fe42f52f",
   "metadata": {},
   "outputs": [
    {
     "name": "stdout",
     "output_type": "stream",
     "text": [
      "[0, 1, 1, 2, 3, 5, 8, 13, 21, 34]\n"
     ]
    }
   ],
   "source": [
    "# Afficher les 10 premiers nombres de la suite\n",
    "\n",
    "suite_Fibonacci = []\n",
    "\n",
    "for x in range(10):\n",
    "    valeur = suite_F(x)\n",
    "    suite_Fibonacci.append(valeur)\n",
    "    \n",
    "print(suite_Fibonacci)    "
   ]
  }
 ],
 "metadata": {
  "kernelspec": {
   "display_name": "Python 3 (ipykernel)",
   "language": "python",
   "name": "python3"
  },
  "language_info": {
   "codemirror_mode": {
    "name": "ipython",
    "version": 3
   },
   "file_extension": ".py",
   "mimetype": "text/x-python",
   "name": "python",
   "nbconvert_exporter": "python",
   "pygments_lexer": "ipython3",
   "version": "3.8.3"
  }
 },
 "nbformat": 4,
 "nbformat_minor": 5
}
