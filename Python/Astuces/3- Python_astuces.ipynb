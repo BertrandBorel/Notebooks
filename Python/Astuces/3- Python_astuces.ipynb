{
 "cells": [
  {
   "cell_type": "markdown",
   "id": "5ff8d9ce",
   "metadata": {},
   "source": [
    "# <center> Trucs et astuces en Python (3) </center>\n",
    "\n",
    "**Sources :** \n",
    "- revue Coding, n°19, p.109, p.22-23.\n",
    "\n",
    "---\n",
    "\n",
    "## 101- Remplacer une boucle `for` par une boucle `while`"
   ]
  },
  {
   "cell_type": "code",
   "execution_count": 2,
   "id": "cdfe00db",
   "metadata": {},
   "outputs": [
    {
     "name": "stdout",
     "output_type": "stream",
     "text": [
      "Ceci est un test\n",
      "Ceci est un test\n",
      "Ceci est un test\n",
      "Ceci est un test\n",
      "Ceci est un test\n",
      "Ceci est un test\n",
      "Ceci est un test\n",
      "Ceci est un test\n",
      "Ceci est un test\n",
      "Ceci est un test\n",
      "-------------------\n",
      "Ceci est un test\n",
      "Ceci est un test\n",
      "Ceci est un test\n",
      "Ceci est un test\n",
      "Ceci est un test\n",
      "Ceci est un test\n",
      "Ceci est un test\n",
      "Ceci est un test\n",
      "Ceci est un test\n",
      "Ceci est un test\n"
     ]
    }
   ],
   "source": [
    "texte = \"Ceci est un test\"\n",
    "\n",
    "# boucle for\n",
    "for x in range(10):\n",
    "    print(texte)\n",
    "    \n",
    "print(\"-------------------\")    \n",
    "    \n",
    "# boucle while\n",
    "compteur = 0 \n",
    "while compteur < 10 :\n",
    "    compteur += 1\n",
    "    print(texte)"
   ]
  },
  {
   "cell_type": "markdown",
   "id": "4edaf4ac",
   "metadata": {},
   "source": [
    "## 102- Trouver la moyenne des éléments d'une liste à l'aide des fonctions `sum()` et `len()`"
   ]
  },
  {
   "cell_type": "code",
   "execution_count": 5,
   "id": "f947a4b4",
   "metadata": {},
   "outputs": [
    {
     "name": "stdout",
     "output_type": "stream",
     "text": [
      "La somme de la liste est :  222\n",
      "La longeur de la liste est :  6\n",
      "La moyenne de la liste est :  37.0\n"
     ]
    }
   ],
   "source": [
    "liste = [32, 24, 17, 4, 55, 90]\n",
    "\n",
    "somme = sum(liste)\n",
    "longueur = len(liste)\n",
    "moyenne = somme / longueur\n",
    "\n",
    "print(\"La somme de la liste est : \", somme)\n",
    "print(\"La longeur de la liste est : \", longueur)\n",
    "print(\"La moyenne de la liste est : \", moyenne)"
   ]
  },
  {
   "cell_type": "markdown",
   "id": "89d362de",
   "metadata": {},
   "source": [
    "## 103- Trouver la somme des nombres jusqu'à ce que 0 soit saisi"
   ]
  },
  {
   "cell_type": "code",
   "execution_count": 9,
   "id": "daa129ed",
   "metadata": {},
   "outputs": [
    {
     "name": "stdout",
     "output_type": "stream",
     "text": [
      "Entrez un nombre : 2\n",
      "La somme des nombres saisis est de :  2\n",
      "Entrez un nombre : 3\n",
      "La somme des nombres saisis est de :  5\n",
      "Entrez un nombre : 4\n",
      "La somme des nombres saisis est de :  9\n",
      "Entrez un nombre : 0\n",
      "Fin du programme\n"
     ]
    }
   ],
   "source": [
    "somme = 0\n",
    "\n",
    "while True :\n",
    "    nombre = int(input(\"Entrez un nombre : \"))\n",
    "    if nombre == 0 :\n",
    "        print(\"Fin du programme\")\n",
    "        break\n",
    "    somme += nombre\n",
    "    print(\"La somme des nombres saisis est de : \", somme)   "
   ]
  },
  {
   "cell_type": "markdown",
   "id": "10fd16d9",
   "metadata": {},
   "source": [
    "## 104- Calculer la somme d'un tableau"
   ]
  },
  {
   "cell_type": "code",
   "execution_count": 16,
   "id": "ba76360a",
   "metadata": {},
   "outputs": [
    {
     "name": "stdout",
     "output_type": "stream",
     "text": [
      "TOTAL :  34\n"
     ]
    }
   ],
   "source": [
    "# valeurs du tableau\n",
    "tableau = [12, 3, 4, 15]\n",
    "\n",
    "# variable qui stocke le total avant\n",
    "# d'itérer dans les valeurs du tableau\n",
    "total = 0\n",
    "\n",
    "# boucle : tous les éléments du tableau et ajoute leur valeur\n",
    "for i in tableau :\n",
    "    total = total + i\n",
    "\n",
    "# affichage du total\n",
    "print(\"TOTAL : \", total)"
   ]
  },
  {
   "cell_type": "markdown",
   "id": "46380360",
   "metadata": {},
   "source": [
    "### Avec une fonction : "
   ]
  },
  {
   "cell_type": "code",
   "execution_count": 21,
   "id": "4a47bc70",
   "metadata": {
    "collapsed": true
   },
   "outputs": [
    {
     "data": {
      "text/plain": [
       "34"
      ]
     },
     "execution_count": 21,
     "metadata": {},
     "output_type": "execute_result"
    }
   ],
   "source": [
    "def somme(liste):\n",
    "    total = 0\n",
    "    for element in liste :\n",
    "        total += element\n",
    "        \n",
    "    return total\n",
    "\n",
    "somme(tableau)"
   ]
  },
  {
   "cell_type": "markdown",
   "id": "d307df60",
   "metadata": {},
   "source": [
    "## 105- Opération vectorielle avec numpy"
   ]
  },
  {
   "cell_type": "code",
   "execution_count": 6,
   "id": "a031661d",
   "metadata": {},
   "outputs": [
    {
     "data": {
      "text/plain": [
       "array([ 50,  20, 100,  10,  70])"
      ]
     },
     "execution_count": 6,
     "metadata": {},
     "output_type": "execute_result"
    }
   ],
   "source": [
    "# création d'un np.array\n",
    "import numpy as np\n",
    "\n",
    "ma_liste = [50, 20, 100, 10, 70]\n",
    "ma_liste = np.array(ma_liste)\n",
    "ma_liste"
   ]
  },
  {
   "cell_type": "code",
   "execution_count": 8,
   "id": "6cc5e782",
   "metadata": {},
   "outputs": [
    {
     "data": {
      "text/plain": [
       "array([25., 10., 50.,  5., 35.])"
      ]
     },
     "execution_count": 8,
     "metadata": {},
     "output_type": "execute_result"
    }
   ],
   "source": [
    "# diviser la liste par 2\n",
    "\n",
    "nouvelle_liste = ma_liste / 2\n",
    "nouvelle_liste"
   ]
  },
  {
   "cell_type": "markdown",
   "id": "8d7ef057",
   "metadata": {},
   "source": [
    "## 106- Réaliser un diagramme circulaire avec Matplotlib"
   ]
  },
  {
   "cell_type": "code",
   "execution_count": 12,
   "id": "39a7328a",
   "metadata": {
    "scrolled": true
   },
   "outputs": [
    {
     "data": {
      "image/png": "[encoded data removed]",
      "text/plain": [
       "<Figure size 432x288 with 1 Axes>"
      ]
     },
     "metadata": {},
     "output_type": "display_data"
    }
   ],
   "source": [
    "import matplotlib.pyplot as plt\n",
    "import seaborn as sns\n",
    "\n",
    "fig, ax = plt.subplots()\n",
    "ax.axis(\"equal\")\n",
    "ax.pie([51.64, 48.36],\n",
    "        labels = [\"F. Hollande\", \"N. Sarkozy\"],\n",
    "        autopct=\"%1.1f pourcents\")\n",
    "plt.title(\"2nd tour présidentielles 2022\")\n",
    "plt.show()"
   ]
  },
  {
   "cell_type": "markdown",
   "id": "b587b7cb",
   "metadata": {},
   "source": [
    "## 107- Récupérer les trois derniers chiffres d'un nombre\n",
    "\n",
    "### En str"
   ]
  },
  {
   "cell_type": "code",
   "execution_count": 1,
   "id": "831fc972",
   "metadata": {},
   "outputs": [
    {
     "data": {
      "text/plain": [
       "'456'"
      ]
     },
     "execution_count": 1,
     "metadata": {},
     "output_type": "execute_result"
    }
   ],
   "source": [
    "elements = 123456\n",
    "str(elements)[-3:]"
   ]
  },
  {
   "cell_type": "markdown",
   "id": "33bfce94",
   "metadata": {},
   "source": [
    "### En int"
   ]
  },
  {
   "cell_type": "code",
   "execution_count": 2,
   "id": "c4402034",
   "metadata": {},
   "outputs": [
    {
     "data": {
      "text/plain": [
       "456"
      ]
     },
     "execution_count": 2,
     "metadata": {},
     "output_type": "execute_result"
    }
   ],
   "source": [
    "elements = 123456\n",
    "int(str(elements)[-3:])"
   ]
  },
  {
   "cell_type": "markdown",
   "id": "2d94997c",
   "metadata": {},
   "source": [
    "## 108- Supprimer les doublons d'une liste"
   ]
  },
  {
   "cell_type": "code",
   "execution_count": 3,
   "id": "fc6d7160",
   "metadata": {},
   "outputs": [
    {
     "name": "stdout",
     "output_type": "stream",
     "text": [
      "[1, 3, 4, 6]\n"
     ]
    }
   ],
   "source": [
    "liste = [1, 1, 1, 3, 1, 1, 4, 6, 1, 1]\n",
    "\n",
    "# on transforme la liste en dictionnaire pour récupérer les valeurs (jamais de doublon)\n",
    "#   avant de retransformer en liste (les doublons sont supprimés)\n",
    "mylist = list(dict.fromkeys(liste))\n",
    "print(mylist)"
   ]
  },
  {
   "cell_type": "markdown",
   "id": "872df6ee",
   "metadata": {},
   "source": [
    "## 109- Manipulation avec Numpy (reshape)"
   ]
  },
  {
   "cell_type": "code",
   "execution_count": 9,
   "id": "c588589b",
   "metadata": {},
   "outputs": [
    {
     "name": "stdout",
     "output_type": "stream",
     "text": [
      "[1, 2, 3, 4, 5, 6, 7, 8]\n"
     ]
    }
   ],
   "source": [
    "mylist = [x for x in range(1, 9)]\n",
    "\n",
    "print(mylist)"
   ]
  },
  {
   "cell_type": "markdown",
   "id": "2f5ed864",
   "metadata": {},
   "source": [
    "### Transformation en *array* (vecteur)"
   ]
  },
  {
   "cell_type": "code",
   "execution_count": 10,
   "id": "f99732a5",
   "metadata": {},
   "outputs": [
    {
     "name": "stdout",
     "output_type": "stream",
     "text": [
      "[1, 2, 3, 4, 5, 6, 7, 8]\n"
     ]
    }
   ],
   "source": [
    "import numpy as np\n",
    "\n",
    "myList = np.array(mylist)\n",
    "\n",
    "print(mylist)"
   ]
  },
  {
   "cell_type": "markdown",
   "id": "566fdb39",
   "metadata": {},
   "source": [
    "### Transformation en matrices de 2 dimensions"
   ]
  },
  {
   "cell_type": "code",
   "execution_count": 11,
   "id": "537be9f8",
   "metadata": {},
   "outputs": [
    {
     "name": "stdout",
     "output_type": "stream",
     "text": [
      "[[1 2 3 4]\n",
      " [5 6 7 8]]\n"
     ]
    }
   ],
   "source": [
    "print(myList.reshape(2,4))"
   ]
  },
  {
   "cell_type": "markdown",
   "id": "990f85ab",
   "metadata": {},
   "source": [
    "### Transformation en matrices de 3 dimensions"
   ]
  },
  {
   "cell_type": "code",
   "execution_count": 13,
   "id": "c1e8567c",
   "metadata": {
    "scrolled": true
   },
   "outputs": [
    {
     "name": "stdout",
     "output_type": "stream",
     "text": [
      "[[[1 2]\n",
      "  [3 4]]\n",
      "\n",
      " [[5 6]\n",
      "  [7 8]]]\n"
     ]
    }
   ],
   "source": [
    "print(myList.reshape(2,2,2))"
   ]
  }
 ],
 "metadata": {
  "kernelspec": {
   "display_name": "Python 3 (ipykernel)",
   "language": "python",
   "name": "python3"
  },
  "language_info": {
   "codemirror_mode": {
    "name": "ipython",
    "version": 3
   },
   "file_extension": ".py",
   "mimetype": "text/x-python",
   "name": "python",
   "nbconvert_exporter": "python",
   "pygments_lexer": "ipython3",
   "version": "3.8.3"
  }
 },
 "nbformat": 4,
 "nbformat_minor": 5
}
