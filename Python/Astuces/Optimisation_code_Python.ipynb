{
 "cells": [
  {
   "cell_type": "markdown",
   "id": "80152f99",
   "metadata": {},
   "source": [
    "# <center> Optimisation de code avec Python </center>\n",
    "\n",
    "*source :* https://medium.com/techtofreedom/9-fabulous-python-tricks-that-make-your-code-more-elegant-bf01a6294908"
   ]
  },
  {
   "cell_type": "markdown",
   "id": "fdee8b97",
   "metadata": {},
   "source": [
    "## 1- Améliorer les boucles imbriquées\n",
    "\n",
    "### Exemple :"
   ]
  },
  {
   "cell_type": "code",
   "execution_count": 1,
   "id": "8c7cd6e7",
   "metadata": {},
   "outputs": [
    {
     "name": "stdout",
     "output_type": "stream",
     "text": [
      "70 2000 7\n"
     ]
    }
   ],
   "source": [
    "list_a = [1, 2020, 70]\n",
    "list_b = [2, 4, 7, 2000]\n",
    "list_c = [3, 70, 7]\n",
    "\n",
    "for a in list_a:\n",
    "    for b in list_b:\n",
    "        for c in list_c:\n",
    "            if a + b + c == 2077:\n",
    "                print(a, b, c)"
   ]
  },
  {
   "cell_type": "markdown",
   "id": "db45cb30",
   "metadata": {},
   "source": [
    "### Avec `product()` Function :"
   ]
  },
  {
   "cell_type": "code",
   "execution_count": 2,
   "id": "bcbcf0dc",
   "metadata": {},
   "outputs": [
    {
     "name": "stdout",
     "output_type": "stream",
     "text": [
      "70 2000 7\n"
     ]
    }
   ],
   "source": [
    "from itertools import product\n",
    "\n",
    "list_a = [1, 2020, 70]\n",
    "list_b = [2, 4, 7, 2000]\n",
    "list_c = [3, 70, 7]\n",
    "\n",
    "for a, b, c in product(list_a, list_b, list_c):\n",
    "    if a + b + c == 2077:\n",
    "        print(a, b, c)"
   ]
  },
  {
   "cell_type": "markdown",
   "id": "128b9914",
   "metadata": {},
   "source": [
    "## 2- Walrus Operator"
   ]
  },
  {
   "cell_type": "code",
   "execution_count": 3,
   "id": "5997788e",
   "metadata": {},
   "outputs": [
    {
     "name": "stdout",
     "output_type": "stream",
     "text": [
      "Ceci est un test\n"
     ]
    }
   ],
   "source": [
    "print(test:=\"Ceci est un test\")"
   ]
  },
  {
   "cell_type": "markdown",
   "id": "af0f4396",
   "metadata": {},
   "source": [
    "## 3- Écrire une structure simple *If-Else* sur une seule ligne\n",
    "\n",
    "### Exemple :"
   ]
  },
  {
   "cell_type": "code",
   "execution_count": 4,
   "id": "fe52fcfd",
   "metadata": {},
   "outputs": [],
   "source": [
    "if a < b :\n",
    "    min = a\n",
    "else:\n",
    "    min = b"
   ]
  },
  {
   "cell_type": "markdown",
   "id": "b9abd655",
   "metadata": {},
   "source": [
    "### Peut s'écrire :"
   ]
  },
  {
   "cell_type": "code",
   "execution_count": 5,
   "id": "13fe55ca",
   "metadata": {},
   "outputs": [],
   "source": [
    "min = a if a < b else b"
   ]
  },
  {
   "cell_type": "markdown",
   "id": "74fdab05",
   "metadata": {},
   "source": [
    "## 4- Lambda function\n",
    "\n",
    "### Exemple :"
   ]
  },
  {
   "cell_type": "code",
   "execution_count": 6,
   "id": "786556dd",
   "metadata": {},
   "outputs": [],
   "source": [
    "# fonction suite de Fibonacci\n",
    "def fib(x):\n",
    "    if x<=1:\n",
    "        return x\n",
    "    else:\n",
    "        return fib(x-1) + fib(x-2)"
   ]
  },
  {
   "cell_type": "markdown",
   "id": "0e40597a",
   "metadata": {},
   "source": [
    "### Avec une fonction lambda :"
   ]
  },
  {
   "cell_type": "code",
   "execution_count": 7,
   "id": "c0c2033c",
   "metadata": {},
   "outputs": [],
   "source": [
    "fib = lambda x: x if x <= 1 else fib(x - 1) + fib(x - 2)"
   ]
  },
  {
   "cell_type": "markdown",
   "id": "3817419a",
   "metadata": {},
   "source": [
    "## 5- Les compréhensions de liste"
   ]
  },
  {
   "cell_type": "code",
   "execution_count": 10,
   "id": "cfaf1de8",
   "metadata": {},
   "outputs": [
    {
     "name": "stdout",
     "output_type": "stream",
     "text": [
      "['Not A', 'Not A', 'Angleterre', 'Allemagne']\n"
     ]
    }
   ],
   "source": [
    "pays = [\"Belgique\", \"France\", \"Angleterre\", \"Allemagne\"]\n",
    "# ajouter les pays commençant par A, les autres sont remplacés par 'Not A'\n",
    "pays_A = [country if country.startswith('A') else 'Not A' for country in pays]\n",
    "\n",
    "print(pays_A)"
   ]
  },
  {
   "cell_type": "code",
   "execution_count": 18,
   "id": "71825ce5",
   "metadata": {},
   "outputs": [
    {
     "name": "stdout",
     "output_type": "stream",
     "text": [
      "['Angleterre', 'Allemagne']\n"
     ]
    }
   ],
   "source": [
    "# Ajouter à une nouvelle liste les pays commençant par la lettre A\n",
    "test = [country for country in pays if country.startswith('A')]\n",
    "print(test)"
   ]
  },
  {
   "cell_type": "markdown",
   "id": "c2bd124c",
   "metadata": {},
   "source": [
    "## 6- La fonction `map()`"
   ]
  },
  {
   "cell_type": "code",
   "execution_count": 19,
   "id": "360f5456",
   "metadata": {},
   "outputs": [
    {
     "name": "stdout",
     "output_type": "stream",
     "text": [
      "['Yang', 'Mask', 'Thomas', 'Lisa']\n"
     ]
    }
   ],
   "source": [
    "names = ['yAnG', 'MASk', 'thoMas', 'LISA']\n",
    "names = map(str.capitalize, names)\n",
    "print(list(names))"
   ]
  },
  {
   "cell_type": "markdown",
   "id": "dec1e587",
   "metadata": {},
   "source": [
    "## 7- La fonction `reduce()`"
   ]
  },
  {
   "cell_type": "code",
   "execution_count": 20,
   "id": "7650c4af",
   "metadata": {},
   "outputs": [
    {
     "name": "stdout",
     "output_type": "stream",
     "text": [
      "London2020\n"
     ]
    }
   ],
   "source": [
    "from functools import reduce\n",
    "\n",
    "city = ['L', 'o', 'n', 'd', 'o', 'n', 2, 0, 2, 0]\n",
    "city_to_str = reduce(lambda x, y: str(x) + str(y), city)\n",
    "print(city_to_str)"
   ]
  },
  {
   "cell_type": "markdown",
   "id": "92c88705",
   "metadata": {},
   "source": [
    "## 8- Union Operators : \n",
    "\n",
    "Fonctionne avec Python 3.9"
   ]
  },
  {
   "cell_type": "code",
   "execution_count": null,
   "id": "ea6e3403",
   "metadata": {},
   "outputs": [],
   "source": [
    "# pour fusionner (merge) deux dictionnaires :\n",
    "cities_us = {'New York City': 'US', 'Los Angeles': 'US'}\n",
    "cities_uk = {'London': 'UK', 'Birmingham': 'UK'}\n",
    "\n",
    "# union operator\n",
    "cities = cities_us|cities_uk\n",
    "print(cities)"
   ]
  },
  {
   "cell_type": "code",
   "execution_count": null,
   "id": "d932c0ff",
   "metadata": {},
   "outputs": [],
   "source": [
    "cities_us = {'New York City': 'US', 'Los Angeles': 'US'}\n",
    "cities_uk = {'London': 'UK', 'Birmingham': 'UK'}\n",
    "\n",
    "cities_us |= cities_uk\n",
    "print(cities_us)"
   ]
  },
  {
   "cell_type": "markdown",
   "id": "28257b4e",
   "metadata": {},
   "source": [
    "### Fusioner 2 dictionnaires (sans la version 3.9)"
   ]
  },
  {
   "cell_type": "code",
   "execution_count": 24,
   "id": "74a68da2",
   "metadata": {},
   "outputs": [
    {
     "data": {
      "text/plain": [
       "{'New York City': 'US',\n",
       " 'Los Angeles': 'US',\n",
       " 'London': 'UK',\n",
       " 'Birmingham': 'UK'}"
      ]
     },
     "execution_count": 24,
     "metadata": {},
     "output_type": "execute_result"
    }
   ],
   "source": [
    "{**cities_us, **cities_uk}"
   ]
  },
  {
   "cell_type": "markdown",
   "id": "bd868e44",
   "metadata": {},
   "source": [
    "## 9- F-Strings:"
   ]
  },
  {
   "cell_type": "code",
   "execution_count": 28,
   "id": "021bfc7a",
   "metadata": {},
   "outputs": [
    {
     "name": "stdout",
     "output_type": "stream",
     "text": [
      "Pi is approximately equal to 3.14\n"
     ]
    }
   ],
   "source": [
    "pi = 3.1415926\n",
    "print(f'Pi is approximately equal to {pi:.2f}')"
   ]
  },
  {
   "cell_type": "code",
   "execution_count": 29,
   "id": "e5c3c989",
   "metadata": {},
   "outputs": [
    {
     "name": "stdout",
     "output_type": "stream",
     "text": [
      "The id is 001\n"
     ]
    }
   ],
   "source": [
    "id = 1  # need to print a 3-digit number\n",
    "print(f\"The id is {id:03d}\")"
   ]
  },
  {
   "cell_type": "code",
   "execution_count": 31,
   "id": "ae2cd8bd",
   "metadata": {},
   "outputs": [
    {
     "name": "stdout",
     "output_type": "stream",
     "text": [
      "His networth is $1,000,000,000\n"
     ]
    }
   ],
   "source": [
    "# ajouter une virgule (séparateur)\n",
    "N = 1000000000 \n",
    "print(f'His networth is ${N:,d}')"
   ]
  },
  {
   "cell_type": "code",
   "execution_count": 32,
   "id": "280253df",
   "metadata": {},
   "outputs": [
    {
     "name": "stdout",
     "output_type": "stream",
     "text": [
      "Today is 2022-12-01 10:27:40.891781\n"
     ]
    }
   ],
   "source": [
    "# afficher la date et l'heure\n",
    "from datetime import datetime\n",
    "\n",
    "print(f\"Today is {datetime.today()}\")"
   ]
  },
  {
   "cell_type": "markdown",
   "id": "4c7505e6",
   "metadata": {},
   "source": [
    "## 10- Fusionner une liste, un set et un tupple en 1 seule liste :"
   ]
  },
  {
   "cell_type": "code",
   "execution_count": 33,
   "id": "9badbd0b",
   "metadata": {},
   "outputs": [
    {
     "name": "stdout",
     "output_type": "stream",
     "text": [
      "[1, 2, 3, 4, 5, 6, 8, 9, 7]\n"
     ]
    }
   ],
   "source": [
    "A = [1, 2, 3]\n",
    "B = (4, 5, 6)\n",
    "C = {7, 8, 9}\n",
    "\n",
    "L = [*A, *B, *C]\n",
    "print(L)"
   ]
  },
  {
   "cell_type": "code",
   "execution_count": 34,
   "id": "7eb97070",
   "metadata": {},
   "outputs": [
    {
     "name": "stdout",
     "output_type": "stream",
     "text": [
      "1 [2, 3, 4, 5] 6\n"
     ]
    }
   ],
   "source": [
    "# autre exemple : déstructurer les affectations\n",
    "a, *mid, b = [1, 2, 3, 4, 5, 6]\n",
    "print(a, mid, b)"
   ]
  }
 ],
 "metadata": {
  "kernelspec": {
   "display_name": "Python 3 (ipykernel)",
   "language": "python",
   "name": "python3"
  },
  "language_info": {
   "codemirror_mode": {
    "name": "ipython",
    "version": 3
   },
   "file_extension": ".py",
   "mimetype": "text/x-python",
   "name": "python",
   "nbconvert_exporter": "python",
   "pygments_lexer": "ipython3",
   "version": "3.8.3"
  }
 },
 "nbformat": 4,
 "nbformat_minor": 5
}
