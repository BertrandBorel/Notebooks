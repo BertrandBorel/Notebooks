{
 "cells": [
  {
   "cell_type": "markdown",
   "id": "3f0676a2",
   "metadata": {},
   "source": [
    "# <center> Gestion des fichiers csv </center>"
   ]
  },
  {
   "cell_type": "code",
   "execution_count": 1,
   "id": "d9317b90",
   "metadata": {},
   "outputs": [],
   "source": [
    "import pandas as pd"
   ]
  },
  {
   "cell_type": "markdown",
   "id": "cd952d56",
   "metadata": {},
   "source": [
    "## Création d'un fichier csv"
   ]
  },
  {
   "cell_type": "markdown",
   "id": "47c242c4",
   "metadata": {},
   "source": [
    "### Avec un dataframe"
   ]
  },
  {
   "cell_type": "code",
   "execution_count": null,
   "id": "8356098d",
   "metadata": {},
   "outputs": [],
   "source": [
    "# Exemple avec une seule colonne : les infos sont stockées dans une liste\n",
    "\n",
    "df = pd.DataFrame(liste_isbn, columns = ['ISBN'])\n",
    "    \n",
    "df.to_csv('test.csv',sep=',', index='False')\n",
    "\n",
    "df = pd.read_csv('test.csv', index_col=0)"
   ]
  },
  {
   "cell_type": "markdown",
   "id": "d0631843",
   "metadata": {},
   "source": [
    "#### Masquer colonne \"Unnamed:0"
   ]
  },
  {
   "cell_type": "code",
   "execution_count": null,
   "id": "b0c0dcab",
   "metadata": {},
   "outputs": [],
   "source": [
    "df = pd.read_csv('isbn_dataframe.csv', index_col=0)"
   ]
  },
  {
   "cell_type": "markdown",
   "id": "1327b00a",
   "metadata": {},
   "source": [
    "## Ajouter une colonne"
   ]
  },
  {
   "cell_type": "code",
   "execution_count": null,
   "id": "96c6264c",
   "metadata": {},
   "outputs": [],
   "source": [
    "# à partir d'une liste\n",
    "df['nouveau_nom'] = liste"
   ]
  },
  {
   "cell_type": "markdown",
   "id": "dcf9c492",
   "metadata": {},
   "source": [
    "## Renommer les colonnes d'un df :\n",
    "\n",
    "`df.columns = [\"Auteur\", \"Titre\", \"Edition\", \"Date\", \"ISBN\"]`\n",
    "\n",
    "`df.to_csv(\"test.csv\", index=False)`\n",
    "\n",
    "## Supprimer des colonnes dans un csv/df :\n",
    "\n",
    "Supprimer une seule colonne :\n",
    "`df.drop('colonne', inplace=True, axis=1)`\n",
    "\n",
    "Supprimer plusieurs colonnes :\n",
    "`df.drop(['colonne1', 'colonne2'], inplace=True, axis=1)`\n",
    "\n",
    "## Changer l'ordre des colonnes d'un df :\n",
    "\n",
    "`df = df[['Auteur','Titre','Edition','Date','ISBN']]`\n",
    "\n",
    "`df.to_csv(\"test.csv\", index=False)`"
   ]
  },
  {
   "cell_type": "markdown",
   "id": "91026f84",
   "metadata": {},
   "source": [
    "---"
   ]
  },
  {
   "cell_type": "markdown",
   "id": "d51461d1",
   "metadata": {},
   "source": [
    "## Supprimer les doublons d'un csv"
   ]
  },
  {
   "cell_type": "code",
   "execution_count": 4,
   "id": "e2e48393",
   "metadata": {},
   "outputs": [
    {
     "data": {
      "text/html": [
       "<div>\n",
       "<style scoped>\n",
       "    .dataframe tbody tr th:only-of-type {\n",
       "        vertical-align: middle;\n",
       "    }\n",
       "\n",
       "    .dataframe tbody tr th {\n",
       "        vertical-align: top;\n",
       "    }\n",
       "\n",
       "    .dataframe thead th {\n",
       "        text-align: right;\n",
       "    }\n",
       "</style>\n",
       "<table border=\"1\" class=\"dataframe\">\n",
       "  <thead>\n",
       "    <tr style=\"text-align: right;\">\n",
       "      <th></th>\n",
       "      <th>Auteur(s)</th>\n",
       "      <th>Titre</th>\n",
       "      <th>Edition</th>\n",
       "      <th>Date</th>\n",
       "      <th>ISBN</th>\n",
       "    </tr>\n",
       "  </thead>\n",
       "  <tbody>\n",
       "    <tr>\n",
       "      <th>0</th>\n",
       "      <td>Robert Goffin</td>\n",
       "      <td>Analyse microéconomique</td>\n",
       "      <td>Dalloz-Sirey</td>\n",
       "      <td>1993</td>\n",
       "      <td>9782247013838</td>\n",
       "    </tr>\n",
       "    <tr>\n",
       "      <th>1</th>\n",
       "      <td>NaN</td>\n",
       "      <td>Livres hebdo</td>\n",
       "      <td>NaN</td>\n",
       "      <td>1993</td>\n",
       "      <td>9782130447450</td>\n",
       "    </tr>\n",
       "    <tr>\n",
       "      <th>2</th>\n",
       "      <td>OECD</td>\n",
       "      <td>Global Forum On Transparency And Exchange Of I...</td>\n",
       "      <td>OECD Publishing</td>\n",
       "      <td>2015</td>\n",
       "      <td>9789264237650</td>\n",
       "    </tr>\n",
       "    <tr>\n",
       "      <th>3</th>\n",
       "      <td>Jean-Louis Laville</td>\n",
       "      <td>Les services de proximité en Europe - pour une...</td>\n",
       "      <td>Syros</td>\n",
       "      <td>1992</td>\n",
       "      <td>9782867387463</td>\n",
       "    </tr>\n",
       "    <tr>\n",
       "      <th>4</th>\n",
       "      <td>Marie-Luise Herschtel</td>\n",
       "      <td>L'économie de la Communauté européenne</td>\n",
       "      <td>Armand Colin</td>\n",
       "      <td>1993</td>\n",
       "      <td>9782200212773</td>\n",
       "    </tr>\n",
       "  </tbody>\n",
       "</table>\n",
       "</div>"
      ],
      "text/plain": [
       "               Auteur(s)                                              Titre  \\\n",
       "0          Robert Goffin                            Analyse microéconomique   \n",
       "1                    NaN                                       Livres hebdo   \n",
       "2                   OECD  Global Forum On Transparency And Exchange Of I...   \n",
       "3     Jean-Louis Laville  Les services de proximité en Europe - pour une...   \n",
       "4  Marie-Luise Herschtel             L'économie de la Communauté européenne   \n",
       "\n",
       "           Edition  Date           ISBN  \n",
       "0     Dalloz-Sirey  1993  9782247013838  \n",
       "1              NaN  1993  9782130447450  \n",
       "2  OECD Publishing  2015  9789264237650  \n",
       "3            Syros  1992  9782867387463  \n",
       "4     Armand Colin  1993  9782200212773  "
      ]
     },
     "execution_count": 4,
     "metadata": {},
     "output_type": "execute_result"
    }
   ],
   "source": [
    "df = pd.read_csv('data_ISBN.csv')\n",
    "df.head(5)"
   ]
  },
  {
   "cell_type": "code",
   "execution_count": null,
   "id": "7fc2ecc5",
   "metadata": {},
   "outputs": [],
   "source": [
    "# Suppression\n",
    "df.drop_duplicates(subset=None, inplace=True)\n",
    "\n",
    "# Sauvegarde\n",
    "df.to_csv(\"isbn_df_tri.csv\", index=False)"
   ]
  },
  {
   "cell_type": "markdown",
   "id": "968806b4",
   "metadata": {},
   "source": [
    "## Fusion de 2 dataframes = concaténation"
   ]
  },
  {
   "cell_type": "code",
   "execution_count": 61,
   "id": "cfe7d405",
   "metadata": {},
   "outputs": [
    {
     "name": "stdout",
     "output_type": "stream",
     "text": [
      "<class 'pandas.core.frame.DataFrame'>\n",
      "RangeIndex: 177 entries, 0 to 176\n",
      "Data columns (total 5 columns):\n",
      " #   Column     Non-Null Count  Dtype \n",
      "---  ------     --------------  ----- \n",
      " 0   Auteur(s)  169 non-null    object\n",
      " 1   Titre      177 non-null    object\n",
      " 2   Edition    110 non-null    object\n",
      " 3   Date       177 non-null    int64 \n",
      " 4   ISBN       177 non-null    int64 \n",
      "dtypes: int64(2), object(3)\n",
      "memory usage: 7.0+ KB\n"
     ]
    }
   ],
   "source": [
    "# importing pandas\n",
    "import pandas as pd\n",
    "  \n",
    "# merging two csv files\n",
    "df = pd.concat(\n",
    "    map(pd.read_csv, ['data1.csv', 'data2.csv']), ignore_index=True)\n",
    "\n",
    "# Sauvegarde\n",
    "df.to_csv(\"propre.csv\", index=False)\n",
    "\n",
    "df.info()"
   ]
  },
  {
   "cell_type": "code",
   "execution_count": 52,
   "id": "aba042ef",
   "metadata": {},
   "outputs": [],
   "source": [
    "# Suppression\n",
    "df.drop_duplicates(subset=None, inplace=True)\n",
    "\n",
    "# Sauvegarde\n",
    "df.to_csv(\"test_data_propre.csv\", index=False)"
   ]
  },
  {
   "cell_type": "markdown",
   "id": "a186a083",
   "metadata": {},
   "source": [
    "---"
   ]
  },
  {
   "cell_type": "markdown",
   "id": "da4c606a",
   "metadata": {},
   "source": [
    "## Suppression d'une ligne en fonction de l'index \n",
    "\n",
    "`df.drop([7], axis=0, inplace=True)`\n",
    "\n",
    "Nécessite une sauvegarde :\n",
    "`df.to_csv(\"test_source.csv\", index=False)`"
   ]
  },
  {
   "cell_type": "markdown",
   "id": "ebcb9bd9",
   "metadata": {},
   "source": [
    "## Suppression de plusieurs lignes en fonctions de l'index"
   ]
  },
  {
   "cell_type": "code",
   "execution_count": null,
   "id": "f0f8475c",
   "metadata": {},
   "outputs": [],
   "source": [
    "df.drop([7, 8, 10, 34], axis=0, inplace=True)"
   ]
  },
  {
   "cell_type": "markdown",
   "id": "27eb361c",
   "metadata": {},
   "source": [
    "Nécessite une sauvegarde : `df.to_csv(\"test_source.csv\", index=False)`"
   ]
  },
  {
   "cell_type": "markdown",
   "id": "bb86c9ad",
   "metadata": {},
   "source": [
    "---"
   ]
  },
  {
   "cell_type": "markdown",
   "id": "00f18f61",
   "metadata": {},
   "source": [
    "## Remplacer une valeur par une autre"
   ]
  },
  {
   "cell_type": "code",
   "execution_count": null,
   "id": "55960925",
   "metadata": {},
   "outputs": [],
   "source": [
    "# replace\n",
    "df['Auteur(s)'] = df['Auteur(s)'].str.replace(\"De \", \"\", regex=False)\n",
    "\n",
    "# Sauvegarde du csv \n",
    "df.to_csv(\"nom.csv\", index=False)"
   ]
  },
  {
   "cell_type": "markdown",
   "id": "329e2aad",
   "metadata": {},
   "source": [
    "## Remplacer des valeurs par une autre"
   ]
  },
  {
   "cell_type": "code",
   "execution_count": null,
   "id": "cccea54a",
   "metadata": {},
   "outputs": [],
   "source": [
    "df['Auteur(s)'] = df['Auteur(s)'].replace(to_replace =[\"[none]\", \"[None]\", \"nones\",], \n",
    "                            value =\"None\")\n",
    "\n",
    "# Sauvegarde du csv \n",
    "df.to_csv(\"nom.csv\", index=False)"
   ]
  },
  {
   "cell_type": "markdown",
   "id": "bb159b70",
   "metadata": {},
   "source": [
    "---"
   ]
  },
  {
   "cell_type": "markdown",
   "id": "c6ab3048",
   "metadata": {},
   "source": [
    "## Détecter des valeurs nulles "
   ]
  },
  {
   "cell_type": "code",
   "execution_count": 1,
   "id": "e6703947",
   "metadata": {},
   "outputs": [
    {
     "data": {
      "text/html": [
       "<div>\n",
       "<style scoped>\n",
       "    .dataframe tbody tr th:only-of-type {\n",
       "        vertical-align: middle;\n",
       "    }\n",
       "\n",
       "    .dataframe tbody tr th {\n",
       "        vertical-align: top;\n",
       "    }\n",
       "\n",
       "    .dataframe thead th {\n",
       "        text-align: right;\n",
       "    }\n",
       "</style>\n",
       "<table border=\"1\" class=\"dataframe\">\n",
       "  <thead>\n",
       "    <tr style=\"text-align: right;\">\n",
       "      <th></th>\n",
       "      <th>Auteur(s)</th>\n",
       "      <th>Titre</th>\n",
       "      <th>Edition</th>\n",
       "      <th>Date</th>\n",
       "      <th>ISBN</th>\n",
       "    </tr>\n",
       "  </thead>\n",
       "  <tbody>\n",
       "    <tr>\n",
       "      <th>0</th>\n",
       "      <td>Pierre Vidal-Naquet</td>\n",
       "      <td>Le choix de l'histoire - pourquoi et comment j...</td>\n",
       "      <td>Arléa</td>\n",
       "      <td>2007</td>\n",
       "      <td>9782869597624</td>\n",
       "    </tr>\n",
       "    <tr>\n",
       "      <th>1</th>\n",
       "      <td>Ian Kershaw</td>\n",
       "      <td>Choix fatidiques - dix décisions qui ont chang...</td>\n",
       "      <td>Seuil</td>\n",
       "      <td>2012</td>\n",
       "      <td>9782757829707</td>\n",
       "    </tr>\n",
       "    <tr>\n",
       "      <th>2</th>\n",
       "      <td>Jean-Claude Barreau</td>\n",
       "      <td>Sans la nation, le chaos</td>\n",
       "      <td>Editions du Toucan</td>\n",
       "      <td>2012</td>\n",
       "      <td>9782810004676</td>\n",
       "    </tr>\n",
       "    <tr>\n",
       "      <th>3</th>\n",
       "      <td>François Bousquet</td>\n",
       "      <td>La Droite buissonnière</td>\n",
       "      <td>Rocher</td>\n",
       "      <td>2017</td>\n",
       "      <td>9782268089898</td>\n",
       "    </tr>\n",
       "    <tr>\n",
       "      <th>4</th>\n",
       "      <td>Pascal Picq</td>\n",
       "      <td>Il était une fois la paléoanthropologie - Quel...</td>\n",
       "      <td>Odile Jacob</td>\n",
       "      <td>2010</td>\n",
       "      <td>9782738124944</td>\n",
       "    </tr>\n",
       "    <tr>\n",
       "      <th>...</th>\n",
       "      <td>...</td>\n",
       "      <td>...</td>\n",
       "      <td>...</td>\n",
       "      <td>...</td>\n",
       "      <td>...</td>\n",
       "    </tr>\n",
       "    <tr>\n",
       "      <th>267</th>\n",
       "      <td>Henri Irénée Marrou</td>\n",
       "      <td>L'Eglise de l'Antiquité tardive (303-604)</td>\n",
       "      <td>Seuil</td>\n",
       "      <td>1985</td>\n",
       "      <td>9782020087476</td>\n",
       "    </tr>\n",
       "    <tr>\n",
       "      <th>268</th>\n",
       "      <td>Henri Irénée Marrou</td>\n",
       "      <td>Décadence romaine ou Antiquité tardive ? (IIIe...</td>\n",
       "      <td>Seuil</td>\n",
       "      <td>1977</td>\n",
       "      <td>9782020047135</td>\n",
       "    </tr>\n",
       "    <tr>\n",
       "      <th>269</th>\n",
       "      <td>Aurélien Géron</td>\n",
       "      <td>Machine Learning avec Scikit-Learn - Mise en o...</td>\n",
       "      <td>Dunod</td>\n",
       "      <td>2019</td>\n",
       "      <td>9782100790654</td>\n",
       "    </tr>\n",
       "    <tr>\n",
       "      <th>270</th>\n",
       "      <td>Matt Harrison</td>\n",
       "      <td>Machine learning: les fondamentaux</td>\n",
       "      <td>First</td>\n",
       "      <td>2020</td>\n",
       "      <td>9782412056028</td>\n",
       "    </tr>\n",
       "    <tr>\n",
       "      <th>271</th>\n",
       "      <td>Tarek Ziadé</td>\n",
       "      <td>Programmation Python - conception et optimisation</td>\n",
       "      <td>Eyrolles</td>\n",
       "      <td>2009</td>\n",
       "      <td>9782212124835</td>\n",
       "    </tr>\n",
       "  </tbody>\n",
       "</table>\n",
       "<p>272 rows × 5 columns</p>\n",
       "</div>"
      ],
      "text/plain": [
       "               Auteur(s)                                              Titre  \\\n",
       "0    Pierre Vidal-Naquet  Le choix de l'histoire - pourquoi et comment j...   \n",
       "1            Ian Kershaw  Choix fatidiques - dix décisions qui ont chang...   \n",
       "2    Jean-Claude Barreau                           Sans la nation, le chaos   \n",
       "3      François Bousquet                             La Droite buissonnière   \n",
       "4            Pascal Picq  Il était une fois la paléoanthropologie - Quel...   \n",
       "..                   ...                                                ...   \n",
       "267  Henri Irénée Marrou          L'Eglise de l'Antiquité tardive (303-604)   \n",
       "268  Henri Irénée Marrou  Décadence romaine ou Antiquité tardive ? (IIIe...   \n",
       "269       Aurélien Géron  Machine Learning avec Scikit-Learn - Mise en o...   \n",
       "270        Matt Harrison                 Machine learning: les fondamentaux   \n",
       "271          Tarek Ziadé  Programmation Python - conception et optimisation   \n",
       "\n",
       "                Edition  Date           ISBN  \n",
       "0                 Arléa  2007  9782869597624  \n",
       "1                 Seuil  2012  9782757829707  \n",
       "2    Editions du Toucan  2012  9782810004676  \n",
       "3                Rocher  2017  9782268089898  \n",
       "4           Odile Jacob  2010  9782738124944  \n",
       "..                  ...   ...            ...  \n",
       "267               Seuil  1985  9782020087476  \n",
       "268               Seuil  1977  9782020047135  \n",
       "269               Dunod  2019  9782100790654  \n",
       "270               First  2020  9782412056028  \n",
       "271            Eyrolles  2009  9782212124835  \n",
       "\n",
       "[272 rows x 5 columns]"
      ]
     },
     "execution_count": 1,
     "metadata": {},
     "output_type": "execute_result"
    }
   ],
   "source": [
    "import pandas as pd \n",
    "\n",
    "df=pd.read_csv(\"bdd_26.csv\")\n",
    "df"
   ]
  },
  {
   "cell_type": "code",
   "execution_count": 3,
   "id": "c7691349",
   "metadata": {},
   "outputs": [],
   "source": [
    "nan_auteur = pd.isnull(df['Auteur(s)'])"
   ]
  },
  {
   "cell_type": "code",
   "execution_count": 6,
   "id": "f239fedf",
   "metadata": {},
   "outputs": [
    {
     "name": "stdout",
     "output_type": "stream",
     "text": [
      "Series([], Name: Auteur(s), dtype: bool)\n"
     ]
    }
   ],
   "source": [
    "print(nan_auteur[nan_auteur==True])"
   ]
  },
  {
   "cell_type": "markdown",
   "id": "84459b94",
   "metadata": {},
   "source": [
    "---"
   ]
  },
  {
   "cell_type": "markdown",
   "id": "e1cb7c92",
   "metadata": {},
   "source": [
    "## Changer la valeur d'une cellule"
   ]
  },
  {
   "cell_type": "markdown",
   "id": "7eba8b02",
   "metadata": {},
   "source": [
    "`df.loc[index, 'colonne']= nouvelle_valeur`"
   ]
  },
  {
   "cell_type": "markdown",
   "id": "48e36ef4",
   "metadata": {},
   "source": [
    "## Changer le type d'une colonne "
   ]
  },
  {
   "cell_type": "markdown",
   "id": "c5540a83",
   "metadata": {},
   "source": [
    "`df.Date = df.Date.astype(int)`"
   ]
  },
  {
   "cell_type": "markdown",
   "id": "e573a878",
   "metadata": {},
   "source": [
    "## Changer le type de plusieurs colonnes"
   ]
  },
  {
   "cell_type": "markdown",
   "id": "aa10e3b6",
   "metadata": {},
   "source": [
    "`df = pd.read_csv(\"weather.tsv\", sep=\"\\t\",  \n",
    "                 dtype={'Day': str,'Wind':int64})\n",
    "df.dtypes`"
   ]
  },
  {
   "cell_type": "markdown",
   "id": "62ae7f62",
   "metadata": {},
   "source": [
    "## Changer l'index d'un df\n",
    "\n",
    "`df = df.set_index('nouvel_index')`\n",
    "\n",
    "Ou :\n",
    "\n",
    "`df = pd.read_csv('name.csv', index_col=0,)`\n",
    "\n",
    "qui met la première colonne en index."
   ]
  },
  {
   "cell_type": "markdown",
   "id": "141c4147",
   "metadata": {},
   "source": [
    "## Conversion d'une colonne en datetime\n",
    "\n",
    "`df['colonne'] = pd.to_datetime(df['colonne'])`"
   ]
  },
  {
   "cell_type": "markdown",
   "id": "2958bb43",
   "metadata": {},
   "source": [
    "## Récupérer des valeurs précises\n",
    "\n",
    "`df.loc[df['colonne'] == value]`\n",
    "\n",
    "`df.loc[df['colonne'].isin([value1, value2, value3, ...])]`"
   ]
  },
  {
   "cell_type": "markdown",
   "id": "c6bd2fa8",
   "metadata": {},
   "source": [
    "## Ouvrir un csv en timeseries\n",
    "\n",
    "`df = pd.read_csv('nom.csv', index_col='Date', parse_dates=True)`"
   ]
  }
 ],
 "metadata": {
  "kernelspec": {
   "display_name": "Python 3 (ipykernel)",
   "language": "python",
   "name": "python3"
  },
  "language_info": {
   "codemirror_mode": {
    "name": "ipython",
    "version": 3
   },
   "file_extension": ".py",
   "mimetype": "text/x-python",
   "name": "python",
   "nbconvert_exporter": "python",
   "pygments_lexer": "ipython3",
   "version": "3.8.3"
  }
 },
 "nbformat": 4,
 "nbformat_minor": 5
}
