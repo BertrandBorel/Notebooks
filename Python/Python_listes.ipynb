{
 "cells": [
  {
   "cell_type": "markdown",
   "id": "bf083ed4",
   "metadata": {},
   "source": [
    "# <center> Les listes en Python </center>"
   ]
  },
  {
   "cell_type": "markdown",
   "id": "49737da7",
   "metadata": {},
   "source": [
    "## 1- Création d'une liste"
   ]
  },
  {
   "cell_type": "markdown",
   "id": "a88afc9e",
   "metadata": {},
   "source": [
    "`nom_de_liste = [élément1, élément2, élément3]`"
   ]
  },
  {
   "cell_type": "code",
   "execution_count": 9,
   "id": "35021ec2",
   "metadata": {},
   "outputs": [
    {
     "name": "stdout",
     "output_type": "stream",
     "text": [
      "['chien', 'chat', 'poisson', 'tortue']\n"
     ]
    }
   ],
   "source": [
    "animaux = [\"chien\", \"chat\", \"poisson\", \"tortue\"]\n",
    "print(animaux)"
   ]
  },
  {
   "cell_type": "markdown",
   "id": "bbbb03ad",
   "metadata": {},
   "source": [
    "### Créer une liste de nombre (de 1 à 10)"
   ]
  },
  {
   "cell_type": "code",
   "execution_count": 64,
   "id": "0cf8cafd",
   "metadata": {},
   "outputs": [
    {
     "name": "stdout",
     "output_type": "stream",
     "text": [
      "{1, 2, 3, 4, 5, 6, 7, 8, 9, 10}\n"
     ]
    }
   ],
   "source": [
    "liste = set(range(1, 11))\n",
    "print(liste)"
   ]
  },
  {
   "cell_type": "code",
   "execution_count": 63,
   "id": "b960a3d1",
   "metadata": {},
   "outputs": [
    {
     "name": "stdout",
     "output_type": "stream",
     "text": [
      "[1, 2, 3, 4, 5, 6, 7, 8, 9, 10]\n"
     ]
    }
   ],
   "source": [
    "# Autre exemple \n",
    "liste = list(range(1, 11))\n",
    "print(liste)"
   ]
  },
  {
   "cell_type": "markdown",
   "id": "6f3e5c45",
   "metadata": {},
   "source": [
    "## 2- Accéder aux éléments d'une liste"
   ]
  },
  {
   "cell_type": "code",
   "execution_count": 10,
   "id": "4d7a8840",
   "metadata": {},
   "outputs": [
    {
     "name": "stdout",
     "output_type": "stream",
     "text": [
      "chien\n",
      "tortue\n",
      "poisson\n"
     ]
    }
   ],
   "source": [
    "animaux = [\"chien\", \"chat\", \"poisson\", \"tortue\"]\n",
    "\n",
    "# afficher le premier élément\n",
    "print(animaux[0])\n",
    "\n",
    "# afficher le dernier élément\n",
    "print(animaux[-1])\n",
    "\n",
    "# afficher l'avant dernier élément\n",
    "print(animaux[-2])"
   ]
  },
  {
   "cell_type": "markdown",
   "id": "16cdb211",
   "metadata": {},
   "source": [
    "## 3- Modifier des éléments dans une liste"
   ]
  },
  {
   "cell_type": "code",
   "execution_count": 11,
   "id": "e9f73749",
   "metadata": {},
   "outputs": [
    {
     "name": "stdout",
     "output_type": "stream",
     "text": [
      "['chien', 'chat', 'poisson', 'tortue']\n"
     ]
    }
   ],
   "source": [
    "# affichons notre liste\n",
    "print(animaux)"
   ]
  },
  {
   "cell_type": "code",
   "execution_count": 12,
   "id": "4a2b4af6",
   "metadata": {},
   "outputs": [
    {
     "name": "stdout",
     "output_type": "stream",
     "text": [
      "['chien', 'chat', 'cheval', 'tortue']\n"
     ]
    }
   ],
   "source": [
    "# on veut modifier l'élément 'poisson' en cheval\n",
    "animaux[2] = \"cheval\"\n",
    "\n",
    "# affichons notre nouvelle liste\n",
    "print(animaux)"
   ]
  },
  {
   "cell_type": "markdown",
   "id": "1478eb7a",
   "metadata": {},
   "source": [
    "## 4- Ajouter des éléments à une liste"
   ]
  },
  {
   "cell_type": "markdown",
   "id": "3d94456b",
   "metadata": {},
   "source": [
    "**Méthode** `.append()` : ajoute un élément à la fin de la liste"
   ]
  },
  {
   "cell_type": "code",
   "execution_count": null,
   "id": "48a0a959",
   "metadata": {},
   "outputs": [],
   "source": [
    "# Ajoutons 'requin' à notre liste\n",
    "animaux.append('requin')\n",
    "\n",
    "# Affichons notre liste\n",
    "print(animaux)"
   ]
  },
  {
   "cell_type": "markdown",
   "id": "c7308269",
   "metadata": {},
   "source": [
    "**Méthode** `.insert()` : pour ajouter un nouvel élément à n'importe quelle position d'une liste, en spécifiant la position et la valeur du nouvel élément. "
   ]
  },
  {
   "cell_type": "code",
   "execution_count": 14,
   "id": "73dc21eb",
   "metadata": {},
   "outputs": [
    {
     "name": "stdout",
     "output_type": "stream",
     "text": [
      "['chien', 'oiseau', 'chat', 'cheval', 'tortue', 'requin']\n"
     ]
    }
   ],
   "source": [
    "# Ajoutons 'oiseau' à notre liste, en deuxième position\n",
    "animaux.insert(1, \"oiseau\")\n",
    "print(animaux)"
   ]
  },
  {
   "cell_type": "markdown",
   "id": "fcce9880",
   "metadata": {},
   "source": [
    "## 5- Supprimer des éléments d'une liste"
   ]
  },
  {
   "cell_type": "markdown",
   "id": "b1d56fb1",
   "metadata": {},
   "source": [
    "**Instruction** `del`"
   ]
  },
  {
   "cell_type": "code",
   "execution_count": 18,
   "id": "61fd06b5",
   "metadata": {},
   "outputs": [
    {
     "name": "stdout",
     "output_type": "stream",
     "text": [
      "['chien', 'oiseau', 'chat', 'cheval', 'tortue']\n"
     ]
    }
   ],
   "source": [
    "# Supprimons le dernier élément(l'élément 'requin')\n",
    "del animaux[-1]\n",
    "print(animaux)"
   ]
  },
  {
   "cell_type": "markdown",
   "id": "b48649c8",
   "metadata": {},
   "source": [
    "**Méthode** `.remove()` : lorsqu'une valeur apparaît plusieurs fois dans une liste, supprime uniquement la première occurence de la valeur."
   ]
  },
  {
   "cell_type": "code",
   "execution_count": 19,
   "id": "a7418a90",
   "metadata": {},
   "outputs": [
    {
     "name": "stdout",
     "output_type": "stream",
     "text": [
      "['chien', 'oiseau', 'cheval', 'tortue']\n"
     ]
    }
   ],
   "source": [
    "# Supprimons l'élément 'chat'\n",
    "animaux.remove(\"chat\")\n",
    "print(animaux)"
   ]
  },
  {
   "cell_type": "markdown",
   "id": "b546f725",
   "metadata": {},
   "source": [
    "## 6- Trier une liste"
   ]
  },
  {
   "cell_type": "markdown",
   "id": "5943181a",
   "metadata": {},
   "source": [
    "**Méthode** `.sort()`"
   ]
  },
  {
   "cell_type": "code",
   "execution_count": 20,
   "id": "e2157738",
   "metadata": {},
   "outputs": [
    {
     "name": "stdout",
     "output_type": "stream",
     "text": [
      "['cheval', 'chien', 'oiseau', 'tortue']\n"
     ]
    }
   ],
   "source": [
    "# Tri de la liste par ordre alphabétique\n",
    "animaux.sort()\n",
    "print(animaux)"
   ]
  },
  {
   "cell_type": "code",
   "execution_count": 21,
   "id": "f33888d3",
   "metadata": {},
   "outputs": [
    {
     "name": "stdout",
     "output_type": "stream",
     "text": [
      "[0, 2, 10, 56, 789, 67777]\n"
     ]
    }
   ],
   "source": [
    "# Tri d'une liste par ordre croissant\n",
    "liste = [56, 2, 789, 67777, 0, 10]\n",
    "liste.sort()\n",
    "print(liste)"
   ]
  },
  {
   "cell_type": "markdown",
   "id": "b73c00d3",
   "metadata": {},
   "source": [
    "**Méthode** `.reverse()` : inverse l'ordre d'une liste. Ne trie pas la liste en ordre alphabétique inversé : inverse simplement l'ordre des éléments contenus dans la liste."
   ]
  },
  {
   "cell_type": "code",
   "execution_count": 22,
   "id": "5a95abe1",
   "metadata": {},
   "outputs": [
    {
     "name": "stdout",
     "output_type": "stream",
     "text": [
      "['tortue', 'oiseau', 'chien', 'cheval']\n"
     ]
    }
   ],
   "source": [
    "animaux.reverse()\n",
    "print(animaux)"
   ]
  },
  {
   "cell_type": "code",
   "execution_count": 23,
   "id": "7f0c08d6",
   "metadata": {},
   "outputs": [
    {
     "name": "stdout",
     "output_type": "stream",
     "text": [
      "[67777, 789, 56, 10, 2, 0]\n"
     ]
    }
   ],
   "source": [
    "liste.reverse()\n",
    "print(liste)"
   ]
  },
  {
   "cell_type": "markdown",
   "id": "fe0d3ec2",
   "metadata": {},
   "source": [
    "## 7- Fractionner une liste"
   ]
  },
  {
   "cell_type": "code",
   "execution_count": 66,
   "id": "e942b4a2",
   "metadata": {},
   "outputs": [
    {
     "name": "stdout",
     "output_type": "stream",
     "text": [
      "['chien', 'oiseau', 'chat', 'cheval', 'tortue', 'requin']\n"
     ]
    }
   ],
   "source": [
    "# affichage de la liste\n",
    "animaux = ['chien', 'oiseau', 'chat', 'cheval', 'tortue', 'requin']\n",
    "print(animaux)"
   ]
  },
  {
   "cell_type": "code",
   "execution_count": 67,
   "id": "723acb18",
   "metadata": {},
   "outputs": [
    {
     "data": {
      "text/plain": [
       "['chien', 'oiseau']"
      ]
     },
     "execution_count": 67,
     "metadata": {},
     "output_type": "execute_result"
    }
   ],
   "source": [
    "animaux[0:2]"
   ]
  },
  {
   "cell_type": "code",
   "execution_count": 68,
   "id": "3c48355c",
   "metadata": {},
   "outputs": [
    {
     "data": {
      "text/plain": [
       "['chat', 'cheval']"
      ]
     },
     "execution_count": 68,
     "metadata": {},
     "output_type": "execute_result"
    }
   ],
   "source": [
    "animaux[2:4]"
   ]
  },
  {
   "cell_type": "code",
   "execution_count": 69,
   "id": "f59daafa",
   "metadata": {},
   "outputs": [
    {
     "data": {
      "text/plain": [
       "['chien', 'oiseau', 'chat']"
      ]
     },
     "execution_count": 69,
     "metadata": {},
     "output_type": "execute_result"
    }
   ],
   "source": [
    "animaux[:3]"
   ]
  },
  {
   "cell_type": "code",
   "execution_count": 70,
   "id": "72f4ddc8",
   "metadata": {},
   "outputs": [
    {
     "data": {
      "text/plain": [
       "['chat', 'cheval', 'tortue', 'requin']"
      ]
     },
     "execution_count": 70,
     "metadata": {},
     "output_type": "execute_result"
    }
   ],
   "source": [
    "animaux[2:]"
   ]
  },
  {
   "cell_type": "markdown",
   "id": "cee1a3f5",
   "metadata": {},
   "source": [
    "## 8- Parcourir une liste"
   ]
  },
  {
   "cell_type": "markdown",
   "id": "f2a75302",
   "metadata": {},
   "source": [
    "**boucle** `for`"
   ]
  },
  {
   "cell_type": "code",
   "execution_count": 31,
   "id": "358ead14",
   "metadata": {},
   "outputs": [
    {
     "name": "stdout",
     "output_type": "stream",
     "text": [
      "voiture\n",
      "moto\n",
      "bateau\n",
      "car\n",
      "avion\n",
      "fusée\n"
     ]
    }
   ],
   "source": [
    "véhicules = [\"voiture\", \"moto\", \"bateau\", \"car\", \"avion\", \"fusée\"]\n",
    "\n",
    "for véhicule in véhicules :\n",
    "    print(véhicule)"
   ]
  },
  {
   "cell_type": "markdown",
   "id": "037b0433",
   "metadata": {},
   "source": [
    "### Compter les éléments d'une liste"
   ]
  },
  {
   "cell_type": "code",
   "execution_count": 33,
   "id": "9fe686f2",
   "metadata": {},
   "outputs": [
    {
     "data": {
      "text/plain": [
       "6"
      ]
     },
     "execution_count": 33,
     "metadata": {},
     "output_type": "execute_result"
    }
   ],
   "source": [
    "# Avec len = longueur de la liste \n",
    "\n",
    "animaux = ['chien', 'oiseau', 'chat', 'cheval', 'tortue', 'requin']\n",
    "len(animaux)"
   ]
  },
  {
   "cell_type": "code",
   "execution_count": 32,
   "id": "d85f28df",
   "metadata": {},
   "outputs": [
    {
     "name": "stdout",
     "output_type": "stream",
     "text": [
      "6\n"
     ]
    }
   ],
   "source": [
    "# Avec une boucle for\n",
    "\n",
    "animaux = ['chien', 'oiseau', 'chat', 'cheval', 'tortue', 'requin']\n",
    "somme = 0\n",
    "\n",
    "for animal in animaux :\n",
    "    somme += 1 # à chaque élément parcouru, on augmente de 1\n",
    "    \n",
    "print(somme)    "
   ]
  },
  {
   "cell_type": "markdown",
   "id": "f2a0699a",
   "metadata": {},
   "source": [
    "## 9- Choisir aléatoirement un élément d'une liste"
   ]
  },
  {
   "cell_type": "code",
   "execution_count": 4,
   "id": "49287da9",
   "metadata": {},
   "outputs": [
    {
     "name": "stdout",
     "output_type": "stream",
     "text": [
      "chien\n"
     ]
    }
   ],
   "source": [
    "import random \n",
    "\n",
    "liste = ['chien', 'oiseau', 'chat', 'cheval', 'tortue', 'requin']\n",
    "print(random.choice(liste))"
   ]
  },
  {
   "cell_type": "markdown",
   "id": "09b71d01",
   "metadata": {},
   "source": [
    "**Il est possible de procéder autrement et de manière plus sécurisée, avec** `secrets` **:**"
   ]
  },
  {
   "cell_type": "code",
   "execution_count": 20,
   "id": "a4e9f4ac",
   "metadata": {},
   "outputs": [
    {
     "name": "stdout",
     "output_type": "stream",
     "text": [
      "cheval\n"
     ]
    }
   ],
   "source": [
    "import secrets \n",
    "\n",
    "print(secrets.choice(liste))"
   ]
  },
  {
   "cell_type": "markdown",
   "id": "c25573e6",
   "metadata": {},
   "source": [
    "### Choisir plusieurs éléments d'une liste de manière aléatoire"
   ]
  },
  {
   "cell_type": "markdown",
   "id": "c9f9dfac",
   "metadata": {},
   "source": [
    "**Utiliser** `random.sample()`"
   ]
  },
  {
   "cell_type": "code",
   "execution_count": 12,
   "id": "8c0a13a3",
   "metadata": {},
   "outputs": [
    {
     "name": "stdout",
     "output_type": "stream",
     "text": [
      "['tortue', 'chat']\n"
     ]
    }
   ],
   "source": [
    "liste = ['chien', 'oiseau', 'chat', 'cheval', 'tortue', 'requin']\n",
    "nombre = 2\n",
    "print(random.sample(liste, nombre))"
   ]
  },
  {
   "cell_type": "markdown",
   "id": "3b160456",
   "metadata": {},
   "source": [
    "### Choisir un élément aléatoire via l'index"
   ]
  },
  {
   "cell_type": "markdown",
   "id": "a2b11490",
   "metadata": {},
   "source": [
    "**Utiliser** `randrange()`"
   ]
  },
  {
   "cell_type": "code",
   "execution_count": 18,
   "id": "03f539da",
   "metadata": {},
   "outputs": [
    {
     "name": "stdout",
     "output_type": "stream",
     "text": [
      "tortue\n"
     ]
    }
   ],
   "source": [
    "from random import randrange\n",
    "\n",
    "random_index = randrange(len(liste))\n",
    "print(liste[random_index])"
   ]
  },
  {
   "cell_type": "markdown",
   "id": "b436b7fc",
   "metadata": {},
   "source": [
    "**Avec** `secrets` **:** récupère l'indice d'un élément."
   ]
  },
  {
   "cell_type": "code",
   "execution_count": 23,
   "id": "563c335a",
   "metadata": {},
   "outputs": [
    {
     "name": "stdout",
     "output_type": "stream",
     "text": [
      "3\n"
     ]
    }
   ],
   "source": [
    "print(secrets.randbelow(len(liste)))"
   ]
  },
  {
   "cell_type": "markdown",
   "id": "995be38f",
   "metadata": {},
   "source": [
    "## 10- Créer une liste avec des valeurs aléatoires"
   ]
  },
  {
   "cell_type": "code",
   "execution_count": 56,
   "id": "44d6109d",
   "metadata": {},
   "outputs": [
    {
     "name": "stdout",
     "output_type": "stream",
     "text": [
      "Liste aléatoire : [8, 9, 7, 5, 7, 1, 3, 1, 5, 9]\n"
     ]
    }
   ],
   "source": [
    "import random\n",
    "\n",
    "liste_aleatoire = random.choices(range(10), k=10)   # k=number_of_samples\n",
    "print(\"Liste aléatoire :\", liste_aleatoire)"
   ]
  },
  {
   "cell_type": "code",
   "execution_count": null,
   "id": "3047f423",
   "metadata": {},
   "outputs": [
    {
     "ename": "",
     "evalue": "",
     "output_type": "error",
     "traceback": [
      "\u001b[1;31mFailed to start the Kernel. \n",
      "Canceled. \n",
      "View Jupyter <a href='command:jupyter.viewOutput'>log</a> for further details."
     ]
    }
   ],
   "source": [
    "# mélanger une liste aléatoirement\n",
    "import numpy as np\n",
    "\n",
    "liste = np.random.permutation(10)\n",
    "print(liste)"
   ]
  },
  {
   "cell_type": "code",
   "execution_count": 95,
   "id": "0ed5af01",
   "metadata": {},
   "outputs": [
    {
     "name": "stdout",
     "output_type": "stream",
     "text": [
      "[10, 66, 39, 91, 82, 40, 41]\n"
     ]
    }
   ],
   "source": [
    "import random \n",
    "\n",
    "liste2 = random.sample(range(100), k=7)\n",
    "print(liste2)"
   ]
  },
  {
   "cell_type": "markdown",
   "id": "244c9e0a",
   "metadata": {},
   "source": [
    "## 11- Supprimer aléatoirement des éléments dans une liste "
   ]
  },
  {
   "cell_type": "code",
   "execution_count": 99,
   "id": "3254b19c",
   "metadata": {},
   "outputs": [
    {
     "name": "stdout",
     "output_type": "stream",
     "text": [
      "[1, 2, 3, 4, 5, 6, 7, 8, 10]\n",
      "[1, 2, 3, 4, 5, 6, 8, 10]\n",
      "[1, 2, 4, 5, 6, 8, 10]\n",
      "[1, 2, 4, 5, 8, 10]\n",
      "[1, 4, 5, 8, 10]\n",
      "[1, 4, 5, 8]\n",
      "[1, 4, 5]\n",
      "[1, 4]\n",
      "[4]\n",
      "[]\n"
     ]
    }
   ],
   "source": [
    "import random\n",
    "\n",
    "liste = list(range(1, 11))\n",
    "\n",
    "while len(liste)>0:\n",
    "    liste.remove(random.choice(list(liste)))\n",
    "    print(liste)"
   ]
  },
  {
   "cell_type": "code",
   "execution_count": 101,
   "id": "748fd7e4",
   "metadata": {},
   "outputs": [
    {
     "name": "stdout",
     "output_type": "stream",
     "text": [
      "[1, 2, 3, 4, 5, 6, 7, 8, 10] Elément supprimé : 9\n",
      "[1, 2, 3, 4, 5, 6, 7, 10] Elément supprimé : 8\n",
      "[1, 2, 4, 5, 6, 7, 10] Elément supprimé : 3\n",
      "[1, 2, 4, 5, 6, 10] Elément supprimé : 7\n",
      "[2, 4, 5, 6, 10] Elément supprimé : 1\n",
      "[2, 5, 6, 10] Elément supprimé : 4\n",
      "[2, 6, 10] Elément supprimé : 5\n",
      "[2, 6] Elément supprimé : 10\n",
      "[6] Elément supprimé : 2\n",
      "[] Elément supprimé : 6\n"
     ]
    }
   ],
   "source": [
    "import random\n",
    "\n",
    "liste = list(range(1, 11))\n",
    "\n",
    "while len(liste)>0:\n",
    "    supp = random.choice(list(liste))\n",
    "    liste.remove(supp)\n",
    "    print(liste, \"Elément supprimé :\", supp)"
   ]
  },
  {
   "cell_type": "markdown",
   "id": "2e985913",
   "metadata": {},
   "source": [
    "---"
   ]
  },
  {
   "cell_type": "markdown",
   "id": "5d75c6f0",
   "metadata": {},
   "source": [
    "## Opérations sur les listes"
   ]
  },
  {
   "cell_type": "markdown",
   "id": "70f849d0",
   "metadata": {},
   "source": [
    "### Concaténation"
   ]
  },
  {
   "cell_type": "code",
   "execution_count": 81,
   "id": "5db492c4",
   "metadata": {},
   "outputs": [
    {
     "name": "stdout",
     "output_type": "stream",
     "text": [
      "['chien', 'oiseau', 'chat', 'cheval', 1, 2, 3, 4, 5]\n"
     ]
    }
   ],
   "source": [
    "animaux = ['chien', 'oiseau', 'chat', 'cheval']\n",
    "\n",
    "chiffres = [1, 2, 3, 4, 5]\n",
    "\n",
    "nouvelle_liste = animaux + chiffres\n",
    "print(nouvelle_liste)"
   ]
  },
  {
   "cell_type": "code",
   "execution_count": 83,
   "id": "ab0378d2",
   "metadata": {},
   "outputs": [
    {
     "name": "stdout",
     "output_type": "stream",
     "text": [
      "['chien', 'oiseau', 'chat', 'cheval', 1, 2, 3, 4, 5]\n",
      "['chien', 'oiseau', 'chat', 'cheval', 1, 2, 3, 4, 5, 1, 2, 3, 4, 5]\n"
     ]
    }
   ],
   "source": [
    "print(animaux)\n",
    "\n",
    "animaux += chiffres\n",
    "\n",
    "print(animaux)"
   ]
  },
  {
   "cell_type": "markdown",
   "id": "b160ca34",
   "metadata": {},
   "source": [
    "**Avec `itertools` :**"
   ]
  },
  {
   "cell_type": "code",
   "execution_count": 89,
   "id": "f020ff9c",
   "metadata": {},
   "outputs": [
    {
     "name": "stdout",
     "output_type": "stream",
     "text": [
      "[1, 2, 3, 4, 5, 6]\n"
     ]
    }
   ],
   "source": [
    "import itertools\n",
    "\n",
    "liste1 = [1, 2, 3]\n",
    "liste2 = [4, 5, 6]\n",
    "\n",
    "resultat = list(itertools.chain(liste1, liste2))\n",
    "print(resultat)"
   ]
  },
  {
   "cell_type": "markdown",
   "id": "68d36ef7",
   "metadata": {},
   "source": [
    "**Méthode `extend()` :**"
   ]
  },
  {
   "cell_type": "code",
   "execution_count": 90,
   "id": "fc48ddf6",
   "metadata": {},
   "outputs": [
    {
     "name": "stdout",
     "output_type": "stream",
     "text": [
      "[1, 2, 3, 4, 5, 6, 7, 8]\n"
     ]
    }
   ],
   "source": [
    "liste1 = [1, 2, 3, 4]\n",
    "liste2 = [5, 6, 7, 8]\n",
    "liste1.extend(liste2)\n",
    "\n",
    "print(liste1)"
   ]
  },
  {
   "cell_type": "markdown",
   "id": "d0c27959",
   "metadata": {},
   "source": [
    "### Insérer une liste dans une liste"
   ]
  },
  {
   "cell_type": "code",
   "execution_count": 91,
   "id": "21b874e2",
   "metadata": {},
   "outputs": [
    {
     "name": "stdout",
     "output_type": "stream",
     "text": [
      "['chien', 'oiseau', 'chat', 'cheval', [1, 2, 3, 4, 5]]\n"
     ]
    }
   ],
   "source": [
    "animaux = ['chien', 'oiseau', 'chat', 'cheval']\n",
    "chiffres = [1, 2, 3, 4, 5]\n",
    "\n",
    "animaux.append(chiffres)\n",
    "print(animaux)"
   ]
  },
  {
   "cell_type": "code",
   "execution_count": null,
   "id": "e6752018",
   "metadata": {},
   "outputs": [],
   "source": []
  }
 ],
 "metadata": {
  "kernelspec": {
   "display_name": "Python 3",
   "language": "python",
   "name": "python3"
  },
  "language_info": {
   "codemirror_mode": {
    "name": "ipython",
    "version": 3
   },
   "file_extension": ".py",
   "mimetype": "text/x-python",
   "name": "python",
   "nbconvert_exporter": "python",
   "pygments_lexer": "ipython3",
   "version": "3.8.3"
  }
 },
 "nbformat": 4,
 "nbformat_minor": 5
}
