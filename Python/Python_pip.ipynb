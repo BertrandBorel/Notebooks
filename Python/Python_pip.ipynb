{
 "cells": [
  {
   "cell_type": "markdown",
   "id": "b7f32010",
   "metadata": {},
   "source": [
    "# <center> Python : Pip </center>\n",
    "\n",
    "**Source :**\n",
    "\n",
    "- https://docs.python.org/fr/3/installing/index.html#installing-index"
   ]
  },
  {
   "cell_type": "markdown",
   "id": "ecf957cb",
   "metadata": {},
   "source": [
    "## Installer un package\n",
    "\n",
    "`pip install nom_package`"
   ]
  },
  {
   "cell_type": "markdown",
   "id": "93144fb6",
   "metadata": {},
   "source": [
    "## Installer une version particulière d'un package\n",
    "\n",
    "`pip install nom_package==2.6.0`"
   ]
  },
  {
   "cell_type": "markdown",
   "id": "e52498d0",
   "metadata": {},
   "source": [
    "## Mise à jour d'un package\n",
    "\n",
    "`pip install upgrade nom_package`"
   ]
  },
  {
   "cell_type": "markdown",
   "id": "f9c0b0ff",
   "metadata": {},
   "source": [
    "## Désinstallation d'un package\n",
    "\n",
    "`pip uninstall nom_package`"
   ]
  },
  {
   "cell_type": "markdown",
   "id": "16c8eba5",
   "metadata": {},
   "source": [
    "## Afficher des informations sur un package précis\n",
    "\n",
    "`pip show nom_package`"
   ]
  },
  {
   "cell_type": "markdown",
   "id": "204f4ea8",
   "metadata": {},
   "source": [
    "## Lister les packages \n",
    "\n",
    "`pip list`\n",
    "\n",
    "## Lister les packages qui ne sont pas à jour\n",
    "\n",
    "`pip list --outdated`"
   ]
  },
  {
   "cell_type": "markdown",
   "id": "826891cd",
   "metadata": {},
   "source": [
    "---"
   ]
  },
  {
   "cell_type": "markdown",
   "id": "b5509d2e",
   "metadata": {},
   "source": [
    "## Création d'un fichier `requirements.txt`\n",
    "\n",
    "`pip freeze` produit une liste similaire des paquets installés mais l'affichage adopte un format que `pip install` peut lire. La convention habituelle est de mettre cette liste dans un fichier `requirements.txt` :\n",
    "\n",
    "`pip freeze > requirements.txt`\n",
    "\n",
    "`cat requirements.txt`\n",
    "\n",
    "**Note :**\n",
    "La commande `cat` est une commande shell trouvée dans les systèmes d’exploitation basés sur UNIX tels que macOS et Linux. cat est une forme courte pour `concatenate`.\n",
    "Cette commande est utilisée pour **afficher le contenu des fichiers, concaténer le contenu de plusieurs fichiers dans un seul fichier, créer des fichiers uniques et multiples**.\n",
    "\n",
    "**Plus de détail sur `cat`:** https://www.delftstack.com/fr/howto/python/python-cat/"
   ]
  },
  {
   "cell_type": "markdown",
   "id": "d40fc636",
   "metadata": {},
   "source": [
    "## Installation d'un fichier `requirements.txt`\n",
    "\n",
    "Le fichier `requirements.txt` peut alors être ajouté dans un système de gestion de versions comme faisant partie de votre application. Les utilisateurs peuvent alors installer tous les paquets nécessaires à l'application avec `install -r` :\n",
    "\n",
    "`pip install -r requirements.txt`"
   ]
  },
  {
   "cell_type": "markdown",
   "id": "02d6b2c1",
   "metadata": {},
   "source": [
    "---"
   ]
  },
  {
   "cell_type": "markdown",
   "id": "1e06671f",
   "metadata": {},
   "source": [
    "## Cache\n",
    "\n",
    "### Trouver le dossier du cache\n",
    "`pip cache dir`\n",
    "\n",
    "### Informations sur le cache\n",
    "`pip cache info`\n",
    "\n",
    "### Lister des éléments particuliers\n",
    "` pip cache list <pattern>`\n",
    "\n",
    "### Supprimer des éléments particuliers\n",
    "`pip cache remove <pattern>`\n",
    "\n",
    "### Installer un package sans utiliser le cache\n",
    "`pip install package_name --no-cache-dir`\n",
    "\n",
    "### Supprimer des fichiers \n",
    "`pip cache remove *`\n",
    "\n",
    "### Nettoyer le cache\n",
    "`pip cache purge`\n",
    "\n",
    "### Supprimer manuellement le dossier du cache\n",
    "\n",
    "#### Windows :\n",
    "`rd /s /q \"%appdata%\\local\\pip\\cache\"`\n",
    "\n",
    "#### Linux : \n",
    "`sudo rm ~/.cache/pip`\n",
    "`sudo rm -rf /root/.cache/pip`"
   ]
  }
 ],
 "metadata": {
  "kernelspec": {
   "display_name": "Python 3 (ipykernel)",
   "language": "python",
   "name": "python3"
  },
  "language_info": {
   "codemirror_mode": {
    "name": "ipython",
    "version": 3
   },
   "file_extension": ".py",
   "mimetype": "text/x-python",
   "name": "python",
   "nbconvert_exporter": "python",
   "pygments_lexer": "ipython3",
   "version": "3.8.3"
  }
 },
 "nbformat": 4,
 "nbformat_minor": 5
}
