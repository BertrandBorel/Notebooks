{
 "cells": [
  {
   "cell_type": "markdown",
   "id": "184e46fd",
   "metadata": {},
   "source": [
    "# <center> Gestion des fichiers en Python </center>\n",
    "\n",
    "**Sources :**\n",
    "- Revue Coding, n°19, p.52-55.\n",
    "- https://www.programiz.com/python-programming/directory\n",
    "- https://docs.python.org/3/library/filesys.html\n",
    "- https://realpython.com/working-with-files-in-python/"
   ]
  },
  {
   "cell_type": "markdown",
   "id": "d116e5dd",
   "metadata": {},
   "source": [
    "La fonction clé pour travailler avec des fichiers en Python est la fonction **`open()`**.\n",
    "\n",
    "Cette fonction accepte **2 paramètres** : \n",
    "   - le nom de fichier    \n",
    "   - le mode de lecture\n",
    "    \n",
    "Il existe **4 méthodes** différentes pour ouvrir un fichier :\n",
    "\n",
    "- **`r`: Read** - Valeur par défaut. Provoque une erreur si le fichier n'existe pas.\n",
    "\n",
    "- **`a`: Append** - Ouvre un fichier pour l'ajout, crée le fichier s'il n'existe pas. \n",
    "\n",
    "- **`w`: Write** - Ouvre un fichier en écriture, crée le fichier s'il n'existe pas. \n",
    "\n",
    "- **`x`: Créer** - Crée le fichier spécifié, renvoie une erreur si le fichier existe. \n",
    "\n",
    "De plus on peut spécifier si le fichier doit être traité en mode binaire ou texte :\n",
    "\n",
    "- **`t`: Texte** - Valeur par défaut. Mode texte.\n",
    "\n",
    "- **`b`: Binaire** - Mode binaire.   \n",
    "    "
   ]
  },
  {
   "cell_type": "code",
   "execution_count": 9,
   "id": "b65f3560",
   "metadata": {},
   "outputs": [],
   "source": [
    "f = open(\"fichier_demo.txt\", \"x\")"
   ]
  },
  {
   "cell_type": "code",
   "execution_count": 39,
   "id": "dc3d6d64",
   "metadata": {},
   "outputs": [
    {
     "data": {
      "text/plain": [
       "91"
      ]
     },
     "execution_count": 39,
     "metadata": {},
     "output_type": "execute_result"
    }
   ],
   "source": [
    "f = open(\"fichier_demo.txt\", \"a\")\n",
    "f.write(\"Bonjour ! Bienvenue dans fichier_demo.txt\\nCe fichier est à des fins de test.\\nBonne chance !\")"
   ]
  },
  {
   "cell_type": "code",
   "execution_count": 3,
   "id": "eb85ce7d",
   "metadata": {},
   "outputs": [
    {
     "data": {
      "text/plain": [
       "34"
      ]
     },
     "execution_count": 3,
     "metadata": {},
     "output_type": "execute_result"
    }
   ],
   "source": [
    "f = open(\"fichier-demo.txt\", \"a\")\n",
    "f.write(\"Ce fichier est à des fins de test.\")"
   ]
  },
  {
   "cell_type": "code",
   "execution_count": 4,
   "id": "8d5642e5",
   "metadata": {},
   "outputs": [
    {
     "data": {
      "text/plain": [
       "14"
      ]
     },
     "execution_count": 4,
     "metadata": {},
     "output_type": "execute_result"
    }
   ],
   "source": [
    "f = open(\"fichier-demo.txt\", \"a\")\n",
    "f.write(\"Bonne chance !\")"
   ]
  },
  {
   "cell_type": "markdown",
   "id": "0cb0cdf6",
   "metadata": {},
   "source": [
    "## Ouverture et lecture d'un fichier"
   ]
  },
  {
   "cell_type": "markdown",
   "id": "b74fec09",
   "metadata": {},
   "source": [
    "On utilise la méthode **`open()`** qui renvoie un objet **file**, qui a une méthode **``read()** pour lire le contenu du fichier. "
   ]
  },
  {
   "cell_type": "code",
   "execution_count": 20,
   "id": "f9923323",
   "metadata": {},
   "outputs": [
    {
     "name": "stdout",
     "output_type": "stream",
     "text": [
      "Bonjour ! Bienvenue dans fichier_demo.txt\n",
      "Ce fichier est à des fins de test.\n",
      "Bonne chance !\n"
     ]
    }
   ],
   "source": [
    "f = open(\"fichier_demo.txt\", \"r\")\n",
    "print((f.read()))"
   ]
  },
  {
   "cell_type": "markdown",
   "id": "f21e7224",
   "metadata": {},
   "source": [
    "Pour ouvrir un fichier situé à un emplacement différent, faites précéder le nom du fichier par son chemin (le nom du répertoire où se trouve le fichier):"
   ]
  },
  {
   "cell_type": "code",
   "execution_count": 23,
   "id": "4ea6f9ad",
   "metadata": {},
   "outputs": [
    {
     "name": "stdout",
     "output_type": "stream",
     "text": [
      "Bonjour ! Bienvenue dans fichier_demo.txt\n",
      "Ce fichier est à des fins de test.\n",
      "Bonne chance !\n"
     ]
    }
   ],
   "source": [
    "f= open(\"C:\\\\Users\\\\utilisateur\\\\Desktop\\\\Projet_CDE\\\\code\\\\fichier_demo.txt\", \"r\")\n",
    "print(f.read())"
   ]
  },
  {
   "cell_type": "markdown",
   "id": "6f9d22a0",
   "metadata": {},
   "source": [
    "Après avoir ouvert le fichier, nous pouvons lire les données du fichier en utilisant la méthode **`read()`**. Elle prend un argument facultatif en entrée pour spécifier le nombre de caractères à lire dans le fichier. Si la méthode **`read`** est invoquée sur l'objet fichier sans aucun argument, elle lit le fichier entier et le renvoie sous forme de chaîne de texte. "
   ]
  },
  {
   "cell_type": "markdown",
   "id": "b5e03b7f",
   "metadata": {},
   "source": [
    "## Lecture d'une partie du fichier \n",
    "\n",
    "On spécifie le nombre de caractères qui s'afficheront dans la méthode **`read()`**."
   ]
  },
  {
   "cell_type": "code",
   "execution_count": 24,
   "id": "04e322b2",
   "metadata": {},
   "outputs": [
    {
     "name": "stdout",
     "output_type": "stream",
     "text": [
      "Bonjo\n"
     ]
    }
   ],
   "source": [
    "f = open(\"fichier_demo.txt\", \"r\")\n",
    "print(f.read(5))"
   ]
  },
  {
   "cell_type": "markdown",
   "id": "30981b05",
   "metadata": {},
   "source": [
    "## `readline()` : Lire le fichier ligne par ligne"
   ]
  },
  {
   "cell_type": "code",
   "execution_count": 29,
   "id": "32155523",
   "metadata": {},
   "outputs": [
    {
     "name": "stdout",
     "output_type": "stream",
     "text": [
      "Bonjour ! Bienvenue dans fichier_demo.txt\n",
      "\n"
     ]
    }
   ],
   "source": [
    "f = open(\"fichier_demo.txt\", \"r\")\n",
    "print(f.readline())"
   ]
  },
  {
   "cell_type": "markdown",
   "id": "b87c0aa8",
   "metadata": {},
   "source": [
    "En appelant 2 fois **`readline()`**, on peut lire les deux premières lignes.\n",
    "\n",
    "On peut également lire l'ensemble du fichier grâce à une boucle :"
   ]
  },
  {
   "cell_type": "code",
   "execution_count": 30,
   "id": "1dffa24e",
   "metadata": {},
   "outputs": [
    {
     "name": "stdout",
     "output_type": "stream",
     "text": [
      "Bonjour ! Bienvenue dans fichier_demo.txt\n",
      "\n",
      "Ce fichier est à des fins de test.\n",
      "\n",
      "Bonne chance !\n"
     ]
    }
   ],
   "source": [
    "f = open(\"fichier_demo.txt\", \"r\")\n",
    "for ligne in f :\n",
    "    print(ligne)    "
   ]
  },
  {
   "cell_type": "markdown",
   "id": "02cf1312",
   "metadata": {},
   "source": [
    "## Fermeture d'un fichier : `close()`"
   ]
  },
  {
   "cell_type": "code",
   "execution_count": 32,
   "id": "1060d238",
   "metadata": {},
   "outputs": [
    {
     "name": "stdout",
     "output_type": "stream",
     "text": [
      "Bonjour ! Bienvenue dans fichier_demo.txt\n",
      "Ce fichier est à des fins de test.\n",
      "Bonne chance !\n"
     ]
    }
   ],
   "source": [
    "f = open(\"fichier_demo.txt\", \"r\")\n",
    "print(f.read())\n",
    "f.close()"
   ]
  },
  {
   "cell_type": "markdown",
   "id": "d7c4aac9",
   "metadata": {},
   "source": [
    "## Ecrire dans un fichier existant"
   ]
  },
  {
   "cell_type": "markdown",
   "id": "7884d692",
   "metadata": {},
   "source": [
    "On utilise soit **append `\"a\"`** soit **write `\"w\"`**."
   ]
  },
  {
   "cell_type": "markdown",
   "id": "8363715d",
   "metadata": {},
   "source": [
    "### Ecraser le contenu :"
   ]
  },
  {
   "cell_type": "markdown",
   "id": "067f32a1",
   "metadata": {},
   "source": [
    "`f = open(\"test_file.txt\", \"w\")\n",
    "f.write(\"Contenu écrasé.\")\n",
    "f.close()`"
   ]
  },
  {
   "cell_type": "markdown",
   "id": "73615913",
   "metadata": {},
   "source": [
    "### Ajouter une ligne :"
   ]
  },
  {
   "cell_type": "markdown",
   "id": "2620d1b3",
   "metadata": {},
   "source": [
    "`f = open(\"test_file.txt\", \"a\")\n",
    "f.write(\"Ajout d'une ligne.\")\n",
    "f.close()`"
   ]
  },
  {
   "cell_type": "markdown",
   "id": "f579c55d",
   "metadata": {},
   "source": [
    "## Supprimer des fichiers"
   ]
  },
  {
   "cell_type": "markdown",
   "id": "cae7c525",
   "metadata": {},
   "source": [
    "Nécessite d'importer le module **os** et sa fonction **`os.remove()`** : \n",
    "\n",
    "`import os`\n",
    "\n",
    "`os.remove(\"fichier_tdemo.txt\")`"
   ]
  },
  {
   "cell_type": "markdown",
   "id": "a01ee2bd",
   "metadata": {},
   "source": [
    "### Supprimer un fichier avec son chemin absolu"
   ]
  },
  {
   "cell_type": "code",
   "execution_count": 45,
   "id": "0b81ca8e",
   "metadata": {},
   "outputs": [],
   "source": [
    "os.remove(r\"C:\\\\Users\\\\utilisateur\\\\Desktop\\\\Projet_CDE\\\\code\\\\fichier_demo_new.txt\")"
   ]
  },
  {
   "cell_type": "markdown",
   "id": "bed39c26",
   "metadata": {},
   "source": [
    "## Vérifier si le fichier existe avant de le supprimer "
   ]
  },
  {
   "cell_type": "code",
   "execution_count": 37,
   "id": "bb3a24f4",
   "metadata": {},
   "outputs": [],
   "source": [
    "import os\n",
    "\n",
    "if os.path.exists(\"fichier_demo.txt\"):\n",
    "    os.remove(\"fichier_demo.txt\")\n",
    "    \n",
    "else :\n",
    "    print(\"Le fichier n'existe pas\")"
   ]
  },
  {
   "cell_type": "markdown",
   "id": "f01a756b",
   "metadata": {},
   "source": [
    "## Supprimer un répertoire avec `os.rmdir()`\n",
    "\n",
    "Note : on ne peut supprimer que des dossiers vides."
   ]
  },
  {
   "cell_type": "code",
   "execution_count": null,
   "id": "f3bf4254",
   "metadata": {},
   "outputs": [],
   "source": [
    "import os \n",
    "\n",
    "os.rmdir(\"mon_dossier\")"
   ]
  },
  {
   "cell_type": "markdown",
   "id": "ce395c31",
   "metadata": {},
   "source": [
    "## Copier des fichiers \n",
    "\n",
    "Il existe plusieurs façons de copier des fichiers. La méthode **`shutil.copy()`** est utilisée pour copier le contenu du fichier source dans le fichier de destination. Il faut au préalable importer la méthode **shutil**."
   ]
  },
  {
   "cell_type": "code",
   "execution_count": 40,
   "id": "3a12bc17",
   "metadata": {},
   "outputs": [
    {
     "name": "stdout",
     "output_type": "stream",
     "text": [
      "Le fichier a bien été copié.\n"
     ]
    }
   ],
   "source": [
    "import shutil\n",
    "\n",
    "# chemin source\n",
    "src_path = r\"C:\\\\Users\\\\utilisateur\\\\Desktop\\\\Projet_CDE\\\\code\\\\fichier_demo.txt\"\n",
    "# chemin destination\n",
    "destination_path = r\"C:\\\\Users\\\\utilisateur\\\\Documents\\\\fichier_demo.txt\"\n",
    "\n",
    "shutil.copy(src_path, destination_path)\n",
    "print(\"Le fichier a bien été copié.\")"
   ]
  },
  {
   "cell_type": "markdown",
   "id": "27936f47",
   "metadata": {},
   "source": [
    "## Renommer des fichiers\n",
    "\n",
    "Le module **os** fournit la méthode **`rename()`** pour spécifier le nom de fichier avec le nouveau nom. "
   ]
  },
  {
   "cell_type": "code",
   "execution_count": 43,
   "id": "7f26f434",
   "metadata": {},
   "outputs": [],
   "source": [
    "import os\n",
    "\n",
    "# chemin absolu d'un fichier\n",
    "ancien_nom = r\"C:\\\\Users\\\\utilisateur\\\\Desktop\\\\Projet_CDE\\\\code\\\\fichier_demo.txt\"\n",
    "nouveau_nom = r\"C:\\\\Users\\\\utilisateur\\\\Desktop\\\\Projet_CDE\\\\code\\\\fichier_demo_new.txt\"\n",
    "\n",
    "# change le nom du fichier\n",
    "os.rename(ancien_nom, nouveau_nom)"
   ]
  }
 ],
 "metadata": {
  "kernelspec": {
   "display_name": "Python 3 (ipykernel)",
   "language": "python",
   "name": "python3"
  },
  "language_info": {
   "codemirror_mode": {
    "name": "ipython",
    "version": 3
   },
   "file_extension": ".py",
   "mimetype": "text/x-python",
   "name": "python",
   "nbconvert_exporter": "python",
   "pygments_lexer": "ipython3",
   "version": "3.8.3"
  }
 },
 "nbformat": 4,
 "nbformat_minor": 5
}
