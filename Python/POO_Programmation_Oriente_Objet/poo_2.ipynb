{
 "cells": [
  {
   "cell_type": "markdown",
   "metadata": {},
   "source": [
    "# <center>Programmation Orientée Objet</center>\n",
    "\n",
    "## Définition\n",
    "\n",
    "Citation de Steve Job :\n",
    "[Article sur Developpez.com](https://www.developpez.com/actu/91705/Comment-pourriez-vous-expliquer-l-oriente-objet-Steve-Jobs-a-essaye-d-expliquer-ce-concept/)\n",
    "\n",
    "Documentation officiel sur la [POO en Python](https://docs.python.org/3/tutorial/classes.html).\n",
    "\n",
    "## Les objets dans Python\n",
    "\n",
    "Un objet est composé d'une classe et d'une instance. La classe est le code qui permet de créer l'objet. Elle se déclare, un peu comme une fonction, mais le code n'est pas exécuté. Les instances sont des variables qui permettent de manipuler les objets dans le code. En python :\n",
    "\n",
    "- une classe se déclare ainsi : `class Nom_classe :`. \n",
    "- une instance se créée en initialisant une variable avec un constructeur : `var1 = Nom_classe()`\n",
    "\n",
    "Le constructeur est le nom de la classe suivi de ()."
   ]
  },
  {
   "cell_type": "code",
   "execution_count": 22,
   "metadata": {},
   "outputs": [
    {
     "name": "stdout",
     "output_type": "stream",
     "text": [
      "<__main__.Monty object at 0x0000021B73EF8190>\n",
      "<__main__.Monty object at 0x0000021B73EF8340>\n"
     ]
    }
   ],
   "source": [
    "#déclaration d'une classe, qui est le modèle pour les objets\n",
    "class Monty:\n",
    "    pass\n",
    "\n",
    "#fonction main() pour le programme principal\n",
    "def main():\n",
    "    #création d'instances de classe Monty, qui permet la manipulation d'objets créés à partir de cette classe\n",
    "    monty1 = Monty()\n",
    "    monty2 = Monty()\n",
    "\n",
    "    #Les variables contiennent les espaces mémoires des objets\n",
    "    print(monty1)\n",
    "    print(monty2)\n",
    "\n",
    "main()"
   ]
  },
  {
   "cell_type": "markdown",
   "metadata": {},
   "source": [
    "A partir d'une classe, il est possible de créer autant d'instances que besoin. Dans le code au-dessus, les deux instances *monty1* et *monty2* sont créées à partir de la classe *Monty*. Bien que tous les deux de type *Monty*, ils sont deux objets différents."
   ]
  },
  {
   "cell_type": "markdown",
   "metadata": {},
   "source": [
    "## Constructeur\n",
    "\n",
    "Le constructeur retourne l'espace mémoire atttribué à l'objet. C'est ce qui permet de manipuler l'objet dans le code. A chaque création d'une instance, un espace mémoire différent est alloué. C'est ainsi que le compilateur fait la différence entre plusieurs instances de même classe.\n",
    "\n",
    "Il est possible de surcharger le constructeur pour exécuter du code à la création de l'objet. En général, cela sert à initialiser certaines valeurs. Pour cela, il faut mettre ce code dans la fonction `__init__(self) :`, définie dans la classe elle-même.Attention, puisque le constructeur retourne l'emplacement mémoire de l'objet, il ne peut retourner rien d'autre. **Il n'y a jamais de `return`dans un constructeur**."
   ]
  },
  {
   "cell_type": "code",
   "execution_count": 23,
   "metadata": {},
   "outputs": [
    {
     "name": "stdout",
     "output_type": "stream",
     "text": [
      "<__main__.Monty object at 0x0000021B73EF8460>\n",
      "<__main__.Monty object at 0x0000021B73FA65E0>\n",
      "<__main__.Monty object at 0x0000021B73EF8460>\n",
      "comédien\n",
      "<__main__.Monty object at 0x0000021B73FA65E0>\n",
      "comédien\n",
      "réalisateur\n",
      "comédien\n"
     ]
    }
   ],
   "source": [
    "class Monty:\n",
    "    #surcharge du constructeur\n",
    "    def __init__(self):\n",
    "        #self est l'objet lui-même\n",
    "        print(self)\n",
    "        #initialisation d'une variable d'instance \"metier\"\n",
    "        self.metier = \"comédien\"\n",
    "\n",
    "#fonction main() pour le programme principal\n",
    "def main() :\n",
    "    #instanciation de 2 objets de type Monty\n",
    "    monty1 = Monty()\n",
    "    monty2 = Monty()\n",
    "\n",
    "    print(monty1)\n",
    "    print (monty1.metier)\n",
    "    print(monty2)\n",
    "    print (monty2.metier)\n",
    "\n",
    "    #accès en écriture à la variable d'instance \"metier\"\n",
    "    monty2.metier = \"réalisateur\"\n",
    "    #accès en lecture à la variable d'instance \"metier\"\n",
    "    print(monty2.metier)\n",
    "    print(monty1.metier)\n",
    "\n",
    "main()"
   ]
  },
  {
   "cell_type": "markdown",
   "metadata": {},
   "source": [
    "Par convention, `self`est toujours passé en argument au constructeur. Il fait référence à l'objet lui-même (et contient donc son emplacement mémoire, comme le prouve le code ci-dessus).\n",
    "`self.var`permet d'initialiser une variable. Cette variable est mise en mémoire dans l'objet. Pour la lire, ou la modifier, il suffit de faire `moninstance.var`. Le point est l'opérateur qui permet de trouver les variables dans l'objet."
   ]
  },
  {
   "cell_type": "code",
   "execution_count": 24,
   "metadata": {},
   "outputs": [
    {
     "name": "stdout",
     "output_type": "stream",
     "text": [
      "Cleese\n",
      "Gilliam\n"
     ]
    }
   ],
   "source": [
    "class Monty:\n",
    "    #constructeur avec une valeur d'initialisation en paramètre\n",
    "    def __init__(self, nom):\n",
    "        #initialisation d'une variable à partir d'un paramètre\n",
    "        self.nom = nom\n",
    "        self.metier = \"comédien\"\n",
    "\n",
    "#fonction main() pour le programme principal\n",
    "def main() :\n",
    "    #création d'instances avec passage de valeurs en paramètre\n",
    "    monty1 = Monty(\"Cleese\")\n",
    "    monty2 = Monty(\"Gilliam\")\n",
    "    print (monty1.nom)\n",
    "    print (monty2.nom)\n",
    "    \n",
    "main()"
   ]
  },
  {
   "cell_type": "markdown",
   "metadata": {},
   "source": [
    "Il est possible d'initialiser les variables d'instance à la création en passant les valeurs en paramètre. Puis, dans le constructeur, il est suffit des les attribuer `self.var = parametre`.\n",
    "\n",
    "Vous pouvez créer autant de variables d'instance que vous avez besoin. De même, il est possible de passer en paramètre autant de valeurs que besoin."
   ]
  },
  {
   "cell_type": "code",
   "execution_count": 25,
   "metadata": {},
   "outputs": [
    {
     "name": "stdout",
     "output_type": "stream",
     "text": [
      "Cleese\n",
      "Gilliam\n",
      "réalisateur\n"
     ]
    }
   ],
   "source": [
    "class Monty:\n",
    "    #dictionnaire d'une taille indéterminée en paramètre\n",
    "    def __init__(self, **infos):\n",
    "        #parcours le dictionnaire pour récupérer les clés et les valeurs\n",
    "        for variable, valeur in infos.items():\n",
    "            #création de variable avec la clé et initialisation avec la valeur\n",
    "            setattr(self, variable, valeur)\n",
    "            \n",
    "#Fonction main() pour le programme principal\n",
    "def main() :\n",
    "    #dictionnaire            \n",
    "    infos1 = {\"nom\":\"Cleese\", \"metier\":\"comédien\"}\n",
    "    infos2 = {\"nom\":\"Gilliam\", \"metier\":\"réalisateur\"}\n",
    "\n",
    "    #passage de dictionnaires en paramètre\n",
    "    monty1 = Monty(**infos1)\n",
    "    monty2 = Monty(**infos2)\n",
    "\n",
    "    #les variables du dictionnaire sont accessibles dans l'objet\n",
    "    print(monty1.nom)\n",
    "    print(monty2.nom)\n",
    "    print(monty2.metier)\n",
    "    \n",
    "main()"
   ]
  },
  {
   "cell_type": "markdown",
   "metadata": {},
   "source": [
    "Lorsqu'il y a plusieurs variables à initialiser, il est possible de passer un dictionnaire en paramètre du constructeur. `**`.Ce dictionnaire contient les noms et les valeurs des variables. Dans ce cas il faut signaler que nous avons un paramètres de taille indéterminée grâce au `**`.\n",
    "Il faut le faire à la déclaration du constructeur et lors de son appel dans le code.\n",
    "Ensuite, dans le constructeur, il suffit de parcourir le dictionnaire et d'utiliser la fonction `setattr(self, nom_variable, valeur_variable)`. Ainsi, toutes les variables d'instances sont créées automatiquement."
   ]
  },
  {
   "cell_type": "markdown",
   "metadata": {},
   "source": [
    "## Méthodes\n",
    "\n",
    "Une classe peut aussi contenir des fonctions, dans ce cas, elles sont appelées *méthodes*."
   ]
  },
  {
   "cell_type": "code",
   "execution_count": 26,
   "metadata": {},
   "outputs": [
    {
     "name": "stdout",
     "output_type": "stream",
     "text": [
      "Cleese dit bonjour à Gilliam\n"
     ]
    }
   ],
   "source": [
    "class Monty:\n",
    "    \n",
    "    def __init__(self, nom):\n",
    "        self.nom = nom\n",
    "        \n",
    "    # méthode saluer(), déclarée comme une fonction\n",
    "    def saluer(self, qui) :\n",
    "        return self.nom + \" dit bonjour à \" + qui\n",
    "    \n",
    "#fonction main() pour le programme principal\n",
    "def main() :\n",
    "    monty1 = Monty(\"Cleese\")\n",
    "    monty2 = Monty(\"Gilliam\")\n",
    "    print (monty1.saluer(monty2.nom))\n",
    "    \n",
    "main()"
   ]
  },
  {
   "cell_type": "markdown",
   "metadata": {},
   "source": [
    "Une méthode se déclare comme une fonction, mais dans la classe. Pour l'appeler, il faut le faire avec une instance. Comme pour les variables, il faut utiliser le point pour l'appeler avec une instance. Par convention, la méthode prend toujours `self`en paramètre. Contrairement au constructeur, la méthode peut avoir un `return` et prend autant de paramètre qu'il y a besoin."
   ]
  },
  {
   "cell_type": "code",
   "execution_count": 33,
   "metadata": {},
   "outputs": [
    {
     "name": "stdout",
     "output_type": "stream",
     "text": [
      "Cleese dit : Good evening Gilliam\n"
     ]
    }
   ],
   "source": [
    "from datetime import datetime\n",
    "\n",
    "class Monty:\n",
    "    \n",
    "    def __init__(self, nom):\n",
    "        self.nom = nom\n",
    "        \n",
    "    # méthode saluer(), déclarée comme une fonction\n",
    "    def saluer(self, qui) :\n",
    "        return self.nom + \" dit : \" + self.formuler_salut(qui)\n",
    "    \n",
    "    #méthode qui ne sert que dans la classe\n",
    "    def formuler_salut(self, qui) :\n",
    "        formule = \"Good morning \"\n",
    "        heure = datetime.now().hour\n",
    "        \n",
    "        if(heure > 11) :\n",
    "            formule = \"Good afternoon \"\n",
    "        if(heure > 18) :\n",
    "            formule = \"Good evening \"\n",
    "            \n",
    "        return formule + qui\n",
    "    \n",
    "#fonction main() pour le programme principal\n",
    "def main() :\n",
    "    monty1 = Monty(\"Cleese\")\n",
    "    monty2 = Monty(\"Gilliam\")\n",
    "    print (monty1.saluer(monty2.nom))\n",
    "    \n",
    "main()"
   ]
  },
  {
   "cell_type": "markdown",
   "metadata": {},
   "source": [
    "une méthode peut être appelée dans une autre méthode en utilisant le self : `self.methode()`."
   ]
  },
  {
   "cell_type": "markdown",
   "metadata": {},
   "source": [
    "## Collection d'objets\n",
    "\n",
    "Puisque l'avantage des objets est d'en instancier autant que voulu, il n'est pas rare de le faire sous forme de collection."
   ]
  },
  {
   "cell_type": "code",
   "execution_count": 38,
   "metadata": {},
   "outputs": [
    {
     "name": "stdout",
     "output_type": "stream",
     "text": [
      "Cleese\n",
      "Gilliam\n",
      "Chapman\n",
      "Jones\n",
      "Palin\n",
      "Idle\n"
     ]
    }
   ],
   "source": [
    "class Monty:\n",
    "    \n",
    "    def __init__(self, **infos):\n",
    "        #parcours le dictionnaire pour récupérer les clés et les valeurs\n",
    "        for variable, valeur in infos.items():\n",
    "            #création de variable avec la clé et initialisation avec la valeur\n",
    "            setattr(self, variable, valeur)\n",
    "        \n",
    "#lire data\n",
    "def lire_data():\n",
    "    #ce dictionnaire simule la lecture d'une source de données\n",
    "    equipe = [{\"nom\" : \"Cleese\", \"metier\":\"comédien\"}, {\"nom\" : \"Gilliam\",\"metier\":\"realisateur\"}, {\"nom\":\"Chapman\", \"metier\":\"comédien\"}, {\"nom\":\"Jones\", \"metier\":\"comédien\"}, {\"nom\":\"Palin\", \"metier\":\"comédien\"},{\"nom\":\"Idle\", \"metier\":\"comédien\"}]\n",
    "    return equipe\n",
    "    \n",
    "#fonction main() pour le programme principal\n",
    "def main() :\n",
    "    membres = lire_data()\n",
    "    objets = []\n",
    "    \n",
    "    #boucle pour créer une collection d'objets\n",
    "    for membre in membres :\n",
    "            nouveau = Monty(**membre)\n",
    "            objets.append(nouveau)\n",
    "    \n",
    "    #boucle pour parcourir la collection d'objets\n",
    "    for monty in objets :\n",
    "        print(monty.nom)\n",
    "    \n",
    "main()"
   ]
  },
  {
   "cell_type": "markdown",
   "metadata": {},
   "source": [
    "L'avantage de la collection c'est qu'il n'y a besoin d'une variable par instance puisqu'elles sont toutes stockées dans une liste (ou un dictionnaire, c'est aussi possible). Il suffit alors de la parcourir pour travailler avec les instances."
   ]
  },
  {
   "cell_type": "code",
   "execution_count": null,
   "metadata": {},
   "outputs": [],
   "source": []
  }
 ],
 "metadata": {
  "kernelspec": {
   "display_name": "Python 3.8.3 ('base')",
   "language": "python",
   "name": "python3"
  },
  "language_info": {
   "codemirror_mode": {
    "name": "ipython",
    "version": 3
   },
   "file_extension": ".py",
   "mimetype": "text/x-python",
   "name": "python",
   "nbconvert_exporter": "python",
   "pygments_lexer": "ipython3",
   "version": "3.8.3"
  },
  "vscode": {
   "interpreter": {
    "hash": "cce956dd8b59511f520788cd9362dddc117670ac5ef39c9ede8ba85a43b854a0"
   }
  }
 },
 "nbformat": 4,
 "nbformat_minor": 4
}
