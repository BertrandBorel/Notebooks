{
 "cells": [
  {
   "cell_type": "markdown",
   "id": "015abc32",
   "metadata": {},
   "source": [
    "# <center> Programmation Orientée Objet </center>\n",
    "\n",
    "**Source :**  Revue Coding, n°16, p.72-79\n",
    "\n",
    "____"
   ]
  },
  {
   "cell_type": "markdown",
   "id": "326cd444",
   "metadata": {},
   "source": [
    "C'est un paradigme de programmation qui fournit un moyen de structurer les programmes de sorte que les propriétés et les comportements soient regroupés dans des objets individuels.\n",
    "\n",
    "La POO est une approche pour modéliser des choses concrètes et réelles (comme les voitures). Elle modélise les entités du monde réel en tant qu'objets logiciels auxquels sont associées des données et qui peuvent exécuter certaines fonctions. \n",
    "\n",
    "Un autre paradigme de programmation courant est la programmation procédurale, qui structure un programme comme une recette en ce sens qu'il fournit un ensemble d'étapes, sous la forme de fonctions et de blocs de code, qui se déroulent de manière séquentielle afin d'accomplir une tâche. \n",
    "\n",
    "L'essentiel à retenir est que les objets sont au centre de la programmation orientée objet en Python, représentant non seulemnt les données, comme dans la programmation procédurale, mais également dans la structure globale du programme. \n",
    "\n",
    "## Différence entre classes et instances\n",
    "\n",
    "Les classes sont utilisées pour créer des structures de données définies par l'utilisateur. Les classes définissent des fonctions appelées méthodes, qui identifient les comportements et les actions qu'un objet créé à partir de la classe peut effectuer avec ses données. \n",
    "\n",
    "Une classe est un modèle pour la façon dont quelque chose doit être défini. Il ne contient en fait aucune donnée. \n",
    "\n",
    "Une instance est un objet qui est construit à partir d'une classe et contient des données réelles. "
   ]
  },
  {
   "cell_type": "code",
   "execution_count": 1,
   "id": "985b7b30",
   "metadata": {},
   "outputs": [],
   "source": [
    "class Chien:\n",
    "    # attributs de classe\n",
    "    espece = \"Canis familiaris\"\n",
    "    \n",
    "    # méthode\n",
    "    def __init__(self, nom, age):\n",
    "        # attributs d'instances\n",
    "        self.nom = nom\n",
    "        self.age = age"
   ]
  },
  {
   "cell_type": "markdown",
   "id": "37641885",
   "metadata": {},
   "source": [
    "Les attributs créés dans `__init__` sont des **attributs d'instances**. La valeur d'un attribut d'instance est spécifique à une instance particulière de la classe. \n",
    "\n",
    "Les attributs de classe sont des attributs qui ont la même valeur pour toutes les instances de classe. \n",
    "\n",
    "On utilise des attributs de classe pour définir des propriétés qui doivent avoir la même valeur pour chaque instance de classe. \n",
    "\n",
    "On utilise des attributs d'instance pour les propriétés qui varient d'une instance à l'autre. \n",
    "\n",
    "## Instancier un objet en Python\n",
    "\n",
    "Créer un nouvel objet à partir d'une classe s'appelle instancier un objet. On peut instancier un nouvel objet **Chien** en tapant le nom de la classe, suivi des paranthèses :\n",
    "\n",
    "`Chien()`\n",
    "\n",
    "Chaque nouvelle instance se trouve à une adresse mémoire différente. Chaque instance est donc entièrement nouvelle et unique. \n",
    "\n",
    "#### Exemple"
   ]
  },
  {
   "cell_type": "code",
   "execution_count": 5,
   "id": "7594ce83",
   "metadata": {},
   "outputs": [
    {
     "name": "stdout",
     "output_type": "stream",
     "text": [
      "<__main__.Chien object at 0x0000018ED132E550>\n",
      "<__main__.Chien object at 0x0000018ED0AA80D0>\n"
     ]
    },
    {
     "data": {
      "text/plain": [
       "False"
      ]
     },
     "execution_count": 5,
     "metadata": {},
     "output_type": "execute_result"
    }
   ],
   "source": [
    "class Chien : \n",
    "    pass\n",
    "\n",
    "a = Chien()\n",
    "print(a)\n",
    "\n",
    "b = Chien ()\n",
    "print(b)\n",
    "\n",
    "# on compare les 2 variables entre elles\n",
    "a == b"
   ]
  },
  {
   "cell_type": "markdown",
   "id": "5d16188c",
   "metadata": {},
   "source": [
    "## Attributs de classe et d'instance"
   ]
  },
  {
   "cell_type": "code",
   "execution_count": 6,
   "id": "27d896ab",
   "metadata": {},
   "outputs": [],
   "source": [
    "class Chien:\n",
    "    # attributs de classe\n",
    "    espece = \"Canis familiaris\"\n",
    "    \n",
    "    # méthode\n",
    "    def __init__(self, nom, age):\n",
    "        # attributs d'instances\n",
    "        self.nom = nom\n",
    "        self.age = age"
   ]
  },
  {
   "cell_type": "markdown",
   "id": "6b23732a",
   "metadata": {},
   "source": [
    "Pour instancier des objets de cette classe, il faut fournir des valeurs pour le nom et l'âge, sinon Python renvoie une erreur.\n",
    "\n",
    "**Note :** Il n'y a pas besoin de fournir des valeurs pour le paramètre `self`. Dans notre cas, il n'y a que 2 paramètres, `nom` et `age`."
   ]
  },
  {
   "cell_type": "code",
   "execution_count": 7,
   "id": "c0fdfcec",
   "metadata": {},
   "outputs": [],
   "source": [
    "toutou = Chien(\"Toutou\", 5)"
   ]
  },
  {
   "cell_type": "markdown",
   "id": "9a8c3528",
   "metadata": {},
   "source": [
    "Pour accéder aux attributs d'instance, il faut le nom de la variable suivi d'un point, puis du paramètre de la classe. Idem pour les attributs de classe."
   ]
  },
  {
   "cell_type": "code",
   "execution_count": 55,
   "id": "85e2b852",
   "metadata": {},
   "outputs": [
    {
     "name": "stdout",
     "output_type": "stream",
     "text": [
      "Toutou\n",
      "6\n",
      "Canis familiaris\n"
     ]
    }
   ],
   "source": [
    "print(toutou.nom)\n",
    "print(toutou.age)\n",
    "print(toutou.espece)"
   ]
  },
  {
   "cell_type": "markdown",
   "id": "04138140",
   "metadata": {},
   "source": [
    "Les valeurs des attributs peuvent être modifiées dynamiquement :"
   ]
  },
  {
   "cell_type": "code",
   "execution_count": 13,
   "id": "74ff67ca",
   "metadata": {},
   "outputs": [
    {
     "data": {
      "text/plain": [
       "7"
      ]
     },
     "execution_count": 13,
     "metadata": {},
     "output_type": "execute_result"
    }
   ],
   "source": [
    "toutou.age = 7\n",
    "toutou.age"
   ]
  },
  {
   "cell_type": "code",
   "execution_count": 14,
   "id": "00431507",
   "metadata": {},
   "outputs": [
    {
     "data": {
      "text/plain": [
       "'Ceci est un chien'"
      ]
     },
     "execution_count": 14,
     "metadata": {},
     "output_type": "execute_result"
    }
   ],
   "source": [
    "toutou.espece = 'Ceci est un chien'\n",
    "toutou.espece"
   ]
  },
  {
   "cell_type": "markdown",
   "id": "9e35e7aa",
   "metadata": {},
   "source": [
    "Les objets personnalisés sont donc modifiables par défaut. "
   ]
  },
  {
   "cell_type": "markdown",
   "id": "11ad3ea6",
   "metadata": {},
   "source": [
    "## Méthodes d'instance\n",
    "\n",
    "Ce sont des fonctions définies à l'intérieur d'une classe et qui ne peuvent être appelées qu'à partir d'une instance de cette classe. Le 1er paramètre d'une méthode d'instance est toujours `self`."
   ]
  },
  {
   "cell_type": "code",
   "execution_count": 21,
   "id": "2980cfbb",
   "metadata": {},
   "outputs": [],
   "source": [
    "class Chien:\n",
    "    espece = \"Canis familiaris\"\n",
    "\n",
    "    def __init__(self, nom, age):\n",
    "        self.nom = nom\n",
    "        self.age = age\n",
    "        \n",
    "    # Instance : renvoie une chaîne affichant le nom et l'âge du chien.\n",
    "    def description(self):\n",
    "        return f\"{self.nom} est âgé de {self.age} ans\"\n",
    "    \n",
    "    # Instance : renvoie le nom et le son que fait le chien.\n",
    "    def aboie(self, son):\n",
    "        return f\"{self.nom} aboie {son}\"    "
   ]
  },
  {
   "cell_type": "code",
   "execution_count": 22,
   "id": "84e6b1cc",
   "metadata": {},
   "outputs": [],
   "source": [
    "# Instance d'un nouvel objet\n",
    "toutou = Chien(\"Toutou\", 5)"
   ]
  },
  {
   "cell_type": "code",
   "execution_count": 23,
   "id": "ca9577ac",
   "metadata": {},
   "outputs": [
    {
     "data": {
      "text/plain": [
       "'Toutou est âgé de 5 ans'"
      ]
     },
     "execution_count": 23,
     "metadata": {},
     "output_type": "execute_result"
    }
   ],
   "source": [
    "# On appelle la méthode\n",
    "toutou.description()"
   ]
  },
  {
   "cell_type": "code",
   "execution_count": 24,
   "id": "2ad2757f",
   "metadata": {},
   "outputs": [
    {
     "data": {
      "text/plain": [
       "'Toutou aboie Waf waf'"
      ]
     },
     "execution_count": 24,
     "metadata": {},
     "output_type": "execute_result"
    }
   ],
   "source": [
    "# Idem, en passant un paramètre\n",
    "toutou.aboie(\"Waf waf\")"
   ]
  },
  {
   "cell_type": "markdown",
   "id": "fc413c26",
   "metadata": {},
   "source": [
    "## Accéder aux attributs d'instance en str"
   ]
  },
  {
   "cell_type": "code",
   "execution_count": 25,
   "id": "01ceee32",
   "metadata": {},
   "outputs": [
    {
     "name": "stdout",
     "output_type": "stream",
     "text": [
      "<__main__.Chien object at 0x0000018ED0B7B520>\n"
     ]
    }
   ],
   "source": [
    "print(toutou)"
   ]
  },
  {
   "cell_type": "markdown",
   "id": "48738962",
   "metadata": {},
   "source": [
    "Il faut remplacer la méthode `.description()` par `__str__()`"
   ]
  },
  {
   "cell_type": "code",
   "execution_count": 31,
   "id": "1a9b5402",
   "metadata": {},
   "outputs": [],
   "source": [
    "class Chien:\n",
    "    espece = \"Canis familiaris\"\n",
    "\n",
    "    def __init__(self, nom, age):\n",
    "        self.nom = nom\n",
    "        self.age = age\n",
    "        \n",
    "    # remplacer .description() par __str__()\n",
    "    def __str__(self):\n",
    "        return f\"{self.nom} est âgé de {self.age} ans\"\n",
    "\n",
    "    def aboie(self, son):\n",
    "        return f\"{self.nom} aboie {son}\"    "
   ]
  },
  {
   "cell_type": "code",
   "execution_count": 32,
   "id": "436cfd12",
   "metadata": {},
   "outputs": [
    {
     "name": "stdout",
     "output_type": "stream",
     "text": [
      "Toutou est âgé de 5 ans\n"
     ]
    }
   ],
   "source": [
    "toutou = Chien(\"Toutou\", 5)\n",
    "print(toutou)"
   ]
  },
  {
   "cell_type": "markdown",
   "id": "7d95c837",
   "metadata": {},
   "source": [
    "## La notion d'héritage\n",
    "\n",
    "L'héritage est le processus par lequel une classe prend les attributs et les méthodes d'une autre. Les classes nouvellements formés sont appelées **classes enfants** et les anciennes **classes parents**. \n",
    "\n",
    "Les classes enfants héritent de tous les attributs et les méthodes du parent, mais peuvent également spécifier des attributs et des méthodes qui leur sont propres. \n",
    "\n",
    "Les modifications apportées à la classe parente se propage automatiquement aux classes enfants. Cela se produit tant que l'attribut ou la méthode en cours de modification n'est pas remplacé dans la classe enfant. \n",
    "\n",
    "### Exemple :\n",
    "\n",
    "On modifie l'aboiement des chiens en fonction de leur race, en créant une classe enfant."
   ]
  },
  {
   "cell_type": "code",
   "execution_count": 47,
   "id": "cd45fa99",
   "metadata": {},
   "outputs": [],
   "source": [
    "class Chien :\n",
    "    espece = \"Canis familiaris\"\n",
    "    \n",
    "    def __init__(self, nom, age):\n",
    "        self.nom = nom\n",
    "        self.age = age\n",
    "        \n",
    "    def __str__(self):\n",
    "        return f\"{self.nom} est âgé de {self.age} ans\"\n",
    "\n",
    "    def aboie(self, son):\n",
    "        return f\"{self.nom} se met à aboyer : {son}\"   \n",
    "    \n",
    "# Classes enfants :\n",
    "class JackRussellTerrier(Chien):\n",
    "    pass\n",
    "\n",
    "class Dachshund(Chien):\n",
    "    pass\n",
    "\n",
    "class Bouledogue(Chien):\n",
    "    pass"
   ]
  },
  {
   "cell_type": "code",
   "execution_count": 50,
   "id": "d34512d1",
   "metadata": {},
   "outputs": [
    {
     "data": {
      "text/plain": [
       "__main__.Bouledogue"
      ]
     },
     "execution_count": 50,
     "metadata": {},
     "output_type": "execute_result"
    }
   ],
   "source": [
    "medor = Bouledogue(\"Medor\", 4)\n",
    "\n",
    "# On peut vérifier la classe\n",
    "type(medor)"
   ]
  },
  {
   "cell_type": "code",
   "execution_count": 40,
   "id": "ff069415",
   "metadata": {},
   "outputs": [
    {
     "data": {
      "text/plain": [
       "True"
      ]
     },
     "execution_count": 40,
     "metadata": {},
     "output_type": "execute_result"
    }
   ],
   "source": [
    "# Vérifier si la classe fait partie de la classe 'Chien'\n",
    "isinstance(medor, Chien)"
   ]
  },
  {
   "cell_type": "markdown",
   "id": "1549c700",
   "metadata": {},
   "source": [
    "#### Personnalisation des classes enfants\n",
    "\n",
    "Pour remplacer une méthode définie sur la classe parent, il faut définir une méthode avec le même nom sur la classe enfant."
   ]
  },
  {
   "cell_type": "code",
   "execution_count": 53,
   "id": "3f5fdbd0",
   "metadata": {},
   "outputs": [],
   "source": [
    "# Classes enfants :\n",
    "class JackRussellTerrier(Chien):\n",
    "    def aboie(self, son='Arf'):\n",
    "        return f\"{self.nom} aboie {son}\"\n",
    "\n",
    "class Dachshund(Chien):\n",
    "    pass\n",
    "\n",
    "class Bouledogue(Chien):\n",
    "    pass"
   ]
  },
  {
   "cell_type": "code",
   "execution_count": 54,
   "id": "74dae860",
   "metadata": {},
   "outputs": [
    {
     "data": {
      "text/plain": [
       "'Toutou aboie Arf'"
      ]
     },
     "execution_count": 54,
     "metadata": {},
     "output_type": "execute_result"
    }
   ],
   "source": [
    "toutou = JackRussellTerrier(\"Toutou\", 6)\n",
    "toutou.aboie()"
   ]
  },
  {
   "cell_type": "markdown",
   "id": "60a919d1",
   "metadata": {},
   "source": [
    "## Méthode `super()`\n",
    "\n",
    "Appelle d'une méthode de la classe parent dans la classe enfant."
   ]
  },
  {
   "cell_type": "code",
   "execution_count": 48,
   "id": "0c1ecf77",
   "metadata": {},
   "outputs": [],
   "source": [
    "class JackRussellTerrier(Chien):\n",
    "    def aboie(self, son='Arf'):\n",
    "        return super().aboie(son)"
   ]
  },
  {
   "cell_type": "code",
   "execution_count": 49,
   "id": "3b2cfda8",
   "metadata": {},
   "outputs": [
    {
     "data": {
      "text/plain": [
       "'Danny the Dog se met à aboyer : Arf'"
      ]
     },
     "execution_count": 49,
     "metadata": {},
     "output_type": "execute_result"
    }
   ],
   "source": [
    "dannythedog = JackRussellTerrier(\"Danny the Dog\", 6)\n",
    "dannythedog.aboie()"
   ]
  }
 ],
 "metadata": {
  "kernelspec": {
   "display_name": "Python 3 (ipykernel)",
   "language": "python",
   "name": "python3"
  },
  "language_info": {
   "codemirror_mode": {
    "name": "ipython",
    "version": 3
   },
   "file_extension": ".py",
   "mimetype": "text/x-python",
   "name": "python",
   "nbconvert_exporter": "python",
   "pygments_lexer": "ipython3",
   "version": "3.8.3"
  }
 },
 "nbformat": 4,
 "nbformat_minor": 5
}
