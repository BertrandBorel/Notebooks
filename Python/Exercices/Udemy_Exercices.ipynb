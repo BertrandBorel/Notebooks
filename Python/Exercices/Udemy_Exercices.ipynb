{
 "cells": [
  {
   "cell_type": "markdown",
   "metadata": {},
   "source": [
    "# <center> Python par la pratique : 101 Exercices Corrigés </center>"
   ]
  },
  {
   "cell_type": "markdown",
   "metadata": {},
   "source": [
    "##  Rappel : Tuple\n",
    "\n",
    "tuple = (1, 2, 3) \n",
    "\n",
    "ou \n",
    "\n",
    "tuple = 1, 2, 3"
   ]
  },
  {
   "cell_type": "markdown",
   "metadata": {},
   "source": [
    "## Conversion en str\n",
    "\n",
    "str(nombre) convertit la variable nombre en str"
   ]
  },
  {
   "cell_type": "code",
   "execution_count": 21,
   "metadata": {},
   "outputs": [
    {
     "name": "stdout",
     "output_type": "stream",
     "text": [
      "Le nombre est 15\n"
     ]
    }
   ],
   "source": [
    "nombre = 15\n",
    "print(\"Le nombre est \" + str(nombre))"
   ]
  },
  {
   "cell_type": "markdown",
   "metadata": {},
   "source": [
    "## Séparateur"
   ]
  },
  {
   "cell_type": "code",
   "execution_count": 22,
   "metadata": {},
   "outputs": [
    {
     "name": "stdout",
     "output_type": "stream",
     "text": [
      "2 + 6 + 3\n"
     ]
    }
   ],
   "source": [
    "a = 2\n",
    "b = 6\n",
    "c = 3\n",
    "\n",
    "print(a, b, c, sep=' + ')"
   ]
  },
  {
   "cell_type": "markdown",
   "metadata": {},
   "source": [
    "## Liste  des noms réservés par Python :\n",
    "\n",
    "<br>\n",
    "\n",
    "<center>- False \n",
    "- def \n",
    "- if \n",
    "- raise\n",
    "- None \n",
    "- del \n",
    "- import \n",
    "- return\n",
    "- True \n",
    "- elif \n",
    "- in \n",
    "- try\n",
    "- and \n",
    "- else \n",
    "- is\n",
    "- while\n",
    "- as \n",
    "- except \n",
    "- lambda \n",
    "- with\n",
    "- assert \n",
    "- finally \n",
    "- nonlocal \n",
    "- yield\n",
    "- break \n",
    "- for \n",
    "- not\n",
    "- class \n",
    "- from \n",
    "- or\n",
    "- continue \n",
    "- global \n",
    "- pass</center>"
   ]
  },
  {
   "cell_type": "markdown",
   "metadata": {},
   "source": [
    "## Type d'une variable\n",
    "\n",
    "Pour vérifier le type d'une variable, on peut utiliser la fonction `type` ou la fonction `isinstance`. On préfèrera la fonction `isinstance` qui gère l'héritage."
   ]
  },
  {
   "cell_type": "code",
   "execution_count": 23,
   "metadata": {},
   "outputs": [
    {
     "name": "stdout",
     "output_type": "stream",
     "text": [
      "La variable est une chaîne de caractères\n"
     ]
    }
   ],
   "source": [
    "prenom = \"Pierre\"\n",
    "\n",
    "if type(prenom) == str:\n",
    "    print(\"La variable est une chaîne de caractères\")\n",
    "\n",
    "prenom = 0\n",
    "\n",
    "if isinstance(prenom, str):\n",
    "    print(\"La variable est une chaîne de caractères\")"
   ]
  },
  {
   "cell_type": "markdown",
   "metadata": {},
   "source": [
    "## Fonction type():\n",
    "\n",
    "Pour connaître le type d'une variable.\n",
    "\n",
    "`type(variable)`"
   ]
  },
  {
   "cell_type": "code",
   "execution_count": 29,
   "metadata": {},
   "outputs": [
    {
     "name": "stdout",
     "output_type": "stream",
     "text": [
      "<class 'int'>\n",
      "<class 'float'>\n",
      "<class 'str'>\n"
     ]
    }
   ],
   "source": [
    "# Exemples :\n",
    "\n",
    "myInt = 50\n",
    "print(type(myInt))\n",
    "\n",
    "myFloat = 10.50\n",
    "print(type(myFloat))\n",
    "\n",
    "myString = \"My name is Adam\"\n",
    "print(type(myString))"
   ]
  },
  {
   "cell_type": "markdown",
   "metadata": {},
   "source": [
    "### Fonction replace :"
   ]
  },
  {
   "cell_type": "code",
   "execution_count": 1,
   "metadata": {},
   "outputs": [
    {
     "name": "stdout",
     "output_type": "stream",
     "text": [
      "Bonsoir tout le monde.\n"
     ]
    }
   ],
   "source": [
    "phrase = \"Bonjour tout le monde.\"\n",
    "nouvelle_phrase = phrase.replace(\"Bonjour\", \"Bonsoir\")\n",
    "print(nouvelle_phrase)"
   ]
  },
  {
   "cell_type": "markdown",
   "metadata": {},
   "source": [
    "Pour remplacer un mot par un autre en Python on utilise la fonction replace.\n",
    "\n",
    "Le premier argument est le mot à chercher et le second contient ce par quoi on veut le remplacer.\n",
    "\n",
    "La fonction replace va remplacer toutes les instances de la chaîne de caractère qu'elle trouve dans la phrase. Si vous avez 3 fois le mot \"Bonjour\", les trois occurrences du mot seront remplacées."
   ]
  },
  {
   "cell_type": "markdown",
   "metadata": {},
   "source": [
    "## Fonction split :\n",
    "\n",
    "`string.split(separator, maxsplit)`\n",
    "\n",
    "**La méthode split() prend deux paramètres:**\n",
    "\n",
    "- separator(Optionnel) : Spécifie le séparateur à utiliser lors de division de la chaîne. Par défaut, l’espace est un séparateur\n",
    "\n",
    "- maxsplit(Optionnel) : Spécifie le nombre de division à effectuer. La valeur par défaut est -1, qui signifier « toutes les occurrences »\n",
    "\n",
    "**La méthode split() divise une chaîne selon le séparateur spécifié et renvoie une liste de chaînes.**"
   ]
  },
  {
   "cell_type": "markdown",
   "metadata": {},
   "source": [
    "## Fonction join :\n",
    "\n",
    "La méthode join() est une méthode de chaîne et renvoie une chaîne dans laquelle les éléments de la séquence ont été joints par un séparateur str.\n",
    "\n",
    "`string_name .join (itérable)\n",
    "string_name : C'est le nom de la chaîne dans laquelle\n",
    "             les éléments joints de iterable seront\n",
    "             stockée.`\n",
    "             \n",
    "**Paramètres:** La méthode join() accepte des objets itérables – capables de renvoyer ses membres un par un. Quelques exemples sont **List, Tuple, String, Dictionary et Set**\n",
    "\n",
    "**Valeur de retour:** La méthode join() retourne une chaîne concaténée avec les éléments de iterable .\n",
    "\n",
    "**Erreur de type :** si l’itérable contient des valeurs non-chaîne, il déclenche une exception TypeError."
   ]
  },
  {
   "cell_type": "code",
   "execution_count": null,
   "metadata": {},
   "outputs": [],
   "source": [
    "# Mettre les éléments de cette liste dans l'ordre alphabétique\n",
    "chaine = \"Pierre, Julien, Anne, Marie, Lucien\"\n",
    " \n",
    "    \n",
    "    \n",
    "# solution\n",
    "chaine_liste = chaine.split(\", \")\n",
    "chaine_liste.sort()\n",
    "chaine_en_ordre = \", \".join(chaine_liste)\n",
    "print(chaine_en_ordre)"
   ]
  },
  {
   "cell_type": "markdown",
   "metadata": {},
   "source": [
    "## Fonction replace :\n",
    "\n",
    "Remplace une chaîne de caractères spécifiée par une autre chaîne de caractères spécifiée.\n",
    "\n",
    "La méthode `replace()` renvoie une copie de la chaîne dans laquelle l’ancienne chaîne est remplacée par la nouvelle chaîne . La chaîne d’origine ne change pas.\n",
    "\n",
    "Si l’ancienne chaîne n’est pas trouvée, elle renvoie la copie de la chaîne d’origine.\n",
    "\n",
    "`string.replace(oldStr, newStr, count)`"
   ]
  },
  {
   "cell_type": "code",
   "execution_count": 3,
   "metadata": {},
   "outputs": [
    {
     "name": "stdout",
     "output_type": "stream",
     "text": [
      "Hello World New Test\n"
     ]
    }
   ],
   "source": [
    "liste = \"Hello Wolrd New Test\"\n",
    "\n",
    "nouvelle_liste= liste.replace(\"Wolrd\", \"World\")\n",
    "print(nouvelle_liste)"
   ]
  },
  {
   "cell_type": "code",
   "execution_count": 4,
   "metadata": {},
   "outputs": [
    {
     "name": "stdout",
     "output_type": "stream",
     "text": [
      "I love Python as a programming language\n"
     ]
    }
   ],
   "source": [
    "# Remplacez le mot « Django » par « Python »:\n",
    "\n",
    "str = \"I love Django as a programming language\"\n",
    "res = str.replace(\"Django\", \"Python\")\n",
    "print(res)"
   ]
  },
  {
   "cell_type": "code",
   "execution_count": 13,
   "metadata": {},
   "outputs": [
    {
     "name": "stdout",
     "output_type": "stream",
     "text": [
      "Emily Emily Alex Bob\n",
      "Harry Emily Alex Bob\n"
     ]
    }
   ],
   "source": [
    "# Remplacez les deux premières occurrences du nom « Alex » par le nom « Emily »:\n",
    "\n",
    "str = \"Alex Alex Alex Bob\"\n",
    "\n",
    "res = str.replace(\"Alex\", \"Emily\", 2)\n",
    "print(res)\n",
    "\n",
    "\n",
    "prenom = res.replace(\"Emily\", \"Harry\", 1)\n",
    "print(prenom)"
   ]
  },
  {
   "cell_type": "markdown",
   "metadata": {},
   "source": [
    "## Fonction PI :\n",
    "\n",
    "Calculer le nombre pi :\n",
    "\n",
    "`import math\n",
    "math.pi`"
   ]
  },
  {
   "cell_type": "code",
   "execution_count": 30,
   "metadata": {},
   "outputs": [
    {
     "name": "stdout",
     "output_type": "stream",
     "text": [
      "4188.790204786391\n"
     ]
    }
   ],
   "source": [
    "import math\n",
    "\n",
    "rayon = 10.0\n",
    "volume = (4.0 * math.pi / 3.0) * (rayon ** 3)\n",
    "\n",
    "print(volume)"
   ]
  },
  {
   "cell_type": "code",
   "execution_count": 32,
   "metadata": {},
   "outputs": [
    {
     "name": "stdout",
     "output_type": "stream",
     "text": [
      "3.141592653589793\n"
     ]
    }
   ],
   "source": [
    "pi = math.pi\n",
    "print(pi)"
   ]
  },
  {
   "cell_type": "markdown",
   "metadata": {},
   "source": [
    "#### Pour aller plus loin :\n",
    "[Utiliser Pi en Python](https://www.delftstack.com/fr/howto/python/pi-in-python/)"
   ]
  },
  {
   "cell_type": "markdown",
   "metadata": {},
   "source": [
    "## Tester si un nombre est plus grand que 10 "
   ]
  },
  {
   "cell_type": "code",
   "execution_count": 33,
   "metadata": {},
   "outputs": [
    {
     "name": "stdout",
     "output_type": "stream",
     "text": [
      "a est plus grand que 10\n"
     ]
    }
   ],
   "source": [
    "# Solution :\n",
    "\n",
    "a = 12\n",
    "if a > 10:\n",
    "    print(\"a est plus grand que 10\")\n",
    "elif a < 10:\n",
    "    print(\"a est plus petit que 10\")"
   ]
  },
  {
   "cell_type": "markdown",
   "metadata": {},
   "source": [
    "## Créer une liste de nombres de 5 à"
   ]
  },
  {
   "cell_type": "code",
   "execution_count": 34,
   "metadata": {},
   "outputs": [
    {
     "name": "stdout",
     "output_type": "stream",
     "text": [
      "[5, 6, 7, 8, 9, 10, 11, 12, 13, 14, 15]\n"
     ]
    }
   ],
   "source": [
    "liste_de_nombres = range(5, 16)\n",
    "print(list(liste_de_nombres))"
   ]
  },
  {
   "cell_type": "markdown",
   "metadata": {},
   "source": [
    "**POINTS IMPORTANTS À RETENIR**\n",
    "\n",
    "- La fonction range permet de générer une liste de nombres rapidement.\n",
    "\n",
    "- Depuis Python 3, il faut utiliser la fonction list pour convertir le résultat de la fonction range en liste."
   ]
  },
  {
   "cell_type": "markdown",
   "metadata": {},
   "source": [
    "## Créer une liste de nombres pairs de 1 à 100\n",
    "\n",
    "On peut spécifier un écart à la fonction range en passant un nombre en troisième argument"
   ]
  },
  {
   "cell_type": "code",
   "execution_count": 35,
   "metadata": {},
   "outputs": [
    {
     "name": "stdout",
     "output_type": "stream",
     "text": [
      "[2, 4, 6, 8, 10, 12, 14, 16, 18, 20, 22, 24, 26, 28, 30, 32, 34, 36, 38, 40, 42, 44, 46, 48, 50, 52, 54, 56, 58, 60, 62, 64, 66, 68, 70, 72, 74, 76, 78, 80, 82, 84, 86, 88, 90, 92, 94, 96, 98, 100]\n"
     ]
    }
   ],
   "source": [
    "liste_nombre_pairs = range(2, 101, 2)\n",
    "print(list(liste_nombre_pairs))"
   ]
  },
  {
   "cell_type": "markdown",
   "metadata": {},
   "source": [
    "## Créer un générateur de lancer de dés \n",
    "\n",
    "**Note :** Pour récupérer un élément aléatoire dans une liste, on peut utiliser la fonction choice du module random."
   ]
  },
  {
   "cell_type": "code",
   "execution_count": 37,
   "metadata": {},
   "outputs": [
    {
     "name": "stdout",
     "output_type": "stream",
     "text": [
      "1\n",
      "2\n",
      "3\n",
      "6\n",
      "1\n",
      "4\n"
     ]
    }
   ],
   "source": [
    "from random import randint\n",
    "\n",
    "for x in range(6) :\n",
    "    de = randint(1, 6)\n",
    "    print(de)"
   ]
  },
  {
   "cell_type": "code",
   "execution_count": 38,
   "metadata": {},
   "outputs": [
    {
     "name": "stdout",
     "output_type": "stream",
     "text": [
      "2\n",
      "4\n",
      "6\n",
      "4\n",
      "2\n",
      "3\n"
     ]
    }
   ],
   "source": [
    "# Autre solution :\n",
    "\n",
    "import random\n",
    " \n",
    "for _ in range(6):\n",
    "    nombre = random.choice(range(1, 7))\n",
    "    print(nombre)"
   ]
  },
  {
   "cell_type": "markdown",
   "metadata": {},
   "source": [
    "Pour générer des nombres aléatoires, on utilise le **module random** qui dispose de plusieurs fonctions nous permettant de générer des nombres aléatoires.\n",
    "\n",
    "Celle que nous utilisons dans le cadre de cette exercice est **la fonction 'choice'**. Cette fonction nous permet de **choisir un élément aléatoire** parmi une liste de plusieurs éléments.\n",
    "\n",
    "Pour générer un nombre aléatoire de 1 à 6, nous utilisons donc la ligne de code suivante :\n",
    "\n",
    "`nombre = random.choice(range(1, 7))` \n",
    "\n",
    "Si vous ne voulez pas passer par une liste, vous pouvez également utiliser la fonction randint, comme ceci :\n",
    "\n",
    "`nombre = random.randint(1, 6)`"
   ]
  },
  {
   "cell_type": "markdown",
   "metadata": {},
   "source": [
    "## La méthode String count()\n",
    "\n",
    "La méthode count() renvoie le nombre de fois qu’une valeur spécifiée apparaît dans la chaîne.\n",
    "\n",
    "`string.count(value, start, end)`\n",
    "\n",
    "**Paramètres:**\n",
    "\n",
    "La méthode count() prend un seul paramètre:\n",
    "\n",
    "- value(Obligatoire) : La chaîne à rechercher.\n",
    "- start(Optionnel) : Un nombre indique la position où commencer la recherche. La valeur par défaut est 0.\n",
    "- end(Optionnel) : Un nombre indique la position où se termine la recherche. La valeur par défaut est la fin de la chaîne."
   ]
  },
  {
   "cell_type": "code",
   "execution_count": 42,
   "metadata": {},
   "outputs": [
    {
     "name": "stdout",
     "output_type": "stream",
     "text": [
      "2\n"
     ]
    }
   ],
   "source": [
    "phrase = \"I like Python, Python are my favorite language\"\n",
    "\n",
    "n = phrase.count(\"Python\")\n",
    "\n",
    "print(n)"
   ]
  },
  {
   "cell_type": "code",
   "execution_count": 53,
   "metadata": {},
   "outputs": [
    {
     "name": "stdout",
     "output_type": "stream",
     "text": [
      "1\n"
     ]
    }
   ],
   "source": [
    "# Commencer la recherche de la position 12 à 20:\n",
    "\n",
    "phrase = \"I like Python Python are my favorite language\"\n",
    "\n",
    "n = phrase.count(\"Python\", 12, 20)\n",
    "\n",
    "print(n)"
   ]
  },
  {
   "cell_type": "markdown",
   "metadata": {},
   "source": [
    "## Compter le nombre d'occurrences d'une lettre dans une phrase (fonction count)"
   ]
  },
  {
   "cell_type": "code",
   "execution_count": 54,
   "metadata": {},
   "outputs": [
    {
     "name": "stdout",
     "output_type": "stream",
     "text": [
      "4\n"
     ]
    }
   ],
   "source": [
    "lettre_a_chercher = \"o\"\n",
    "phrase = \"Bonjour tout le monde\"\n",
    "\n",
    "print(phrase.lower().count(lettre_a_chercher))"
   ]
  },
  {
   "cell_type": "markdown",
   "metadata": {},
   "source": [
    "Pour compter le nombre d'occurrences d'une lettre dans une chaîne de caractère, on utilise la **fonction count**.\n",
    "\n",
    "Afin d'éviter toute confusion quant aux majuscules et minuscules, nous prenons le soin de convertir auparavant notre chaîne de caractère en minuscule avec la **fonction lower**."
   ]
  },
  {
   "cell_type": "markdown",
   "metadata": {},
   "source": [
    "## Récupérer des éléments dans une liste\n",
    "\n",
    "Affichez le premier élément de la liste, le dernier, les deux premiers éléments et les deux derniers éléments."
   ]
  },
  {
   "cell_type": "code",
   "execution_count": 55,
   "metadata": {},
   "outputs": [
    {
     "name": "stdout",
     "output_type": "stream",
     "text": [
      "Pierre\n",
      "Marie\n",
      "['Pierre', 'Paul']\n",
      "['Paul', 'Marie']\n"
     ]
    }
   ],
   "source": [
    "ma_liste = [\"Pierre\", \"Paul\", \"Marie\"]\n",
    " \n",
    "print(ma_liste[0])\n",
    "print(ma_liste[-1])\n",
    "print(ma_liste[:2])\n",
    "print(ma_liste[-2:])"
   ]
  },
  {
   "cell_type": "markdown",
   "metadata": {},
   "source": [
    "**POINTS IMPORTANTS À RETENIR**\n",
    "\n",
    "- Pour récupérer plusieurs éléments à l'intérieur d'une liste, on utilise le slicing : `ma_liste[début:fin]`\n",
    "- Pour récupérer des éléments en partant de la fin, on peut utiliser des indices négatifs."
   ]
  },
  {
   "cell_type": "markdown",
   "metadata": {},
   "source": [
    "## Récupérer un élément sur deux dans une liste "
   ]
  },
  {
   "cell_type": "code",
   "execution_count": 56,
   "metadata": {},
   "outputs": [
    {
     "name": "stdout",
     "output_type": "stream",
     "text": [
      "[1, 3, 5, 7, 9]\n"
     ]
    }
   ],
   "source": [
    "# afficher un élément sur deux de la liste :\n",
    "\n",
    "ma_liste = [1, 2, 3, 4, 5, 6, 7, 8, 9, 10]\n",
    "\n",
    "print(ma_liste[::2])"
   ]
  },
  {
   "cell_type": "markdown",
   "metadata": {},
   "source": [
    "Encore une fois, nous utilisons ici le 'slicing' pour récupérer uniquement un élément sur deux dans notre liste.\n",
    "\n",
    "Nous pouvons indiquer en effet un troisième nombre entre les crochets et ce nombre indique le pas avec lequel nous voulons récupérer les éléments de notre liste.\n",
    "\n",
    "Là encore, pas besoin d'indiquer d'indice spécifique pour les deux premiers nombres : en n'indiquant aucun indice, le slicing commencera automatiquement au début de la liste, ira jusqu'à la fin, en prenant seulement un élément sur deux :\n",
    "\n",
    "`ma_liste[::2]`\n",
    "\n",
    "La syntaxe complète du slicing est donc la suivante :\n",
    "\n",
    "`ma_liste[indice_de_depart:indice_de_fin:pas]`"
   ]
  },
  {
   "cell_type": "code",
   "execution_count": 60,
   "metadata": {},
   "outputs": [
    {
     "name": "stdout",
     "output_type": "stream",
     "text": [
      "[4, 7, 10, 13, 16, 19, 22, 25]\n"
     ]
    }
   ],
   "source": [
    "# Si on veut récupérer les éléments de 4 à 25 avec un pas de 3 on fera donc :\n",
    "\n",
    "# ma_liste = range(100)\n",
    "\n",
    "ma_liste = [0, 1, 2, 3, 4, 5, 6, 7, 8, 9, 10, 11, 12, 13, 14, 15, 16, 17, 18, 19, 20, 21, 22, 23, 24, 25, 26, 27, 28]\n",
    "\n",
    "print(ma_liste[4:26:3])\n",
    "\n"
   ]
  },
  {
   "cell_type": "markdown",
   "metadata": {},
   "source": [
    "## Ajouter plusieurs éléments à une liste"
   ]
  },
  {
   "cell_type": "code",
   "execution_count": 61,
   "metadata": {},
   "outputs": [],
   "source": [
    "# Exercice \n",
    "# Ajouter les éléments [4, 5, 6]\n",
    "\n",
    "ma_liste = [1, 2, 3]"
   ]
  },
  {
   "cell_type": "code",
   "execution_count": 62,
   "metadata": {},
   "outputs": [
    {
     "name": "stdout",
     "output_type": "stream",
     "text": [
      "[1, 2, 3, 4, 5, 6]\n"
     ]
    }
   ],
   "source": [
    "# Correction\n",
    "\n",
    "ma_liste = [1, 2, 3]\n",
    "\n",
    "ma_liste.extend([4, 5, 6])\n",
    "\n",
    "print(ma_liste)"
   ]
  },
  {
   "cell_type": "markdown",
   "metadata": {},
   "source": [
    "Pour ajouter plusieurs éléments dans une liste en une seule fois, on utilise la **fonction extend**.\n",
    "\n",
    "En effet, si vous utilisez la **fonction append**, vous allez ajouter une liste à l'intérieur de votre liste."
   ]
  },
  {
   "cell_type": "markdown",
   "metadata": {},
   "source": [
    "<ins> Ainsi vous ne pouvez pas faire : </ins>\n",
    "\n",
    "`ma_liste.extend(4, 5, 6)`\n",
    "\n",
    "Il faut à la place faire :\n",
    "\n",
    "`ma_liste.extend([4, 5, 6])`"
   ]
  },
  {
   "cell_type": "markdown",
   "metadata": {},
   "source": [
    "## Récupérer les éléments communs à deux listes"
   ]
  },
  {
   "cell_type": "code",
   "execution_count": 64,
   "metadata": {},
   "outputs": [],
   "source": [
    "# Exercice : récupérer les éléments communs des deux listes\n",
    "\n",
    "liste_01 = [1, 5, 6, 7, 9, 10, 11]\n",
    "liste_02 = [2, 3, 5, 7, 8, 10, 12]"
   ]
  },
  {
   "cell_type": "code",
   "execution_count": 65,
   "metadata": {},
   "outputs": [
    {
     "name": "stdout",
     "output_type": "stream",
     "text": [
      "[10, 5, 7]\n"
     ]
    }
   ],
   "source": [
    "# Correction :\n",
    "\n",
    "liste_01 = [1, 5, 6, 7, 9, 10, 11]\n",
    "liste_02 = [2, 3, 5, 7, 8, 10, 12]\n",
    " \n",
    "sliste_01 = set(liste_01)\n",
    "sliste_02 = set(liste_02)\n",
    " \n",
    "intersect = sliste_01.intersection(sliste_02)\n",
    "print(list(intersect))"
   ]
  },
  {
   "cell_type": "markdown",
   "metadata": {},
   "source": [
    "Pour **convertir une liste en set**, rien de plus facile, on utilise la **fonction set** :\n",
    "\n",
    "`sliste_01 = set(liste_01)`\n",
    "\n",
    "Une fois que nos deux listes sont converties en set, nous pouvons utiliser des méthodes pour récupérer **l'intersection**, **la différence** et plein d'autres opérations du même style :\n",
    "\n",
    "`intersect = sliste_01.intersection(sliste_02`\n",
    "\n",
    "Il ne nous reste plus qu'à **re-convertir notre set résultant en liste avec la fonction list** :\n",
    "\n",
    "`resultat = list(intersect)`\n",
    "\n",
    "<br>\n",
    "\n",
    "**<ins>POINTS IMPORTANTS À RETENIR </ins>**\n",
    "\n",
    "- Pour convertir une liste en set, on utilise la fonction set.\n",
    "\n",
    "- Pour récupérer les éléments communs à deux set, on utilise la méthode intersection."
   ]
  },
  {
   "cell_type": "markdown",
   "metadata": {},
   "source": [
    "## Les Sets en Python\n",
    "\n",
    "Set(ou ensemble en français) est une collection d’éléments non ordonnée. Chaque élément du Set est **unique** (pas de doublons) et doit être **immuable** (ne peut pas être modifié). Pourtant, un Set lui-même est **modifiable**. Nous pouvons y ajouter ou en supprimer des éléments.\n",
    "\n",
    "Les Sets peuvent également être utilisés pour effectuer des opérations mathématiques comme l’union, l’intersection, la différence symétrique, etc.\n",
    "\n",
    "En Python, les Sets sont écrits avec des accolades {}. L’exemple suivant crée un Set :\n",
    "\n",
    "`mySet = {\"A\", \"B\", \"C\"}\n",
    "print(mySet)`\n",
    "\n",
    "### Ajouter des éléments\n",
    "\n",
    "Pour ajouter un élément à un Set, utilisez la méthode `add()`. Pour ajouter plusieurs éléments à un Set, utilisez la méthode `update()`.\n",
    "\n",
    "L’exemple suivant ajoute un élément à un Set, en utilisant la méthode `add()`:\n",
    "\n",
    "`mySet = {\"A\", \"B\", \"C\"}\n",
    "mySet.add(\"D\")\n",
    "print(mySet)`\n",
    "\n",
    "### Supprimer un élément du Set\n",
    "\n",
    "Pour supprimer un élément d’un Set, utilisez la méthode `remove()` ou `discard()`.\n",
    "\n",
    "**L’exemple suivant supprime l’élément « B » en utilisant la méthode `remove()`:**\n",
    "\n",
    "`mySet = {\"A\", \"B\", \"C\"}\n",
    "mySet.remove(\"B\")\n",
    "print(mySet)`\n",
    "\n",
    "**L’exemple suivant supprime l’élément « B » en utilisant la méthode `discard()`:**\n",
    "\n",
    "`mySet = {\"A\", \"B\", \"C\"}\n",
    "mySet.discard(\"B\")\n",
    "print(mySet)`"
   ]
  },
  {
   "cell_type": "markdown",
   "metadata": {},
   "source": [
    "## Trier une liste de tuples "
   ]
  },
  {
   "cell_type": "code",
   "execution_count": null,
   "metadata": {},
   "outputs": [],
   "source": [
    "# Exercice : trier cette liste en fonction des notes des films\n",
    "\n",
    "liste = [(\"Harry Potter\", 5), (\"Wall-E\", 3), (\"Blade Runner\", 4)]"
   ]
  },
  {
   "cell_type": "code",
   "execution_count": null,
   "metadata": {},
   "outputs": [],
   "source": [
    "# Solution\n",
    "\n",
    "liste = [(\"Harry Potter\", 5), (\"Wall-E\", 3), (\"Blade Runner\", 4)]\n",
    "liste.sort(key=lambda x: x[1])\n",
    "print(liste)"
   ]
  },
  {
   "cell_type": "markdown",
   "metadata": {},
   "source": [
    "**EXPLICATION**\n",
    "\n",
    "Pas besoin d'aller chercher très loin pour résoudre cet exercice. En effet, la fonction sort accepte un argument dénommé **'key'**, qui va vous permettre de trier la liste selon des critères spécifiques.\n",
    "\n",
    "Dans ce cas-ci, nous donnons comme argument au paramètre key une **fonction anonyme**, qui elle même nous retourne l'élément 1 de la variable qui est passée à x.\n",
    "\n",
    "L'élément 1 du tuple correspond à la note du film, la fonction sort va donc trier les éléments de notre liste en fonction de cette élément et donc trier notre liste en fonction de la note accordée à chaque film.\n",
    "\n",
    "**POINTS IMPORTANTS À RETENIR**\n",
    "\n",
    "- La fonction sort accepte un argument **'key'**, auquel nous pouvons passer une fonction lambda pour trier une liste selon des critères spécifiques."
   ]
  },
  {
   "cell_type": "markdown",
   "metadata": {},
   "source": [
    "## Récupérer une valeur dans un dictionnaire"
   ]
  },
  {
   "cell_type": "code",
   "execution_count": null,
   "metadata": {},
   "outputs": [],
   "source": [
    "# Exercice : récupérer le prénom Pierre.\n",
    "employes = {\"01\": {\"identite\": {\"prenom\": \"Pierre\", \"nom\": \"Dupont\"}}}\n"
   ]
  },
  {
   "cell_type": "code",
   "execution_count": 1,
   "metadata": {},
   "outputs": [
    {
     "name": "stdout",
     "output_type": "stream",
     "text": [
      "Pierre\n"
     ]
    }
   ],
   "source": [
    "# Solution :\n",
    "\n",
    "employes = {\"01\": {\"identite\": {\"prenom\": \"Pierre\", \"nom\": \"Dupont\"}}}\n",
    "print(employes.get(\"01\", {}).get(\"identite\", {}).get(\"prenom\", \"valeur inconnue\"))"
   ]
  },
  {
   "cell_type": "markdown",
   "metadata": {},
   "source": [
    "Pour récupérer une valeur dans un dictionnaire, on peut tout d'abord utiliser les crochets de cette façon :\n",
    "\n",
    "`employes[\"01\"]`\n",
    "\n",
    "L'inconvénient de cette façon de faire c'est que notre script va retourner une erreur si la clé n'existe pas.\n",
    "\n",
    "Afin de palier à ce problème nous utilisons à la place la méthode get, qui va par défaut nous retourner None si la clé n'existe pas.\n",
    "\n",
    "Mais encore mieux, il est possible de spécifier un élément par défaut à retourner, autre que None, si la clé n'existe pas.\n",
    "\n",
    "C'est ce principe que nous mettons en place ici. Nous récupérons la première clé et si celle-ci n'existe pas, nous retournons un dictionnaire vide :\n",
    "\n",
    "`employes.get(\"01\", {})` \n",
    "\n",
    "Ainsi, nous pouvons chaîner plusieurs get à la suite, sans risquer de faire planter le script. En effet, si nous ne retournions par de valeur par défaut et que la clé n'existe pas dans le dictionnaire, la 2e méthode get ne fonctionnerait pas car elle s'exécuterait sur None.\n",
    "\n",
    "Donc si la première clé n'est pas trouvée, le get va agir sur un dictionnaire vide et ainsi de suite, évitant tout risque d'erreur.\n",
    "\n",
    "**POINTS IMPORTANTS À RETENIR**\n",
    "\n",
    "Pour récupérer la valeur associée à une clé dans un dictionnaire, on peut utiliser la fonction get, qui permet de spécifier une valeur par défaut à retourner si la clé n'est pas trouvée.\n"
   ]
  },
  {
   "cell_type": "markdown",
   "metadata": {},
   "source": [
    "##  Additionner les valeurs d'un dictionnaire"
   ]
  },
  {
   "cell_type": "code",
   "execution_count": null,
   "metadata": {},
   "outputs": [],
   "source": [
    "# Exercice : obtenir une sortie égale à 8700\n",
    "\n",
    "employes = {\"Pierre\": 2500, \"Marie\": 5000, \"Julien\": 1200}"
   ]
  },
  {
   "cell_type": "code",
   "execution_count": 3,
   "metadata": {},
   "outputs": [],
   "source": [
    "# Solution :\n",
    "\n",
    "employes = {\"Pierre\": 2500, \"Marie\": 5000, \"Julien\": 1200}\n",
    "\n",
    "print(sum(employes.values()))"
   ]
  },
  {
   "cell_type": "markdown",
   "metadata": {},
   "source": [
    "Pour récupérer toutes les valeurs d'un dictionnaire, on peut utiliser la **méthode values**.\n",
    "\n",
    "Et pour obtenir la somme de toutes ces valeurs, rien de plus simple que d'utiliser la **fonction sum**."
   ]
  },
  {
   "cell_type": "markdown",
   "metadata": {},
   "source": [
    "## Trouver l'erreur de module"
   ]
  },
  {
   "cell_type": "code",
   "execution_count": null,
   "metadata": {},
   "outputs": [],
   "source": [
    "# Exercice :\n",
    "\n",
    "import random\n",
    " \n",
    "nombre_aleatoire = random.randint(0, 5)\n",
    "print(nombre_aleatoire)"
   ]
  },
  {
   "cell_type": "code",
   "execution_count": 5,
   "metadata": {},
   "outputs": [
    {
     "name": "stdout",
     "output_type": "stream",
     "text": [
      "3\n"
     ]
    }
   ],
   "source": [
    "# Solution :\n",
    "\n",
    "from random import randint\n",
    "\n",
    "nombre_aleatoire = randint(0, 5)\n",
    "print(nombre_aleatoire)"
   ]
  },
  {
   "cell_type": "markdown",
   "metadata": {},
   "source": [
    "**POINTS IMPORTANTS À RETENIR**\n",
    "\n",
    "Pour utiliser une fonction à l'intérieur d'un module, il ne faut pas oublier de préfixer la fonction par le nom du module.\n",
    "\n",
    "Pour importer une fonction à l'intérieur d'un module directement dans l'espace global de notre script, on peut utiliser la syntaxe `from module import fonction`."
   ]
  },
  {
   "cell_type": "markdown",
   "metadata": {},
   "source": [
    "## Trouver l'erreur de syntaxe "
   ]
  },
  {
   "cell_type": "code",
   "execution_count": null,
   "metadata": {},
   "outputs": [],
   "source": [
    "# Exercice :\n",
    "\n",
    "liste = [1, 1, 4, 3, 3, 2, 6, 7, 7, 9, 2]\n",
    "resultat = [i*(i+1%(i*5) for i in sorted(list(set(liste))]\n",
    "print(resultat)"
   ]
  },
  {
   "cell_type": "code",
   "execution_count": 6,
   "metadata": {},
   "outputs": [
    {
     "name": "stdout",
     "output_type": "stream",
     "text": [
      "[2, 6, 12, 20, 42, 56, 90]\n"
     ]
    }
   ],
   "source": [
    "# Solution :\n",
    "\n",
    "liste = [1, 1, 4, 3, 3, 2, 6, 7, 7, 9, 2]\n",
    "resultat = [i*(i+1%(i*5)) for i in sorted(list(set(liste)))]\n",
    "print(resultat)"
   ]
  },
  {
   "cell_type": "markdown",
   "metadata": {},
   "source": [
    "Une bonne façon de vérifier si vous n'avez pas oublié une parenthèse ou un crochet est de **compter dans un sens** le nombre de parenthèse / crochet ouvrant, et ensuite de **compter dans l'autre sens** si vous avez bien le même nombre de parenthèse / crochet fermant."
   ]
  },
  {
   "cell_type": "markdown",
   "metadata": {},
   "source": [
    "## Importer une variable d'un autre module "
   ]
  },
  {
   "cell_type": "code",
   "execution_count": null,
   "metadata": {},
   "outputs": [],
   "source": [
    "# Solution \n",
    "\n",
    "import constants\n",
    "print(constants.nom)"
   ]
  },
  {
   "cell_type": "markdown",
   "metadata": {},
   "source": [
    "Pour importer une variable d'un module, il suffit d'importer le module dans lequel la variable est contenue."
   ]
  },
  {
   "cell_type": "markdown",
   "metadata": {},
   "source": [
    "## Trouver l'erreur : variable égale à 0 "
   ]
  },
  {
   "cell_type": "code",
   "execution_count": 2,
   "metadata": {},
   "outputs": [],
   "source": [
    "# Exercice : afficher a en modifiant la condition\n",
    "\n",
    "a = 0\n",
    "if a :\n",
    "    print(a)"
   ]
  },
  {
   "cell_type": "code",
   "execution_count": 1,
   "metadata": {},
   "outputs": [
    {
     "name": "stdout",
     "output_type": "stream",
     "text": [
      "0\n"
     ]
    }
   ],
   "source": [
    "# SOLUTION\n",
    "\n",
    "a = 0\n",
    "if a is not None:\n",
    "    print(a)"
   ]
  },
  {
   "cell_type": "markdown",
   "metadata": {},
   "source": [
    "Pour rapidement vérifier qu'une variable contient des données, on peut utiliser une structure conditionnelle de base.\n",
    "\n",
    "Par exemple pour vérifier qu'une liste n'est pas vide, on peut faire :"
   ]
  },
  {
   "cell_type": "code",
   "execution_count": 3,
   "metadata": {},
   "outputs": [
    {
     "name": "stdout",
     "output_type": "stream",
     "text": [
      "La liste n'est pas vide\n"
     ]
    }
   ],
   "source": [
    "ma_liste = [1, 2, 3]\n",
    "if ma_liste:\n",
    "    print(\"La liste n'est pas vide\")"
   ]
  },
  {
   "cell_type": "markdown",
   "metadata": {},
   "source": [
    "Au lieu de :"
   ]
  },
  {
   "cell_type": "code",
   "execution_count": 4,
   "metadata": {},
   "outputs": [
    {
     "name": "stdout",
     "output_type": "stream",
     "text": [
      "La liste n'est pas vide\n"
     ]
    }
   ],
   "source": [
    "ma_liste = [1, 2, 3]\n",
    "if len(ma_liste) > 0:\n",
    "    print(\"La liste n'est pas vide\")"
   ]
  },
  {
   "cell_type": "markdown",
   "metadata": {},
   "source": [
    "Vous conviendrez que la première façon de faire est plus **concise est lisible**. Cependant, en prenant l'habitude de cette syntaxe, on peut tomber dans l'écueil qu'il fallait résoudre dans cet exercice.\n",
    "\n",
    "En effet, imaginons qu'à la place d'une liste, nous récupérons cette fois-ci un nombre entier. **Si le nombre récupéré est 0, alors la structure conditionnelle ne sera pas vérifiée, car 0 est équivalant à False**.\n",
    "\n",
    "C'est pourquoi dans ce cas-ci, nous ne pouvons pas utiliser la syntaxe simplifiée `if variable`, il faut donc vérifier explicitement que la variable n'est pas égale à None :"
   ]
  },
  {
   "cell_type": "code",
   "execution_count": 5,
   "metadata": {},
   "outputs": [
    {
     "name": "stdout",
     "output_type": "stream",
     "text": [
      "La variable n'est pas égale à None\n"
     ]
    }
   ],
   "source": [
    "a = 0\n",
    "if a is not None:\n",
    "    print(\"La variable n'est pas égale à None\")"
   ]
  },
  {
   "cell_type": "markdown",
   "metadata": {},
   "source": [
    "**POINTS IMPORTANTS À RETENIR**\n",
    "\n",
    "- Le nombre 0 est équivalant au boolean False.\n",
    "\n",
    "- Pour vérifier explicitement qu'une variable n'est pas égale à None, il vaut mieux utiliser la syntaxe `if variable is not None`."
   ]
  },
  {
   "cell_type": "markdown",
   "metadata": {},
   "source": [
    "## Afficher le chemin du script Python en cours"
   ]
  },
  {
   "cell_type": "code",
   "execution_count": null,
   "metadata": {},
   "outputs": [],
   "source": [
    "import os\n",
    "\n",
    "fichier_courant = __file__\n",
    "\n",
    "dossier_parent = os.path.dirbame(fichier_courant) \n",
    "dossier_image = os.path.join(dossier_parent, \"images\")"
   ]
  },
  {
   "cell_type": "markdown",
   "metadata": {},
   "source": [
    "## Récupérer l'extension d'un fichier"
   ]
  },
  {
   "cell_type": "code",
   "execution_count": null,
   "metadata": {},
   "outputs": [],
   "source": [
    "# Exercice : \n",
    "\n",
    "import os\n",
    "\n",
    "fichier = \"C:/Python36/python.exe\""
   ]
  },
  {
   "cell_type": "code",
   "execution_count": null,
   "metadata": {},
   "outputs": [],
   "source": [
    "# Solution :\n",
    "\n",
    "import os\n",
    " \n",
    "fichier = \"C:/Python36/python.exe\"\n",
    " \n",
    "extension = os.path.splitext(fichier)[1]\n",
    "extension = extension.strip(\".\")\n",
    " \n",
    "print(extension)"
   ]
  },
  {
   "cell_type": "markdown",
   "metadata": {},
   "source": [
    "Dans cet exercice, nous utilisons le **module os**, qui contient déjà des fonctions qui nous permettent de gérer ce genre de situations.\n",
    "\n",
    "Depuis le module os, nous pouvons importer le **module path**, qui donne accès à tout un tas de fonctions permettant de **manipuler des chemins**.\n",
    "\n",
    "La **fonction splitext** nous permet de **séparer un chemin de son extension**. Cette fonction nous retourne donc un **tuple**, qui contient le chemin sans l'extension en premier élément, et l'extension seule en deuxième élément.\n",
    "\n",
    "Pour récupérer l'extension sans le point, il ne nous reste qu'à utiliser la **fonction strip**."
   ]
  },
  {
   "cell_type": "markdown",
   "metadata": {},
   "source": [
    "**POINTS IMPORTANTS À RETENIR**\n",
    "\n",
    "- Pour manipuler des chemins de dossier, on utilise le **module os.path**.\n",
    "\n",
    "- Pour séparer un chemin de son extension, on utilise la **fonction os.path.splitext**."
   ]
  },
  {
   "cell_type": "markdown",
   "metadata": {},
   "source": [
    "## Accéder à une variable d'environnement"
   ]
  },
  {
   "cell_type": "code",
   "execution_count": null,
   "metadata": {},
   "outputs": [],
   "source": [
    "# Solution :\n",
    "\n",
    "import os\n",
    " \n",
    "home_var = os.environ.get(\"HOME\")\n",
    "print(home_var)"
   ]
  },
  {
   "cell_type": "markdown",
   "metadata": {},
   "source": [
    "## Calculer le temps d'exécution d'un script"
   ]
  },
  {
   "cell_type": "code",
   "execution_count": null,
   "metadata": {},
   "outputs": [],
   "source": [
    "# Exercice\n",
    "\n",
    "_ = [i*2 for i in range(9999999)]\n",
    "print(\"Temps d'exécution: s\")"
   ]
  },
  {
   "cell_type": "code",
   "execution_count": 8,
   "metadata": {},
   "outputs": [
    {
     "name": "stdout",
     "output_type": "stream",
     "text": [
      "Temps d'exécution: 2.0594887733459473 s\n"
     ]
    }
   ],
   "source": [
    "# Solution\n",
    "\n",
    "from time import time\n",
    "\n",
    "a = time()\n",
    "_ = [i*2 for i in range(9999999)]\n",
    "print(f\"Temps d'exécution: {time() - a} s\")"
   ]
  },
  {
   "cell_type": "markdown",
   "metadata": {},
   "source": [
    "## Formater une chaîne de caractères"
   ]
  },
  {
   "cell_type": "code",
   "execution_count": 10,
   "metadata": {},
   "outputs": [
    {
     "name": "stdout",
     "output_type": "stream",
     "text": [
      "Bonjour je m'appelle \n"
     ]
    }
   ],
   "source": [
    "# Exercice :\n",
    "\n",
    "prenom = \"Pierre\"\n",
    "nom = \"Dupont\"\n",
    "print(\"Bonjour je m'appelle \")"
   ]
  },
  {
   "cell_type": "code",
   "execution_count": 9,
   "metadata": {},
   "outputs": [
    {
     "name": "stdout",
     "output_type": "stream",
     "text": [
      "Bonjour je m'appelle Pierre Dupont\n",
      "Bonjour je m'appelle Pierre Dupont\n"
     ]
    }
   ],
   "source": [
    "# Solution :\n",
    "\n",
    "prenom = \"Pierre\"\n",
    "nom = \"Dupont\"\n",
    " \n",
    "print(f\"Bonjour je m'appelle {prenom} {nom}\")\n",
    " \n",
    "# Solution alternative avec la méthode format\n",
    "print(\"Bonjour je m'appelle {prenom} {nom}\".format(prenom=prenom, nom=nom))"
   ]
  },
  {
   "cell_type": "markdown",
   "metadata": {},
   "source": [
    "Il est possible de réussir cet exercice sans utiliser les f-string ou la fonction `format`, en concaténant des chaînes de caractères avec l'opérateur `+`.\n",
    "\n",
    "Il est cependant plus facile d'utiliser les f-string pour insérer des éléments à l'intérieur d'une chaîne de caractères.\n",
    "\n",
    "Pour définir une chaîne de caractères comme une f-string, il suffit de précéder le premier guillemet de la lettre f :\n",
    "\n",
    "`f\"Bonjour je m'appelle\"`\n",
    "\n",
    "On peut ensuite insérer des variables à l'intérieur de la chaîne grâce aux accolades :\n",
    "\n",
    "`f\"Bonjour je m'appelle {prenom} {nom}\"`"
   ]
  },
  {
   "cell_type": "markdown",
   "metadata": {},
   "source": [
    "**POINT IMPORTANT À RETENIR**\n",
    "\n",
    "Pour concaténer des chaînes de caractères, on peut utiliser une f-string, pour insérer directement à l'intérieur de la chaîne des variables grâce aux accolades."
   ]
  },
  {
   "cell_type": "markdown",
   "metadata": {},
   "source": [
    "## Inverser les lettres d'un mot"
   ]
  },
  {
   "cell_type": "code",
   "execution_count": null,
   "metadata": {},
   "outputs": [],
   "source": [
    "# Exercice \n",
    "\n",
    "mot = \"Udemy\""
   ]
  },
  {
   "cell_type": "code",
   "execution_count": 11,
   "metadata": {},
   "outputs": [
    {
     "name": "stdout",
     "output_type": "stream",
     "text": [
      "Ymedu\n"
     ]
    }
   ],
   "source": [
    "# SOLUTION\n",
    "\n",
    "mot = \"Udemy\"\n",
    " \n",
    "resultat = []\n",
    " \n",
    "for lettre in reversed(mot):\n",
    "    resultat.append(lettre)\n",
    " \n",
    "resultat_formate = \"\".join(resultat)\n",
    "print(resultat_formate.capitalize())"
   ]
  },
  {
   "cell_type": "code",
   "execution_count": 12,
   "metadata": {},
   "outputs": [
    {
     "name": "stdout",
     "output_type": "stream",
     "text": [
      "Ymedu\n"
     ]
    }
   ],
   "source": [
    "# Solution en une seule ligne (avec les slices) :\n",
    "\n",
    "mot = \"Udemy\"\n",
    "print(\"Udemy\"[::-1].capitalize())"
   ]
  },
  {
   "cell_type": "markdown",
   "metadata": {},
   "source": [
    "Tout d'abord, pour inverser l'ordre des lettres, nous utilisons la **fonction reversed**.\n",
    "\n",
    "Cette fonction nous retourne un object 'reversed', qui est en fait un **itérateur**. Nous pouvons donc passer à travers cet itérateur avec une **boucle for** et ajouter chaque lettre dans une liste.\n",
    "\n",
    "Nous nous retrouvons ainsi avec une liste contenant chaque lettre dans **l'ordre inverse**.\n",
    "\n",
    "Pour terminer, nous pouvons utiliser la **fonction join** pour joindre les éléments de la liste ensemble et la **fonction capitalize** pour mettre une majuscule au début du mot.\n",
    "\n",
    "<br>\n",
    "\n",
    "**POINTS IMPORTANTS À RETENIR**\n",
    "\n",
    "- Pour inverser une chaîne de caractère, on peut utiliser le **slicing [::-1]** ou la **fonction reversed**.\n",
    "- Pour joindre les éléments d'une liste ensemble, on utilise la **fonction join**.\n",
    "- Pour mettre une majuscule sur la première lettre d'un mot, on utilise la **fonction capitalize**."
   ]
  },
  {
   "cell_type": "markdown",
   "metadata": {},
   "source": [
    "## Mélanger les lettres d'un mot (de manière aléatoire)"
   ]
  },
  {
   "cell_type": "code",
   "execution_count": null,
   "metadata": {},
   "outputs": [],
   "source": [
    "# Exercice :\n",
    "\n",
    "mot = \"Bonjour\""
   ]
  },
  {
   "cell_type": "code",
   "execution_count": 19,
   "metadata": {},
   "outputs": [
    {
     "name": "stdout",
     "output_type": "stream",
     "text": [
      "Orunboj\n"
     ]
    }
   ],
   "source": [
    "# Ma solution :\n",
    "\n",
    "import random\n",
    "\n",
    "# mot initial\n",
    "mot = \"Bonjour\"\n",
    "\n",
    "# je mets le mot en minuscules\n",
    "mot = mot.lower()\n",
    "\n",
    "# j'instance une liste vide\n",
    "liste = []\n",
    "\n",
    "# j'ajoute chaque lettre à la liste\n",
    "for element in mot :\n",
    "    liste.append(element)\n",
    "\n",
    "# randomization \n",
    "random.shuffle(liste)\n",
    "\n",
    "# je joins chaque élément \n",
    "liste = \"\".join(liste)\n",
    "\n",
    "# je mets la première lettre en majuscule\n",
    "nouvelle_liste = liste.title()\n",
    "\n",
    "# affichage du mot\n",
    "print(nouvelle_liste)"
   ]
  },
  {
   "cell_type": "code",
   "execution_count": 18,
   "metadata": {},
   "outputs": [
    {
     "name": "stdout",
     "output_type": "stream",
     "text": [
      "Nouorjb\n"
     ]
    }
   ],
   "source": [
    "# Solution :\n",
    "\n",
    "import random\n",
    "\n",
    "mot = \"Bonjour\"\n",
    "\n",
    "# On transforme le mot en liste\n",
    "mot = list(mot)\n",
    "\n",
    "# On randomize la liste\n",
    "random.shuffle(mot)\n",
    "\n",
    "# On joint les lettres (les éléments de la liste) et on met la première lettre en majuscule\n",
    "mot_random = \"\".join(mot).capitalize()\n",
    "\n",
    "print(mot_random)"
   ]
  },
  {
   "cell_type": "markdown",
   "metadata": {},
   "source": [
    "Pour facilement mélanger les lettres d'un mot, nous allons utiliser le **module random** et la **fonction shuffle**.\n",
    "\n",
    "La fonction shuffle fonctionne sur des listes et permet de **mélanger les éléments de la liste** qui lui est passée.\n",
    "\n",
    "Nous allons donc commencer par convertir notre mot en liste avec la **fonction list**.\n",
    "\n",
    "Nous utilisons ensuite la fonction shuffle du module random pour mélanger la liste.\n",
    "\n",
    "Il ne reste plus qu'à **rassembler tous les éléments de la liste** avec la **fonction join** et de remettre la majuscule à la bonne place avec la **fonction capitalize** :\n",
    "\n",
    "<br>\n",
    "\n",
    "**POINTS IMPORTANTS À RETENIR**\n",
    "\n",
    "- Pour mélanger les éléments d'une liste, on utilise la **fonction shuffle du module random**.\n",
    "- Pour convertir une chaîne de caractères en liste, on utilise la **fonction list**."
   ]
  },
  {
   "cell_type": "markdown",
   "metadata": {},
   "source": [
    "## Tronquer le nombre de décimales"
   ]
  },
  {
   "cell_type": "code",
   "execution_count": null,
   "metadata": {},
   "outputs": [],
   "source": [
    "# Exercice : arrondir la variable 'nombre' avec la variable 'decimales'\n",
    "\n",
    "nombre = 2938.48872\n",
    "decimales = 3\n",
    "\n",
    "print(\"Nombre tronqué: \")"
   ]
  },
  {
   "cell_type": "code",
   "execution_count": 25,
   "metadata": {},
   "outputs": [
    {
     "name": "stdout",
     "output_type": "stream",
     "text": [
      "Nombre tronqué: 2938.489\n"
     ]
    }
   ],
   "source": [
    "# Ma solution\n",
    "\n",
    "nombre = 2938.48872\n",
    "decimales = 3\n",
    "\n",
    "arrondi = round(nombre, decimales)\n",
    "\n",
    "print(f\"Nombre tronqué: {arrondi}\")\n"
   ]
  },
  {
   "cell_type": "code",
   "execution_count": 27,
   "metadata": {},
   "outputs": [
    {
     "name": "stdout",
     "output_type": "stream",
     "text": [
      "Nombre tronqué: 2938.489\n",
      "Nombre tronqué: 2938.489\n"
     ]
    }
   ],
   "source": [
    "# Solution :\n",
    "\n",
    "nombre = 2938.48872\n",
    "decimales = 3\n",
    " \n",
    "print(f\"Nombre tronqué: {nombre:.{decimales}f}\")\n",
    " \n",
    "# Avec la méthode format\n",
    "print(\"Nombre tronqué: {nombre:.{decimales}f}\".format(nombre=nombre, decimales=decimales))"
   ]
  },
  {
   "cell_type": "markdown",
   "metadata": {},
   "source": [
    "Il est possible d'utiliser la syntaxe suivante pour **tronquer le nombre de décimales** après la virgule d'un nombre :\n",
    "\n",
    "`{nombre:.3f}`\n",
    "\n",
    "`nombre` correspond ici à la variable définit au début du script.\n",
    "\n",
    "Nous avons ensuite **deux points, un point et un nombre** qui détermine le nombre de décimales après la virgule que l'on souhaite conserver (ici 3) et pour finir la **lettre f**."
   ]
  },
  {
   "cell_type": "markdown",
   "metadata": {},
   "source": [
    "On peut tronquer directement un nombre pour n'afficher qu'une certaine partie des décimales après la virgule grâce aux f-string et la syntaxe `{nombre:.3f}`."
   ]
  },
  {
   "cell_type": "markdown",
   "metadata": {},
   "source": [
    "Pour aller plus loin : [How to round decimal digits up and down in Python?](https://kodify.net/python/math/round-decimals/)"
   ]
  },
  {
   "cell_type": "markdown",
   "metadata": {},
   "source": [
    "## Tester une condition sur une ligne"
   ]
  },
  {
   "cell_type": "code",
   "execution_count": null,
   "metadata": {},
   "outputs": [],
   "source": [
    "# Exercice : faire une condition sur une seule ligne pour savoir si un utilisateur est mineur ou majeur.\n",
    "\n",
    "a = 20"
   ]
  },
  {
   "cell_type": "code",
   "execution_count": 28,
   "metadata": {},
   "outputs": [
    {
     "name": "stdout",
     "output_type": "stream",
     "text": [
      "Vous êtes majeur !\n"
     ]
    }
   ],
   "source": [
    "# Solution :\n",
    "\n",
    "a = 20\n",
    "majeur = print(\"Vous êtes majeur !\") if a >= 18 else print(\"Vous êtes mineur\")"
   ]
  },
  {
   "cell_type": "markdown",
   "metadata": {},
   "source": [
    "Pour résoudre cet exercice, il fallait utiliser ce qu'on appelle un **opérateur ternaire**.\n",
    "\n",
    "De cette façon, nous pouvons réaliser une **condition if, else sur une seule ligne**.\n",
    "\n",
    "Il est important de noter qu'il n'est possible d'inclure des print dans un opérateur ternaire que depuis la version 3 de Python.\n",
    "\n",
    "À noter aussi, **il n'est pas possible d'inclure un elif** dans un opérateur ternaire.\n",
    "\n",
    "Nous n'avons donc que **deux choix possibles** avec le if et le else, en suivant la syntaxe suivante :\n",
    "\n",
    "`variable = expression if condition else expression`\n",
    "\n",
    "<br>\n",
    "\n",
    "**POINT IMPORTANT À RETENIR**\n",
    "\n",
    "- Pour réaliser une structure conditionnelle sur une seule ligne, on utilise un opérateur ternaire.\n"
   ]
  },
  {
   "cell_type": "markdown",
   "metadata": {},
   "source": [
    "## Additionner les chiffres d'un nombre"
   ]
  },
  {
   "cell_type": "code",
   "execution_count": 1,
   "metadata": {},
   "outputs": [
    {
     "name": "stdout",
     "output_type": "stream",
     "text": [
      "38\n"
     ]
    }
   ],
   "source": [
    "nombre = 90345782\n",
    "\n",
    "liste = sum([int(x) for x in str(nombre)])\n",
    "\n",
    "print(liste)"
   ]
  },
  {
   "cell_type": "markdown",
   "metadata": {},
   "source": [
    "## Remplacer un élément dans une liste"
   ]
  },
  {
   "cell_type": "code",
   "execution_count": 2,
   "metadata": {},
   "outputs": [],
   "source": [
    "# la liste contenant les noms\n",
    "liste = [\"Pierre\", \"Marie\", \"Julie\", \"Adrien\", \"Julie\"]\n",
    "# le nom à chercher et celui à remplacer\n",
    "nom_a_chercher = \"Julie\"\n",
    "nouveau_nom = \"Julien\""
   ]
  },
  {
   "cell_type": "code",
   "execution_count": 8,
   "metadata": {},
   "outputs": [
    {
     "name": "stdout",
     "output_type": "stream",
     "text": [
      "['Pierre', 'Marie', 'Julien', 'Adrien', 'Julien']\n"
     ]
    }
   ],
   "source": [
    "liste_2 = [x.replace(nom_a_chercher, nouveau_nom) for x in liste]\n",
    "print(liste_2)"
   ]
  },
  {
   "cell_type": "markdown",
   "metadata": {},
   "source": [
    "## Enlever les doublons d'une liste\n",
    "\n",
    "Sans utiliser la méthode `set`."
   ]
  },
  {
   "cell_type": "code",
   "execution_count": 26,
   "metadata": {},
   "outputs": [
    {
     "name": "stdout",
     "output_type": "stream",
     "text": [
      "[1, 2, 3, 4, 5, 6, 7, 8, 9, 10]\n"
     ]
    }
   ],
   "source": [
    "nombres = [1, 2, 2, 3, 4, 5, 5, 5, 6, 7, 7, 8, 9, 10]\n",
    "liste = []\n",
    "\n",
    "for x in nombres :\n",
    "    if x not in liste :\n",
    "        liste.append(x)\n",
    "        \n",
    "print(liste)"
   ]
  },
  {
   "cell_type": "markdown",
   "metadata": {},
   "source": [
    "## Afficher une phrase tant que l'utilisateur le demande"
   ]
  },
  {
   "cell_type": "code",
   "execution_count": 39,
   "metadata": {},
   "outputs": [
    {
     "name": "stdout",
     "output_type": "stream",
     "text": [
      "Le compteur est à 0\n",
      "Voulez vous continuer ? (o\\n)\n",
      "o\n",
      "Le compteur est à 1\n",
      "Voulez vous continuer ? (o\\n)\n",
      "o\n",
      "Le compteur est à 2\n",
      "Voulez vous continuer ? (o\\n)\n",
      "o\n",
      "Le compteur est à 3\n",
      "Voulez vous continuer ? (o\\n)\n",
      "n\n"
     ]
    }
   ],
   "source": [
    "compteur = 0\n",
    "print(\"Le compteur est à\", compteur)\n",
    "\n",
    "choix = input(\"Voulez vous continuer ? (o\\\\n)\\n\")\n",
    "\n",
    "while choix == \"o\":\n",
    "    compteur += 1\n",
    "    print(\"Le compteur est à\", compteur)\n",
    "    choix = input(\"Voulez vous continuer ? (o\\\\n)\\n\")"
   ]
  },
  {
   "cell_type": "markdown",
   "metadata": {},
   "source": [
    "### Autre exemple :"
   ]
  },
  {
   "cell_type": "code",
   "execution_count": 42,
   "metadata": {},
   "outputs": [
    {
     "name": "stdout",
     "output_type": "stream",
     "text": [
      "Le compteur est à 0\n",
      "Voulez vous continuer ? (o\\n)\n",
      "o\n",
      "Le compteur est à 1\n",
      "Voulez vous continuer ? (o\\n)\n",
      "o\n",
      "Le compteur est à 2\n",
      "Voulez vous continuer ? (o\\n)\n",
      "n\n"
     ]
    }
   ],
   "source": [
    "compteur = 0\n",
    "choix = \"o\"\n",
    "\n",
    "while choix == \"o\":\n",
    "    print(\"Le compteur est à\", compteur)   \n",
    "    choix = input(\"Voulez vous continuer ? (o\\\\n)\\n\")\n",
    "    compteur += 1"
   ]
  },
  {
   "cell_type": "markdown",
   "metadata": {},
   "source": [
    "## Ajouter des éléments à un dictionnaire\n",
    "\n",
    "Dans cet exercice, vous devez boucler à travers la liste et ajouter au dictionnaire `employes` seulement les éléments de la liste qui sont des chaînes de caractères.\n",
    "\n",
    "Le but de l'exercice est de trier les données et de construire un dictionnaire d'employés.\n",
    "\n",
    "Les clés du dictionnaire doivent être 'id-xx', xx étant le numéro de l'employé."
   ]
  },
  {
   "cell_type": "code",
   "execution_count": 103,
   "metadata": {},
   "outputs": [],
   "source": [
    "employes = {}\n",
    "liste = [10, 2329, 5, \"Pierre\", 203, \"Marie\", 867, \"Adrien\"]"
   ]
  },
  {
   "cell_type": "markdown",
   "metadata": {},
   "source": [
    "### 1ère solution"
   ]
  },
  {
   "cell_type": "code",
   "execution_count": 106,
   "metadata": {},
   "outputs": [
    {
     "name": "stdout",
     "output_type": "stream",
     "text": [
      "{'id-01': 'Pierre', 'id-02': 'Marie', 'id-03': 'Adrien'}\n"
     ]
    }
   ],
   "source": [
    "employes = {}\n",
    "noms = [x for x in liste if type(x) == str]\n",
    "for index, valeur in enumerate(noms) :\n",
    "    index = index + 1\n",
    "    id = 'id-0' + str(index)\n",
    "    employes[id] = valeur\n",
    "    \n",
    "print(employes)"
   ]
  },
  {
   "cell_type": "markdown",
   "metadata": {},
   "source": [
    "### 2ème solution"
   ]
  },
  {
   "cell_type": "code",
   "execution_count": 108,
   "metadata": {},
   "outputs": [
    {
     "name": "stdout",
     "output_type": "stream",
     "text": [
      "{'id-01': 'Pierre', 'id-02': 'Marie', 'id-03': 'Adrien'}\n"
     ]
    }
   ],
   "source": [
    "employes = {}\n",
    "index = 1\n",
    "for x in liste :\n",
    "    if not str(x).isdigit():\n",
    "        id = \"id-0\" + str(index)\n",
    "        employes[id] = x\n",
    "        index += 1\n",
    "        \n",
    "print(employes)"
   ]
  },
  {
   "cell_type": "markdown",
   "metadata": {},
   "source": [
    "### 3ème solution"
   ]
  },
  {
   "cell_type": "code",
   "execution_count": 99,
   "metadata": {},
   "outputs": [
    {
     "name": "stdout",
     "output_type": "stream",
     "text": [
      "{'id-01': 'Pierre', 'id-02': 'Marie', 'id-03': 'Adrien'}\n"
     ]
    }
   ],
   "source": [
    "employes = {}\n",
    "liste = [10, 2329, 5, \"Pierre\", 203, \"Marie\", 867, \"Adrien\"]\n",
    " \n",
    "i = 1\n",
    " \n",
    "for element in liste:\n",
    "    if not str(element).isdigit():\n",
    "        employes[\"id-{:02d}\".format(i)] = element\n",
    "        i += 1\n",
    "\n",
    "print(employes)"
   ]
  },
  {
   "cell_type": "markdown",
   "metadata": {},
   "source": [
    "## Créer un dictionnaire avec les lettres de l'alphabet"
   ]
  },
  {
   "cell_type": "code",
   "execution_count": 7,
   "metadata": {},
   "outputs": [
    {
     "name": "stdout",
     "output_type": "stream",
     "text": [
      "{1: 'a', 2: 'b', 3: 'c', 4: 'd', 5: 'e', 6: 'f', 7: 'g', 8: 'h', 9: 'i', 10: 'j', 11: 'k', 12: 'l', 13: 'm', 14: 'n', 15: 'o', 16: 'p', 17: 'q', 18: 'r', 19: 's', 20: 't', 21: 'u', 22: 'v', 23: 'w', 24: 'x', 25: 'y', 26: 'z'}\n"
     ]
    }
   ],
   "source": [
    "import string\n",
    "alphabet = string.ascii_lowercase\n",
    "\n",
    "dico = {}\n",
    "index = 1\n",
    "for lettre in alphabet : \n",
    "    dico[index] = lettre\n",
    "    index += 1\n",
    "    \n",
    "print(dico)"
   ]
  },
  {
   "cell_type": "markdown",
   "metadata": {},
   "source": [
    "### Autre solution : fonction `zip()`"
   ]
  },
  {
   "cell_type": "code",
   "execution_count": 8,
   "metadata": {},
   "outputs": [
    {
     "name": "stdout",
     "output_type": "stream",
     "text": [
      "{1: 'a', 2: 'b', 3: 'c', 4: 'd', 5: 'e', 6: 'f', 7: 'g', 8: 'h', 9: 'i', 10: 'j', 11: 'k', 12: 'l', 13: 'm', 14: 'n', 15: 'o', 16: 'p', 17: 'q', 18: 'r', 19: 's', 20: 't', 21: 'u', 22: 'v', 23: 'w', 24: 'x', 25: 'y', 26: 'z'}\n"
     ]
    }
   ],
   "source": [
    "import string\n",
    "\n",
    "# on récupère les lettres en minuscule\n",
    "alphabet = string.ascii_lowercase\n",
    "\n",
    "indices = range(1, len(alphabet) + 1)\n",
    "liste_zip = zip(indices, alphabet)\n",
    "resultat = dict(liste_zip)\n",
    " \n",
    "print(resultat)"
   ]
  },
  {
   "cell_type": "code",
   "execution_count": null,
   "metadata": {},
   "outputs": [],
   "source": []
  }
 ],
 "metadata": {
  "kernelspec": {
   "display_name": "Python 3 (ipykernel)",
   "language": "python",
   "name": "python3"
  },
  "language_info": {
   "codemirror_mode": {
    "name": "ipython",
    "version": 3
   },
   "file_extension": ".py",
   "mimetype": "text/x-python",
   "name": "python",
   "nbconvert_exporter": "python",
   "pygments_lexer": "ipython3",
   "version": "3.10.0"
  }
 },
 "nbformat": 4,
 "nbformat_minor": 4
}
