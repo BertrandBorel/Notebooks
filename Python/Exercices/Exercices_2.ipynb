{
 "cells": [
  {
   "cell_type": "markdown",
   "id": "0adfaed9",
   "metadata": {},
   "source": [
    "# <center> Exercices Python </center>\n",
    "\n",
    "**source :**\n",
    "- https://developpement-informatique.com/article/318/exercices-corriges-sur-les-boucles-en-java-python-et-langage-c"
   ]
  },
  {
   "cell_type": "markdown",
   "id": "da589a3f",
   "metadata": {},
   "source": [
    "### Écrivez un programme pour afficher tous les nombres naturels de 1 à n en utilisant la boucle for et while."
   ]
  },
  {
   "cell_type": "code",
   "execution_count": 18,
   "id": "a2acf62b",
   "metadata": {},
   "outputs": [],
   "source": [
    "def nat_number(a):\n",
    "    for x in range(1,a+1):\n",
    "        print(x)"
   ]
  },
  {
   "cell_type": "code",
   "execution_count": 19,
   "id": "998dca9a",
   "metadata": {},
   "outputs": [
    {
     "name": "stdout",
     "output_type": "stream",
     "text": [
      "1\n",
      "2\n",
      "3\n",
      "4\n",
      "5\n"
     ]
    }
   ],
   "source": [
    "nat_number(5)"
   ]
  },
  {
   "cell_type": "markdown",
   "id": "16a80c60",
   "metadata": {},
   "source": [
    "### Écrivez un programme pour afficher tous les nombres naturels en sens inverse de n à 1 en utilisant la boucle for et while."
   ]
  },
  {
   "cell_type": "code",
   "execution_count": 25,
   "id": "a8058681",
   "metadata": {},
   "outputs": [],
   "source": [
    "def nat_numbers(a):\n",
    "    for x in range(a, 0, -1):\n",
    "        print(x)"
   ]
  },
  {
   "cell_type": "code",
   "execution_count": 26,
   "id": "6684734e",
   "metadata": {},
   "outputs": [
    {
     "name": "stdout",
     "output_type": "stream",
     "text": [
      "5\n",
      "4\n",
      "3\n",
      "2\n",
      "1\n"
     ]
    }
   ],
   "source": [
    "nat_numbers(5)"
   ]
  },
  {
   "cell_type": "markdown",
   "id": "b866928a",
   "metadata": {},
   "source": [
    "### Écrivez un programme pour afficher tous les nombres pairs de 1 à n en utilisant la boucle for et while."
   ]
  },
  {
   "cell_type": "code",
   "execution_count": 29,
   "id": "b76289a8",
   "metadata": {},
   "outputs": [],
   "source": [
    "def pairs(a):\n",
    "    for i in range(1, a+1):\n",
    "        if (i % 2 == 0):\n",
    "            print(i, end=\" \")"
   ]
  },
  {
   "cell_type": "code",
   "execution_count": 35,
   "id": "a8d95313",
   "metadata": {},
   "outputs": [
    {
     "name": "stdout",
     "output_type": "stream",
     "text": [
      "2 4 6 8 10 "
     ]
    }
   ],
   "source": [
    "pairs(11)"
   ]
  },
  {
   "cell_type": "code",
   "execution_count": 40,
   "id": "999bcbda",
   "metadata": {},
   "outputs": [],
   "source": [
    "def nb(a):\n",
    "    for x in range(1, a+1):\n",
    "        if x % 2 == 0 :\n",
    "            print(x, end=\" \")"
   ]
  },
  {
   "cell_type": "code",
   "execution_count": 41,
   "id": "0367832e",
   "metadata": {},
   "outputs": [
    {
     "name": "stdout",
     "output_type": "stream",
     "text": [
      "2 4 6 8 10 "
     ]
    }
   ],
   "source": [
    "nb(11)"
   ]
  },
  {
   "cell_type": "markdown",
   "id": "a7e1b735",
   "metadata": {},
   "source": [
    "### Écrivez un programme pour afficher tous les nombres impairs de 1 à n en utilisant la boucle for et while."
   ]
  },
  {
   "cell_type": "code",
   "execution_count": 42,
   "id": "4a10f00f",
   "metadata": {},
   "outputs": [],
   "source": [
    "def impairs(a):\n",
    "    for x in range(1, a+1):\n",
    "        if x % 2 != 0 :\n",
    "            print(x, end=' ')"
   ]
  },
  {
   "cell_type": "code",
   "execution_count": 43,
   "id": "15d456f7",
   "metadata": {},
   "outputs": [
    {
     "name": "stdout",
     "output_type": "stream",
     "text": [
      "1 3 5 7 9 11 "
     ]
    }
   ],
   "source": [
    "impairs(11)"
   ]
  },
  {
   "cell_type": "markdown",
   "id": "ed0f3741",
   "metadata": {},
   "source": [
    "### Écrivez un programme pour trouver la somme de tous les nombres naturels entre 1 et n en utilisant la boucle for et while"
   ]
  },
  {
   "cell_type": "code",
   "execution_count": 67,
   "id": "51dc4a5f",
   "metadata": {},
   "outputs": [],
   "source": [
    "def somme_1(a):\n",
    "    liste = [x for x in range(1, a+1)]\n",
    "    return sum(liste)\n",
    "        "
   ]
  },
  {
   "cell_type": "code",
   "execution_count": 163,
   "id": "304b9bca",
   "metadata": {},
   "outputs": [
    {
     "data": {
      "text/plain": [
       "465"
      ]
     },
     "execution_count": 163,
     "metadata": {},
     "output_type": "execute_result"
    }
   ],
   "source": [
    "somme_1(30)"
   ]
  },
  {
   "cell_type": "code",
   "execution_count": 164,
   "id": "45633714",
   "metadata": {},
   "outputs": [],
   "source": [
    "def somme_2(a):\n",
    "    somme = 0\n",
    "    for i in range(1, a+1):\n",
    "        somme += i\n",
    "    return somme"
   ]
  },
  {
   "cell_type": "code",
   "execution_count": 165,
   "id": "22e0aba0",
   "metadata": {},
   "outputs": [
    {
     "data": {
      "text/plain": [
       "465"
      ]
     },
     "execution_count": 165,
     "metadata": {},
     "output_type": "execute_result"
    }
   ],
   "source": [
    "somme_2(30)"
   ]
  },
  {
   "cell_type": "markdown",
   "id": "2ff5e254",
   "metadata": {},
   "source": [
    "### Écrivez un programme pour saisir le nombre d'utilisateurs et trouvez la somme de tous les nombres pairs entre 1 et n en utilisant la boucle \"for\" et \"while\""
   ]
  },
  {
   "cell_type": "code",
   "execution_count": 168,
   "id": "78e6d704",
   "metadata": {},
   "outputs": [],
   "source": [
    "def somme_pairs_1(a):\n",
    "    liste = [x for x in range(1, a+1) if x % 2 == 0]\n",
    "    return sum(liste)"
   ]
  },
  {
   "cell_type": "code",
   "execution_count": 170,
   "id": "bded11d3",
   "metadata": {},
   "outputs": [
    {
     "data": {
      "text/plain": [
       "42"
      ]
     },
     "execution_count": 170,
     "metadata": {},
     "output_type": "execute_result"
    }
   ],
   "source": [
    "somme_pairs_1(13)"
   ]
  },
  {
   "cell_type": "code",
   "execution_count": 4,
   "id": "a177e1e2",
   "metadata": {},
   "outputs": [],
   "source": [
    "def somme(a):\n",
    "    somme = 0\n",
    "    for i in range(2, a+1, 2):\n",
    "        somme += i\n",
    "    return somme"
   ]
  },
  {
   "cell_type": "code",
   "execution_count": 5,
   "id": "ff431272",
   "metadata": {},
   "outputs": [
    {
     "data": {
      "text/plain": [
       "42"
      ]
     },
     "execution_count": 5,
     "metadata": {},
     "output_type": "execute_result"
    }
   ],
   "source": [
    "somme(13)"
   ]
  },
  {
   "cell_type": "markdown",
   "id": "074042b7",
   "metadata": {},
   "source": [
    "### Écrire un programme pour saisir un nombre à partir de l'utilisateur et afficher la table de multiplication du nombre donné en utilisant la boucle \"for\" et \"while\""
   ]
  },
  {
   "cell_type": "code",
   "execution_count": 10,
   "id": "785863b3",
   "metadata": {},
   "outputs": [],
   "source": [
    "def table(a):\n",
    "    for x in range(1, 11):\n",
    "        print(x, \"x\", a, \"=\", x*a)"
   ]
  },
  {
   "cell_type": "code",
   "execution_count": 11,
   "id": "1d9f056e",
   "metadata": {},
   "outputs": [
    {
     "name": "stdout",
     "output_type": "stream",
     "text": [
      "1 x 4 = 4\n",
      "2 x 4 = 8\n",
      "3 x 4 = 12\n",
      "4 x 4 = 16\n",
      "5 x 4 = 20\n",
      "6 x 4 = 24\n",
      "7 x 4 = 28\n",
      "8 x 4 = 32\n",
      "9 x 4 = 36\n",
      "10 x 4 = 40\n"
     ]
    }
   ],
   "source": [
    "table(4)"
   ]
  },
  {
   "cell_type": "code",
   "execution_count": 12,
   "id": "75b68f11",
   "metadata": {},
   "outputs": [],
   "source": [
    "def table_m(a):\n",
    "    for i in range(1, 11):\n",
    "        print(\"{0} * {1} = {2}\".format(a, i, i*a))"
   ]
  },
  {
   "cell_type": "code",
   "execution_count": 13,
   "id": "d71a77bd",
   "metadata": {},
   "outputs": [
    {
     "name": "stdout",
     "output_type": "stream",
     "text": [
      "1 x 9 = 9\n",
      "2 x 9 = 18\n",
      "3 x 9 = 27\n",
      "4 x 9 = 36\n",
      "5 x 9 = 45\n",
      "6 x 9 = 54\n",
      "7 x 9 = 63\n",
      "8 x 9 = 72\n",
      "9 x 9 = 81\n",
      "10 x 9 = 90\n"
     ]
    }
   ],
   "source": [
    "table(9)"
   ]
  }
 ],
 "metadata": {
  "kernelspec": {
   "display_name": "Python 3 (ipykernel)",
   "language": "python",
   "name": "python3"
  },
  "language_info": {
   "codemirror_mode": {
    "name": "ipython",
    "version": 3
   },
   "file_extension": ".py",
   "mimetype": "text/x-python",
   "name": "python",
   "nbconvert_exporter": "python",
   "pygments_lexer": "ipython3",
   "version": "3.10.0"
  }
 },
 "nbformat": 4,
 "nbformat_minor": 5
}
