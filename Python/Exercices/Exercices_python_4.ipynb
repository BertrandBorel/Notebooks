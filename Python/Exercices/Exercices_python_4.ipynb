{
 "cells": [
  {
   "cell_type": "markdown",
   "id": "6d6ae25b",
   "metadata": {},
   "source": [
    "# <center> Exercices avec Python </center>\n",
    "\n",
    "**Source :** livre"
   ]
  },
  {
   "cell_type": "markdown",
   "id": "f955b3f5",
   "metadata": {},
   "source": [
    "## 1 - Écrivez un programme qui calcule le volume d’un parallépipède rectangle dont sont fournis au départ la largeur, la hauteur et la profondeur."
   ]
  },
  {
   "cell_type": "code",
   "execution_count": 1,
   "id": "8b431141",
   "metadata": {},
   "outputs": [],
   "source": [
    "# Volume = A x B x C \n",
    "\n",
    "def volume_paral_rect(largeur, hauteur, profondeur):\n",
    "    volume = largeur * hauteur * profondeur\n",
    "    return volume"
   ]
  },
  {
   "cell_type": "code",
   "execution_count": 2,
   "id": "a63e3f7f",
   "metadata": {},
   "outputs": [
    {
     "data": {
      "text/plain": [
       "375"
      ]
     },
     "execution_count": 2,
     "metadata": {},
     "output_type": "execute_result"
    }
   ],
   "source": [
    "# exemple :\n",
    "volume_paral_rect(15, 5, 5)"
   ]
  },
  {
   "cell_type": "markdown",
   "id": "a1d1b82c",
   "metadata": {},
   "source": [
    "## 2- Écrivez un programme qui convertit un nombre entier de secondes fourni au départ en un nombre d’années, de mois, de jours, de minutes et de secondes (utilisez l’opérateur modulo : %)."
   ]
  },
  {
   "cell_type": "code",
   "execution_count": 65,
   "id": "aba01ab5",
   "metadata": {},
   "outputs": [],
   "source": [
    "def convertisseur(nb_secondes):\n",
    "    # formules\n",
    "    minutes = 60\n",
    "    heure = 60*minutes\n",
    "    jour = 24*heure\n",
    "    mois = 30*jour\n",
    "    annee = 365*jour\n",
    "    \n",
    "    # calculs\n",
    "    nb_s = nb_secondes\n",
    "    nb_m = nb_secondes / minutes\n",
    "    nb_j = nb_secondes / jour\n",
    "    nb_mois = nb_secondes / mois\n",
    "    nb_annee = nb_secondes / annee\n",
    "    \n",
    "    # affichage\n",
    "    print(\"secondes :\", nb_s)\n",
    "    print(\"minutes :\", nb_m)\n",
    "    print(\"jour :\", nb_j)\n",
    "    print(\"mois :\", nb_mois)\n",
    "    print(\"année :\", nb_annee)"
   ]
  },
  {
   "cell_type": "code",
   "execution_count": 66,
   "id": "f73ca5d3",
   "metadata": {},
   "outputs": [
    {
     "name": "stdout",
     "output_type": "stream",
     "text": [
      "secondes : 31536000\n",
      "minutes : 525600.0\n",
      "jour : 365.0\n",
      "mois : 12.166666666666666\n",
      "année : 1.0\n"
     ]
    }
   ],
   "source": [
    "convertisseur(31_536_000)"
   ]
  },
  {
   "cell_type": "code",
   "execution_count": 63,
   "id": "5ac129b8",
   "metadata": {},
   "outputs": [],
   "source": [
    "def convertisseur(s):\n",
    "    m = s // 60\n",
    "    s = s % 60\n",
    "    h = m // 60\n",
    "    m = m % 60\n",
    "    jour = h // 24\n",
    "    h = h % 24\n",
    "    mois = jour // 30\n",
    "    jour = jour % 30\n",
    "    annee = jour // 365\n",
    "    jour = jour % 365\n",
    "    \n",
    "    print(\"secondes :\", s)\n",
    "    print(\"minutes :\", m)\n",
    "    print(\"heures :\", h)\n",
    "    print(\"jours :\", jour)\n",
    "    print(\"mois :\", mois)\n",
    "    print(\"années :\", annee)\n",
    "    "
   ]
  },
  {
   "cell_type": "code",
   "execution_count": 64,
   "id": "fd642d42",
   "metadata": {},
   "outputs": [
    {
     "name": "stdout",
     "output_type": "stream",
     "text": [
      "secondes : 0\n",
      "minutes : 0\n",
      "heures : 0\n",
      "jours : 5\n",
      "mois : 12\n",
      "années : 0\n"
     ]
    }
   ],
   "source": [
    "convertisseur(31_536_000)"
   ]
  },
  {
   "cell_type": "code",
   "execution_count": 61,
   "id": "a4f445aa",
   "metadata": {},
   "outputs": [],
   "source": [
    "def convertisseur(nb_secondes):\n",
    "    # formules\n",
    "    minutes = 60\n",
    "    heure = 60*minutes\n",
    "    jour = 24*heure\n",
    "    mois = 30*jour\n",
    "    annee = 365*jour\n",
    "    \n",
    "    # calculs\n",
    "    nb_s = nb_secondes\n",
    "    reste = nb_secondes % annee\n",
    "    return reste\n",
    "#     nb_m = nb_secondes / minutes\n",
    "#     nb_j = nb_secondes / jour\n",
    "#     nb_mois = nb_secondes / mois\n",
    "    \n",
    "    \n",
    "#     # affichage\n",
    "#     print(\"secondes :\", nb_s)\n",
    "#     print(\"minutes :\", nb_m)\n",
    "#     print(\"jour :\", nb_j)\n",
    "#     print(\"mois :\", nb_mois)\n",
    "#     print(\"année :\", nb_annee)"
   ]
  },
  {
   "cell_type": "code",
   "execution_count": 62,
   "id": "e3c4edad",
   "metadata": {},
   "outputs": [
    {
     "data": {
      "text/plain": [
       "0"
      ]
     },
     "execution_count": 62,
     "metadata": {},
     "output_type": "execute_result"
    }
   ],
   "source": [
    "convertisseur(31_536_000)"
   ]
  },
  {
   "cell_type": "code",
   "execution_count": 54,
   "id": "0039ce28",
   "metadata": {},
   "outputs": [
    {
     "name": "stdout",
     "output_type": "stream",
     "text": [
      "annee : 31536000\n",
      "mois : 2592000\n",
      "jour : 86400\n",
      "heure : 3600\n"
     ]
    }
   ],
   "source": [
    "# nb secondes pour 1 année\n",
    "annee = 365*jour\n",
    "print(\"annee :\", annee)\n",
    "\n",
    "# pour 1 mois \n",
    "mois = 30*jour\n",
    "print(\"mois :\", mois)\n",
    "\n",
    "# pour 1 jour\n",
    "jour = 24*heure\n",
    "print(\"jour :\", jour)\n",
    "\n",
    "heure = 60*minutes\n",
    "print(\"heure :\", heure)\n",
    "\n",
    "minutes = 60"
   ]
  },
  {
   "cell_type": "code",
   "execution_count": 44,
   "id": "24246285",
   "metadata": {},
   "outputs": [
    {
     "data": {
      "text/plain": [
       "216000"
      ]
     },
     "execution_count": 44,
     "metadata": {},
     "output_type": "execute_result"
    }
   ],
   "source": [
    "60**3"
   ]
  },
  {
   "cell_type": "code",
   "execution_count": 36,
   "id": "ff49f257",
   "metadata": {},
   "outputs": [
    {
     "data": {
      "text/plain": [
       "360"
      ]
     },
     "execution_count": 36,
     "metadata": {},
     "output_type": "execute_result"
    }
   ],
   "source": [
    "12 * 30"
   ]
  },
  {
   "cell_type": "code",
   "execution_count": 34,
   "id": "e922a7ed",
   "metadata": {},
   "outputs": [
    {
     "name": "stdout",
     "output_type": "stream",
     "text": [
      "minutes : 20\n",
      "heures : 3200\n",
      "jours : 28800\n",
      "mois : 0\n",
      "années : 0\n"
     ]
    }
   ],
   "source": [
    "nb_secondes = 500_000\n",
    "\n",
    "secondes = nb_secondes\n",
    "minutes = nb_secondes % 60\n",
    "print(\"minutes :\", minutes)\n",
    "heures = nb_secondes % (60*60)\n",
    "print(\"heures :\", heures)\n",
    "jours = nb_secondes % 24*(60*60)\n",
    "print(\"jours :\", jours)\n",
    "mois = jours % 30*(24*(60*60))\n",
    "print(\"mois :\", mois)\n",
    "annees = mois % 12*(30*(24*(60*60)))\n",
    "print(\"années :\", annees)"
   ]
  },
  {
   "cell_type": "code",
   "execution_count": 18,
   "id": "3d089a2d",
   "metadata": {},
   "outputs": [
    {
     "data": {
      "text/plain": [
       "15552000"
      ]
     },
     "execution_count": 18,
     "metadata": {},
     "output_type": "execute_result"
    }
   ],
   "source": [
    "minutes = 60\n",
    "heure = 60*60\n",
    "jour = heure * 12\n",
    "mois = jour * 30\n",
    "annee = mois * 12\n",
    "annee"
   ]
  },
  {
   "cell_type": "code",
   "execution_count": 23,
   "id": "5a3524b2",
   "metadata": {},
   "outputs": [
    {
     "name": "stdout",
     "output_type": "stream",
     "text": [
      "minutes : 4166666.6666666665\n",
      "heures : 69444.44444444444\n",
      "jour : 5787.037037037037\n",
      "mois :  192.90123456790124\n",
      "annee : 16.075102880658438\n"
     ]
    }
   ],
   "source": [
    "nb_secondes = 250_000_000\n",
    "\n",
    "print(\"minutes :\", nb_secondes / minutes)\n",
    "print(\"heures :\", nb_secondes / heure)\n",
    "print(\"jour :\", nb_secondes / jour)\n",
    "print(\"mois : \", nb_secondes / mois)\n",
    "print(\"annee :\", nb_secondes / annee)"
   ]
  },
  {
   "cell_type": "markdown",
   "id": "7af29368",
   "metadata": {},
   "source": [
    "---"
   ]
  },
  {
   "cell_type": "markdown",
   "id": "a4dadbb5",
   "metadata": {},
   "source": [
    "### Écrivez un programme qui affiche les 20 premiers termes de la table de multiplication par 7, en signalant au passage (à l’aide d’une astérisque) ceux qui sont des multiples de 3.\n",
    "\n",
    "Exemple : `7 14 21 * 28 35 42 * 49`"
   ]
  },
  {
   "cell_type": "code",
   "execution_count": 79,
   "id": "539c16f8",
   "metadata": {},
   "outputs": [
    {
     "name": "stdout",
     "output_type": "stream",
     "text": [
      "7 14 21 * 28 35 42 * 49 56 63 * 70 77 84 * 91 98 105 * 112 119 126 * 133 140 "
     ]
    }
   ],
   "source": [
    "for x in range(1, 21):\n",
    "    resultat = x * 7\n",
    "    if resultat % 3 == 0 :\n",
    "        print(resultat , \"*\", end=\" \")\n",
    "    else : \n",
    "        print(resultat, end=\" \")"
   ]
  },
  {
   "cell_type": "markdown",
   "id": "d4028b55",
   "metadata": {},
   "source": [
    "### Écrivez un programme qui calcule les 50 premiers termes de la table de multiplication par 13, mais n’affiche que ceux qui sont des multiples de 7."
   ]
  },
  {
   "cell_type": "code",
   "execution_count": 82,
   "id": "341bafc8",
   "metadata": {},
   "outputs": [
    {
     "name": "stdout",
     "output_type": "stream",
     "text": [
      "91 182 273 364 455 546 637 "
     ]
    }
   ],
   "source": [
    "for x in range(1, 51):\n",
    "    resultat = x * 13\n",
    "    if resultat % 7 == 0 :\n",
    "        print(resultat, end=\" \")    "
   ]
  },
  {
   "cell_type": "markdown",
   "id": "54fc9aba",
   "metadata": {},
   "source": [
    "###  Écrivez un programme qui affiche la suite de symboles suivante :\n",
    "`*`\n",
    "\n",
    "`**`\n",
    "\n",
    "`***`\n",
    "\n",
    "`****`\n",
    "\n",
    "`*****`\n",
    "\n",
    "`******`\n",
    "\n",
    "`*******`"
   ]
  },
  {
   "cell_type": "code",
   "execution_count": 3,
   "id": "38ed0e56",
   "metadata": {},
   "outputs": [
    {
     "name": "stdout",
     "output_type": "stream",
     "text": [
      "*\n",
      "**\n",
      "***\n",
      "****\n",
      "*****\n",
      "******\n",
      "*******\n"
     ]
    }
   ],
   "source": [
    "symbole = \"*\"\n",
    "\n",
    "for x in range(7):\n",
    "    print(symbole)\n",
    "    symbole += \"*\""
   ]
  },
  {
   "cell_type": "markdown",
   "id": "21025c3e",
   "metadata": {},
   "source": [
    "### Écrivez un programme qui convertisse en radians un angle fourni au départ en degrés, minutes, secondes."
   ]
  },
  {
   "cell_type": "markdown",
   "id": "662cab0a",
   "metadata": {},
   "source": [
    "### Écrivez un programme qui convertisse en degrés, minutes, secondes un angle fourni au départ en radians."
   ]
  },
  {
   "cell_type": "markdown",
   "id": "001ae5ed",
   "metadata": {},
   "source": [
    "### Écrivez un programme qui convertisse en degrés Celsius une température exprimée au départ en degrés Fahrenheit, ou l’inverse."
   ]
  },
  {
   "cell_type": "code",
   "execution_count": 107,
   "id": "a3167dfa",
   "metadata": {},
   "outputs": [],
   "source": [
    "# convertir des Farenheit en degré C\n",
    "def Farenheit(valeur):\n",
    "    calcul = (valeur - 32) / 1.8\n",
    "    return round(calcul, 2)\n",
    "    \n",
    "# convertir des degrés C en Farenheit\n",
    "def degre(valeur):\n",
    "    calcul = (valeur * 9/5) + 32\n",
    "    return calcul"
   ]
  },
  {
   "cell_type": "markdown",
   "id": "20580331",
   "metadata": {},
   "source": [
    "### Écrivez un programme qui calcule les intérêts accumulés chaque année pendant 20 ans, par capitalisation d’une somme de 100 euros placée en banque au taux fixe de 4,3 %"
   ]
  },
  {
   "cell_type": "code",
   "execution_count": 124,
   "id": "180fb46c",
   "metadata": {},
   "outputs": [
    {
     "name": "stdout",
     "output_type": "stream",
     "text": [
      "104.3\n",
      "108.7849\n",
      "113.4626507\n",
      "118.3415446801\n",
      "123.4302311013443\n",
      "128.73773103870212\n",
      "134.27345347336632\n",
      "140.04721197272107\n",
      "146.06924208754808\n",
      "152.35021949731265\n",
      "158.9012789356971\n",
      "165.73403392993205\n",
      "172.86059738891913\n",
      "180.29360307664265\n",
      "188.0462280089383\n",
      "196.13221581332266\n",
      "204.56590109329554\n",
      "213.36223484030725\n",
      "222.53681093844045\n",
      "232.10589380879338\n"
     ]
    }
   ],
   "source": [
    "somme = 100\n",
    "\n",
    "for x in range(20): \n",
    "    interets = somme * 4.3 / 100 \n",
    "    somme += interets\n",
    "    print(somme)"
   ]
  },
  {
   "cell_type": "markdown",
   "id": "07b4d0dc",
   "metadata": {},
   "source": [
    "### Le problème du jeu d'échec :\n",
    "\n",
    "Une légende de l’Inde ancienne raconte que le jeu d’échecs a été inventé par un vieux sage, que son roi voulut remercier en lui affirmant qu’il lui accorderait n’importe quel cadeau en récompense.\n",
    "Le vieux sage demanda qu’on lui fournisse simplement un peu de riz pour ses vieux\n",
    "jours, et plus précisément un nombre de grains de riz suffisant pour que l’on puisse en déposer\n",
    "1 seul sur la première case du jeu qu’il venait d’inventer, deux sur la suivante, quatre sur la troisième, et ainsi de suite jusqu’à la 64e case.\n",
    "\n",
    "Écrivez un programme Python qui affiche le nombre de grains à déposer sur chacune des 64 cases du jeu. \n",
    "Calculez ce nombre de deux manières :\n",
    "\n",
    "• le nombre exact de grains (nombre entier) ;\n",
    "\n",
    "• le nombre de grains en notation scientifique (nombre réel)."
   ]
  },
  {
   "cell_type": "code",
   "execution_count": 160,
   "id": "f2bab253",
   "metadata": {},
   "outputs": [
    {
     "name": "stdout",
     "output_type": "stream",
     "text": [
      "case 1 : 1\n",
      "case 1 : 1.0\n",
      "case 2 : 2\n",
      "case 2 : 2.0\n",
      "case 3 : 4\n",
      "case 3 : 4.0\n",
      "case 4 : 8\n",
      "case 4 : 8.0\n",
      "case 5 : 16\n",
      "case 5 : 16.0\n",
      "case 6 : 32\n",
      "case 6 : 32.0\n",
      "case 7 : 64\n",
      "case 7 : 64.0\n",
      "case 8 : 128\n",
      "case 8 : 128.0\n",
      "case 9 : 256\n",
      "case 9 : 256.0\n",
      "case 10 : 512\n",
      "case 10 : 512.0\n",
      "case 11 : 1024\n",
      "case 11 : 1.024e+03\n",
      "case 12 : 2048\n",
      "case 12 : 2.048e+03\n",
      "case 13 : 4096\n",
      "case 13 : 4.096e+03\n",
      "case 14 : 8192\n",
      "case 14 : 8.192e+03\n",
      "case 15 : 16384\n",
      "case 15 : 1.638e+04\n",
      "case 16 : 32768\n",
      "case 16 : 3.277e+04\n",
      "case 17 : 65536\n",
      "case 17 : 6.554e+04\n",
      "case 18 : 131072\n",
      "case 18 : 1.311e+05\n",
      "case 19 : 262144\n",
      "case 19 : 2.621e+05\n",
      "case 20 : 524288\n",
      "case 20 : 5.243e+05\n",
      "case 21 : 1048576\n",
      "case 21 : 1.049e+06\n",
      "case 22 : 2097152\n",
      "case 22 : 2.097e+06\n",
      "case 23 : 4194304\n",
      "case 23 : 4.194e+06\n",
      "case 24 : 8388608\n",
      "case 24 : 8.389e+06\n",
      "case 25 : 16777216\n",
      "case 25 : 1.678e+07\n",
      "case 26 : 33554432\n",
      "case 26 : 3.355e+07\n",
      "case 27 : 67108864\n",
      "case 27 : 6.711e+07\n",
      "case 28 : 134217728\n",
      "case 28 : 1.342e+08\n",
      "case 29 : 268435456\n",
      "case 29 : 2.684e+08\n",
      "case 30 : 536870912\n",
      "case 30 : 5.369e+08\n",
      "case 31 : 1073741824\n",
      "case 31 : 1.074e+09\n",
      "case 32 : 2147483648\n",
      "case 32 : 2.147e+09\n",
      "case 33 : 4294967296\n",
      "case 33 : 4.295e+09\n",
      "case 34 : 8589934592\n",
      "case 34 : 8.59e+09\n",
      "case 35 : 17179869184\n",
      "case 35 : 1.718e+10\n",
      "case 36 : 34359738368\n",
      "case 36 : 3.436e+10\n",
      "case 37 : 68719476736\n",
      "case 37 : 6.872e+10\n",
      "case 38 : 137438953472\n",
      "case 38 : 1.374e+11\n",
      "case 39 : 274877906944\n",
      "case 39 : 2.749e+11\n",
      "case 40 : 549755813888\n",
      "case 40 : 5.498e+11\n",
      "case 41 : 1099511627776\n",
      "case 41 : 1.1e+12\n",
      "case 42 : 2199023255552\n",
      "case 42 : 2.199e+12\n",
      "case 43 : 4398046511104\n",
      "case 43 : 4.398e+12\n",
      "case 44 : 8796093022208\n",
      "case 44 : 8.796e+12\n",
      "case 45 : 17592186044416\n",
      "case 45 : 1.759e+13\n",
      "case 46 : 35184372088832\n",
      "case 46 : 3.518e+13\n",
      "case 47 : 70368744177664\n",
      "case 47 : 7.037e+13\n",
      "case 48 : 140737488355328\n",
      "case 48 : 1.407e+14\n",
      "case 49 : 281474976710656\n",
      "case 49 : 2.815e+14\n",
      "case 50 : 562949953421312\n",
      "case 50 : 5.629e+14\n",
      "case 51 : 1125899906842624\n",
      "case 51 : 1.126e+15\n",
      "case 52 : 2251799813685248\n",
      "case 52 : 2.252e+15\n",
      "case 53 : 4503599627370496\n",
      "case 53 : 4.504e+15\n",
      "case 54 : 9007199254740992\n",
      "case 54 : 9.007e+15\n",
      "case 55 : 18014398509481984\n",
      "case 55 : 1.801e+16\n",
      "case 56 : 36028797018963968\n",
      "case 56 : 3.603e+16\n",
      "case 57 : 72057594037927936\n",
      "case 57 : 7.206e+16\n",
      "case 58 : 144115188075855872\n",
      "case 58 : 1.441e+17\n",
      "case 59 : 288230376151711744\n",
      "case 59 : 2.882e+17\n",
      "case 60 : 576460752303423488\n",
      "case 60 : 5.765e+17\n",
      "case 61 : 1152921504606846976\n",
      "case 61 : 1.153e+18\n",
      "case 62 : 2305843009213693952\n",
      "case 62 : 2.306e+18\n",
      "case 63 : 4611686018427387904\n",
      "case 63 : 4.612e+18\n",
      "case 64 : 9223372036854775808\n",
      "case 64 : 9.223e+18\n"
     ]
    }
   ],
   "source": [
    "for i in range(64):\n",
    "    print(\"case {0} : {1}\".format(i+1, 2**i))\n",
    "    print(\"case {0} : {1:.4}\".format(i+1, 2.0**i))"
   ]
  }
 ],
 "metadata": {
  "kernelspec": {
   "display_name": "Python 3 (ipykernel)",
   "language": "python",
   "name": "python3"
  },
  "language_info": {
   "codemirror_mode": {
    "name": "ipython",
    "version": 3
   },
   "file_extension": ".py",
   "mimetype": "text/x-python",
   "name": "python",
   "nbconvert_exporter": "python",
   "pygments_lexer": "ipython3",
   "version": "3.10.0"
  }
 },
 "nbformat": 4,
 "nbformat_minor": 5
}
