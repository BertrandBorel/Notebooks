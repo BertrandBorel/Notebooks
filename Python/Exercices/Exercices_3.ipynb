{
 "cells": [
  {
   "cell_type": "markdown",
   "id": "571be57b",
   "metadata": {},
   "source": [
    "# <center> Exercices Python </center>\n",
    "\n",
    "**Source :**\n",
    "   \n",
    "   - \"5 exercices pratiques en Python\", Linux références, hors-série n°8, p.32-41."
   ]
  },
  {
   "cell_type": "markdown",
   "id": "ae3c14a7",
   "metadata": {},
   "source": [
    "## Ex. 1 : Somme d'une plage d'entiers \n",
    "\n",
    "Ecrivez une fonction qui prend un seul entier en entrée et renvoie la somme des entiers allant de zéro au paramètre saisi.\n",
    "\n",
    "La fonction doit retourner 0 si un non-entier est saisi."
   ]
  },
  {
   "cell_type": "code",
   "execution_count": 44,
   "id": "cc48bd02",
   "metadata": {},
   "outputs": [],
   "source": [
    "# cette fonction peut être raccourcie et tenir en 1 ligne (voir plus bas)\n",
    "def addition(a):\n",
    "    if type(a) != int :\n",
    "        print(\"Veuillez entrer un entier.\")\n",
    "        \n",
    "    else :\n",
    "        liste = [x for x in range(a +1)]\n",
    "        return sum(liste)\n",
    "    "
   ]
  },
  {
   "cell_type": "code",
   "execution_count": 47,
   "id": "56339eb6",
   "metadata": {},
   "outputs": [],
   "source": [
    "# Peu pratique\n",
    "\n",
    "def addition(n):\n",
    "    num = 1\n",
    "    somme = 0\n",
    "    while num < n + 1 :\n",
    "        somme = somme + num\n",
    "        num = num + 1\n",
    "    return somme"
   ]
  },
  {
   "cell_type": "markdown",
   "id": "c440361c",
   "metadata": {},
   "source": [
    "### Solutions"
   ]
  },
  {
   "cell_type": "code",
   "execution_count": 49,
   "id": "d36b73b2",
   "metadata": {},
   "outputs": [],
   "source": [
    "# avec une boucle for \n",
    "\n",
    "def add(n):\n",
    "    somme = 0\n",
    "    for nombre in range(n + 1):\n",
    "        somme += nombre\n",
    "    return somme"
   ]
  },
  {
   "cell_type": "code",
   "execution_count": 51,
   "id": "947f1e75",
   "metadata": {},
   "outputs": [],
   "source": [
    "# faire la somme d'une liste d'entiers\n",
    "\n",
    "def addition(n):\n",
    "    return sum(range(n+1))"
   ]
  },
  {
   "cell_type": "code",
   "execution_count": 53,
   "id": "c29d96b5",
   "metadata": {},
   "outputs": [],
   "source": [
    "# idem mais avec la gestion d'erreur\n",
    "\n",
    "def addition(n):\n",
    "    try :\n",
    "        resultat = sum(range(n+1))\n",
    "    except TypeError :\n",
    "        resultat = 0\n",
    "    return resultat\n",
    "\n",
    "# Note : la gestion de l'erreur 'TypeError' renvoie un 0."
   ]
  },
  {
   "cell_type": "code",
   "execution_count": 56,
   "id": "9e691c2e",
   "metadata": {},
   "outputs": [],
   "source": [
    "# Afficher la somme des neuf premiers entiers \n",
    "\n",
    "def afficher_neuf():\n",
    "    return sum(range(10))"
   ]
  },
  {
   "cell_type": "markdown",
   "id": "d40d43dd",
   "metadata": {},
   "source": [
    "---"
   ]
  },
  {
   "cell_type": "markdown",
   "id": "74c17a2e",
   "metadata": {},
   "source": [
    "## EX. 2 : Le code de César\n",
    "\n",
    "L'objectif est de coder une fonction pour calculer le code de César à partir d'un texte saisi. \n",
    "\n",
    "Le code César consiste à remplacer chaque lettre d'un message par la lettre décalée de **n** places de l'alphabet plus loin. \n",
    "\n",
    "Vous devez écrire une foncion qui accepte 2 arguments, un message en texte brut et un certain nombre de lettres à décaler dans le chiffrement. \n",
    "\n",
    "La fonction renverra une chaîne cryptée avec toutes les lettres transformées et toutes les ponctuations et espaces blancs restant inchangés. "
   ]
  },
  {
   "cell_type": "code",
   "execution_count": 102,
   "id": "3bd75023",
   "metadata": {},
   "outputs": [
    {
     "name": "stdout",
     "output_type": "stream",
     "text": [
      "a = 97\n",
      "b = 98\n",
      "c = 99\n",
      "x = 120\n",
      "y = 121\n",
      "z = 122\n",
      "A = 65\n",
      "B = 66\n",
      "C = 67\n",
      "X = 88\n",
      "Y = 89\n",
      "Z = 90\n"
     ]
    }
   ],
   "source": [
    "import string\n",
    "\n",
    "letters = (\n",
    "    string.ascii_lowercase[:3]\n",
    "    + string.ascii_lowercase[-3:]\n",
    "    + string.ascii_uppercase[:3]\n",
    "    + string.ascii_uppercase[-3:]\n",
    ")\n",
    "\n",
    "for letter in letters:\n",
    "  print(\"%s = %s\" % (letter, ord(letter)))"
   ]
  },
  {
   "cell_type": "markdown",
   "id": "07b5f400",
   "metadata": {},
   "source": [
    "### Solution"
   ]
  },
  {
   "cell_type": "code",
   "execution_count": 128,
   "id": "61baeaf1",
   "metadata": {},
   "outputs": [],
   "source": [
    "import string\n",
    "\n",
    "def cesar(plain_text, shift_num=1):\n",
    "    # str de l'alphabet 'abcde...'\n",
    "    letters = string.ascii_lowercase\n",
    "    # permettre le décalage : les lettres de la fin recommencent au début de l'alphabet\n",
    "    mask = letters[shift_num:] + letters[: shift_num]\n",
    "    # créer une table de traduction avec maketrans()\n",
    "    trantab = str.maketrans(letters, mask)\n",
    "    # translate() : mappe tous les caractères des lettres aux lettres correspondantes\n",
    "    # ... du masque et laisse tous les autres caractères seuls.\n",
    "    return plain_text.translate(trantab)"
   ]
  },
  {
   "cell_type": "markdown",
   "id": "79a43106",
   "metadata": {},
   "source": [
    "## Ex. 3 : le code César (autre exemple)"
   ]
  },
  {
   "cell_type": "code",
   "execution_count": 133,
   "id": "723975d7",
   "metadata": {},
   "outputs": [],
   "source": [
    "import string\n",
    "\n",
    "def shift_n(letter, position):\n",
    "    if letter not in string.ascii_lowercase :\n",
    "        return letter\n",
    "    new_letter = ord(letter) + position\n",
    "    # gestion du décalage de liste\n",
    "    while new_letter > ord(\"z\"):\n",
    "        new_letter -= 26\n",
    "    while new_letter < ord(\"a\"):\n",
    "        new_letter += 26\n",
    "    return chr(new_letter)\n",
    "\n",
    "\n",
    "def cesar(message, position):\n",
    "    enc_list = [shift_n(letter,position) for letter in message]\n",
    "    return \"\".join(enc_list)"
   ]
  },
  {
   "cell_type": "code",
   "execution_count": 134,
   "id": "daaaf245",
   "metadata": {},
   "outputs": [
    {
     "data": {
      "text/plain": [
       "'vguv'"
      ]
     },
     "execution_count": 134,
     "metadata": {},
     "output_type": "execute_result"
    }
   ],
   "source": [
    "cesar(\"test\", 2)"
   ]
  },
  {
   "cell_type": "markdown",
   "id": "bd8ff6c4",
   "metadata": {},
   "source": [
    "`ord()` convertit une lettre en nombre et `chr()` la reconvertit en lettre."
   ]
  },
  {
   "cell_type": "code",
   "execution_count": 135,
   "id": "a31b92a1",
   "metadata": {},
   "outputs": [
    {
     "data": {
      "text/plain": [
       "97"
      ]
     },
     "execution_count": 135,
     "metadata": {},
     "output_type": "execute_result"
    }
   ],
   "source": [
    "ord(\"a\")"
   ]
  },
  {
   "cell_type": "code",
   "execution_count": 136,
   "id": "43b72fef",
   "metadata": {},
   "outputs": [
    {
     "data": {
      "text/plain": [
       "'a'"
      ]
     },
     "execution_count": 136,
     "metadata": {},
     "output_type": "execute_result"
    }
   ],
   "source": [
    "chr(97)"
   ]
  },
  {
   "cell_type": "code",
   "execution_count": 140,
   "id": "00542b7a",
   "metadata": {},
   "outputs": [],
   "source": [
    "# Autre solution :\n",
    "\n",
    "def shift_n(letter, table):\n",
    "    try :\n",
    "        index = string.ascii_lowercase.index(letter)\n",
    "        return table[index]\n",
    "    except ValueError :\n",
    "        return letter\n",
    "    \n",
    "def cesar(message, position):\n",
    "    position = position % 26\n",
    "    table = string.ascii_lowercase[position:] + string.ascii_lowercase[:position]\n",
    "    enc_list = [shift_n(letter, table) for letter in message]\n",
    "    return \"\".join(enc_list)"
   ]
  },
  {
   "cell_type": "code",
   "execution_count": 143,
   "id": "046107f0",
   "metadata": {},
   "outputs": [
    {
     "data": {
      "text/plain": [
       "'egek guv wp vguv'"
      ]
     },
     "execution_count": 143,
     "metadata": {},
     "output_type": "execute_result"
    }
   ],
   "source": [
    "cesar(\"ceci est un test\", 2)"
   ]
  },
  {
   "cell_type": "markdown",
   "id": "84bcfdb5",
   "metadata": {},
   "source": [
    "L'opérateur `mod` produit le reste à partir d'une division entière. Dans ce cas, vous divisez par 26, ce qui signifie que les résultats sont garantis entre 0 et 25 inclus."
   ]
  },
  {
   "cell_type": "code",
   "execution_count": null,
   "id": "ea8a4ddb",
   "metadata": {},
   "outputs": [],
   "source": []
  }
 ],
 "metadata": {
  "kernelspec": {
   "display_name": "Python 3 (ipykernel)",
   "language": "python",
   "name": "python3"
  },
  "language_info": {
   "codemirror_mode": {
    "name": "ipython",
    "version": 3
   },
   "file_extension": ".py",
   "mimetype": "text/x-python",
   "name": "python",
   "nbconvert_exporter": "python",
   "pygments_lexer": "ipython3",
   "version": "3.10.0"
  }
 },
 "nbformat": 4,
 "nbformat_minor": 5
}
