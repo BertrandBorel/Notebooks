{
 "cells": [
  {
   "cell_type": "markdown",
   "id": "1833bc8a",
   "metadata": {},
   "source": [
    "# <center> Top 10 beginner Python code challenges </center>\n",
    "\n",
    "**Source :**\n",
    "\n",
    "- https://www.codecademy.com/resources/blog/python-code-challenges-for-beginners/"
   ]
  },
  {
   "cell_type": "markdown",
   "id": "3c7f64b4",
   "metadata": {},
   "source": [
    "## 1. Convert radians into degrees"
   ]
  },
  {
   "cell_type": "code",
   "execution_count": 7,
   "id": "962aca71",
   "metadata": {},
   "outputs": [],
   "source": [
    "from math import pi\n",
    "\n",
    "def conv(a):\n",
    "    conversion = a * (180/pi)\n",
    "    return conversion"
   ]
  },
  {
   "cell_type": "code",
   "execution_count": 11,
   "id": "b86c53b0",
   "metadata": {},
   "outputs": [
    {
     "data": {
      "text/plain": [
       "57.29577951308232"
      ]
     },
     "execution_count": 11,
     "metadata": {},
     "output_type": "execute_result"
    }
   ],
   "source": [
    "conv(1)"
   ]
  },
  {
   "cell_type": "markdown",
   "id": "17df2db4",
   "metadata": {},
   "source": [
    "## 2. Sort a list\n",
    "\n",
    "Create a function in Python that accepts two parameters. The first will be a list of numbers. The second parameter will be a string that can be one of the following values: asc, desc, and none.\n",
    "\n",
    "If the second parameter is \"asc,\" then the function should return a list with the numbers in ascending order. If it's \"desc,\" then the list should be in descending order, and if it's \"none,\" it should return the original list unaltered."
   ]
  },
  {
   "cell_type": "code",
   "execution_count": 46,
   "id": "463cb418",
   "metadata": {},
   "outputs": [],
   "source": [
    "def trier(liste, ordre):\n",
    "    if ordre == 'asc':\n",
    "        print(sorted(liste))\n",
    "    elif ordre == 'desc' : \n",
    "        print(sorted(liste, reverse=True))\n",
    "    else :\n",
    "        return liste        "
   ]
  },
  {
   "cell_type": "code",
   "execution_count": 47,
   "id": "94ff767d",
   "metadata": {},
   "outputs": [
    {
     "name": "stdout",
     "output_type": "stream",
     "text": [
      "[1, 2, 4, 6, 10, 256]\n"
     ]
    }
   ],
   "source": [
    "# Renvoie la liste triée par ordre croissant\n",
    "trier([6,2,4,10,256,1], \"asc\")"
   ]
  },
  {
   "cell_type": "code",
   "execution_count": 48,
   "id": "ea9ca933",
   "metadata": {},
   "outputs": [
    {
     "name": "stdout",
     "output_type": "stream",
     "text": [
      "[256, 10, 6, 4, 2, 1]\n"
     ]
    }
   ],
   "source": [
    "# Renvoie la liste triée par ordre décroissant\n",
    "trier([6,2,4,10,256,1], \"desc\")"
   ]
  },
  {
   "cell_type": "code",
   "execution_count": 49,
   "id": "da104a82",
   "metadata": {},
   "outputs": [
    {
     "data": {
      "text/plain": [
       "[6, 2, 4, 10, 256, 1]"
      ]
     },
     "execution_count": 49,
     "metadata": {},
     "output_type": "execute_result"
    }
   ],
   "source": [
    "# Renvoie la list originale\n",
    "trier([6,2,4,10,256,1], \"none\")"
   ]
  },
  {
   "cell_type": "markdown",
   "id": "ea079ea1",
   "metadata": {},
   "source": [
    "### Différence entre `sort()` et `sorted()`\n",
    "\n",
    "Note: The simplest difference between sort() and sorted() is: sort() changes the list directly and doesn't return any value, while sorted() doesn't change the list and returns the sorted list."
   ]
  },
  {
   "cell_type": "code",
   "execution_count": 22,
   "id": "d7dcadba",
   "metadata": {},
   "outputs": [
    {
     "name": "stdout",
     "output_type": "stream",
     "text": [
      "[0, 1, 2, 6, 8]\n"
     ]
    }
   ],
   "source": [
    "# Méthode sort()\n",
    "\n",
    "liste = [2, 8, 1, 0, 6]\n",
    "liste.sort()\n",
    "print(liste)"
   ]
  },
  {
   "cell_type": "code",
   "execution_count": 24,
   "id": "16a71f4d",
   "metadata": {},
   "outputs": [
    {
     "data": {
      "text/plain": [
       "[8, 6, 2, 1, 0]"
      ]
     },
     "execution_count": 24,
     "metadata": {},
     "output_type": "execute_result"
    }
   ],
   "source": [
    "# Méthode sorted\n",
    "\n",
    "liste = [2, 8, 1, 0, 6]\n",
    "sorted(liste, reverse=True)"
   ]
  },
  {
   "cell_type": "markdown",
   "id": "52ad2bb3",
   "metadata": {},
   "source": [
    "## 3. Convert a decimal number into binary\n",
    "\n",
    "Write a function in Python that accepts a decimal number and returns the equivalent binary number. To make this simple, the decimal number will always be less than 1,024, so the binary number returned will always be less than ten digits long."
   ]
  },
  {
   "cell_type": "markdown",
   "id": "bce694a4",
   "metadata": {},
   "source": [
    "### How to convert decimal to binary\n",
    "\n",
    "**Conversion steps:**\n",
    "\n",
    "- Divide the number by 2.\n",
    "- Get the integer quotient for the next iteration.\n",
    "- Get the remainder for the binary digit.\n",
    "- Repeat the steps until the quotient is equal to 0."
   ]
  },
  {
   "cell_type": "code",
   "execution_count": 133,
   "id": "f2876135",
   "metadata": {},
   "outputs": [],
   "source": [
    "# digital number < 1,024\n",
    "\n",
    "def binary(a):\n",
    "    code = []\n",
    "    quotient = a // 2\n",
    "    reste = a % 2\n",
    "    code.append(str(reste))\n",
    "    while quotient != 0 :\n",
    "        reste = quotient % 2\n",
    "        quotient = quotient // 2\n",
    "        code.append(str(reste))\n",
    "        code_final = \"\".join(code)\n",
    "    code_final = code_final[::-1]\n",
    "    code_final = int(code_final)        \n",
    "    return code_final"
   ]
  },
  {
   "cell_type": "code",
   "execution_count": 135,
   "id": "5ce33b86",
   "metadata": {},
   "outputs": [
    {
     "data": {
      "text/plain": [
       "10100"
      ]
     },
     "execution_count": 135,
     "metadata": {},
     "output_type": "execute_result"
    }
   ],
   "source": [
    "binary(20)"
   ]
  },
  {
   "cell_type": "markdown",
   "id": "ac40e20a",
   "metadata": {},
   "source": [
    "## Fusionner les mots d'une liste (avec `join()`)"
   ]
  },
  {
   "cell_type": "code",
   "execution_count": 136,
   "id": "dec81399",
   "metadata": {},
   "outputs": [
    {
     "name": "stdout",
     "output_type": "stream",
     "text": [
      "This is a test\n"
     ]
    }
   ],
   "source": [
    "words = [\"This\", \"is\", \"a\", \"test\"]\n",
    "sentence = \" \".join(words)\n",
    "print(sentence)"
   ]
  },
  {
   "cell_type": "markdown",
   "id": "7b98b65a",
   "metadata": {},
   "source": [
    "## Fonction pour inverser un mot / phrase"
   ]
  },
  {
   "cell_type": "code",
   "execution_count": 140,
   "id": "0634d11a",
   "metadata": {},
   "outputs": [],
   "source": [
    "def inverser(a):\n",
    "    mot = a[::-1]\n",
    "    return mot"
   ]
  },
  {
   "cell_type": "code",
   "execution_count": 237,
   "id": "c42bcd46",
   "metadata": {},
   "outputs": [
    {
     "name": "stdout",
     "output_type": "stream",
     "text": [
      "tset\n",
      "sdrawkcab ekil skool txet siht woh rednow I\n",
      "kayak\n"
     ]
    }
   ],
   "source": [
    "print(inverser(\"test\"))\n",
    "print(inverser(\"I wonder how this text looks like backwards\"))\n",
    "print(inverser(\"kayak\"))"
   ]
  },
  {
   "cell_type": "markdown",
   "id": "3a00862a",
   "metadata": {},
   "source": [
    "## 4. Count the vowels in a string\n",
    "\n",
    "Create a function in Python that accepts a single word and returns the number of vowels in that word. In this function, only a, e, i, o, and u will be counted as vowels — not y."
   ]
  },
  {
   "cell_type": "code",
   "execution_count": 148,
   "id": "b2a60df8",
   "metadata": {},
   "outputs": [],
   "source": [
    "def compter_voyelles(a):\n",
    "    liste_voyelles = [\"a\", \"e\", \"i\", \"o\", \"u\"]\n",
    "    somme_voyelles = 0\n",
    "    for x in a :\n",
    "        if x in liste_voyelles :\n",
    "            somme_voyelles += 1\n",
    "    return somme_voyelles"
   ]
  },
  {
   "cell_type": "code",
   "execution_count": 238,
   "id": "044c95d9",
   "metadata": {},
   "outputs": [
    {
     "name": "stdout",
     "output_type": "stream",
     "text": [
      "5\n",
      "1\n"
     ]
    }
   ],
   "source": [
    "print(compter_voyelles(\"ceci est un test\"))\n",
    "print(compter_voyelles(\"chat\"))"
   ]
  },
  {
   "cell_type": "markdown",
   "id": "3fb8d014",
   "metadata": {},
   "source": [
    "## 5. Hide the credit card number\n",
    "\n",
    "Write a function in Python that accepts a credit card number. It should return a string where all the characters are hidden with an asterisk except the last four. For example, if the function gets sent \"4444444444444444\", then it should return \"4444\"."
   ]
  },
  {
   "cell_type": "code",
   "execution_count": 239,
   "id": "ac2c90a2",
   "metadata": {},
   "outputs": [],
   "source": [
    "def carte(a):\n",
    "    liste = [x for x in a]\n",
    "    chiffres = liste[-4:]\n",
    "    del liste[-4:]\n",
    "    asterisque = []\n",
    "    for x in liste :\n",
    "        asterisque.append(\"*\")\n",
    "    asterisque = \"\".join(asterisque)\n",
    "    for x in chiffres :\n",
    "        asterisque= asterisque + x\n",
    "    return asterisque"
   ]
  },
  {
   "cell_type": "code",
   "execution_count": 196,
   "id": "40a9201c",
   "metadata": {},
   "outputs": [
    {
     "data": {
      "text/plain": [
       "'************4444'"
      ]
     },
     "execution_count": 196,
     "metadata": {},
     "output_type": "execute_result"
    }
   ],
   "source": [
    "carte(\"4444444444444444\")"
   ]
  },
  {
   "cell_type": "code",
   "execution_count": 193,
   "id": "d1eff8e3",
   "metadata": {},
   "outputs": [],
   "source": [
    "def card_masked(a):\n",
    "    masked_card = len(a[:-4])*'*'\n",
    "    masked_card = masked_card + str(a[-4:])\n",
    "    print(masked_card)"
   ]
  },
  {
   "cell_type": "code",
   "execution_count": 194,
   "id": "9e8397e6",
   "metadata": {},
   "outputs": [
    {
     "name": "stdout",
     "output_type": "stream",
     "text": [
      "************4444\n"
     ]
    }
   ],
   "source": [
    "card_masked(\"4444444444444444\")"
   ]
  },
  {
   "cell_type": "markdown",
   "id": "109f9600",
   "metadata": {},
   "source": [
    "## 6. Are the Xs equal to the Os ?\n",
    "\n",
    "Create a Python function that accepts a string. This function should count the number of Xs and the number of Os in the string. It should then return a boolean value of either True or False.\n",
    "\n",
    "If the count of Xs and Os are equal, then the function should return True. If the count isn't the same, it should return False. If there are no Xs or Os in the string, it should also return True because 0 equals 0. The string can contain any type and number of characters."
   ]
  },
  {
   "cell_type": "code",
   "execution_count": 214,
   "id": "a0a03f8c",
   "metadata": {},
   "outputs": [],
   "source": [
    "def calcul(mot):\n",
    "    e=0\n",
    "    x=0\n",
    "    for y in mot :\n",
    "        if y == \"e\":\n",
    "            e += 1\n",
    "        elif y == \"x\":\n",
    "            x += 1\n",
    "    if e == x :\n",
    "        resultat = True\n",
    "    elif e != x :\n",
    "        resultat = False\n",
    "    elif e==0 or x==0 :\n",
    "        resultat = True\n",
    "    return resultat      "
   ]
  },
  {
   "cell_type": "code",
   "execution_count": 218,
   "id": "606ca78a",
   "metadata": {},
   "outputs": [
    {
     "name": "stdout",
     "output_type": "stream",
     "text": [
      "True\n",
      "False\n",
      "True\n"
     ]
    }
   ],
   "source": [
    "print(calcul(\"xylophone\"))\n",
    "print(calcul(\"xoxoxoxo\"))\n",
    "print(calcul(\"xerxes\"))"
   ]
  },
  {
   "cell_type": "markdown",
   "id": "108185cf",
   "metadata": {},
   "source": [
    "## 7. Create a calculator function\n",
    "\n",
    "Write a Python function that accepts three parameters. The first parameter is an integer. The second is one of the following mathematical operators: +, -, /, or . The third parameter will also be an integer.\n",
    "\n",
    "The function should perform a calculation and return the results. For example, if the function is passed 6 and 4, it should return 24."
   ]
  },
  {
   "cell_type": "code",
   "execution_count": 222,
   "id": "fe2e575d",
   "metadata": {},
   "outputs": [],
   "source": [
    "def calculer(a, b, c) : # int, operator, int\n",
    "    if b == \"*\":\n",
    "        calc = a*c\n",
    "    elif b == \"-\":\n",
    "        calc = a-c\n",
    "    elif b == \"+\":\n",
    "        calc = a+c\n",
    "    elif b == \"/\":\n",
    "        calc = a/c\n",
    "    return calc"
   ]
  },
  {
   "cell_type": "code",
   "execution_count": 228,
   "id": "37c00401",
   "metadata": {},
   "outputs": [
    {
     "name": "stdout",
     "output_type": "stream",
     "text": [
      "20\n",
      "5.0\n",
      "12\n",
      "8\n"
     ]
    }
   ],
   "source": [
    "print(calculer(10, \"*\", 2))\n",
    "print(calculer(10, \"/\", 2))\n",
    "print(calculer(10, \"+\", 2))\n",
    "print(calculer(10, \"-\", 2))"
   ]
  },
  {
   "cell_type": "markdown",
   "id": "7074a28f",
   "metadata": {},
   "source": [
    "## 8. Give me the discount\n",
    "\n",
    "Create a function in Python that accepts two parameters. The first should be the full price of an item as an integer. The second should be the discount percentage as an integer.\n",
    "\n",
    "The function should return the price of the item after the discount has been applied. For example, if the price is 100 and the discount is 20, the function should return 80."
   ]
  },
  {
   "cell_type": "code",
   "execution_count": 229,
   "id": "d5aa66ab",
   "metadata": {},
   "outputs": [],
   "source": [
    "def discount(a, b): # price, percentage\n",
    "    discount = (a*b)/100\n",
    "    resultat = a - discount\n",
    "    return resultat"
   ]
  },
  {
   "cell_type": "code",
   "execution_count": 235,
   "id": "bdf4e03b",
   "metadata": {},
   "outputs": [
    {
     "name": "stdout",
     "output_type": "stream",
     "text": [
      "80.0\n",
      "67.15\n",
      "12.497500000000002\n",
      "4.9975000000000005\n"
     ]
    }
   ],
   "source": [
    "print(discount(100, 20))\n",
    "print(discount(79, 15))\n",
    "print(discount(49.99, 75))\n",
    "print(discount(19.99, 75))"
   ]
  },
  {
   "cell_type": "markdown",
   "id": "0b08950c",
   "metadata": {},
   "source": [
    "## 9. Just the numbers\n",
    "\n",
    "Write a function in Python that accepts a list of any length that contains a mix of non-negative integers and strings. The function should return a list with only the integers in the original list in the same order."
   ]
  },
  {
   "cell_type": "code",
   "execution_count": 242,
   "id": "13535a70",
   "metadata": {},
   "outputs": [],
   "source": [
    "def trier(a):\n",
    "    liste = []\n",
    "    for x in a :\n",
    "        if x.isnumeric() == True :\n",
    "            liste.append(x)\n",
    "    return liste\n",
    "        "
   ]
  },
  {
   "cell_type": "code",
   "execution_count": 243,
   "id": "12fd09d7",
   "metadata": {},
   "outputs": [
    {
     "data": {
      "text/plain": [
       "['6', '3', '90', '1']"
      ]
     },
     "execution_count": 243,
     "metadata": {},
     "output_type": "execute_result"
    }
   ],
   "source": [
    "trier(['a', '6', 'u', 'i', 'o', 'u', 'y', '3', '90', '1', 'm'])"
   ]
  },
  {
   "cell_type": "code",
   "execution_count": 245,
   "id": "0a6722cb",
   "metadata": {},
   "outputs": [
    {
     "data": {
      "text/plain": [
       "['1', '3', '6', '90']"
      ]
     },
     "execution_count": 245,
     "metadata": {},
     "output_type": "execute_result"
    }
   ],
   "source": [
    "# on peut ensuite trier la liste\n",
    "sorted(['6', '3', '90', '1'])"
   ]
  },
  {
   "cell_type": "markdown",
   "id": "977a33c6",
   "metadata": {},
   "source": [
    "## 10. Repeat the characters\n",
    "\n",
    "Create a Python function that accepts a string. The function should return a string, with each character in the original string doubled. If you send the function \"now\" as a parameter, it should return \"nnooww,\" and if you send \"123a!\", it should return \"112233aa!!\"."
   ]
  },
  {
   "cell_type": "code",
   "execution_count": 287,
   "id": "1528a834",
   "metadata": {},
   "outputs": [],
   "source": [
    "def double(a):\n",
    "    mot = \"\"\n",
    "    for x in a :\n",
    "        mot = mot + x*2\n",
    "    return mot"
   ]
  },
  {
   "cell_type": "code",
   "execution_count": 288,
   "id": "38fa98d0",
   "metadata": {},
   "outputs": [
    {
     "name": "stdout",
     "output_type": "stream",
     "text": [
      "nnooww\n",
      "112233aa!!\n"
     ]
    }
   ],
   "source": [
    "print(double(\"now\"))\n",
    "print(double(\"123a!\"))"
   ]
  }
 ],
 "metadata": {
  "kernelspec": {
   "display_name": "Python 3 (ipykernel)",
   "language": "python",
   "name": "python3"
  },
  "language_info": {
   "codemirror_mode": {
    "name": "ipython",
    "version": 3
   },
   "file_extension": ".py",
   "mimetype": "text/x-python",
   "name": "python",
   "nbconvert_exporter": "python",
   "pygments_lexer": "ipython3",
   "version": "3.8.3"
  }
 },
 "nbformat": 4,
 "nbformat_minor": 5
}
