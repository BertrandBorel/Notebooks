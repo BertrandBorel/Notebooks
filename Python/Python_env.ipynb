{
 "cells": [
  {
   "cell_type": "markdown",
   "id": "6aa35b76",
   "metadata": {},
   "source": [
    "# <center> Python : environnements virtuels </center>"
   ]
  },
  {
   "cell_type": "markdown",
   "id": "05566f6a",
   "metadata": {},
   "source": [
    "**Sources :**\n",
    "    \n",
    "- https://docs.python.org/fr/3/tutorial/venv.html\n",
    "- https://docs.microsoft.com/fr-fr/visualstudio/python/managing-python-environments-in-visual-studio?view=vs-2022"
   ]
  },
  {
   "cell_type": "markdown",
   "id": "4a393b25",
   "metadata": {},
   "source": [
    "## Création d'environnement virtuel"
   ]
  },
  {
   "cell_type": "markdown",
   "id": "581e0039",
   "metadata": {},
   "source": [
    "`python3 -m venv tutorial-env`\n",
    "\n",
    "**ou :**\n",
    "    \n",
    "`python -m venv tutorial-env`"
   ]
  },
  {
   "cell_type": "markdown",
   "id": "66f338b8",
   "metadata": {},
   "source": [
    "## Activation de l'environnement\n",
    "\n",
    "`tutorial-env\\Scripts\\activate.bat`"
   ]
  },
  {
   "cell_type": "markdown",
   "id": "30684d04",
   "metadata": {},
   "source": [
    "## Désactiver l'environnement\n",
    "\n",
    "`tutorial-env\\Scripts\\deactivate.bat`"
   ]
  },
  {
   "cell_type": "markdown",
   "id": "99394373",
   "metadata": {},
   "source": [
    "## Supprimer un environnement\n",
    "\n",
    "`conda env remote -n nom_environnement`\n",
    "\n",
    "**Note :** Il s'agit souvent d'un dossier."
   ]
  }
 ],
 "metadata": {
  "kernelspec": {
   "display_name": "Python 3 (ipykernel)",
   "language": "python",
   "name": "python3"
  },
  "language_info": {
   "codemirror_mode": {
    "name": "ipython",
    "version": 3
   },
   "file_extension": ".py",
   "mimetype": "text/x-python",
   "name": "python",
   "nbconvert_exporter": "python",
   "pygments_lexer": "ipython3",
   "version": "3.8.3"
  }
 },
 "nbformat": 4,
 "nbformat_minor": 5
}
