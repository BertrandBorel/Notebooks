{
 "cells": [
  {
   "cell_type": "markdown",
   "id": "6aa35b76",
   "metadata": {},
   "source": [
    "# <center> Python : environnements virtuels </center>"
   ]
  },
  {
   "cell_type": "markdown",
   "id": "05566f6a",
   "metadata": {},
   "source": [
    "**Sources :**\n",
    "    \n",
    "- https://docs.python.org/fr/3/tutorial/venv.html\n",
    "- https://docs.microsoft.com/fr-fr/visualstudio/python/managing-python-environments-in-visual-studio?view=vs-2022\n",
    "- https://conda.io/projects/conda/en/latest/user-guide/tasks/manage-environments.html "
   ]
  },
  {
   "cell_type": "markdown",
   "id": "4a393b25",
   "metadata": {},
   "source": [
    "## Création d'environnement virtuel"
   ]
  },
  {
   "cell_type": "markdown",
   "id": "581e0039",
   "metadata": {},
   "source": [
    "`python3 -m venv tutorial-env`\n",
    "\n",
    "**ou :**\n",
    "    \n",
    "`python -m venv tutorial-env`"
   ]
  },
  {
   "cell_type": "markdown",
   "id": "66f338b8",
   "metadata": {},
   "source": [
    "## Activation de l'environnement\n",
    "\n",
    "`tutorial-env\\Scripts\\activate.bat`"
   ]
  },
  {
   "cell_type": "markdown",
   "id": "30684d04",
   "metadata": {},
   "source": [
    "## Désactiver l'environnement\n",
    "\n",
    "`tutorial-env\\Scripts\\deactivate.bat`"
   ]
  },
  {
   "cell_type": "markdown",
   "id": "99394373",
   "metadata": {},
   "source": [
    "## Supprimer un environnement\n",
    "\n",
    "`rm -r nom_environnement`\n",
    "\n",
    "**Note :** Il s'agit souvent d'un dossier."
   ]
  },
  {
   "cell_type": "markdown",
   "id": "cf883cb8",
   "metadata": {},
   "source": [
    "-------"
   ]
  },
  {
   "cell_type": "markdown",
   "id": "16c88293",
   "metadata": {},
   "source": [
    "## Environnements virtuels avec Conda\n",
    "\n",
    "\n",
    "### 1- Création d'un environnement virtuel :\n",
    "\n",
    "`conda create --name myenv`\n",
    "\n",
    "#### Avec une version particulière de python :\n",
    "\n",
    "`conda create -n myenv python=3.9`\n",
    "\n",
    "#### Idem mais avec d'autres packages\n",
    "\n",
    "`conda create -n myenv python=3.9 scipy=0.17.3 astroid babel`\n",
    "\n",
    "### 2- Lister les packages de l'environnement\n",
    "\n",
    "`conda env list`\n",
    "\n",
    "### 3- Activer l'environnement \n",
    "\n",
    "`conda activate myenv`\n",
    "\n",
    "### 4- Obtenir des informations sur les environnements virtuels\n",
    "\n",
    "`conda info --envs`  ou    `conda env list`\n",
    "\n",
    "### 5- Lister les packages d'un environnement\n",
    "\n",
    "`conda list`\n",
    "\n",
    "#### Sans être dans l'environnement : \n",
    "\n",
    "`conda list -n myenv`\n",
    "\n",
    "#### Pour voir un package particulier :\n",
    "\n",
    "`conda list -n myenv scipy`\n",
    "\n",
    "### 6- Désactiver un environnement\n",
    "\n",
    "`conda deactivate nom_env`\n",
    "\n",
    "### 7- Supprimer un environnement\n",
    "\n",
    "`conda env remove --name env_test`"
   ]
  }
 ],
 "metadata": {
  "kernelspec": {
   "display_name": "Python 3 (ipykernel)",
   "language": "python",
   "name": "python3"
  },
  "language_info": {
   "codemirror_mode": {
    "name": "ipython",
    "version": 3
   },
   "file_extension": ".py",
   "mimetype": "text/x-python",
   "name": "python",
   "nbconvert_exporter": "python",
   "pygments_lexer": "ipython3",
   "version": "3.8.3"
  }
 },
 "nbformat": 4,
 "nbformat_minor": 5
}
