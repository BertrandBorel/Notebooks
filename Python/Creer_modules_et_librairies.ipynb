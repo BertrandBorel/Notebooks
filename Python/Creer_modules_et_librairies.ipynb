{
 "cells": [
  {
   "cell_type": "markdown",
   "id": "03e197cd",
   "metadata": {},
   "source": [
    "# <center> Créer des modules et des librairies. </center>\n",
    "\n",
    "**Sources :**\n",
    "- https://openclassrooms.com/fr/courses/4425111-perfectionnez-vous-en-python/4463445-organisez-un-projet-en-modules\n",
    "- https://www.digitalocean.com/community/tutorials/how-to-write-modules-in-python-3\n",
    "- https://www.w3schools.com/python/python_modules.asp\n",
    "- https://docs.python.org/2/tutorial/modules.html\n",
    "- https://medium.com/analytics-vidhya/how-to-create-a-python-library-7d5aea80cc3f\n",
    "\n",
    "**Objectif :** Permet d'importer des fichiers dans un programme comme des modules."
   ]
  },
  {
   "cell_type": "markdown",
   "id": "39d955c5",
   "metadata": {},
   "source": [
    "## Créer des modules\n",
    "\n",
    "### Exemple : \n",
    "\n",
    "`import nom_fichier as abréviation`\n",
    "\n",
    "### Importer une partie d'un module\n",
    "\n",
    "`from nom_fichier import élément`\n",
    "\n",
    "Pour plusieurs éléments :\n",
    "\n",
    "`from nom_fichier import élément_1, élément_2, élément_3...`\n",
    "\n",
    "### Importer un module qui n'est pas dans le dossier\n",
    "\n",
    "`import sys`\n",
    "sys.path.append('/chemin/du/fichier/')`\n",
    "\n",
    "### Lister les fonctions d'un module\n",
    "\n",
    "`import mon_module`\n",
    "\n",
    "`x = dir(mon_module)`\n",
    "\n",
    "`print(x)`"
   ]
  },
  {
   "cell_type": "markdown",
   "id": "6de85667",
   "metadata": {},
   "source": [
    "---"
   ]
  },
  {
   "cell_type": "markdown",
   "id": "fbf110aa",
   "metadata": {},
   "source": [
    "# <center> Créer une librairie </center> \n",
    "\n",
    "C'est un ensemble de modules, appelé **package** en anglais. Il contient obligatoirement un fichier `__init__.py`.\n",
    "\n",
    "## Structure d'une librairie\n",
    "\n",
    "nom_librairie \n",
    "   - `setup.py`\n",
    "    \n",
    "   - nom_sous_module\n",
    "    \n",
    "        - `sous_module.py`\n",
    "        \n",
    "        - `__init__.py`\n"
   ]
  }
 ],
 "metadata": {
  "kernelspec": {
   "display_name": "Python 3 (ipykernel)",
   "language": "python",
   "name": "python3"
  },
  "language_info": {
   "codemirror_mode": {
    "name": "ipython",
    "version": 3
   },
   "file_extension": ".py",
   "mimetype": "text/x-python",
   "name": "python",
   "nbconvert_exporter": "python",
   "pygments_lexer": "ipython3",
   "version": "3.8.3"
  }
 },
 "nbformat": 4,
 "nbformat_minor": 5
}
