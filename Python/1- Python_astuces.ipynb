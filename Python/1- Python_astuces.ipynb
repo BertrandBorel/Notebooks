{
 "cells": [
  {
   "cell_type": "markdown",
   "id": "202d076e",
   "metadata": {},
   "source": [
    "# <center> Trucs et astuces en Python </center>\n",
    "\n",
    "**Source :** revue Coding, n°16, p.94-105\n",
    "    \n",
    "## 1- Générer un son :\n",
    "- https://pythonin1minute.com/how-to-beep-in-python/"
   ]
  },
  {
   "cell_type": "code",
   "execution_count": null,
   "id": "ff2dc017",
   "metadata": {},
   "outputs": [],
   "source": [
    "# dans un terminal tappez :\n",
    "print('\\a')"
   ]
  },
  {
   "cell_type": "code",
   "execution_count": 6,
   "id": "91767ebf",
   "metadata": {},
   "outputs": [],
   "source": [
    "# winsound\n",
    "import winsound\n",
    "winsound.Beep(440, 500)"
   ]
  },
  {
   "cell_type": "code",
   "execution_count": 10,
   "id": "67655d44",
   "metadata": {},
   "outputs": [],
   "source": [
    "# autre exemple\n",
    "import winsound\n",
    "winsound.PlaySound(\"SystemExclamation\", winsound.SND_ALIAS)"
   ]
  },
  {
   "cell_type": "code",
   "execution_count": 11,
   "id": "aab60297",
   "metadata": {},
   "outputs": [],
   "source": [
    "# Personnaliser un son\n",
    "import winsound\n",
    "winsound.PlaySound(\"mon_son.wav\", winsound.SND_FILENAME)"
   ]
  },
  {
   "cell_type": "markdown",
   "id": "22d722bb",
   "metadata": {},
   "source": [
    "## 2- Fusion de dictionnaires (avec **)"
   ]
  },
  {
   "cell_type": "code",
   "execution_count": 14,
   "id": "b86ae253",
   "metadata": {},
   "outputs": [
    {
     "name": "stdout",
     "output_type": "stream",
     "text": [
      "{1: 'rouge', 2: 'bleu', 3: 'orange', 4: 'violet', 5: 'marron', 6: 'rose'}\n"
     ]
    }
   ],
   "source": [
    "dico_1 = {1:\"rouge\", 2:\"bleu\", 3:\"orange\"}\n",
    "dico_2 = {4:\"violet\", 5:\"marron\", 6:\"rose\"}\n",
    "\n",
    "dico_3 = {**dico_1, **dico_2}\n",
    "print(dico_3)"
   ]
  },
  {
   "cell_type": "markdown",
   "id": "ca83f2b3",
   "metadata": {},
   "source": [
    "## 3- Gestion des chemins en Python\n",
    "\n",
    "L'ajout de **`r`** devant les guillements de chaîne garantit que les chemins de fichiers ne se confondent pas entre Python et les paramètres systèmes.\n",
    "\n",
    "## 4- Lisibilité des grands nombres (millions, milliards)\n",
    "\n",
    "En séparant les zéros avec **`_`**."
   ]
  },
  {
   "cell_type": "code",
   "execution_count": 15,
   "id": "b0088005",
   "metadata": {},
   "outputs": [
    {
     "name": "stdout",
     "output_type": "stream",
     "text": [
      "10000000\n"
     ]
    }
   ],
   "source": [
    "# exemple \n",
    "prix = 10_000_000\n",
    "print(prix)"
   ]
  },
  {
   "cell_type": "markdown",
   "id": "fa9413e8",
   "metadata": {},
   "source": [
    "## 5- Inverser une chaîne de caractère"
   ]
  },
  {
   "cell_type": "code",
   "execution_count": 21,
   "id": "993baca3",
   "metadata": {},
   "outputs": [
    {
     "name": "stdout",
     "output_type": "stream",
     "text": [
      "ruetanidro\n"
     ]
    }
   ],
   "source": [
    "# exemple \n",
    "chaine = \"ordinateur\"\n",
    "print(chaine[::-1])"
   ]
  },
  {
   "cell_type": "markdown",
   "id": "f9ceafc2",
   "metadata": {},
   "source": [
    "## 6- Convertir une liste en dictionnaire"
   ]
  },
  {
   "cell_type": "code",
   "execution_count": 22,
   "id": "3024cad4",
   "metadata": {},
   "outputs": [
    {
     "name": "stdout",
     "output_type": "stream",
     "text": [
      "{'Pierre': 2000, 'Paul': 1500, 'Jacques': 1200}\n"
     ]
    }
   ],
   "source": [
    "noms = [\"Pierre\", \"Paul\", \"Jacques\"]\n",
    "salaires = [2000, 1500, 1200]\n",
    "\n",
    "dico = dict(zip(noms, salaires))\n",
    "print(dico)"
   ]
  },
  {
   "cell_type": "markdown",
   "id": "532478f9",
   "metadata": {},
   "source": [
    "## 7- Saisies multiples\n",
    "\n",
    "- https://www.geeksforgeeks.org/taking-multiple-inputs-from-user-in-python/"
   ]
  },
  {
   "cell_type": "code",
   "execution_count": 28,
   "id": "6bb3c487",
   "metadata": {},
   "outputs": [
    {
     "name": "stdout",
     "output_type": "stream",
     "text": [
      "Quel est votre nom et votre âge ?Bob 19\n",
      "Bob 19\n"
     ]
    }
   ],
   "source": [
    "# il faut entre les deux valeurs à la suite, séparées par un espace\n",
    "a, b = input(\"Quel est votre nom et votre âge ?\").split()\n",
    "print(a, b)"
   ]
  },
  {
   "cell_type": "code",
   "execution_count": 29,
   "id": "89307403",
   "metadata": {},
   "outputs": [
    {
     "name": "stdout",
     "output_type": "stream",
     "text": [
      "Enter two values: 3 6\n",
      "First number is 3 and second number is 6\n",
      "\n"
     ]
    }
   ],
   "source": [
    "a, b = input(\"Enter two values: \").split()\n",
    "print(\"First number is {} and second number is {}\".format(a, b))\n",
    "print()"
   ]
  },
  {
   "cell_type": "code",
   "execution_count": 27,
   "id": "64c6565e",
   "metadata": {},
   "outputs": [
    {
     "name": "stdout",
     "output_type": "stream",
     "text": [
      "Enter two values: 3 8\n",
      "Number of boys:  3\n",
      "Number of girls:  8\n",
      "\n"
     ]
    }
   ],
   "source": [
    "x, y = input(\"Enter two values: \").split()\n",
    "print(\"Number of boys: \", x)\n",
    "print(\"Number of girls: \", y)\n",
    "print()"
   ]
  },
  {
   "cell_type": "markdown",
   "id": "23053200",
   "metadata": {},
   "source": [
    "## 8- Eteindre le PC"
   ]
  },
  {
   "cell_type": "code",
   "execution_count": 30,
   "id": "5cbc4794",
   "metadata": {},
   "outputs": [],
   "source": [
    "# import os\n",
    "# os.system(\"window -s\")"
   ]
  },
  {
   "cell_type": "code",
   "execution_count": null,
   "id": "248fa496",
   "metadata": {},
   "outputs": [],
   "source": [
    "# import os\n",
    "# os.system(\"shutdown -s\")"
   ]
  },
  {
   "cell_type": "markdown",
   "id": "b8b870ca",
   "metadata": {},
   "source": [
    "## 9- Arguments multiples\n",
    "\n",
    "- https://www.learnpython.org/en/Multiple_Function_Arguments\n",
    "\n",
    "Si on ne sait pas à l'avance combien d'arguments un fonction doit recueillir, on peut accepter un nombre illimité d'arguments :"
   ]
  },
  {
   "cell_type": "code",
   "execution_count": 45,
   "id": "b384cfa7",
   "metadata": {},
   "outputs": [],
   "source": [
    "# Exemple :\n",
    "def nombre(*num):\n",
    "    print(num)"
   ]
  },
  {
   "cell_type": "code",
   "execution_count": 47,
   "id": "3b749d51",
   "metadata": {},
   "outputs": [
    {
     "name": "stdout",
     "output_type": "stream",
     "text": [
      "(1, 2, 3, 4, 5)\n"
     ]
    }
   ],
   "source": [
    "nombre(1, 2, 3, 4, 5)"
   ]
  },
  {
   "cell_type": "code",
   "execution_count": 48,
   "id": "42b2ed3a",
   "metadata": {},
   "outputs": [],
   "source": [
    "# Autre exemple :\n",
    "def foo(first, second, third, *therest):\n",
    "    print(\"First: %s\" % first)\n",
    "    print(\"Second: %s\" % second)\n",
    "    print(\"Third: %s\" % third)\n",
    "    print(\"And all the rest... %s\" % list(therest))"
   ]
  },
  {
   "cell_type": "code",
   "execution_count": 49,
   "id": "920b5088",
   "metadata": {},
   "outputs": [
    {
     "name": "stdout",
     "output_type": "stream",
     "text": [
      "First: 1\n",
      "Second: 2\n",
      "Third: 3\n",
      "And all the rest... [4, 5]\n"
     ]
    }
   ],
   "source": [
    "foo(1, 2, 3, 4, 5)"
   ]
  },
  {
   "cell_type": "markdown",
   "id": "53f4e037",
   "metadata": {},
   "source": [
    "## 10- Lire les mots de passe en tant qu'entrée utilisateur\n",
    "\n",
    "Masquer le mot de passe saisi par **`*`**."
   ]
  },
  {
   "cell_type": "code",
   "execution_count": 52,
   "id": "1ce01b48",
   "metadata": {},
   "outputs": [
    {
     "name": "stdout",
     "output_type": "stream",
     "text": [
      "Entrez le nom d'utilisateur : test\n",
      "Entrez le mot de passe : ········\n"
     ]
    }
   ],
   "source": [
    "from getpass import getpass\n",
    "\n",
    "usern = input(\"Entrez le nom d'utilisateur : \")\n",
    "passw = getpass('Entrez le mot de passe : ')"
   ]
  },
  {
   "cell_type": "markdown",
   "id": "2d04ba1a",
   "metadata": {},
   "source": [
    "## 11- Calculer le temps d'exécution d'un programme\n",
    "\n",
    "- https://www.programiz.com/python-programming/time"
   ]
  },
  {
   "cell_type": "code",
   "execution_count": 66,
   "id": "fa2d3e60",
   "metadata": {},
   "outputs": [
    {
     "name": "stdout",
     "output_type": "stream",
     "text": [
      "0.10440421104431152\n"
     ]
    }
   ],
   "source": [
    "import time\n",
    "\n",
    "# programme \n",
    "def fonction_test():\n",
    "    compteur = 0\n",
    "    while compteur < 1000000 :\n",
    "        compteur += 1\n",
    "\n",
    "startTime = time.time()\n",
    "\n",
    "# appel de la fonction\n",
    "fonction_test()\n",
    "\n",
    "endTime = time.time()\n",
    "totalTime = endTime - startTime\n",
    "\n",
    "print(totalTime)\n"
   ]
  },
  {
   "cell_type": "code",
   "execution_count": null,
   "id": "c355c00d",
   "metadata": {},
   "outputs": [],
   "source": [
    "# structure  :\n",
    "\n",
    "# importation\n",
    "import time\n",
    "\n",
    "# h de début\n",
    "startTime = time.time()\n",
    "\n",
    "# Insertion de code\n",
    "    # [...]\n",
    "\n",
    "# h de fin \n",
    "endTime = time.time()\n",
    "\n",
    "# somme des h de début/fin\n",
    "totalTime = endTime - startTime\n",
    "\n",
    "print(\"Le temps d'exécution du programme est de : \", totalTime)"
   ]
  },
  {
   "cell_type": "markdown",
   "id": "2d093a8c",
   "metadata": {},
   "source": [
    "## 12- Supprimer des doublons d'une liste"
   ]
  },
  {
   "cell_type": "code",
   "execution_count": 179,
   "id": "24d4b08b",
   "metadata": {},
   "outputs": [
    {
     "name": "stdout",
     "output_type": "stream",
     "text": [
      "[40, 10, 50, 20, 30]\n"
     ]
    }
   ],
   "source": [
    "liste = [10, 10, 10, 20, 30, 40, 50, 50]\n",
    "\n",
    "# supprimer les doublons = ordre pas conservé\n",
    "liste = list(set(liste))\n",
    "\n",
    "print(liste)"
   ]
  },
  {
   "cell_type": "code",
   "execution_count": 180,
   "id": "093c23f0",
   "metadata": {},
   "outputs": [
    {
     "name": "stdout",
     "output_type": "stream",
     "text": [
      "[10, 20, 30, 40, 50]\n"
     ]
    }
   ],
   "source": [
    "# trier (ordre chronologique)\n",
    "liste.sort()\n",
    "\n",
    "print(liste)"
   ]
  },
  {
   "cell_type": "code",
   "execution_count": 182,
   "id": "deada6ec",
   "metadata": {},
   "outputs": [
    {
     "name": "stdout",
     "output_type": "stream",
     "text": [
      "[1, 100, 250, 20, 30, 4, 50]\n"
     ]
    }
   ],
   "source": [
    "# supprimer les doublons mais en conservant l'ordre primaire\n",
    "from collections import OrderedDict\n",
    "\n",
    "liste = [1, 100, 250, 1, 20, 30, 4, 50, 50]\n",
    "\n",
    "print((list(OrderedDict.fromkeys(liste).keys())))"
   ]
  },
  {
   "cell_type": "markdown",
   "id": "48fcc219",
   "metadata": {},
   "source": [
    "## 13- Ajouter des éléments à un tuple"
   ]
  },
  {
   "cell_type": "code",
   "execution_count": 77,
   "id": "fb98c30d",
   "metadata": {},
   "outputs": [
    {
     "name": "stdout",
     "output_type": "stream",
     "text": [
      "(1, 2, 3, 4, 5)\n"
     ]
    }
   ],
   "source": [
    "my_tuple = (1, 2, 3)\n",
    "\n",
    "# on transforme le tuple en liste\n",
    "my_list = list(my_tuple)\n",
    "\n",
    "# on ajoute des éléments\n",
    "my_list.append(4)\n",
    "my_list.append(5)\n",
    "\n",
    "# on reconvertit en tuple\n",
    "my_tuple = tuple(my_list)\n",
    "print(my_tuple)\n"
   ]
  },
  {
   "cell_type": "markdown",
   "id": "bbf3f894",
   "metadata": {},
   "source": [
    "## 14- Vérification si un mot est un palindrome"
   ]
  },
  {
   "cell_type": "code",
   "execution_count": 81,
   "id": "cfdc2872",
   "metadata": {},
   "outputs": [],
   "source": [
    "def palindrome(mot):\n",
    "    palindrome = bool(mot.find(mot[::-1]) + 1)\n",
    "    return palindrome"
   ]
  },
  {
   "cell_type": "code",
   "execution_count": 82,
   "id": "aee63a9f",
   "metadata": {},
   "outputs": [
    {
     "data": {
      "text/plain": [
       "True"
      ]
     },
     "execution_count": 82,
     "metadata": {},
     "output_type": "execute_result"
    }
   ],
   "source": [
    "palindrome(\"kayak\")"
   ]
  },
  {
   "cell_type": "code",
   "execution_count": 84,
   "id": "5e670cdd",
   "metadata": {},
   "outputs": [
    {
     "data": {
      "text/plain": [
       "False"
      ]
     },
     "execution_count": 84,
     "metadata": {},
     "output_type": "execute_result"
    }
   ],
   "source": [
    "palindrome(\"yoyo\")"
   ]
  },
  {
   "cell_type": "markdown",
   "id": "a7f6339e",
   "metadata": {},
   "source": [
    "## 15- Compréhension de liste"
   ]
  },
  {
   "cell_type": "code",
   "execution_count": 85,
   "id": "a558149a",
   "metadata": {},
   "outputs": [
    {
     "name": "stdout",
     "output_type": "stream",
     "text": [
      "[1, 4, 9, 16, 25, 36, 49, 64, 81]\n"
     ]
    }
   ],
   "source": [
    "# Exemple avec une boucle for\n",
    "liste = []\n",
    "\n",
    "for x in range(1, 10):\n",
    "    liste.append(x**2)\n",
    "\n",
    "print(liste)"
   ]
  },
  {
   "cell_type": "code",
   "execution_count": 86,
   "id": "48f2792a",
   "metadata": {},
   "outputs": [
    {
     "name": "stdout",
     "output_type": "stream",
     "text": [
      "[1, 4, 9, 16, 25, 36, 49, 64, 81]\n"
     ]
    }
   ],
   "source": [
    "# Exemple avec une compréhension de liste\n",
    "liste = [x**2 for x in range(1, 10)]\n",
    "print(liste)"
   ]
  },
  {
   "cell_type": "code",
   "execution_count": 133,
   "id": "b9ddade9",
   "metadata": {},
   "outputs": [
    {
     "name": "stdout",
     "output_type": "stream",
     "text": [
      "[1, 9, 25, 49, 81]\n",
      "[1, 9, 25, 49, 81]\n"
     ]
    }
   ],
   "source": [
    "# Autre exemple :\n",
    "\n",
    "# Code standard :\n",
    "impair_carre = []\n",
    "for x in range (1, 11):\n",
    "    if x % 2 == 1 :\n",
    "        impair_carre.append(x**2)\n",
    "print(impair_carre)\n",
    "\n",
    "# compréhension de liste\n",
    "odd_square = [x**2 for x in range(1, 11) if x % 2 == 1]\n",
    "print(odd_square)"
   ]
  },
  {
   "cell_type": "markdown",
   "id": "c2bd2a1e",
   "metadata": {},
   "source": [
    "## 16- Compréhension de dictionnaire"
   ]
  },
  {
   "cell_type": "code",
   "execution_count": 94,
   "id": "1628ce63",
   "metadata": {},
   "outputs": [
    {
     "name": "stdout",
     "output_type": "stream",
     "text": [
      "{1: 1, 2: 4, 3: 9}\n"
     ]
    }
   ],
   "source": [
    "dico = {x:x ** 2 for x in range(1, 4)}\n",
    "print(dico)"
   ]
  },
  {
   "cell_type": "markdown",
   "id": "ef832153",
   "metadata": {},
   "source": [
    "## 17- Opérateur de chaîne"
   ]
  },
  {
   "cell_type": "code",
   "execution_count": 95,
   "id": "02c9d16b",
   "metadata": {},
   "outputs": [
    {
     "name": "stdout",
     "output_type": "stream",
     "text": [
      "True\n"
     ]
    }
   ],
   "source": [
    "nombre = 50\n",
    "resultat = 25 < nombre < 58\n",
    "print(resultat)"
   ]
  },
  {
   "cell_type": "markdown",
   "id": "ef769aa2",
   "metadata": {},
   "source": [
    "## 18- Scission d'une chaîne de caractères avec **`split()`**"
   ]
  },
  {
   "cell_type": "code",
   "execution_count": 96,
   "id": "0f8ea277",
   "metadata": {},
   "outputs": [
    {
     "name": "stdout",
     "output_type": "stream",
     "text": [
      "['Ceci', 'est', 'un', 'exemple']\n"
     ]
    }
   ],
   "source": [
    "chaine = \"Ceci est un exemple\"\n",
    "print(chaine.split())"
   ]
  },
  {
   "cell_type": "markdown",
   "id": "39cd3934",
   "metadata": {},
   "source": [
    "## 19- Ralentir du code avec **`time.sleep()`**\n",
    "Permet d'afficher un résultat par exemple."
   ]
  },
  {
   "cell_type": "code",
   "execution_count": 98,
   "id": "6670d8f0",
   "metadata": {},
   "outputs": [
    {
     "name": "stdout",
     "output_type": "stream",
     "text": [
      "Temps de latence de 2 secondes...\n",
      "Terminé !\n"
     ]
    }
   ],
   "source": [
    "import time\n",
    "\n",
    "print(\"Temps de latence de 2 secondes...\")\n",
    "# paramètre : temps en secondes\n",
    "time.sleep(2)\n",
    "print(\"Terminé !\")"
   ]
  },
  {
   "cell_type": "markdown",
   "id": "a371d3b8",
   "metadata": {},
   "source": [
    "## 20- Compter le nombre d'occurences de mots dans une liste\n",
    "- https://docs.python.org/3/library/collections.html#collections.Counter"
   ]
  },
  {
   "cell_type": "code",
   "execution_count": 113,
   "id": "37e4a2da",
   "metadata": {},
   "outputs": [
    {
     "data": {
      "text/plain": [
       "Counter({'chat': 2, 'chien': 1, 'oiseau': 1})"
      ]
     },
     "execution_count": 113,
     "metadata": {},
     "output_type": "execute_result"
    }
   ],
   "source": [
    "from collections import Counter\n",
    "\n",
    "liste = ['chat', 'chien', 'oiseau', 'chat']\n",
    "Counter(liste)"
   ]
  },
  {
   "cell_type": "markdown",
   "id": "62c5717d",
   "metadata": {},
   "source": [
    "## 21- Créer une boucle `for` avec `else`"
   ]
  },
  {
   "cell_type": "code",
   "execution_count": 115,
   "id": "8a1f09eb",
   "metadata": {},
   "outputs": [
    {
     "name": "stdout",
     "output_type": "stream",
     "text": [
      "1\n",
      "2\n",
      "3\n",
      "Boucle terminée\n"
     ]
    }
   ],
   "source": [
    "# Le else est activé une fois la boucle achevée\n",
    "\n",
    "for x in range(1, 4):\n",
    "    print(x)\n",
    "else :\n",
    "    print(\"Boucle terminée\")"
   ]
  },
  {
   "cell_type": "markdown",
   "id": "08fcb783",
   "metadata": {},
   "source": [
    "## 22- Fonction **lambda**\n",
    "\n",
    "Lambda est une mini fonction d'une ligne définie par l'utilisateur. "
   ]
  },
  {
   "cell_type": "code",
   "execution_count": 116,
   "id": "1f18d5b3",
   "metadata": {},
   "outputs": [
    {
     "name": "stdout",
     "output_type": "stream",
     "text": [
      "25\n"
     ]
    }
   ],
   "source": [
    "# carré de x\n",
    "nombre = lambda x : x**2\n",
    "print(nombre(5))"
   ]
  },
  {
   "cell_type": "code",
   "execution_count": 134,
   "id": "6a74b8c1",
   "metadata": {},
   "outputs": [
    {
     "name": "stdout",
     "output_type": "stream",
     "text": [
      "5\n"
     ]
    }
   ],
   "source": [
    "# addition de a + b\n",
    "addition = lambda a,b : a + b\n",
    "print(addition(2, 3))"
   ]
  },
  {
   "cell_type": "markdown",
   "id": "eb525171",
   "metadata": {},
   "source": [
    "## 23- Renvoyer plusieurs résultats d'une fonction"
   ]
  },
  {
   "cell_type": "code",
   "execution_count": 118,
   "id": "5d55d874",
   "metadata": {},
   "outputs": [
    {
     "name": "stdout",
     "output_type": "stream",
     "text": [
      "(1, 2, 3)\n"
     ]
    }
   ],
   "source": [
    "def valeurs():\n",
    "    return 1, 2, 3\n",
    "\n",
    "print(valeurs())"
   ]
  },
  {
   "cell_type": "markdown",
   "id": "8f47f955",
   "metadata": {},
   "source": [
    "## 24- Faire une copie profonde\n",
    "- https://fr.quora.com/Quest-ce-quune-copie-profonde-et-une-copie-superficielle-en-python"
   ]
  },
  {
   "cell_type": "code",
   "execution_count": 119,
   "id": "6d685b0d",
   "metadata": {},
   "outputs": [],
   "source": [
    "import copy\n",
    "\n",
    "liste = ['chat', 'chien', 'oiseau', 'dauphin']\n",
    "\n",
    "liste_copie = copy.deepcopy(liste)"
   ]
  },
  {
   "cell_type": "markdown",
   "id": "43da60e6",
   "metadata": {},
   "source": [
    "## 25- Concaténation de chaînes avec **`join()`**"
   ]
  },
  {
   "cell_type": "code",
   "execution_count": 121,
   "id": "09351d36",
   "metadata": {},
   "outputs": [
    {
     "name": "stdout",
     "output_type": "stream",
     "text": [
      "test\n"
     ]
    }
   ],
   "source": [
    "lettres = ['t', 'e', 's', 't']\n",
    "\n",
    "mot = \"\".join(lettres)\n",
    "print(mot)"
   ]
  },
  {
   "cell_type": "markdown",
   "id": "bc454f72",
   "metadata": {},
   "source": [
    "## 26- Inversion d'une chaîne "
   ]
  },
  {
   "cell_type": "code",
   "execution_count": 122,
   "id": "15471e7b",
   "metadata": {},
   "outputs": [
    {
     "name": "stdout",
     "output_type": "stream",
     "text": [
      "bonjour\n"
     ]
    }
   ],
   "source": [
    "chaine = \"ruojnob\"\n",
    "\n",
    "print(chaine[::-1])"
   ]
  },
  {
   "cell_type": "markdown",
   "id": "d7d5f39f",
   "metadata": {},
   "source": [
    "## 27- Utilisation de **`zip()`** avec des listes"
   ]
  },
  {
   "cell_type": "code",
   "execution_count": 123,
   "id": "200b7213",
   "metadata": {},
   "outputs": [
    {
     "name": "stdout",
     "output_type": "stream",
     "text": [
      "python guido van rossum\n",
      "java james gosling\n",
      "c denis ritchie\n"
     ]
    }
   ],
   "source": [
    "# permet de combiner plusieurs listes de même longueur\n",
    "langages = ['python', 'java', 'c']\n",
    "createurs = ['guido van rossum', 'james gosling', 'denis ritchie']\n",
    "\n",
    "for langages, createurs in zip(langages, createurs) : \n",
    "    print(langages, createurs)"
   ]
  },
  {
   "cell_type": "markdown",
   "id": "7fa38ad7",
   "metadata": {},
   "source": [
    "## 28- Utilisation de la fonction **`zip()`**\n",
    "### Conversion de listes en dictionnaire"
   ]
  },
  {
   "cell_type": "code",
   "execution_count": 124,
   "id": "3d8c9245",
   "metadata": {},
   "outputs": [
    {
     "name": "stdout",
     "output_type": "stream",
     "text": [
      "{'Pierre': 18, 'Paul': 35, 'Jacques': 65}\n"
     ]
    }
   ],
   "source": [
    "utilisateurs = ['Pierre', 'Paul', 'Jacques']\n",
    "ages = [18, 35, 65]\n",
    "\n",
    "# conversion\n",
    "dico = dict(zip(utilisateurs, ages))\n",
    "\n",
    "print(dico)"
   ]
  },
  {
   "cell_type": "markdown",
   "id": "dc888b1d",
   "metadata": {},
   "source": [
    "### Convertir en une liste plusieurs tuples"
   ]
  },
  {
   "cell_type": "code",
   "execution_count": 151,
   "id": "f9ca93f3",
   "metadata": {},
   "outputs": [
    {
     "name": "stdout",
     "output_type": "stream",
     "text": [
      "[(1990, 'Janvier', 31), (2000, 'Mars', 3), (2010, 'Octobre', 6), (2020, 'Décembre', 14)]\n"
     ]
    }
   ],
   "source": [
    "Annee = [1990, 2000, 2010, 2020]\n",
    "Mois = [\"Janvier\", \"Mars\", \"Octobre\", \"Décembre\"]\n",
    "Jour = [31, 3, 6, 14]\n",
    "\n",
    "# fonction zip\n",
    "date = list(zip(Annee, Mois, Jour))\n",
    "print(date)"
   ]
  },
  {
   "cell_type": "markdown",
   "id": "38b4ef8d",
   "metadata": {},
   "source": [
    "## 29- L'opérateur **`_`** renvoie le résultat de la dernière expression exécutée"
   ]
  },
  {
   "cell_type": "code",
   "execution_count": 125,
   "id": "2a9ba51b",
   "metadata": {},
   "outputs": [
    {
     "data": {
      "text/plain": [
       "20"
      ]
     },
     "execution_count": 125,
     "metadata": {},
     "output_type": "execute_result"
    }
   ],
   "source": [
    "# exemple\n",
    "10 + 10"
   ]
  },
  {
   "cell_type": "code",
   "execution_count": 127,
   "id": "7ca8e826",
   "metadata": {},
   "outputs": [
    {
     "data": {
      "text/plain": [
       "20"
      ]
     },
     "execution_count": 127,
     "metadata": {},
     "output_type": "execute_result"
    }
   ],
   "source": [
    "# dernier résultat\n",
    "_"
   ]
  },
  {
   "cell_type": "markdown",
   "id": "d8cacccd",
   "metadata": {},
   "source": [
    "## 30- Ouvrir un site web"
   ]
  },
  {
   "cell_type": "code",
   "execution_count": 128,
   "id": "8b804967",
   "metadata": {},
   "outputs": [
    {
     "data": {
      "text/plain": [
       "True"
      ]
     },
     "execution_count": 128,
     "metadata": {},
     "output_type": "execute_result"
    }
   ],
   "source": [
    "import webbrowser\n",
    "webbrowser.open('http://www.python.org')"
   ]
  },
  {
   "cell_type": "markdown",
   "id": "4803faa5",
   "metadata": {},
   "source": [
    "## 31- Texte en couleur"
   ]
  },
  {
   "cell_type": "code",
   "execution_count": 132,
   "id": "37cedabd",
   "metadata": {},
   "outputs": [
    {
     "name": "stdout",
     "output_type": "stream",
     "text": [
      "\u001b[32mCeci est un test\u001b[0m\n",
      "\u001b[31mCeci est un test\u001b[0m\n",
      "\u001b[34mCeci est un test\u001b[0m\n"
     ]
    }
   ],
   "source": [
    "from termcolor import colored\n",
    "\n",
    "print(colored(\"Ceci est un test\", \"green\"))\n",
    "print(colored(\"Ceci est un test\", \"red\"))\n",
    "print(colored(\"Ceci est un test\", \"blue\"))"
   ]
  },
  {
   "cell_type": "markdown",
   "id": "8c7705ab",
   "metadata": {},
   "source": [
    "## 32- Inverser une liste\n",
    "\n",
    "### Avec la fonction `reverse()`"
   ]
  },
  {
   "cell_type": "code",
   "execution_count": 137,
   "id": "e3e64476",
   "metadata": {},
   "outputs": [
    {
     "name": "stdout",
     "output_type": "stream",
     "text": [
      "['velo', 'maison', 'chenille', 'arbre']\n"
     ]
    }
   ],
   "source": [
    "elements = [\"arbre\", \"chenille\", \"maison\", \"velo\"]\n",
    "elements.reverse()\n",
    "print(elements)"
   ]
  },
  {
   "cell_type": "markdown",
   "id": "6efd83b5",
   "metadata": {},
   "source": [
    "### Avec un découpage de liste :"
   ]
  },
  {
   "cell_type": "code",
   "execution_count": 158,
   "id": "d53b98b1",
   "metadata": {},
   "outputs": [
    {
     "name": "stdout",
     "output_type": "stream",
     "text": [
      "['velo', 'maison', 'chenille', 'arbre']\n"
     ]
    }
   ],
   "source": [
    "elements = [\"arbre\", \"chenille\", \"maison\", \"velo\"]\n",
    "print(elements[::-1])"
   ]
  },
  {
   "cell_type": "markdown",
   "id": "263162d1",
   "metadata": {},
   "source": [
    "## 33- L'opérateur morse **`(:=)`**\n",
    "*Walrus* en anglais, ajout dans la version 3.8 de Python. Il s'agit d'un opérateur **qui permet l'affectation directement dans l'expression**."
   ]
  },
  {
   "cell_type": "code",
   "execution_count": 138,
   "id": "e842f82a",
   "metadata": {},
   "outputs": [
    {
     "name": "stdout",
     "output_type": "stream",
     "text": [
      "3\n"
     ]
    }
   ],
   "source": [
    "# Code standard\n",
    "liste = [1, 2, 3]\n",
    "\n",
    "n=len(liste)\n",
    "if n>2 :\n",
    "    print(n)"
   ]
  },
  {
   "cell_type": "code",
   "execution_count": 139,
   "id": "0d6545ed",
   "metadata": {},
   "outputs": [
    {
     "name": "stdout",
     "output_type": "stream",
     "text": [
      "True\n"
     ]
    }
   ],
   "source": [
    "liste = [1, 2, 3]\n",
    "\n",
    "if (n := len(liste)>2):\n",
    "    print(n)"
   ]
  },
  {
   "cell_type": "markdown",
   "id": "b5aea818",
   "metadata": {},
   "source": [
    "## 34- Suite de Fibonacci"
   ]
  },
  {
   "cell_type": "code",
   "execution_count": 143,
   "id": "e91d3729",
   "metadata": {},
   "outputs": [
    {
     "name": "stdout",
     "output_type": "stream",
     "text": [
      "55\n"
     ]
    }
   ],
   "source": [
    "# fonction lambda\n",
    "suite_F = lambda n : n if n <= 1 else suite_F(n-1) + suite_F(n-2)\n",
    "\n",
    "resultat = suite_F(10)\n",
    "print(resultat)"
   ]
  },
  {
   "cell_type": "markdown",
   "id": "5e1a0931",
   "metadata": {},
   "source": [
    "## 35- Afficher les éléments d'une liste dans n'importe quel ordre\n",
    "\n",
    "Si vous devez afficher les valeurs d'une liste dans des ordres différents, vous pouvez affecter la liste à une série de variables et décider de l'ordre dans lequel vous souhaitez afficher la liste."
   ]
  },
  {
   "cell_type": "code",
   "execution_count": 146,
   "id": "9d6d834a",
   "metadata": {},
   "outputs": [
    {
     "name": "stdout",
     "output_type": "stream",
     "text": [
      "3 2 1\n",
      "2 1 3\n",
      "1 2 3\n"
     ]
    }
   ],
   "source": [
    "liste = [1, 2, 3]\n",
    "a, b, c = liste\n",
    "\n",
    "print(c, b, a)\n",
    "print(b, a, c)\n",
    "print(a, b, c)"
   ]
  },
  {
   "cell_type": "markdown",
   "id": "72f3b38a",
   "metadata": {},
   "source": [
    "## 36- Echanger 2 nombres en une seule ligne de code"
   ]
  },
  {
   "cell_type": "code",
   "execution_count": 152,
   "id": "85874818",
   "metadata": {},
   "outputs": [
    {
     "name": "stdout",
     "output_type": "stream",
     "text": [
      "25\n",
      "10\n"
     ]
    }
   ],
   "source": [
    "x, y = 10, 25\n",
    "\n",
    "# échange\n",
    "x, y = y, x\n",
    "\n",
    "print(x)\n",
    "print(y)"
   ]
  },
  {
   "cell_type": "markdown",
   "id": "b7cb6685",
   "metadata": {},
   "source": [
    "## 37- Transposer une matrice\n",
    "\n",
    "Consiste à convertir des colonnes en lignes. On utilise la fonction `zip()` avec l'opérateur `*` pour décompresser une liste qui devient une transposition du donné matrice. "
   ]
  },
  {
   "cell_type": "code",
   "execution_count": 156,
   "id": "82ab0ca8",
   "metadata": {},
   "outputs": [
    {
     "name": "stdout",
     "output_type": "stream",
     "text": [
      "[(10, 20, 40), (30, 15, 0)]\n"
     ]
    }
   ],
   "source": [
    "# matrice\n",
    "matrix = [[10, 30],\n",
    "     [20, 15],\n",
    "     [40, 0]]\n",
    "\n",
    "print(list(zip(*matrix)))"
   ]
  },
  {
   "cell_type": "markdown",
   "id": "234d2d2f",
   "metadata": {},
   "source": [
    "### Transposer un tableau à 2 dimensions :\n",
    "Transposer un tableau 2D, cela signifie que si la matrice est 2*3 après transposition, ce sera une matrice 3*2."
   ]
  },
  {
   "cell_type": "code",
   "execution_count": 184,
   "id": "b30fe0c4",
   "metadata": {},
   "outputs": [
    {
     "name": "stdout",
     "output_type": "stream",
     "text": [
      "[(10, 40), (30, 0), (25, 15)]\n"
     ]
    }
   ],
   "source": [
    "# matrice\n",
    "matrix = [[10, 30, 25],\n",
    "     [40, 0, 15]]\n",
    "\n",
    "transposer_matrice = zip(*matrix)\n",
    "print(list(transposer_matrice))"
   ]
  },
  {
   "cell_type": "markdown",
   "id": "eacc2e15",
   "metadata": {},
   "source": [
    "## 38- Afficher une chaîne N fois"
   ]
  },
  {
   "cell_type": "code",
   "execution_count": 157,
   "id": "2b18b4b5",
   "metadata": {},
   "outputs": [
    {
     "name": "stdout",
     "output_type": "stream",
     "text": [
      "TestTestTest\n"
     ]
    }
   ],
   "source": [
    "chaine = \"Test\"\n",
    "print(chaine * 3)"
   ]
  },
  {
   "cell_type": "markdown",
   "id": "7cb2cf38",
   "metadata": {},
   "source": [
    "## 39- Trouver les facteurs d'un nombre "
   ]
  },
  {
   "cell_type": "code",
   "execution_count": 170,
   "id": "fab0901e",
   "metadata": {},
   "outputs": [
    {
     "name": "stdout",
     "output_type": "stream",
     "text": [
      "Les facteurs du nombre  50 sont :  [1, 2, 5, 10, 25, 50]\n"
     ]
    }
   ],
   "source": [
    "# nombre à entrer \n",
    "nombre = 50\n",
    "\n",
    "# liste contenant les facteurs\n",
    "liste_facteurs = []\n",
    "\n",
    "# calcul des facteurs avec une boucle qui vérifie la \n",
    "#... divisibilité du nombre avec l'indice d'itération\n",
    "for i in range(1, nombre+1):\n",
    "    if nombre % i == 0 :\n",
    "        liste_facteurs.append(i)\n",
    "        \n",
    "print(\"Les facteurs du nombre \", nombre, \"sont : \", liste_facteurs)"
   ]
  },
  {
   "cell_type": "code",
   "execution_count": 171,
   "id": "732a8319",
   "metadata": {},
   "outputs": [],
   "source": [
    "# fonction qui reprend le code\n",
    "def facteurs(nombre):\n",
    "    liste_facteurs = []\n",
    "    \n",
    "    for i in range(1, nombre+1):\n",
    "        if nombre % i == 0 :\n",
    "            liste_facteurs.append(i)\n",
    "        \n",
    "    return liste_facteurs    "
   ]
  },
  {
   "cell_type": "code",
   "execution_count": 174,
   "id": "223cd775",
   "metadata": {},
   "outputs": [
    {
     "data": {
      "text/plain": [
       "[1, 3, 9, 27]"
      ]
     },
     "execution_count": 174,
     "metadata": {},
     "output_type": "execute_result"
    }
   ],
   "source": [
    "facteurs(27)"
   ]
  },
  {
   "cell_type": "markdown",
   "id": "937ca559",
   "metadata": {},
   "source": [
    "## 40- Vérifier l'utilisation de la mémoire"
   ]
  },
  {
   "cell_type": "code",
   "execution_count": 177,
   "id": "0e2044de",
   "metadata": {},
   "outputs": [
    {
     "name": "stdout",
     "output_type": "stream",
     "text": [
      "54\n",
      "51\n",
      "28\n",
      "24\n"
     ]
    }
   ],
   "source": [
    "import sys\n",
    "\n",
    "a, b, c, d = \"abcde\", \"xy\", 2, 89.00\n",
    "print(sys.getsizeof(a))\n",
    "print(sys.getsizeof(b))\n",
    "print(sys.getsizeof(c))\n",
    "print(sys.getsizeof(d))"
   ]
  },
  {
   "cell_type": "markdown",
   "id": "ea800367",
   "metadata": {},
   "source": [
    "## 41- Vérifier un anagrammme "
   ]
  },
  {
   "cell_type": "code",
   "execution_count": 198,
   "id": "1aaa3546",
   "metadata": {},
   "outputs": [
    {
     "name": "stdout",
     "output_type": "stream",
     "text": [
      "True\n",
      "True\n"
     ]
    }
   ],
   "source": [
    "from collections import Counter\n",
    "\n",
    "def anagramme(mot1, mot2):\n",
    "    mot1 = mot1.lower()\n",
    "    mot2 = mot2.lower()\n",
    "    return Counter(mot1) == Counter(mot2)\n",
    "\n",
    "print(anagramme(\"Francois Rabelais\", \"Alcofribas Nasier\"))\n",
    "print(anagramme(\"TomMarvoloRiddle\", \"IamLordVoldemort\"))"
   ]
  },
  {
   "cell_type": "markdown",
   "id": "db709b11",
   "metadata": {},
   "source": [
    "## 42- Inspecter un objet avec `dir()`"
   ]
  },
  {
   "cell_type": "code",
   "execution_count": 199,
   "id": "7c4680db",
   "metadata": {},
   "outputs": [
    {
     "name": "stdout",
     "output_type": "stream",
     "text": [
      "['__add__', '__class__', '__contains__', '__delattr__', '__delitem__', '__dir__', '__doc__', '__eq__', '__format__', '__ge__', '__getattribute__', '__getitem__', '__gt__', '__hash__', '__iadd__', '__imul__', '__init__', '__init_subclass__', '__iter__', '__le__', '__len__', '__lt__', '__mul__', '__ne__', '__new__', '__reduce__', '__reduce_ex__', '__repr__', '__reversed__', '__rmul__', '__setattr__', '__setitem__', '__sizeof__', '__str__', '__subclasshook__', 'append', 'clear', 'copy', 'count', 'extend', 'index', 'insert', 'pop', 'remove', 'reverse', 'sort']\n"
     ]
    }
   ],
   "source": [
    "liste = [1, 2, 3]\n",
    "print(dir(liste))"
   ]
  },
  {
   "cell_type": "code",
   "execution_count": null,
   "id": "11ffdf89",
   "metadata": {},
   "outputs": [],
   "source": []
  }
 ],
 "metadata": {
  "kernelspec": {
   "display_name": "Python 3 (ipykernel)",
   "language": "python",
   "name": "python3"
  },
  "language_info": {
   "codemirror_mode": {
    "name": "ipython",
    "version": 3
   },
   "file_extension": ".py",
   "mimetype": "text/x-python",
   "name": "python",
   "nbconvert_exporter": "python",
   "pygments_lexer": "ipython3",
   "version": "3.8.3"
  }
 },
 "nbformat": 4,
 "nbformat_minor": 5
}
