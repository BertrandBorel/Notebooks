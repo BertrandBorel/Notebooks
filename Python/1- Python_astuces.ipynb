{
 "cells": [
  {
   "cell_type": "markdown",
   "id": "0ab24233",
   "metadata": {},
   "source": [
    "# <center> Trucs et astuces en Python </center>\n",
    "\n",
    "**Sources :** \n",
    "- revue Coding, n°16, p.94-105.\n",
    "- revue Coding, n°19, p.102-109.\n",
    "    \n",
    "## 1- Générer un son :\n",
    "- https://pythonin1minute.com/how-to-beep-in-python/"
   ]
  },
  {
   "cell_type": "code",
   "execution_count": null,
   "id": "f64b0c5f",
   "metadata": {},
   "outputs": [],
   "source": [
    "# dans un terminal tappez :\n",
    "print('\\a')"
   ]
  },
  {
   "cell_type": "code",
   "execution_count": 6,
   "id": "b0b838d1",
   "metadata": {},
   "outputs": [],
   "source": [
    "# winsound\n",
    "import winsound\n",
    "winsound.Beep(440, 500)"
   ]
  },
  {
   "cell_type": "code",
   "execution_count": 10,
   "id": "fca5005a",
   "metadata": {},
   "outputs": [],
   "source": [
    "# autre exemple\n",
    "import winsound\n",
    "winsound.PlaySound(\"SystemExclamation\", winsound.SND_ALIAS)"
   ]
  },
  {
   "cell_type": "code",
   "execution_count": 11,
   "id": "ddd7150c",
   "metadata": {},
   "outputs": [],
   "source": [
    "# Personnaliser un son\n",
    "import winsound\n",
    "winsound.PlaySound(\"mon_son.wav\", winsound.SND_FILENAME)"
   ]
  },
  {
   "cell_type": "markdown",
   "id": "c9bf235d",
   "metadata": {},
   "source": [
    "## 2- Fusion de dictionnaires (avec **)"
   ]
  },
  {
   "cell_type": "code",
   "execution_count": 14,
   "id": "519dd651",
   "metadata": {},
   "outputs": [
    {
     "name": "stdout",
     "output_type": "stream",
     "text": [
      "{1: 'rouge', 2: 'bleu', 3: 'orange', 4: 'violet', 5: 'marron', 6: 'rose'}\n"
     ]
    }
   ],
   "source": [
    "dico_1 = {1:\"rouge\", 2:\"bleu\", 3:\"orange\"}\n",
    "dico_2 = {4:\"violet\", 5:\"marron\", 6:\"rose\"}\n",
    "\n",
    "dico_3 = {**dico_1, **dico_2}\n",
    "print(dico_3)"
   ]
  },
  {
   "cell_type": "markdown",
   "id": "961900c8",
   "metadata": {},
   "source": [
    "## 3- Gestion des chemins en Python\n",
    "\n",
    "L'ajout de **`r`** devant les guillements de chaîne garantit que les chemins de fichiers ne se confondent pas entre Python et les paramètres systèmes.\n",
    "\n",
    "## 4- Lisibilité des grands nombres (millions, milliards)\n",
    "\n",
    "En séparant les zéros avec **`_`**."
   ]
  },
  {
   "cell_type": "code",
   "execution_count": 15,
   "id": "d645be4e",
   "metadata": {},
   "outputs": [
    {
     "name": "stdout",
     "output_type": "stream",
     "text": [
      "10000000\n"
     ]
    }
   ],
   "source": [
    "# exemple \n",
    "prix = 10_000_000\n",
    "print(prix)"
   ]
  },
  {
   "cell_type": "markdown",
   "id": "5dc72bde",
   "metadata": {},
   "source": [
    "## 5- Inverser une chaîne de caractère"
   ]
  },
  {
   "cell_type": "code",
   "execution_count": 21,
   "id": "7f9db7de",
   "metadata": {},
   "outputs": [
    {
     "name": "stdout",
     "output_type": "stream",
     "text": [
      "ruetanidro\n"
     ]
    }
   ],
   "source": [
    "# exemple \n",
    "chaine = \"ordinateur\"\n",
    "print(chaine[::-1])"
   ]
  },
  {
   "cell_type": "markdown",
   "id": "47b8ef4a",
   "metadata": {},
   "source": [
    "## 6- Convertir une liste en dictionnaire"
   ]
  },
  {
   "cell_type": "code",
   "execution_count": 22,
   "id": "4f4cf766",
   "metadata": {},
   "outputs": [
    {
     "name": "stdout",
     "output_type": "stream",
     "text": [
      "{'Pierre': 2000, 'Paul': 1500, 'Jacques': 1200}\n"
     ]
    }
   ],
   "source": [
    "noms = [\"Pierre\", \"Paul\", \"Jacques\"]\n",
    "salaires = [2000, 1500, 1200]\n",
    "\n",
    "dico = dict(zip(noms, salaires))\n",
    "print(dico)"
   ]
  },
  {
   "cell_type": "markdown",
   "id": "8794385d",
   "metadata": {},
   "source": [
    "## 7- Saisies multiples\n",
    "\n",
    "- https://www.geeksforgeeks.org/taking-multiple-inputs-from-user-in-python/"
   ]
  },
  {
   "cell_type": "code",
   "execution_count": 28,
   "id": "646e19c6",
   "metadata": {},
   "outputs": [
    {
     "name": "stdout",
     "output_type": "stream",
     "text": [
      "Quel est votre nom et votre âge ?Bob 19\n",
      "Bob 19\n"
     ]
    }
   ],
   "source": [
    "# il faut entre les deux valeurs à la suite, séparées par un espace\n",
    "a, b = input(\"Quel est votre nom et votre âge ?\").split()\n",
    "print(a, b)"
   ]
  },
  {
   "cell_type": "code",
   "execution_count": 29,
   "id": "cbb09bb5",
   "metadata": {},
   "outputs": [
    {
     "name": "stdout",
     "output_type": "stream",
     "text": [
      "Enter two values: 3 6\n",
      "First number is 3 and second number is 6\n",
      "\n"
     ]
    }
   ],
   "source": [
    "a, b = input(\"Enter two values: \").split()\n",
    "print(\"First number is {} and second number is {}\".format(a, b))\n",
    "print()"
   ]
  },
  {
   "cell_type": "code",
   "execution_count": 27,
   "id": "3fdf31b7",
   "metadata": {},
   "outputs": [
    {
     "name": "stdout",
     "output_type": "stream",
     "text": [
      "Enter two values: 3 8\n",
      "Number of boys:  3\n",
      "Number of girls:  8\n",
      "\n"
     ]
    }
   ],
   "source": [
    "x, y = input(\"Enter two values: \").split()\n",
    "print(\"Number of boys: \", x)\n",
    "print(\"Number of girls: \", y)\n",
    "print()"
   ]
  },
  {
   "cell_type": "markdown",
   "id": "1954d5b1",
   "metadata": {},
   "source": [
    "## 8- Eteindre le PC"
   ]
  },
  {
   "cell_type": "code",
   "execution_count": 30,
   "id": "e8147f41",
   "metadata": {},
   "outputs": [],
   "source": [
    "# import os\n",
    "# os.system(\"window -s\")"
   ]
  },
  {
   "cell_type": "code",
   "execution_count": null,
   "id": "639f0e57",
   "metadata": {},
   "outputs": [],
   "source": [
    "# import os\n",
    "# os.system(\"shutdown -s\")"
   ]
  },
  {
   "cell_type": "markdown",
   "id": "548628b7",
   "metadata": {},
   "source": [
    "## 9- Arguments multiples\n",
    "\n",
    "- https://www.learnpython.org/en/Multiple_Function_Arguments\n",
    "\n",
    "Si on ne sait pas à l'avance combien d'arguments un fonction doit recueillir, on peut accepter un nombre illimité d'arguments :"
   ]
  },
  {
   "cell_type": "code",
   "execution_count": 45,
   "id": "dff5caa8",
   "metadata": {},
   "outputs": [],
   "source": [
    "# Exemple :\n",
    "def nombre(*num):\n",
    "    print(num)"
   ]
  },
  {
   "cell_type": "code",
   "execution_count": 47,
   "id": "2b9937c1",
   "metadata": {},
   "outputs": [
    {
     "name": "stdout",
     "output_type": "stream",
     "text": [
      "(1, 2, 3, 4, 5)\n"
     ]
    }
   ],
   "source": [
    "nombre(1, 2, 3, 4, 5)"
   ]
  },
  {
   "cell_type": "code",
   "execution_count": 48,
   "id": "a5b0095f",
   "metadata": {},
   "outputs": [],
   "source": [
    "# Autre exemple :\n",
    "def foo(first, second, third, *therest):\n",
    "    print(\"First: %s\" % first)\n",
    "    print(\"Second: %s\" % second)\n",
    "    print(\"Third: %s\" % third)\n",
    "    print(\"And all the rest... %s\" % list(therest))"
   ]
  },
  {
   "cell_type": "code",
   "execution_count": 49,
   "id": "58465f5d",
   "metadata": {},
   "outputs": [
    {
     "name": "stdout",
     "output_type": "stream",
     "text": [
      "First: 1\n",
      "Second: 2\n",
      "Third: 3\n",
      "And all the rest... [4, 5]\n"
     ]
    }
   ],
   "source": [
    "foo(1, 2, 3, 4, 5)"
   ]
  },
  {
   "cell_type": "markdown",
   "id": "3db7b20e",
   "metadata": {},
   "source": [
    "## 10- Lire les mots de passe en tant qu'entrée utilisateur\n",
    "\n",
    "Masquer le mot de passe saisi par **`*`**."
   ]
  },
  {
   "cell_type": "code",
   "execution_count": 52,
   "id": "681678cc",
   "metadata": {},
   "outputs": [
    {
     "name": "stdout",
     "output_type": "stream",
     "text": [
      "Entrez le nom d'utilisateur : test\n",
      "Entrez le mot de passe : ········\n"
     ]
    }
   ],
   "source": [
    "from getpass import getpass\n",
    "\n",
    "usern = input(\"Entrez le nom d'utilisateur : \")\n",
    "passw = getpass('Entrez le mot de passe : ')"
   ]
  },
  {
   "cell_type": "markdown",
   "id": "35d113cc",
   "metadata": {},
   "source": [
    "## 11- Calculer le temps d'exécution d'un programme\n",
    "\n",
    "- https://www.programiz.com/python-programming/time"
   ]
  },
  {
   "cell_type": "code",
   "execution_count": 66,
   "id": "1bd39f4e",
   "metadata": {},
   "outputs": [
    {
     "name": "stdout",
     "output_type": "stream",
     "text": [
      "0.10440421104431152\n"
     ]
    }
   ],
   "source": [
    "import time\n",
    "\n",
    "# programme \n",
    "def fonction_test():\n",
    "    compteur = 0\n",
    "    while compteur < 1000000 :\n",
    "        compteur += 1\n",
    "\n",
    "startTime = time.time()\n",
    "\n",
    "# appel de la fonction\n",
    "fonction_test()\n",
    "\n",
    "endTime = time.time()\n",
    "totalTime = endTime - startTime\n",
    "\n",
    "print(totalTime)\n"
   ]
  },
  {
   "cell_type": "code",
   "execution_count": null,
   "id": "ff0c22c1",
   "metadata": {},
   "outputs": [],
   "source": [
    "# structure  :\n",
    "\n",
    "# importation\n",
    "import time\n",
    "\n",
    "# h de début\n",
    "startTime = time.time()\n",
    "\n",
    "# Insertion de code\n",
    "    # [...]\n",
    "\n",
    "# h de fin \n",
    "endTime = time.time()\n",
    "\n",
    "# somme des h de début/fin\n",
    "totalTime = endTime - startTime\n",
    "\n",
    "print(\"Le temps d'exécution du programme est de : \", totalTime)"
   ]
  },
  {
   "cell_type": "markdown",
   "id": "38303c1b",
   "metadata": {},
   "source": [
    "## 12- Supprimer des doublons d'une liste"
   ]
  },
  {
   "cell_type": "code",
   "execution_count": 179,
   "id": "d13bc21c",
   "metadata": {},
   "outputs": [
    {
     "name": "stdout",
     "output_type": "stream",
     "text": [
      "[40, 10, 50, 20, 30]\n"
     ]
    }
   ],
   "source": [
    "liste = [10, 10, 10, 20, 30, 40, 50, 50]\n",
    "\n",
    "# supprimer les doublons = ordre pas conservé\n",
    "liste = list(set(liste))\n",
    "\n",
    "print(liste)"
   ]
  },
  {
   "cell_type": "code",
   "execution_count": 180,
   "id": "9cf16186",
   "metadata": {},
   "outputs": [
    {
     "name": "stdout",
     "output_type": "stream",
     "text": [
      "[10, 20, 30, 40, 50]\n"
     ]
    }
   ],
   "source": [
    "# trier (ordre chronologique)\n",
    "liste.sort()\n",
    "\n",
    "print(liste)"
   ]
  },
  {
   "cell_type": "code",
   "execution_count": 182,
   "id": "6ca85410",
   "metadata": {},
   "outputs": [
    {
     "name": "stdout",
     "output_type": "stream",
     "text": [
      "[1, 100, 250, 20, 30, 4, 50]\n"
     ]
    }
   ],
   "source": [
    "# supprimer les doublons mais en conservant l'ordre primaire\n",
    "from collections import OrderedDict\n",
    "\n",
    "liste = [1, 100, 250, 1, 20, 30, 4, 50, 50]\n",
    "\n",
    "print((list(OrderedDict.fromkeys(liste).keys())))"
   ]
  },
  {
   "cell_type": "markdown",
   "id": "3d22671b",
   "metadata": {},
   "source": [
    "## 13- Ajouter des éléments à un tuple"
   ]
  },
  {
   "cell_type": "code",
   "execution_count": 77,
   "id": "476788c5",
   "metadata": {},
   "outputs": [
    {
     "name": "stdout",
     "output_type": "stream",
     "text": [
      "(1, 2, 3, 4, 5)\n"
     ]
    }
   ],
   "source": [
    "my_tuple = (1, 2, 3)\n",
    "\n",
    "# on transforme le tuple en liste\n",
    "my_list = list(my_tuple)\n",
    "\n",
    "# on ajoute des éléments\n",
    "my_list.append(4)\n",
    "my_list.append(5)\n",
    "\n",
    "# on reconvertit en tuple\n",
    "my_tuple = tuple(my_list)\n",
    "print(my_tuple)\n"
   ]
  },
  {
   "cell_type": "markdown",
   "id": "915713b2",
   "metadata": {},
   "source": [
    "## 14- Vérification si un mot est un palindrome"
   ]
  },
  {
   "cell_type": "code",
   "execution_count": 81,
   "id": "4f542a48",
   "metadata": {},
   "outputs": [],
   "source": [
    "def palindrome(mot):\n",
    "    palindrome = bool(mot.find(mot[::-1]) + 1)\n",
    "    return palindrome"
   ]
  },
  {
   "cell_type": "code",
   "execution_count": 82,
   "id": "ddf3b1f4",
   "metadata": {},
   "outputs": [
    {
     "data": {
      "text/plain": [
       "True"
      ]
     },
     "execution_count": 82,
     "metadata": {},
     "output_type": "execute_result"
    }
   ],
   "source": [
    "palindrome(\"kayak\")"
   ]
  },
  {
   "cell_type": "code",
   "execution_count": 84,
   "id": "86b2f64e",
   "metadata": {},
   "outputs": [
    {
     "data": {
      "text/plain": [
       "False"
      ]
     },
     "execution_count": 84,
     "metadata": {},
     "output_type": "execute_result"
    }
   ],
   "source": [
    "palindrome(\"yoyo\")"
   ]
  },
  {
   "cell_type": "markdown",
   "id": "d95fdac7",
   "metadata": {},
   "source": [
    "## 15- Compréhension de liste"
   ]
  },
  {
   "cell_type": "code",
   "execution_count": 85,
   "id": "7a0395ea",
   "metadata": {},
   "outputs": [
    {
     "name": "stdout",
     "output_type": "stream",
     "text": [
      "[1, 4, 9, 16, 25, 36, 49, 64, 81]\n"
     ]
    }
   ],
   "source": [
    "# Exemple avec une boucle for\n",
    "liste = []\n",
    "\n",
    "for x in range(1, 10):\n",
    "    liste.append(x**2)\n",
    "\n",
    "print(liste)"
   ]
  },
  {
   "cell_type": "code",
   "execution_count": 86,
   "id": "6ba939cb",
   "metadata": {},
   "outputs": [
    {
     "name": "stdout",
     "output_type": "stream",
     "text": [
      "[1, 4, 9, 16, 25, 36, 49, 64, 81]\n"
     ]
    }
   ],
   "source": [
    "# Exemple avec une compréhension de liste\n",
    "liste = [x**2 for x in range(1, 10)]\n",
    "print(liste)"
   ]
  },
  {
   "cell_type": "code",
   "execution_count": 133,
   "id": "46d87940",
   "metadata": {},
   "outputs": [
    {
     "name": "stdout",
     "output_type": "stream",
     "text": [
      "[1, 9, 25, 49, 81]\n",
      "[1, 9, 25, 49, 81]\n"
     ]
    }
   ],
   "source": [
    "# Autre exemple :\n",
    "\n",
    "# Code standard :\n",
    "impair_carre = []\n",
    "for x in range (1, 11):\n",
    "    if x % 2 == 1 :\n",
    "        impair_carre.append(x**2)\n",
    "print(impair_carre)\n",
    "\n",
    "# compréhension de liste\n",
    "odd_square = [x**2 for x in range(1, 11) if x % 2 == 1]\n",
    "print(odd_square)"
   ]
  },
  {
   "cell_type": "markdown",
   "id": "20eaaed9",
   "metadata": {},
   "source": [
    "## 16- Compréhension de dictionnaire"
   ]
  },
  {
   "cell_type": "code",
   "execution_count": 94,
   "id": "179f762a",
   "metadata": {},
   "outputs": [
    {
     "name": "stdout",
     "output_type": "stream",
     "text": [
      "{1: 1, 2: 4, 3: 9}\n"
     ]
    }
   ],
   "source": [
    "dico = {x:x ** 2 for x in range(1, 4)}\n",
    "print(dico)"
   ]
  },
  {
   "cell_type": "markdown",
   "id": "891a309e",
   "metadata": {},
   "source": [
    "## 17- Opérateur de chaîne"
   ]
  },
  {
   "cell_type": "code",
   "execution_count": 95,
   "id": "739e730e",
   "metadata": {},
   "outputs": [
    {
     "name": "stdout",
     "output_type": "stream",
     "text": [
      "True\n"
     ]
    }
   ],
   "source": [
    "nombre = 50\n",
    "resultat = 25 < nombre < 58\n",
    "print(resultat)"
   ]
  },
  {
   "cell_type": "markdown",
   "id": "4e0b7a51",
   "metadata": {},
   "source": [
    "## 18- Scission d'une chaîne de caractères avec **`split()`**"
   ]
  },
  {
   "cell_type": "code",
   "execution_count": 96,
   "id": "52f90b95",
   "metadata": {},
   "outputs": [
    {
     "name": "stdout",
     "output_type": "stream",
     "text": [
      "['Ceci', 'est', 'un', 'exemple']\n"
     ]
    }
   ],
   "source": [
    "chaine = \"Ceci est un exemple\"\n",
    "print(chaine.split())"
   ]
  },
  {
   "cell_type": "markdown",
   "id": "12644baa",
   "metadata": {},
   "source": [
    "## 19- Ralentir du code avec **`time.sleep()`**\n",
    "Permet d'afficher un résultat par exemple."
   ]
  },
  {
   "cell_type": "code",
   "execution_count": 98,
   "id": "d8693aee",
   "metadata": {},
   "outputs": [
    {
     "name": "stdout",
     "output_type": "stream",
     "text": [
      "Temps de latence de 2 secondes...\n",
      "Terminé !\n"
     ]
    }
   ],
   "source": [
    "import time\n",
    "\n",
    "print(\"Temps de latence de 2 secondes...\")\n",
    "# paramètre : temps en secondes\n",
    "time.sleep(2)\n",
    "print(\"Terminé !\")"
   ]
  },
  {
   "cell_type": "markdown",
   "id": "5349894e",
   "metadata": {},
   "source": [
    "## 20- Compter le nombre d'occurences de mots dans une liste\n",
    "- https://docs.python.org/3/library/collections.html#collections.Counter"
   ]
  },
  {
   "cell_type": "code",
   "execution_count": 113,
   "id": "55af3e39",
   "metadata": {},
   "outputs": [
    {
     "data": {
      "text/plain": [
       "Counter({'chat': 2, 'chien': 1, 'oiseau': 1})"
      ]
     },
     "execution_count": 113,
     "metadata": {},
     "output_type": "execute_result"
    }
   ],
   "source": [
    "from collections import Counter\n",
    "\n",
    "liste = ['chat', 'chien', 'oiseau', 'chat']\n",
    "Counter(liste)"
   ]
  },
  {
   "cell_type": "markdown",
   "id": "d7933922",
   "metadata": {},
   "source": [
    "## 21- Créer une boucle `for` avec `else`"
   ]
  },
  {
   "cell_type": "code",
   "execution_count": 115,
   "id": "66b5f09c",
   "metadata": {},
   "outputs": [
    {
     "name": "stdout",
     "output_type": "stream",
     "text": [
      "1\n",
      "2\n",
      "3\n",
      "Boucle terminée\n"
     ]
    }
   ],
   "source": [
    "# Le else est activé une fois la boucle achevée\n",
    "\n",
    "for x in range(1, 4):\n",
    "    print(x)\n",
    "else :\n",
    "    print(\"Boucle terminée\")"
   ]
  },
  {
   "cell_type": "markdown",
   "id": "9f48ee00",
   "metadata": {},
   "source": [
    "## 22- Fonction **lambda**\n",
    "\n",
    "Lambda est une mini fonction d'une ligne définie par l'utilisateur. "
   ]
  },
  {
   "cell_type": "code",
   "execution_count": 116,
   "id": "911d6474",
   "metadata": {},
   "outputs": [
    {
     "name": "stdout",
     "output_type": "stream",
     "text": [
      "25\n"
     ]
    }
   ],
   "source": [
    "# carré de x\n",
    "nombre = lambda x : x**2\n",
    "print(nombre(5))"
   ]
  },
  {
   "cell_type": "code",
   "execution_count": 134,
   "id": "c180f03c",
   "metadata": {},
   "outputs": [
    {
     "name": "stdout",
     "output_type": "stream",
     "text": [
      "5\n"
     ]
    }
   ],
   "source": [
    "# addition de a + b\n",
    "addition = lambda a,b : a + b\n",
    "print(addition(2, 3))"
   ]
  },
  {
   "cell_type": "markdown",
   "id": "5ba3c3f9",
   "metadata": {},
   "source": [
    "## 23- Renvoyer plusieurs résultats d'une fonction"
   ]
  },
  {
   "cell_type": "code",
   "execution_count": 118,
   "id": "b2b1aced",
   "metadata": {},
   "outputs": [
    {
     "name": "stdout",
     "output_type": "stream",
     "text": [
      "(1, 2, 3)\n"
     ]
    }
   ],
   "source": [
    "def valeurs():\n",
    "    return 1, 2, 3\n",
    "\n",
    "print(valeurs())"
   ]
  },
  {
   "cell_type": "markdown",
   "id": "6f8de0b0",
   "metadata": {},
   "source": [
    "## 24- Faire une copie profonde\n",
    "- https://fr.quora.com/Quest-ce-quune-copie-profonde-et-une-copie-superficielle-en-python"
   ]
  },
  {
   "cell_type": "code",
   "execution_count": 119,
   "id": "38b7c225",
   "metadata": {},
   "outputs": [],
   "source": [
    "import copy\n",
    "\n",
    "liste = ['chat', 'chien', 'oiseau', 'dauphin']\n",
    "\n",
    "liste_copie = copy.deepcopy(liste)"
   ]
  },
  {
   "cell_type": "markdown",
   "id": "e059511f",
   "metadata": {},
   "source": [
    "## 25- Concaténation de chaînes avec **`join()`**"
   ]
  },
  {
   "cell_type": "code",
   "execution_count": 121,
   "id": "4adca684",
   "metadata": {},
   "outputs": [
    {
     "name": "stdout",
     "output_type": "stream",
     "text": [
      "test\n"
     ]
    }
   ],
   "source": [
    "lettres = ['t', 'e', 's', 't']\n",
    "\n",
    "mot = \"\".join(lettres)\n",
    "print(mot)"
   ]
  },
  {
   "cell_type": "markdown",
   "id": "615f5c48",
   "metadata": {},
   "source": [
    "## 26- Inversion d'une chaîne "
   ]
  },
  {
   "cell_type": "code",
   "execution_count": 122,
   "id": "6ecbc578",
   "metadata": {},
   "outputs": [
    {
     "name": "stdout",
     "output_type": "stream",
     "text": [
      "bonjour\n"
     ]
    }
   ],
   "source": [
    "chaine = \"ruojnob\"\n",
    "\n",
    "print(chaine[::-1])"
   ]
  },
  {
   "cell_type": "markdown",
   "id": "95c76c86",
   "metadata": {},
   "source": [
    "## 27- Utilisation de **`zip()`** avec des listes"
   ]
  },
  {
   "cell_type": "code",
   "execution_count": 123,
   "id": "ebef74f5",
   "metadata": {},
   "outputs": [
    {
     "name": "stdout",
     "output_type": "stream",
     "text": [
      "python guido van rossum\n",
      "java james gosling\n",
      "c denis ritchie\n"
     ]
    }
   ],
   "source": [
    "# permet de combiner plusieurs listes de même longueur\n",
    "langages = ['python', 'java', 'c']\n",
    "createurs = ['guido van rossum', 'james gosling', 'denis ritchie']\n",
    "\n",
    "for langages, createurs in zip(langages, createurs) : \n",
    "    print(langages, createurs)"
   ]
  },
  {
   "cell_type": "markdown",
   "id": "109023db",
   "metadata": {},
   "source": [
    "## 28- Utilisation de la fonction **`zip()`**\n",
    "### Conversion de listes en dictionnaire"
   ]
  },
  {
   "cell_type": "code",
   "execution_count": 124,
   "id": "8a46ce05",
   "metadata": {},
   "outputs": [
    {
     "name": "stdout",
     "output_type": "stream",
     "text": [
      "{'Pierre': 18, 'Paul': 35, 'Jacques': 65}\n"
     ]
    }
   ],
   "source": [
    "utilisateurs = ['Pierre', 'Paul', 'Jacques']\n",
    "ages = [18, 35, 65]\n",
    "\n",
    "# conversion\n",
    "dico = dict(zip(utilisateurs, ages))\n",
    "\n",
    "print(dico)"
   ]
  },
  {
   "cell_type": "markdown",
   "id": "adeaf04c",
   "metadata": {},
   "source": [
    "### Convertir en une liste plusieurs tuples"
   ]
  },
  {
   "cell_type": "code",
   "execution_count": 151,
   "id": "45d5e692",
   "metadata": {},
   "outputs": [
    {
     "name": "stdout",
     "output_type": "stream",
     "text": [
      "[(1990, 'Janvier', 31), (2000, 'Mars', 3), (2010, 'Octobre', 6), (2020, 'Décembre', 14)]\n"
     ]
    }
   ],
   "source": [
    "Annee = [1990, 2000, 2010, 2020]\n",
    "Mois = [\"Janvier\", \"Mars\", \"Octobre\", \"Décembre\"]\n",
    "Jour = [31, 3, 6, 14]\n",
    "\n",
    "# fonction zip\n",
    "date = list(zip(Annee, Mois, Jour))\n",
    "print(date)"
   ]
  },
  {
   "cell_type": "markdown",
   "id": "b2d2127a",
   "metadata": {},
   "source": [
    "## 29- L'opérateur **`_`** renvoie le résultat de la dernière expression exécutée"
   ]
  },
  {
   "cell_type": "code",
   "execution_count": 125,
   "id": "4578a349",
   "metadata": {},
   "outputs": [
    {
     "data": {
      "text/plain": [
       "20"
      ]
     },
     "execution_count": 125,
     "metadata": {},
     "output_type": "execute_result"
    }
   ],
   "source": [
    "# exemple\n",
    "10 + 10"
   ]
  },
  {
   "cell_type": "code",
   "execution_count": 127,
   "id": "15b8ba6f",
   "metadata": {},
   "outputs": [
    {
     "data": {
      "text/plain": [
       "20"
      ]
     },
     "execution_count": 127,
     "metadata": {},
     "output_type": "execute_result"
    }
   ],
   "source": [
    "# dernier résultat\n",
    "_"
   ]
  },
  {
   "cell_type": "markdown",
   "id": "a617b0e4",
   "metadata": {},
   "source": [
    "## 30- Ouvrir un site web"
   ]
  },
  {
   "cell_type": "code",
   "execution_count": 128,
   "id": "086509f9",
   "metadata": {},
   "outputs": [
    {
     "data": {
      "text/plain": [
       "True"
      ]
     },
     "execution_count": 128,
     "metadata": {},
     "output_type": "execute_result"
    }
   ],
   "source": [
    "import webbrowser\n",
    "webbrowser.open('http://www.python.org')"
   ]
  },
  {
   "cell_type": "markdown",
   "id": "4a63bbae",
   "metadata": {},
   "source": [
    "## 31- Texte en couleur"
   ]
  },
  {
   "cell_type": "code",
   "execution_count": 132,
   "id": "2842c31c",
   "metadata": {},
   "outputs": [
    {
     "name": "stdout",
     "output_type": "stream",
     "text": [
      "\u001b[32mCeci est un test\u001b[0m\n",
      "\u001b[31mCeci est un test\u001b[0m\n",
      "\u001b[34mCeci est un test\u001b[0m\n"
     ]
    }
   ],
   "source": [
    "from termcolor import colored\n",
    "\n",
    "print(colored(\"Ceci est un test\", \"green\"))\n",
    "print(colored(\"Ceci est un test\", \"red\"))\n",
    "print(colored(\"Ceci est un test\", \"blue\"))"
   ]
  },
  {
   "cell_type": "markdown",
   "id": "932e250f",
   "metadata": {},
   "source": [
    "## 32- Inverser une liste\n",
    "\n",
    "### Avec la fonction `reverse()`"
   ]
  },
  {
   "cell_type": "code",
   "execution_count": 137,
   "id": "5022d5a8",
   "metadata": {},
   "outputs": [
    {
     "name": "stdout",
     "output_type": "stream",
     "text": [
      "['velo', 'maison', 'chenille', 'arbre']\n"
     ]
    }
   ],
   "source": [
    "elements = [\"arbre\", \"chenille\", \"maison\", \"velo\"]\n",
    "elements.reverse()\n",
    "print(elements)"
   ]
  },
  {
   "cell_type": "markdown",
   "id": "fe6be3be",
   "metadata": {},
   "source": [
    "### Avec un découpage de liste :"
   ]
  },
  {
   "cell_type": "code",
   "execution_count": 158,
   "id": "5399e4f1",
   "metadata": {},
   "outputs": [
    {
     "name": "stdout",
     "output_type": "stream",
     "text": [
      "['velo', 'maison', 'chenille', 'arbre']\n"
     ]
    }
   ],
   "source": [
    "elements = [\"arbre\", \"chenille\", \"maison\", \"velo\"]\n",
    "print(elements[::-1])"
   ]
  },
  {
   "cell_type": "markdown",
   "id": "c4eac5f9",
   "metadata": {},
   "source": [
    "## 33- L'opérateur morse **`(:=)`**\n",
    "*Walrus* en anglais, ajout dans la version 3.8 de Python. Il s'agit d'un opérateur **qui permet l'affectation directement dans l'expression**."
   ]
  },
  {
   "cell_type": "code",
   "execution_count": 138,
   "id": "4cce40c5",
   "metadata": {},
   "outputs": [
    {
     "name": "stdout",
     "output_type": "stream",
     "text": [
      "3\n"
     ]
    }
   ],
   "source": [
    "# Code standard\n",
    "liste = [1, 2, 3]\n",
    "\n",
    "n=len(liste)\n",
    "if n>2 :\n",
    "    print(n)"
   ]
  },
  {
   "cell_type": "code",
   "execution_count": 139,
   "id": "fa06dd60",
   "metadata": {},
   "outputs": [
    {
     "name": "stdout",
     "output_type": "stream",
     "text": [
      "True\n"
     ]
    }
   ],
   "source": [
    "liste = [1, 2, 3]\n",
    "\n",
    "if (n := len(liste)>2):\n",
    "    print(n)"
   ]
  },
  {
   "cell_type": "markdown",
   "id": "78bdbb4c",
   "metadata": {},
   "source": [
    "## 34- Suite de Fibonacci"
   ]
  },
  {
   "cell_type": "code",
   "execution_count": 143,
   "id": "4483de82",
   "metadata": {},
   "outputs": [
    {
     "name": "stdout",
     "output_type": "stream",
     "text": [
      "55\n"
     ]
    }
   ],
   "source": [
    "# fonction lambda\n",
    "suite_F = lambda n : n if n <= 1 else suite_F(n-1) + suite_F(n-2)\n",
    "\n",
    "resultat = suite_F(10)\n",
    "print(resultat)"
   ]
  },
  {
   "cell_type": "markdown",
   "id": "688692a9",
   "metadata": {},
   "source": [
    "## 35- Afficher les éléments d'une liste dans n'importe quel ordre\n",
    "\n",
    "Si vous devez afficher les valeurs d'une liste dans des ordres différents, vous pouvez affecter la liste à une série de variables et décider de l'ordre dans lequel vous souhaitez afficher la liste."
   ]
  },
  {
   "cell_type": "code",
   "execution_count": 146,
   "id": "ebad1407",
   "metadata": {},
   "outputs": [
    {
     "name": "stdout",
     "output_type": "stream",
     "text": [
      "3 2 1\n",
      "2 1 3\n",
      "1 2 3\n"
     ]
    }
   ],
   "source": [
    "liste = [1, 2, 3]\n",
    "a, b, c = liste\n",
    "\n",
    "print(c, b, a)\n",
    "print(b, a, c)\n",
    "print(a, b, c)"
   ]
  },
  {
   "cell_type": "markdown",
   "id": "8384fe2f",
   "metadata": {},
   "source": [
    "### Permuter les éléments d'une liste avec `itertools`"
   ]
  },
  {
   "cell_type": "code",
   "execution_count": 242,
   "id": "5122f303",
   "metadata": {},
   "outputs": [
    {
     "data": {
      "text/plain": [
       "[('a', 'b', 'c'),\n",
       " ('a', 'c', 'b'),\n",
       " ('b', 'a', 'c'),\n",
       " ('b', 'c', 'a'),\n",
       " ('c', 'a', 'b'),\n",
       " ('c', 'b', 'a')]"
      ]
     },
     "execution_count": 242,
     "metadata": {},
     "output_type": "execute_result"
    }
   ],
   "source": [
    "import itertools\n",
    "\n",
    "iter = itertools.permutations([\"a\", \"b\", \"c\"])\n",
    "list(iter)"
   ]
  },
  {
   "cell_type": "markdown",
   "id": "b86b068e",
   "metadata": {},
   "source": [
    "## 36- Echanger 2 nombres en une seule ligne de code"
   ]
  },
  {
   "cell_type": "code",
   "execution_count": 152,
   "id": "39a7e277",
   "metadata": {},
   "outputs": [
    {
     "name": "stdout",
     "output_type": "stream",
     "text": [
      "25\n",
      "10\n"
     ]
    }
   ],
   "source": [
    "x, y = 10, 25\n",
    "\n",
    "# échange\n",
    "x, y = y, x\n",
    "\n",
    "print(x)\n",
    "print(y)"
   ]
  },
  {
   "cell_type": "markdown",
   "id": "db4a274c",
   "metadata": {},
   "source": [
    "## 37- Transposer une matrice\n",
    "\n",
    "Consiste à convertir des colonnes en lignes. On utilise la fonction `zip()` avec l'opérateur `*` pour décompresser une liste qui devient une transposition du donné matrice. "
   ]
  },
  {
   "cell_type": "code",
   "execution_count": 156,
   "id": "a3ff77ee",
   "metadata": {},
   "outputs": [
    {
     "name": "stdout",
     "output_type": "stream",
     "text": [
      "[(10, 20, 40), (30, 15, 0)]\n"
     ]
    }
   ],
   "source": [
    "# matrice\n",
    "matrix = [[10, 30],\n",
    "     [20, 15],\n",
    "     [40, 0]]\n",
    "\n",
    "print(list(zip(*matrix)))"
   ]
  },
  {
   "cell_type": "markdown",
   "id": "47fd2f7a",
   "metadata": {},
   "source": [
    "### Transposer un tableau à 2 dimensions :\n",
    "Transposer un tableau 2D, cela signifie que si la matrice est 2*3 après transposition, ce sera une matrice 3*2."
   ]
  },
  {
   "cell_type": "code",
   "execution_count": 184,
   "id": "d77a290d",
   "metadata": {},
   "outputs": [
    {
     "name": "stdout",
     "output_type": "stream",
     "text": [
      "[(10, 40), (30, 0), (25, 15)]\n"
     ]
    }
   ],
   "source": [
    "# matrice\n",
    "matrix = [[10, 30, 25],\n",
    "     [40, 0, 15]]\n",
    "\n",
    "transposer_matrice = zip(*matrix)\n",
    "print(list(transposer_matrice))"
   ]
  },
  {
   "cell_type": "markdown",
   "id": "572a7b18",
   "metadata": {},
   "source": [
    "## 38- Afficher une chaîne N fois"
   ]
  },
  {
   "cell_type": "code",
   "execution_count": 157,
   "id": "9b609bdf",
   "metadata": {},
   "outputs": [
    {
     "name": "stdout",
     "output_type": "stream",
     "text": [
      "TestTestTest\n"
     ]
    }
   ],
   "source": [
    "chaine = \"Test\"\n",
    "print(chaine * 3)"
   ]
  },
  {
   "cell_type": "markdown",
   "id": "52b34177",
   "metadata": {},
   "source": [
    "## 39- Trouver les facteurs d'un nombre "
   ]
  },
  {
   "cell_type": "code",
   "execution_count": 170,
   "id": "a73ff1da",
   "metadata": {},
   "outputs": [
    {
     "name": "stdout",
     "output_type": "stream",
     "text": [
      "Les facteurs du nombre  50 sont :  [1, 2, 5, 10, 25, 50]\n"
     ]
    }
   ],
   "source": [
    "# nombre à entrer \n",
    "nombre = 50\n",
    "\n",
    "# liste contenant les facteurs\n",
    "liste_facteurs = []\n",
    "\n",
    "# calcul des facteurs avec une boucle qui vérifie la \n",
    "#... divisibilité du nombre avec l'indice d'itération\n",
    "for i in range(1, nombre+1):\n",
    "    if nombre % i == 0 :\n",
    "        liste_facteurs.append(i)\n",
    "        \n",
    "print(\"Les facteurs du nombre \", nombre, \"sont : \", liste_facteurs)"
   ]
  },
  {
   "cell_type": "code",
   "execution_count": 171,
   "id": "ea177b08",
   "metadata": {},
   "outputs": [],
   "source": [
    "# fonction qui reprend le code\n",
    "def facteurs(nombre):\n",
    "    liste_facteurs = []\n",
    "    \n",
    "    for i in range(1, nombre+1):\n",
    "        if nombre % i == 0 :\n",
    "            liste_facteurs.append(i)\n",
    "        \n",
    "    return liste_facteurs    "
   ]
  },
  {
   "cell_type": "code",
   "execution_count": 174,
   "id": "573c3bf0",
   "metadata": {},
   "outputs": [
    {
     "data": {
      "text/plain": [
       "[1, 3, 9, 27]"
      ]
     },
     "execution_count": 174,
     "metadata": {},
     "output_type": "execute_result"
    }
   ],
   "source": [
    "facteurs(27)"
   ]
  },
  {
   "cell_type": "markdown",
   "id": "c04da4a1",
   "metadata": {},
   "source": [
    "## 40- Vérifier l'utilisation de la mémoire"
   ]
  },
  {
   "cell_type": "code",
   "execution_count": 177,
   "id": "916a0e50",
   "metadata": {},
   "outputs": [
    {
     "name": "stdout",
     "output_type": "stream",
     "text": [
      "54\n",
      "51\n",
      "28\n",
      "24\n"
     ]
    }
   ],
   "source": [
    "import sys\n",
    "\n",
    "a, b, c, d = \"abcde\", \"xy\", 2, 89.00\n",
    "print(sys.getsizeof(a))\n",
    "print(sys.getsizeof(b))\n",
    "print(sys.getsizeof(c))\n",
    "print(sys.getsizeof(d))"
   ]
  },
  {
   "cell_type": "markdown",
   "id": "7903f43f",
   "metadata": {},
   "source": [
    "## 41- Vérifier un anagrammme "
   ]
  },
  {
   "cell_type": "code",
   "execution_count": 200,
   "id": "8e945c69",
   "metadata": {},
   "outputs": [
    {
     "name": "stdout",
     "output_type": "stream",
     "text": [
      "True\n",
      "True\n",
      "True\n"
     ]
    }
   ],
   "source": [
    "from collections import Counter\n",
    "\n",
    "def anagramme(mot1, mot2):\n",
    "    mot1 = mot1.lower()\n",
    "    mot2 = mot2.lower()\n",
    "    return Counter(mot1) == Counter(mot2)\n",
    "\n",
    "print(anagramme(\"Francois Rabelais\", \"Alcofribas Nasier\"))\n",
    "print(anagramme(\"TomMarvoloRiddle\", \"IamLordVoldemort\"))\n",
    "print(anagramme(\"Pablo Picasso\", \"Pascal Obispo\"))"
   ]
  },
  {
   "cell_type": "markdown",
   "id": "304c3bf3",
   "metadata": {},
   "source": [
    "## 42- Inspecter un objet avec `dir()`"
   ]
  },
  {
   "cell_type": "code",
   "execution_count": 199,
   "id": "aeab6b3e",
   "metadata": {},
   "outputs": [
    {
     "name": "stdout",
     "output_type": "stream",
     "text": [
      "['__add__', '__class__', '__contains__', '__delattr__', '__delitem__', '__dir__', '__doc__', '__eq__', '__format__', '__ge__', '__getattribute__', '__getitem__', '__gt__', '__hash__', '__iadd__', '__imul__', '__init__', '__init_subclass__', '__iter__', '__le__', '__len__', '__lt__', '__mul__', '__ne__', '__new__', '__reduce__', '__reduce_ex__', '__repr__', '__reversed__', '__rmul__', '__setattr__', '__setitem__', '__sizeof__', '__str__', '__subclasshook__', 'append', 'clear', 'copy', 'count', 'extend', 'index', 'insert', 'pop', 'remove', 'reverse', 'sort']\n"
     ]
    }
   ],
   "source": [
    "liste = [1, 2, 3]\n",
    "print(dir(liste))"
   ]
  },
  {
   "cell_type": "markdown",
   "id": "2977aa58",
   "metadata": {},
   "source": [
    "## 43- Enumérer une liste avec `enumerate()`"
   ]
  },
  {
   "cell_type": "code",
   "execution_count": 202,
   "id": "dc526668",
   "metadata": {},
   "outputs": [
    {
     "name": "stdout",
     "output_type": "stream",
     "text": [
      "0 : 10\n",
      "1 : 20\n",
      "2 : 30\n",
      "3 : 40\n"
     ]
    }
   ],
   "source": [
    "liste = [10, 20, 30, 40]\n",
    "\n",
    "for index, valeur in enumerate(liste):\n",
    "    print(index, \":\", valeur)"
   ]
  },
  {
   "cell_type": "markdown",
   "id": "8f945219",
   "metadata": {},
   "source": [
    "## 44- Calculer la factorielle de n'importe quel nombre \n",
    "\n",
    "- https://docs.python.org/3/library/functools.html"
   ]
  },
  {
   "cell_type": "code",
   "execution_count": 217,
   "id": "ececa8cd",
   "metadata": {},
   "outputs": [
    {
     "name": "stdout",
     "output_type": "stream",
     "text": [
      "5040\n"
     ]
    }
   ],
   "source": [
    "import functools\n",
    "\n",
    "# entrer le nombre \n",
    "nombre = 7\n",
    "\n",
    "result = (lambda s: functools.reduce(int.__mul__, range(1, s+1), 1))(nombre)\n",
    "print(result)"
   ]
  },
  {
   "cell_type": "markdown",
   "id": "6617a8ea",
   "metadata": {},
   "source": [
    "## 45- La fonction `map()`\n",
    "\n",
    "**Sources :**\n",
    "- https://www.digitalocean.com/community/tutorials/how-to-use-the-python-map-function-fr\n",
    "- https://www.geeksforgeeks.org/python-map-function/\n",
    "\n",
    "\"Au lieu d’utiliser une boucle for, la fonction map() permet d’appliquer une fonction à chaque élément d’un itérable. Il peut donc souvent être plus performant, puisqu’il n’applique la fonction qu’un élément à la fois plutôt que de rendre itérative la copie des éléments dans un autre. Ceci est particulièrement utile lorsque l’on travaille sur des programmes traitant de grands ensembles de données. map() peut également prendre plusieurs itérables comme arguments de la fonction en envoyant un élément à la fois de chaque itérable à la fonction.\" "
   ]
  },
  {
   "cell_type": "code",
   "execution_count": 220,
   "id": "5b7afe44",
   "metadata": {},
   "outputs": [
    {
     "name": "stdout",
     "output_type": "stream",
     "text": [
      "nombre:1 2 3 4 5 6 \n",
      "[1, 2, 3, 4, 5, 6]\n"
     ]
    }
   ],
   "source": [
    "# L'utilisateur saisi des chiffres (ex:\"1 2 3 4 5 6 \"), sort une liste où chaque chiffre est séparé \n",
    "liste = list(map(int, input(\"nombre:\").split()))\n",
    "print(liste)"
   ]
  },
  {
   "cell_type": "code",
   "execution_count": 222,
   "id": "2360452b",
   "metadata": {},
   "outputs": [
    {
     "name": "stdout",
     "output_type": "stream",
     "text": [
      "[5, 10, 15, 20, 25, 30]\n"
     ]
    }
   ],
   "source": [
    "# exemple : multiplier les nombres de la liste précédente par 5\n",
    "multiplication = list(map(lambda x: x * 5, liste))\n",
    "print(multiplication)"
   ]
  },
  {
   "cell_type": "markdown",
   "id": "02a48787",
   "metadata": {},
   "source": [
    "### autre exemple : "
   ]
  },
  {
   "cell_type": "code",
   "execution_count": 239,
   "id": "8931608b",
   "metadata": {},
   "outputs": [
    {
     "name": "stdout",
     "output_type": "stream",
     "text": [
      "[2, 4, 6]\n"
     ]
    }
   ],
   "source": [
    "# PLutôt que de faire :\n",
    "\n",
    "liste = [1, 2, 3]\n",
    "nouvelle_liste = []\n",
    "\n",
    "# fonction addition de x et x\n",
    "def addition(nombre):\n",
    "    resultat = nombre + nombre\n",
    "    return resultat\n",
    "\n",
    "for x in liste :\n",
    "    nouvelle_liste.append(addition(x))\n",
    "    \n",
    "print(nouvelle_liste)"
   ]
  },
  {
   "cell_type": "code",
   "execution_count": 240,
   "id": "e740a1ed",
   "metadata": {},
   "outputs": [
    {
     "name": "stdout",
     "output_type": "stream",
     "text": [
      "<map object at 0x000001D835C0C610>\n"
     ]
    }
   ],
   "source": [
    "# Opter pour :\n",
    "\n",
    "liste = [1, 2, 3]\n",
    "\n",
    "# fonction addition de x et x\n",
    "def addition(nombre):\n",
    "    resultat = nombre + nombre\n",
    "    return resultat\n",
    "\n",
    "nouvelle_liste = map(addition, liste)\n",
    "print(nouvelle_liste)"
   ]
  },
  {
   "cell_type": "markdown",
   "id": "40abd343",
   "metadata": {},
   "source": [
    "## 46- Fusionner des listes avec `extend()` et `append()`"
   ]
  },
  {
   "cell_type": "code",
   "execution_count": 233,
   "id": "79dfa0b0",
   "metadata": {},
   "outputs": [
    {
     "name": "stdout",
     "output_type": "stream",
     "text": [
      "[1, 2, 3, 4, 5, 6]\n"
     ]
    }
   ],
   "source": [
    "liste_1 = [1, 2, 3]\n",
    "liste_2 = [4, 5, 6]\n",
    "\n",
    "# fusionner les listes\n",
    "liste_1.extend(liste_2)\n",
    "print(liste_1)"
   ]
  },
  {
   "cell_type": "code",
   "execution_count": 234,
   "id": "da32d5dc",
   "metadata": {},
   "outputs": [
    {
     "name": "stdout",
     "output_type": "stream",
     "text": [
      "[1, 2, 3, [4, 5, 6]]\n"
     ]
    }
   ],
   "source": [
    "liste_1 = [1, 2, 3]\n",
    "liste_2 = [4, 5, 6]\n",
    "\n",
    "# ajouter une liste à un autre\n",
    "liste_1.append(liste_2)\n",
    "print(liste_1)"
   ]
  },
  {
   "cell_type": "markdown",
   "id": "f4224c33",
   "metadata": {},
   "source": [
    "## 47- Constructions linguistiques\n",
    "\n",
    "Il est préférable d'écrire votre code dans des fonctions, bien que le code procédural soit pris en charge en Python. Il est plus rapide de stocker des variables locales que des variables globales en raison de l'implémentation sous-jacente de Cpython."
   ]
  },
  {
   "cell_type": "code",
   "execution_count": null,
   "id": "69db2d70",
   "metadata": {},
   "outputs": [],
   "source": [
    "# Au lieu d'écrire : \n",
    "for x in range(2**3):\n",
    "    print(x)\n",
    "    \n",
    "# Mieux vaut faire une fonction :\n",
    "def main():\n",
    "    for i in range(2**3):\n",
    "        print(x)\n",
    "main()"
   ]
  },
  {
   "cell_type": "markdown",
   "id": "7d153243",
   "metadata": {},
   "source": [
    "## 48- Utiliser des générateurs\n",
    "\n",
    "- https://python.doctor/page-iterateurs-iterator-generateur-generator-python\n",
    "- https://zestedesavoir.com/tutoriels/954/notions-de-python-avancees/3-further/1-generators/\n",
    "\n",
    "Réduisent l'empreinte mémoire et la complexité temporelle moyenne du code que vous avez écrit."
   ]
  },
  {
   "cell_type": "code",
   "execution_count": 243,
   "id": "5846a718",
   "metadata": {},
   "outputs": [],
   "source": [
    "def fib():\n",
    "    a, b = 0, 1\n",
    "    while 1 :\n",
    "        yield a\n",
    "        a, b = b, a+b"
   ]
  },
  {
   "cell_type": "markdown",
   "id": "eaaa7a31",
   "metadata": {},
   "source": [
    "## 49- Découpage de chaînes de carctères\n",
    "\n",
    "La chaîne à découper prend 2 arguments obligatoires et 1 facltatif. Les arguments obligatoires sont l'indexde début (inclus) et l'index de fin (non inclus). L'argument facultatif est la valeur d'incrémentation ou de décrémentation (1 par défaut)."
   ]
  },
  {
   "cell_type": "code",
   "execution_count": 245,
   "id": "cc98a651",
   "metadata": {},
   "outputs": [
    {
     "name": "stdout",
     "output_type": "stream",
     "text": [
      "est\n"
     ]
    }
   ],
   "source": [
    "chaine = \"Ceci est un test\"\n",
    "print(chaine[5:8])"
   ]
  },
  {
   "cell_type": "markdown",
   "id": "e7a54c44",
   "metadata": {},
   "source": [
    "## 50- Accès indexé "
   ]
  },
  {
   "cell_type": "code",
   "execution_count": 246,
   "id": "ba10173a",
   "metadata": {},
   "outputs": [
    {
     "name": "stdout",
     "output_type": "stream",
     "text": [
      "Ce\n"
     ]
    }
   ],
   "source": [
    "chaine = \"Ceci est un test\"\n",
    "print(chaine[0]+chaine[1])"
   ]
  },
  {
   "cell_type": "markdown",
   "id": "bc5019a5",
   "metadata": {},
   "source": [
    "## 51- Créer un serveur de fichier en 1 ligne de code\n",
    "\n",
    "En ligne de commande, tappez :\n",
    "\n",
    "`python -m http.server 8000`\n",
    "\n",
    "Pour interrompre : `Ctrl + c`"
   ]
  },
  {
   "cell_type": "markdown",
   "id": "ea43722d",
   "metadata": {},
   "source": [
    "## 52- Utiliser la classe ENUM pour énumérer une liste d'objets"
   ]
  },
  {
   "cell_type": "code",
   "execution_count": 258,
   "id": "8d5b669f",
   "metadata": {},
   "outputs": [
    {
     "name": "stdout",
     "output_type": "stream",
     "text": [
      "sports.ski\n",
      "sports.football\n",
      "sports.course\n",
      "sports.volley\n",
      "sports.golf\n",
      "sports.natation\n"
     ]
    }
   ],
   "source": [
    "from enum import Enum\n",
    "\n",
    "class sports(Enum):\n",
    "    ski = 0 \n",
    "    football = 1\n",
    "    course = 2\n",
    "    volley = 3\n",
    "    golf = 4\n",
    "    natation = 5\n",
    "    \n",
    "# sports.golf\n",
    "# print(sports.golf)\n",
    "# print(repr(sports.golf()))\n",
    "\n",
    "# itération :\n",
    "for i in sports:\n",
    "    print(i)"
   ]
  },
  {
   "cell_type": "markdown",
   "id": "472c6d7f",
   "metadata": {},
   "source": [
    "## 53- Connexion bdd SQLITE "
   ]
  },
  {
   "cell_type": "code",
   "execution_count": null,
   "id": "507feca1",
   "metadata": {},
   "outputs": [],
   "source": [
    "# connexion à la bdd\n",
    "bdd = sqlite3.connect('ma_bdd.db')\n",
    "\n",
    "# création d'un curseur\n",
    "cursor = bdd.cursor()\n",
    "\n",
    "# appliquer une requête \n",
    "cursor.execute('Entrer une requete SQL')\n",
    "\n",
    "# récupérer des données\n",
    "data =  cursor.fetchall()\n",
    "\n",
    "#afficher les données\n",
    "for in data :\n",
    "    print(i)\n",
    "    \n",
    "# fermeture du curseur \n",
    "cursor.close()\n",
    "\n",
    "# déconnexion de la bdd\n",
    "bdd.close()"
   ]
  },
  {
   "cell_type": "markdown",
   "id": "dd7a7be4",
   "metadata": {},
   "source": [
    "## 54- Créer une fonction récursive"
   ]
  },
  {
   "cell_type": "code",
   "execution_count": 260,
   "id": "8b19043c",
   "metadata": {},
   "outputs": [
    {
     "name": "stdout",
     "output_type": "stream",
     "text": [
      "0 || 1 || 1 || 2 || 3 || 5 || 8 || 13 || 21 || 34 || 55 || 89 || 144 || 233 || 377 || 610 || 987 || 1597 || 2584 || 4181 || 6765 || 10946 || 17711 || 28657 || 46368 || 75025 || 121393 || 196418 || 317811 || 514229 || "
     ]
    }
   ],
   "source": [
    "# la fonction s'appelle elle-même\n",
    "def fibo(x):\n",
    "    if x <= 1 :\n",
    "        return x\n",
    "    else :\n",
    "        return fibo(x-1) + fibo(x-2)\n",
    "    \n",
    "for i in range(30):\n",
    "    print(fibo(i), end=\" || \")"
   ]
  },
  {
   "cell_type": "markdown",
   "id": "b547e034",
   "metadata": {},
   "source": [
    "## 55- `Any` et `all`\n",
    "\n",
    "`any` renvoie **True** lorsqu'au moins une des instructions est **True**.\n",
    "\n",
    "`all` renvoie **True** lorsque toutes les instructions sont **True**."
   ]
  },
  {
   "cell_type": "code",
   "execution_count": 262,
   "id": "4f83a142",
   "metadata": {},
   "outputs": [
    {
     "name": "stdout",
     "output_type": "stream",
     "text": [
      "False\n",
      "False\n",
      "True\n",
      "True\n",
      "True\n"
     ]
    }
   ],
   "source": [
    "# Exemples :\n",
    "\n",
    "print(any([False, False, False]))\n",
    "print(all([False, True, True]))\n",
    "print(any([True, False, False]))\n",
    "print(any([False, False, True]))\n",
    "print(all([True, True, True]))"
   ]
  },
  {
   "cell_type": "markdown",
   "id": "7c06add6",
   "metadata": {},
   "source": [
    "## 56- While 1 et boucle infinie\n",
    "\n",
    "Même si \"while True\" effectue la même opération, \"while 1\" est une opération de saut unique."
   ]
  },
  {
   "cell_type": "code",
   "execution_count": null,
   "id": "dbbc94da",
   "metadata": {},
   "outputs": [],
   "source": [
    "while 1 :\n",
    "    # faire quelque chose, plus vite avec while 1\n",
    "    \n",
    "while True :\n",
    "    # effectue la même opération mais plus lentement"
   ]
  },
  {
   "cell_type": "markdown",
   "id": "96993755",
   "metadata": {},
   "source": [
    "## 57- Utilisation du module **bisect** pour conserver une liste dans l'ordre trié\n",
    "\n",
    "- https://stackoverflow.com/questions/52996764/python-bisect-insortlist-value\n",
    "- https://docs.python.org/3/library/bisect.html"
   ]
  },
  {
   "cell_type": "code",
   "execution_count": 265,
   "id": "92db137c",
   "metadata": {},
   "outputs": [],
   "source": [
    "# ajoute un élément en ordonnant la liste\n",
    "import bisect\n",
    "\n",
    "bisect.insort(ma_liste, mon_element)"
   ]
  },
  {
   "cell_type": "code",
   "execution_count": 271,
   "id": "982b8c5d",
   "metadata": {},
   "outputs": [
    {
     "name": "stdout",
     "output_type": "stream",
     "text": [
      "[1, 2, 3, 4, 5, 6, 7, 8, 9]\n"
     ]
    }
   ],
   "source": [
    "# Exemple : \n",
    "import bisect\n",
    "\n",
    "liste = [1, 3, 7, 5, 6, 4, 9, 8, 2]\n",
    "\n",
    "resultat = []\n",
    "for x in liste:\n",
    "    bisect.insort(resultat, x)\n",
    "\n",
    "print(resultat)"
   ]
  },
  {
   "cell_type": "markdown",
   "id": "7394c668",
   "metadata": {},
   "source": [
    "## 58- Utilisation d'un dictionnaire et d'un ensemble pour tester l'appartenance d'un élément\n",
    "\n",
    "Comme le dictionnaire et les ensembles sont implémentés à l'aide d'une table de hachage, vérifier si un des éléments existe dans un dictionnaire ou un ensemble est très rapide."
   ]
  },
  {
   "cell_type": "code",
   "execution_count": 272,
   "id": "63420a3e",
   "metadata": {},
   "outputs": [
    {
     "data": {
      "text/plain": [
       "True"
      ]
     },
     "execution_count": 272,
     "metadata": {},
     "output_type": "execute_result"
    }
   ],
   "source": [
    "liste = [\"a\", \"ab\", \"abc\"]\n",
    "\n",
    "# méthode lente : vérifie l'appartenance avec une liste\n",
    "'abc' in liste"
   ]
  },
  {
   "cell_type": "code",
   "execution_count": 276,
   "id": "874b2f9b",
   "metadata": {},
   "outputs": [
    {
     "data": {
      "text/plain": [
       "True"
      ]
     },
     "execution_count": 276,
     "metadata": {},
     "output_type": "execute_result"
    }
   ],
   "source": [
    "# méthode rapide : vérifie l'appartenance avec un dictionnaire\n",
    "ensemble = set(liste) # conversion de la liste en set\n",
    "'abc' in ensemble "
   ]
  },
  {
   "cell_type": "markdown",
   "id": "224dcb9c",
   "metadata": {},
   "source": [
    "## 59- Utiliser des emojis\n",
    "\n",
    "- https://pypi.org/project/emoji/"
   ]
  },
  {
   "cell_type": "code",
   "execution_count": 282,
   "id": "76a3f91d",
   "metadata": {},
   "outputs": [
    {
     "name": "stdout",
     "output_type": "stream",
     "text": [
      "👍\n"
     ]
    }
   ],
   "source": [
    "# pip install emoji\n",
    "from emoji import emojize\n",
    "\n",
    "print(emojize(\":thumbs_up:\"))"
   ]
  },
  {
   "cell_type": "markdown",
   "id": "eb25dc02",
   "metadata": {},
   "source": [
    "## 60- Maintenir son code avec `__future__`\n",
    "\n",
    "Permet de conserver un code compatible même avec des versions ultérieures de Python."
   ]
  },
  {
   "cell_type": "code",
   "execution_count": null,
   "id": "7a0d6b46",
   "metadata": {},
   "outputs": [],
   "source": [
    "from __future__ import print_function\n",
    "\n",
    "print(\"message\")"
   ]
  },
  {
   "cell_type": "markdown",
   "id": "eabde2ca",
   "metadata": {},
   "source": [
    "## 61- Calculer la distance entre 2 points géographiques avec **geopy**\n",
    "\n",
    "Permet d'obtenir l'adresse complète, la latitude, la longitude et même l'altitude d'un lieu. Il calcule également la distance entre 2 emplacements dans différentes unités de mesure."
   ]
  },
  {
   "cell_type": "code",
   "execution_count": null,
   "id": "58012748",
   "metadata": {},
   "outputs": [],
   "source": [
    "# nécessite une clé d'API\n",
    "# pip install geopy\n",
    "from geopy import GoogleV3\n",
    "\n",
    "place = \"10 Downing Street, London\"\n",
    "location = GoogleV3().geocode(place)\n",
    "\n",
    "print(location.adress)\n",
    "print(location.location)"
   ]
  },
  {
   "cell_type": "markdown",
   "id": "e91f83ac",
   "metadata": {},
   "source": [
    "## 62- Demander de l'aide avec **howdoi**\n",
    "\n",
    "A saisir dans une invite de commande :\n",
    "    \n",
    "`pip install howdoi`\n",
    "\n",
    "Poser des questions en anglais ou saisir des mots-clés. Par exemple :\n",
    "    \n",
    "`howdoi vertical align css`\n",
    "\n",
    "`howdoi for loop in java`\n",
    "\n",
    "`howdoi undo commits in git`"
   ]
  },
  {
   "cell_type": "markdown",
   "id": "2fa56338",
   "metadata": {},
   "source": [
    "## 63- Inspecter votre code avec **inspect**\n",
    "\n",
    "`inspect.getsource` permet d'afficher son propre code source.\n",
    "\n",
    "`inspect.getmodule()` affiche le module dans lequel il a été défini. "
   ]
  },
  {
   "cell_type": "code",
   "execution_count": 286,
   "id": "37ffb483",
   "metadata": {},
   "outputs": [
    {
     "name": "stdout",
     "output_type": "stream",
     "text": [
      "def getsource(object):\n",
      "    \"\"\"Return the text of the source code for an object.\n",
      "\n",
      "    The argument may be a module, class, method, function, traceback, frame,\n",
      "    or code object.  The source code is returned as a single string.  An\n",
      "    OSError is raised if the source code cannot be retrieved.\"\"\"\n",
      "    lines, lnum = getsourcelines(object)\n",
      "    return ''.join(lines)\n",
      "\n",
      "<module 'inspect' from 'C:\\\\Users\\\\utilisateur\\\\anaconda3\\\\lib\\\\inspect.py'>\n",
      "5\n"
     ]
    }
   ],
   "source": [
    "import inspect\n",
    "\n",
    "print(inspect.getsource(inspect.getsource))\n",
    "print(inspect.getmodule(inspect.getmodule))\n",
    "# imprime son propre numéro de ligne\n",
    "print(inspect.currentframe().f_lineno)"
   ]
  },
  {
   "cell_type": "markdown",
   "id": "43874737",
   "metadata": {},
   "source": [
    "## 64- Bibliothèque **jedi**\n",
    "\n",
    "- https://pypi.org/project/jedi/\n",
    "- https://jedi.readthedocs.io/en/latest/\n",
    "    \n",
    "Bibliothèque d'autocomplétion et d'analyse de code : rend l'écriture de code plus rapide et plus productive. "
   ]
  },
  {
   "cell_type": "markdown",
   "id": "3e39b69c",
   "metadata": {},
   "source": [
    "## 65- Webscraping avec **newspaper3k**\n",
    "\n",
    "- https://pypi.org/project/newspaper3k/\n",
    "\n",
    "Permet de récupérer des articles d'actualité et des métadonnées associées à partir d'une gamme de publications internationales de premier plan."
   ]
  },
  {
   "cell_type": "markdown",
   "id": "aee7cc1e",
   "metadata": {},
   "source": [
    "## 66- Bibliothèque **sh**\n",
    "\n",
    "Permet d'appeler n'importe quel programme comme s'il s'agissait d'une fonction ordinaire (pour automatiser les flux de travail et les tâches, par exemple)"
   ]
  },
  {
   "cell_type": "code",
   "execution_count": null,
   "id": "6254a0ca",
   "metadata": {},
   "outputs": [],
   "source": [
    "import sh \n",
    "\n",
    "sh.pwd()\n",
    "sh.mkdir('nouveau_dossier')\n",
    "sh.touch('nouveau_fichier.txt')\n",
    "sh.whoami()\n",
    "sh.echo('Ecrire un message.')"
   ]
  },
  {
   "cell_type": "markdown",
   "id": "6195f03f",
   "metadata": {},
   "source": [
    "## 67- Améliorer la vitesse du code avec **cython**\n",
    "\n",
    "Mélange de C/C++ et de Python.\n",
    "Voir à ce sujet : **cython**, **distuils** et **setuptools**."
   ]
  },
  {
   "cell_type": "markdown",
   "id": "8abea764",
   "metadata": {},
   "source": [
    "## 68- Calculer un pourcentage de remise"
   ]
  },
  {
   "cell_type": "code",
   "execution_count": 6,
   "id": "d8601d71",
   "metadata": {},
   "outputs": [
    {
     "name": "stdout",
     "output_type": "stream",
     "text": [
      "La remise est de 7.5 €.\n",
      "L'article coûte 42.5 € au lieu de 50 €.\n"
     ]
    }
   ],
   "source": [
    "## remise de 15% sur 50€\n",
    "cout = 50\n",
    "reduction = 15\n",
    "\n",
    "calcul = (cout * reduction) / 100\n",
    "print(\"La remise est de\", calcul, \"€.\")\n",
    "\n",
    "total = cout - calcul\n",
    "print(\"L'article coûte\", total, \"€ au lieu de\", cout, \"€.\")"
   ]
  },
  {
   "cell_type": "markdown",
   "id": "61dc7f37",
   "metadata": {},
   "source": [
    "## 69- Calculer une moyenne"
   ]
  },
  {
   "cell_type": "code",
   "execution_count": 12,
   "id": "0cfdb72e",
   "metadata": {},
   "outputs": [
    {
     "name": "stdout",
     "output_type": "stream",
     "text": [
      "La moyenne de points est de: 14.0\n"
     ]
    }
   ],
   "source": [
    "points = [12, 20, 7, 3]\n",
    "somme = 0\n",
    "\n",
    "for x in points :\n",
    "    somme += x\n",
    "    \n",
    "moyenne = somme/3\n",
    "print(\"La moyenne de points est de:\", moyenne)"
   ]
  },
  {
   "cell_type": "markdown",
   "id": "03e41aef",
   "metadata": {},
   "source": [
    "## 70- Calculer la moyenne d'une liste\n",
    "\n",
    "- https://www.geeksforgeeks.org/find-average-list-python/"
   ]
  },
  {
   "cell_type": "code",
   "execution_count": 15,
   "id": "96c5cc0a",
   "metadata": {},
   "outputs": [],
   "source": [
    "def moyenne(liste):\n",
    "    somme = 0\n",
    "    for nombre in liste :\n",
    "        somme += nombre\n",
    "        \n",
    "    moyenne = somme/3\n",
    "    \n",
    "    return moyenne       "
   ]
  },
  {
   "cell_type": "code",
   "execution_count": 16,
   "id": "0cc66b2d",
   "metadata": {},
   "outputs": [
    {
     "data": {
      "text/plain": [
       "14.0"
      ]
     },
     "execution_count": 16,
     "metadata": {},
     "output_type": "execute_result"
    }
   ],
   "source": [
    "moyenne([12, 20, 7, 3])"
   ]
  },
  {
   "cell_type": "markdown",
   "id": "f902510a",
   "metadata": {},
   "source": [
    "### Autre exemple :"
   ]
  },
  {
   "cell_type": "code",
   "execution_count": 18,
   "id": "a94762e1",
   "metadata": {},
   "outputs": [],
   "source": [
    "def moyenne(liste):\n",
    "    return sum(liste) / len(liste)"
   ]
  },
  {
   "cell_type": "code",
   "execution_count": 19,
   "id": "49ab80ad",
   "metadata": {},
   "outputs": [
    {
     "name": "stdout",
     "output_type": "stream",
     "text": [
      "13.5\n"
     ]
    }
   ],
   "source": [
    "notes = (15, 7, 19, 13)\n",
    "\n",
    "print(moyenne(notes))"
   ]
  },
  {
   "cell_type": "markdown",
   "id": "52ce1c87",
   "metadata": {},
   "source": [
    "## 71- Savoir si un nombre est pair ou impair"
   ]
  },
  {
   "cell_type": "code",
   "execution_count": 34,
   "id": "bf59f89a",
   "metadata": {},
   "outputs": [],
   "source": [
    "def nombre(a):\n",
    "    if a % 2 == 0 :\n",
    "        print(\"pair\")\n",
    "    else :\n",
    "        print(\"impair\")"
   ]
  },
  {
   "cell_type": "code",
   "execution_count": 38,
   "id": "f549fc64",
   "metadata": {},
   "outputs": [
    {
     "name": "stdout",
     "output_type": "stream",
     "text": [
      "impair\n",
      "pair\n"
     ]
    }
   ],
   "source": [
    "nombre(35)\n",
    "nombre(2)"
   ]
  },
  {
   "cell_type": "markdown",
   "id": "85efda97",
   "metadata": {},
   "source": [
    "### Avec la fonction `map()`"
   ]
  },
  {
   "cell_type": "code",
   "execution_count": 40,
   "id": "3490b3c9",
   "metadata": {},
   "outputs": [
    {
     "name": "stdout",
     "output_type": "stream",
     "text": [
      "pair\n",
      "pair\n",
      "impair\n",
      "impair\n",
      "impair\n"
     ]
    }
   ],
   "source": [
    "liste = [32, 76, 99, 1, 33]\n",
    "\n",
    "test = list(map(nombre, liste))"
   ]
  },
  {
   "cell_type": "markdown",
   "id": "cf4d48f8",
   "metadata": {},
   "source": [
    "## 72- Savoir si un nombre est positif ou négatif"
   ]
  },
  {
   "cell_type": "code",
   "execution_count": 59,
   "id": "e37621d2",
   "metadata": {},
   "outputs": [],
   "source": [
    "def nombre(a):\n",
    "    if a > 0 :\n",
    "        print(\"Positif\")\n",
    "    elif a == 0 :\n",
    "        print(\"0\")\n",
    "    else : \n",
    "        print(\"Négatif\")"
   ]
  },
  {
   "cell_type": "code",
   "execution_count": 62,
   "id": "b315f438",
   "metadata": {},
   "outputs": [
    {
     "name": "stdout",
     "output_type": "stream",
     "text": [
      "Négatif\n"
     ]
    }
   ],
   "source": [
    "nombre(-17)"
   ]
  },
  {
   "cell_type": "markdown",
   "id": "e5fb2bbd",
   "metadata": {},
   "source": [
    "## 73- Calculer l'indice de masse corporelle (IMC)"
   ]
  },
  {
   "cell_type": "code",
   "execution_count": 67,
   "id": "a4e16b86",
   "metadata": {},
   "outputs": [
    {
     "name": "stdout",
     "output_type": "stream",
     "text": [
      "Taille :1.80\n",
      "Poids : 80\n",
      "Normal.\n"
     ]
    }
   ],
   "source": [
    "taille = float(input(\"Taille :\"))\n",
    "poids = int(input(\"Poids : \"))\n",
    "\n",
    "indice = poids / (taille * taille)\n",
    "\n",
    "if indice <= 18 :\n",
    "    print(\"Insuffisance pondérale.\")\n",
    "elif indice > 18 and indice <= 25 :\n",
    "    print(\"Normal.\")\n",
    "elif indice > 25 :\n",
    "    print(\"Surpoids.\")\n",
    "else :\n",
    "    print(\"Obésité.\")"
   ]
  },
  {
   "cell_type": "markdown",
   "id": "919eac7d",
   "metadata": {},
   "source": [
    "### Avec une fonction "
   ]
  },
  {
   "cell_type": "code",
   "execution_count": 68,
   "id": "aff35a96",
   "metadata": {},
   "outputs": [],
   "source": [
    "def IMC(taille, poids):\n",
    "    indice = poids / (taille * taille)\n",
    "    if indice <= 18 :\n",
    "        print(\"Insuffisance pondérale.\")\n",
    "    elif indice > 18 and indice <= 25 :\n",
    "        print(\"Normal.\")\n",
    "    elif indice > 25 :\n",
    "        print(\"Surpoids.\")\n",
    "    else :\n",
    "        print(\"Obésité.\")"
   ]
  },
  {
   "cell_type": "code",
   "execution_count": 73,
   "id": "e2352634",
   "metadata": {},
   "outputs": [
    {
     "name": "stdout",
     "output_type": "stream",
     "text": [
      "Normal.\n"
     ]
    }
   ],
   "source": [
    "IMC(1.80, 80)"
   ]
  },
  {
   "cell_type": "markdown",
   "id": "b2a5463a",
   "metadata": {},
   "source": [
    "## 74- Lister les nombres de 1 à 100"
   ]
  },
  {
   "cell_type": "code",
   "execution_count": 74,
   "id": "30fb6e82",
   "metadata": {},
   "outputs": [
    {
     "name": "stdout",
     "output_type": "stream",
     "text": [
      "[1, 2, 3, 4, 5, 6, 7, 8, 9, 10, 11, 12, 13, 14, 15, 16, 17, 18, 19, 20, 21, 22, 23, 24, 25, 26, 27, 28, 29, 30, 31, 32, 33, 34, 35, 36, 37, 38, 39, 40, 41, 42, 43, 44, 45, 46, 47, 48, 49, 50, 51, 52, 53, 54, 55, 56, 57, 58, 59, 60, 61, 62, 63, 64, 65, 66, 67, 68, 69, 70, 71, 72, 73, 74, 75, 76, 77, 78, 79, 80, 81, 82, 83, 84, 85, 86, 87, 88, 89, 90, 91, 92, 93, 94, 95, 96, 97, 98, 99, 100]\n"
     ]
    }
   ],
   "source": [
    "liste = [x for x in range(1, 101)]\n",
    "print(liste)"
   ]
  },
  {
   "cell_type": "markdown",
   "id": "d510d165",
   "metadata": {},
   "source": [
    "## 75- Lister les nombres pairs de 1 à 100"
   ]
  },
  {
   "cell_type": "code",
   "execution_count": 76,
   "id": "5dfbbc13",
   "metadata": {},
   "outputs": [
    {
     "name": "stdout",
     "output_type": "stream",
     "text": [
      "[2, 4, 6, 8, 10, 12, 14, 16, 18, 20, 22, 24, 26, 28, 30, 32, 34, 36, 38, 40, 42, 44, 46, 48, 50, 52, 54, 56, 58, 60, 62, 64, 66, 68, 70, 72, 74, 76, 78, 80, 82, 84, 86, 88, 90, 92, 94, 96, 98, 100]\n"
     ]
    }
   ],
   "source": [
    "liste = [x for x in range(1, 101) if x % 2 == 0]\n",
    "print(liste)"
   ]
  },
  {
   "cell_type": "markdown",
   "id": "376fbd99",
   "metadata": {},
   "source": [
    "## 76- Lister les nombres impairs de 1 à 100"
   ]
  },
  {
   "cell_type": "code",
   "execution_count": 77,
   "id": "e45b4f09",
   "metadata": {},
   "outputs": [
    {
     "name": "stdout",
     "output_type": "stream",
     "text": [
      "[1, 3, 5, 7, 9, 11, 13, 15, 17, 19, 21, 23, 25, 27, 29, 31, 33, 35, 37, 39, 41, 43, 45, 47, 49, 51, 53, 55, 57, 59, 61, 63, 65, 67, 69, 71, 73, 75, 77, 79, 81, 83, 85, 87, 89, 91, 93, 95, 97, 99, 101, 103, 105, 107, 109, 111, 113, 115, 117, 119]\n"
     ]
    }
   ],
   "source": [
    "liste = [x for x in range(1, 121) if x % 2 != 0]\n",
    "print(liste)"
   ]
  },
  {
   "cell_type": "markdown",
   "id": "472aadab",
   "metadata": {},
   "source": [
    "## 77- Trouver les nombres entre 1 et 100 divisibles par 3 et 5"
   ]
  },
  {
   "cell_type": "code",
   "execution_count": 80,
   "id": "c351e76a",
   "metadata": {},
   "outputs": [
    {
     "name": "stdout",
     "output_type": "stream",
     "text": [
      "[15, 30, 45, 60, 75, 90]\n"
     ]
    }
   ],
   "source": [
    "liste = [x for x in range(1, 101) if x % 3 == 0 and x % 5 == 0]\n",
    "print(liste)"
   ]
  },
  {
   "cell_type": "markdown",
   "id": "ebbbc2a4",
   "metadata": {},
   "source": [
    "## 78- Trouver un chiffre souhaité de 0 à 99"
   ]
  },
  {
   "cell_type": "code",
   "execution_count": 101,
   "id": "2068e7ff",
   "metadata": {},
   "outputs": [],
   "source": [
    "def trouver_chiffre():\n",
    "    chiffre = input(\"Entrez un chiffre en 0 et 9 : \")\n",
    "    liste = [str(x) for x in range(0, 100)]\n",
    "    liste_nombres = []\n",
    "    for x in liste:\n",
    "        if chiffre in x :\n",
    "            liste_nombres.append(int(x))\n",
    "    print(\"Le chiffre \", chiffre, \"apparaît :\", len(liste_nombres), \"fois.\")\n",
    "    return liste_nombres"
   ]
  },
  {
   "cell_type": "code",
   "execution_count": 107,
   "id": "bc60ae87",
   "metadata": {},
   "outputs": [
    {
     "name": "stdout",
     "output_type": "stream",
     "text": [
      "Entrez un chiffre en 0 et 9 : 9\n",
      "Le chiffre  9 apparaît : 19 fois.\n"
     ]
    },
    {
     "data": {
      "text/plain": [
       "[9, 19, 29, 39, 49, 59, 69, 79, 89, 90, 91, 92, 93, 94, 95, 96, 97, 98, 99]"
      ]
     },
     "execution_count": 107,
     "metadata": {},
     "output_type": "execute_result"
    }
   ],
   "source": [
    "trouver_chiffre()"
   ]
  },
  {
   "cell_type": "markdown",
   "id": "fabd27b1",
   "metadata": {},
   "source": [
    "## 79- Lister les nombres de 1 au nombre saisi en input"
   ]
  },
  {
   "cell_type": "code",
   "execution_count": 111,
   "id": "137fa2bd",
   "metadata": {},
   "outputs": [
    {
     "name": "stdout",
     "output_type": "stream",
     "text": [
      "Entrez un nombre : 56\n",
      "[1, 2, 3, 4, 5, 6, 7, 8, 9, 10, 11, 12, 13, 14, 15, 16, 17, 18, 19, 20, 21, 22, 23, 24, 25, 26, 27, 28, 29, 30, 31, 32, 33, 34, 35, 36, 37, 38, 39, 40, 41, 42, 43, 44, 45, 46, 47, 48, 49, 50, 51, 52, 53, 54, 55, 56]\n"
     ]
    }
   ],
   "source": [
    "nombre = int(input(\"Entrez un nombre : \"))\n",
    "\n",
    "liste = [x for x in range(1, nombre + 1)]\n",
    "print(liste)"
   ]
  },
  {
   "cell_type": "code",
   "execution_count": null,
   "id": "046ef6a8",
   "metadata": {},
   "outputs": [],
   "source": []
  }
 ],
 "metadata": {
  "kernelspec": {
   "display_name": "Python 3 (ipykernel)",
   "language": "python",
   "name": "python3"
  },
  "language_info": {
   "codemirror_mode": {
    "name": "ipython",
    "version": 3
   },
   "file_extension": ".py",
   "mimetype": "text/x-python",
   "name": "python",
   "nbconvert_exporter": "python",
   "pygments_lexer": "ipython3",
   "version": "3.8.3"
  }
 },
 "nbformat": 4,
 "nbformat_minor": 5
}
