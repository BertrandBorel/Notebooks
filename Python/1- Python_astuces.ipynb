{
 "cells": [
  {
   "cell_type": "markdown",
   "id": "7119d016",
   "metadata": {},
   "source": [
    "# <center> Trucs et astuces en Python </center>\n",
    "\n",
    "**Source :** revue Coding, n°16, p.94-105\n",
    "    \n",
    "## 1- Générer un son :\n",
    "- https://pythonin1minute.com/how-to-beep-in-python/"
   ]
  },
  {
   "cell_type": "code",
   "execution_count": null,
   "id": "0670d0c9",
   "metadata": {},
   "outputs": [],
   "source": [
    "# dans un terminal tappez :\n",
    "print('\\a')"
   ]
  },
  {
   "cell_type": "code",
   "execution_count": 6,
   "id": "08748aa5",
   "metadata": {},
   "outputs": [],
   "source": [
    "# winsound\n",
    "import winsound\n",
    "winsound.Beep(440, 500)"
   ]
  },
  {
   "cell_type": "code",
   "execution_count": 10,
   "id": "0202f24f",
   "metadata": {},
   "outputs": [],
   "source": [
    "# autre exemple\n",
    "import winsound\n",
    "winsound.PlaySound(\"SystemExclamation\", winsound.SND_ALIAS)"
   ]
  },
  {
   "cell_type": "code",
   "execution_count": 11,
   "id": "2cc75041",
   "metadata": {},
   "outputs": [],
   "source": [
    "# Personnaliser un son\n",
    "import winsound\n",
    "winsound.PlaySound(\"mon_son.wav\", winsound.SND_FILENAME)"
   ]
  },
  {
   "cell_type": "markdown",
   "id": "699748de",
   "metadata": {},
   "source": [
    "## 2- Fusion de dictionnaires (avec **)"
   ]
  },
  {
   "cell_type": "code",
   "execution_count": 14,
   "id": "13d68c8c",
   "metadata": {},
   "outputs": [
    {
     "name": "stdout",
     "output_type": "stream",
     "text": [
      "{1: 'rouge', 2: 'bleu', 3: 'orange', 4: 'violet', 5: 'marron', 6: 'rose'}\n"
     ]
    }
   ],
   "source": [
    "dico_1 = {1:\"rouge\", 2:\"bleu\", 3:\"orange\"}\n",
    "dico_2 = {4:\"violet\", 5:\"marron\", 6:\"rose\"}\n",
    "\n",
    "dico_3 = {**dico_1, **dico_2}\n",
    "print(dico_3)"
   ]
  },
  {
   "cell_type": "markdown",
   "id": "28b38ba2",
   "metadata": {},
   "source": [
    "## 3- Gestion des chemins en Python\n",
    "\n",
    "L'ajout de **`r`** devant les guillements de chaîne garantit que les chemins de fichiers ne se confondent pas entre Python et les paramètres systèmes.\n",
    "\n",
    "## 4- Lisibilité des grands nombres (millions, milliards)\n",
    "\n",
    "En séparant les zéros avec **`_`**."
   ]
  },
  {
   "cell_type": "code",
   "execution_count": 15,
   "id": "307e94cf",
   "metadata": {},
   "outputs": [
    {
     "name": "stdout",
     "output_type": "stream",
     "text": [
      "10000000\n"
     ]
    }
   ],
   "source": [
    "# exemple \n",
    "prix = 10_000_000\n",
    "print(prix)"
   ]
  },
  {
   "cell_type": "markdown",
   "id": "7d5e45d4",
   "metadata": {},
   "source": [
    "## 5- Inverser une chaîne de caractère"
   ]
  },
  {
   "cell_type": "code",
   "execution_count": 21,
   "id": "d6c0b38c",
   "metadata": {},
   "outputs": [
    {
     "name": "stdout",
     "output_type": "stream",
     "text": [
      "ruetanidro\n"
     ]
    }
   ],
   "source": [
    "# exemple \n",
    "chaine = \"ordinateur\"\n",
    "print(chaine[::-1])"
   ]
  },
  {
   "cell_type": "markdown",
   "id": "3b6bd782",
   "metadata": {},
   "source": [
    "## 6- Convertir une liste en dictionnaire"
   ]
  },
  {
   "cell_type": "code",
   "execution_count": 22,
   "id": "e7b3ded0",
   "metadata": {},
   "outputs": [
    {
     "name": "stdout",
     "output_type": "stream",
     "text": [
      "{'Pierre': 2000, 'Paul': 1500, 'Jacques': 1200}\n"
     ]
    }
   ],
   "source": [
    "noms = [\"Pierre\", \"Paul\", \"Jacques\"]\n",
    "salaires = [2000, 1500, 1200]\n",
    "\n",
    "dico = dict(zip(noms, salaires))\n",
    "print(dico)"
   ]
  },
  {
   "cell_type": "markdown",
   "id": "3cea581c",
   "metadata": {},
   "source": [
    "## 7- Saisies multiples\n",
    "\n",
    "- https://www.geeksforgeeks.org/taking-multiple-inputs-from-user-in-python/"
   ]
  },
  {
   "cell_type": "code",
   "execution_count": 28,
   "id": "88c9eba5",
   "metadata": {},
   "outputs": [
    {
     "name": "stdout",
     "output_type": "stream",
     "text": [
      "Quel est votre nom et votre âge ?Bob 19\n",
      "Bob 19\n"
     ]
    }
   ],
   "source": [
    "# il faut entre les deux valeurs à la suite, séparées par un espace\n",
    "a, b = input(\"Quel est votre nom et votre âge ?\").split()\n",
    "print(a, b)"
   ]
  },
  {
   "cell_type": "code",
   "execution_count": 29,
   "id": "05147a9a",
   "metadata": {},
   "outputs": [
    {
     "name": "stdout",
     "output_type": "stream",
     "text": [
      "Enter two values: 3 6\n",
      "First number is 3 and second number is 6\n",
      "\n"
     ]
    }
   ],
   "source": [
    "a, b = input(\"Enter two values: \").split()\n",
    "print(\"First number is {} and second number is {}\".format(a, b))\n",
    "print()"
   ]
  },
  {
   "cell_type": "code",
   "execution_count": 27,
   "id": "29228305",
   "metadata": {},
   "outputs": [
    {
     "name": "stdout",
     "output_type": "stream",
     "text": [
      "Enter two values: 3 8\n",
      "Number of boys:  3\n",
      "Number of girls:  8\n",
      "\n"
     ]
    }
   ],
   "source": [
    "x, y = input(\"Enter two values: \").split()\n",
    "print(\"Number of boys: \", x)\n",
    "print(\"Number of girls: \", y)\n",
    "print()"
   ]
  },
  {
   "cell_type": "markdown",
   "id": "3df5843b",
   "metadata": {},
   "source": [
    "## 8- Eteindre le PC"
   ]
  },
  {
   "cell_type": "code",
   "execution_count": 30,
   "id": "29a004be",
   "metadata": {},
   "outputs": [],
   "source": [
    "# import os\n",
    "# os.system(\"window -s\")"
   ]
  },
  {
   "cell_type": "markdown",
   "id": "e7a411f6",
   "metadata": {},
   "source": [
    "## 9- Arguments multiples\n",
    "\n",
    "- https://www.learnpython.org/en/Multiple_Function_Arguments\n",
    "\n",
    "Si on ne sait pas à l'avance combien d'arguments un fonction doit recueillir, on peut accepter un nombre illimité d'arguments :"
   ]
  },
  {
   "cell_type": "code",
   "execution_count": 45,
   "id": "a340b805",
   "metadata": {},
   "outputs": [],
   "source": [
    "# Exemple :\n",
    "def nombre(*num):\n",
    "    print(num)"
   ]
  },
  {
   "cell_type": "code",
   "execution_count": 47,
   "id": "2e03d196",
   "metadata": {},
   "outputs": [
    {
     "name": "stdout",
     "output_type": "stream",
     "text": [
      "(1, 2, 3, 4, 5)\n"
     ]
    }
   ],
   "source": [
    "nombre(1, 2, 3, 4, 5)"
   ]
  },
  {
   "cell_type": "code",
   "execution_count": 48,
   "id": "17468df1",
   "metadata": {},
   "outputs": [],
   "source": [
    "# Autre exemple :\n",
    "def foo(first, second, third, *therest):\n",
    "    print(\"First: %s\" % first)\n",
    "    print(\"Second: %s\" % second)\n",
    "    print(\"Third: %s\" % third)\n",
    "    print(\"And all the rest... %s\" % list(therest))"
   ]
  },
  {
   "cell_type": "code",
   "execution_count": 49,
   "id": "7258db7e",
   "metadata": {},
   "outputs": [
    {
     "name": "stdout",
     "output_type": "stream",
     "text": [
      "First: 1\n",
      "Second: 2\n",
      "Third: 3\n",
      "And all the rest... [4, 5]\n"
     ]
    }
   ],
   "source": [
    "foo(1, 2, 3, 4, 5)"
   ]
  },
  {
   "cell_type": "markdown",
   "id": "5ad9944d",
   "metadata": {},
   "source": [
    "## 10- Lire les mots de passe en tant qu'entrée utilisateur\n",
    "\n",
    "Masquer le mot de passe saisi par **`*`**."
   ]
  },
  {
   "cell_type": "code",
   "execution_count": 52,
   "id": "743193f3",
   "metadata": {},
   "outputs": [
    {
     "name": "stdout",
     "output_type": "stream",
     "text": [
      "Entrez le nom d'utilisateur : test\n",
      "Entrez le mot de passe : ········\n"
     ]
    }
   ],
   "source": [
    "# pip install getpass4\n",
    "from getpass import getpass\n",
    "usern = input(\"Entrez le nom d'utilisateur : \")\n",
    "passw = getpass('Entrez le mot de passe : ')"
   ]
  },
  {
   "cell_type": "markdown",
   "id": "c9f64689",
   "metadata": {},
   "source": [
    "## 11- Calculer le temps d'exécution d'un programme\n",
    "\n",
    "- https://www.programiz.com/python-programming/time"
   ]
  },
  {
   "cell_type": "code",
   "execution_count": 66,
   "id": "fe5d4013",
   "metadata": {},
   "outputs": [
    {
     "name": "stdout",
     "output_type": "stream",
     "text": [
      "0.10440421104431152\n"
     ]
    }
   ],
   "source": [
    "import time\n",
    "\n",
    "# programme \n",
    "def fonction_test():\n",
    "    compteur = 0\n",
    "    while compteur < 1000000 :\n",
    "        compteur += 1\n",
    "\n",
    "startTime = time.time()\n",
    "\n",
    "# appel de la fonction\n",
    "fonction_test()\n",
    "\n",
    "endTime = time.time()\n",
    "totalTime = endTime - startTime\n",
    "\n",
    "print(totalTime)\n"
   ]
  },
  {
   "cell_type": "markdown",
   "id": "23b7a6e6",
   "metadata": {},
   "source": [
    "## 12- Supprimer des doublons d'une liste"
   ]
  },
  {
   "cell_type": "code",
   "execution_count": 75,
   "id": "6050af49",
   "metadata": {},
   "outputs": [
    {
     "name": "stdout",
     "output_type": "stream",
     "text": [
      "[10, 20, 30, 40, 50]\n"
     ]
    }
   ],
   "source": [
    "liste = [10, 10, 10, 20, 30, 40, 50, 50]\n",
    "\n",
    "# supprimer les doublons\n",
    "liste = list(set(liste))\n",
    "\n",
    "# trier (ordre chronologique)\n",
    "liste.sort()\n",
    "\n",
    "print(liste)"
   ]
  },
  {
   "cell_type": "markdown",
   "id": "dd68d010",
   "metadata": {},
   "source": [
    "## 13- Ajouter des éléments à un tuple"
   ]
  },
  {
   "cell_type": "code",
   "execution_count": 77,
   "id": "df9ee40e",
   "metadata": {},
   "outputs": [
    {
     "name": "stdout",
     "output_type": "stream",
     "text": [
      "(1, 2, 3, 4, 5)\n"
     ]
    }
   ],
   "source": [
    "my_tuple = (1, 2, 3)\n",
    "\n",
    "# on transforme le tuple en liste\n",
    "my_list = list(my_tuple)\n",
    "\n",
    "# on ajoute des éléments\n",
    "my_list.append(4)\n",
    "my_list.append(5)\n",
    "\n",
    "# on reconvertit en tuple\n",
    "my_tuple = tuple(my_list)\n",
    "print(my_tuple)\n"
   ]
  },
  {
   "cell_type": "markdown",
   "id": "c450d29b",
   "metadata": {},
   "source": [
    "## 14- Vérification si un mot est un palindrome"
   ]
  },
  {
   "cell_type": "code",
   "execution_count": 81,
   "id": "bb6c531f",
   "metadata": {},
   "outputs": [],
   "source": [
    "def palindrome(mot):\n",
    "    palindrome = bool(mot.find(mot[::-1]) + 1)\n",
    "    return palindrome"
   ]
  },
  {
   "cell_type": "code",
   "execution_count": 82,
   "id": "33e2d035",
   "metadata": {},
   "outputs": [
    {
     "data": {
      "text/plain": [
       "True"
      ]
     },
     "execution_count": 82,
     "metadata": {},
     "output_type": "execute_result"
    }
   ],
   "source": [
    "palindrome(\"kayak\")"
   ]
  },
  {
   "cell_type": "code",
   "execution_count": 84,
   "id": "2729988b",
   "metadata": {},
   "outputs": [
    {
     "data": {
      "text/plain": [
       "False"
      ]
     },
     "execution_count": 84,
     "metadata": {},
     "output_type": "execute_result"
    }
   ],
   "source": [
    "palindrome(\"yoyo\")"
   ]
  },
  {
   "cell_type": "markdown",
   "id": "2bed6b1c",
   "metadata": {},
   "source": [
    "## 15- Compréhension de liste"
   ]
  },
  {
   "cell_type": "code",
   "execution_count": 85,
   "id": "f46b7f19",
   "metadata": {},
   "outputs": [
    {
     "name": "stdout",
     "output_type": "stream",
     "text": [
      "[1, 4, 9, 16, 25, 36, 49, 64, 81]\n"
     ]
    }
   ],
   "source": [
    "# Exemple avec une boucle for\n",
    "liste = []\n",
    "\n",
    "for x in range(1, 10):\n",
    "    liste.append(x**2)\n",
    "\n",
    "print(liste)"
   ]
  },
  {
   "cell_type": "code",
   "execution_count": 86,
   "id": "c62b919e",
   "metadata": {},
   "outputs": [
    {
     "name": "stdout",
     "output_type": "stream",
     "text": [
      "[1, 4, 9, 16, 25, 36, 49, 64, 81]\n"
     ]
    }
   ],
   "source": [
    "# Exemple avec une compréhension de liste\n",
    "liste = [x**2 for x in range(1, 10)]\n",
    "print(liste)"
   ]
  },
  {
   "cell_type": "markdown",
   "id": "98d1d031",
   "metadata": {},
   "source": [
    "## 16- Compréhension de dictionnaire"
   ]
  },
  {
   "cell_type": "code",
   "execution_count": 94,
   "id": "27126082",
   "metadata": {},
   "outputs": [
    {
     "name": "stdout",
     "output_type": "stream",
     "text": [
      "{1: 1, 2: 4, 3: 9}\n"
     ]
    }
   ],
   "source": [
    "dico = {x:x ** 2 for x in range(1, 4)}\n",
    "print(dico)"
   ]
  },
  {
   "cell_type": "markdown",
   "id": "d94e764e",
   "metadata": {},
   "source": [
    "## 17- Opérateur de chaïne"
   ]
  },
  {
   "cell_type": "code",
   "execution_count": 95,
   "id": "23c82f8a",
   "metadata": {},
   "outputs": [
    {
     "name": "stdout",
     "output_type": "stream",
     "text": [
      "True\n"
     ]
    }
   ],
   "source": [
    "nombre = 50\n",
    "resultat = 25 < nombre < 58\n",
    "print(resultat)"
   ]
  },
  {
   "cell_type": "markdown",
   "id": "d85fdd47",
   "metadata": {},
   "source": [
    "## 18- Scission d'une chaîne de caractères avec **`split()`**"
   ]
  },
  {
   "cell_type": "code",
   "execution_count": 96,
   "id": "777c6158",
   "metadata": {},
   "outputs": [
    {
     "name": "stdout",
     "output_type": "stream",
     "text": [
      "['Ceci', 'est', 'un', 'exemple']\n"
     ]
    }
   ],
   "source": [
    "chaine = \"Ceci est un exemple\"\n",
    "print(chaine.split())"
   ]
  },
  {
   "cell_type": "markdown",
   "id": "dffe70a6",
   "metadata": {},
   "source": [
    "## 19- Ralentir du code avec **`time.sleep()`**\n",
    "Permet d'afficher un résultat par exemple."
   ]
  },
  {
   "cell_type": "code",
   "execution_count": 98,
   "id": "14716e9d",
   "metadata": {},
   "outputs": [
    {
     "name": "stdout",
     "output_type": "stream",
     "text": [
      "Temps de latence de 2 secondes...\n",
      "Terminé !\n"
     ]
    }
   ],
   "source": [
    "import time\n",
    "\n",
    "print(\"Temps de latence de 2 secondes...\")\n",
    "# paramètre : temps en secondes\n",
    "time.sleep(2)\n",
    "print(\"Terminé !\")"
   ]
  },
  {
   "cell_type": "markdown",
   "id": "86fe7bbe",
   "metadata": {},
   "source": [
    "## 20- Compter le nombre d'occurences de mots dans une liste\n",
    "- https://docs.python.org/3/library/collections.html#collections.Counter"
   ]
  },
  {
   "cell_type": "code",
   "execution_count": 113,
   "id": "5b4113f4",
   "metadata": {},
   "outputs": [
    {
     "data": {
      "text/plain": [
       "Counter({'chat': 2, 'chien': 1, 'oiseau': 1})"
      ]
     },
     "execution_count": 113,
     "metadata": {},
     "output_type": "execute_result"
    }
   ],
   "source": [
    "from collections import Counter\n",
    "\n",
    "liste = ['chat', 'chien', 'oiseau', 'chat']\n",
    "Counter(liste)"
   ]
  },
  {
   "cell_type": "markdown",
   "id": "88cf19e8",
   "metadata": {},
   "source": [
    "## 21- Créer une boucle `for` avec `else`"
   ]
  },
  {
   "cell_type": "code",
   "execution_count": 115,
   "id": "ed83d6d5",
   "metadata": {},
   "outputs": [
    {
     "name": "stdout",
     "output_type": "stream",
     "text": [
      "1\n",
      "2\n",
      "3\n",
      "Boucle terminée\n"
     ]
    }
   ],
   "source": [
    "# Le else est activé une fois la boucle achevée\n",
    "\n",
    "for x in range(1, 4):\n",
    "    print(x)\n",
    "else :\n",
    "    print(\"Boucle terminée\")"
   ]
  },
  {
   "cell_type": "markdown",
   "id": "f8a58c91",
   "metadata": {},
   "source": [
    "## 22- Fonction **lambda**\n",
    "\n",
    "Lambda est une mini fonction d'une ligne définie par l'utilisateur. "
   ]
  },
  {
   "cell_type": "code",
   "execution_count": 116,
   "id": "2e964711",
   "metadata": {},
   "outputs": [
    {
     "name": "stdout",
     "output_type": "stream",
     "text": [
      "25\n"
     ]
    }
   ],
   "source": [
    "# carré de x\n",
    "nombre = lambda x : x**2\n",
    "print(nombre(5))"
   ]
  },
  {
   "cell_type": "code",
   "execution_count": 117,
   "id": "b410a7f5",
   "metadata": {},
   "outputs": [
    {
     "name": "stdout",
     "output_type": "stream",
     "text": [
      "4\n"
     ]
    }
   ],
   "source": [
    "# addition de x + x\n",
    "addition = lambda x : x + x\n",
    "print(addition(2))"
   ]
  },
  {
   "cell_type": "markdown",
   "id": "530c8564",
   "metadata": {},
   "source": [
    "## 23- Renvoyer plusieurs résultats d'une fonction"
   ]
  },
  {
   "cell_type": "code",
   "execution_count": 118,
   "id": "c11f259b",
   "metadata": {},
   "outputs": [
    {
     "name": "stdout",
     "output_type": "stream",
     "text": [
      "(1, 2, 3)\n"
     ]
    }
   ],
   "source": [
    "def valeurs():\n",
    "    return 1, 2, 3\n",
    "\n",
    "print(valeurs())"
   ]
  },
  {
   "cell_type": "markdown",
   "id": "69e24732",
   "metadata": {},
   "source": [
    "## 24- Faire une copie profonde\n",
    "- https://fr.quora.com/Quest-ce-quune-copie-profonde-et-une-copie-superficielle-en-python"
   ]
  },
  {
   "cell_type": "code",
   "execution_count": 119,
   "id": "fbec0bcd",
   "metadata": {},
   "outputs": [],
   "source": [
    "import copy\n",
    "\n",
    "liste = ['chat', 'chien', 'oiseau', 'dauphin']\n",
    "\n",
    "liste_copie = copy.deepcopy(liste)"
   ]
  },
  {
   "cell_type": "markdown",
   "id": "6ff4c65a",
   "metadata": {},
   "source": [
    "## 25- Concaténation de chaînes avec **`join()`**"
   ]
  },
  {
   "cell_type": "code",
   "execution_count": 121,
   "id": "be610713",
   "metadata": {},
   "outputs": [
    {
     "name": "stdout",
     "output_type": "stream",
     "text": [
      "test\n"
     ]
    }
   ],
   "source": [
    "lettres = ['t', 'e', 's', 't']\n",
    "\n",
    "mot = \"\".join(lettres)\n",
    "print(mot)"
   ]
  },
  {
   "cell_type": "markdown",
   "id": "de3e6fe5",
   "metadata": {},
   "source": [
    "## 26- Inversion d'une chaîne "
   ]
  },
  {
   "cell_type": "code",
   "execution_count": 122,
   "id": "5b9c3853",
   "metadata": {},
   "outputs": [
    {
     "name": "stdout",
     "output_type": "stream",
     "text": [
      "bonjour\n"
     ]
    }
   ],
   "source": [
    "chaine = \"ruojnob\"\n",
    "\n",
    "print(chaine[::-1])"
   ]
  },
  {
   "cell_type": "code",
   "execution_count": null,
   "id": "0c79ca9d",
   "metadata": {},
   "outputs": [],
   "source": [
    "    "
   ]
  }
 ],
 "metadata": {
  "kernelspec": {
   "display_name": "Python 3 (ipykernel)",
   "language": "python",
   "name": "python3"
  },
  "language_info": {
   "codemirror_mode": {
    "name": "ipython",
    "version": 3
   },
   "file_extension": ".py",
   "mimetype": "text/x-python",
   "name": "python",
   "nbconvert_exporter": "python",
   "pygments_lexer": "ipython3",
   "version": "3.8.3"
  }
 },
 "nbformat": 4,
 "nbformat_minor": 5
}
