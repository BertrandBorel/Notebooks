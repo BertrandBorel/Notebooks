{
 "cells": [
  {
   "cell_type": "markdown",
   "id": "0de2e449",
   "metadata": {},
   "source": [
    "# <center> Trucs et astuces en Python </center>\n",
    "\n",
    "**Source :** revue Coding, n°16, p.94-105\n",
    "    \n",
    "## 1- Générer un son :\n",
    "- https://pythonin1minute.com/how-to-beep-in-python/"
   ]
  },
  {
   "cell_type": "code",
   "execution_count": null,
   "id": "11843633",
   "metadata": {},
   "outputs": [],
   "source": [
    "# dans un terminal tappez :\n",
    "print('\\a')"
   ]
  },
  {
   "cell_type": "code",
   "execution_count": 6,
   "id": "f64df458",
   "metadata": {},
   "outputs": [],
   "source": [
    "# winsound\n",
    "import winsound\n",
    "winsound.Beep(440, 500)"
   ]
  },
  {
   "cell_type": "code",
   "execution_count": 10,
   "id": "c12d6b34",
   "metadata": {},
   "outputs": [],
   "source": [
    "# autre exemple\n",
    "import winsound\n",
    "winsound.PlaySound(\"SystemExclamation\", winsound.SND_ALIAS)"
   ]
  },
  {
   "cell_type": "code",
   "execution_count": 11,
   "id": "e679f1d8",
   "metadata": {},
   "outputs": [],
   "source": [
    "# Personnaliser un son\n",
    "import winsound\n",
    "winsound.PlaySound(\"mon_son.wav\", winsound.SND_FILENAME)"
   ]
  },
  {
   "cell_type": "markdown",
   "id": "57f34725",
   "metadata": {},
   "source": [
    "## 2- Fusion de dictionnaires (avec **)"
   ]
  },
  {
   "cell_type": "code",
   "execution_count": 14,
   "id": "d3c1d2eb",
   "metadata": {},
   "outputs": [
    {
     "name": "stdout",
     "output_type": "stream",
     "text": [
      "{1: 'rouge', 2: 'bleu', 3: 'orange', 4: 'violet', 5: 'marron', 6: 'rose'}\n"
     ]
    }
   ],
   "source": [
    "dico_1 = {1:\"rouge\", 2:\"bleu\", 3:\"orange\"}\n",
    "dico_2 = {4:\"violet\", 5:\"marron\", 6:\"rose\"}\n",
    "\n",
    "dico_3 = {**dico_1, **dico_2}\n",
    "print(dico_3)"
   ]
  },
  {
   "cell_type": "markdown",
   "id": "d8295d72",
   "metadata": {},
   "source": [
    "## 3- Gestion des chemins en Python\n",
    "\n",
    "L'ajout de **`r`** devant les guillements de chaîne garantit que les chemins de fichiers ne se confondent pas entre Python et les paramètres systèmes.\n",
    "\n",
    "## 4- Lisibilité des grands nombres (millions, milliards)\n",
    "\n",
    "En séparant les zéros avec **`_`**."
   ]
  },
  {
   "cell_type": "code",
   "execution_count": 15,
   "id": "f9046859",
   "metadata": {},
   "outputs": [
    {
     "name": "stdout",
     "output_type": "stream",
     "text": [
      "10000000\n"
     ]
    }
   ],
   "source": [
    "# exemple \n",
    "prix = 10_000_000\n",
    "print(prix)"
   ]
  },
  {
   "cell_type": "markdown",
   "id": "4d901e5f",
   "metadata": {},
   "source": [
    "## 5- Inverser une chaîne de caractère"
   ]
  },
  {
   "cell_type": "code",
   "execution_count": 21,
   "id": "28c2c317",
   "metadata": {},
   "outputs": [
    {
     "name": "stdout",
     "output_type": "stream",
     "text": [
      "ruetanidro\n"
     ]
    }
   ],
   "source": [
    "# exemple \n",
    "chaine = \"ordinateur\"\n",
    "print(chaine[::-1])"
   ]
  },
  {
   "cell_type": "markdown",
   "id": "10afc1bc",
   "metadata": {},
   "source": [
    "## 6- Convertir une liste en dictionnaire"
   ]
  },
  {
   "cell_type": "code",
   "execution_count": 22,
   "id": "ed4e4a74",
   "metadata": {},
   "outputs": [
    {
     "name": "stdout",
     "output_type": "stream",
     "text": [
      "{'Pierre': 2000, 'Paul': 1500, 'Jacques': 1200}\n"
     ]
    }
   ],
   "source": [
    "noms = [\"Pierre\", \"Paul\", \"Jacques\"]\n",
    "salaires = [2000, 1500, 1200]\n",
    "\n",
    "dico = dict(zip(noms, salaires))\n",
    "print(dico)"
   ]
  },
  {
   "cell_type": "markdown",
   "id": "d71a803d",
   "metadata": {},
   "source": [
    "## 7- Saisies multiples\n",
    "\n",
    "- https://www.geeksforgeeks.org/taking-multiple-inputs-from-user-in-python/"
   ]
  },
  {
   "cell_type": "code",
   "execution_count": 28,
   "id": "1e13ad1e",
   "metadata": {},
   "outputs": [
    {
     "name": "stdout",
     "output_type": "stream",
     "text": [
      "Quel est votre nom et votre âge ?Bob 19\n",
      "Bob 19\n"
     ]
    }
   ],
   "source": [
    "# il faut entre les deux valeurs à la suite, séparées par un espace\n",
    "a, b = input(\"Quel est votre nom et votre âge ?\").split()\n",
    "print(a, b)"
   ]
  },
  {
   "cell_type": "code",
   "execution_count": 29,
   "id": "a2f0c66d",
   "metadata": {},
   "outputs": [
    {
     "name": "stdout",
     "output_type": "stream",
     "text": [
      "Enter two values: 3 6\n",
      "First number is 3 and second number is 6\n",
      "\n"
     ]
    }
   ],
   "source": [
    "a, b = input(\"Enter two values: \").split()\n",
    "print(\"First number is {} and second number is {}\".format(a, b))\n",
    "print()"
   ]
  },
  {
   "cell_type": "code",
   "execution_count": 27,
   "id": "853b2a05",
   "metadata": {},
   "outputs": [
    {
     "name": "stdout",
     "output_type": "stream",
     "text": [
      "Enter two values: 3 8\n",
      "Number of boys:  3\n",
      "Number of girls:  8\n",
      "\n"
     ]
    }
   ],
   "source": [
    "x, y = input(\"Enter two values: \").split()\n",
    "print(\"Number of boys: \", x)\n",
    "print(\"Number of girls: \", y)\n",
    "print()"
   ]
  },
  {
   "cell_type": "markdown",
   "id": "488e0d95",
   "metadata": {},
   "source": [
    "## 8- Eteindre le PC"
   ]
  },
  {
   "cell_type": "code",
   "execution_count": 30,
   "id": "0e2284e8",
   "metadata": {},
   "outputs": [],
   "source": [
    "# import os\n",
    "# os.system(\"window -s\")"
   ]
  },
  {
   "cell_type": "markdown",
   "id": "6d9cf278",
   "metadata": {},
   "source": [
    "## 9- Arguments multiples\n",
    "\n",
    "- https://www.learnpython.org/en/Multiple_Function_Arguments\n",
    "\n",
    "Si on ne sait pas à l'avance combien d'arguments un fonction doit recueillir, on peut accepter un nombre illimité d'arguments :"
   ]
  },
  {
   "cell_type": "code",
   "execution_count": 45,
   "id": "f3135237",
   "metadata": {},
   "outputs": [],
   "source": [
    "# Exemple :\n",
    "def nombre(*num):\n",
    "    print(num)"
   ]
  },
  {
   "cell_type": "code",
   "execution_count": 47,
   "id": "ec7d7bd4",
   "metadata": {},
   "outputs": [
    {
     "name": "stdout",
     "output_type": "stream",
     "text": [
      "(1, 2, 3, 4, 5)\n"
     ]
    }
   ],
   "source": [
    "nombre(1, 2, 3, 4, 5)"
   ]
  },
  {
   "cell_type": "code",
   "execution_count": 48,
   "id": "25f107bd",
   "metadata": {},
   "outputs": [],
   "source": [
    "# Autre exemple :\n",
    "def foo(first, second, third, *therest):\n",
    "    print(\"First: %s\" % first)\n",
    "    print(\"Second: %s\" % second)\n",
    "    print(\"Third: %s\" % third)\n",
    "    print(\"And all the rest... %s\" % list(therest))"
   ]
  },
  {
   "cell_type": "code",
   "execution_count": 49,
   "id": "69433712",
   "metadata": {},
   "outputs": [
    {
     "name": "stdout",
     "output_type": "stream",
     "text": [
      "First: 1\n",
      "Second: 2\n",
      "Third: 3\n",
      "And all the rest... [4, 5]\n"
     ]
    }
   ],
   "source": [
    "foo(1, 2, 3, 4, 5)"
   ]
  },
  {
   "cell_type": "code",
   "execution_count": null,
   "id": "67927f8d",
   "metadata": {},
   "outputs": [],
   "source": [
    "## Lire les mots de passe en tant qu'entrée utilisateur\n",
    "\n"
   ]
  },
  {
   "cell_type": "code",
   "execution_count": 52,
   "id": "d287138e",
   "metadata": {},
   "outputs": [
    {
     "name": "stdout",
     "output_type": "stream",
     "text": [
      "Entrez le nom d'utilisateur : test\n",
      "Entrez le mot de passe : ········\n"
     ]
    }
   ],
   "source": [
    "# pip install getpass4\n",
    "from getpass import getpass\n",
    "usern = input(\"Entrez le nom d'utilisateur : \")\n",
    "passw = getpass('Entrez le mot de passe : ')"
   ]
  }
 ],
 "metadata": {
  "kernelspec": {
   "display_name": "Python 3 (ipykernel)",
   "language": "python",
   "name": "python3"
  },
  "language_info": {
   "codemirror_mode": {
    "name": "ipython",
    "version": 3
   },
   "file_extension": ".py",
   "mimetype": "text/x-python",
   "name": "python",
   "nbconvert_exporter": "python",
   "pygments_lexer": "ipython3",
   "version": "3.8.3"
  }
 },
 "nbformat": 4,
 "nbformat_minor": 5
}
