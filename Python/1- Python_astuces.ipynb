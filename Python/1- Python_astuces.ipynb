{
 "cells": [
  {
   "cell_type": "markdown",
   "id": "d4cd63f3",
   "metadata": {},
   "source": [
    "# <center> Trucs et astuces en Python </center>\n",
    "\n",
    "**Source :** revue Coding, n°16, p.94-105\n",
    "    \n",
    "## 1- Générer un son :\n",
    "- https://pythonin1minute.com/how-to-beep-in-python/"
   ]
  },
  {
   "cell_type": "code",
   "execution_count": null,
   "id": "e0dda243",
   "metadata": {},
   "outputs": [],
   "source": [
    "# dans un terminal tappez :\n",
    "print('\\a')"
   ]
  },
  {
   "cell_type": "code",
   "execution_count": 6,
   "id": "2629cda7",
   "metadata": {},
   "outputs": [],
   "source": [
    "# winsound\n",
    "import winsound\n",
    "winsound.Beep(440, 500)"
   ]
  },
  {
   "cell_type": "code",
   "execution_count": 10,
   "id": "5711ebb0",
   "metadata": {},
   "outputs": [],
   "source": [
    "# autre exemple\n",
    "import winsound\n",
    "winsound.PlaySound(\"SystemExclamation\", winsound.SND_ALIAS)"
   ]
  },
  {
   "cell_type": "code",
   "execution_count": 11,
   "id": "992aa7e1",
   "metadata": {},
   "outputs": [],
   "source": [
    "# Personnaliser un son\n",
    "import winsound\n",
    "winsound.PlaySound(\"mon_son.wav\", winsound.SND_FILENAME)"
   ]
  },
  {
   "cell_type": "markdown",
   "id": "ce64890e",
   "metadata": {},
   "source": [
    "## 2- Fusion de dictionnaires (avec **)"
   ]
  },
  {
   "cell_type": "code",
   "execution_count": 14,
   "id": "afa00f22",
   "metadata": {},
   "outputs": [
    {
     "name": "stdout",
     "output_type": "stream",
     "text": [
      "{1: 'rouge', 2: 'bleu', 3: 'orange', 4: 'violet', 5: 'marron', 6: 'rose'}\n"
     ]
    }
   ],
   "source": [
    "dico_1 = {1:\"rouge\", 2:\"bleu\", 3:\"orange\"}\n",
    "dico_2 = {4:\"violet\", 5:\"marron\", 6:\"rose\"}\n",
    "\n",
    "dico_3 = {**dico_1, **dico_2}\n",
    "print(dico_3)"
   ]
  },
  {
   "cell_type": "markdown",
   "id": "7251b847",
   "metadata": {},
   "source": [
    "## 3- Gestion des chemins en Python\n",
    "\n",
    "L'ajout de **`r`** devant les guillements de chaîne garantit que les chemins de fichiers ne se confondent pas entre Python et les paramètres systèmes.\n",
    "\n",
    "## 4- Lisibilité des grands nombres (millions, milliards)\n",
    "\n",
    "En séparant les zéros avec **`_`**."
   ]
  },
  {
   "cell_type": "code",
   "execution_count": 15,
   "id": "441e3f77",
   "metadata": {},
   "outputs": [
    {
     "name": "stdout",
     "output_type": "stream",
     "text": [
      "10000000\n"
     ]
    }
   ],
   "source": [
    "# exemple \n",
    "prix = 10_000_000\n",
    "print(prix)"
   ]
  },
  {
   "cell_type": "markdown",
   "id": "14012ba1",
   "metadata": {},
   "source": [
    "## 5- Inverser une chaîne de caractère"
   ]
  },
  {
   "cell_type": "code",
   "execution_count": 21,
   "id": "b75a89ef",
   "metadata": {},
   "outputs": [
    {
     "name": "stdout",
     "output_type": "stream",
     "text": [
      "ruetanidro\n"
     ]
    }
   ],
   "source": [
    "# exemple \n",
    "chaine = \"ordinateur\"\n",
    "print(chaine[::-1])"
   ]
  },
  {
   "cell_type": "markdown",
   "id": "881c29d4",
   "metadata": {},
   "source": [
    "## 6- Convertir une liste en dictionnaire"
   ]
  },
  {
   "cell_type": "code",
   "execution_count": 22,
   "id": "c94ac1f7",
   "metadata": {},
   "outputs": [
    {
     "name": "stdout",
     "output_type": "stream",
     "text": [
      "{'Pierre': 2000, 'Paul': 1500, 'Jacques': 1200}\n"
     ]
    }
   ],
   "source": [
    "noms = [\"Pierre\", \"Paul\", \"Jacques\"]\n",
    "salaires = [2000, 1500, 1200]\n",
    "\n",
    "dico = dict(zip(noms, salaires))\n",
    "print(dico)"
   ]
  },
  {
   "cell_type": "markdown",
   "id": "beb21270",
   "metadata": {},
   "source": [
    "## 7- Saisies multiples\n",
    "\n",
    "- https://www.geeksforgeeks.org/taking-multiple-inputs-from-user-in-python/"
   ]
  },
  {
   "cell_type": "code",
   "execution_count": 28,
   "id": "c59f8c62",
   "metadata": {},
   "outputs": [
    {
     "name": "stdout",
     "output_type": "stream",
     "text": [
      "Quel est votre nom et votre âge ?Bob 19\n",
      "Bob 19\n"
     ]
    }
   ],
   "source": [
    "# il faut entre les deux valeurs à la suite, séparées par un espace\n",
    "a, b = input(\"Quel est votre nom et votre âge ?\").split()\n",
    "print(a, b)"
   ]
  },
  {
   "cell_type": "code",
   "execution_count": 29,
   "id": "720734b5",
   "metadata": {},
   "outputs": [
    {
     "name": "stdout",
     "output_type": "stream",
     "text": [
      "Enter two values: 3 6\n",
      "First number is 3 and second number is 6\n",
      "\n"
     ]
    }
   ],
   "source": [
    "a, b = input(\"Enter two values: \").split()\n",
    "print(\"First number is {} and second number is {}\".format(a, b))\n",
    "print()"
   ]
  },
  {
   "cell_type": "code",
   "execution_count": 27,
   "id": "42222937",
   "metadata": {},
   "outputs": [
    {
     "name": "stdout",
     "output_type": "stream",
     "text": [
      "Enter two values: 3 8\n",
      "Number of boys:  3\n",
      "Number of girls:  8\n",
      "\n"
     ]
    }
   ],
   "source": [
    "x, y = input(\"Enter two values: \").split()\n",
    "print(\"Number of boys: \", x)\n",
    "print(\"Number of girls: \", y)\n",
    "print()"
   ]
  },
  {
   "cell_type": "markdown",
   "id": "8ed32bf8",
   "metadata": {},
   "source": [
    "## 8- Eteindre le PC"
   ]
  },
  {
   "cell_type": "code",
   "execution_count": 30,
   "id": "756213d3",
   "metadata": {},
   "outputs": [],
   "source": [
    "# import os\n",
    "# os.system(\"window -s\")"
   ]
  },
  {
   "cell_type": "code",
   "execution_count": null,
   "id": "d120f0f5",
   "metadata": {},
   "outputs": [],
   "source": [
    "# import os\n",
    "# os.system(\"shutdown -s\")"
   ]
  },
  {
   "cell_type": "markdown",
   "id": "ff884736",
   "metadata": {},
   "source": [
    "## 9- Arguments multiples\n",
    "\n",
    "- https://www.learnpython.org/en/Multiple_Function_Arguments\n",
    "\n",
    "Si on ne sait pas à l'avance combien d'arguments un fonction doit recueillir, on peut accepter un nombre illimité d'arguments :"
   ]
  },
  {
   "cell_type": "code",
   "execution_count": 45,
   "id": "492ce4cb",
   "metadata": {},
   "outputs": [],
   "source": [
    "# Exemple :\n",
    "def nombre(*num):\n",
    "    print(num)"
   ]
  },
  {
   "cell_type": "code",
   "execution_count": 47,
   "id": "df2b7f3b",
   "metadata": {},
   "outputs": [
    {
     "name": "stdout",
     "output_type": "stream",
     "text": [
      "(1, 2, 3, 4, 5)\n"
     ]
    }
   ],
   "source": [
    "nombre(1, 2, 3, 4, 5)"
   ]
  },
  {
   "cell_type": "code",
   "execution_count": 48,
   "id": "a64943a5",
   "metadata": {},
   "outputs": [],
   "source": [
    "# Autre exemple :\n",
    "def foo(first, second, third, *therest):\n",
    "    print(\"First: %s\" % first)\n",
    "    print(\"Second: %s\" % second)\n",
    "    print(\"Third: %s\" % third)\n",
    "    print(\"And all the rest... %s\" % list(therest))"
   ]
  },
  {
   "cell_type": "code",
   "execution_count": 49,
   "id": "5dc29518",
   "metadata": {},
   "outputs": [
    {
     "name": "stdout",
     "output_type": "stream",
     "text": [
      "First: 1\n",
      "Second: 2\n",
      "Third: 3\n",
      "And all the rest... [4, 5]\n"
     ]
    }
   ],
   "source": [
    "foo(1, 2, 3, 4, 5)"
   ]
  },
  {
   "cell_type": "markdown",
   "id": "86ba46cd",
   "metadata": {},
   "source": [
    "## 10- Lire les mots de passe en tant qu'entrée utilisateur\n",
    "\n",
    "Masquer le mot de passe saisi par **`*`**."
   ]
  },
  {
   "cell_type": "code",
   "execution_count": 52,
   "id": "361d6fe4",
   "metadata": {},
   "outputs": [
    {
     "name": "stdout",
     "output_type": "stream",
     "text": [
      "Entrez le nom d'utilisateur : test\n",
      "Entrez le mot de passe : ········\n"
     ]
    }
   ],
   "source": [
    "from getpass import getpass\n",
    "\n",
    "usern = input(\"Entrez le nom d'utilisateur : \")\n",
    "passw = getpass('Entrez le mot de passe : ')"
   ]
  },
  {
   "cell_type": "markdown",
   "id": "cf4d3ff4",
   "metadata": {},
   "source": [
    "## 11- Calculer le temps d'exécution d'un programme\n",
    "\n",
    "- https://www.programiz.com/python-programming/time"
   ]
  },
  {
   "cell_type": "code",
   "execution_count": 66,
   "id": "eba8c3df",
   "metadata": {},
   "outputs": [
    {
     "name": "stdout",
     "output_type": "stream",
     "text": [
      "0.10440421104431152\n"
     ]
    }
   ],
   "source": [
    "import time\n",
    "\n",
    "# programme \n",
    "def fonction_test():\n",
    "    compteur = 0\n",
    "    while compteur < 1000000 :\n",
    "        compteur += 1\n",
    "\n",
    "startTime = time.time()\n",
    "\n",
    "# appel de la fonction\n",
    "fonction_test()\n",
    "\n",
    "endTime = time.time()\n",
    "totalTime = endTime - startTime\n",
    "\n",
    "print(totalTime)\n"
   ]
  },
  {
   "cell_type": "code",
   "execution_count": null,
   "id": "06a1774c",
   "metadata": {},
   "outputs": [],
   "source": [
    "# structure  :\n",
    "\n",
    "# importation\n",
    "import time\n",
    "\n",
    "# h de début\n",
    "startTime = time.time()\n",
    "\n",
    "# Insertion de code\n",
    "    # [...]\n",
    "\n",
    "# h de fin \n",
    "endTime = time.time()\n",
    "\n",
    "# somme des h de début/fin\n",
    "totalTime = endTime - startTime\n",
    "\n",
    "print(\"Le temps d'exécution du programme est de : \", totalTime)"
   ]
  },
  {
   "cell_type": "markdown",
   "id": "ef087187",
   "metadata": {},
   "source": [
    "## 12- Supprimer des doublons d'une liste"
   ]
  },
  {
   "cell_type": "code",
   "execution_count": 75,
   "id": "58d08808",
   "metadata": {},
   "outputs": [
    {
     "name": "stdout",
     "output_type": "stream",
     "text": [
      "[10, 20, 30, 40, 50]\n"
     ]
    }
   ],
   "source": [
    "liste = [10, 10, 10, 20, 30, 40, 50, 50]\n",
    "\n",
    "# supprimer les doublons\n",
    "liste = list(set(liste))\n",
    "\n",
    "# trier (ordre chronologique)\n",
    "liste.sort()\n",
    "\n",
    "print(liste)"
   ]
  },
  {
   "cell_type": "markdown",
   "id": "7cbc20ae",
   "metadata": {},
   "source": [
    "## 13- Ajouter des éléments à un tuple"
   ]
  },
  {
   "cell_type": "code",
   "execution_count": 77,
   "id": "e5d9ecfe",
   "metadata": {},
   "outputs": [
    {
     "name": "stdout",
     "output_type": "stream",
     "text": [
      "(1, 2, 3, 4, 5)\n"
     ]
    }
   ],
   "source": [
    "my_tuple = (1, 2, 3)\n",
    "\n",
    "# on transforme le tuple en liste\n",
    "my_list = list(my_tuple)\n",
    "\n",
    "# on ajoute des éléments\n",
    "my_list.append(4)\n",
    "my_list.append(5)\n",
    "\n",
    "# on reconvertit en tuple\n",
    "my_tuple = tuple(my_list)\n",
    "print(my_tuple)\n"
   ]
  },
  {
   "cell_type": "markdown",
   "id": "161829b0",
   "metadata": {},
   "source": [
    "## 14- Vérification si un mot est un palindrome"
   ]
  },
  {
   "cell_type": "code",
   "execution_count": 81,
   "id": "e28a16b6",
   "metadata": {},
   "outputs": [],
   "source": [
    "def palindrome(mot):\n",
    "    palindrome = bool(mot.find(mot[::-1]) + 1)\n",
    "    return palindrome"
   ]
  },
  {
   "cell_type": "code",
   "execution_count": 82,
   "id": "fffee553",
   "metadata": {},
   "outputs": [
    {
     "data": {
      "text/plain": [
       "True"
      ]
     },
     "execution_count": 82,
     "metadata": {},
     "output_type": "execute_result"
    }
   ],
   "source": [
    "palindrome(\"kayak\")"
   ]
  },
  {
   "cell_type": "code",
   "execution_count": 84,
   "id": "bfaceff7",
   "metadata": {},
   "outputs": [
    {
     "data": {
      "text/plain": [
       "False"
      ]
     },
     "execution_count": 84,
     "metadata": {},
     "output_type": "execute_result"
    }
   ],
   "source": [
    "palindrome(\"yoyo\")"
   ]
  },
  {
   "cell_type": "markdown",
   "id": "47d48eb8",
   "metadata": {},
   "source": [
    "## 15- Compréhension de liste"
   ]
  },
  {
   "cell_type": "code",
   "execution_count": 85,
   "id": "e6e10d5d",
   "metadata": {},
   "outputs": [
    {
     "name": "stdout",
     "output_type": "stream",
     "text": [
      "[1, 4, 9, 16, 25, 36, 49, 64, 81]\n"
     ]
    }
   ],
   "source": [
    "# Exemple avec une boucle for\n",
    "liste = []\n",
    "\n",
    "for x in range(1, 10):\n",
    "    liste.append(x**2)\n",
    "\n",
    "print(liste)"
   ]
  },
  {
   "cell_type": "code",
   "execution_count": 86,
   "id": "5e1c8574",
   "metadata": {},
   "outputs": [
    {
     "name": "stdout",
     "output_type": "stream",
     "text": [
      "[1, 4, 9, 16, 25, 36, 49, 64, 81]\n"
     ]
    }
   ],
   "source": [
    "# Exemple avec une compréhension de liste\n",
    "liste = [x**2 for x in range(1, 10)]\n",
    "print(liste)"
   ]
  },
  {
   "cell_type": "code",
   "execution_count": 133,
   "id": "9c860a3c",
   "metadata": {},
   "outputs": [
    {
     "name": "stdout",
     "output_type": "stream",
     "text": [
      "[1, 9, 25, 49, 81]\n",
      "[1, 9, 25, 49, 81]\n"
     ]
    }
   ],
   "source": [
    "# Autre exemple :\n",
    "\n",
    "# Code standard :\n",
    "impair_carre = []\n",
    "for x in range (1, 11):\n",
    "    if x % 2 == 1 :\n",
    "        impair_carre.append(x**2)\n",
    "print(impair_carre)\n",
    "\n",
    "# compréhension de liste\n",
    "odd_square = [x**2 for x in range(1, 11) if x % 2 == 1]\n",
    "print(odd_square)"
   ]
  },
  {
   "cell_type": "markdown",
   "id": "2a2a9691",
   "metadata": {},
   "source": [
    "## 16- Compréhension de dictionnaire"
   ]
  },
  {
   "cell_type": "code",
   "execution_count": 94,
   "id": "76662fc4",
   "metadata": {},
   "outputs": [
    {
     "name": "stdout",
     "output_type": "stream",
     "text": [
      "{1: 1, 2: 4, 3: 9}\n"
     ]
    }
   ],
   "source": [
    "dico = {x:x ** 2 for x in range(1, 4)}\n",
    "print(dico)"
   ]
  },
  {
   "cell_type": "markdown",
   "id": "3be3a657",
   "metadata": {},
   "source": [
    "## 17- Opérateur de chaîne"
   ]
  },
  {
   "cell_type": "code",
   "execution_count": 95,
   "id": "76d40966",
   "metadata": {},
   "outputs": [
    {
     "name": "stdout",
     "output_type": "stream",
     "text": [
      "True\n"
     ]
    }
   ],
   "source": [
    "nombre = 50\n",
    "resultat = 25 < nombre < 58\n",
    "print(resultat)"
   ]
  },
  {
   "cell_type": "markdown",
   "id": "c64aca3e",
   "metadata": {},
   "source": [
    "## 18- Scission d'une chaîne de caractères avec **`split()`**"
   ]
  },
  {
   "cell_type": "code",
   "execution_count": 96,
   "id": "c691cf01",
   "metadata": {},
   "outputs": [
    {
     "name": "stdout",
     "output_type": "stream",
     "text": [
      "['Ceci', 'est', 'un', 'exemple']\n"
     ]
    }
   ],
   "source": [
    "chaine = \"Ceci est un exemple\"\n",
    "print(chaine.split())"
   ]
  },
  {
   "cell_type": "markdown",
   "id": "c3caa5b6",
   "metadata": {},
   "source": [
    "## 19- Ralentir du code avec **`time.sleep()`**\n",
    "Permet d'afficher un résultat par exemple."
   ]
  },
  {
   "cell_type": "code",
   "execution_count": 98,
   "id": "3cf3a65d",
   "metadata": {},
   "outputs": [
    {
     "name": "stdout",
     "output_type": "stream",
     "text": [
      "Temps de latence de 2 secondes...\n",
      "Terminé !\n"
     ]
    }
   ],
   "source": [
    "import time\n",
    "\n",
    "print(\"Temps de latence de 2 secondes...\")\n",
    "# paramètre : temps en secondes\n",
    "time.sleep(2)\n",
    "print(\"Terminé !\")"
   ]
  },
  {
   "cell_type": "markdown",
   "id": "4ac15720",
   "metadata": {},
   "source": [
    "## 20- Compter le nombre d'occurences de mots dans une liste\n",
    "- https://docs.python.org/3/library/collections.html#collections.Counter"
   ]
  },
  {
   "cell_type": "code",
   "execution_count": 113,
   "id": "e70da9fb",
   "metadata": {},
   "outputs": [
    {
     "data": {
      "text/plain": [
       "Counter({'chat': 2, 'chien': 1, 'oiseau': 1})"
      ]
     },
     "execution_count": 113,
     "metadata": {},
     "output_type": "execute_result"
    }
   ],
   "source": [
    "from collections import Counter\n",
    "\n",
    "liste = ['chat', 'chien', 'oiseau', 'chat']\n",
    "Counter(liste)"
   ]
  },
  {
   "cell_type": "markdown",
   "id": "27ba631f",
   "metadata": {},
   "source": [
    "## 21- Créer une boucle `for` avec `else`"
   ]
  },
  {
   "cell_type": "code",
   "execution_count": 115,
   "id": "c281a7f8",
   "metadata": {},
   "outputs": [
    {
     "name": "stdout",
     "output_type": "stream",
     "text": [
      "1\n",
      "2\n",
      "3\n",
      "Boucle terminée\n"
     ]
    }
   ],
   "source": [
    "# Le else est activé une fois la boucle achevée\n",
    "\n",
    "for x in range(1, 4):\n",
    "    print(x)\n",
    "else :\n",
    "    print(\"Boucle terminée\")"
   ]
  },
  {
   "cell_type": "markdown",
   "id": "b58aba4d",
   "metadata": {},
   "source": [
    "## 22- Fonction **lambda**\n",
    "\n",
    "Lambda est une mini fonction d'une ligne définie par l'utilisateur. "
   ]
  },
  {
   "cell_type": "code",
   "execution_count": 116,
   "id": "18b275a7",
   "metadata": {},
   "outputs": [
    {
     "name": "stdout",
     "output_type": "stream",
     "text": [
      "25\n"
     ]
    }
   ],
   "source": [
    "# carré de x\n",
    "nombre = lambda x : x**2\n",
    "print(nombre(5))"
   ]
  },
  {
   "cell_type": "code",
   "execution_count": 134,
   "id": "6ce2434f",
   "metadata": {},
   "outputs": [
    {
     "name": "stdout",
     "output_type": "stream",
     "text": [
      "5\n"
     ]
    }
   ],
   "source": [
    "# addition de a + b\n",
    "addition = lambda a,b : a + b\n",
    "print(addition(2, 3))"
   ]
  },
  {
   "cell_type": "markdown",
   "id": "d129e842",
   "metadata": {},
   "source": [
    "## 23- Renvoyer plusieurs résultats d'une fonction"
   ]
  },
  {
   "cell_type": "code",
   "execution_count": 118,
   "id": "a60e560e",
   "metadata": {},
   "outputs": [
    {
     "name": "stdout",
     "output_type": "stream",
     "text": [
      "(1, 2, 3)\n"
     ]
    }
   ],
   "source": [
    "def valeurs():\n",
    "    return 1, 2, 3\n",
    "\n",
    "print(valeurs())"
   ]
  },
  {
   "cell_type": "markdown",
   "id": "2f8f2b9c",
   "metadata": {},
   "source": [
    "## 24- Faire une copie profonde\n",
    "- https://fr.quora.com/Quest-ce-quune-copie-profonde-et-une-copie-superficielle-en-python"
   ]
  },
  {
   "cell_type": "code",
   "execution_count": 119,
   "id": "e3cc5f2b",
   "metadata": {},
   "outputs": [],
   "source": [
    "import copy\n",
    "\n",
    "liste = ['chat', 'chien', 'oiseau', 'dauphin']\n",
    "\n",
    "liste_copie = copy.deepcopy(liste)"
   ]
  },
  {
   "cell_type": "markdown",
   "id": "22990481",
   "metadata": {},
   "source": [
    "## 25- Concaténation de chaînes avec **`join()`**"
   ]
  },
  {
   "cell_type": "code",
   "execution_count": 121,
   "id": "6af036eb",
   "metadata": {},
   "outputs": [
    {
     "name": "stdout",
     "output_type": "stream",
     "text": [
      "test\n"
     ]
    }
   ],
   "source": [
    "lettres = ['t', 'e', 's', 't']\n",
    "\n",
    "mot = \"\".join(lettres)\n",
    "print(mot)"
   ]
  },
  {
   "cell_type": "markdown",
   "id": "8b671735",
   "metadata": {},
   "source": [
    "## 26- Inversion d'une chaîne "
   ]
  },
  {
   "cell_type": "code",
   "execution_count": 122,
   "id": "e5ff215b",
   "metadata": {},
   "outputs": [
    {
     "name": "stdout",
     "output_type": "stream",
     "text": [
      "bonjour\n"
     ]
    }
   ],
   "source": [
    "chaine = \"ruojnob\"\n",
    "\n",
    "print(chaine[::-1])"
   ]
  },
  {
   "cell_type": "markdown",
   "id": "18a334bc",
   "metadata": {},
   "source": [
    "## 27- Utilisation de **`zip()`** avec des listes"
   ]
  },
  {
   "cell_type": "code",
   "execution_count": 123,
   "id": "f54193e4",
   "metadata": {},
   "outputs": [
    {
     "name": "stdout",
     "output_type": "stream",
     "text": [
      "python guido van rossum\n",
      "java james gosling\n",
      "c denis ritchie\n"
     ]
    }
   ],
   "source": [
    "# permet de combiner plusieurs listes de même longueur\n",
    "langages = ['python', 'java', 'c']\n",
    "createurs = ['guido van rossum', 'james gosling', 'denis ritchie']\n",
    "\n",
    "for langages, createurs in zip(langages, createurs) : \n",
    "    print(langages, createurs)"
   ]
  },
  {
   "cell_type": "markdown",
   "id": "82322b62",
   "metadata": {},
   "source": [
    "## 28- Utilisation de la fonction **`zip()`**\n",
    "### Conversion de listes en dictionnaire"
   ]
  },
  {
   "cell_type": "code",
   "execution_count": 124,
   "id": "d66c2e03",
   "metadata": {},
   "outputs": [
    {
     "name": "stdout",
     "output_type": "stream",
     "text": [
      "{'Pierre': 18, 'Paul': 35, 'Jacques': 65}\n"
     ]
    }
   ],
   "source": [
    "utilisateurs = ['Pierre', 'Paul', 'Jacques']\n",
    "ages = [18, 35, 65]\n",
    "\n",
    "# conversion\n",
    "dico = dict(zip(utilisateurs, ages))\n",
    "\n",
    "print(dico)"
   ]
  },
  {
   "cell_type": "markdown",
   "id": "f249c69a",
   "metadata": {},
   "source": [
    "### Convertir en une liste plusieurs tuples"
   ]
  },
  {
   "cell_type": "code",
   "execution_count": 151,
   "id": "ab4b2f46",
   "metadata": {},
   "outputs": [
    {
     "name": "stdout",
     "output_type": "stream",
     "text": [
      "[(1990, 'Janvier', 31), (2000, 'Mars', 3), (2010, 'Octobre', 6), (2020, 'Décembre', 14)]\n"
     ]
    }
   ],
   "source": [
    "Annee = [1990, 2000, 2010, 2020]\n",
    "Mois = [\"Janvier\", \"Mars\", \"Octobre\", \"Décembre\"]\n",
    "Jour = [31, 3, 6, 14]\n",
    "\n",
    "# fonction zip\n",
    "date = list(zip(Annee, Mois, Jour))\n",
    "print(date)"
   ]
  },
  {
   "cell_type": "markdown",
   "id": "c639250e",
   "metadata": {},
   "source": [
    "## 29- L'opérateur **`_`** renvoie le résultat de la dernière expression exécutée"
   ]
  },
  {
   "cell_type": "code",
   "execution_count": 125,
   "id": "b55d7025",
   "metadata": {},
   "outputs": [
    {
     "data": {
      "text/plain": [
       "20"
      ]
     },
     "execution_count": 125,
     "metadata": {},
     "output_type": "execute_result"
    }
   ],
   "source": [
    "# exemple\n",
    "10 + 10"
   ]
  },
  {
   "cell_type": "code",
   "execution_count": 127,
   "id": "e5556e55",
   "metadata": {},
   "outputs": [
    {
     "data": {
      "text/plain": [
       "20"
      ]
     },
     "execution_count": 127,
     "metadata": {},
     "output_type": "execute_result"
    }
   ],
   "source": [
    "# dernier résultat\n",
    "_"
   ]
  },
  {
   "cell_type": "markdown",
   "id": "7b00cea6",
   "metadata": {},
   "source": [
    "## 30- Ouvrir un site web"
   ]
  },
  {
   "cell_type": "code",
   "execution_count": 128,
   "id": "5f49c05f",
   "metadata": {},
   "outputs": [
    {
     "data": {
      "text/plain": [
       "True"
      ]
     },
     "execution_count": 128,
     "metadata": {},
     "output_type": "execute_result"
    }
   ],
   "source": [
    "import webbrowser\n",
    "webbrowser.open('http://www.python.org')"
   ]
  },
  {
   "cell_type": "markdown",
   "id": "f305e545",
   "metadata": {},
   "source": [
    "## 31- Texte en couleur"
   ]
  },
  {
   "cell_type": "code",
   "execution_count": 132,
   "id": "5e8ad103",
   "metadata": {},
   "outputs": [
    {
     "name": "stdout",
     "output_type": "stream",
     "text": [
      "\u001b[32mCeci est un test\u001b[0m\n",
      "\u001b[31mCeci est un test\u001b[0m\n",
      "\u001b[34mCeci est un test\u001b[0m\n"
     ]
    }
   ],
   "source": [
    "from termcolor import colored\n",
    "\n",
    "print(colored(\"Ceci est un test\", \"green\"))\n",
    "print(colored(\"Ceci est un test\", \"red\"))\n",
    "print(colored(\"Ceci est un test\", \"blue\"))"
   ]
  },
  {
   "cell_type": "markdown",
   "id": "fc30fdae",
   "metadata": {},
   "source": [
    "## 32- Inverser une liste"
   ]
  },
  {
   "cell_type": "code",
   "execution_count": 137,
   "id": "153ae0d3",
   "metadata": {},
   "outputs": [
    {
     "name": "stdout",
     "output_type": "stream",
     "text": [
      "['velo', 'maison', 'chenille', 'arbre']\n"
     ]
    }
   ],
   "source": [
    "elements = [\"arbre\", \"chenille\", \"maison\", \"velo\"]\n",
    "elements.reverse()\n",
    "print(elements)"
   ]
  },
  {
   "cell_type": "markdown",
   "id": "20369b06",
   "metadata": {},
   "source": [
    "## 33- L'opérateur morse **`(:=)`**\n",
    "*Walrus* en anglais, ajout dans la version 3.8 de Python. Il s'agit d'un opérateur **qui permet l'affectation directement dans l'expression**."
   ]
  },
  {
   "cell_type": "code",
   "execution_count": 138,
   "id": "ce21d012",
   "metadata": {},
   "outputs": [
    {
     "name": "stdout",
     "output_type": "stream",
     "text": [
      "3\n"
     ]
    }
   ],
   "source": [
    "# Code standard\n",
    "liste = [1, 2, 3]\n",
    "\n",
    "n=len(liste)\n",
    "if n>2 :\n",
    "    print(n)"
   ]
  },
  {
   "cell_type": "code",
   "execution_count": 139,
   "id": "a49a02f9",
   "metadata": {},
   "outputs": [
    {
     "name": "stdout",
     "output_type": "stream",
     "text": [
      "True\n"
     ]
    }
   ],
   "source": [
    "liste = [1, 2, 3]\n",
    "\n",
    "if (n := len(liste)>2):\n",
    "    print(n)"
   ]
  },
  {
   "cell_type": "markdown",
   "id": "cf2ef509",
   "metadata": {},
   "source": [
    "## 34- Suite de Fibonacci"
   ]
  },
  {
   "cell_type": "code",
   "execution_count": 143,
   "id": "686013c8",
   "metadata": {},
   "outputs": [
    {
     "name": "stdout",
     "output_type": "stream",
     "text": [
      "55\n"
     ]
    }
   ],
   "source": [
    "# fonction lambda\n",
    "suite_F = lambda n : n if n <= 1 else suite_F(n-1) + suite_F(n-2)\n",
    "\n",
    "resultat = suite_F(10)\n",
    "print(resultat)"
   ]
  },
  {
   "cell_type": "markdown",
   "id": "3985e603",
   "metadata": {},
   "source": [
    "## 35- Afficher les éléments d'une liste dans n'importe quel ordre\n",
    "\n",
    "Si vous devez afficher les valeurs d'une liste dans des ordres différents, vous pouvez affecter la liste à une série de variables et décider de l'ordre dans lequel vous souhaitez afficher la liste."
   ]
  },
  {
   "cell_type": "code",
   "execution_count": 146,
   "id": "d69d4a3a",
   "metadata": {},
   "outputs": [
    {
     "name": "stdout",
     "output_type": "stream",
     "text": [
      "3 2 1\n",
      "2 1 3\n",
      "1 2 3\n"
     ]
    }
   ],
   "source": [
    "liste = [1, 2, 3]\n",
    "a, b, c = liste\n",
    "\n",
    "print(c, b, a)\n",
    "print(b, a, c)\n",
    "print(a, b, c)"
   ]
  },
  {
   "cell_type": "markdown",
   "id": "9b306d62",
   "metadata": {},
   "source": [
    "## 36- Echanger 2 nombres en une seule ligne de code"
   ]
  },
  {
   "cell_type": "code",
   "execution_count": 152,
   "id": "77d2a7fd",
   "metadata": {},
   "outputs": [
    {
     "name": "stdout",
     "output_type": "stream",
     "text": [
      "25\n",
      "10\n"
     ]
    }
   ],
   "source": [
    "x, y = 10, 25\n",
    "\n",
    "# échange\n",
    "x, y = y, x\n",
    "\n",
    "print(x)\n",
    "print(y)"
   ]
  },
  {
   "cell_type": "markdown",
   "id": "daae516f",
   "metadata": {},
   "source": [
    "## 37- Transposer une matrice\n",
    "\n",
    "Consiste à convertir des colonnes en lignes. On utilise la fonction `zip()` avec l'opérateur `*` pour décompresser une liste qui devient une transposition du donné matrice. "
   ]
  },
  {
   "cell_type": "code",
   "execution_count": 156,
   "id": "9d91e733",
   "metadata": {},
   "outputs": [
    {
     "name": "stdout",
     "output_type": "stream",
     "text": [
      "[(10, 20, 40), (30, 15, 0)]\n"
     ]
    }
   ],
   "source": [
    "# matrice\n",
    "matrix = [[10, 30],\n",
    "     [20, 15],\n",
    "     [40, 0]]\n",
    "\n",
    "print(list(zip(*matrix)))"
   ]
  },
  {
   "cell_type": "code",
   "execution_count": null,
   "id": "00fb654b",
   "metadata": {},
   "outputs": [],
   "source": []
  }
 ],
 "metadata": {
  "kernelspec": {
   "display_name": "Python 3 (ipykernel)",
   "language": "python",
   "name": "python3"
  },
  "language_info": {
   "codemirror_mode": {
    "name": "ipython",
    "version": 3
   },
   "file_extension": ".py",
   "mimetype": "text/x-python",
   "name": "python",
   "nbconvert_exporter": "python",
   "pygments_lexer": "ipython3",
   "version": "3.8.3"
  }
 },
 "nbformat": 4,
 "nbformat_minor": 5
}
