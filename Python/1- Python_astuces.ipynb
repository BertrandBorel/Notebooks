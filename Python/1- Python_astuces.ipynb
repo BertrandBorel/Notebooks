{
 "cells": [
  {
   "cell_type": "markdown",
   "id": "bd555d4c",
   "metadata": {},
   "source": [
    "# <center> Trucs et astuces en Python </center>\n",
    "\n",
    "**Source :** revue Coding, n°16, p.94-105\n",
    "    \n",
    "## 1- Générer un son :\n",
    "- https://pythonin1minute.com/how-to-beep-in-python/"
   ]
  },
  {
   "cell_type": "code",
   "execution_count": null,
   "id": "049fafd2",
   "metadata": {},
   "outputs": [],
   "source": [
    "# dans un terminal tappez :\n",
    "print('\\a')"
   ]
  },
  {
   "cell_type": "code",
   "execution_count": 6,
   "id": "17038dc2",
   "metadata": {},
   "outputs": [],
   "source": [
    "# winsound\n",
    "import winsound\n",
    "winsound.Beep(440, 500)"
   ]
  },
  {
   "cell_type": "code",
   "execution_count": 10,
   "id": "f5969400",
   "metadata": {},
   "outputs": [],
   "source": [
    "# autre exemple\n",
    "import winsound\n",
    "winsound.PlaySound(\"SystemExclamation\", winsound.SND_ALIAS)"
   ]
  },
  {
   "cell_type": "code",
   "execution_count": 11,
   "id": "9b414abf",
   "metadata": {},
   "outputs": [],
   "source": [
    "# Personnaliser un son\n",
    "import winsound\n",
    "winsound.PlaySound(\"mon_son.wav\", winsound.SND_FILENAME)"
   ]
  },
  {
   "cell_type": "markdown",
   "id": "d1657446",
   "metadata": {},
   "source": [
    "## 2- Fusion de dictionnaires (avec **)"
   ]
  },
  {
   "cell_type": "code",
   "execution_count": 14,
   "id": "56942aec",
   "metadata": {},
   "outputs": [
    {
     "name": "stdout",
     "output_type": "stream",
     "text": [
      "{1: 'rouge', 2: 'bleu', 3: 'orange', 4: 'violet', 5: 'marron', 6: 'rose'}\n"
     ]
    }
   ],
   "source": [
    "dico_1 = {1:\"rouge\", 2:\"bleu\", 3:\"orange\"}\n",
    "dico_2 = {4:\"violet\", 5:\"marron\", 6:\"rose\"}\n",
    "\n",
    "dico_3 = {**dico_1, **dico_2}\n",
    "print(dico_3)"
   ]
  },
  {
   "cell_type": "markdown",
   "id": "e24dfbe8",
   "metadata": {},
   "source": [
    "## 3- Gestion des chemins en Python\n",
    "\n",
    "L'ajout de **`r`** devant les guillements de chaîne garantit que les chemins de fichiers ne se confondent pas entre Python et les paramètres systèmes.\n",
    "\n",
    "## 4- Lisibilité des grands nombres (millions, milliards)\n",
    "\n",
    "En séparant les zéros avec **`_`**."
   ]
  },
  {
   "cell_type": "code",
   "execution_count": 15,
   "id": "cd1b6965",
   "metadata": {},
   "outputs": [
    {
     "name": "stdout",
     "output_type": "stream",
     "text": [
      "10000000\n"
     ]
    }
   ],
   "source": [
    "# exemple \n",
    "prix = 10_000_000\n",
    "print(prix)"
   ]
  },
  {
   "cell_type": "markdown",
   "id": "2e5f80b4",
   "metadata": {},
   "source": [
    "## 5- Inverser une chaîne de caractère"
   ]
  },
  {
   "cell_type": "code",
   "execution_count": 21,
   "id": "3231bfa5",
   "metadata": {},
   "outputs": [
    {
     "name": "stdout",
     "output_type": "stream",
     "text": [
      "ruetanidro\n"
     ]
    }
   ],
   "source": [
    "# exemple \n",
    "chaine = \"ordinateur\"\n",
    "print(chaine[::-1])"
   ]
  },
  {
   "cell_type": "markdown",
   "id": "8973516c",
   "metadata": {},
   "source": [
    "## 6- Convertir une liste en dictionnaire"
   ]
  },
  {
   "cell_type": "code",
   "execution_count": 22,
   "id": "1da0fa5d",
   "metadata": {},
   "outputs": [
    {
     "name": "stdout",
     "output_type": "stream",
     "text": [
      "{'Pierre': 2000, 'Paul': 1500, 'Jacques': 1200}\n"
     ]
    }
   ],
   "source": [
    "noms = [\"Pierre\", \"Paul\", \"Jacques\"]\n",
    "salaires = [2000, 1500, 1200]\n",
    "\n",
    "dico = dict(zip(noms, salaires))\n",
    "print(dico)"
   ]
  },
  {
   "cell_type": "markdown",
   "id": "ffe33a31",
   "metadata": {},
   "source": [
    "## 7- Saisies multiples\n",
    "\n",
    "- https://www.geeksforgeeks.org/taking-multiple-inputs-from-user-in-python/"
   ]
  },
  {
   "cell_type": "code",
   "execution_count": 28,
   "id": "c707bc72",
   "metadata": {},
   "outputs": [
    {
     "name": "stdout",
     "output_type": "stream",
     "text": [
      "Quel est votre nom et votre âge ?Bob 19\n",
      "Bob 19\n"
     ]
    }
   ],
   "source": [
    "# il faut entre les deux valeurs à la suite, séparées par un espace\n",
    "a, b = input(\"Quel est votre nom et votre âge ?\").split()\n",
    "print(a, b)"
   ]
  },
  {
   "cell_type": "code",
   "execution_count": 29,
   "id": "a6a45ae7",
   "metadata": {},
   "outputs": [
    {
     "name": "stdout",
     "output_type": "stream",
     "text": [
      "Enter two values: 3 6\n",
      "First number is 3 and second number is 6\n",
      "\n"
     ]
    }
   ],
   "source": [
    "a, b = input(\"Enter two values: \").split()\n",
    "print(\"First number is {} and second number is {}\".format(a, b))\n",
    "print()"
   ]
  },
  {
   "cell_type": "code",
   "execution_count": 27,
   "id": "b2545c49",
   "metadata": {},
   "outputs": [
    {
     "name": "stdout",
     "output_type": "stream",
     "text": [
      "Enter two values: 3 8\n",
      "Number of boys:  3\n",
      "Number of girls:  8\n",
      "\n"
     ]
    }
   ],
   "source": [
    "x, y = input(\"Enter two values: \").split()\n",
    "print(\"Number of boys: \", x)\n",
    "print(\"Number of girls: \", y)\n",
    "print()"
   ]
  },
  {
   "cell_type": "markdown",
   "id": "89f01b76",
   "metadata": {},
   "source": [
    "## 8- Eteindre le PC"
   ]
  },
  {
   "cell_type": "code",
   "execution_count": 30,
   "id": "fa758c6c",
   "metadata": {},
   "outputs": [],
   "source": [
    "# import os\n",
    "# os.system(\"window -s\")"
   ]
  },
  {
   "cell_type": "code",
   "execution_count": null,
   "id": "fb92bd70",
   "metadata": {},
   "outputs": [],
   "source": [
    "# import os\n",
    "# os.system(\"shutdown -s\")"
   ]
  },
  {
   "cell_type": "markdown",
   "id": "bca8dc41",
   "metadata": {},
   "source": [
    "## 9- Arguments multiples\n",
    "\n",
    "- https://www.learnpython.org/en/Multiple_Function_Arguments\n",
    "\n",
    "Si on ne sait pas à l'avance combien d'arguments un fonction doit recueillir, on peut accepter un nombre illimité d'arguments :"
   ]
  },
  {
   "cell_type": "code",
   "execution_count": 45,
   "id": "060f01b7",
   "metadata": {},
   "outputs": [],
   "source": [
    "# Exemple :\n",
    "def nombre(*num):\n",
    "    print(num)"
   ]
  },
  {
   "cell_type": "code",
   "execution_count": 47,
   "id": "9aa0a98b",
   "metadata": {},
   "outputs": [
    {
     "name": "stdout",
     "output_type": "stream",
     "text": [
      "(1, 2, 3, 4, 5)\n"
     ]
    }
   ],
   "source": [
    "nombre(1, 2, 3, 4, 5)"
   ]
  },
  {
   "cell_type": "code",
   "execution_count": 48,
   "id": "9dc6b3fc",
   "metadata": {},
   "outputs": [],
   "source": [
    "# Autre exemple :\n",
    "def foo(first, second, third, *therest):\n",
    "    print(\"First: %s\" % first)\n",
    "    print(\"Second: %s\" % second)\n",
    "    print(\"Third: %s\" % third)\n",
    "    print(\"And all the rest... %s\" % list(therest))"
   ]
  },
  {
   "cell_type": "code",
   "execution_count": 49,
   "id": "1029ea66",
   "metadata": {},
   "outputs": [
    {
     "name": "stdout",
     "output_type": "stream",
     "text": [
      "First: 1\n",
      "Second: 2\n",
      "Third: 3\n",
      "And all the rest... [4, 5]\n"
     ]
    }
   ],
   "source": [
    "foo(1, 2, 3, 4, 5)"
   ]
  },
  {
   "cell_type": "markdown",
   "id": "dd4f2daf",
   "metadata": {},
   "source": [
    "## 10- Lire les mots de passe en tant qu'entrée utilisateur\n",
    "\n",
    "Masquer le mot de passe saisi par **`*`**."
   ]
  },
  {
   "cell_type": "code",
   "execution_count": 52,
   "id": "5334bd01",
   "metadata": {},
   "outputs": [
    {
     "name": "stdout",
     "output_type": "stream",
     "text": [
      "Entrez le nom d'utilisateur : test\n",
      "Entrez le mot de passe : ········\n"
     ]
    }
   ],
   "source": [
    "from getpass import getpass\n",
    "\n",
    "usern = input(\"Entrez le nom d'utilisateur : \")\n",
    "passw = getpass('Entrez le mot de passe : ')"
   ]
  },
  {
   "cell_type": "markdown",
   "id": "1bc622a5",
   "metadata": {},
   "source": [
    "## 11- Calculer le temps d'exécution d'un programme\n",
    "\n",
    "- https://www.programiz.com/python-programming/time"
   ]
  },
  {
   "cell_type": "code",
   "execution_count": 66,
   "id": "1baa2123",
   "metadata": {},
   "outputs": [
    {
     "name": "stdout",
     "output_type": "stream",
     "text": [
      "0.10440421104431152\n"
     ]
    }
   ],
   "source": [
    "import time\n",
    "\n",
    "# programme \n",
    "def fonction_test():\n",
    "    compteur = 0\n",
    "    while compteur < 1000000 :\n",
    "        compteur += 1\n",
    "\n",
    "startTime = time.time()\n",
    "\n",
    "# appel de la fonction\n",
    "fonction_test()\n",
    "\n",
    "endTime = time.time()\n",
    "totalTime = endTime - startTime\n",
    "\n",
    "print(totalTime)\n"
   ]
  },
  {
   "cell_type": "code",
   "execution_count": null,
   "id": "ba1d9390",
   "metadata": {},
   "outputs": [],
   "source": [
    "# structure  :\n",
    "\n",
    "# importation\n",
    "import time\n",
    "\n",
    "# h de début\n",
    "startTime = time.time()\n",
    "\n",
    "# Insertion de code\n",
    "    # [...]\n",
    "\n",
    "# h de fin \n",
    "endTime = time.time()\n",
    "\n",
    "# somme des h de début/fin\n",
    "totalTime = endTime - startTime\n",
    "\n",
    "print(\"Le temps d'exécution du programme est de : \", totalTime)"
   ]
  },
  {
   "cell_type": "markdown",
   "id": "29c20abe",
   "metadata": {},
   "source": [
    "## 12- Supprimer des doublons d'une liste"
   ]
  },
  {
   "cell_type": "code",
   "execution_count": 179,
   "id": "571626be",
   "metadata": {},
   "outputs": [
    {
     "name": "stdout",
     "output_type": "stream",
     "text": [
      "[40, 10, 50, 20, 30]\n"
     ]
    }
   ],
   "source": [
    "liste = [10, 10, 10, 20, 30, 40, 50, 50]\n",
    "\n",
    "# supprimer les doublons = ordre pas conservé\n",
    "liste = list(set(liste))\n",
    "\n",
    "print(liste)"
   ]
  },
  {
   "cell_type": "code",
   "execution_count": 180,
   "id": "2ca84841",
   "metadata": {},
   "outputs": [
    {
     "name": "stdout",
     "output_type": "stream",
     "text": [
      "[10, 20, 30, 40, 50]\n"
     ]
    }
   ],
   "source": [
    "# trier (ordre chronologique)\n",
    "liste.sort()\n",
    "\n",
    "print(liste)"
   ]
  },
  {
   "cell_type": "code",
   "execution_count": 182,
   "id": "d6ffdc40",
   "metadata": {},
   "outputs": [
    {
     "name": "stdout",
     "output_type": "stream",
     "text": [
      "[1, 100, 250, 20, 30, 4, 50]\n"
     ]
    }
   ],
   "source": [
    "# supprimer les doublons mais en conservant l'ordre primaire\n",
    "from collections import OrderedDict\n",
    "\n",
    "liste = [1, 100, 250, 1, 20, 30, 4, 50, 50]\n",
    "\n",
    "print((list(OrderedDict.fromkeys(liste).keys())))"
   ]
  },
  {
   "cell_type": "markdown",
   "id": "56663918",
   "metadata": {},
   "source": [
    "## 13- Ajouter des éléments à un tuple"
   ]
  },
  {
   "cell_type": "code",
   "execution_count": 77,
   "id": "494e974f",
   "metadata": {},
   "outputs": [
    {
     "name": "stdout",
     "output_type": "stream",
     "text": [
      "(1, 2, 3, 4, 5)\n"
     ]
    }
   ],
   "source": [
    "my_tuple = (1, 2, 3)\n",
    "\n",
    "# on transforme le tuple en liste\n",
    "my_list = list(my_tuple)\n",
    "\n",
    "# on ajoute des éléments\n",
    "my_list.append(4)\n",
    "my_list.append(5)\n",
    "\n",
    "# on reconvertit en tuple\n",
    "my_tuple = tuple(my_list)\n",
    "print(my_tuple)\n"
   ]
  },
  {
   "cell_type": "markdown",
   "id": "4dd4af48",
   "metadata": {},
   "source": [
    "## 14- Vérification si un mot est un palindrome"
   ]
  },
  {
   "cell_type": "code",
   "execution_count": 81,
   "id": "7a5b9230",
   "metadata": {},
   "outputs": [],
   "source": [
    "def palindrome(mot):\n",
    "    palindrome = bool(mot.find(mot[::-1]) + 1)\n",
    "    return palindrome"
   ]
  },
  {
   "cell_type": "code",
   "execution_count": 82,
   "id": "6c826fea",
   "metadata": {},
   "outputs": [
    {
     "data": {
      "text/plain": [
       "True"
      ]
     },
     "execution_count": 82,
     "metadata": {},
     "output_type": "execute_result"
    }
   ],
   "source": [
    "palindrome(\"kayak\")"
   ]
  },
  {
   "cell_type": "code",
   "execution_count": 84,
   "id": "222fe617",
   "metadata": {},
   "outputs": [
    {
     "data": {
      "text/plain": [
       "False"
      ]
     },
     "execution_count": 84,
     "metadata": {},
     "output_type": "execute_result"
    }
   ],
   "source": [
    "palindrome(\"yoyo\")"
   ]
  },
  {
   "cell_type": "markdown",
   "id": "6148a8f1",
   "metadata": {},
   "source": [
    "## 15- Compréhension de liste"
   ]
  },
  {
   "cell_type": "code",
   "execution_count": 85,
   "id": "9dde21d8",
   "metadata": {},
   "outputs": [
    {
     "name": "stdout",
     "output_type": "stream",
     "text": [
      "[1, 4, 9, 16, 25, 36, 49, 64, 81]\n"
     ]
    }
   ],
   "source": [
    "# Exemple avec une boucle for\n",
    "liste = []\n",
    "\n",
    "for x in range(1, 10):\n",
    "    liste.append(x**2)\n",
    "\n",
    "print(liste)"
   ]
  },
  {
   "cell_type": "code",
   "execution_count": 86,
   "id": "40b272c1",
   "metadata": {},
   "outputs": [
    {
     "name": "stdout",
     "output_type": "stream",
     "text": [
      "[1, 4, 9, 16, 25, 36, 49, 64, 81]\n"
     ]
    }
   ],
   "source": [
    "# Exemple avec une compréhension de liste\n",
    "liste = [x**2 for x in range(1, 10)]\n",
    "print(liste)"
   ]
  },
  {
   "cell_type": "code",
   "execution_count": 133,
   "id": "291e7a13",
   "metadata": {},
   "outputs": [
    {
     "name": "stdout",
     "output_type": "stream",
     "text": [
      "[1, 9, 25, 49, 81]\n",
      "[1, 9, 25, 49, 81]\n"
     ]
    }
   ],
   "source": [
    "# Autre exemple :\n",
    "\n",
    "# Code standard :\n",
    "impair_carre = []\n",
    "for x in range (1, 11):\n",
    "    if x % 2 == 1 :\n",
    "        impair_carre.append(x**2)\n",
    "print(impair_carre)\n",
    "\n",
    "# compréhension de liste\n",
    "odd_square = [x**2 for x in range(1, 11) if x % 2 == 1]\n",
    "print(odd_square)"
   ]
  },
  {
   "cell_type": "markdown",
   "id": "2d2c0f89",
   "metadata": {},
   "source": [
    "## 16- Compréhension de dictionnaire"
   ]
  },
  {
   "cell_type": "code",
   "execution_count": 94,
   "id": "5b70f140",
   "metadata": {},
   "outputs": [
    {
     "name": "stdout",
     "output_type": "stream",
     "text": [
      "{1: 1, 2: 4, 3: 9}\n"
     ]
    }
   ],
   "source": [
    "dico = {x:x ** 2 for x in range(1, 4)}\n",
    "print(dico)"
   ]
  },
  {
   "cell_type": "markdown",
   "id": "f684defb",
   "metadata": {},
   "source": [
    "## 17- Opérateur de chaîne"
   ]
  },
  {
   "cell_type": "code",
   "execution_count": 95,
   "id": "101f4cfe",
   "metadata": {},
   "outputs": [
    {
     "name": "stdout",
     "output_type": "stream",
     "text": [
      "True\n"
     ]
    }
   ],
   "source": [
    "nombre = 50\n",
    "resultat = 25 < nombre < 58\n",
    "print(resultat)"
   ]
  },
  {
   "cell_type": "markdown",
   "id": "0117a45d",
   "metadata": {},
   "source": [
    "## 18- Scission d'une chaîne de caractères avec **`split()`**"
   ]
  },
  {
   "cell_type": "code",
   "execution_count": 96,
   "id": "a50ea5e1",
   "metadata": {},
   "outputs": [
    {
     "name": "stdout",
     "output_type": "stream",
     "text": [
      "['Ceci', 'est', 'un', 'exemple']\n"
     ]
    }
   ],
   "source": [
    "chaine = \"Ceci est un exemple\"\n",
    "print(chaine.split())"
   ]
  },
  {
   "cell_type": "markdown",
   "id": "50de9d2a",
   "metadata": {},
   "source": [
    "## 19- Ralentir du code avec **`time.sleep()`**\n",
    "Permet d'afficher un résultat par exemple."
   ]
  },
  {
   "cell_type": "code",
   "execution_count": 98,
   "id": "8ac22398",
   "metadata": {},
   "outputs": [
    {
     "name": "stdout",
     "output_type": "stream",
     "text": [
      "Temps de latence de 2 secondes...\n",
      "Terminé !\n"
     ]
    }
   ],
   "source": [
    "import time\n",
    "\n",
    "print(\"Temps de latence de 2 secondes...\")\n",
    "# paramètre : temps en secondes\n",
    "time.sleep(2)\n",
    "print(\"Terminé !\")"
   ]
  },
  {
   "cell_type": "markdown",
   "id": "18574fc8",
   "metadata": {},
   "source": [
    "## 20- Compter le nombre d'occurences de mots dans une liste\n",
    "- https://docs.python.org/3/library/collections.html#collections.Counter"
   ]
  },
  {
   "cell_type": "code",
   "execution_count": 113,
   "id": "aa0d87ad",
   "metadata": {},
   "outputs": [
    {
     "data": {
      "text/plain": [
       "Counter({'chat': 2, 'chien': 1, 'oiseau': 1})"
      ]
     },
     "execution_count": 113,
     "metadata": {},
     "output_type": "execute_result"
    }
   ],
   "source": [
    "from collections import Counter\n",
    "\n",
    "liste = ['chat', 'chien', 'oiseau', 'chat']\n",
    "Counter(liste)"
   ]
  },
  {
   "cell_type": "markdown",
   "id": "a31c8b53",
   "metadata": {},
   "source": [
    "## 21- Créer une boucle `for` avec `else`"
   ]
  },
  {
   "cell_type": "code",
   "execution_count": 115,
   "id": "5460de6f",
   "metadata": {},
   "outputs": [
    {
     "name": "stdout",
     "output_type": "stream",
     "text": [
      "1\n",
      "2\n",
      "3\n",
      "Boucle terminée\n"
     ]
    }
   ],
   "source": [
    "# Le else est activé une fois la boucle achevée\n",
    "\n",
    "for x in range(1, 4):\n",
    "    print(x)\n",
    "else :\n",
    "    print(\"Boucle terminée\")"
   ]
  },
  {
   "cell_type": "markdown",
   "id": "3222a9dc",
   "metadata": {},
   "source": [
    "## 22- Fonction **lambda**\n",
    "\n",
    "Lambda est une mini fonction d'une ligne définie par l'utilisateur. "
   ]
  },
  {
   "cell_type": "code",
   "execution_count": 116,
   "id": "44a038a3",
   "metadata": {},
   "outputs": [
    {
     "name": "stdout",
     "output_type": "stream",
     "text": [
      "25\n"
     ]
    }
   ],
   "source": [
    "# carré de x\n",
    "nombre = lambda x : x**2\n",
    "print(nombre(5))"
   ]
  },
  {
   "cell_type": "code",
   "execution_count": 134,
   "id": "aba9e35b",
   "metadata": {},
   "outputs": [
    {
     "name": "stdout",
     "output_type": "stream",
     "text": [
      "5\n"
     ]
    }
   ],
   "source": [
    "# addition de a + b\n",
    "addition = lambda a,b : a + b\n",
    "print(addition(2, 3))"
   ]
  },
  {
   "cell_type": "markdown",
   "id": "d99888b8",
   "metadata": {},
   "source": [
    "## 23- Renvoyer plusieurs résultats d'une fonction"
   ]
  },
  {
   "cell_type": "code",
   "execution_count": 118,
   "id": "548fe5f9",
   "metadata": {},
   "outputs": [
    {
     "name": "stdout",
     "output_type": "stream",
     "text": [
      "(1, 2, 3)\n"
     ]
    }
   ],
   "source": [
    "def valeurs():\n",
    "    return 1, 2, 3\n",
    "\n",
    "print(valeurs())"
   ]
  },
  {
   "cell_type": "markdown",
   "id": "6af3c7c3",
   "metadata": {},
   "source": [
    "## 24- Faire une copie profonde\n",
    "- https://fr.quora.com/Quest-ce-quune-copie-profonde-et-une-copie-superficielle-en-python"
   ]
  },
  {
   "cell_type": "code",
   "execution_count": 119,
   "id": "c72b525b",
   "metadata": {},
   "outputs": [],
   "source": [
    "import copy\n",
    "\n",
    "liste = ['chat', 'chien', 'oiseau', 'dauphin']\n",
    "\n",
    "liste_copie = copy.deepcopy(liste)"
   ]
  },
  {
   "cell_type": "markdown",
   "id": "4e6a2239",
   "metadata": {},
   "source": [
    "## 25- Concaténation de chaînes avec **`join()`**"
   ]
  },
  {
   "cell_type": "code",
   "execution_count": 121,
   "id": "57c10e82",
   "metadata": {},
   "outputs": [
    {
     "name": "stdout",
     "output_type": "stream",
     "text": [
      "test\n"
     ]
    }
   ],
   "source": [
    "lettres = ['t', 'e', 's', 't']\n",
    "\n",
    "mot = \"\".join(lettres)\n",
    "print(mot)"
   ]
  },
  {
   "cell_type": "markdown",
   "id": "d1583583",
   "metadata": {},
   "source": [
    "## 26- Inversion d'une chaîne "
   ]
  },
  {
   "cell_type": "code",
   "execution_count": 122,
   "id": "51563c60",
   "metadata": {},
   "outputs": [
    {
     "name": "stdout",
     "output_type": "stream",
     "text": [
      "bonjour\n"
     ]
    }
   ],
   "source": [
    "chaine = \"ruojnob\"\n",
    "\n",
    "print(chaine[::-1])"
   ]
  },
  {
   "cell_type": "markdown",
   "id": "3b2204cf",
   "metadata": {},
   "source": [
    "## 27- Utilisation de **`zip()`** avec des listes"
   ]
  },
  {
   "cell_type": "code",
   "execution_count": 123,
   "id": "1776e7f0",
   "metadata": {},
   "outputs": [
    {
     "name": "stdout",
     "output_type": "stream",
     "text": [
      "python guido van rossum\n",
      "java james gosling\n",
      "c denis ritchie\n"
     ]
    }
   ],
   "source": [
    "# permet de combiner plusieurs listes de même longueur\n",
    "langages = ['python', 'java', 'c']\n",
    "createurs = ['guido van rossum', 'james gosling', 'denis ritchie']\n",
    "\n",
    "for langages, createurs in zip(langages, createurs) : \n",
    "    print(langages, createurs)"
   ]
  },
  {
   "cell_type": "markdown",
   "id": "1af2433a",
   "metadata": {},
   "source": [
    "## 28- Utilisation de la fonction **`zip()`**\n",
    "### Conversion de listes en dictionnaire"
   ]
  },
  {
   "cell_type": "code",
   "execution_count": 124,
   "id": "27b1c3e8",
   "metadata": {},
   "outputs": [
    {
     "name": "stdout",
     "output_type": "stream",
     "text": [
      "{'Pierre': 18, 'Paul': 35, 'Jacques': 65}\n"
     ]
    }
   ],
   "source": [
    "utilisateurs = ['Pierre', 'Paul', 'Jacques']\n",
    "ages = [18, 35, 65]\n",
    "\n",
    "# conversion\n",
    "dico = dict(zip(utilisateurs, ages))\n",
    "\n",
    "print(dico)"
   ]
  },
  {
   "cell_type": "markdown",
   "id": "52505e6c",
   "metadata": {},
   "source": [
    "### Convertir en une liste plusieurs tuples"
   ]
  },
  {
   "cell_type": "code",
   "execution_count": 151,
   "id": "6a484a63",
   "metadata": {},
   "outputs": [
    {
     "name": "stdout",
     "output_type": "stream",
     "text": [
      "[(1990, 'Janvier', 31), (2000, 'Mars', 3), (2010, 'Octobre', 6), (2020, 'Décembre', 14)]\n"
     ]
    }
   ],
   "source": [
    "Annee = [1990, 2000, 2010, 2020]\n",
    "Mois = [\"Janvier\", \"Mars\", \"Octobre\", \"Décembre\"]\n",
    "Jour = [31, 3, 6, 14]\n",
    "\n",
    "# fonction zip\n",
    "date = list(zip(Annee, Mois, Jour))\n",
    "print(date)"
   ]
  },
  {
   "cell_type": "markdown",
   "id": "7d082a87",
   "metadata": {},
   "source": [
    "## 29- L'opérateur **`_`** renvoie le résultat de la dernière expression exécutée"
   ]
  },
  {
   "cell_type": "code",
   "execution_count": 125,
   "id": "713c012e",
   "metadata": {},
   "outputs": [
    {
     "data": {
      "text/plain": [
       "20"
      ]
     },
     "execution_count": 125,
     "metadata": {},
     "output_type": "execute_result"
    }
   ],
   "source": [
    "# exemple\n",
    "10 + 10"
   ]
  },
  {
   "cell_type": "code",
   "execution_count": 127,
   "id": "d1c65f87",
   "metadata": {},
   "outputs": [
    {
     "data": {
      "text/plain": [
       "20"
      ]
     },
     "execution_count": 127,
     "metadata": {},
     "output_type": "execute_result"
    }
   ],
   "source": [
    "# dernier résultat\n",
    "_"
   ]
  },
  {
   "cell_type": "markdown",
   "id": "8f9a1f39",
   "metadata": {},
   "source": [
    "## 30- Ouvrir un site web"
   ]
  },
  {
   "cell_type": "code",
   "execution_count": 128,
   "id": "278604c5",
   "metadata": {},
   "outputs": [
    {
     "data": {
      "text/plain": [
       "True"
      ]
     },
     "execution_count": 128,
     "metadata": {},
     "output_type": "execute_result"
    }
   ],
   "source": [
    "import webbrowser\n",
    "webbrowser.open('http://www.python.org')"
   ]
  },
  {
   "cell_type": "markdown",
   "id": "c24e1645",
   "metadata": {},
   "source": [
    "## 31- Texte en couleur"
   ]
  },
  {
   "cell_type": "code",
   "execution_count": 132,
   "id": "deceda47",
   "metadata": {},
   "outputs": [
    {
     "name": "stdout",
     "output_type": "stream",
     "text": [
      "\u001b[32mCeci est un test\u001b[0m\n",
      "\u001b[31mCeci est un test\u001b[0m\n",
      "\u001b[34mCeci est un test\u001b[0m\n"
     ]
    }
   ],
   "source": [
    "from termcolor import colored\n",
    "\n",
    "print(colored(\"Ceci est un test\", \"green\"))\n",
    "print(colored(\"Ceci est un test\", \"red\"))\n",
    "print(colored(\"Ceci est un test\", \"blue\"))"
   ]
  },
  {
   "cell_type": "markdown",
   "id": "a2686583",
   "metadata": {},
   "source": [
    "## 32- Inverser une liste\n",
    "\n",
    "### Avec la fonction `reverse()`"
   ]
  },
  {
   "cell_type": "code",
   "execution_count": 137,
   "id": "126397b8",
   "metadata": {},
   "outputs": [
    {
     "name": "stdout",
     "output_type": "stream",
     "text": [
      "['velo', 'maison', 'chenille', 'arbre']\n"
     ]
    }
   ],
   "source": [
    "elements = [\"arbre\", \"chenille\", \"maison\", \"velo\"]\n",
    "elements.reverse()\n",
    "print(elements)"
   ]
  },
  {
   "cell_type": "markdown",
   "id": "b2e2d35f",
   "metadata": {},
   "source": [
    "### Avec un découpage de liste :"
   ]
  },
  {
   "cell_type": "code",
   "execution_count": 158,
   "id": "5e8ccd02",
   "metadata": {},
   "outputs": [
    {
     "name": "stdout",
     "output_type": "stream",
     "text": [
      "['velo', 'maison', 'chenille', 'arbre']\n"
     ]
    }
   ],
   "source": [
    "elements = [\"arbre\", \"chenille\", \"maison\", \"velo\"]\n",
    "print(elements[::-1])"
   ]
  },
  {
   "cell_type": "markdown",
   "id": "0ce6724a",
   "metadata": {},
   "source": [
    "## 33- L'opérateur morse **`(:=)`**\n",
    "*Walrus* en anglais, ajout dans la version 3.8 de Python. Il s'agit d'un opérateur **qui permet l'affectation directement dans l'expression**."
   ]
  },
  {
   "cell_type": "code",
   "execution_count": 138,
   "id": "7d0ac74c",
   "metadata": {},
   "outputs": [
    {
     "name": "stdout",
     "output_type": "stream",
     "text": [
      "3\n"
     ]
    }
   ],
   "source": [
    "# Code standard\n",
    "liste = [1, 2, 3]\n",
    "\n",
    "n=len(liste)\n",
    "if n>2 :\n",
    "    print(n)"
   ]
  },
  {
   "cell_type": "code",
   "execution_count": 139,
   "id": "a70cbc5e",
   "metadata": {},
   "outputs": [
    {
     "name": "stdout",
     "output_type": "stream",
     "text": [
      "True\n"
     ]
    }
   ],
   "source": [
    "liste = [1, 2, 3]\n",
    "\n",
    "if (n := len(liste)>2):\n",
    "    print(n)"
   ]
  },
  {
   "cell_type": "markdown",
   "id": "35a9f90e",
   "metadata": {},
   "source": [
    "## 34- Suite de Fibonacci"
   ]
  },
  {
   "cell_type": "code",
   "execution_count": 143,
   "id": "2c3be77d",
   "metadata": {},
   "outputs": [
    {
     "name": "stdout",
     "output_type": "stream",
     "text": [
      "55\n"
     ]
    }
   ],
   "source": [
    "# fonction lambda\n",
    "suite_F = lambda n : n if n <= 1 else suite_F(n-1) + suite_F(n-2)\n",
    "\n",
    "resultat = suite_F(10)\n",
    "print(resultat)"
   ]
  },
  {
   "cell_type": "markdown",
   "id": "2bda24e9",
   "metadata": {},
   "source": [
    "## 35- Afficher les éléments d'une liste dans n'importe quel ordre\n",
    "\n",
    "Si vous devez afficher les valeurs d'une liste dans des ordres différents, vous pouvez affecter la liste à une série de variables et décider de l'ordre dans lequel vous souhaitez afficher la liste."
   ]
  },
  {
   "cell_type": "code",
   "execution_count": 146,
   "id": "1902d45b",
   "metadata": {},
   "outputs": [
    {
     "name": "stdout",
     "output_type": "stream",
     "text": [
      "3 2 1\n",
      "2 1 3\n",
      "1 2 3\n"
     ]
    }
   ],
   "source": [
    "liste = [1, 2, 3]\n",
    "a, b, c = liste\n",
    "\n",
    "print(c, b, a)\n",
    "print(b, a, c)\n",
    "print(a, b, c)"
   ]
  },
  {
   "cell_type": "markdown",
   "id": "4f2b4f1e",
   "metadata": {},
   "source": [
    "### Permuter les éléments d'une liste avec `itertools`"
   ]
  },
  {
   "cell_type": "code",
   "execution_count": 242,
   "id": "0ab916af",
   "metadata": {},
   "outputs": [
    {
     "data": {
      "text/plain": [
       "[('a', 'b', 'c'),\n",
       " ('a', 'c', 'b'),\n",
       " ('b', 'a', 'c'),\n",
       " ('b', 'c', 'a'),\n",
       " ('c', 'a', 'b'),\n",
       " ('c', 'b', 'a')]"
      ]
     },
     "execution_count": 242,
     "metadata": {},
     "output_type": "execute_result"
    }
   ],
   "source": [
    "import itertools\n",
    "\n",
    "iter = itertools.permutations([\"a\", \"b\", \"c\"])\n",
    "list(iter)"
   ]
  },
  {
   "cell_type": "code",
   "execution_count": null,
   "id": "0c93b17d",
   "metadata": {},
   "outputs": [],
   "source": []
  },
  {
   "cell_type": "markdown",
   "id": "f76b6bd8",
   "metadata": {},
   "source": [
    "## 36- Echanger 2 nombres en une seule ligne de code"
   ]
  },
  {
   "cell_type": "code",
   "execution_count": 152,
   "id": "fc740a27",
   "metadata": {},
   "outputs": [
    {
     "name": "stdout",
     "output_type": "stream",
     "text": [
      "25\n",
      "10\n"
     ]
    }
   ],
   "source": [
    "x, y = 10, 25\n",
    "\n",
    "# échange\n",
    "x, y = y, x\n",
    "\n",
    "print(x)\n",
    "print(y)"
   ]
  },
  {
   "cell_type": "markdown",
   "id": "1749f958",
   "metadata": {},
   "source": [
    "## 37- Transposer une matrice\n",
    "\n",
    "Consiste à convertir des colonnes en lignes. On utilise la fonction `zip()` avec l'opérateur `*` pour décompresser une liste qui devient une transposition du donné matrice. "
   ]
  },
  {
   "cell_type": "code",
   "execution_count": 156,
   "id": "087fd250",
   "metadata": {},
   "outputs": [
    {
     "name": "stdout",
     "output_type": "stream",
     "text": [
      "[(10, 20, 40), (30, 15, 0)]\n"
     ]
    }
   ],
   "source": [
    "# matrice\n",
    "matrix = [[10, 30],\n",
    "     [20, 15],\n",
    "     [40, 0]]\n",
    "\n",
    "print(list(zip(*matrix)))"
   ]
  },
  {
   "cell_type": "markdown",
   "id": "d2d9a77a",
   "metadata": {},
   "source": [
    "### Transposer un tableau à 2 dimensions :\n",
    "Transposer un tableau 2D, cela signifie que si la matrice est 2*3 après transposition, ce sera une matrice 3*2."
   ]
  },
  {
   "cell_type": "code",
   "execution_count": 184,
   "id": "1e6f3943",
   "metadata": {},
   "outputs": [
    {
     "name": "stdout",
     "output_type": "stream",
     "text": [
      "[(10, 40), (30, 0), (25, 15)]\n"
     ]
    }
   ],
   "source": [
    "# matrice\n",
    "matrix = [[10, 30, 25],\n",
    "     [40, 0, 15]]\n",
    "\n",
    "transposer_matrice = zip(*matrix)\n",
    "print(list(transposer_matrice))"
   ]
  },
  {
   "cell_type": "markdown",
   "id": "e6e1a772",
   "metadata": {},
   "source": [
    "## 38- Afficher une chaîne N fois"
   ]
  },
  {
   "cell_type": "code",
   "execution_count": 157,
   "id": "cce62f95",
   "metadata": {},
   "outputs": [
    {
     "name": "stdout",
     "output_type": "stream",
     "text": [
      "TestTestTest\n"
     ]
    }
   ],
   "source": [
    "chaine = \"Test\"\n",
    "print(chaine * 3)"
   ]
  },
  {
   "cell_type": "markdown",
   "id": "645f86c9",
   "metadata": {},
   "source": [
    "## 39- Trouver les facteurs d'un nombre "
   ]
  },
  {
   "cell_type": "code",
   "execution_count": 170,
   "id": "b441f826",
   "metadata": {},
   "outputs": [
    {
     "name": "stdout",
     "output_type": "stream",
     "text": [
      "Les facteurs du nombre  50 sont :  [1, 2, 5, 10, 25, 50]\n"
     ]
    }
   ],
   "source": [
    "# nombre à entrer \n",
    "nombre = 50\n",
    "\n",
    "# liste contenant les facteurs\n",
    "liste_facteurs = []\n",
    "\n",
    "# calcul des facteurs avec une boucle qui vérifie la \n",
    "#... divisibilité du nombre avec l'indice d'itération\n",
    "for i in range(1, nombre+1):\n",
    "    if nombre % i == 0 :\n",
    "        liste_facteurs.append(i)\n",
    "        \n",
    "print(\"Les facteurs du nombre \", nombre, \"sont : \", liste_facteurs)"
   ]
  },
  {
   "cell_type": "code",
   "execution_count": 171,
   "id": "29fe8a88",
   "metadata": {},
   "outputs": [],
   "source": [
    "# fonction qui reprend le code\n",
    "def facteurs(nombre):\n",
    "    liste_facteurs = []\n",
    "    \n",
    "    for i in range(1, nombre+1):\n",
    "        if nombre % i == 0 :\n",
    "            liste_facteurs.append(i)\n",
    "        \n",
    "    return liste_facteurs    "
   ]
  },
  {
   "cell_type": "code",
   "execution_count": 174,
   "id": "fa994083",
   "metadata": {},
   "outputs": [
    {
     "data": {
      "text/plain": [
       "[1, 3, 9, 27]"
      ]
     },
     "execution_count": 174,
     "metadata": {},
     "output_type": "execute_result"
    }
   ],
   "source": [
    "facteurs(27)"
   ]
  },
  {
   "cell_type": "markdown",
   "id": "3c0d1592",
   "metadata": {},
   "source": [
    "## 40- Vérifier l'utilisation de la mémoire"
   ]
  },
  {
   "cell_type": "code",
   "execution_count": 177,
   "id": "3cb8c423",
   "metadata": {},
   "outputs": [
    {
     "name": "stdout",
     "output_type": "stream",
     "text": [
      "54\n",
      "51\n",
      "28\n",
      "24\n"
     ]
    }
   ],
   "source": [
    "import sys\n",
    "\n",
    "a, b, c, d = \"abcde\", \"xy\", 2, 89.00\n",
    "print(sys.getsizeof(a))\n",
    "print(sys.getsizeof(b))\n",
    "print(sys.getsizeof(c))\n",
    "print(sys.getsizeof(d))"
   ]
  },
  {
   "cell_type": "markdown",
   "id": "88f16c1f",
   "metadata": {},
   "source": [
    "## 41- Vérifier un anagrammme "
   ]
  },
  {
   "cell_type": "code",
   "execution_count": 200,
   "id": "0c5b88bb",
   "metadata": {},
   "outputs": [
    {
     "name": "stdout",
     "output_type": "stream",
     "text": [
      "True\n",
      "True\n",
      "True\n"
     ]
    }
   ],
   "source": [
    "from collections import Counter\n",
    "\n",
    "def anagramme(mot1, mot2):\n",
    "    mot1 = mot1.lower()\n",
    "    mot2 = mot2.lower()\n",
    "    return Counter(mot1) == Counter(mot2)\n",
    "\n",
    "print(anagramme(\"Francois Rabelais\", \"Alcofribas Nasier\"))\n",
    "print(anagramme(\"TomMarvoloRiddle\", \"IamLordVoldemort\"))\n",
    "print(anagramme(\"Pablo Picasso\", \"Pascal Obispo\"))"
   ]
  },
  {
   "cell_type": "markdown",
   "id": "801e6fe1",
   "metadata": {},
   "source": [
    "## 42- Inspecter un objet avec `dir()`"
   ]
  },
  {
   "cell_type": "code",
   "execution_count": 199,
   "id": "bfab41af",
   "metadata": {},
   "outputs": [
    {
     "name": "stdout",
     "output_type": "stream",
     "text": [
      "['__add__', '__class__', '__contains__', '__delattr__', '__delitem__', '__dir__', '__doc__', '__eq__', '__format__', '__ge__', '__getattribute__', '__getitem__', '__gt__', '__hash__', '__iadd__', '__imul__', '__init__', '__init_subclass__', '__iter__', '__le__', '__len__', '__lt__', '__mul__', '__ne__', '__new__', '__reduce__', '__reduce_ex__', '__repr__', '__reversed__', '__rmul__', '__setattr__', '__setitem__', '__sizeof__', '__str__', '__subclasshook__', 'append', 'clear', 'copy', 'count', 'extend', 'index', 'insert', 'pop', 'remove', 'reverse', 'sort']\n"
     ]
    }
   ],
   "source": [
    "liste = [1, 2, 3]\n",
    "print(dir(liste))"
   ]
  },
  {
   "cell_type": "markdown",
   "id": "780ed5d9",
   "metadata": {},
   "source": [
    "## 43- Enumérer une liste avec `enumerate()`"
   ]
  },
  {
   "cell_type": "code",
   "execution_count": 202,
   "id": "108dad67",
   "metadata": {},
   "outputs": [
    {
     "name": "stdout",
     "output_type": "stream",
     "text": [
      "0 : 10\n",
      "1 : 20\n",
      "2 : 30\n",
      "3 : 40\n"
     ]
    }
   ],
   "source": [
    "liste = [10, 20, 30, 40]\n",
    "\n",
    "for index, valeur in enumerate(liste):\n",
    "    print(index, \":\", valeur)"
   ]
  },
  {
   "cell_type": "markdown",
   "id": "6f9a7753",
   "metadata": {},
   "source": [
    "## 44- Calculer la factorielle de n'importe quel nombre \n",
    "\n",
    "- https://docs.python.org/3/library/functools.html"
   ]
  },
  {
   "cell_type": "code",
   "execution_count": 217,
   "id": "9a17ff79",
   "metadata": {},
   "outputs": [
    {
     "name": "stdout",
     "output_type": "stream",
     "text": [
      "5040\n"
     ]
    }
   ],
   "source": [
    "import functools\n",
    "\n",
    "# entrer le nombre \n",
    "nombre = 7\n",
    "\n",
    "result = (lambda s: functools.reduce(int.__mul__, range(1, s+1), 1))(nombre)\n",
    "print(result)"
   ]
  },
  {
   "cell_type": "markdown",
   "id": "3daa010a",
   "metadata": {},
   "source": [
    "## 45- La fonction `map()`\n",
    "\n",
    "**Sources :**\n",
    "- https://www.digitalocean.com/community/tutorials/how-to-use-the-python-map-function-fr\n",
    "- https://www.geeksforgeeks.org/python-map-function/\n",
    "\n",
    "\"Au lieu d’utiliser une boucle for, la fonction map() permet d’appliquer une fonction à chaque élément d’un itérable. Il peut donc souvent être plus performant, puisqu’il n’applique la fonction qu’un élément à la fois plutôt que de rendre itérative la copie des éléments dans un autre. Ceci est particulièrement utile lorsque l’on travaille sur des programmes traitant de grands ensembles de données. map() peut également prendre plusieurs itérables comme arguments de la fonction en envoyant un élément à la fois de chaque itérable à la fonction.\" "
   ]
  },
  {
   "cell_type": "code",
   "execution_count": 220,
   "id": "f7853af6",
   "metadata": {},
   "outputs": [
    {
     "name": "stdout",
     "output_type": "stream",
     "text": [
      "nombre:1 2 3 4 5 6 \n",
      "[1, 2, 3, 4, 5, 6]\n"
     ]
    }
   ],
   "source": [
    "# L'utilisateur saisi des chiffres (ex:\"1 2 3 4 5 6 \"), sort une liste où chaque chiffre est séparé \n",
    "liste = list(map(int, input(\"nombre:\").split()))\n",
    "print(liste)"
   ]
  },
  {
   "cell_type": "code",
   "execution_count": 222,
   "id": "9e133c17",
   "metadata": {},
   "outputs": [
    {
     "name": "stdout",
     "output_type": "stream",
     "text": [
      "[5, 10, 15, 20, 25, 30]\n"
     ]
    }
   ],
   "source": [
    "# exemple : multiplier les nombres de la liste précédente par 5\n",
    "multiplication = list(map(lambda x: x * 5, liste))\n",
    "print(multiplication)"
   ]
  },
  {
   "cell_type": "markdown",
   "id": "3dd5944f",
   "metadata": {},
   "source": [
    "### autre exemple : "
   ]
  },
  {
   "cell_type": "code",
   "execution_count": 239,
   "id": "e38b71b0",
   "metadata": {},
   "outputs": [
    {
     "name": "stdout",
     "output_type": "stream",
     "text": [
      "[2, 4, 6]\n"
     ]
    }
   ],
   "source": [
    "# PLutôt que de faire :\n",
    "\n",
    "liste = [1, 2, 3]\n",
    "nouvelle_liste = []\n",
    "\n",
    "# fonction addition de x et x\n",
    "def addition(nombre):\n",
    "    resultat = nombre + nombre\n",
    "    return resultat\n",
    "\n",
    "for x in liste :\n",
    "    nouvelle_liste.append(addition(x))\n",
    "    \n",
    "print(nouvelle_liste)"
   ]
  },
  {
   "cell_type": "code",
   "execution_count": 240,
   "id": "2517d988",
   "metadata": {},
   "outputs": [
    {
     "name": "stdout",
     "output_type": "stream",
     "text": [
      "<map object at 0x000001D835C0C610>\n"
     ]
    }
   ],
   "source": [
    "# Opter pour :\n",
    "\n",
    "liste = [1, 2, 3]\n",
    "\n",
    "# fonction addition de x et x\n",
    "def addition(nombre):\n",
    "    resultat = nombre + nombre\n",
    "    return resultat\n",
    "\n",
    "nouvelle_liste = map(addition, liste)\n",
    "print(nouvelle_liste)"
   ]
  },
  {
   "cell_type": "markdown",
   "id": "65cced37",
   "metadata": {},
   "source": [
    "## 46- Fusionner des listes avec `extend()` et `append()`"
   ]
  },
  {
   "cell_type": "code",
   "execution_count": 233,
   "id": "2abe5076",
   "metadata": {},
   "outputs": [
    {
     "name": "stdout",
     "output_type": "stream",
     "text": [
      "[1, 2, 3, 4, 5, 6]\n"
     ]
    }
   ],
   "source": [
    "liste_1 = [1, 2, 3]\n",
    "liste_2 = [4, 5, 6]\n",
    "\n",
    "# fusionner les listes\n",
    "liste_1.extend(liste_2)\n",
    "print(liste_1)"
   ]
  },
  {
   "cell_type": "code",
   "execution_count": 234,
   "id": "72236f2c",
   "metadata": {},
   "outputs": [
    {
     "name": "stdout",
     "output_type": "stream",
     "text": [
      "[1, 2, 3, [4, 5, 6]]\n"
     ]
    }
   ],
   "source": [
    "liste_1 = [1, 2, 3]\n",
    "liste_2 = [4, 5, 6]\n",
    "\n",
    "# ajouter une liste à un autre\n",
    "liste_1.append(liste_2)\n",
    "print(liste_1)"
   ]
  },
  {
   "cell_type": "markdown",
   "id": "f25e6d63",
   "metadata": {},
   "source": [
    "## 47- Constructions linguistiques\n",
    "\n",
    "Il est préférable d'écrire votre code dans des fonctions, bien que le code procédural soit pris en charge en Python. Il est plus rapide de stocker des variables locales que des variables globales en raison de l'implémentation sous-jacente de Cpython."
   ]
  },
  {
   "cell_type": "code",
   "execution_count": null,
   "id": "2956d00a",
   "metadata": {},
   "outputs": [],
   "source": [
    "# Au lieu d'écrire : \n",
    "for x in range(2**3):\n",
    "    print(x)\n",
    "    \n",
    "# Mieux vaut faire une fonction :\n",
    "def main():\n",
    "    for i in range(2**3):\n",
    "        print(x)\n",
    "main()"
   ]
  },
  {
   "cell_type": "markdown",
   "id": "ce29bb67",
   "metadata": {},
   "source": [
    "## 48- Utiliser des générateurs\n",
    "\n",
    "- https://python.doctor/page-iterateurs-iterator-generateur-generator-python\n",
    "- https://zestedesavoir.com/tutoriels/954/notions-de-python-avancees/3-further/1-generators/\n",
    "\n",
    "Réduisent l'empreinte mémoire et la complexité temporelle moyenne du code que vous avez écrit."
   ]
  },
  {
   "cell_type": "code",
   "execution_count": 243,
   "id": "1fa219ca",
   "metadata": {},
   "outputs": [],
   "source": [
    "def fib():\n",
    "    a, b = 0, 1\n",
    "    while 1 :\n",
    "        yield a\n",
    "        a, b = b, a+b"
   ]
  },
  {
   "cell_type": "markdown",
   "id": "8d4c51b9",
   "metadata": {},
   "source": [
    "## 49- Découpage de chaînes de carctères\n",
    "\n",
    "La chaîne à découper prend 2 arguments obligatoires et 1 facltatif. Les arguments obligatoires sont l'indexde début (inclus) et l'index de fin (non inclus). L'argument facultatif est la valeur d'incrémentation ou de décrémentation (1 par défaut)."
   ]
  },
  {
   "cell_type": "code",
   "execution_count": 245,
   "id": "8cddb797",
   "metadata": {},
   "outputs": [
    {
     "name": "stdout",
     "output_type": "stream",
     "text": [
      "est\n"
     ]
    }
   ],
   "source": [
    "chaine = \"Ceci est un test\"\n",
    "print(chaine[5:8])"
   ]
  },
  {
   "cell_type": "code",
   "execution_count": null,
   "id": "91fe85f3",
   "metadata": {},
   "outputs": [],
   "source": []
  }
 ],
 "metadata": {
  "kernelspec": {
   "display_name": "Python 3 (ipykernel)",
   "language": "python",
   "name": "python3"
  },
  "language_info": {
   "codemirror_mode": {
    "name": "ipython",
    "version": 3
   },
   "file_extension": ".py",
   "mimetype": "text/x-python",
   "name": "python",
   "nbconvert_exporter": "python",
   "pygments_lexer": "ipython3",
   "version": "3.8.3"
  }
 },
 "nbformat": 4,
 "nbformat_minor": 5
}
