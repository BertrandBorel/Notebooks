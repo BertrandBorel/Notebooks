{
 "cells": [
  {
   "cell_type": "markdown",
   "id": "2040e822",
   "metadata": {},
   "source": [
    "# <center> Trucs et astuces en Python </center>\n",
    "\n",
    "**Source :** revue Coding, n°16, p.94-105\n",
    "    \n",
    "## 1- Générer un son :\n",
    "- https://pythonin1minute.com/how-to-beep-in-python/"
   ]
  },
  {
   "cell_type": "code",
   "execution_count": null,
   "id": "4dc3decc",
   "metadata": {},
   "outputs": [],
   "source": [
    "# dans un terminal tappez :\n",
    "print('\\a')"
   ]
  },
  {
   "cell_type": "code",
   "execution_count": 6,
   "id": "4e9d1812",
   "metadata": {},
   "outputs": [],
   "source": [
    "# winsound\n",
    "import winsound\n",
    "winsound.Beep(440, 500)"
   ]
  },
  {
   "cell_type": "code",
   "execution_count": 10,
   "id": "4ea38505",
   "metadata": {},
   "outputs": [],
   "source": [
    "# autre exemple\n",
    "import winsound\n",
    "winsound.PlaySound(\"SystemExclamation\", winsound.SND_ALIAS)"
   ]
  },
  {
   "cell_type": "code",
   "execution_count": 11,
   "id": "dc251a2e",
   "metadata": {},
   "outputs": [],
   "source": [
    "# Personnaliser un son\n",
    "import winsound\n",
    "winsound.PlaySound(\"mon_son.wav\", winsound.SND_FILENAME)"
   ]
  },
  {
   "cell_type": "markdown",
   "id": "4128aa41",
   "metadata": {},
   "source": [
    "## 2- Fusion de dictionnaires (avec **)"
   ]
  },
  {
   "cell_type": "code",
   "execution_count": 14,
   "id": "a6c6baf1",
   "metadata": {},
   "outputs": [
    {
     "name": "stdout",
     "output_type": "stream",
     "text": [
      "{1: 'rouge', 2: 'bleu', 3: 'orange', 4: 'violet', 5: 'marron', 6: 'rose'}\n"
     ]
    }
   ],
   "source": [
    "dico_1 = {1:\"rouge\", 2:\"bleu\", 3:\"orange\"}\n",
    "dico_2 = {4:\"violet\", 5:\"marron\", 6:\"rose\"}\n",
    "\n",
    "dico_3 = {**dico_1, **dico_2}\n",
    "print(dico_3)"
   ]
  },
  {
   "cell_type": "markdown",
   "id": "f30bfd80",
   "metadata": {},
   "source": [
    "## 3- Gestion des chemins en Python\n",
    "\n",
    "L'ajout de **`r`** devant les guillements de chaîne garantit que les chemins de fichiers ne se confondent pas entre Python et les paramètres systèmes.\n",
    "\n",
    "## 4- Lisibilité des grands nombres (millions, milliards)\n",
    "\n",
    "En séparant les zéros avec **`_`**."
   ]
  },
  {
   "cell_type": "code",
   "execution_count": 15,
   "id": "446de19c",
   "metadata": {},
   "outputs": [
    {
     "name": "stdout",
     "output_type": "stream",
     "text": [
      "10000000\n"
     ]
    }
   ],
   "source": [
    "# exemple \n",
    "prix = 10_000_000\n",
    "print(prix)"
   ]
  },
  {
   "cell_type": "markdown",
   "id": "699bf1f5",
   "metadata": {},
   "source": [
    "## 5- Inverser une chaîne de caractère"
   ]
  },
  {
   "cell_type": "code",
   "execution_count": 21,
   "id": "e3b285e6",
   "metadata": {},
   "outputs": [
    {
     "name": "stdout",
     "output_type": "stream",
     "text": [
      "ruetanidro\n"
     ]
    }
   ],
   "source": [
    "# exemple \n",
    "chaine = \"ordinateur\"\n",
    "print(chaine[::-1])"
   ]
  },
  {
   "cell_type": "markdown",
   "id": "b2e03c45",
   "metadata": {},
   "source": [
    "## 6- Convertir une liste en dictionnaire"
   ]
  },
  {
   "cell_type": "code",
   "execution_count": 22,
   "id": "97fab6e6",
   "metadata": {},
   "outputs": [
    {
     "name": "stdout",
     "output_type": "stream",
     "text": [
      "{'Pierre': 2000, 'Paul': 1500, 'Jacques': 1200}\n"
     ]
    }
   ],
   "source": [
    "noms = [\"Pierre\", \"Paul\", \"Jacques\"]\n",
    "salaires = [2000, 1500, 1200]\n",
    "\n",
    "dico = dict(zip(noms, salaires))\n",
    "print(dico)"
   ]
  },
  {
   "cell_type": "markdown",
   "id": "6d6ac3eb",
   "metadata": {},
   "source": [
    "## 7- Saisies multiples\n",
    "\n",
    "- https://www.geeksforgeeks.org/taking-multiple-inputs-from-user-in-python/"
   ]
  },
  {
   "cell_type": "code",
   "execution_count": 28,
   "id": "2347d39a",
   "metadata": {},
   "outputs": [
    {
     "name": "stdout",
     "output_type": "stream",
     "text": [
      "Quel est votre nom et votre âge ?Bob 19\n",
      "Bob 19\n"
     ]
    }
   ],
   "source": [
    "# il faut entre les deux valeurs à la suite, séparées par un espace\n",
    "a, b = input(\"Quel est votre nom et votre âge ?\").split()\n",
    "print(a, b)"
   ]
  },
  {
   "cell_type": "code",
   "execution_count": 29,
   "id": "95bb8173",
   "metadata": {},
   "outputs": [
    {
     "name": "stdout",
     "output_type": "stream",
     "text": [
      "Enter two values: 3 6\n",
      "First number is 3 and second number is 6\n",
      "\n"
     ]
    }
   ],
   "source": [
    "a, b = input(\"Enter two values: \").split()\n",
    "print(\"First number is {} and second number is {}\".format(a, b))\n",
    "print()"
   ]
  },
  {
   "cell_type": "code",
   "execution_count": 27,
   "id": "6cca263e",
   "metadata": {},
   "outputs": [
    {
     "name": "stdout",
     "output_type": "stream",
     "text": [
      "Enter two values: 3 8\n",
      "Number of boys:  3\n",
      "Number of girls:  8\n",
      "\n"
     ]
    }
   ],
   "source": [
    "x, y = input(\"Enter two values: \").split()\n",
    "print(\"Number of boys: \", x)\n",
    "print(\"Number of girls: \", y)\n",
    "print()"
   ]
  },
  {
   "cell_type": "markdown",
   "id": "6e63d4b8",
   "metadata": {},
   "source": [
    "## 8- Eteindre le PC"
   ]
  },
  {
   "cell_type": "code",
   "execution_count": 30,
   "id": "a526e4dd",
   "metadata": {},
   "outputs": [],
   "source": [
    "# import os\n",
    "# os.system(\"window -s\")"
   ]
  },
  {
   "cell_type": "code",
   "execution_count": null,
   "id": "6607a9c3",
   "metadata": {},
   "outputs": [],
   "source": [
    "# import os\n",
    "# os.system(\"shutdown -s\")"
   ]
  },
  {
   "cell_type": "markdown",
   "id": "a04c45a1",
   "metadata": {},
   "source": [
    "## 9- Arguments multiples\n",
    "\n",
    "- https://www.learnpython.org/en/Multiple_Function_Arguments\n",
    "\n",
    "Si on ne sait pas à l'avance combien d'arguments un fonction doit recueillir, on peut accepter un nombre illimité d'arguments :"
   ]
  },
  {
   "cell_type": "code",
   "execution_count": 45,
   "id": "f55a997a",
   "metadata": {},
   "outputs": [],
   "source": [
    "# Exemple :\n",
    "def nombre(*num):\n",
    "    print(num)"
   ]
  },
  {
   "cell_type": "code",
   "execution_count": 47,
   "id": "3bb126e3",
   "metadata": {},
   "outputs": [
    {
     "name": "stdout",
     "output_type": "stream",
     "text": [
      "(1, 2, 3, 4, 5)\n"
     ]
    }
   ],
   "source": [
    "nombre(1, 2, 3, 4, 5)"
   ]
  },
  {
   "cell_type": "code",
   "execution_count": 48,
   "id": "70f7209a",
   "metadata": {},
   "outputs": [],
   "source": [
    "# Autre exemple :\n",
    "def foo(first, second, third, *therest):\n",
    "    print(\"First: %s\" % first)\n",
    "    print(\"Second: %s\" % second)\n",
    "    print(\"Third: %s\" % third)\n",
    "    print(\"And all the rest... %s\" % list(therest))"
   ]
  },
  {
   "cell_type": "code",
   "execution_count": 49,
   "id": "1030e440",
   "metadata": {},
   "outputs": [
    {
     "name": "stdout",
     "output_type": "stream",
     "text": [
      "First: 1\n",
      "Second: 2\n",
      "Third: 3\n",
      "And all the rest... [4, 5]\n"
     ]
    }
   ],
   "source": [
    "foo(1, 2, 3, 4, 5)"
   ]
  },
  {
   "cell_type": "markdown",
   "id": "bb33e64a",
   "metadata": {},
   "source": [
    "## 10- Lire les mots de passe en tant qu'entrée utilisateur\n",
    "\n",
    "Masquer le mot de passe saisi par **`*`**."
   ]
  },
  {
   "cell_type": "code",
   "execution_count": 52,
   "id": "e3f02916",
   "metadata": {},
   "outputs": [
    {
     "name": "stdout",
     "output_type": "stream",
     "text": [
      "Entrez le nom d'utilisateur : test\n",
      "Entrez le mot de passe : ········\n"
     ]
    }
   ],
   "source": [
    "from getpass import getpass\n",
    "\n",
    "usern = input(\"Entrez le nom d'utilisateur : \")\n",
    "passw = getpass('Entrez le mot de passe : ')"
   ]
  },
  {
   "cell_type": "markdown",
   "id": "98531801",
   "metadata": {},
   "source": [
    "## 11- Calculer le temps d'exécution d'un programme\n",
    "\n",
    "- https://www.programiz.com/python-programming/time"
   ]
  },
  {
   "cell_type": "code",
   "execution_count": 66,
   "id": "4b7ac4fa",
   "metadata": {},
   "outputs": [
    {
     "name": "stdout",
     "output_type": "stream",
     "text": [
      "0.10440421104431152\n"
     ]
    }
   ],
   "source": [
    "import time\n",
    "\n",
    "# programme \n",
    "def fonction_test():\n",
    "    compteur = 0\n",
    "    while compteur < 1000000 :\n",
    "        compteur += 1\n",
    "\n",
    "startTime = time.time()\n",
    "\n",
    "# appel de la fonction\n",
    "fonction_test()\n",
    "\n",
    "endTime = time.time()\n",
    "totalTime = endTime - startTime\n",
    "\n",
    "print(totalTime)\n"
   ]
  },
  {
   "cell_type": "markdown",
   "id": "f955d012",
   "metadata": {},
   "source": [
    "## 12- Supprimer des doublons d'une liste"
   ]
  },
  {
   "cell_type": "code",
   "execution_count": 75,
   "id": "0130b0f1",
   "metadata": {},
   "outputs": [
    {
     "name": "stdout",
     "output_type": "stream",
     "text": [
      "[10, 20, 30, 40, 50]\n"
     ]
    }
   ],
   "source": [
    "liste = [10, 10, 10, 20, 30, 40, 50, 50]\n",
    "\n",
    "# supprimer les doublons\n",
    "liste = list(set(liste))\n",
    "\n",
    "# trier (ordre chronologique)\n",
    "liste.sort()\n",
    "\n",
    "print(liste)"
   ]
  },
  {
   "cell_type": "markdown",
   "id": "65d200b3",
   "metadata": {},
   "source": [
    "## 13- Ajouter des éléments à un tuple"
   ]
  },
  {
   "cell_type": "code",
   "execution_count": 77,
   "id": "1efbc147",
   "metadata": {},
   "outputs": [
    {
     "name": "stdout",
     "output_type": "stream",
     "text": [
      "(1, 2, 3, 4, 5)\n"
     ]
    }
   ],
   "source": [
    "my_tuple = (1, 2, 3)\n",
    "\n",
    "# on transforme le tuple en liste\n",
    "my_list = list(my_tuple)\n",
    "\n",
    "# on ajoute des éléments\n",
    "my_list.append(4)\n",
    "my_list.append(5)\n",
    "\n",
    "# on reconvertit en tuple\n",
    "my_tuple = tuple(my_list)\n",
    "print(my_tuple)\n"
   ]
  },
  {
   "cell_type": "markdown",
   "id": "e2b21830",
   "metadata": {},
   "source": [
    "## 14- Vérification si un mot est un palindrome"
   ]
  },
  {
   "cell_type": "code",
   "execution_count": 81,
   "id": "27c47ce3",
   "metadata": {},
   "outputs": [],
   "source": [
    "def palindrome(mot):\n",
    "    palindrome = bool(mot.find(mot[::-1]) + 1)\n",
    "    return palindrome"
   ]
  },
  {
   "cell_type": "code",
   "execution_count": 82,
   "id": "c2459a64",
   "metadata": {},
   "outputs": [
    {
     "data": {
      "text/plain": [
       "True"
      ]
     },
     "execution_count": 82,
     "metadata": {},
     "output_type": "execute_result"
    }
   ],
   "source": [
    "palindrome(\"kayak\")"
   ]
  },
  {
   "cell_type": "code",
   "execution_count": 84,
   "id": "97624caa",
   "metadata": {},
   "outputs": [
    {
     "data": {
      "text/plain": [
       "False"
      ]
     },
     "execution_count": 84,
     "metadata": {},
     "output_type": "execute_result"
    }
   ],
   "source": [
    "palindrome(\"yoyo\")"
   ]
  },
  {
   "cell_type": "markdown",
   "id": "792364b6",
   "metadata": {},
   "source": [
    "## 15- Compréhension de liste"
   ]
  },
  {
   "cell_type": "code",
   "execution_count": 85,
   "id": "f9d9fc85",
   "metadata": {},
   "outputs": [
    {
     "name": "stdout",
     "output_type": "stream",
     "text": [
      "[1, 4, 9, 16, 25, 36, 49, 64, 81]\n"
     ]
    }
   ],
   "source": [
    "# Exemple avec une boucle for\n",
    "liste = []\n",
    "\n",
    "for x in range(1, 10):\n",
    "    liste.append(x**2)\n",
    "\n",
    "print(liste)"
   ]
  },
  {
   "cell_type": "code",
   "execution_count": 86,
   "id": "ab8ea69c",
   "metadata": {},
   "outputs": [
    {
     "name": "stdout",
     "output_type": "stream",
     "text": [
      "[1, 4, 9, 16, 25, 36, 49, 64, 81]\n"
     ]
    }
   ],
   "source": [
    "# Exemple avec une compréhension de liste\n",
    "liste = [x**2 for x in range(1, 10)]\n",
    "print(liste)"
   ]
  },
  {
   "cell_type": "code",
   "execution_count": 133,
   "id": "2d0027aa",
   "metadata": {},
   "outputs": [
    {
     "name": "stdout",
     "output_type": "stream",
     "text": [
      "[1, 9, 25, 49, 81]\n",
      "[1, 9, 25, 49, 81]\n"
     ]
    }
   ],
   "source": [
    "# Autre exemple :\n",
    "\n",
    "# Code standard :\n",
    "impair_carre = []\n",
    "for x in range (1, 11):\n",
    "    if x % 2 == 1 :\n",
    "        impair_carre.append(x**2)\n",
    "print(impair_carre)\n",
    "\n",
    "# compréhension de liste\n",
    "odd_square = [x**2 for x in range(1, 11) if x % 2 == 1]\n",
    "print(odd_square)"
   ]
  },
  {
   "cell_type": "markdown",
   "id": "0de4d8b0",
   "metadata": {},
   "source": [
    "## 16- Compréhension de dictionnaire"
   ]
  },
  {
   "cell_type": "code",
   "execution_count": 94,
   "id": "93f746dc",
   "metadata": {},
   "outputs": [
    {
     "name": "stdout",
     "output_type": "stream",
     "text": [
      "{1: 1, 2: 4, 3: 9}\n"
     ]
    }
   ],
   "source": [
    "dico = {x:x ** 2 for x in range(1, 4)}\n",
    "print(dico)"
   ]
  },
  {
   "cell_type": "markdown",
   "id": "64989a27",
   "metadata": {},
   "source": [
    "## 17- Opérateur de chaîne"
   ]
  },
  {
   "cell_type": "code",
   "execution_count": 95,
   "id": "0e71d94c",
   "metadata": {},
   "outputs": [
    {
     "name": "stdout",
     "output_type": "stream",
     "text": [
      "True\n"
     ]
    }
   ],
   "source": [
    "nombre = 50\n",
    "resultat = 25 < nombre < 58\n",
    "print(resultat)"
   ]
  },
  {
   "cell_type": "markdown",
   "id": "5392b533",
   "metadata": {},
   "source": [
    "## 18- Scission d'une chaîne de caractères avec **`split()`**"
   ]
  },
  {
   "cell_type": "code",
   "execution_count": 96,
   "id": "9926d219",
   "metadata": {},
   "outputs": [
    {
     "name": "stdout",
     "output_type": "stream",
     "text": [
      "['Ceci', 'est', 'un', 'exemple']\n"
     ]
    }
   ],
   "source": [
    "chaine = \"Ceci est un exemple\"\n",
    "print(chaine.split())"
   ]
  },
  {
   "cell_type": "markdown",
   "id": "f4038e36",
   "metadata": {},
   "source": [
    "## 19- Ralentir du code avec **`time.sleep()`**\n",
    "Permet d'afficher un résultat par exemple."
   ]
  },
  {
   "cell_type": "code",
   "execution_count": 98,
   "id": "e0c401fd",
   "metadata": {},
   "outputs": [
    {
     "name": "stdout",
     "output_type": "stream",
     "text": [
      "Temps de latence de 2 secondes...\n",
      "Terminé !\n"
     ]
    }
   ],
   "source": [
    "import time\n",
    "\n",
    "print(\"Temps de latence de 2 secondes...\")\n",
    "# paramètre : temps en secondes\n",
    "time.sleep(2)\n",
    "print(\"Terminé !\")"
   ]
  },
  {
   "cell_type": "markdown",
   "id": "35d91f98",
   "metadata": {},
   "source": [
    "## 20- Compter le nombre d'occurences de mots dans une liste\n",
    "- https://docs.python.org/3/library/collections.html#collections.Counter"
   ]
  },
  {
   "cell_type": "code",
   "execution_count": 113,
   "id": "f5a4ab5a",
   "metadata": {},
   "outputs": [
    {
     "data": {
      "text/plain": [
       "Counter({'chat': 2, 'chien': 1, 'oiseau': 1})"
      ]
     },
     "execution_count": 113,
     "metadata": {},
     "output_type": "execute_result"
    }
   ],
   "source": [
    "from collections import Counter\n",
    "\n",
    "liste = ['chat', 'chien', 'oiseau', 'chat']\n",
    "Counter(liste)"
   ]
  },
  {
   "cell_type": "markdown",
   "id": "a1a53e43",
   "metadata": {},
   "source": [
    "## 21- Créer une boucle `for` avec `else`"
   ]
  },
  {
   "cell_type": "code",
   "execution_count": 115,
   "id": "f7b56c09",
   "metadata": {},
   "outputs": [
    {
     "name": "stdout",
     "output_type": "stream",
     "text": [
      "1\n",
      "2\n",
      "3\n",
      "Boucle terminée\n"
     ]
    }
   ],
   "source": [
    "# Le else est activé une fois la boucle achevée\n",
    "\n",
    "for x in range(1, 4):\n",
    "    print(x)\n",
    "else :\n",
    "    print(\"Boucle terminée\")"
   ]
  },
  {
   "cell_type": "markdown",
   "id": "520dfa94",
   "metadata": {},
   "source": [
    "## 22- Fonction **lambda**\n",
    "\n",
    "Lambda est une mini fonction d'une ligne définie par l'utilisateur. "
   ]
  },
  {
   "cell_type": "code",
   "execution_count": 116,
   "id": "dc64e730",
   "metadata": {},
   "outputs": [
    {
     "name": "stdout",
     "output_type": "stream",
     "text": [
      "25\n"
     ]
    }
   ],
   "source": [
    "# carré de x\n",
    "nombre = lambda x : x**2\n",
    "print(nombre(5))"
   ]
  },
  {
   "cell_type": "code",
   "execution_count": 117,
   "id": "f6554353",
   "metadata": {},
   "outputs": [
    {
     "name": "stdout",
     "output_type": "stream",
     "text": [
      "4\n"
     ]
    }
   ],
   "source": [
    "# addition de x + x\n",
    "addition = lambda x : x + x\n",
    "print(addition(2))"
   ]
  },
  {
   "cell_type": "markdown",
   "id": "8d5e2a7b",
   "metadata": {},
   "source": [
    "## 23- Renvoyer plusieurs résultats d'une fonction"
   ]
  },
  {
   "cell_type": "code",
   "execution_count": 118,
   "id": "70592637",
   "metadata": {},
   "outputs": [
    {
     "name": "stdout",
     "output_type": "stream",
     "text": [
      "(1, 2, 3)\n"
     ]
    }
   ],
   "source": [
    "def valeurs():\n",
    "    return 1, 2, 3\n",
    "\n",
    "print(valeurs())"
   ]
  },
  {
   "cell_type": "markdown",
   "id": "b72ea404",
   "metadata": {},
   "source": [
    "## 24- Faire une copie profonde\n",
    "- https://fr.quora.com/Quest-ce-quune-copie-profonde-et-une-copie-superficielle-en-python"
   ]
  },
  {
   "cell_type": "code",
   "execution_count": 119,
   "id": "4f9a05cd",
   "metadata": {},
   "outputs": [],
   "source": [
    "import copy\n",
    "\n",
    "liste = ['chat', 'chien', 'oiseau', 'dauphin']\n",
    "\n",
    "liste_copie = copy.deepcopy(liste)"
   ]
  },
  {
   "cell_type": "markdown",
   "id": "b5e210a7",
   "metadata": {},
   "source": [
    "## 25- Concaténation de chaînes avec **`join()`**"
   ]
  },
  {
   "cell_type": "code",
   "execution_count": 121,
   "id": "2fad2efe",
   "metadata": {},
   "outputs": [
    {
     "name": "stdout",
     "output_type": "stream",
     "text": [
      "test\n"
     ]
    }
   ],
   "source": [
    "lettres = ['t', 'e', 's', 't']\n",
    "\n",
    "mot = \"\".join(lettres)\n",
    "print(mot)"
   ]
  },
  {
   "cell_type": "markdown",
   "id": "caf1777f",
   "metadata": {},
   "source": [
    "## 26- Inversion d'une chaîne "
   ]
  },
  {
   "cell_type": "code",
   "execution_count": 122,
   "id": "da1262bc",
   "metadata": {},
   "outputs": [
    {
     "name": "stdout",
     "output_type": "stream",
     "text": [
      "bonjour\n"
     ]
    }
   ],
   "source": [
    "chaine = \"ruojnob\"\n",
    "\n",
    "print(chaine[::-1])"
   ]
  },
  {
   "cell_type": "markdown",
   "id": "ece1659d",
   "metadata": {},
   "source": [
    "## 27- Utilisation de **`zip()`** avec des listes"
   ]
  },
  {
   "cell_type": "code",
   "execution_count": 123,
   "id": "1b49a265",
   "metadata": {},
   "outputs": [
    {
     "name": "stdout",
     "output_type": "stream",
     "text": [
      "python guido van rossum\n",
      "java james gosling\n",
      "c denis ritchie\n"
     ]
    }
   ],
   "source": [
    "# permet de combiner plusieurs listes de même longueur\n",
    "langages = ['python', 'java', 'c']\n",
    "createurs = ['guido van rossum', 'james gosling', 'denis ritchie']\n",
    "\n",
    "for langages, createurs in zip(langages, createurs) : \n",
    "    print(langages, createurs)"
   ]
  },
  {
   "cell_type": "markdown",
   "id": "00573feb",
   "metadata": {},
   "source": [
    "## 28- Conversion de listes en dictionnaire (avec **`zip()`**)"
   ]
  },
  {
   "cell_type": "code",
   "execution_count": 124,
   "id": "9d4aec7e",
   "metadata": {},
   "outputs": [
    {
     "name": "stdout",
     "output_type": "stream",
     "text": [
      "{'Pierre': 18, 'Paul': 35, 'Jacques': 65}\n"
     ]
    }
   ],
   "source": [
    "utilisateurs = ['Pierre', 'Paul', 'Jacques']\n",
    "ages = [18, 35, 65]\n",
    "\n",
    "# conversion\n",
    "dico = dict(zip(utilisateurs, ages))\n",
    "\n",
    "print(dico)"
   ]
  },
  {
   "cell_type": "markdown",
   "id": "e08ce50b",
   "metadata": {},
   "source": [
    "## 29- L'opérateur **`_`** renvoie le résultat de la dernière expression exécutée"
   ]
  },
  {
   "cell_type": "code",
   "execution_count": 125,
   "id": "594a1a58",
   "metadata": {},
   "outputs": [
    {
     "data": {
      "text/plain": [
       "20"
      ]
     },
     "execution_count": 125,
     "metadata": {},
     "output_type": "execute_result"
    }
   ],
   "source": [
    "# exemple\n",
    "10 + 10"
   ]
  },
  {
   "cell_type": "code",
   "execution_count": 127,
   "id": "0670e1ab",
   "metadata": {},
   "outputs": [
    {
     "data": {
      "text/plain": [
       "20"
      ]
     },
     "execution_count": 127,
     "metadata": {},
     "output_type": "execute_result"
    }
   ],
   "source": [
    "# dernier résultat\n",
    "_"
   ]
  },
  {
   "cell_type": "markdown",
   "id": "2addf3af",
   "metadata": {},
   "source": [
    "## 30- Ouvrir un site web"
   ]
  },
  {
   "cell_type": "code",
   "execution_count": 128,
   "id": "d03a5bf3",
   "metadata": {},
   "outputs": [
    {
     "data": {
      "text/plain": [
       "True"
      ]
     },
     "execution_count": 128,
     "metadata": {},
     "output_type": "execute_result"
    }
   ],
   "source": [
    "import webbrowser\n",
    "webbrowser.open('http://www.python.org')"
   ]
  },
  {
   "cell_type": "markdown",
   "id": "3a889aeb",
   "metadata": {},
   "source": [
    "## 31- Texte en couleur"
   ]
  },
  {
   "cell_type": "code",
   "execution_count": 132,
   "id": "dce03625",
   "metadata": {},
   "outputs": [
    {
     "name": "stdout",
     "output_type": "stream",
     "text": [
      "\u001b[32mCeci est un test\u001b[0m\n",
      "\u001b[31mCeci est un test\u001b[0m\n",
      "\u001b[34mCeci est un test\u001b[0m\n"
     ]
    }
   ],
   "source": [
    "from termcolor import colored\n",
    "\n",
    "print(colored(\"Ceci est un test\", \"green\"))\n",
    "print(colored(\"Ceci est un test\", \"red\"))\n",
    "print(colored(\"Ceci est un test\", \"blue\"))"
   ]
  },
  {
   "cell_type": "code",
   "execution_count": null,
   "id": "d6ee13ce",
   "metadata": {},
   "outputs": [],
   "source": []
  }
 ],
 "metadata": {
  "kernelspec": {
   "display_name": "Python 3 (ipykernel)",
   "language": "python",
   "name": "python3"
  },
  "language_info": {
   "codemirror_mode": {
    "name": "ipython",
    "version": 3
   },
   "file_extension": ".py",
   "mimetype": "text/x-python",
   "name": "python",
   "nbconvert_exporter": "python",
   "pygments_lexer": "ipython3",
   "version": "3.8.3"
  }
 },
 "nbformat": 4,
 "nbformat_minor": 5
}
