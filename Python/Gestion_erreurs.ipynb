{
 "cells": [
  {
   "cell_type": "markdown",
   "id": "c564a29e",
   "metadata": {},
   "source": [
    "# <center> Gestion d'erreurs </center>\n",
    "\n",
    "**Objectif :** Gérer les erreurs avec Python.\n",
    "    \n",
    "**Source :** \n",
    "-"
   ]
  },
  {
   "cell_type": "markdown",
   "id": "9439a3c0",
   "metadata": {},
   "source": [
    "# Try/except\n",
    "\n",
    "S'il y a une erreur dans le `try` alors le code de `except` est appliqué."
   ]
  },
  {
   "cell_type": "code",
   "execution_count": 12,
   "id": "2cc2111a",
   "metadata": {},
   "outputs": [
    {
     "name": "stdout",
     "output_type": "stream",
     "text": [
      "Impossible !\n"
     ]
    }
   ],
   "source": [
    "# exemple \n",
    "\n",
    "try :\n",
    "    # on divise 0 par 0\n",
    "    calcul = 0 / 0\n",
    "except :\n",
    "    print(\"Impossible !\")"
   ]
  },
  {
   "cell_type": "markdown",
   "id": "1d06a388",
   "metadata": {},
   "source": [
    "### Autre exemple : \n",
    "\n",
    "Erreur de type. On divise un nombre par une chaîne de caractères."
   ]
  },
  {
   "cell_type": "code",
   "execution_count": 13,
   "id": "9525d3e2",
   "metadata": {},
   "outputs": [
    {
     "name": "stdout",
     "output_type": "stream",
     "text": [
      "Erreur...\n"
     ]
    }
   ],
   "source": [
    "try :\n",
    "    resulat = 6 / \"renard\"\n",
    "except :\n",
    "    print(\"Erreur...\")"
   ]
  },
  {
   "cell_type": "markdown",
   "id": "a0f9e0dd",
   "metadata": {},
   "source": [
    "### On peut spécifier l'erreur à traiter "
   ]
  },
  {
   "cell_type": "code",
   "execution_count": 16,
   "id": "f950f2e2",
   "metadata": {},
   "outputs": [
    {
     "name": "stdout",
     "output_type": "stream",
     "text": [
      "Erreur :  unsupported operand type(s) for /: 'int' and 'str'\n"
     ]
    }
   ],
   "source": [
    "try:\n",
    "    0 / \"test\"\n",
    "except TypeError as e:\n",
    "    print(\"Erreur : \", e)"
   ]
  },
  {
   "cell_type": "markdown",
   "id": "253b99c4",
   "metadata": {},
   "source": [
    "## Avec `finally()`\n",
    "\n",
    "L'instruction passé dans ce bloc sera appliquée quoi qu'il arrive"
   ]
  },
  {
   "cell_type": "code",
   "execution_count": 18,
   "id": "15c21f72",
   "metadata": {},
   "outputs": [
    {
     "name": "stdout",
     "output_type": "stream",
     "text": [
      "Erreur :  unsupported operand type(s) for /: 'int' and 'str'\n",
      "Cette phrase s'affiche quoi qu'il arrive\n"
     ]
    }
   ],
   "source": [
    "try:\n",
    "    0 / \"test\"\n",
    "except TypeError as e:\n",
    "    print(\"Erreur : \", e)\n",
    "finally :\n",
    "    print(\"Cette phrase s'affiche quoi qu'il arrive\")"
   ]
  },
  {
   "cell_type": "markdown",
   "id": "a09a970e",
   "metadata": {},
   "source": [
    "## Avec `else()`\n",
    "\n",
    "lorsqu'il n'y a pas d'erreur dans le try/except, alors `else` est appliqué."
   ]
  },
  {
   "cell_type": "code",
   "execution_count": 24,
   "id": "700b2f2c",
   "metadata": {},
   "outputs": [
    {
     "name": "stdout",
     "output_type": "stream",
     "text": [
      "ok\n"
     ]
    }
   ],
   "source": [
    "try:\n",
    "    1 + 1\n",
    "except : \n",
    "    print(\"except\")\n",
    "else :\n",
    "    print(\"ok\")"
   ]
  },
  {
   "cell_type": "markdown",
   "id": "5b21ee25",
   "metadata": {},
   "source": [
    "---\n",
    "\n",
    "## Lever une exception"
   ]
  }
 ],
 "metadata": {
  "kernelspec": {
   "display_name": "Python 3 (ipykernel)",
   "language": "python",
   "name": "python3"
  },
  "language_info": {
   "codemirror_mode": {
    "name": "ipython",
    "version": 3
   },
   "file_extension": ".py",
   "mimetype": "text/x-python",
   "name": "python",
   "nbconvert_exporter": "python",
   "pygments_lexer": "ipython3",
   "version": "3.8.3"
  }
 },
 "nbformat": 4,
 "nbformat_minor": 5
}
