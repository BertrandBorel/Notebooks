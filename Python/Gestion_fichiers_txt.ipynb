{
 "cells": [
  {
   "cell_type": "markdown",
   "id": "da508fee",
   "metadata": {},
   "source": [
    "# <center> Gestion de fichiers txt </center>\n",
    "\n",
    "**source :**\n",
    "\n",
    "- https://www.w3schools.com/python/python_file_open.asp\n",
    "- https://www.pythontutorial.net/python-basics/python-read-text-file/"
   ]
  },
  {
   "cell_type": "markdown",
   "id": "2ae51c14",
   "metadata": {},
   "source": [
    "## Créer un fichier txt"
   ]
  },
  {
   "cell_type": "code",
   "execution_count": null,
   "id": "deeddf18",
   "metadata": {},
   "outputs": [],
   "source": [
    "with open('nom_fichier.txt', 'w') as file:\n",
    "    file.write('texte à écrire')"
   ]
  },
  {
   "cell_type": "markdown",
   "id": "d58699d1",
   "metadata": {},
   "source": [
    "### Ajouter un ligne au fichier"
   ]
  },
  {
   "cell_type": "code",
   "execution_count": null,
   "id": "e4adab66",
   "metadata": {},
   "outputs": [],
   "source": [
    "with open('nom_fichier.txt', 'a') as file :\n",
    "    file.write('ajouter du texte')"
   ]
  },
  {
   "cell_type": "markdown",
   "id": "075acd07",
   "metadata": {},
   "source": [
    "## Ouvrir et lire un fichier txt"
   ]
  },
  {
   "cell_type": "code",
   "execution_count": 9,
   "id": "f1d6361c",
   "metadata": {},
   "outputs": [
    {
     "name": "stdout",
     "output_type": "stream",
     "text": [
      "François Dosse , Pierre Vidal-Naquet : une vie , La Découverte, Paris, 2020, 9782707194213 \n",
      "François Hartog , Chronos : l'Occident aux prises avec le temps , Gallimard, Paris, 2020, 9782072893070 \n",
      "François Hartog , [Anciens, Modernes, Sauvages] , Point, Paris, 2008, 9782757806869 \n",
      "François Dosse , Pierre Nora : homo historicus , Perrin, Paris, 2011, 9782262033798 \n",
      "Pierre Bourdieu , Homo academicus , les Éditions de Minuit, Paris, 1984, 9782707306968 \n",
      "\n"
     ]
    }
   ],
   "source": [
    "f = open(\"biblio.txt\", \"r\")\n",
    "print(f.read())\n",
    "f.close()"
   ]
  },
  {
   "cell_type": "markdown",
   "id": "d425ae4a",
   "metadata": {},
   "source": [
    "### Ne lire qu'une ligne"
   ]
  },
  {
   "cell_type": "code",
   "execution_count": 10,
   "id": "d9e5b928",
   "metadata": {},
   "outputs": [
    {
     "name": "stdout",
     "output_type": "stream",
     "text": [
      "François Dosse , Pierre Vidal-Naquet : une vie , La Découverte, Paris, 2020, 9782707194213 \n",
      "\n"
     ]
    }
   ],
   "source": [
    "f = open(\"biblio.txt\", \"r\")\n",
    "print(f.readline())\n",
    "\n",
    "# pour lire la deuxième line\n",
    "# print(f.readline())\n",
    "f.close()"
   ]
  },
  {
   "cell_type": "markdown",
   "id": "17ef8a11",
   "metadata": {},
   "source": [
    "### Lire ligne par ligne avec une boucle for"
   ]
  },
  {
   "cell_type": "code",
   "execution_count": 11,
   "id": "769d741c",
   "metadata": {},
   "outputs": [
    {
     "name": "stdout",
     "output_type": "stream",
     "text": [
      "François Dosse , Pierre Vidal-Naquet : une vie , La Découverte, Paris, 2020, 9782707194213 \n",
      "\n",
      "François Hartog , Chronos : l'Occident aux prises avec le temps , Gallimard, Paris, 2020, 9782072893070 \n",
      "\n",
      "François Hartog , [Anciens, Modernes, Sauvages] , Point, Paris, 2008, 9782757806869 \n",
      "\n",
      "François Dosse , Pierre Nora : homo historicus , Perrin, Paris, 2011, 9782262033798 \n",
      "\n",
      "Pierre Bourdieu , Homo academicus , les Éditions de Minuit, Paris, 1984, 9782707306968 \n",
      "\n"
     ]
    }
   ],
   "source": [
    "f = open(\"biblio.txt\", \"r\")\n",
    "for x in f:\n",
    "    print(x)\n",
    "    \n",
    "f.close()"
   ]
  },
  {
   "cell_type": "markdown",
   "id": "b7c8b012",
   "metadata": {},
   "source": [
    "## Conversion fichier txt to csv"
   ]
  },
  {
   "cell_type": "code",
   "execution_count": 24,
   "id": "b84e41c5",
   "metadata": {},
   "outputs": [
    {
     "name": "stdout",
     "output_type": "stream",
     "text": [
      "            ISBN\n",
      "0  9782707194213\n",
      "1  9782072893070\n",
      "2  9782757806869\n",
      "3  9782262033798\n",
      "4  9782707306968\n"
     ]
    }
   ],
   "source": [
    "import pandas as pd\n",
    "\n",
    "df = pd.read_csv (r'isbn_2.txt', encoding='utf8')\n",
    "df.to_csv (r'isbn_2.csv', index=None)\n",
    "\n",
    "print(df)"
   ]
  },
  {
   "cell_type": "markdown",
   "id": "d1b87c02",
   "metadata": {},
   "source": [
    "## Fonction : conversion fichier txt to csv"
   ]
  },
  {
   "cell_type": "code",
   "execution_count": 25,
   "id": "708058db",
   "metadata": {},
   "outputs": [],
   "source": [
    "# import pandas as pd\n",
    "# il n'y a qu'indiquer le chemin+nom du fichier (avec l'extension)\n",
    "\n",
    "def convertir_txt(chemin):\n",
    "    lire_fichier = pd.read_csv(chemin)\n",
    "    nom_fichier = input(\"Entrez le nom du nouveau fichier : \")\n",
    "    lire_fichier.to_csv (nom_fichier + \".csv\", index=None)"
   ]
  },
  {
   "cell_type": "code",
   "execution_count": 26,
   "id": "c5f20363",
   "metadata": {},
   "outputs": [],
   "source": [
    "# convertir_txt('liste_ISBN.txt')"
   ]
  },
  {
   "cell_type": "markdown",
   "id": "656fa199",
   "metadata": {},
   "source": [
    "---"
   ]
  },
  {
   "cell_type": "markdown",
   "id": "4f654dbe",
   "metadata": {},
   "source": [
    "## Lire un fichier txt et récupérer ISBN dans une liste\n",
    "\n",
    "Problème : caractères invisibles comme le retour chariot (\"\\n\") ce qui fausse la liste et nécessite des traitements supplémentaires"
   ]
  },
  {
   "cell_type": "code",
   "execution_count": 29,
   "id": "85a0633e",
   "metadata": {},
   "outputs": [],
   "source": [
    "liste_isbn = []\n",
    "\n",
    "f = open(\"isbn_2.txt\", \"r\")\n",
    "for ligne in f:\n",
    "    liste_isbn.append(ligne)\n",
    "    \n",
    "    \n",
    "f.close()\n"
   ]
  },
  {
   "cell_type": "code",
   "execution_count": 30,
   "id": "50e292b1",
   "metadata": {},
   "outputs": [
    {
     "data": {
      "text/plain": [
       "['ISBN\\n',\n",
       " '9782707194213 \\n',\n",
       " '9782072893070 \\n',\n",
       " '9782757806869 \\n',\n",
       " '9782262033798 \\n',\n",
       " '9782707306968 \\n']"
      ]
     },
     "execution_count": 30,
     "metadata": {},
     "output_type": "execute_result"
    }
   ],
   "source": [
    "liste_isbn"
   ]
  },
  {
   "cell_type": "markdown",
   "id": "45430faa",
   "metadata": {},
   "source": [
    "# Solution : passer par un csv"
   ]
  },
  {
   "cell_type": "code",
   "execution_count": 31,
   "id": "ae82cc8f",
   "metadata": {},
   "outputs": [
    {
     "data": {
      "text/html": [
       "<div>\n",
       "<style scoped>\n",
       "    .dataframe tbody tr th:only-of-type {\n",
       "        vertical-align: middle;\n",
       "    }\n",
       "\n",
       "    .dataframe tbody tr th {\n",
       "        vertical-align: top;\n",
       "    }\n",
       "\n",
       "    .dataframe thead th {\n",
       "        text-align: right;\n",
       "    }\n",
       "</style>\n",
       "<table border=\"1\" class=\"dataframe\">\n",
       "  <thead>\n",
       "    <tr style=\"text-align: right;\">\n",
       "      <th></th>\n",
       "      <th>ISBN</th>\n",
       "    </tr>\n",
       "  </thead>\n",
       "  <tbody>\n",
       "    <tr>\n",
       "      <th>0</th>\n",
       "      <td>9782707194213</td>\n",
       "    </tr>\n",
       "    <tr>\n",
       "      <th>1</th>\n",
       "      <td>9782072893070</td>\n",
       "    </tr>\n",
       "    <tr>\n",
       "      <th>2</th>\n",
       "      <td>9782757806869</td>\n",
       "    </tr>\n",
       "    <tr>\n",
       "      <th>3</th>\n",
       "      <td>9782262033798</td>\n",
       "    </tr>\n",
       "    <tr>\n",
       "      <th>4</th>\n",
       "      <td>9782707306968</td>\n",
       "    </tr>\n",
       "  </tbody>\n",
       "</table>\n",
       "</div>"
      ],
      "text/plain": [
       "            ISBN\n",
       "0  9782707194213\n",
       "1  9782072893070\n",
       "2  9782757806869\n",
       "3  9782262033798\n",
       "4  9782707306968"
      ]
     },
     "execution_count": 31,
     "metadata": {},
     "output_type": "execute_result"
    }
   ],
   "source": [
    "# Exemple : \n",
    "df"
   ]
  },
  {
   "cell_type": "code",
   "execution_count": 34,
   "id": "d4e8494b",
   "metadata": {},
   "outputs": [
    {
     "name": "stdout",
     "output_type": "stream",
     "text": [
      "[9782707194213, 9782072893070, 9782757806869, 9782262033798, 9782707306968]\n"
     ]
    }
   ],
   "source": [
    "# On prend chaque ligne du dataframe pour l'ajouter à la liste\n",
    "ISBN = [x for x in df['ISBN']]\n",
    "\n",
    "print(ISBN)"
   ]
  },
  {
   "cell_type": "markdown",
   "id": "441d17c6",
   "metadata": {},
   "source": [
    "## Ajouter une ligne à un fichier txt"
   ]
  },
  {
   "cell_type": "markdown",
   "id": "864ae6fb",
   "metadata": {},
   "source": [
    "### Exemple 1 :"
   ]
  },
  {
   "cell_type": "code",
   "execution_count": 36,
   "id": "1051393a",
   "metadata": {},
   "outputs": [],
   "source": [
    "# Open a file with access mode 'a'\n",
    "file_object = open('sample.txt', 'a')\n",
    "\n",
    "# Append 'hello' at the end of file\n",
    "file_object.write('hello')\n",
    "\n",
    "# Close the file\n",
    "file_object.close()"
   ]
  },
  {
   "cell_type": "markdown",
   "id": "7c2f4abc",
   "metadata": {},
   "source": [
    "### Exemple 2 :"
   ]
  },
  {
   "cell_type": "code",
   "execution_count": 41,
   "id": "9c0ab712",
   "metadata": {},
   "outputs": [],
   "source": [
    "with open('file.txt', 'a') as file:\n",
    "    file.write('input')"
   ]
  }
 ],
 "metadata": {
  "kernelspec": {
   "display_name": "Python 3 (ipykernel)",
   "language": "python",
   "name": "python3"
  },
  "language_info": {
   "codemirror_mode": {
    "name": "ipython",
    "version": 3
   },
   "file_extension": ".py",
   "mimetype": "text/x-python",
   "name": "python",
   "nbconvert_exporter": "python",
   "pygments_lexer": "ipython3",
   "version": "3.8.3"
  }
 },
 "nbformat": 4,
 "nbformat_minor": 5
}
