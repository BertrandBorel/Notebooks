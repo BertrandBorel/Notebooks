{
 "cells": [
  {
   "cell_type": "markdown",
   "id": "940f1def",
   "metadata": {},
   "source": [
    "# <center> Fonction `zip()` </center>\n",
    "\n",
    "**Sources :**\n",
    "- https://docs.python.org/fr/3/library/functions.html#zip \n",
    "- https://waytolearnx.com/2020/07/fonction-zip-python.html\n",
    "- https://allen-downey.developpez.com/livres/python/pensez-python/?page=tuples\n",
    "\n",
    "\n",
    "### Objectif :\n",
    "\n",
    "Itérer sur plusieurs itérables en parallèle, produisant des tuples avec un élément de chacun.\n",
    "Permet par exemple de lier deux listes/colonnes ou de créer un dictionnaire manuellement. \n",
    "\n",
    "### Syntaxe :\n",
    "\n",
    "`zip(*iterables, strict=False)`\n",
    "\n",
    "ou :\n",
    "`zip(iterator1, iterator2, iterator3 ...)`\n"
   ]
  },
  {
   "cell_type": "markdown",
   "id": "4e76255b",
   "metadata": {},
   "source": [
    "## Lier des éléments de deux listes différentes"
   ]
  },
  {
   "cell_type": "code",
   "execution_count": 1,
   "id": "a077a923",
   "metadata": {},
   "outputs": [
    {
     "name": "stdout",
     "output_type": "stream",
     "text": [
      "(1, 'Camion')\n",
      "(2, 'Voiture')\n",
      "(3, 'Moto')\n"
     ]
    }
   ],
   "source": [
    "liste1 = [1, 2, 3]\n",
    "liste2 = [\"Camion\", \"Voiture\", \"Moto\"]\n",
    "\n",
    "for element in zip(liste1, liste2):\n",
    "    print(element)"
   ]
  },
  {
   "cell_type": "markdown",
   "id": "0f9bd770",
   "metadata": {},
   "source": [
    "## Joindre deux tupples ensemble :\n",
    "\n",
    "Note : si l'un des tupples a une taille différente, les éléments supérieurs ne seront pas pris en compte."
   ]
  },
  {
   "cell_type": "code",
   "execution_count": 11,
   "id": "b9f7f37a",
   "metadata": {},
   "outputs": [
    {
     "name": "stdout",
     "output_type": "stream",
     "text": [
      "(('A', 'E'), ('B', 'F'), ('C', 'G'), ('D', 'H'))\n"
     ]
    }
   ],
   "source": [
    "tupple_1 = ('A', 'B', 'C', 'D')\n",
    "tupple_2 = ('E', 'F', 'G', 'H')\n",
    "\n",
    "ensemble = zip(tupple_1, tupple_2)\n",
    "print(tuple(ensemble))"
   ]
  },
  {
   "cell_type": "code",
   "execution_count": 12,
   "id": "310cbbfa",
   "metadata": {},
   "outputs": [
    {
     "data": {
      "text/plain": [
       "[('A', 'E'), ('B', 'F'), ('C', 'G'), ('D', 'H')]"
      ]
     },
     "execution_count": 12,
     "metadata": {},
     "output_type": "execute_result"
    }
   ],
   "source": [
    "# transformer en liste\n",
    "list(zip(tupple_1, tupple_2))"
   ]
  }
 ],
 "metadata": {
  "kernelspec": {
   "display_name": "Python 3 (ipykernel)",
   "language": "python",
   "name": "python3"
  },
  "language_info": {
   "codemirror_mode": {
    "name": "ipython",
    "version": 3
   },
   "file_extension": ".py",
   "mimetype": "text/x-python",
   "name": "python",
   "nbconvert_exporter": "python",
   "pygments_lexer": "ipython3",
   "version": "3.8.3"
  }
 },
 "nbformat": 4,
 "nbformat_minor": 5
}
