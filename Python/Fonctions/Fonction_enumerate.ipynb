{
 "cells": [
  {
   "cell_type": "markdown",
   "id": "b3e6cea9",
   "metadata": {},
   "source": [
    "# <center> Fonction `enumerate()`\n",
    "\n",
    "**Sources :**\n",
    "- https://docs.python.org/fr/3/library/functions.html#enumerate\n",
    "- https://www.programiz.com/python-programming/methods/built-in/enumerate\n",
    "- https://realpython.com/python-enumerate/\n",
    "    \n",
    "\n",
    "### Syntaxe :\n",
    "\n",
    "`enumerate(liste, compteur)`\n",
    "    \n",
    "Exemple : `enumerate(ma_liste, 10)`, commence à compter à partir de 10.\n",
    "    \n",
    "### Description :    \n",
    "    \n",
    "Au lieu d'utiliser une boucle `for` pour parcourir une liste et une variable servant à compter le nombre des éléments (par exemple pour récupérer l'index des éléments), on peut utiliser la fonction `enumerate()`.\n",
    "    \n",
    "## Exemple :"
   ]
  },
  {
   "cell_type": "code",
   "execution_count": 5,
   "id": "dca79402",
   "metadata": {},
   "outputs": [
    {
     "name": "stdout",
     "output_type": "stream",
     "text": [
      "0 a\n",
      "1 b\n",
      "2 c\n",
      "3 d\n"
     ]
    }
   ],
   "source": [
    "# liste des éléments à parcourir\n",
    "alphabet = ['a', 'b', 'c', 'd']\n",
    "# variable servant à récupérer l'index\n",
    "compteur = 0\n",
    "\n",
    "# boucle qui parcourt chaque élément de la liste\n",
    "for lettre in alphabet :\n",
    "    # on affiche l'index et l'élément\n",
    "    print(compteur, lettre)\n",
    "    # on incrémente la variable \n",
    "    compteur += 1"
   ]
  },
  {
   "cell_type": "markdown",
   "id": "d814b492",
   "metadata": {},
   "source": [
    "### Sans passer par une variable compteur :"
   ]
  },
  {
   "cell_type": "code",
   "execution_count": 7,
   "id": "1248999f",
   "metadata": {},
   "outputs": [
    {
     "name": "stdout",
     "output_type": "stream",
     "text": [
      "0 a\n",
      "1 b\n",
      "2 c\n",
      "3 d\n"
     ]
    }
   ],
   "source": [
    "alphabet = ['a', 'b', 'c', 'd']\n",
    "\n",
    "# boucle : récupère un chiffre en fonction de la longueur de la liste\n",
    "for index in range(len(alphabet)):\n",
    "    # on appelle un élément de la liste en fonction de son index\n",
    "    element = alphabet[index]\n",
    "    # affichage de l'index et de l'élément\n",
    "    print(index, element)"
   ]
  },
  {
   "cell_type": "markdown",
   "id": "bfa435d2",
   "metadata": {},
   "source": [
    "## Avec la fonction `enumerate()`:"
   ]
  },
  {
   "cell_type": "code",
   "execution_count": 6,
   "id": "bd4c4759",
   "metadata": {},
   "outputs": [
    {
     "name": "stdout",
     "output_type": "stream",
     "text": [
      "[(0, 'a'), (1, 'b'), (2, 'c'), (3, 'd')]\n"
     ]
    }
   ],
   "source": [
    "# liste des éléments à parcourir\n",
    "alphabet = ['a', 'b', 'c', 'd']\n",
    "\n",
    "# on appelle la fonction dans une variable et on convertit le résultat en liste\n",
    "elements = list(enumerate(alphabet))\n",
    "\n",
    "# affichage :\n",
    "print(elements)"
   ]
  },
  {
   "cell_type": "markdown",
   "id": "330600b9",
   "metadata": {},
   "source": [
    "## Autre exemple :"
   ]
  },
  {
   "cell_type": "code",
   "execution_count": 4,
   "id": "49366f5a",
   "metadata": {},
   "outputs": [
    {
     "name": "stdout",
     "output_type": "stream",
     "text": [
      "[(0, 1), (1, 2), (2, 3)]\n"
     ]
    }
   ],
   "source": [
    "liste = [1, 2, 3]\n",
    "\n",
    "x = list(enumerate(liste))\n",
    "print(x)"
   ]
  },
  {
   "cell_type": "code",
   "execution_count": 8,
   "id": "395c7659",
   "metadata": {},
   "outputs": [
    {
     "name": "stdout",
     "output_type": "stream",
     "text": [
      "(0, 1)\n",
      "(1, 2)\n",
      "(2, 3)\n"
     ]
    }
   ],
   "source": [
    "# afficher chaque élément \n",
    "for element in x :\n",
    "    print(element)"
   ]
  },
  {
   "cell_type": "markdown",
   "id": "f0018cc8",
   "metadata": {},
   "source": [
    "## Parcourir les éléments d'une liste"
   ]
  },
  {
   "cell_type": "code",
   "execution_count": 10,
   "id": "ec9d529b",
   "metadata": {},
   "outputs": [
    {
     "name": "stdout",
     "output_type": "stream",
     "text": [
      "(0, 'chat')\n",
      "(1, 'chien')\n",
      "(2, 'oiseau')\n",
      "(3, 'serpent')\n"
     ]
    }
   ],
   "source": [
    "animaux = ['chat', 'chien', 'oiseau', 'serpent']\n",
    "\n",
    "for animal in enumerate(animaux):\n",
    "    print(animal)"
   ]
  },
  {
   "cell_type": "code",
   "execution_count": 11,
   "id": "a9a2b784",
   "metadata": {},
   "outputs": [
    {
     "name": "stdout",
     "output_type": "stream",
     "text": [
      "0 chat\n",
      "1 chien\n",
      "2 oiseau\n",
      "3 serpent\n"
     ]
    }
   ],
   "source": [
    "# on peut récupérer directement l'index\n",
    "for index, animal in enumerate(animaux):\n",
    "    print(index, animal)"
   ]
  },
  {
   "cell_type": "markdown",
   "id": "3c7cae95",
   "metadata": {},
   "source": [
    "## Changer la valeur de départ du compteur"
   ]
  },
  {
   "cell_type": "code",
   "execution_count": 12,
   "id": "8a7a9054",
   "metadata": {},
   "outputs": [
    {
     "name": "stdout",
     "output_type": "stream",
     "text": [
      "(10, 'rouge')\n",
      "(11, 'vert')\n",
      "(12, 'jaune')\n"
     ]
    }
   ],
   "source": [
    "couleurs = ['rouge', 'vert', 'jaune']\n",
    "\n",
    "for couleur in enumerate(couleurs, 10):\n",
    "    print(couleur)    "
   ]
  },
  {
   "cell_type": "markdown",
   "id": "8dd84813",
   "metadata": {},
   "source": [
    "## Créer deux listes : une avec les éléments, l'autre avec les index"
   ]
  },
  {
   "cell_type": "code",
   "execution_count": 14,
   "id": "c462b21f",
   "metadata": {},
   "outputs": [
    {
     "name": "stdout",
     "output_type": "stream",
     "text": [
      "[0, 1, 2, 3]\n",
      "['France', 'Italie', 'Espagne', 'Allemagne']\n"
     ]
    }
   ],
   "source": [
    "# liste de départ\n",
    "pays = ['France', 'Italie', 'Espagne', 'Allemagne']\n",
    "\n",
    "# Création de deux listes\n",
    "# liste des index\n",
    "liste_index = []\n",
    "# liste contenant les pays\n",
    "liste_elements = []\n",
    "\n",
    "for index, element in enumerate(pays):\n",
    "    # on ajoute chaque element à sa liste respective\n",
    "    liste_index.append(index)\n",
    "    liste_elements.append(element)\n",
    "    \n",
    "print(liste_index)\n",
    "print(liste_elements)    "
   ]
  },
  {
   "cell_type": "markdown",
   "id": "31863c5c",
   "metadata": {},
   "source": [
    "## Fonction `enumerate()` avec une compréhension de liste "
   ]
  },
  {
   "cell_type": "code",
   "execution_count": 17,
   "id": "afa7277a",
   "metadata": {},
   "outputs": [
    {
     "name": "stdout",
     "output_type": "stream",
     "text": [
      "[(0, 'Batman'), (1, 'Superman'), (2, 'Catwoman'), (3, 'Sarkozy')]\n"
     ]
    }
   ],
   "source": [
    "liste = [\"Batman\", \"Superman\", \"Catwoman\", \"Sarkozy\"]\n",
    "\n",
    "liste_index = [x for x in enumerate(liste)]\n",
    "print(liste_index)"
   ]
  }
 ],
 "metadata": {
  "kernelspec": {
   "display_name": "Python 3 (ipykernel)",
   "language": "python",
   "name": "python3"
  },
  "language_info": {
   "codemirror_mode": {
    "name": "ipython",
    "version": 3
   },
   "file_extension": ".py",
   "mimetype": "text/x-python",
   "name": "python",
   "nbconvert_exporter": "python",
   "pygments_lexer": "ipython3",
   "version": "3.8.3"
  }
 },
 "nbformat": 4,
 "nbformat_minor": 5
}
