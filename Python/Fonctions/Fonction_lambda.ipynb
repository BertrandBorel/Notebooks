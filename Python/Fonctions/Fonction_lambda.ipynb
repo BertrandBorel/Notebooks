{
 "cells": [
  {
   "cell_type": "markdown",
   "id": "b24af8ad",
   "metadata": {},
   "source": [
    "# <center> Fonction lambda </center>\n",
    "\n",
    "### Sources :\n",
    "- https://www.w3schools.com/python/python_lambda.asp\n",
    "- https://realpython.com/python-lambda/\n",
    "- https://www.pythoniste.fr/python/a-quoi-servent-les-fonctions-lambdas-en-python/\n",
    "    \n",
    "### Description :\n",
    "Permet de créer rapidement de petites fonctions (sans passer par `def ():`).\n",
    "    \n",
    "### Syntaxe :\n",
    "    \n",
    "`lambda parametre_1, parametre_2 : action`\n",
    "    \n",
    "## Exemples : "
   ]
  },
  {
   "cell_type": "markdown",
   "id": "36fc701b",
   "metadata": {},
   "source": [
    "### Addition"
   ]
  },
  {
   "cell_type": "code",
   "execution_count": 1,
   "id": "133ed787",
   "metadata": {},
   "outputs": [
    {
     "data": {
      "text/plain": [
       "4"
      ]
     },
     "execution_count": 1,
     "metadata": {},
     "output_type": "execute_result"
    }
   ],
   "source": [
    "addition = lambda x, y: x + y\n",
    "addition(2, 2)"
   ]
  },
  {
   "cell_type": "markdown",
   "id": "e95b4b7e",
   "metadata": {},
   "source": [
    "### Peut être appelé sur 1 seule ligne :"
   ]
  },
  {
   "cell_type": "code",
   "execution_count": 4,
   "id": "25f91727",
   "metadata": {},
   "outputs": [
    {
     "data": {
      "text/plain": [
       "2.0"
      ]
     },
     "execution_count": 4,
     "metadata": {},
     "output_type": "execute_result"
    }
   ],
   "source": [
    "# division\n",
    "(lambda x, y: x / y)(10, 5)"
   ]
  },
  {
   "cell_type": "markdown",
   "id": "c22f0c68",
   "metadata": {},
   "source": [
    "## Retourner un élément "
   ]
  },
  {
   "cell_type": "code",
   "execution_count": 5,
   "id": "1b7f1fe4",
   "metadata": {},
   "outputs": [
    {
     "data": {
      "text/plain": [
       "1"
      ]
     },
     "execution_count": 5,
     "metadata": {},
     "output_type": "execute_result"
    }
   ],
   "source": [
    "(lambda x: x)(1)"
   ]
  },
  {
   "cell_type": "markdown",
   "id": "1dc57078",
   "metadata": {},
   "source": [
    "## Ecrire le nom d'une personne"
   ]
  },
  {
   "cell_type": "code",
   "execution_count": 8,
   "id": "5e782d0d",
   "metadata": {},
   "outputs": [
    {
     "data": {
      "text/plain": [
       "'Nom de la personne: Zinedine Zidane'"
      ]
     },
     "execution_count": 8,
     "metadata": {},
     "output_type": "execute_result"
    }
   ],
   "source": [
    "# title() permet d'ajouter une majuscule à la première lettre d'un mot\n",
    "personne = lambda prenom, nom: f'Nom de la personne: {prenom.title()} {nom.title()}'\n",
    "personne('zinedine', 'zidane')"
   ]
  },
  {
   "cell_type": "markdown",
   "id": "8f49c5b0",
   "metadata": {},
   "source": [
    "## Fonction lambda anonyme"
   ]
  },
  {
   "cell_type": "code",
   "execution_count": 15,
   "id": "7d27720b",
   "metadata": {},
   "outputs": [
    {
     "data": {
      "text/plain": [
       "<function __main__.<lambda>(x, y)>"
      ]
     },
     "execution_count": 15,
     "metadata": {},
     "output_type": "execute_result"
    }
   ],
   "source": [
    "lambda x, y: x + y"
   ]
  },
  {
   "cell_type": "code",
   "execution_count": 16,
   "id": "ac8af6fe",
   "metadata": {},
   "outputs": [
    {
     "data": {
      "text/plain": [
       "2"
      ]
     },
     "execution_count": 16,
     "metadata": {},
     "output_type": "execute_result"
    }
   ],
   "source": [
    "# appel de la fonction avec '_'\n",
    "_(1, 1)\n",
    "# prend le dernier résultat exécuté."
   ]
  },
  {
   "cell_type": "markdown",
   "id": "2739dff6",
   "metadata": {},
   "source": [
    "## Dans une variable"
   ]
  },
  {
   "cell_type": "code",
   "execution_count": 18,
   "id": "3724112f",
   "metadata": {},
   "outputs": [
    {
     "name": "stdout",
     "output_type": "stream",
     "text": [
      "150\n"
     ]
    }
   ],
   "source": [
    "# on addition de 100\n",
    "ma_fonction = lambda chiffre : chiffre + 100\n",
    "print(ma_fonction(50))"
   ]
  }
 ],
 "metadata": {
  "kernelspec": {
   "display_name": "Python 3 (ipykernel)",
   "language": "python",
   "name": "python3"
  },
  "language_info": {
   "codemirror_mode": {
    "name": "ipython",
    "version": 3
   },
   "file_extension": ".py",
   "mimetype": "text/x-python",
   "name": "python",
   "nbconvert_exporter": "python",
   "pygments_lexer": "ipython3",
   "version": "3.8.3"
  }
 },
 "nbformat": 4,
 "nbformat_minor": 5
}
