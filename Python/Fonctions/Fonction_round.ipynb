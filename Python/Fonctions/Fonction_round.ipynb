{
 "cells": [
  {
   "cell_type": "markdown",
   "id": "a0920978",
   "metadata": {},
   "source": [
    "# <center> Fonction `round()` </center>\n",
    "\n",
    "**Objectif :** arrondir un nombre.\n",
    "    \n",
    "**Source :** https://www.w3schools.com/python/ref_func_round.asp\n",
    "\n",
    "---"
   ]
  },
  {
   "cell_type": "markdown",
   "id": "d9b91a64",
   "metadata": {},
   "source": [
    "## Exemple :"
   ]
  },
  {
   "cell_type": "code",
   "execution_count": 1,
   "id": "c6d061ef",
   "metadata": {},
   "outputs": [
    {
     "name": "stdout",
     "output_type": "stream",
     "text": [
      "168\n"
     ]
    }
   ],
   "source": [
    "nombre = 167.65899\n",
    "\n",
    "nombre = round(nombre)\n",
    "print(nombre)"
   ]
  },
  {
   "cell_type": "markdown",
   "id": "2438395b",
   "metadata": {},
   "source": [
    "### On peut choisir la quantité de nombres derrières la virgules"
   ]
  },
  {
   "cell_type": "code",
   "execution_count": 3,
   "id": "ae190247",
   "metadata": {},
   "outputs": [
    {
     "name": "stdout",
     "output_type": "stream",
     "text": [
      "6.19\n"
     ]
    }
   ],
   "source": [
    "nombre = 6.192783\n",
    "\n",
    "nombre = round(nombre, 2)\n",
    "print(nombre)"
   ]
  }
 ],
 "metadata": {
  "kernelspec": {
   "display_name": "Python 3 (ipykernel)",
   "language": "python",
   "name": "python3"
  },
  "language_info": {
   "codemirror_mode": {
    "name": "ipython",
    "version": 3
   },
   "file_extension": ".py",
   "mimetype": "text/x-python",
   "name": "python",
   "nbconvert_exporter": "python",
   "pygments_lexer": "ipython3",
   "version": "3.8.3"
  }
 },
 "nbformat": 4,
 "nbformat_minor": 5
}
