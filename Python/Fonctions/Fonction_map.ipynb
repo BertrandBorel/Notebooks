{
 "cells": [
  {
   "cell_type": "markdown",
   "id": "c4c53bbc",
   "metadata": {},
   "source": [
    "# <center> Fonction `map()` </center>\n",
    "\n",
    "**Sources :**\n",
    "- https://docs.python.org/fr/3/library/functions.html#map\n",
    "- https://www.geeksforgeeks.org/python-map-function/\n",
    "- \n",
    "\n",
    "`map(function, iterable, ...)`\n",
    "Renvoie un itérateur appliquant function à chaque élément de iterable, et donnant ses résultats au fur et à mesure avec yield. Si d'autres iterable sont fournis, function doit prendre autant d'arguments, et sera appelée avec les éléments de tous les itérables en parallèle. Avec plusieurs itérables, l'itération s'arrête avec l'itérable le plus court."
   ]
  },
  {
   "cell_type": "markdown",
   "id": "796f84ec",
   "metadata": {},
   "source": [
    "## Exemple : "
   ]
  },
  {
   "cell_type": "code",
   "execution_count": 1,
   "id": "5104f11c",
   "metadata": {},
   "outputs": [
    {
     "name": "stdout",
     "output_type": "stream",
     "text": [
      "[1, 4, 9, 16]\n"
     ]
    }
   ],
   "source": [
    "nombres = [1, 2, 3, 4]\n",
    "\n",
    "# fonction multipliant un nombre par lui-même\n",
    "def fonction_test(nombre):\n",
    "    calc = nombre * nombre\n",
    "    return calc\n",
    "\n",
    "# On appelle la fonction avec la liste 'nombres'\n",
    "resultat = map(fonction_test, nombres)\n",
    "print(list(resultat))"
   ]
  },
  {
   "cell_type": "markdown",
   "id": "77e94dd7",
   "metadata": {},
   "source": [
    "## Idem avec une fonction lambda :"
   ]
  },
  {
   "cell_type": "code",
   "execution_count": 5,
   "id": "d5a632c2",
   "metadata": {},
   "outputs": [
    {
     "name": "stdout",
     "output_type": "stream",
     "text": [
      "[1, 4, 9, 16]\n"
     ]
    }
   ],
   "source": [
    "nombres = [1, 2, 3, 4]\n",
    "\n",
    "resultat = map(lambda x: x*x, nombres)\n",
    "print(list(resultat))"
   ]
  },
  {
   "cell_type": "markdown",
   "id": "957c4b74",
   "metadata": {},
   "source": [
    "## Fonction lambda avec 2 listes : "
   ]
  },
  {
   "cell_type": "code",
   "execution_count": 7,
   "id": "eb6ef180",
   "metadata": {},
   "outputs": [
    {
     "name": "stdout",
     "output_type": "stream",
     "text": [
      "[5, 7, 9]\n"
     ]
    }
   ],
   "source": [
    "liste_1 = [1, 2, 3]\n",
    "liste_2 = [4, 5, 6]\n",
    "\n",
    "# fonction qui addition un nombre de la 1ère liste avec la deuxième\n",
    "calcul = map(lambda nombre1, nombre2 : nombre1 + nombre2, liste_1, liste_2)\n",
    "print(list(calcul))"
   ]
  },
  {
   "cell_type": "markdown",
   "id": "e75e368b",
   "metadata": {},
   "source": [
    "## Calculer la longueur de chaque mot dans une liste"
   ]
  },
  {
   "cell_type": "code",
   "execution_count": 10,
   "id": "3b35a44e",
   "metadata": {},
   "outputs": [
    {
     "name": "stdout",
     "output_type": "stream",
     "text": [
      "[5, 4, 6, 4]\n"
     ]
    }
   ],
   "source": [
    "liste = ['rouge', 'bleu', 'orange', 'vert']\n",
    "\n",
    "def longueur(mot):\n",
    "    return len(mot)\n",
    "\n",
    "test = map(longueur, liste)\n",
    "print(list(test))"
   ]
  },
  {
   "cell_type": "markdown",
   "id": "018c82db",
   "metadata": {},
   "source": [
    "### Idem avec une fonction lambda"
   ]
  },
  {
   "cell_type": "code",
   "execution_count": 12,
   "id": "54242404",
   "metadata": {},
   "outputs": [
    {
     "name": "stdout",
     "output_type": "stream",
     "text": [
      "[5, 4, 6, 4]\n"
     ]
    }
   ],
   "source": [
    "liste = ['rouge', 'bleu', 'orange', 'vert']\n",
    "\n",
    "test = map(lambda x: len(x), liste)\n",
    "print(list(test))"
   ]
  },
  {
   "cell_type": "code",
   "execution_count": null,
   "id": "a8f55984",
   "metadata": {},
   "outputs": [],
   "source": []
  }
 ],
 "metadata": {
  "kernelspec": {
   "display_name": "Python 3 (ipykernel)",
   "language": "python",
   "name": "python3"
  },
  "language_info": {
   "codemirror_mode": {
    "name": "ipython",
    "version": 3
   },
   "file_extension": ".py",
   "mimetype": "text/x-python",
   "name": "python",
   "nbconvert_exporter": "python",
   "pygments_lexer": "ipython3",
   "version": "3.8.3"
  }
 },
 "nbformat": 4,
 "nbformat_minor": 5
}
