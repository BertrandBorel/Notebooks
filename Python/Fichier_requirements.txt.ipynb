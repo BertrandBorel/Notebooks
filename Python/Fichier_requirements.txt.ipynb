{
 "cells": [
  {
   "cell_type": "markdown",
   "id": "4923ccc7",
   "metadata": {},
   "source": [
    "# <center> Créer et utiliser un fichier *requirements.txt* </center>\n",
    "\n",
    "**Sources :**\n",
    "- https://learnpython.com/blog/python-requirements-file/\n",
    "- https://riptutorial.com/python/example/8110/create-a-requirements-txt-file-of-packages-only-in-the-current-virtualenv\n",
    "- https://datagy.io/python-requirements-txt/\n",
    "- https://pip.pypa.io/en/stable/reference/requirements-file-format/"
   ]
  },
  {
   "cell_type": "markdown",
   "id": "0211bded",
   "metadata": {},
   "source": [
    "## Créer le fichier manuellement :\n",
    "\n",
    "- créer un fichier \"requirements.txt\" dans le dossier du programme\n",
    "- ajouter les importations nécessaires\n",
    "\n",
    "## Créer automatiquement le fichier :\n",
    "\n",
    "`pip freeze > requirements.txt`\n",
    "\n",
    "**Note :** Les versions des importations peuvent être précisées. \n",
    "    \n",
    "Exemple : `pandas==1.4.2` ou `scipy==1.8.0`\n",
    "\n",
    "## Installer les packages à partir du fichier *requirements.txt*\n",
    "\n",
    "`pip install -r requirements.txt`\n",
    "\n",
    "## Mettre à jour les packages \n",
    "\n",
    "`pip upgrade -r requirements.txt`\n",
    "\n",
    "ou :\n",
    "\n",
    "`pip install -r requirements.txt --upgrade`\n",
    "\n",
    "### Mettre à jour tous les fichiers :\n",
    "\n",
    "`pip install -U -r requirements.txt`\n",
    "\n",
    "## Désinstaller les packages \n",
    "\n",
    "`pip uninstall -r requirements.txt`\n",
    "\n",
    "## Lister les packages qui ne sont pas à jour\n",
    "\n",
    "`pip list --outdated`\n",
    "\n",
    "### Mise à jour d'un package en particulier\n",
    "\n",
    "`pip install -U nom_package`\n",
    "\n",
    "## Vérifier des dépendances manquantes\n",
    "\n",
    "`python -m pip check`\n",
    "\n",
    "## Créer un *requirements.txt* dans un environnement virtuel\n",
    "\n",
    "`pip freeze --local > requirements.txts`"
   ]
  }
 ],
 "metadata": {
  "kernelspec": {
   "display_name": "Python 3 (ipykernel)",
   "language": "python",
   "name": "python3"
  },
  "language_info": {
   "codemirror_mode": {
    "name": "ipython",
    "version": 3
   },
   "file_extension": ".py",
   "mimetype": "text/x-python",
   "name": "python",
   "nbconvert_exporter": "python",
   "pygments_lexer": "ipython3",
   "version": "3.8.3"
  }
 },
 "nbformat": 4,
 "nbformat_minor": 5
}
