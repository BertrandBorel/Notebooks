{
 "cells": [
  {
   "cell_type": "markdown",
   "id": "b3cfee0a",
   "metadata": {},
   "source": [
    "# <center>Rappel Pandas</center>"
   ]
  },
  {
   "cell_type": "code",
   "execution_count": 1,
   "id": "ea227e20",
   "metadata": {},
   "outputs": [],
   "source": [
    "import pandas as pd\n",
    "import numpy as np"
   ]
  },
  {
   "cell_type": "markdown",
   "id": "9c3e7118",
   "metadata": {},
   "source": [
    "## Fichiers nécessaires :\n",
    "\n",
    "- data.tsv\n",
    "- data.csv\n",
    "- consommation_alcool_eleves.csv"
   ]
  },
  {
   "cell_type": "markdown",
   "id": "6533a46d",
   "metadata": {},
   "source": [
    "## Chargement d'un tsv"
   ]
  },
  {
   "cell_type": "code",
   "execution_count": 2,
   "id": "7476ed3e",
   "metadata": {},
   "outputs": [],
   "source": [
    "data = pd.read_csv(\"data.tsv\", sep='\\t')"
   ]
  },
  {
   "cell_type": "markdown",
   "id": "92887fdc",
   "metadata": {},
   "source": [
    "## Informations"
   ]
  },
  {
   "cell_type": "code",
   "execution_count": 4,
   "id": "877389a6",
   "metadata": {},
   "outputs": [
    {
     "name": "stdout",
     "output_type": "stream",
     "text": [
      "<class 'pandas.core.frame.DataFrame'>\n",
      "RangeIndex: 4622 entries, 0 to 4621\n",
      "Data columns (total 5 columns):\n",
      " #   Column              Non-Null Count  Dtype \n",
      "---  ------              --------------  ----- \n",
      " 0   order_id            4622 non-null   int64 \n",
      " 1   quantity            4622 non-null   int64 \n",
      " 2   item_name           4622 non-null   object\n",
      " 3   choice_description  3376 non-null   object\n",
      " 4   item_price          4622 non-null   object\n",
      "dtypes: int64(2), object(3)\n",
      "memory usage: 180.7+ KB\n"
     ]
    }
   ],
   "source": [
    "data.info()"
   ]
  },
  {
   "cell_type": "markdown",
   "id": "2876f30b",
   "metadata": {},
   "source": [
    "## Description "
   ]
  },
  {
   "cell_type": "code",
   "execution_count": 8,
   "id": "447814d4",
   "metadata": {},
   "outputs": [
    {
     "data": {
      "text/html": [
       "<div>\n",
       "<style scoped>\n",
       "    .dataframe tbody tr th:only-of-type {\n",
       "        vertical-align: middle;\n",
       "    }\n",
       "\n",
       "    .dataframe tbody tr th {\n",
       "        vertical-align: top;\n",
       "    }\n",
       "\n",
       "    .dataframe thead th {\n",
       "        text-align: right;\n",
       "    }\n",
       "</style>\n",
       "<table border=\"1\" class=\"dataframe\">\n",
       "  <thead>\n",
       "    <tr style=\"text-align: right;\">\n",
       "      <th></th>\n",
       "      <th>order_id</th>\n",
       "      <th>quantity</th>\n",
       "    </tr>\n",
       "  </thead>\n",
       "  <tbody>\n",
       "    <tr>\n",
       "      <th>count</th>\n",
       "      <td>4622.000000</td>\n",
       "      <td>4622.000000</td>\n",
       "    </tr>\n",
       "    <tr>\n",
       "      <th>mean</th>\n",
       "      <td>927.254868</td>\n",
       "      <td>1.075725</td>\n",
       "    </tr>\n",
       "    <tr>\n",
       "      <th>std</th>\n",
       "      <td>528.890796</td>\n",
       "      <td>0.410186</td>\n",
       "    </tr>\n",
       "    <tr>\n",
       "      <th>min</th>\n",
       "      <td>1.000000</td>\n",
       "      <td>1.000000</td>\n",
       "    </tr>\n",
       "    <tr>\n",
       "      <th>25%</th>\n",
       "      <td>477.250000</td>\n",
       "      <td>1.000000</td>\n",
       "    </tr>\n",
       "    <tr>\n",
       "      <th>50%</th>\n",
       "      <td>926.000000</td>\n",
       "      <td>1.000000</td>\n",
       "    </tr>\n",
       "    <tr>\n",
       "      <th>75%</th>\n",
       "      <td>1393.000000</td>\n",
       "      <td>1.000000</td>\n",
       "    </tr>\n",
       "    <tr>\n",
       "      <th>max</th>\n",
       "      <td>1834.000000</td>\n",
       "      <td>15.000000</td>\n",
       "    </tr>\n",
       "  </tbody>\n",
       "</table>\n",
       "</div>"
      ],
      "text/plain": [
       "          order_id     quantity\n",
       "count  4622.000000  4622.000000\n",
       "mean    927.254868     1.075725\n",
       "std     528.890796     0.410186\n",
       "min       1.000000     1.000000\n",
       "25%     477.250000     1.000000\n",
       "50%     926.000000     1.000000\n",
       "75%    1393.000000     1.000000\n",
       "max    1834.000000    15.000000"
      ]
     },
     "execution_count": 8,
     "metadata": {},
     "output_type": "execute_result"
    }
   ],
   "source": [
    "data.describe()"
   ]
  },
  {
   "cell_type": "markdown",
   "id": "e4d28144",
   "metadata": {},
   "source": [
    "#### Arrondir les éléments de describe()"
   ]
  },
  {
   "cell_type": "code",
   "execution_count": 21,
   "id": "675e71ca",
   "metadata": {},
   "outputs": [
    {
     "data": {
      "text/html": [
       "<div>\n",
       "<style scoped>\n",
       "    .dataframe tbody tr th:only-of-type {\n",
       "        vertical-align: middle;\n",
       "    }\n",
       "\n",
       "    .dataframe tbody tr th {\n",
       "        vertical-align: top;\n",
       "    }\n",
       "\n",
       "    .dataframe thead th {\n",
       "        text-align: right;\n",
       "    }\n",
       "</style>\n",
       "<table border=\"1\" class=\"dataframe\">\n",
       "  <thead>\n",
       "    <tr style=\"text-align: right;\">\n",
       "      <th></th>\n",
       "      <th>order_id</th>\n",
       "      <th>quantity</th>\n",
       "    </tr>\n",
       "  </thead>\n",
       "  <tbody>\n",
       "    <tr>\n",
       "      <th>count</th>\n",
       "      <td>4622.00</td>\n",
       "      <td>4622.00</td>\n",
       "    </tr>\n",
       "    <tr>\n",
       "      <th>mean</th>\n",
       "      <td>927.25</td>\n",
       "      <td>1.08</td>\n",
       "    </tr>\n",
       "    <tr>\n",
       "      <th>std</th>\n",
       "      <td>528.89</td>\n",
       "      <td>0.41</td>\n",
       "    </tr>\n",
       "    <tr>\n",
       "      <th>min</th>\n",
       "      <td>1.00</td>\n",
       "      <td>1.00</td>\n",
       "    </tr>\n",
       "    <tr>\n",
       "      <th>25%</th>\n",
       "      <td>477.25</td>\n",
       "      <td>1.00</td>\n",
       "    </tr>\n",
       "    <tr>\n",
       "      <th>50%</th>\n",
       "      <td>926.00</td>\n",
       "      <td>1.00</td>\n",
       "    </tr>\n",
       "    <tr>\n",
       "      <th>75%</th>\n",
       "      <td>1393.00</td>\n",
       "      <td>1.00</td>\n",
       "    </tr>\n",
       "    <tr>\n",
       "      <th>max</th>\n",
       "      <td>1834.00</td>\n",
       "      <td>15.00</td>\n",
       "    </tr>\n",
       "  </tbody>\n",
       "</table>\n",
       "</div>"
      ],
      "text/plain": [
       "       order_id  quantity\n",
       "count   4622.00   4622.00\n",
       "mean     927.25      1.08\n",
       "std      528.89      0.41\n",
       "min        1.00      1.00\n",
       "25%      477.25      1.00\n",
       "50%      926.00      1.00\n",
       "75%     1393.00      1.00\n",
       "max     1834.00     15.00"
      ]
     },
     "execution_count": 21,
     "metadata": {},
     "output_type": "execute_result"
    }
   ],
   "source": [
    "data.describe().round(2)"
   ]
  },
  {
   "cell_type": "markdown",
   "id": "43ecba13",
   "metadata": {},
   "source": [
    "#### Décrire juste une variable quantitative"
   ]
  },
  {
   "cell_type": "code",
   "execution_count": 24,
   "id": "4b6c9c6c",
   "metadata": {},
   "outputs": [
    {
     "data": {
      "text/plain": [
       "count    4622.0\n",
       "mean        1.0\n",
       "std         0.0\n",
       "min         1.0\n",
       "25%         1.0\n",
       "50%         1.0\n",
       "75%         1.0\n",
       "max        15.0\n",
       "Name: quantity, dtype: float64"
      ]
     },
     "execution_count": 24,
     "metadata": {},
     "output_type": "execute_result"
    }
   ],
   "source": [
    "data.quantity.describe().round()"
   ]
  },
  {
   "cell_type": "markdown",
   "id": "e7d1d2e5",
   "metadata": {},
   "source": [
    "## Nombre d'observation par champs"
   ]
  },
  {
   "cell_type": "code",
   "execution_count": 25,
   "id": "692d07e4",
   "metadata": {},
   "outputs": [
    {
     "data": {
      "text/plain": [
       "order_id              4622\n",
       "quantity              4622\n",
       "item_name             4622\n",
       "choice_description    3376\n",
       "item_price            4622\n",
       "dtype: int64"
      ]
     },
     "execution_count": 25,
     "metadata": {},
     "output_type": "execute_result"
    }
   ],
   "source": [
    "data.count()"
   ]
  },
  {
   "cell_type": "markdown",
   "id": "a5905b65",
   "metadata": {},
   "source": [
    "## Afficher le nombre de lignes"
   ]
  },
  {
   "cell_type": "code",
   "execution_count": 6,
   "id": "4f53beea",
   "metadata": {},
   "outputs": [
    {
     "data": {
      "text/plain": [
       "4622"
      ]
     },
     "execution_count": 6,
     "metadata": {},
     "output_type": "execute_result"
    }
   ],
   "source": [
    "data.shape[0]"
   ]
  },
  {
   "cell_type": "markdown",
   "id": "c2c4b523",
   "metadata": {},
   "source": [
    "## Afficher le nombre de colonnes"
   ]
  },
  {
   "cell_type": "code",
   "execution_count": 9,
   "id": "b441b2ea",
   "metadata": {},
   "outputs": [
    {
     "data": {
      "text/plain": [
       "5"
      ]
     },
     "execution_count": 9,
     "metadata": {},
     "output_type": "execute_result"
    }
   ],
   "source": [
    "data.shape[1]"
   ]
  },
  {
   "cell_type": "markdown",
   "id": "78063b76",
   "metadata": {},
   "source": [
    "## Afficher le nom des colonnes"
   ]
  },
  {
   "cell_type": "code",
   "execution_count": 10,
   "id": "63593a8d",
   "metadata": {},
   "outputs": [
    {
     "data": {
      "text/plain": [
       "['order_id', 'quantity', 'item_name', 'choice_description', 'item_price']"
      ]
     },
     "execution_count": 10,
     "metadata": {},
     "output_type": "execute_result"
    }
   ],
   "source": [
    "list(data.columns)"
   ]
  },
  {
   "cell_type": "markdown",
   "id": "ade74bc8",
   "metadata": {},
   "source": [
    "## Index"
   ]
  },
  {
   "cell_type": "code",
   "execution_count": 12,
   "id": "a37bf254",
   "metadata": {},
   "outputs": [
    {
     "data": {
      "text/plain": [
       "RangeIndex(start=0, stop=4622, step=1)"
      ]
     },
     "execution_count": 12,
     "metadata": {},
     "output_type": "execute_result"
    }
   ],
   "source": [
    "data.index"
   ]
  },
  {
   "cell_type": "markdown",
   "id": "468ee622",
   "metadata": {},
   "source": [
    "## Nombre d'articles "
   ]
  },
  {
   "cell_type": "code",
   "execution_count": 17,
   "id": "a510a204",
   "metadata": {},
   "outputs": [
    {
     "data": {
      "text/plain": [
       "4972"
      ]
     },
     "execution_count": 17,
     "metadata": {},
     "output_type": "execute_result"
    }
   ],
   "source": [
    "total_items_orders = data.quantity.sum()\n",
    "total_items_orders"
   ]
  },
  {
   "cell_type": "markdown",
   "id": "963c10e3",
   "metadata": {},
   "source": [
    "## Vérifier le type d'une variable"
   ]
  },
  {
   "cell_type": "code",
   "execution_count": 29,
   "id": "1db3ffb7",
   "metadata": {},
   "outputs": [
    {
     "data": {
      "text/plain": [
       "dtype('int64')"
      ]
     },
     "execution_count": 29,
     "metadata": {},
     "output_type": "execute_result"
    }
   ],
   "source": [
    "data.quantity.dtype"
   ]
  },
  {
   "cell_type": "code",
   "execution_count": 26,
   "id": "66cf6275",
   "metadata": {},
   "outputs": [
    {
     "data": {
      "text/plain": [
       "dtype('int64')"
      ]
     },
     "execution_count": 26,
     "metadata": {},
     "output_type": "execute_result"
    }
   ],
   "source": [
    "data.order_id.dtype"
   ]
  },
  {
   "cell_type": "markdown",
   "id": "6fdfcc50",
   "metadata": {},
   "source": [
    "## Mesures statistiques"
   ]
  },
  {
   "cell_type": "markdown",
   "id": "0438af78",
   "metadata": {},
   "source": [
    "#### moyenne"
   ]
  },
  {
   "cell_type": "code",
   "execution_count": 30,
   "id": "8fe36c9f",
   "metadata": {},
   "outputs": [
    {
     "data": {
      "text/plain": [
       "1.0757247944612722"
      ]
     },
     "execution_count": 30,
     "metadata": {},
     "output_type": "execute_result"
    }
   ],
   "source": [
    "data.quantity.mean()"
   ]
  },
  {
   "cell_type": "markdown",
   "id": "698adcb2",
   "metadata": {},
   "source": [
    "#### écart-type"
   ]
  },
  {
   "cell_type": "code",
   "execution_count": 31,
   "id": "1da2e21e",
   "metadata": {},
   "outputs": [
    {
     "data": {
      "text/plain": [
       "0.4101863342575426"
      ]
     },
     "execution_count": 31,
     "metadata": {},
     "output_type": "execute_result"
    }
   ],
   "source": [
    "data.quantity.std()"
   ]
  },
  {
   "cell_type": "markdown",
   "id": "65d56087",
   "metadata": {},
   "source": [
    "#### variance"
   ]
  },
  {
   "cell_type": "code",
   "execution_count": 32,
   "id": "c7e20c4b",
   "metadata": {},
   "outputs": [
    {
     "data": {
      "text/plain": [
       "0.16825282881164047"
      ]
     },
     "execution_count": 32,
     "metadata": {},
     "output_type": "execute_result"
    }
   ],
   "source": [
    "data.quantity.var()"
   ]
  },
  {
   "cell_type": "code",
   "execution_count": 33,
   "id": "ceb674b1",
   "metadata": {},
   "outputs": [
    {
     "data": {
      "text/plain": [
       "1.0"
      ]
     },
     "execution_count": 33,
     "metadata": {},
     "output_type": "execute_result"
    }
   ],
   "source": [
    "data.quantity.median()"
   ]
  },
  {
   "cell_type": "code",
   "execution_count": 34,
   "id": "3a7ebfa2",
   "metadata": {},
   "outputs": [
    {
     "data": {
      "text/plain": [
       "0.01    1.0\n",
       "0.10    1.0\n",
       "0.90    1.0\n",
       "0.99    2.0\n",
       "Name: quantity, dtype: float64"
      ]
     },
     "execution_count": 34,
     "metadata": {},
     "output_type": "execute_result"
    }
   ],
   "source": [
    "data.quantity.quantile([.01, .1, .9, .99])"
   ]
  },
  {
   "cell_type": "markdown",
   "id": "3bb17928",
   "metadata": {},
   "source": [
    "## Histogramme"
   ]
  },
  {
   "cell_type": "code",
   "execution_count": 35,
   "id": "72b8f870",
   "metadata": {},
   "outputs": [
    {
     "data": {
      "text/plain": [
       "<AxesSubplot:ylabel='Frequency'>"
      ]
     },
     "execution_count": 35,
     "metadata": {},
     "output_type": "execute_result"
    },
    {
     "data": {
      "image/png": "[encoded data removed]",
      "text/plain": [
       "<Figure size 432x288 with 1 Axes>"
      ]
     },
     "metadata": {
      "needs_background": "light"
     },
     "output_type": "display_data"
    }
   ],
   "source": [
    "data.plot.hist()"
   ]
  },
  {
   "cell_type": "code",
   "execution_count": 37,
   "id": "11214d44",
   "metadata": {},
   "outputs": [
    {
     "data": {
      "text/plain": [
       "<AxesSubplot:ylabel='Frequency'>"
      ]
     },
     "execution_count": 37,
     "metadata": {},
     "output_type": "execute_result"
    },
    {
     "data": {
      "image/png": "[encoded data removed]",
      "text/plain": [
       "<Figure size 432x288 with 1 Axes>"
      ]
     },
     "metadata": {
      "needs_background": "light"
     },
     "output_type": "display_data"
    }
   ],
   "source": [
    "data.order_id.plot.hist()"
   ]
  },
  {
   "cell_type": "code",
   "execution_count": 52,
   "id": "7824e7de",
   "metadata": {},
   "outputs": [
    {
     "name": "stdout",
     "output_type": "stream",
     "text": [
      "AxesSubplot(0.125,0.125;0.775x0.755)\n",
      "AxesSubplot(0.125,0.125;0.775x0.755)\n"
     ]
    },
    {
     "data": {
      "image/png": "[encoded data removed]",
      "text/plain": [
       "<Figure size 432x288 with 1 Axes>"
      ]
     },
     "metadata": {
      "needs_background": "light"
     },
     "output_type": "display_data"
    }
   ],
   "source": [
    "# histogramme avec grille\n",
    "data.quantity.plot.hist()\n",
    "\n",
    "# histogramme sans= grille\n",
    "data.quantity.hist()"
   ]
  },
  {
   "cell_type": "code",
   "execution_count": 47,
   "id": "05fe9e84",
   "metadata": {},
   "outputs": [
    {
     "data": {
      "text/plain": [
       "array([[<AxesSubplot:title={'center':'order_id'}>,\n",
       "        <AxesSubplot:title={'center':'quantity'}>]], dtype=object)"
      ]
     },
     "execution_count": 47,
     "metadata": {},
     "output_type": "execute_result"
    },
    {
     "data": {
      "image/png": "[encoded data removed]",
      "text/plain": [
       "<Figure size 432x288 with 2 Axes>"
      ]
     },
     "metadata": {
      "needs_background": "light"
     },
     "output_type": "display_data"
    }
   ],
   "source": [
    "data.hist()"
   ]
  },
  {
   "cell_type": "markdown",
   "id": "c639275f",
   "metadata": {},
   "source": [
    "### Enlever la grille"
   ]
  },
  {
   "cell_type": "code",
   "execution_count": 46,
   "id": "cfe1bed7",
   "metadata": {},
   "outputs": [
    {
     "data": {
      "text/plain": [
       "array([[<AxesSubplot:title={'center':'order_id'}>,\n",
       "        <AxesSubplot:title={'center':'quantity'}>]], dtype=object)"
      ]
     },
     "execution_count": 46,
     "metadata": {},
     "output_type": "execute_result"
    },
    {
     "data": {
      "image/png": "[encoded data removed]",
      "text/plain": [
       "<Figure size 432x288 with 2 Axes>"
      ]
     },
     "metadata": {
      "needs_background": "light"
     },
     "output_type": "display_data"
    }
   ],
   "source": [
    "data.hist(grid = False)"
   ]
  },
  {
   "cell_type": "markdown",
   "id": "a7463824",
   "metadata": {},
   "source": [
    "## Boîte à moustache"
   ]
  },
  {
   "cell_type": "code",
   "execution_count": 39,
   "id": "faae3e94",
   "metadata": {},
   "outputs": [
    {
     "data": {
      "text/plain": [
       "<AxesSubplot:>"
      ]
     },
     "execution_count": 39,
     "metadata": {},
     "output_type": "execute_result"
    },
    {
     "data": {
      "image/png": "[encoded data removed]",
      "text/plain": [
       "<Figure size 432x288 with 1 Axes>"
      ]
     },
     "metadata": {
      "needs_background": "light"
     },
     "output_type": "display_data"
    }
   ],
   "source": [
    "data.boxplot()"
   ]
  },
  {
   "cell_type": "code",
   "execution_count": 41,
   "id": "3d03ffe6",
   "metadata": {},
   "outputs": [
    {
     "data": {
      "text/plain": [
       "<AxesSubplot:>"
      ]
     },
     "execution_count": 41,
     "metadata": {},
     "output_type": "execute_result"
    },
    {
     "data": {
      "image/png": "[encoded data removed]",
      "text/plain": [
       "<Figure size 432x288 with 1 Axes>"
      ]
     },
     "metadata": {
      "needs_background": "light"
     },
     "output_type": "display_data"
    }
   ],
   "source": [
    "data.boxplot(column = \"order_id\")"
   ]
  },
  {
   "cell_type": "code",
   "execution_count": 42,
   "id": "a918c56a",
   "metadata": {},
   "outputs": [
    {
     "data": {
      "text/plain": [
       "<AxesSubplot:>"
      ]
     },
     "execution_count": 42,
     "metadata": {},
     "output_type": "execute_result"
    },
    {
     "data": {
      "image/png": "[encoded data removed]",
      "text/plain": [
       "<Figure size 432x288 with 1 Axes>"
      ]
     },
     "metadata": {
      "needs_background": "light"
     },
     "output_type": "display_data"
    }
   ],
   "source": [
    "data.boxplot(column = \"quantity\")"
   ]
  },
  {
   "cell_type": "markdown",
   "id": "d6bc33eb",
   "metadata": {},
   "source": [
    "### Enlever la grille"
   ]
  },
  {
   "cell_type": "code",
   "execution_count": 44,
   "id": "15277995",
   "metadata": {},
   "outputs": [
    {
     "data": {
      "text/plain": [
       "<AxesSubplot:>"
      ]
     },
     "execution_count": 44,
     "metadata": {},
     "output_type": "execute_result"
    },
    {
     "data": {
      "image/png": "[encoded data removed]",
      "text/plain": [
       "<Figure size 432x288 with 1 Axes>"
      ]
     },
     "metadata": {
      "needs_background": "light"
     },
     "output_type": "display_data"
    }
   ],
   "source": [
    "data.boxplot(column = \"order_id\", grid = False)"
   ]
  },
  {
   "cell_type": "markdown",
   "id": "d77824a2",
   "metadata": {},
   "source": [
    "## Variables qualitatives"
   ]
  },
  {
   "cell_type": "code",
   "execution_count": 55,
   "id": "44a7bf60",
   "metadata": {},
   "outputs": [],
   "source": [
    "df = pd.read_csv(\"consommation_alcool_eleves.csv\")"
   ]
  },
  {
   "cell_type": "code",
   "execution_count": 60,
   "id": "1a90d386",
   "metadata": {},
   "outputs": [
    {
     "data": {
      "text/plain": [
       "count     395\n",
       "unique      2\n",
       "top         F\n",
       "freq      208\n",
       "Name: sex, dtype: object"
      ]
     },
     "execution_count": 60,
     "metadata": {},
     "output_type": "execute_result"
    }
   ],
   "source": [
    "df.sex.describe()"
   ]
  },
  {
   "cell_type": "code",
   "execution_count": 61,
   "id": "10927d40",
   "metadata": {},
   "outputs": [
    {
     "data": {
      "text/plain": [
       "array(['F', 'M'], dtype=object)"
      ]
     },
     "execution_count": 61,
     "metadata": {},
     "output_type": "execute_result"
    }
   ],
   "source": [
    "df.sex.unique()"
   ]
  },
  {
   "cell_type": "code",
   "execution_count": 62,
   "id": "cbcbf673",
   "metadata": {},
   "outputs": [
    {
     "data": {
      "text/plain": [
       "F    208\n",
       "M    187\n",
       "Name: sex, dtype: int64"
      ]
     },
     "execution_count": 62,
     "metadata": {},
     "output_type": "execute_result"
    }
   ],
   "source": [
    "df.sex.value_counts()"
   ]
  },
  {
   "cell_type": "code",
   "execution_count": 64,
   "id": "00d6d2bb",
   "metadata": {},
   "outputs": [
    {
     "data": {
      "text/html": [
       "<div>\n",
       "<style scoped>\n",
       "    .dataframe tbody tr th:only-of-type {\n",
       "        vertical-align: middle;\n",
       "    }\n",
       "\n",
       "    .dataframe tbody tr th {\n",
       "        vertical-align: top;\n",
       "    }\n",
       "\n",
       "    .dataframe thead th {\n",
       "        text-align: right;\n",
       "    }\n",
       "</style>\n",
       "<table border=\"1\" class=\"dataframe\">\n",
       "  <thead>\n",
       "    <tr style=\"text-align: right;\">\n",
       "      <th>col_0</th>\n",
       "      <th>freq</th>\n",
       "    </tr>\n",
       "    <tr>\n",
       "      <th>sex</th>\n",
       "      <th></th>\n",
       "    </tr>\n",
       "  </thead>\n",
       "  <tbody>\n",
       "    <tr>\n",
       "      <th>F</th>\n",
       "      <td>208</td>\n",
       "    </tr>\n",
       "    <tr>\n",
       "      <th>M</th>\n",
       "      <td>187</td>\n",
       "    </tr>\n",
       "  </tbody>\n",
       "</table>\n",
       "</div>"
      ],
      "text/plain": [
       "col_0  freq\n",
       "sex        \n",
       "F       208\n",
       "M       187"
      ]
     },
     "execution_count": 64,
     "metadata": {},
     "output_type": "execute_result"
    }
   ],
   "source": [
    "pd.crosstab(df.sex, \"freq\")"
   ]
  },
  {
   "cell_type": "markdown",
   "id": "c2d5c16a",
   "metadata": {},
   "source": [
    "## Diagramme en barres"
   ]
  },
  {
   "cell_type": "code",
   "execution_count": 67,
   "id": "8834f34d",
   "metadata": {},
   "outputs": [
    {
     "data": {
      "text/plain": [
       "<AxesSubplot:xlabel='sex'>"
      ]
     },
     "execution_count": 67,
     "metadata": {},
     "output_type": "execute_result"
    },
    {
     "data": {
      "image/png": "[encoded data removed]",
      "text/plain": [
       "<Figure size 432x288 with 1 Axes>"
      ]
     },
     "metadata": {
      "needs_background": "light"
     },
     "output_type": "display_data"
    }
   ],
   "source": [
    "t = pd.crosstab(df.sex, \"freq\")\n",
    "t.plot.bar()"
   ]
  },
  {
   "cell_type": "markdown",
   "id": "4a8a217e",
   "metadata": {},
   "source": [
    "## Diagramme circulaire"
   ]
  },
  {
   "cell_type": "code",
   "execution_count": 69,
   "id": "61ac8a7e",
   "metadata": {},
   "outputs": [
    {
     "data": {
      "text/plain": [
       "array([<AxesSubplot:ylabel='freq'>], dtype=object)"
      ]
     },
     "execution_count": 69,
     "metadata": {},
     "output_type": "execute_result"
    },
    {
     "data": {
      "image/png": "[encoded data removed]",
      "text/plain": [
       "<Figure size 432x432 with 1 Axes>"
      ]
     },
     "metadata": {},
     "output_type": "display_data"
    }
   ],
   "source": [
    "t = pd.crosstab(df.sex, \"freq\")\n",
    "t.plot.pie(subplots=True, figsize = (6,6))"
   ]
  },
  {
   "cell_type": "markdown",
   "id": "446043e9",
   "metadata": {},
   "source": [
    "---"
   ]
  },
  {
   "cell_type": "markdown",
   "id": "1c2ac359",
   "metadata": {},
   "source": [
    "## Statistiques descriptives"
   ]
  },
  {
   "cell_type": "markdown",
   "id": "71f7c0a3",
   "metadata": {},
   "source": [
    "### Calculer la corrélation entre les différentes variables du jeu de données."
   ]
  },
  {
   "cell_type": "code",
   "execution_count": 71,
   "id": "9acc9af6",
   "metadata": {},
   "outputs": [
    {
     "data": {
      "text/html": [
       "<div>\n",
       "<style scoped>\n",
       "    .dataframe tbody tr th:only-of-type {\n",
       "        vertical-align: middle;\n",
       "    }\n",
       "\n",
       "    .dataframe tbody tr th {\n",
       "        vertical-align: top;\n",
       "    }\n",
       "\n",
       "    .dataframe thead th {\n",
       "        text-align: right;\n",
       "    }\n",
       "</style>\n",
       "<table border=\"1\" class=\"dataframe\">\n",
       "  <thead>\n",
       "    <tr style=\"text-align: right;\">\n",
       "      <th></th>\n",
       "      <th>order_id</th>\n",
       "      <th>quantity</th>\n",
       "    </tr>\n",
       "  </thead>\n",
       "  <tbody>\n",
       "    <tr>\n",
       "      <th>order_id</th>\n",
       "      <td>1.000000</td>\n",
       "      <td>0.032397</td>\n",
       "    </tr>\n",
       "    <tr>\n",
       "      <th>quantity</th>\n",
       "      <td>0.032397</td>\n",
       "      <td>1.000000</td>\n",
       "    </tr>\n",
       "  </tbody>\n",
       "</table>\n",
       "</div>"
      ],
      "text/plain": [
       "          order_id  quantity\n",
       "order_id  1.000000  0.032397\n",
       "quantity  0.032397  1.000000"
      ]
     },
     "execution_count": 71,
     "metadata": {},
     "output_type": "execute_result"
    }
   ],
   "source": [
    "data.corr()"
   ]
  },
  {
   "cell_type": "code",
   "execution_count": 70,
   "id": "2520c361",
   "metadata": {},
   "outputs": [
    {
     "data": {
      "text/html": [
       "<div>\n",
       "<style scoped>\n",
       "    .dataframe tbody tr th:only-of-type {\n",
       "        vertical-align: middle;\n",
       "    }\n",
       "\n",
       "    .dataframe tbody tr th {\n",
       "        vertical-align: top;\n",
       "    }\n",
       "\n",
       "    .dataframe thead th {\n",
       "        text-align: right;\n",
       "    }\n",
       "</style>\n",
       "<table border=\"1\" class=\"dataframe\">\n",
       "  <thead>\n",
       "    <tr style=\"text-align: right;\">\n",
       "      <th></th>\n",
       "      <th>age</th>\n",
       "      <th>Medu</th>\n",
       "      <th>Fedu</th>\n",
       "      <th>traveltime</th>\n",
       "      <th>studytime</th>\n",
       "      <th>failures</th>\n",
       "      <th>famrel</th>\n",
       "      <th>freetime</th>\n",
       "      <th>goout</th>\n",
       "      <th>Dalc</th>\n",
       "      <th>Walc</th>\n",
       "      <th>health</th>\n",
       "      <th>absences</th>\n",
       "      <th>G1</th>\n",
       "      <th>G2</th>\n",
       "      <th>G3</th>\n",
       "    </tr>\n",
       "  </thead>\n",
       "  <tbody>\n",
       "    <tr>\n",
       "      <th>age</th>\n",
       "      <td>1.000000</td>\n",
       "      <td>-0.163658</td>\n",
       "      <td>-0.163438</td>\n",
       "      <td>0.070641</td>\n",
       "      <td>-0.004140</td>\n",
       "      <td>0.243665</td>\n",
       "      <td>0.053940</td>\n",
       "      <td>0.016434</td>\n",
       "      <td>0.126964</td>\n",
       "      <td>0.131125</td>\n",
       "      <td>0.117276</td>\n",
       "      <td>-0.062187</td>\n",
       "      <td>0.175230</td>\n",
       "      <td>-0.064081</td>\n",
       "      <td>-0.143474</td>\n",
       "      <td>-0.161579</td>\n",
       "    </tr>\n",
       "    <tr>\n",
       "      <th>Medu</th>\n",
       "      <td>-0.163658</td>\n",
       "      <td>1.000000</td>\n",
       "      <td>0.623455</td>\n",
       "      <td>-0.171639</td>\n",
       "      <td>0.064944</td>\n",
       "      <td>-0.236680</td>\n",
       "      <td>-0.003914</td>\n",
       "      <td>0.030891</td>\n",
       "      <td>0.064094</td>\n",
       "      <td>0.019834</td>\n",
       "      <td>-0.047123</td>\n",
       "      <td>-0.046878</td>\n",
       "      <td>0.100285</td>\n",
       "      <td>0.205341</td>\n",
       "      <td>0.215527</td>\n",
       "      <td>0.217147</td>\n",
       "    </tr>\n",
       "    <tr>\n",
       "      <th>Fedu</th>\n",
       "      <td>-0.163438</td>\n",
       "      <td>0.623455</td>\n",
       "      <td>1.000000</td>\n",
       "      <td>-0.158194</td>\n",
       "      <td>-0.009175</td>\n",
       "      <td>-0.250408</td>\n",
       "      <td>-0.001370</td>\n",
       "      <td>-0.012846</td>\n",
       "      <td>0.043105</td>\n",
       "      <td>0.002386</td>\n",
       "      <td>-0.012631</td>\n",
       "      <td>0.014742</td>\n",
       "      <td>0.024473</td>\n",
       "      <td>0.190270</td>\n",
       "      <td>0.164893</td>\n",
       "      <td>0.152457</td>\n",
       "    </tr>\n",
       "    <tr>\n",
       "      <th>traveltime</th>\n",
       "      <td>0.070641</td>\n",
       "      <td>-0.171639</td>\n",
       "      <td>-0.158194</td>\n",
       "      <td>1.000000</td>\n",
       "      <td>-0.100909</td>\n",
       "      <td>0.092239</td>\n",
       "      <td>-0.016808</td>\n",
       "      <td>-0.017025</td>\n",
       "      <td>0.028540</td>\n",
       "      <td>0.138325</td>\n",
       "      <td>0.134116</td>\n",
       "      <td>0.007501</td>\n",
       "      <td>-0.012944</td>\n",
       "      <td>-0.093040</td>\n",
       "      <td>-0.153198</td>\n",
       "      <td>-0.117142</td>\n",
       "    </tr>\n",
       "    <tr>\n",
       "      <th>studytime</th>\n",
       "      <td>-0.004140</td>\n",
       "      <td>0.064944</td>\n",
       "      <td>-0.009175</td>\n",
       "      <td>-0.100909</td>\n",
       "      <td>1.000000</td>\n",
       "      <td>-0.173563</td>\n",
       "      <td>0.039731</td>\n",
       "      <td>-0.143198</td>\n",
       "      <td>-0.063904</td>\n",
       "      <td>-0.196019</td>\n",
       "      <td>-0.253785</td>\n",
       "      <td>-0.075616</td>\n",
       "      <td>-0.062700</td>\n",
       "      <td>0.160612</td>\n",
       "      <td>0.135880</td>\n",
       "      <td>0.097820</td>\n",
       "    </tr>\n",
       "    <tr>\n",
       "      <th>failures</th>\n",
       "      <td>0.243665</td>\n",
       "      <td>-0.236680</td>\n",
       "      <td>-0.250408</td>\n",
       "      <td>0.092239</td>\n",
       "      <td>-0.173563</td>\n",
       "      <td>1.000000</td>\n",
       "      <td>-0.044337</td>\n",
       "      <td>0.091987</td>\n",
       "      <td>0.124561</td>\n",
       "      <td>0.136047</td>\n",
       "      <td>0.141962</td>\n",
       "      <td>0.065827</td>\n",
       "      <td>0.063726</td>\n",
       "      <td>-0.354718</td>\n",
       "      <td>-0.355896</td>\n",
       "      <td>-0.360415</td>\n",
       "    </tr>\n",
       "    <tr>\n",
       "      <th>famrel</th>\n",
       "      <td>0.053940</td>\n",
       "      <td>-0.003914</td>\n",
       "      <td>-0.001370</td>\n",
       "      <td>-0.016808</td>\n",
       "      <td>0.039731</td>\n",
       "      <td>-0.044337</td>\n",
       "      <td>1.000000</td>\n",
       "      <td>0.150701</td>\n",
       "      <td>0.064568</td>\n",
       "      <td>-0.077594</td>\n",
       "      <td>-0.113397</td>\n",
       "      <td>0.094056</td>\n",
       "      <td>-0.044354</td>\n",
       "      <td>0.022168</td>\n",
       "      <td>-0.018281</td>\n",
       "      <td>0.051363</td>\n",
       "    </tr>\n",
       "    <tr>\n",
       "      <th>freetime</th>\n",
       "      <td>0.016434</td>\n",
       "      <td>0.030891</td>\n",
       "      <td>-0.012846</td>\n",
       "      <td>-0.017025</td>\n",
       "      <td>-0.143198</td>\n",
       "      <td>0.091987</td>\n",
       "      <td>0.150701</td>\n",
       "      <td>1.000000</td>\n",
       "      <td>0.285019</td>\n",
       "      <td>0.209001</td>\n",
       "      <td>0.147822</td>\n",
       "      <td>0.075733</td>\n",
       "      <td>-0.058078</td>\n",
       "      <td>0.012613</td>\n",
       "      <td>-0.013777</td>\n",
       "      <td>0.011307</td>\n",
       "    </tr>\n",
       "    <tr>\n",
       "      <th>goout</th>\n",
       "      <td>0.126964</td>\n",
       "      <td>0.064094</td>\n",
       "      <td>0.043105</td>\n",
       "      <td>0.028540</td>\n",
       "      <td>-0.063904</td>\n",
       "      <td>0.124561</td>\n",
       "      <td>0.064568</td>\n",
       "      <td>0.285019</td>\n",
       "      <td>1.000000</td>\n",
       "      <td>0.266994</td>\n",
       "      <td>0.420386</td>\n",
       "      <td>-0.009577</td>\n",
       "      <td>0.044302</td>\n",
       "      <td>-0.149104</td>\n",
       "      <td>-0.162250</td>\n",
       "      <td>-0.132791</td>\n",
       "    </tr>\n",
       "    <tr>\n",
       "      <th>Dalc</th>\n",
       "      <td>0.131125</td>\n",
       "      <td>0.019834</td>\n",
       "      <td>0.002386</td>\n",
       "      <td>0.138325</td>\n",
       "      <td>-0.196019</td>\n",
       "      <td>0.136047</td>\n",
       "      <td>-0.077594</td>\n",
       "      <td>0.209001</td>\n",
       "      <td>0.266994</td>\n",
       "      <td>1.000000</td>\n",
       "      <td>0.647544</td>\n",
       "      <td>0.077180</td>\n",
       "      <td>0.111908</td>\n",
       "      <td>-0.094159</td>\n",
       "      <td>-0.064120</td>\n",
       "      <td>-0.054660</td>\n",
       "    </tr>\n",
       "    <tr>\n",
       "      <th>Walc</th>\n",
       "      <td>0.117276</td>\n",
       "      <td>-0.047123</td>\n",
       "      <td>-0.012631</td>\n",
       "      <td>0.134116</td>\n",
       "      <td>-0.253785</td>\n",
       "      <td>0.141962</td>\n",
       "      <td>-0.113397</td>\n",
       "      <td>0.147822</td>\n",
       "      <td>0.420386</td>\n",
       "      <td>0.647544</td>\n",
       "      <td>1.000000</td>\n",
       "      <td>0.092476</td>\n",
       "      <td>0.136291</td>\n",
       "      <td>-0.126179</td>\n",
       "      <td>-0.084927</td>\n",
       "      <td>-0.051939</td>\n",
       "    </tr>\n",
       "    <tr>\n",
       "      <th>health</th>\n",
       "      <td>-0.062187</td>\n",
       "      <td>-0.046878</td>\n",
       "      <td>0.014742</td>\n",
       "      <td>0.007501</td>\n",
       "      <td>-0.075616</td>\n",
       "      <td>0.065827</td>\n",
       "      <td>0.094056</td>\n",
       "      <td>0.075733</td>\n",
       "      <td>-0.009577</td>\n",
       "      <td>0.077180</td>\n",
       "      <td>0.092476</td>\n",
       "      <td>1.000000</td>\n",
       "      <td>-0.029937</td>\n",
       "      <td>-0.073172</td>\n",
       "      <td>-0.097720</td>\n",
       "      <td>-0.061335</td>\n",
       "    </tr>\n",
       "    <tr>\n",
       "      <th>absences</th>\n",
       "      <td>0.175230</td>\n",
       "      <td>0.100285</td>\n",
       "      <td>0.024473</td>\n",
       "      <td>-0.012944</td>\n",
       "      <td>-0.062700</td>\n",
       "      <td>0.063726</td>\n",
       "      <td>-0.044354</td>\n",
       "      <td>-0.058078</td>\n",
       "      <td>0.044302</td>\n",
       "      <td>0.111908</td>\n",
       "      <td>0.136291</td>\n",
       "      <td>-0.029937</td>\n",
       "      <td>1.000000</td>\n",
       "      <td>-0.031003</td>\n",
       "      <td>-0.031777</td>\n",
       "      <td>0.034247</td>\n",
       "    </tr>\n",
       "    <tr>\n",
       "      <th>G1</th>\n",
       "      <td>-0.064081</td>\n",
       "      <td>0.205341</td>\n",
       "      <td>0.190270</td>\n",
       "      <td>-0.093040</td>\n",
       "      <td>0.160612</td>\n",
       "      <td>-0.354718</td>\n",
       "      <td>0.022168</td>\n",
       "      <td>0.012613</td>\n",
       "      <td>-0.149104</td>\n",
       "      <td>-0.094159</td>\n",
       "      <td>-0.126179</td>\n",
       "      <td>-0.073172</td>\n",
       "      <td>-0.031003</td>\n",
       "      <td>1.000000</td>\n",
       "      <td>0.852118</td>\n",
       "      <td>0.801468</td>\n",
       "    </tr>\n",
       "    <tr>\n",
       "      <th>G2</th>\n",
       "      <td>-0.143474</td>\n",
       "      <td>0.215527</td>\n",
       "      <td>0.164893</td>\n",
       "      <td>-0.153198</td>\n",
       "      <td>0.135880</td>\n",
       "      <td>-0.355896</td>\n",
       "      <td>-0.018281</td>\n",
       "      <td>-0.013777</td>\n",
       "      <td>-0.162250</td>\n",
       "      <td>-0.064120</td>\n",
       "      <td>-0.084927</td>\n",
       "      <td>-0.097720</td>\n",
       "      <td>-0.031777</td>\n",
       "      <td>0.852118</td>\n",
       "      <td>1.000000</td>\n",
       "      <td>0.904868</td>\n",
       "    </tr>\n",
       "    <tr>\n",
       "      <th>G3</th>\n",
       "      <td>-0.161579</td>\n",
       "      <td>0.217147</td>\n",
       "      <td>0.152457</td>\n",
       "      <td>-0.117142</td>\n",
       "      <td>0.097820</td>\n",
       "      <td>-0.360415</td>\n",
       "      <td>0.051363</td>\n",
       "      <td>0.011307</td>\n",
       "      <td>-0.132791</td>\n",
       "      <td>-0.054660</td>\n",
       "      <td>-0.051939</td>\n",
       "      <td>-0.061335</td>\n",
       "      <td>0.034247</td>\n",
       "      <td>0.801468</td>\n",
       "      <td>0.904868</td>\n",
       "      <td>1.000000</td>\n",
       "    </tr>\n",
       "  </tbody>\n",
       "</table>\n",
       "</div>"
      ],
      "text/plain": [
       "                 age      Medu      Fedu  traveltime  studytime  failures  \\\n",
       "age         1.000000 -0.163658 -0.163438    0.070641  -0.004140  0.243665   \n",
       "Medu       -0.163658  1.000000  0.623455   -0.171639   0.064944 -0.236680   \n",
       "Fedu       -0.163438  0.623455  1.000000   -0.158194  -0.009175 -0.250408   \n",
       "traveltime  0.070641 -0.171639 -0.158194    1.000000  -0.100909  0.092239   \n",
       "studytime  -0.004140  0.064944 -0.009175   -0.100909   1.000000 -0.173563   \n",
       "failures    0.243665 -0.236680 -0.250408    0.092239  -0.173563  1.000000   \n",
       "famrel      0.053940 -0.003914 -0.001370   -0.016808   0.039731 -0.044337   \n",
       "freetime    0.016434  0.030891 -0.012846   -0.017025  -0.143198  0.091987   \n",
       "goout       0.126964  0.064094  0.043105    0.028540  -0.063904  0.124561   \n",
       "Dalc        0.131125  0.019834  0.002386    0.138325  -0.196019  0.136047   \n",
       "Walc        0.117276 -0.047123 -0.012631    0.134116  -0.253785  0.141962   \n",
       "health     -0.062187 -0.046878  0.014742    0.007501  -0.075616  0.065827   \n",
       "absences    0.175230  0.100285  0.024473   -0.012944  -0.062700  0.063726   \n",
       "G1         -0.064081  0.205341  0.190270   -0.093040   0.160612 -0.354718   \n",
       "G2         -0.143474  0.215527  0.164893   -0.153198   0.135880 -0.355896   \n",
       "G3         -0.161579  0.217147  0.152457   -0.117142   0.097820 -0.360415   \n",
       "\n",
       "              famrel  freetime     goout      Dalc      Walc    health  \\\n",
       "age         0.053940  0.016434  0.126964  0.131125  0.117276 -0.062187   \n",
       "Medu       -0.003914  0.030891  0.064094  0.019834 -0.047123 -0.046878   \n",
       "Fedu       -0.001370 -0.012846  0.043105  0.002386 -0.012631  0.014742   \n",
       "traveltime -0.016808 -0.017025  0.028540  0.138325  0.134116  0.007501   \n",
       "studytime   0.039731 -0.143198 -0.063904 -0.196019 -0.253785 -0.075616   \n",
       "failures   -0.044337  0.091987  0.124561  0.136047  0.141962  0.065827   \n",
       "famrel      1.000000  0.150701  0.064568 -0.077594 -0.113397  0.094056   \n",
       "freetime    0.150701  1.000000  0.285019  0.209001  0.147822  0.075733   \n",
       "goout       0.064568  0.285019  1.000000  0.266994  0.420386 -0.009577   \n",
       "Dalc       -0.077594  0.209001  0.266994  1.000000  0.647544  0.077180   \n",
       "Walc       -0.113397  0.147822  0.420386  0.647544  1.000000  0.092476   \n",
       "health      0.094056  0.075733 -0.009577  0.077180  0.092476  1.000000   \n",
       "absences   -0.044354 -0.058078  0.044302  0.111908  0.136291 -0.029937   \n",
       "G1          0.022168  0.012613 -0.149104 -0.094159 -0.126179 -0.073172   \n",
       "G2         -0.018281 -0.013777 -0.162250 -0.064120 -0.084927 -0.097720   \n",
       "G3          0.051363  0.011307 -0.132791 -0.054660 -0.051939 -0.061335   \n",
       "\n",
       "            absences        G1        G2        G3  \n",
       "age         0.175230 -0.064081 -0.143474 -0.161579  \n",
       "Medu        0.100285  0.205341  0.215527  0.217147  \n",
       "Fedu        0.024473  0.190270  0.164893  0.152457  \n",
       "traveltime -0.012944 -0.093040 -0.153198 -0.117142  \n",
       "studytime  -0.062700  0.160612  0.135880  0.097820  \n",
       "failures    0.063726 -0.354718 -0.355896 -0.360415  \n",
       "famrel     -0.044354  0.022168 -0.018281  0.051363  \n",
       "freetime   -0.058078  0.012613 -0.013777  0.011307  \n",
       "goout       0.044302 -0.149104 -0.162250 -0.132791  \n",
       "Dalc        0.111908 -0.094159 -0.064120 -0.054660  \n",
       "Walc        0.136291 -0.126179 -0.084927 -0.051939  \n",
       "health     -0.029937 -0.073172 -0.097720 -0.061335  \n",
       "absences    1.000000 -0.031003 -0.031777  0.034247  \n",
       "G1         -0.031003  1.000000  0.852118  0.801468  \n",
       "G2         -0.031777  0.852118  1.000000  0.904868  \n",
       "G3          0.034247  0.801468  0.904868  1.000000  "
      ]
     },
     "execution_count": 70,
     "metadata": {},
     "output_type": "execute_result"
    }
   ],
   "source": [
    "df.corr()"
   ]
  },
  {
   "cell_type": "markdown",
   "id": "5a853634",
   "metadata": {},
   "source": [
    "### Calculer la covariance"
   ]
  },
  {
   "cell_type": "code",
   "execution_count": 72,
   "id": "92e05ba7",
   "metadata": {},
   "outputs": [
    {
     "data": {
      "text/html": [
       "<div>\n",
       "<style scoped>\n",
       "    .dataframe tbody tr th:only-of-type {\n",
       "        vertical-align: middle;\n",
       "    }\n",
       "\n",
       "    .dataframe tbody tr th {\n",
       "        vertical-align: top;\n",
       "    }\n",
       "\n",
       "    .dataframe thead th {\n",
       "        text-align: right;\n",
       "    }\n",
       "</style>\n",
       "<table border=\"1\" class=\"dataframe\">\n",
       "  <thead>\n",
       "    <tr style=\"text-align: right;\">\n",
       "      <th></th>\n",
       "      <th>order_id</th>\n",
       "      <th>quantity</th>\n",
       "    </tr>\n",
       "  </thead>\n",
       "  <tbody>\n",
       "    <tr>\n",
       "      <th>order_id</th>\n",
       "      <td>279725.473656</td>\n",
       "      <td>7.028305</td>\n",
       "    </tr>\n",
       "    <tr>\n",
       "      <th>quantity</th>\n",
       "      <td>7.028305</td>\n",
       "      <td>0.168253</td>\n",
       "    </tr>\n",
       "  </tbody>\n",
       "</table>\n",
       "</div>"
      ],
      "text/plain": [
       "               order_id  quantity\n",
       "order_id  279725.473656  7.028305\n",
       "quantity       7.028305  0.168253"
      ]
     },
     "execution_count": 72,
     "metadata": {},
     "output_type": "execute_result"
    }
   ],
   "source": [
    "data.cov()"
   ]
  },
  {
   "cell_type": "code",
   "execution_count": 73,
   "id": "9bee40b0",
   "metadata": {},
   "outputs": [
    {
     "data": {
      "text/html": [
       "<div>\n",
       "<style scoped>\n",
       "    .dataframe tbody tr th:only-of-type {\n",
       "        vertical-align: middle;\n",
       "    }\n",
       "\n",
       "    .dataframe tbody tr th {\n",
       "        vertical-align: top;\n",
       "    }\n",
       "\n",
       "    .dataframe thead th {\n",
       "        text-align: right;\n",
       "    }\n",
       "</style>\n",
       "<table border=\"1\" class=\"dataframe\">\n",
       "  <thead>\n",
       "    <tr style=\"text-align: right;\">\n",
       "      <th></th>\n",
       "      <th>age</th>\n",
       "      <th>Medu</th>\n",
       "      <th>Fedu</th>\n",
       "      <th>traveltime</th>\n",
       "      <th>studytime</th>\n",
       "      <th>failures</th>\n",
       "      <th>famrel</th>\n",
       "      <th>freetime</th>\n",
       "      <th>goout</th>\n",
       "      <th>Dalc</th>\n",
       "      <th>Walc</th>\n",
       "      <th>health</th>\n",
       "      <th>absences</th>\n",
       "      <th>G1</th>\n",
       "      <th>G2</th>\n",
       "      <th>G3</th>\n",
       "    </tr>\n",
       "  </thead>\n",
       "  <tbody>\n",
       "    <tr>\n",
       "      <th>age</th>\n",
       "      <td>1.628285</td>\n",
       "      <td>-0.228619</td>\n",
       "      <td>-0.226949</td>\n",
       "      <td>0.062873</td>\n",
       "      <td>-0.004434</td>\n",
       "      <td>0.231221</td>\n",
       "      <td>0.061717</td>\n",
       "      <td>0.020947</td>\n",
       "      <td>0.180364</td>\n",
       "      <td>0.149039</td>\n",
       "      <td>0.192733</td>\n",
       "      <td>-0.110326</td>\n",
       "      <td>1.789501</td>\n",
       "      <td>-0.271413</td>\n",
       "      <td>-0.688653</td>\n",
       "      <td>-0.944612</td>\n",
       "    </tr>\n",
       "    <tr>\n",
       "      <th>Medu</th>\n",
       "      <td>-0.228619</td>\n",
       "      <td>1.198445</td>\n",
       "      <td>0.742717</td>\n",
       "      <td>-0.131061</td>\n",
       "      <td>0.059667</td>\n",
       "      <td>-0.192681</td>\n",
       "      <td>-0.003842</td>\n",
       "      <td>0.033779</td>\n",
       "      <td>0.078115</td>\n",
       "      <td>0.019341</td>\n",
       "      <td>-0.066440</td>\n",
       "      <td>-0.071349</td>\n",
       "      <td>0.878622</td>\n",
       "      <td>0.746135</td>\n",
       "      <td>0.887509</td>\n",
       "      <td>1.089096</td>\n",
       "    </tr>\n",
       "    <tr>\n",
       "      <th>Fedu</th>\n",
       "      <td>-0.226949</td>\n",
       "      <td>0.742717</td>\n",
       "      <td>1.184180</td>\n",
       "      <td>-0.120073</td>\n",
       "      <td>-0.008379</td>\n",
       "      <td>-0.202641</td>\n",
       "      <td>-0.001337</td>\n",
       "      <td>-0.013963</td>\n",
       "      <td>0.052220</td>\n",
       "      <td>0.002313</td>\n",
       "      <td>-0.017702</td>\n",
       "      <td>0.022303</td>\n",
       "      <td>0.213134</td>\n",
       "      <td>0.687245</td>\n",
       "      <td>0.674953</td>\n",
       "      <td>0.760078</td>\n",
       "    </tr>\n",
       "    <tr>\n",
       "      <th>traveltime</th>\n",
       "      <td>0.062873</td>\n",
       "      <td>-0.131061</td>\n",
       "      <td>-0.120073</td>\n",
       "      <td>0.486513</td>\n",
       "      <td>-0.059070</td>\n",
       "      <td>0.047844</td>\n",
       "      <td>-0.010512</td>\n",
       "      <td>-0.011861</td>\n",
       "      <td>0.022162</td>\n",
       "      <td>0.085941</td>\n",
       "      <td>0.120478</td>\n",
       "      <td>0.007274</td>\n",
       "      <td>-0.072255</td>\n",
       "      <td>-0.215402</td>\n",
       "      <td>-0.401940</td>\n",
       "      <td>-0.374337</td>\n",
       "    </tr>\n",
       "    <tr>\n",
       "      <th>studytime</th>\n",
       "      <td>-0.004434</td>\n",
       "      <td>0.059667</td>\n",
       "      <td>-0.008379</td>\n",
       "      <td>-0.059070</td>\n",
       "      <td>0.704324</td>\n",
       "      <td>-0.108321</td>\n",
       "      <td>0.029898</td>\n",
       "      <td>-0.120041</td>\n",
       "      <td>-0.059706</td>\n",
       "      <td>-0.146533</td>\n",
       "      <td>-0.274304</td>\n",
       "      <td>-0.088228</td>\n",
       "      <td>-0.421127</td>\n",
       "      <td>0.447401</td>\n",
       "      <td>0.428947</td>\n",
       "      <td>0.376110</td>\n",
       "    </tr>\n",
       "    <tr>\n",
       "      <th>failures</th>\n",
       "      <td>0.231221</td>\n",
       "      <td>-0.192681</td>\n",
       "      <td>-0.202641</td>\n",
       "      <td>0.047844</td>\n",
       "      <td>-0.108321</td>\n",
       "      <td>0.553017</td>\n",
       "      <td>-0.029564</td>\n",
       "      <td>0.068329</td>\n",
       "      <td>0.103123</td>\n",
       "      <td>0.090118</td>\n",
       "      <td>0.135964</td>\n",
       "      <td>0.068059</td>\n",
       "      <td>0.379265</td>\n",
       "      <td>-0.875557</td>\n",
       "      <td>-0.995528</td>\n",
       "      <td>-1.227932</td>\n",
       "    </tr>\n",
       "    <tr>\n",
       "      <th>famrel</th>\n",
       "      <td>0.061717</td>\n",
       "      <td>-0.003842</td>\n",
       "      <td>-0.001337</td>\n",
       "      <td>-0.010512</td>\n",
       "      <td>0.029898</td>\n",
       "      <td>-0.029564</td>\n",
       "      <td>0.803997</td>\n",
       "      <td>0.134974</td>\n",
       "      <td>0.064454</td>\n",
       "      <td>-0.061974</td>\n",
       "      <td>-0.130952</td>\n",
       "      <td>0.117252</td>\n",
       "      <td>-0.318287</td>\n",
       "      <td>0.065977</td>\n",
       "      <td>-0.061659</td>\n",
       "      <td>0.211000</td>\n",
       "    </tr>\n",
       "    <tr>\n",
       "      <th>freetime</th>\n",
       "      <td>0.020947</td>\n",
       "      <td>0.033779</td>\n",
       "      <td>-0.013963</td>\n",
       "      <td>-0.011861</td>\n",
       "      <td>-0.120041</td>\n",
       "      <td>0.068329</td>\n",
       "      <td>0.134974</td>\n",
       "      <td>0.997725</td>\n",
       "      <td>0.316944</td>\n",
       "      <td>0.185954</td>\n",
       "      <td>0.190163</td>\n",
       "      <td>0.105173</td>\n",
       "      <td>-0.464274</td>\n",
       "      <td>0.041817</td>\n",
       "      <td>-0.051764</td>\n",
       "      <td>0.051745</td>\n",
       "    </tr>\n",
       "    <tr>\n",
       "      <th>goout</th>\n",
       "      <td>0.180364</td>\n",
       "      <td>0.078115</td>\n",
       "      <td>0.052220</td>\n",
       "      <td>0.022162</td>\n",
       "      <td>-0.059706</td>\n",
       "      <td>0.103123</td>\n",
       "      <td>0.064454</td>\n",
       "      <td>0.316944</td>\n",
       "      <td>1.239388</td>\n",
       "      <td>0.264763</td>\n",
       "      <td>0.602744</td>\n",
       "      <td>-0.014824</td>\n",
       "      <td>0.394718</td>\n",
       "      <td>-0.550967</td>\n",
       "      <td>-0.679438</td>\n",
       "      <td>-0.677292</td>\n",
       "    </tr>\n",
       "    <tr>\n",
       "      <th>Dalc</th>\n",
       "      <td>0.149039</td>\n",
       "      <td>0.019341</td>\n",
       "      <td>0.002313</td>\n",
       "      <td>0.085941</td>\n",
       "      <td>-0.146533</td>\n",
       "      <td>0.090118</td>\n",
       "      <td>-0.061974</td>\n",
       "      <td>0.185954</td>\n",
       "      <td>0.264763</td>\n",
       "      <td>0.793420</td>\n",
       "      <td>0.742852</td>\n",
       "      <td>0.095579</td>\n",
       "      <td>0.797758</td>\n",
       "      <td>-0.278385</td>\n",
       "      <td>-0.214836</td>\n",
       "      <td>-0.223061</td>\n",
       "    </tr>\n",
       "    <tr>\n",
       "      <th>Walc</th>\n",
       "      <td>0.192733</td>\n",
       "      <td>-0.066440</td>\n",
       "      <td>-0.017702</td>\n",
       "      <td>0.120478</td>\n",
       "      <td>-0.274304</td>\n",
       "      <td>0.135964</td>\n",
       "      <td>-0.130952</td>\n",
       "      <td>0.190163</td>\n",
       "      <td>0.602744</td>\n",
       "      <td>0.742852</td>\n",
       "      <td>1.658678</td>\n",
       "      <td>0.165585</td>\n",
       "      <td>1.404774</td>\n",
       "      <td>-0.539388</td>\n",
       "      <td>-0.411425</td>\n",
       "      <td>-0.306464</td>\n",
       "    </tr>\n",
       "    <tr>\n",
       "      <th>health</th>\n",
       "      <td>-0.110326</td>\n",
       "      <td>-0.071349</td>\n",
       "      <td>0.022303</td>\n",
       "      <td>0.007274</td>\n",
       "      <td>-0.088228</td>\n",
       "      <td>0.068059</td>\n",
       "      <td>0.117252</td>\n",
       "      <td>0.105173</td>\n",
       "      <td>-0.014824</td>\n",
       "      <td>0.095579</td>\n",
       "      <td>0.165585</td>\n",
       "      <td>1.932944</td>\n",
       "      <td>-0.333098</td>\n",
       "      <td>-0.337666</td>\n",
       "      <td>-0.511039</td>\n",
       "      <td>-0.390677</td>\n",
       "    </tr>\n",
       "    <tr>\n",
       "      <th>absences</th>\n",
       "      <td>1.789501</td>\n",
       "      <td>0.878622</td>\n",
       "      <td>0.213134</td>\n",
       "      <td>-0.072255</td>\n",
       "      <td>-0.421127</td>\n",
       "      <td>0.379265</td>\n",
       "      <td>-0.318287</td>\n",
       "      <td>-0.464274</td>\n",
       "      <td>0.394718</td>\n",
       "      <td>0.797758</td>\n",
       "      <td>1.404774</td>\n",
       "      <td>-0.333098</td>\n",
       "      <td>64.049541</td>\n",
       "      <td>-0.823556</td>\n",
       "      <td>-0.956596</td>\n",
       "      <td>1.255703</td>\n",
       "    </tr>\n",
       "    <tr>\n",
       "      <th>G1</th>\n",
       "      <td>-0.271413</td>\n",
       "      <td>0.746135</td>\n",
       "      <td>0.687245</td>\n",
       "      <td>-0.215402</td>\n",
       "      <td>0.447401</td>\n",
       "      <td>-0.875557</td>\n",
       "      <td>0.065977</td>\n",
       "      <td>0.041817</td>\n",
       "      <td>-0.550967</td>\n",
       "      <td>-0.278385</td>\n",
       "      <td>-0.539388</td>\n",
       "      <td>-0.337666</td>\n",
       "      <td>-0.823556</td>\n",
       "      <td>11.017053</td>\n",
       "      <td>10.638836</td>\n",
       "      <td>12.187682</td>\n",
       "    </tr>\n",
       "    <tr>\n",
       "      <th>G2</th>\n",
       "      <td>-0.688653</td>\n",
       "      <td>0.887509</td>\n",
       "      <td>0.674953</td>\n",
       "      <td>-0.401940</td>\n",
       "      <td>0.428947</td>\n",
       "      <td>-0.995528</td>\n",
       "      <td>-0.061659</td>\n",
       "      <td>-0.051764</td>\n",
       "      <td>-0.679438</td>\n",
       "      <td>-0.214836</td>\n",
       "      <td>-0.411425</td>\n",
       "      <td>-0.511039</td>\n",
       "      <td>-0.956596</td>\n",
       "      <td>10.638836</td>\n",
       "      <td>14.148917</td>\n",
       "      <td>15.593697</td>\n",
       "    </tr>\n",
       "    <tr>\n",
       "      <th>G3</th>\n",
       "      <td>-0.944612</td>\n",
       "      <td>1.089096</td>\n",
       "      <td>0.760078</td>\n",
       "      <td>-0.374337</td>\n",
       "      <td>0.376110</td>\n",
       "      <td>-1.227932</td>\n",
       "      <td>0.211000</td>\n",
       "      <td>0.051745</td>\n",
       "      <td>-0.677292</td>\n",
       "      <td>-0.223061</td>\n",
       "      <td>-0.306464</td>\n",
       "      <td>-0.390677</td>\n",
       "      <td>1.255703</td>\n",
       "      <td>12.187682</td>\n",
       "      <td>15.593697</td>\n",
       "      <td>20.989616</td>\n",
       "    </tr>\n",
       "  </tbody>\n",
       "</table>\n",
       "</div>"
      ],
      "text/plain": [
       "                 age      Medu      Fedu  traveltime  studytime  failures  \\\n",
       "age         1.628285 -0.228619 -0.226949    0.062873  -0.004434  0.231221   \n",
       "Medu       -0.228619  1.198445  0.742717   -0.131061   0.059667 -0.192681   \n",
       "Fedu       -0.226949  0.742717  1.184180   -0.120073  -0.008379 -0.202641   \n",
       "traveltime  0.062873 -0.131061 -0.120073    0.486513  -0.059070  0.047844   \n",
       "studytime  -0.004434  0.059667 -0.008379   -0.059070   0.704324 -0.108321   \n",
       "failures    0.231221 -0.192681 -0.202641    0.047844  -0.108321  0.553017   \n",
       "famrel      0.061717 -0.003842 -0.001337   -0.010512   0.029898 -0.029564   \n",
       "freetime    0.020947  0.033779 -0.013963   -0.011861  -0.120041  0.068329   \n",
       "goout       0.180364  0.078115  0.052220    0.022162  -0.059706  0.103123   \n",
       "Dalc        0.149039  0.019341  0.002313    0.085941  -0.146533  0.090118   \n",
       "Walc        0.192733 -0.066440 -0.017702    0.120478  -0.274304  0.135964   \n",
       "health     -0.110326 -0.071349  0.022303    0.007274  -0.088228  0.068059   \n",
       "absences    1.789501  0.878622  0.213134   -0.072255  -0.421127  0.379265   \n",
       "G1         -0.271413  0.746135  0.687245   -0.215402   0.447401 -0.875557   \n",
       "G2         -0.688653  0.887509  0.674953   -0.401940   0.428947 -0.995528   \n",
       "G3         -0.944612  1.089096  0.760078   -0.374337   0.376110 -1.227932   \n",
       "\n",
       "              famrel  freetime     goout      Dalc      Walc    health  \\\n",
       "age         0.061717  0.020947  0.180364  0.149039  0.192733 -0.110326   \n",
       "Medu       -0.003842  0.033779  0.078115  0.019341 -0.066440 -0.071349   \n",
       "Fedu       -0.001337 -0.013963  0.052220  0.002313 -0.017702  0.022303   \n",
       "traveltime -0.010512 -0.011861  0.022162  0.085941  0.120478  0.007274   \n",
       "studytime   0.029898 -0.120041 -0.059706 -0.146533 -0.274304 -0.088228   \n",
       "failures   -0.029564  0.068329  0.103123  0.090118  0.135964  0.068059   \n",
       "famrel      0.803997  0.134974  0.064454 -0.061974 -0.130952  0.117252   \n",
       "freetime    0.134974  0.997725  0.316944  0.185954  0.190163  0.105173   \n",
       "goout       0.064454  0.316944  1.239388  0.264763  0.602744 -0.014824   \n",
       "Dalc       -0.061974  0.185954  0.264763  0.793420  0.742852  0.095579   \n",
       "Walc       -0.130952  0.190163  0.602744  0.742852  1.658678  0.165585   \n",
       "health      0.117252  0.105173 -0.014824  0.095579  0.165585  1.932944   \n",
       "absences   -0.318287 -0.464274  0.394718  0.797758  1.404774 -0.333098   \n",
       "G1          0.065977  0.041817 -0.550967 -0.278385 -0.539388 -0.337666   \n",
       "G2         -0.061659 -0.051764 -0.679438 -0.214836 -0.411425 -0.511039   \n",
       "G3          0.211000  0.051745 -0.677292 -0.223061 -0.306464 -0.390677   \n",
       "\n",
       "             absences         G1         G2         G3  \n",
       "age          1.789501  -0.271413  -0.688653  -0.944612  \n",
       "Medu         0.878622   0.746135   0.887509   1.089096  \n",
       "Fedu         0.213134   0.687245   0.674953   0.760078  \n",
       "traveltime  -0.072255  -0.215402  -0.401940  -0.374337  \n",
       "studytime   -0.421127   0.447401   0.428947   0.376110  \n",
       "failures     0.379265  -0.875557  -0.995528  -1.227932  \n",
       "famrel      -0.318287   0.065977  -0.061659   0.211000  \n",
       "freetime    -0.464274   0.041817  -0.051764   0.051745  \n",
       "goout        0.394718  -0.550967  -0.679438  -0.677292  \n",
       "Dalc         0.797758  -0.278385  -0.214836  -0.223061  \n",
       "Walc         1.404774  -0.539388  -0.411425  -0.306464  \n",
       "health      -0.333098  -0.337666  -0.511039  -0.390677  \n",
       "absences    64.049541  -0.823556  -0.956596   1.255703  \n",
       "G1          -0.823556  11.017053  10.638836  12.187682  \n",
       "G2          -0.956596  10.638836  14.148917  15.593697  \n",
       "G3           1.255703  12.187682  15.593697  20.989616  "
      ]
     },
     "execution_count": 73,
     "metadata": {},
     "output_type": "execute_result"
    }
   ],
   "source": [
    "df.cov()"
   ]
  },
  {
   "cell_type": "markdown",
   "id": "4ee6c338",
   "metadata": {},
   "source": [
    "### Calculer la corrélation entre deux variables du jeu de données."
   ]
  },
  {
   "cell_type": "code",
   "execution_count": 74,
   "id": "91c31f37",
   "metadata": {},
   "outputs": [
    {
     "data": {
      "text/plain": [
       "-0.06218736851745007"
      ]
     },
     "execution_count": 74,
     "metadata": {},
     "output_type": "execute_result"
    }
   ],
   "source": [
    "df.age.corr(df.health)"
   ]
  },
  {
   "cell_type": "markdown",
   "id": "f2dcb144",
   "metadata": {},
   "source": [
    "### Calculer la covariance entre deux variables du jeu de données."
   ]
  },
  {
   "cell_type": "code",
   "execution_count": 75,
   "id": "67f68e34",
   "metadata": {},
   "outputs": [
    {
     "data": {
      "text/plain": [
       "-0.1103257726659383"
      ]
     },
     "execution_count": 75,
     "metadata": {},
     "output_type": "execute_result"
    }
   ],
   "source": [
    "df.age.cov(df.health)"
   ]
  },
  {
   "cell_type": "markdown",
   "id": "29f4c7ed",
   "metadata": {},
   "source": [
    "### Moyenne"
   ]
  },
  {
   "cell_type": "code",
   "execution_count": 81,
   "id": "903d1eb6",
   "metadata": {},
   "outputs": [
    {
     "data": {
      "text/html": [
       "<div>\n",
       "<style scoped>\n",
       "    .dataframe tbody tr th:only-of-type {\n",
       "        vertical-align: middle;\n",
       "    }\n",
       "\n",
       "    .dataframe tbody tr th {\n",
       "        vertical-align: top;\n",
       "    }\n",
       "\n",
       "    .dataframe thead th {\n",
       "        text-align: right;\n",
       "    }\n",
       "</style>\n",
       "<table border=\"1\" class=\"dataframe\">\n",
       "  <thead>\n",
       "    <tr style=\"text-align: right;\">\n",
       "      <th></th>\n",
       "      <th>Facture</th>\n",
       "      <th>Pourboire</th>\n",
       "      <th>size</th>\n",
       "    </tr>\n",
       "    <tr>\n",
       "      <th>sex</th>\n",
       "      <th></th>\n",
       "      <th></th>\n",
       "      <th></th>\n",
       "    </tr>\n",
       "  </thead>\n",
       "  <tbody>\n",
       "    <tr>\n",
       "      <th>Female</th>\n",
       "      <td>18.056897</td>\n",
       "      <td>2.833448</td>\n",
       "      <td>2.459770</td>\n",
       "    </tr>\n",
       "    <tr>\n",
       "      <th>Male</th>\n",
       "      <td>20.744076</td>\n",
       "      <td>3.089618</td>\n",
       "      <td>2.630573</td>\n",
       "    </tr>\n",
       "  </tbody>\n",
       "</table>\n",
       "</div>"
      ],
      "text/plain": [
       "          Facture  Pourboire      size\n",
       "sex                                   \n",
       "Female  18.056897   2.833448  2.459770\n",
       "Male    20.744076   3.089618  2.630573"
      ]
     },
     "execution_count": 81,
     "metadata": {},
     "output_type": "execute_result"
    }
   ],
   "source": [
    "# Afficher la moyenne des factures, pourboires et size groupée par sex\n",
    "tips.groupby(\"sex\").mean()"
   ]
  },
  {
   "cell_type": "code",
   "execution_count": 84,
   "id": "2bf916bd",
   "metadata": {},
   "outputs": [
    {
     "data": {
      "text/plain": [
       "sex\n",
       "Female    18.056897\n",
       "Male      20.744076\n",
       "Name: Facture, dtype: float64"
      ]
     },
     "execution_count": 84,
     "metadata": {},
     "output_type": "execute_result"
    }
   ],
   "source": [
    "# Afficher la moyenne des factures groupée par sex\n",
    "\n",
    "tips.groupby(\"sex\")[\"Facture\"].mean()"
   ]
  },
  {
   "cell_type": "code",
   "execution_count": 85,
   "id": "7d4cb8fc",
   "metadata": {},
   "outputs": [
    {
     "data": {
      "text/html": [
       "<div>\n",
       "<style scoped>\n",
       "    .dataframe tbody tr th:only-of-type {\n",
       "        vertical-align: middle;\n",
       "    }\n",
       "\n",
       "    .dataframe tbody tr th {\n",
       "        vertical-align: top;\n",
       "    }\n",
       "\n",
       "    .dataframe thead th {\n",
       "        text-align: right;\n",
       "    }\n",
       "</style>\n",
       "<table border=\"1\" class=\"dataframe\">\n",
       "  <thead>\n",
       "    <tr style=\"text-align: right;\">\n",
       "      <th></th>\n",
       "      <th>mean</th>\n",
       "      <th>std</th>\n",
       "      <th>median</th>\n",
       "      <th>amin</th>\n",
       "      <th>amax</th>\n",
       "    </tr>\n",
       "    <tr>\n",
       "      <th>sex</th>\n",
       "      <th></th>\n",
       "      <th></th>\n",
       "      <th></th>\n",
       "      <th></th>\n",
       "      <th></th>\n",
       "    </tr>\n",
       "  </thead>\n",
       "  <tbody>\n",
       "    <tr>\n",
       "      <th>Female</th>\n",
       "      <td>18.056897</td>\n",
       "      <td>8.009209</td>\n",
       "      <td>16.40</td>\n",
       "      <td>3.07</td>\n",
       "      <td>44.30</td>\n",
       "    </tr>\n",
       "    <tr>\n",
       "      <th>Male</th>\n",
       "      <td>20.744076</td>\n",
       "      <td>9.246469</td>\n",
       "      <td>18.35</td>\n",
       "      <td>7.25</td>\n",
       "      <td>50.81</td>\n",
       "    </tr>\n",
       "  </tbody>\n",
       "</table>\n",
       "</div>"
      ],
      "text/plain": [
       "             mean       std  median  amin   amax\n",
       "sex                                             \n",
       "Female  18.056897  8.009209   16.40  3.07  44.30\n",
       "Male    20.744076  9.246469   18.35  7.25  50.81"
      ]
     },
     "execution_count": 85,
     "metadata": {},
     "output_type": "execute_result"
    }
   ],
   "source": [
    "# Afficher la moyenne, l'écart-type, médiane, min et max de la variable facture groupés par sex\n",
    "import numpy\n",
    "\n",
    "tips.groupby(\"sex\")[\"Facture\"].agg([numpy.mean, numpy.std, numpy.median, numpy.min, numpy.max])"
   ]
  },
  {
   "cell_type": "markdown",
   "id": "c375391d",
   "metadata": {},
   "source": [
    "___"
   ]
  },
  {
   "cell_type": "markdown",
   "id": "3757f9b7",
   "metadata": {},
   "source": [
    "##  Nuage de points"
   ]
  },
  {
   "cell_type": "code",
   "execution_count": 76,
   "id": "1fce2ac8",
   "metadata": {},
   "outputs": [],
   "source": [
    "tips = pd.read_csv(\"data.csv\")"
   ]
  },
  {
   "cell_type": "code",
   "execution_count": 77,
   "id": "7d525e03",
   "metadata": {},
   "outputs": [
    {
     "data": {
      "text/html": [
       "<div>\n",
       "<style scoped>\n",
       "    .dataframe tbody tr th:only-of-type {\n",
       "        vertical-align: middle;\n",
       "    }\n",
       "\n",
       "    .dataframe tbody tr th {\n",
       "        vertical-align: top;\n",
       "    }\n",
       "\n",
       "    .dataframe thead th {\n",
       "        text-align: right;\n",
       "    }\n",
       "</style>\n",
       "<table border=\"1\" class=\"dataframe\">\n",
       "  <thead>\n",
       "    <tr style=\"text-align: right;\">\n",
       "      <th></th>\n",
       "      <th>Facture</th>\n",
       "      <th>Pourboire</th>\n",
       "      <th>sex</th>\n",
       "      <th>Fumeur</th>\n",
       "      <th>Jour</th>\n",
       "      <th>time</th>\n",
       "      <th>size</th>\n",
       "    </tr>\n",
       "  </thead>\n",
       "  <tbody>\n",
       "    <tr>\n",
       "      <th>0</th>\n",
       "      <td>16.99</td>\n",
       "      <td>1.01</td>\n",
       "      <td>Female</td>\n",
       "      <td>No</td>\n",
       "      <td>Sun</td>\n",
       "      <td>Dinner</td>\n",
       "      <td>2</td>\n",
       "    </tr>\n",
       "    <tr>\n",
       "      <th>1</th>\n",
       "      <td>10.34</td>\n",
       "      <td>1.66</td>\n",
       "      <td>Male</td>\n",
       "      <td>No</td>\n",
       "      <td>Sun</td>\n",
       "      <td>Dinner</td>\n",
       "      <td>3</td>\n",
       "    </tr>\n",
       "    <tr>\n",
       "      <th>2</th>\n",
       "      <td>21.01</td>\n",
       "      <td>3.50</td>\n",
       "      <td>Male</td>\n",
       "      <td>No</td>\n",
       "      <td>Sun</td>\n",
       "      <td>Dinner</td>\n",
       "      <td>3</td>\n",
       "    </tr>\n",
       "    <tr>\n",
       "      <th>3</th>\n",
       "      <td>23.68</td>\n",
       "      <td>3.31</td>\n",
       "      <td>Male</td>\n",
       "      <td>No</td>\n",
       "      <td>Sun</td>\n",
       "      <td>Dinner</td>\n",
       "      <td>2</td>\n",
       "    </tr>\n",
       "    <tr>\n",
       "      <th>4</th>\n",
       "      <td>24.59</td>\n",
       "      <td>3.61</td>\n",
       "      <td>Female</td>\n",
       "      <td>No</td>\n",
       "      <td>Sun</td>\n",
       "      <td>Dinner</td>\n",
       "      <td>4</td>\n",
       "    </tr>\n",
       "    <tr>\n",
       "      <th>...</th>\n",
       "      <td>...</td>\n",
       "      <td>...</td>\n",
       "      <td>...</td>\n",
       "      <td>...</td>\n",
       "      <td>...</td>\n",
       "      <td>...</td>\n",
       "      <td>...</td>\n",
       "    </tr>\n",
       "    <tr>\n",
       "      <th>239</th>\n",
       "      <td>29.03</td>\n",
       "      <td>5.92</td>\n",
       "      <td>Male</td>\n",
       "      <td>No</td>\n",
       "      <td>Sat</td>\n",
       "      <td>Dinner</td>\n",
       "      <td>3</td>\n",
       "    </tr>\n",
       "    <tr>\n",
       "      <th>240</th>\n",
       "      <td>27.18</td>\n",
       "      <td>2.00</td>\n",
       "      <td>Female</td>\n",
       "      <td>Yes</td>\n",
       "      <td>Sat</td>\n",
       "      <td>Dinner</td>\n",
       "      <td>2</td>\n",
       "    </tr>\n",
       "    <tr>\n",
       "      <th>241</th>\n",
       "      <td>22.67</td>\n",
       "      <td>2.00</td>\n",
       "      <td>Male</td>\n",
       "      <td>Yes</td>\n",
       "      <td>Sat</td>\n",
       "      <td>Dinner</td>\n",
       "      <td>2</td>\n",
       "    </tr>\n",
       "    <tr>\n",
       "      <th>242</th>\n",
       "      <td>17.82</td>\n",
       "      <td>1.75</td>\n",
       "      <td>Male</td>\n",
       "      <td>No</td>\n",
       "      <td>Sat</td>\n",
       "      <td>Dinner</td>\n",
       "      <td>2</td>\n",
       "    </tr>\n",
       "    <tr>\n",
       "      <th>243</th>\n",
       "      <td>18.78</td>\n",
       "      <td>3.00</td>\n",
       "      <td>Female</td>\n",
       "      <td>No</td>\n",
       "      <td>Thur</td>\n",
       "      <td>Dinner</td>\n",
       "      <td>2</td>\n",
       "    </tr>\n",
       "  </tbody>\n",
       "</table>\n",
       "<p>244 rows × 7 columns</p>\n",
       "</div>"
      ],
      "text/plain": [
       "     Facture  Pourboire     sex Fumeur  Jour    time  size\n",
       "0      16.99       1.01  Female     No   Sun  Dinner     2\n",
       "1      10.34       1.66    Male     No   Sun  Dinner     3\n",
       "2      21.01       3.50    Male     No   Sun  Dinner     3\n",
       "3      23.68       3.31    Male     No   Sun  Dinner     2\n",
       "4      24.59       3.61  Female     No   Sun  Dinner     4\n",
       "..       ...        ...     ...    ...   ...     ...   ...\n",
       "239    29.03       5.92    Male     No   Sat  Dinner     3\n",
       "240    27.18       2.00  Female    Yes   Sat  Dinner     2\n",
       "241    22.67       2.00    Male    Yes   Sat  Dinner     2\n",
       "242    17.82       1.75    Male     No   Sat  Dinner     2\n",
       "243    18.78       3.00  Female     No  Thur  Dinner     2\n",
       "\n",
       "[244 rows x 7 columns]"
      ]
     },
     "execution_count": 77,
     "metadata": {},
     "output_type": "execute_result"
    }
   ],
   "source": [
    "tips"
   ]
  },
  {
   "cell_type": "code",
   "execution_count": 80,
   "id": "0b7acbf2",
   "metadata": {},
   "outputs": [
    {
     "data": {
      "text/plain": [
       "<AxesSubplot:xlabel='Facture', ylabel='Pourboire'>"
      ]
     },
     "execution_count": 80,
     "metadata": {},
     "output_type": "execute_result"
    },
    {
     "data": {
      "image/png": "[encoded data removed]",
      "text/plain": [
       "<Figure size 432x288 with 1 Axes>"
      ]
     },
     "metadata": {
      "needs_background": "light"
     },
     "output_type": "display_data"
    }
   ],
   "source": [
    "tips.plot.scatter(\"Facture\", \"Pourboire\")"
   ]
  },
  {
   "cell_type": "markdown",
   "id": "ebc1da84",
   "metadata": {},
   "source": [
    "## Visualisations"
   ]
  },
  {
   "cell_type": "code",
   "execution_count": 88,
   "id": "aef67696",
   "metadata": {},
   "outputs": [
    {
     "data": {
      "text/plain": [
       "array([<AxesSubplot:title={'center':'Female'}>,\n",
       "       <AxesSubplot:title={'center':'Male'}>], dtype=object)"
      ]
     },
     "execution_count": 88,
     "metadata": {},
     "output_type": "execute_result"
    },
    {
     "data": {
      "image/png": "[encoded data removed]",
      "text/plain": [
       "<Figure size 432x288 with 2 Axes>"
      ]
     },
     "metadata": {
      "needs_background": "light"
     },
     "output_type": "display_data"
    }
   ],
   "source": [
    "# Afficher les deux histogrammes de la variable facture selon le sex\n",
    "tips.hist(column = \"Facture\", by = \"sex\")"
   ]
  },
  {
   "cell_type": "code",
   "execution_count": 89,
   "id": "3fb56a42",
   "metadata": {},
   "outputs": [
    {
     "data": {
      "text/plain": [
       "array([[<AxesSubplot:title={'center':'Facture'}, xlabel='[sex]'>,\n",
       "        <AxesSubplot:title={'center':'Pourboire'}, xlabel='[sex]'>],\n",
       "       [<AxesSubplot:title={'center':'size'}, xlabel='[sex]'>,\n",
       "        <AxesSubplot:>]], dtype=object)"
      ]
     },
     "execution_count": 89,
     "metadata": {},
     "output_type": "execute_result"
    },
    {
     "data": {
      "image/png": "[encoded data removed]",
      "text/plain": [
       "<Figure size 432x288 with 4 Axes>"
      ]
     },
     "metadata": {
      "needs_background": "light"
     },
     "output_type": "display_data"
    }
   ],
   "source": [
    "# Afficher les boites à moustache de toutes les variables (facture, pourboire, size) selon le sex\n",
    "\n",
    "tips.boxplot(by = \"sex\")"
   ]
  },
  {
   "cell_type": "code",
   "execution_count": 93,
   "id": "8f49210c",
   "metadata": {},
   "outputs": [
    {
     "data": {
      "text/plain": [
       "<AxesSubplot:xlabel='sex'>"
      ]
     },
     "execution_count": 93,
     "metadata": {},
     "output_type": "execute_result"
    },
    {
     "data": {
      "image/png": "[encoded data removed]",
      "text/plain": [
       "<Figure size 432x288 with 1 Axes>"
      ]
     },
     "metadata": {
      "needs_background": "light"
     },
     "output_type": "display_data"
    }
   ],
   "source": [
    "# Afficher le diagramme en barres du nombre des fumeurs et non fumeurs selon leur sex\n",
    "\n",
    "t = pd.crosstab(tips.sex, tips.Fumeur)\n",
    "t.plot.bar()"
   ]
  },
  {
   "cell_type": "code",
   "execution_count": 95,
   "id": "e2ee9f32",
   "metadata": {},
   "outputs": [
    {
     "data": {
      "text/plain": [
       "<AxesSubplot:xlabel='sex'>"
      ]
     },
     "execution_count": 95,
     "metadata": {},
     "output_type": "execute_result"
    },
    {
     "data": {
      "image/png": "[encoded data removed]",
      "text/plain": [
       "<Figure size 432x288 with 1 Axes>"
      ]
     },
     "metadata": {
      "needs_background": "light"
     },
     "output_type": "display_data"
    }
   ],
   "source": [
    "# Afficher le diagramme en barres du nombre des fumeurs et non fumeurs selon leur sex normalisé\n",
    "\n",
    "\n",
    "t = pd.crosstab(tips.sex, tips.Fumeur, normalize=True)\n",
    "t.plot.bar()"
   ]
  }
 ],
 "metadata": {
  "kernelspec": {
   "display_name": "Python 3",
   "language": "python",
   "name": "python3"
  },
  "language_info": {
   "codemirror_mode": {
    "name": "ipython",
    "version": 3
   },
   "file_extension": ".py",
   "mimetype": "text/x-python",
   "name": "python",
   "nbconvert_exporter": "python",
   "pygments_lexer": "ipython3",
   "version": "3.8.3"
  }
 },
 "nbformat": 4,
 "nbformat_minor": 5
}
