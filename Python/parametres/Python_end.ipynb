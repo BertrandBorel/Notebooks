{
 "cells": [
  {
   "cell_type": "markdown",
   "id": "148fd251",
   "metadata": {},
   "source": [
    "# <center> Le paramètre `end` en Python </center>\n",
    "\n",
    "**Sources :**\n",
    "- https://www.geeksforgeeks.org/gfact-50-python-end-parameter-in-print/\n",
    "- https://codescracker.com/python/python-end.htm\n",
    "\n",
    "En Python, la fonction `print()` s'achève avec une nouvelle ligne. On peut changer cela en lui ajoutant le paramètre `end`.\n",
    "    \n",
    "## Exemples  :"
   ]
  },
  {
   "cell_type": "code",
   "execution_count": 7,
   "id": "3d6b41d9",
   "metadata": {},
   "outputs": [
    {
     "name": "stdout",
     "output_type": "stream",
     "text": [
      "Ceci est un test "
     ]
    }
   ],
   "source": [
    "# avec un espace vide = sur une même ligne\n",
    "print(\"Ceci est un\", end = ' ')\n",
    "print(\"test\", end = ' ')"
   ]
  },
  {
   "cell_type": "code",
   "execution_count": 8,
   "id": "ec855b31",
   "metadata": {},
   "outputs": [
    {
     "name": "stdout",
     "output_type": "stream",
     "text": [
      "Ceci est un\n",
      "test\n"
     ]
    }
   ],
   "source": [
    "# sans le paramètre end\n",
    "print(\"Ceci est un\")\n",
    "print(\"test\")"
   ]
  },
  {
   "cell_type": "code",
   "execution_count": 9,
   "id": "62bc642d",
   "metadata": {},
   "outputs": [
    {
     "name": "stdout",
     "output_type": "stream",
     "text": [
      "nom_prenom@entreprise.com\n"
     ]
    }
   ],
   "source": [
    "# exemple avec @\n",
    "print(\"nom_prenom\", end='@')\n",
    "print('entreprise.com')"
   ]
  },
  {
   "cell_type": "code",
   "execution_count": 11,
   "id": "9aa234df",
   "metadata": {},
   "outputs": [
    {
     "name": "stdout",
     "output_type": "stream",
     "text": [
      "Bonjour,\n",
      "Ceci est\n",
      "un test.\n"
     ]
    }
   ],
   "source": [
    "# exemple avec un retour chariot\n",
    "print(\"Bonjour,\", end='\\n')\n",
    "print(\"Ceci est\", end='\\n')\n",
    "print(\"un test.\", end='\\n')"
   ]
  },
  {
   "cell_type": "markdown",
   "id": "db1a9bc6",
   "metadata": {},
   "source": [
    "## Ecrire le résultat d'une liste sur une seule ligne :"
   ]
  },
  {
   "cell_type": "code",
   "execution_count": 12,
   "id": "e64d74c4",
   "metadata": {},
   "outputs": [
    {
     "name": "stdout",
     "output_type": "stream",
     "text": [
      "1 2 3 4 5 "
     ]
    }
   ],
   "source": [
    "liste_nombres = [1, 2, 3, 4, 5]\n",
    "\n",
    "for nombre in liste_nombres:\n",
    "    print(nombre, end=\" \")"
   ]
  },
  {
   "cell_type": "markdown",
   "id": "7b302a8e",
   "metadata": {},
   "source": [
    "## Séparer du texte par un trait"
   ]
  },
  {
   "cell_type": "code",
   "execution_count": 13,
   "id": "f6704d7a",
   "metadata": {},
   "outputs": [
    {
     "name": "stdout",
     "output_type": "stream",
     "text": [
      "Bonjour,----------------------Ceci est----------------------un test.----------------------"
     ]
    }
   ],
   "source": [
    "# Exemple 1\n",
    "trait = '----------------------'\n",
    "\n",
    "print(\"Bonjour,\", end=trait)\n",
    "print(\"Ceci est\", end=trait)\n",
    "print(\"un test.\", end=trait)"
   ]
  },
  {
   "cell_type": "code",
   "execution_count": 16,
   "id": "ce9b9112",
   "metadata": {},
   "outputs": [
    {
     "name": "stdout",
     "output_type": "stream",
     "text": [
      "Bonjour,\n",
      "----------------------\n",
      "Ceci est\n",
      "----------------------\n",
      "un test.\n",
      "----------------------\n"
     ]
    }
   ],
   "source": [
    "# Exemple 2\n",
    "trait = '\\n----------------------\\n'\n",
    "\n",
    "print(\"Bonjour,\", end=trait)\n",
    "print(\"Ceci est\", end=trait)\n",
    "print(\"un test.\", end=trait)"
   ]
  }
 ],
 "metadata": {
  "kernelspec": {
   "display_name": "Python 3 (ipykernel)",
   "language": "python",
   "name": "python3"
  },
  "language_info": {
   "codemirror_mode": {
    "name": "ipython",
    "version": 3
   },
   "file_extension": ".py",
   "mimetype": "text/x-python",
   "name": "python",
   "nbconvert_exporter": "python",
   "pygments_lexer": "ipython3",
   "version": "3.8.3"
  }
 },
 "nbformat": 4,
 "nbformat_minor": 5
}
