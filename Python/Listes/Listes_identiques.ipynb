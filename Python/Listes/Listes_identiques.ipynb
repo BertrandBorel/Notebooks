{
 "cells": [
  {
   "cell_type": "markdown",
   "id": "b6614adf",
   "metadata": {},
   "source": [
    "# <center> Savoir si deux listes sont identiques"
   ]
  },
  {
   "cell_type": "code",
   "execution_count": 1,
   "id": "1b648e30",
   "metadata": {},
   "outputs": [],
   "source": [
    "# Exemples de listes\n",
    "liste_1 = [1, 2, 3]\n",
    "liste_2 = [0, 1, 2]\n",
    "liste_3 = [1, 2, 3]"
   ]
  },
  {
   "cell_type": "markdown",
   "id": "08e6bbe6",
   "metadata": {},
   "source": [
    "## En ligne de code simple :"
   ]
  },
  {
   "cell_type": "code",
   "execution_count": 13,
   "id": "3f9c2d5b",
   "metadata": {},
   "outputs": [
    {
     "name": "stdout",
     "output_type": "stream",
     "text": [
      "False\n",
      "True\n"
     ]
    }
   ],
   "source": [
    "print(liste_1 == liste_2)\n",
    "print(liste_1 == liste_3)"
   ]
  },
  {
   "cell_type": "markdown",
   "id": "128976e4",
   "metadata": {},
   "source": [
    "## Avec une fonction : "
   ]
  },
  {
   "cell_type": "code",
   "execution_count": 4,
   "id": "f9b4d9ef",
   "metadata": {},
   "outputs": [],
   "source": [
    "# fonction\n",
    "def eq(a, b):\n",
    "    return a == b"
   ]
  },
  {
   "cell_type": "code",
   "execution_count": 7,
   "id": "715d61e5",
   "metadata": {},
   "outputs": [
    {
     "data": {
      "text/plain": [
       "False"
      ]
     },
     "execution_count": 7,
     "metadata": {},
     "output_type": "execute_result"
    }
   ],
   "source": [
    "eq(liste_1, liste_2)"
   ]
  },
  {
   "cell_type": "code",
   "execution_count": 8,
   "id": "9149b9b7",
   "metadata": {},
   "outputs": [
    {
     "data": {
      "text/plain": [
       "True"
      ]
     },
     "execution_count": 8,
     "metadata": {},
     "output_type": "execute_result"
    }
   ],
   "source": [
    "eq(liste_1, liste_3)"
   ]
  },
  {
   "cell_type": "markdown",
   "id": "f03fbabf",
   "metadata": {},
   "source": [
    "## Avec une fonction renvoyant un message : "
   ]
  },
  {
   "cell_type": "code",
   "execution_count": 14,
   "id": "6d0f9c33",
   "metadata": {},
   "outputs": [],
   "source": [
    "# fonction\n",
    "def eq(a, b):\n",
    "    if a == b :\n",
    "        print(\"Les listes sont identiques.\")\n",
    "    else :\n",
    "        print(\"Les listes sont différentes.\")"
   ]
  },
  {
   "cell_type": "code",
   "execution_count": 15,
   "id": "d61acbff",
   "metadata": {},
   "outputs": [
    {
     "name": "stdout",
     "output_type": "stream",
     "text": [
      "Les listes sont différentes.\n"
     ]
    }
   ],
   "source": [
    "eq(liste_1, liste_2)"
   ]
  },
  {
   "cell_type": "code",
   "execution_count": 16,
   "id": "08cd1c2d",
   "metadata": {},
   "outputs": [
    {
     "name": "stdout",
     "output_type": "stream",
     "text": [
      "Les listes sont identiques.\n"
     ]
    }
   ],
   "source": [
    "eq(liste_1, liste_3)"
   ]
  }
 ],
 "metadata": {
  "kernelspec": {
   "display_name": "Python 3 (ipykernel)",
   "language": "python",
   "name": "python3"
  },
  "language_info": {
   "codemirror_mode": {
    "name": "ipython",
    "version": 3
   },
   "file_extension": ".py",
   "mimetype": "text/x-python",
   "name": "python",
   "nbconvert_exporter": "python",
   "pygments_lexer": "ipython3",
   "version": "3.8.3"
  }
 },
 "nbformat": 4,
 "nbformat_minor": 5
}
