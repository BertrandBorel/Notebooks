{
 "cells": [
  {
   "cell_type": "markdown",
   "id": "26d1dea4",
   "metadata": {},
   "source": [
    "# <center> Trucs et astuces en Python (2) </center>\n",
    "\n",
    "**Sources :** \n",
    "- revue Coding, n°16, p.94-105.\n",
    "- revue Coding, n°19, p.102-109."
   ]
  },
  {
   "cell_type": "markdown",
   "id": "93cd3049",
   "metadata": {},
   "source": [
    "---"
   ]
  },
  {
   "cell_type": "markdown",
   "id": "7fc3bc8e",
   "metadata": {},
   "source": [
    "## 51- Créer un serveur de fichier en 1 ligne de code\n",
    "\n",
    "En ligne de commande, tappez :\n",
    "\n",
    "`python -m http.server 8000`\n",
    "\n",
    "Pour interrompre : `Ctrl + c`"
   ]
  },
  {
   "cell_type": "markdown",
   "id": "e2e9c8e3",
   "metadata": {},
   "source": [
    "## 52- Utiliser la classe ENUM pour énumérer une liste d'objets"
   ]
  },
  {
   "cell_type": "code",
   "execution_count": 2,
   "id": "fd282a70",
   "metadata": {},
   "outputs": [
    {
     "name": "stdout",
     "output_type": "stream",
     "text": [
      "sports.ski\n",
      "sports.football\n",
      "sports.course\n",
      "sports.volley\n",
      "sports.golf\n",
      "sports.natation\n"
     ]
    }
   ],
   "source": [
    "from enum import Enum\n",
    "\n",
    "class sports(Enum):\n",
    "    ski = 0 \n",
    "    football = 1\n",
    "    course = 2\n",
    "    volley = 3\n",
    "    golf = 4\n",
    "    natation = 5\n",
    "    \n",
    "# sports.golf\n",
    "# print(sports.golf)\n",
    "# print(repr(sports.golf()))\n",
    "\n",
    "# itération :\n",
    "for i in sports:\n",
    "    print(i)"
   ]
  },
  {
   "cell_type": "markdown",
   "id": "472c6d7f",
   "metadata": {},
   "source": [
    "## 53- Connexion bdd SQLITE "
   ]
  },
  {
   "cell_type": "code",
   "execution_count": null,
   "id": "507feca1",
   "metadata": {},
   "outputs": [],
   "source": [
    "# connexion à la bdd\n",
    "bdd = sqlite3.connect('ma_bdd.db')\n",
    "\n",
    "# création d'un curseur\n",
    "cursor = bdd.cursor()\n",
    "\n",
    "# appliquer une requête \n",
    "cursor.execute('Entrer une requete SQL')\n",
    "\n",
    "# récupérer des données\n",
    "data =  cursor.fetchall()\n",
    "\n",
    "#afficher les données\n",
    "for in data :\n",
    "    print(i)\n",
    "    \n",
    "# fermeture du curseur \n",
    "cursor.close()\n",
    "\n",
    "# déconnexion de la bdd\n",
    "bdd.close()"
   ]
  },
  {
   "cell_type": "markdown",
   "id": "dd7a7be4",
   "metadata": {},
   "source": [
    "## 54- Créer une fonction récursive"
   ]
  },
  {
   "cell_type": "code",
   "execution_count": 3,
   "id": "be1ddf43",
   "metadata": {},
   "outputs": [
    {
     "name": "stdout",
     "output_type": "stream",
     "text": [
      "0 || 1 || 1 || 2 || 3 || 5 || 8 || 13 || 21 || 34 || 55 || 89 || 144 || 233 || 377 || 610 || 987 || 1597 || 2584 || 4181 || 6765 || 10946 || 17711 || 28657 || 46368 || 75025 || 121393 || 196418 || 317811 || 514229 || "
     ]
    }
   ],
   "source": [
    "# la fonction s'appelle elle-même\n",
    "def fibo(x):\n",
    "    if x <= 1 :\n",
    "        return x\n",
    "    else :\n",
    "        return fibo(x-1) + fibo(x-2)\n",
    "    \n",
    "for i in range(30):\n",
    "    print(fibo(i), end=\" || \")"
   ]
  },
  {
   "cell_type": "markdown",
   "id": "b547e034",
   "metadata": {},
   "source": [
    "## 55- `Any` et `all`\n",
    "\n",
    "`any` renvoie **True** lorsqu'au moins une des instructions est **True**.\n",
    "\n",
    "`all` renvoie **True** lorsque toutes les instructions sont **True**."
   ]
  },
  {
   "cell_type": "code",
   "execution_count": 262,
   "id": "4f83a142",
   "metadata": {},
   "outputs": [
    {
     "name": "stdout",
     "output_type": "stream",
     "text": [
      "False\n",
      "False\n",
      "True\n",
      "True\n",
      "True\n"
     ]
    }
   ],
   "source": [
    "# Exemples :\n",
    "\n",
    "print(any([False, False, False]))\n",
    "print(all([False, True, True]))\n",
    "print(any([True, False, False]))\n",
    "print(any([False, False, True]))\n",
    "print(all([True, True, True]))"
   ]
  },
  {
   "cell_type": "markdown",
   "id": "7c06add6",
   "metadata": {},
   "source": [
    "## 56- While 1 et boucle infinie\n",
    "\n",
    "Même si \"while True\" effectue la même opération, \"while 1\" est une opération de saut unique."
   ]
  },
  {
   "cell_type": "code",
   "execution_count": null,
   "id": "dbbc94da",
   "metadata": {},
   "outputs": [],
   "source": [
    "while 1 :\n",
    "    # faire quelque chose, plus vite avec while 1\n",
    "    \n",
    "while True :\n",
    "    # effectue la même opération mais plus lentement"
   ]
  },
  {
   "cell_type": "markdown",
   "id": "96993755",
   "metadata": {},
   "source": [
    "## 57- Utilisation du module **bisect** pour conserver une liste dans l'ordre trié\n",
    "\n",
    "- https://stackoverflow.com/questions/52996764/python-bisect-insortlist-value\n",
    "- https://docs.python.org/3/library/bisect.html"
   ]
  },
  {
   "cell_type": "code",
   "execution_count": 265,
   "id": "92db137c",
   "metadata": {},
   "outputs": [],
   "source": [
    "# ajoute un élément en ordonnant la liste\n",
    "import bisect\n",
    "\n",
    "bisect.insort(ma_liste, mon_element)"
   ]
  },
  {
   "cell_type": "code",
   "execution_count": 271,
   "id": "982b8c5d",
   "metadata": {},
   "outputs": [
    {
     "name": "stdout",
     "output_type": "stream",
     "text": [
      "[1, 2, 3, 4, 5, 6, 7, 8, 9]\n"
     ]
    }
   ],
   "source": [
    "# Exemple : \n",
    "import bisect\n",
    "\n",
    "liste = [1, 3, 7, 5, 6, 4, 9, 8, 2]\n",
    "\n",
    "resultat = []\n",
    "for x in liste:\n",
    "    bisect.insort(resultat, x)\n",
    "\n",
    "print(resultat)"
   ]
  },
  {
   "cell_type": "markdown",
   "id": "7394c668",
   "metadata": {},
   "source": [
    "## 58- Utilisation d'un dictionnaire et d'un ensemble pour tester l'appartenance d'un élément\n",
    "\n",
    "Comme le dictionnaire et les ensembles sont implémentés à l'aide d'une table de hachage, vérifier si un des éléments existe dans un dictionnaire ou un ensemble est très rapide."
   ]
  },
  {
   "cell_type": "code",
   "execution_count": 272,
   "id": "63420a3e",
   "metadata": {},
   "outputs": [
    {
     "data": {
      "text/plain": [
       "True"
      ]
     },
     "execution_count": 272,
     "metadata": {},
     "output_type": "execute_result"
    }
   ],
   "source": [
    "liste = [\"a\", \"ab\", \"abc\"]\n",
    "\n",
    "# méthode lente : vérifie l'appartenance avec une liste\n",
    "'abc' in liste"
   ]
  },
  {
   "cell_type": "code",
   "execution_count": 276,
   "id": "874b2f9b",
   "metadata": {},
   "outputs": [
    {
     "data": {
      "text/plain": [
       "True"
      ]
     },
     "execution_count": 276,
     "metadata": {},
     "output_type": "execute_result"
    }
   ],
   "source": [
    "# méthode rapide : vérifie l'appartenance avec un dictionnaire\n",
    "ensemble = set(liste) # conversion de la liste en set\n",
    "'abc' in ensemble "
   ]
  },
  {
   "cell_type": "markdown",
   "id": "224dcb9c",
   "metadata": {},
   "source": [
    "## 59- Utiliser des emojis\n",
    "\n",
    "- https://pypi.org/project/emoji/"
   ]
  },
  {
   "cell_type": "code",
   "execution_count": 282,
   "id": "76a3f91d",
   "metadata": {},
   "outputs": [
    {
     "name": "stdout",
     "output_type": "stream",
     "text": [
      "👍\n"
     ]
    }
   ],
   "source": [
    "# pip install emoji\n",
    "from emoji import emojize\n",
    "\n",
    "print(emojize(\":thumbs_up:\"))"
   ]
  },
  {
   "cell_type": "markdown",
   "id": "eb25dc02",
   "metadata": {},
   "source": [
    "## 60- Maintenir son code avec `__future__`\n",
    "\n",
    "Permet de conserver un code compatible même avec des versions ultérieures de Python."
   ]
  },
  {
   "cell_type": "code",
   "execution_count": 5,
   "id": "55294e4a",
   "metadata": {},
   "outputs": [
    {
     "name": "stdout",
     "output_type": "stream",
     "text": [
      "message\n"
     ]
    }
   ],
   "source": [
    "from __future__ import print_function\n",
    "\n",
    "print(\"message\")"
   ]
  },
  {
   "cell_type": "markdown",
   "id": "eabde2ca",
   "metadata": {},
   "source": [
    "## 61- Calculer la distance entre 2 points géographiques avec **geopy**\n",
    "\n",
    "Permet d'obtenir l'adresse complète, la latitude, la longitude et même l'altitude d'un lieu. Il calcule également la distance entre 2 emplacements dans différentes unités de mesure."
   ]
  },
  {
   "cell_type": "code",
   "execution_count": null,
   "id": "58012748",
   "metadata": {},
   "outputs": [],
   "source": [
    "# nécessite une clé d'API\n",
    "# pip install geopy\n",
    "from geopy import GoogleV3\n",
    "\n",
    "place = \"10 Downing Street, London\"\n",
    "location = GoogleV3().geocode(place)\n",
    "\n",
    "print(location.adress)\n",
    "print(location.location)"
   ]
  },
  {
   "cell_type": "markdown",
   "id": "e91f83ac",
   "metadata": {},
   "source": [
    "## 62- Demander de l'aide avec **howdoi**\n",
    "\n",
    "A saisir dans une invite de commande :\n",
    "    \n",
    "`pip install howdoi`\n",
    "\n",
    "Poser des questions en anglais ou saisir des mots-clés. Par exemple :\n",
    "    \n",
    "`howdoi vertical align css`\n",
    "\n",
    "`howdoi for loop in java`\n",
    "\n",
    "`howdoi undo commits in git`"
   ]
  },
  {
   "cell_type": "markdown",
   "id": "2fa56338",
   "metadata": {},
   "source": [
    "## 63- Inspecter votre code avec **inspect**\n",
    "\n",
    "`inspect.getsource` permet d'afficher son propre code source.\n",
    "\n",
    "`inspect.getmodule()` affiche le module dans lequel il a été défini. "
   ]
  },
  {
   "cell_type": "code",
   "execution_count": 286,
   "id": "37ffb483",
   "metadata": {},
   "outputs": [
    {
     "name": "stdout",
     "output_type": "stream",
     "text": [
      "def getsource(object):\n",
      "    \"\"\"Return the text of the source code for an object.\n",
      "\n",
      "    The argument may be a module, class, method, function, traceback, frame,\n",
      "    or code object.  The source code is returned as a single string.  An\n",
      "    OSError is raised if the source code cannot be retrieved.\"\"\"\n",
      "    lines, lnum = getsourcelines(object)\n",
      "    return ''.join(lines)\n",
      "\n",
      "<module 'inspect' from 'C:\\\\Users\\\\utilisateur\\\\anaconda3\\\\lib\\\\inspect.py'>\n",
      "5\n"
     ]
    }
   ],
   "source": [
    "import inspect\n",
    "\n",
    "print(inspect.getsource(inspect.getsource))\n",
    "print(inspect.getmodule(inspect.getmodule))\n",
    "# imprime son propre numéro de ligne\n",
    "print(inspect.currentframe().f_lineno)"
   ]
  },
  {
   "cell_type": "markdown",
   "id": "43874737",
   "metadata": {},
   "source": [
    "## 64- Bibliothèque **jedi**\n",
    "\n",
    "- https://pypi.org/project/jedi/\n",
    "- https://jedi.readthedocs.io/en/latest/\n",
    "    \n",
    "Bibliothèque d'autocomplétion et d'analyse de code : rend l'écriture de code plus rapide et plus productive. "
   ]
  },
  {
   "cell_type": "markdown",
   "id": "3e39b69c",
   "metadata": {},
   "source": [
    "## 65- Webscraping avec **newspaper3k**\n",
    "\n",
    "- https://pypi.org/project/newspaper3k/\n",
    "\n",
    "Permet de récupérer des articles d'actualité et des métadonnées associées à partir d'une gamme de publications internationales de premier plan."
   ]
  },
  {
   "cell_type": "markdown",
   "id": "aee7cc1e",
   "metadata": {},
   "source": [
    "## 66- Bibliothèque **sh**\n",
    "\n",
    "Permet d'appeler n'importe quel programme comme s'il s'agissait d'une fonction ordinaire (pour automatiser les flux de travail et les tâches, par exemple)"
   ]
  },
  {
   "cell_type": "code",
   "execution_count": null,
   "id": "6254a0ca",
   "metadata": {},
   "outputs": [],
   "source": [
    "import sh \n",
    "\n",
    "sh.pwd()\n",
    "sh.mkdir('nouveau_dossier')\n",
    "sh.touch('nouveau_fichier.txt')\n",
    "sh.whoami()\n",
    "sh.echo('Ecrire un message.')"
   ]
  },
  {
   "cell_type": "markdown",
   "id": "6195f03f",
   "metadata": {},
   "source": [
    "## 67- Améliorer la vitesse du code avec **cython**\n",
    "\n",
    "Mélange de C/C++ et de Python.\n",
    "Voir à ce sujet : **cython**, **distuils** et **setuptools**."
   ]
  },
  {
   "cell_type": "code",
   "execution_count": 6,
   "id": "dcd6a390",
   "metadata": {},
   "outputs": [
    {
     "name": "stdout",
     "output_type": "stream",
     "text": [
      "message\n"
     ]
    }
   ],
   "source": [
    "from __future__ import print_function\n",
    "\n",
    "print(\"message\")"
   ]
  },
  {
   "cell_type": "markdown",
   "id": "8c236a6e",
   "metadata": {},
   "source": [
    "## 68- Calculer un pourcentage de remise"
   ]
  },
  {
   "cell_type": "code",
   "execution_count": 6,
   "id": "9156494b",
   "metadata": {},
   "outputs": [
    {
     "name": "stdout",
     "output_type": "stream",
     "text": [
      "La remise est de 7.5 €.\n",
      "L'article coûte 42.5 € au lieu de 50 €.\n"
     ]
    }
   ],
   "source": [
    "## remise de 15% sur 50€\n",
    "cout = 50\n",
    "reduction = 15\n",
    "\n",
    "calcul = (cout * reduction) / 100\n",
    "print(\"La remise est de\", calcul, \"€.\")\n",
    "\n",
    "total = cout - calcul\n",
    "print(\"L'article coûte\", total, \"€ au lieu de\", cout, \"€.\")"
   ]
  },
  {
   "cell_type": "markdown",
   "id": "1cc6900b",
   "metadata": {},
   "source": [
    "## 69- Calculer une moyenne"
   ]
  },
  {
   "cell_type": "code",
   "execution_count": 12,
   "id": "171bd999",
   "metadata": {},
   "outputs": [
    {
     "name": "stdout",
     "output_type": "stream",
     "text": [
      "La moyenne de points est de: 14.0\n"
     ]
    }
   ],
   "source": [
    "points = [12, 20, 7, 3]\n",
    "somme = 0\n",
    "\n",
    "for x in points :\n",
    "    somme += x\n",
    "    \n",
    "moyenne = somme/3\n",
    "print(\"La moyenne de points est de:\", moyenne)"
   ]
  },
  {
   "cell_type": "markdown",
   "id": "5012b7b8",
   "metadata": {},
   "source": [
    "## 70- Calculer la moyenne d'une liste\n",
    "\n",
    "- https://www.geeksforgeeks.org/find-average-list-python/"
   ]
  },
  {
   "cell_type": "code",
   "execution_count": 15,
   "id": "181a28c9",
   "metadata": {},
   "outputs": [],
   "source": [
    "def moyenne(liste):\n",
    "    somme = 0\n",
    "    for nombre in liste :\n",
    "        somme += nombre\n",
    "        \n",
    "    moyenne = somme/3\n",
    "    \n",
    "    return moyenne       "
   ]
  },
  {
   "cell_type": "code",
   "execution_count": 16,
   "id": "8b9881a9",
   "metadata": {},
   "outputs": [
    {
     "data": {
      "text/plain": [
       "14.0"
      ]
     },
     "execution_count": 16,
     "metadata": {},
     "output_type": "execute_result"
    }
   ],
   "source": [
    "moyenne([12, 20, 7, 3])"
   ]
  },
  {
   "cell_type": "markdown",
   "id": "d8194335",
   "metadata": {},
   "source": [
    "### Autre exemple :"
   ]
  },
  {
   "cell_type": "code",
   "execution_count": 18,
   "id": "cb26dd9b",
   "metadata": {},
   "outputs": [],
   "source": [
    "def moyenne(liste):\n",
    "    return sum(liste) / len(liste)"
   ]
  },
  {
   "cell_type": "code",
   "execution_count": 19,
   "id": "93438a38",
   "metadata": {},
   "outputs": [
    {
     "name": "stdout",
     "output_type": "stream",
     "text": [
      "13.5\n"
     ]
    }
   ],
   "source": [
    "notes = (15, 7, 19, 13)\n",
    "\n",
    "print(moyenne(notes))"
   ]
  },
  {
   "cell_type": "markdown",
   "id": "65026df9",
   "metadata": {},
   "source": [
    "## 71- Savoir si un nombre est pair ou impair"
   ]
  },
  {
   "cell_type": "code",
   "execution_count": 8,
   "id": "7d8d6f29",
   "metadata": {},
   "outputs": [],
   "source": [
    "def nombre(a):\n",
    "    if a % 2 == 0 :\n",
    "        print(\"pair\")\n",
    "    else :\n",
    "        print(\"impair\")"
   ]
  },
  {
   "cell_type": "code",
   "execution_count": 9,
   "id": "ef84ec49",
   "metadata": {},
   "outputs": [
    {
     "name": "stdout",
     "output_type": "stream",
     "text": [
      "impair\n",
      "pair\n"
     ]
    }
   ],
   "source": [
    "nombre(35)\n",
    "nombre(2)"
   ]
  },
  {
   "cell_type": "markdown",
   "id": "dcf50a88",
   "metadata": {},
   "source": [
    "### Avec la fonction `map()`"
   ]
  },
  {
   "cell_type": "code",
   "execution_count": 10,
   "id": "d38a0fba",
   "metadata": {},
   "outputs": [
    {
     "name": "stdout",
     "output_type": "stream",
     "text": [
      "pair\n",
      "pair\n",
      "impair\n",
      "impair\n",
      "impair\n"
     ]
    }
   ],
   "source": [
    "liste = [32, 76, 99, 1, 33]\n",
    "\n",
    "test = list(map(nombre, liste))"
   ]
  },
  {
   "cell_type": "markdown",
   "id": "73df422b",
   "metadata": {},
   "source": [
    "## 72- Savoir si un nombre est positif ou négatif"
   ]
  },
  {
   "cell_type": "code",
   "execution_count": 59,
   "id": "b888ab59",
   "metadata": {},
   "outputs": [],
   "source": [
    "def nombre(a):\n",
    "    if a > 0 :\n",
    "        print(\"Positif\")\n",
    "    elif a == 0 :\n",
    "        print(\"0\")\n",
    "    else : \n",
    "        print(\"Négatif\")"
   ]
  },
  {
   "cell_type": "code",
   "execution_count": 62,
   "id": "0c4b4c87",
   "metadata": {},
   "outputs": [
    {
     "name": "stdout",
     "output_type": "stream",
     "text": [
      "Négatif\n"
     ]
    }
   ],
   "source": [
    "nombre(-17)"
   ]
  },
  {
   "cell_type": "markdown",
   "id": "23e58f26",
   "metadata": {},
   "source": [
    "## 73- Calculer l'indice de masse corporelle (IMC)"
   ]
  },
  {
   "cell_type": "code",
   "execution_count": 67,
   "id": "873f2399",
   "metadata": {},
   "outputs": [
    {
     "name": "stdout",
     "output_type": "stream",
     "text": [
      "Taille :1.80\n",
      "Poids : 80\n",
      "Normal.\n"
     ]
    }
   ],
   "source": [
    "taille = float(input(\"Taille :\"))\n",
    "poids = int(input(\"Poids : \"))\n",
    "\n",
    "indice = poids / (taille * taille)\n",
    "\n",
    "if indice <= 18 :\n",
    "    print(\"Insuffisance pondérale.\")\n",
    "elif indice > 18 and indice <= 25 :\n",
    "    print(\"Normal.\")\n",
    "elif indice > 25 :\n",
    "    print(\"Surpoids.\")\n",
    "else :\n",
    "    print(\"Obésité.\")"
   ]
  },
  {
   "cell_type": "markdown",
   "id": "de4fc12e",
   "metadata": {},
   "source": [
    "### Avec une fonction "
   ]
  },
  {
   "cell_type": "code",
   "execution_count": 68,
   "id": "cd003d35",
   "metadata": {},
   "outputs": [],
   "source": [
    "def IMC(taille, poids):\n",
    "    indice = poids / (taille * taille)\n",
    "    if indice <= 18 :\n",
    "        print(\"Insuffisance pondérale.\")\n",
    "    elif indice > 18 and indice <= 25 :\n",
    "        print(\"Normal.\")\n",
    "    elif indice > 25 :\n",
    "        print(\"Surpoids.\")\n",
    "    else :\n",
    "        print(\"Obésité.\")"
   ]
  },
  {
   "cell_type": "code",
   "execution_count": 73,
   "id": "3fe60185",
   "metadata": {},
   "outputs": [
    {
     "name": "stdout",
     "output_type": "stream",
     "text": [
      "Normal.\n"
     ]
    }
   ],
   "source": [
    "IMC(1.80, 80)"
   ]
  },
  {
   "cell_type": "markdown",
   "id": "26bb6b84",
   "metadata": {},
   "source": [
    "## 74- Lister les nombres de 1 à 100"
   ]
  },
  {
   "cell_type": "code",
   "execution_count": 74,
   "id": "cb67b36c",
   "metadata": {},
   "outputs": [
    {
     "name": "stdout",
     "output_type": "stream",
     "text": [
      "[1, 2, 3, 4, 5, 6, 7, 8, 9, 10, 11, 12, 13, 14, 15, 16, 17, 18, 19, 20, 21, 22, 23, 24, 25, 26, 27, 28, 29, 30, 31, 32, 33, 34, 35, 36, 37, 38, 39, 40, 41, 42, 43, 44, 45, 46, 47, 48, 49, 50, 51, 52, 53, 54, 55, 56, 57, 58, 59, 60, 61, 62, 63, 64, 65, 66, 67, 68, 69, 70, 71, 72, 73, 74, 75, 76, 77, 78, 79, 80, 81, 82, 83, 84, 85, 86, 87, 88, 89, 90, 91, 92, 93, 94, 95, 96, 97, 98, 99, 100]\n"
     ]
    }
   ],
   "source": [
    "liste = [x for x in range(1, 101)]\n",
    "print(liste)"
   ]
  },
  {
   "cell_type": "markdown",
   "id": "506f2787",
   "metadata": {},
   "source": [
    "## 75- Lister les nombres pairs de 1 à 100"
   ]
  },
  {
   "cell_type": "code",
   "execution_count": 76,
   "id": "44e71333",
   "metadata": {},
   "outputs": [
    {
     "name": "stdout",
     "output_type": "stream",
     "text": [
      "[2, 4, 6, 8, 10, 12, 14, 16, 18, 20, 22, 24, 26, 28, 30, 32, 34, 36, 38, 40, 42, 44, 46, 48, 50, 52, 54, 56, 58, 60, 62, 64, 66, 68, 70, 72, 74, 76, 78, 80, 82, 84, 86, 88, 90, 92, 94, 96, 98, 100]\n"
     ]
    }
   ],
   "source": [
    "liste = [x for x in range(1, 101) if x % 2 == 0]\n",
    "print(liste)"
   ]
  },
  {
   "cell_type": "markdown",
   "id": "7e1f4f66",
   "metadata": {},
   "source": [
    "## 76- Lister les nombres impairs de 1 à 100"
   ]
  },
  {
   "cell_type": "code",
   "execution_count": 77,
   "id": "2d360601",
   "metadata": {},
   "outputs": [
    {
     "name": "stdout",
     "output_type": "stream",
     "text": [
      "[1, 3, 5, 7, 9, 11, 13, 15, 17, 19, 21, 23, 25, 27, 29, 31, 33, 35, 37, 39, 41, 43, 45, 47, 49, 51, 53, 55, 57, 59, 61, 63, 65, 67, 69, 71, 73, 75, 77, 79, 81, 83, 85, 87, 89, 91, 93, 95, 97, 99, 101, 103, 105, 107, 109, 111, 113, 115, 117, 119]\n"
     ]
    }
   ],
   "source": [
    "liste = [x for x in range(1, 121) if x % 2 != 0]\n",
    "print(liste)"
   ]
  },
  {
   "cell_type": "markdown",
   "id": "38d27d9c",
   "metadata": {},
   "source": [
    "## 77- Trouver les nombres entre 1 et 100 divisibles par 3 et 5"
   ]
  },
  {
   "cell_type": "code",
   "execution_count": 80,
   "id": "58d6ceac",
   "metadata": {},
   "outputs": [
    {
     "name": "stdout",
     "output_type": "stream",
     "text": [
      "[15, 30, 45, 60, 75, 90]\n"
     ]
    }
   ],
   "source": [
    "liste = [x for x in range(1, 101) if x % 3 == 0 and x % 5 == 0]\n",
    "print(liste)"
   ]
  },
  {
   "cell_type": "markdown",
   "id": "1dc97b2e",
   "metadata": {},
   "source": [
    "## 78- Trouver un chiffre souhaité de 0 à 99"
   ]
  },
  {
   "cell_type": "code",
   "execution_count": 101,
   "id": "d0525ab5",
   "metadata": {},
   "outputs": [],
   "source": [
    "def trouver_chiffre():\n",
    "    chiffre = input(\"Entrez un chiffre en 0 et 9 : \")\n",
    "    liste = [str(x) for x in range(0, 100)]\n",
    "    liste_nombres = []\n",
    "    for x in liste:\n",
    "        if chiffre in x :\n",
    "            liste_nombres.append(int(x))\n",
    "    print(\"Le chiffre \", chiffre, \"apparaît :\", len(liste_nombres), \"fois.\")\n",
    "    return liste_nombres"
   ]
  },
  {
   "cell_type": "code",
   "execution_count": 107,
   "id": "02a6fb99",
   "metadata": {},
   "outputs": [
    {
     "name": "stdout",
     "output_type": "stream",
     "text": [
      "Entrez un chiffre en 0 et 9 : 9\n",
      "Le chiffre  9 apparaît : 19 fois.\n"
     ]
    },
    {
     "data": {
      "text/plain": [
       "[9, 19, 29, 39, 49, 59, 69, 79, 89, 90, 91, 92, 93, 94, 95, 96, 97, 98, 99]"
      ]
     },
     "execution_count": 107,
     "metadata": {},
     "output_type": "execute_result"
    }
   ],
   "source": [
    "trouver_chiffre()"
   ]
  },
  {
   "cell_type": "markdown",
   "id": "8905a73d",
   "metadata": {},
   "source": [
    "## 79- Lister les nombres de 1 au nombre saisi en input"
   ]
  },
  {
   "cell_type": "code",
   "execution_count": 111,
   "id": "1c05d8e6",
   "metadata": {},
   "outputs": [
    {
     "name": "stdout",
     "output_type": "stream",
     "text": [
      "Entrez un nombre : 56\n",
      "[1, 2, 3, 4, 5, 6, 7, 8, 9, 10, 11, 12, 13, 14, 15, 16, 17, 18, 19, 20, 21, 22, 23, 24, 25, 26, 27, 28, 29, 30, 31, 32, 33, 34, 35, 36, 37, 38, 39, 40, 41, 42, 43, 44, 45, 46, 47, 48, 49, 50, 51, 52, 53, 54, 55, 56]\n"
     ]
    }
   ],
   "source": [
    "nombre = int(input(\"Entrez un nombre : \"))\n",
    "\n",
    "liste = [x for x in range(1, nombre + 1)]\n",
    "print(liste)"
   ]
  },
  {
   "cell_type": "markdown",
   "id": "0c803eaa",
   "metadata": {},
   "source": [
    "## 80- Trouver l'aire et le périmètre d'un rectangle à partir de ses côtés"
   ]
  },
  {
   "cell_type": "code",
   "execution_count": 114,
   "id": "b669005f",
   "metadata": {},
   "outputs": [],
   "source": [
    "def rectangle(cote_court, cote_long):\n",
    "    aire = int(cote_court) * int(cote_long)\n",
    "    perimetre = 2 * (int(cote_court) + int(cote_long))\n",
    "    resultat = print(\"aire :\", aire, \", périmètre : \", perimetre)\n",
    "    return resultat"
   ]
  },
  {
   "cell_type": "code",
   "execution_count": 115,
   "id": "90c68619",
   "metadata": {},
   "outputs": [
    {
     "name": "stdout",
     "output_type": "stream",
     "text": [
      "aire : 150 , périmètre :  50\n"
     ]
    }
   ],
   "source": [
    "rectangle(10, 15)"
   ]
  },
  {
   "cell_type": "markdown",
   "id": "a82b542a",
   "metadata": {},
   "source": [
    "## 81- Afficher les lettres les unes sous les autres d'un texte saisi"
   ]
  },
  {
   "cell_type": "code",
   "execution_count": 116,
   "id": "0a4509ba",
   "metadata": {
    "scrolled": true
   },
   "outputs": [
    {
     "name": "stdout",
     "output_type": "stream",
     "text": [
      "C\n",
      "e\n",
      "c\n",
      "i\n",
      " \n",
      "e\n",
      "s\n",
      "t\n",
      " \n",
      "u\n",
      "n\n",
      " \n",
      "t\n",
      "e\n",
      "s\n",
      "t\n"
     ]
    }
   ],
   "source": [
    "texte = \"Ceci est un test\"\n",
    "for lettre in texte :\n",
    "    print(lettre)"
   ]
  },
  {
   "cell_type": "markdown",
   "id": "5175f72b",
   "metadata": {},
   "source": [
    "## 82 - Afficher la somme des nombres entre 2 nombres "
   ]
  },
  {
   "cell_type": "code",
   "execution_count": 132,
   "id": "10e34cf5",
   "metadata": {},
   "outputs": [],
   "source": [
    "def somme(num1, num2):\n",
    "    somme = 0\n",
    "\n",
    "    for i in range(int(num1)+1, int(num2)):\n",
    "        somme += i\n",
    "\n",
    "    return somme"
   ]
  },
  {
   "cell_type": "code",
   "execution_count": 134,
   "id": "e007ece4",
   "metadata": {},
   "outputs": [
    {
     "data": {
      "text/plain": [
       "441"
      ]
     },
     "execution_count": 134,
     "metadata": {},
     "output_type": "execute_result"
    }
   ],
   "source": [
    "somme(10, 32)"
   ]
  },
  {
   "cell_type": "markdown",
   "id": "153b015e",
   "metadata": {},
   "source": [
    "## 83- Programme : réduction de prix\n",
    "\n",
    "Vous devez payer 10€ pour un film et 5€ pour aller au théâtre. Les étudiants ont 50% de réduction. Ecrire un programme qui calcule le montant selon la situation de l'utilisateur et qui affiche le résultat final."
   ]
  },
  {
   "cell_type": "code",
   "execution_count": 153,
   "id": "07ea57c6",
   "metadata": {},
   "outputs": [],
   "source": [
    "def programme():\n",
    "    choix = int(input(\"Voulez-vous aller au cinéma (1) ou au théâtre (2) ? \"))\n",
    "    situation = input(\"Etes-vous étudiant ? (O/N) \")\n",
    "    \n",
    "    prix_cinema = 10\n",
    "    prix_theatre = 5\n",
    "    phrase = \"Votre place de cinéma vous coûte \"\n",
    "    \n",
    "    if choix == 1 and situation == \"O\" :\n",
    "        print(phrase, prix_cinema/2, \"€\")\n",
    "    elif choix == 1 and situation == \"N\" :\n",
    "        print(phrase, prix_cinema, \"€\")\n",
    "    elif choix == 2 and situation == \"O\" :\n",
    "        print(phrase, prix_theatre/2, \"€\")\n",
    "    elif choix == 2 and situation == \"N\" :\n",
    "        print(phrase, prix_theatre, \"€\")\n",
    "    else :\n",
    "        print(\"Erreur dans la saisie. Vueillez entrer une valeur valide\")"
   ]
  },
  {
   "cell_type": "code",
   "execution_count": 154,
   "id": "2e633229",
   "metadata": {},
   "outputs": [
    {
     "name": "stdout",
     "output_type": "stream",
     "text": [
      "Voulez-vous aller au cinéma (1) ou au théâtre (2) ? 1\n",
      "Etes-vous étudiant ? (O/N) O\n",
      "Votre place de cinéma vous coûte  5.0 €\n"
     ]
    }
   ],
   "source": [
    "programme()"
   ]
  },
  {
   "cell_type": "markdown",
   "id": "048c41f2",
   "metadata": {},
   "source": [
    "### Autre exemple :"
   ]
  },
  {
   "cell_type": "code",
   "execution_count": 151,
   "id": "4ef633be",
   "metadata": {
    "scrolled": true
   },
   "outputs": [
    {
     "name": "stdout",
     "output_type": "stream",
     "text": [
      "Voulez-vous aller au cinéma (1) ou au théâtre (2) ?2\n",
      "Etes-vous étudiant ? (O/N)N\n",
      "Vous devez payer :5\n"
     ]
    }
   ],
   "source": [
    "selection = int(input(\"Voulez-vous aller au cinéma (1) ou au théâtre (2) ? \"))\n",
    "situation = input(\"Etes-vous étudiant ? (O/N) \")\n",
    "prix = 0\n",
    "\n",
    "# calcul du prix d'entrée sans réduction :\n",
    "if selection == 1 :\n",
    "    prix = 10\n",
    "elif selection == 2 :\n",
    "    prix = 5\n",
    "    \n",
    "# remise etudiant\n",
    "if situation == '0' or situation == 'o':\n",
    "    prix = prix / 2\n",
    "    \n",
    "print(\"Vous devez payer :{}\".format(prix))"
   ]
  },
  {
   "cell_type": "markdown",
   "id": "0903174c",
   "metadata": {},
   "source": [
    "## 84- Savoir si un nombre est premier ou non"
   ]
  },
  {
   "cell_type": "code",
   "execution_count": 178,
   "id": "b3e8c3c3",
   "metadata": {},
   "outputs": [
    {
     "name": "stdout",
     "output_type": "stream",
     "text": [
      "Entrez un nombre : 45\n",
      "45 n'est pas un nombre premier.\n",
      "3 fois 15 fait 45\n"
     ]
    }
   ],
   "source": [
    "nombre = int(input(\"Entrez un nombre : \"))\n",
    "\n",
    "if nombre > 1 :\n",
    "    for i in range(2, nombre):\n",
    "        if (nombre % i)== 0 :\n",
    "            print(nombre, \"n'est pas un nombre premier.\")\n",
    "            print(i, \"fois\", nombre//i, \"fait\", nombre)\n",
    "            break\n",
    "    else :\n",
    "        print(nombre, \"est un nombre premier.\")\n",
    "        \n",
    "else : print(nombre, \"n'est pas un nombre premier.\")"
   ]
  },
  {
   "cell_type": "markdown",
   "id": "a4aceab7",
   "metadata": {},
   "source": [
    "## 85- Trouver séparément la somme des nombres pairs et impairs jusqu'au nombre saisi par l'utilisateur :"
   ]
  },
  {
   "cell_type": "code",
   "execution_count": 19,
   "id": "3a1ffa8e",
   "metadata": {},
   "outputs": [
    {
     "name": "stdout",
     "output_type": "stream",
     "text": [
      "Entrez le nombre d'éléments de la liste : 5\n",
      "Entrez la valeur de l'élément numéro 1 Element : 1\n",
      "Entrez la valeur de l'élément numéro 2 Element : 2\n",
      "Entrez la valeur de l'élément numéro 3 Element : 3\n",
      "Entrez la valeur de l'élément numéro 4 Element : 4\n",
      "Entrez la valeur de l'élément numéro 5 Element : 5\n",
      "\n",
      "-------------------------\n",
      "\n",
      "Somme des nombres impairs :  9\n",
      "Somme des nombres pairs :  6\n"
     ]
    }
   ],
   "source": [
    "liste_nombres = []\n",
    "pairs = 0\n",
    "impairs = 0\n",
    "\n",
    "nombre = int(input(\"Entrez le nombre d'éléments de la liste : \"))\n",
    "for i in range(1, nombre + 1):\n",
    "    valeur = int(input(\"Entrez la valeur de l'élément numéro %d Element : \" %i))\n",
    "    liste_nombres.append(valeur)\n",
    "    \n",
    "for j in range(nombre):\n",
    "    if (liste_nombres[j] % 2 == 0):\n",
    "        pairs = pairs + liste_nombres[j]\n",
    "    else :\n",
    "        impairs = impairs + liste_nombres[j]\n",
    "\n",
    "print(\"\\n-------------------------\\n\")\n",
    "print(\"Somme des nombres impairs : \", impairs)\n",
    "print(\"Somme des nombres pairs : \", pairs)"
   ]
  },
  {
   "cell_type": "markdown",
   "id": "3ea0ae9d",
   "metadata": {},
   "source": [
    "## 86- Calculer l'augmentation de salaire d'une personne dont on indique le salaire et le taux d'augmentation "
   ]
  },
  {
   "cell_type": "code",
   "execution_count": 22,
   "id": "d140d697",
   "metadata": {},
   "outputs": [
    {
     "name": "stdout",
     "output_type": "stream",
     "text": [
      "Entrez votre salaire : 1200\n",
      "Quel est le taux d'augmentation : 5\n",
      "Votre nouveau salaire est :  1260.0\n"
     ]
    }
   ],
   "source": [
    "nouveau_salaire = 0\n",
    "\n",
    "salaire = int(input(\"Entrez votre salaire : \"))\n",
    "augmentation = int(input(\"Quel est le taux d'augmentation : \"))\n",
    "\n",
    "nouveau_salaire = salaire + salaire * augmentation / 100\n",
    "\n",
    "print(\"Votre nouveau salaire est : \", nouveau_salaire)"
   ]
  },
  {
   "cell_type": "markdown",
   "id": "ce29d997",
   "metadata": {},
   "source": [
    "## 87- Calculer l'aire et la circonférence d'un cercle dont le rayon est saisi à l'aide de la fonction en python : "
   ]
  },
  {
   "cell_type": "code",
   "execution_count": 25,
   "id": "aa3aa4f2",
   "metadata": {},
   "outputs": [
    {
     "name": "stdout",
     "output_type": "stream",
     "text": [
      "Entrez le rayon du cercle : 10\n",
      "Diamètre : 20.0 , Circonférence : 62.83185307179586 , Aire :  314.1592653589793\n"
     ]
    }
   ],
   "source": [
    "import math\n",
    "\n",
    "def diametre(rayon):\n",
    "    return 2 * rayon\n",
    "\n",
    "def circonference(rayon):\n",
    "    return 2 * math.pi * rayon\n",
    "\n",
    "def aire(rayon):\n",
    "    return math.pi * rayon * rayon\n",
    "\n",
    "r = float(input(\"Entrez le rayon du cercle : \"))\n",
    "\n",
    "v_diametre = diametre(r)\n",
    "v_circonference = circonference(r)\n",
    "v_aire = aire(r)\n",
    "\n",
    "print(\"Diamètre :\", v_diametre, \", Circonférence :\", v_circonference, \", Aire : \", v_aire)"
   ]
  },
  {
   "cell_type": "markdown",
   "id": "f77fdef0",
   "metadata": {},
   "source": [
    "## 88- Calculer l'aire d'un rectangle à partir de la largeur et de la longeur"
   ]
  },
  {
   "cell_type": "code",
   "execution_count": 27,
   "id": "bcade495",
   "metadata": {},
   "outputs": [
    {
     "name": "stdout",
     "output_type": "stream",
     "text": [
      "Largeur du rectangle : 10\n",
      "Longueur du rectangle : 23\n",
      "Aire : 230\n",
      "Périmètre : 66\n"
     ]
    }
   ],
   "source": [
    "def aire(a, b):\n",
    "    return a * b\n",
    "\n",
    "def perimetre(a,b):\n",
    "    return 2 * (a + b)\n",
    "\n",
    "largeur = int(input(\"Largeur du rectangle : \"))\n",
    "longueur = int(input(\"Longueur du rectangle : \")) \n",
    "\n",
    "print(\"Aire :\", aire(largeur, longueur))\n",
    "print(\"Périmètre :\", perimetre(largeur, longueur))"
   ]
  },
  {
   "cell_type": "code",
   "execution_count": null,
   "id": "8199e6b3",
   "metadata": {},
   "outputs": [],
   "source": []
  }
 ],
 "metadata": {
  "kernelspec": {
   "display_name": "Python 3 (ipykernel)",
   "language": "python",
   "name": "python3"
  },
  "language_info": {
   "codemirror_mode": {
    "name": "ipython",
    "version": 3
   },
   "file_extension": ".py",
   "mimetype": "text/x-python",
   "name": "python",
   "nbconvert_exporter": "python",
   "pygments_lexer": "ipython3",
   "version": "3.8.3"
  }
 },
 "nbformat": 4,
 "nbformat_minor": 5
}
