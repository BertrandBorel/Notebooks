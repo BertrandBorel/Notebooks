{
 "cells": [
  {
   "cell_type": "markdown",
   "id": "8b3514ce",
   "metadata": {},
   "source": [
    "# <center> TKinter </center>\n",
    "\n",
    "Présentation de la bibliothèque d'interface graphique Tkinter en Python."
   ]
  },
  {
   "cell_type": "markdown",
   "id": "04a983f2",
   "metadata": {},
   "source": [
    "---"
   ]
  },
  {
   "cell_type": "markdown",
   "id": "c9a72794",
   "metadata": {},
   "source": [
    "## Créer une fenêtre avec TKinter "
   ]
  },
  {
   "cell_type": "code",
   "execution_count": 3,
   "id": "3403294e",
   "metadata": {},
   "outputs": [],
   "source": [
    "from tkinter import *\n",
    "\n",
    "# fenêtre\n",
    "window = Tk()\n",
    "\n",
    "# ajout de widgets\n",
    "# titre\n",
    "window.title(\"Entrez un titre\")\n",
    "# taille de la fenêtre\n",
    "window.geometry(\"300x200+10+20\")\n",
    "                \n",
    "# lancement de la fenêtre\n",
    "window.mainloop()"
   ]
  }
 ],
 "metadata": {
  "kernelspec": {
   "display_name": "Python 3 (ipykernel)",
   "language": "python",
   "name": "python3"
  },
  "language_info": {
   "codemirror_mode": {
    "name": "ipython",
    "version": 3
   },
   "file_extension": ".py",
   "mimetype": "text/x-python",
   "name": "python",
   "nbconvert_exporter": "python",
   "pygments_lexer": "ipython3",
   "version": "3.8.3"
  }
 },
 "nbformat": 4,
 "nbformat_minor": 5
}
